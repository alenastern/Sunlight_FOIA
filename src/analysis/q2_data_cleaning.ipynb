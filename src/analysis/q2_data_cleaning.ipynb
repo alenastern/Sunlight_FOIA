{
 "cells": [
  {
   "cell_type": "code",
   "execution_count": 1,
   "metadata": {},
   "outputs": [
    {
     "name": "stdout",
     "output_type": "stream",
     "text": [
      "Populating the interactive namespace from numpy and matplotlib\n"
     ]
    }
   ],
   "source": [
    "# system tools\n",
    "import warnings\n",
    "import json\n",
    "import sys\n",
    "import string\n",
    "import ast\n",
    "\n",
    "# data cleaning + analysis tools\n",
    "import pandas as pd\n",
    "import datetime as dt\n",
    "import numpy as np\n",
    "import re\n",
    "import matplotlib.pyplot as plt\n",
    "import seaborn as sns\n",
    "\n",
    "#nltk tools\n",
    "import spacy\n",
    "import lda #Latent Dirichlet Allocation (create topics)\n",
    "import gensim\n",
    "from gensim import corpora, models #for constructing document term matrix\n",
    "#from stop_words import get_stop_words\n",
    "from gensim.models import Phrases\n",
    "from collections import Counter\n",
    "import nltk\n",
    "from nltk.corpus import stopwords\n",
    "from nltk.stem.wordnet import WordNetLemmatizer\n",
    "from nltk.corpus import wordnet\n",
    "from nltk.util import ngrams\n",
    "\n",
    "#set notebook preferences\n",
    "pd.set_option('display.height', 1000)\n",
    "pd.set_option('display.max_rows', 500)\n",
    "pd.set_option('display.max_columns', 500)\n",
    "pd.set_option('display.max_colwidth', 1000)\n",
    "pd.set_option('display.width', 1000)\n",
    "warnings.filterwarnings('ignore')\n",
    "\n",
    "%pylab inline\n",
    "pylab.rcParams['figure.figsize'] = (10, 6)"
   ]
  },
  {
   "cell_type": "markdown",
   "metadata": {},
   "source": [
    "### Import JSON file with city metadata - including which cities have sufficient Public Record Request (PRR) data for analysis"
   ]
  },
  {
   "cell_type": "code",
   "execution_count": 2,
   "metadata": {
    "collapsed": true
   },
   "outputs": [],
   "source": [
    "json_file = '../data/cities.json'\n",
    "\n",
    "with open(json_file, 'r') as f:\n",
    "    md = json.load(f)"
   ]
  },
  {
   "cell_type": "markdown",
   "metadata": {},
   "source": [
    "###  Create dataframe of PRR data for all relevant cities"
   ]
  },
  {
   "cell_type": "code",
   "execution_count": 3,
   "metadata": {},
   "outputs": [
    {
     "name": "stdout",
     "output_type": "stream",
     "text": [
      "Arlington city\n",
      "Asheville city\n",
      "Bainbridge Island city\n",
      "Boulder County\n",
      "Cathedral City city\n",
      "Clearwater city\n",
      "Dayton city\n",
      "Denton city\n",
      "Everett city\n",
      "Fort Collins city\n",
      "Greensboro city\n",
      "Hayward city\n",
      "Kirkland city\n",
      "Las Cruces city\n",
      "Lynnwood city\n",
      "Mercer Island city\n",
      "Miami city\n",
      "Middleborough town\n",
      "New Orleans city\n",
      "Oakland city\n",
      "Oklahoma City city\n",
      "Olympia city\n",
      "Palo Alto city\n",
      "Peoria city\n",
      "Pullman city\n",
      "Rancho Cucamonga city\n",
      "Redmond city\n",
      "Renton city\n",
      "Sacramento city\n",
      "San Francisco city\n",
      "Tukwila city\n",
      "Vallejo city\n",
      "West Sacramento city\n",
      "Winchester city\n",
      "['Arlington', 'Asheville', 'Bainbridge', 'Island', 'Boulder', 'Cathedral', 'City', 'Clearwater', 'Dayton', 'Denton', 'Everett', 'Fort', 'Collins', 'Greensboro', 'Hayward', 'Kirkland', 'Las', 'Cruces', 'Lynnwood', 'Mercer', 'Island', 'Miami', 'Middleborough', 'New', 'Orleans', 'Oakland', 'Oklahoma', 'City', 'Olympia', 'Palo', 'Alto', 'Peoria', 'Pullman', 'Rancho', 'Cucamonga', 'Redmond', 'Renton', 'Sacramento', 'San', 'Francisco', 'Tukwila', 'Vallejo', 'West', 'Sacramento', 'Winchester']\n"
     ]
    }
   ],
   "source": [
    "data_raw = pd.DataFrame(columns = ['city', 'month_year', 'Summary'])\n",
    "city_list = []\n",
    "for key, value in md.items():\n",
    "    city = value['name']\n",
    "    filepath = '/Users/alenastern/Google Drive File Stream/My Drive/Alena_Project/PR_Data/{}.csv'.format(city)\n",
    "    if value[\"desc\"] == \"Y\":\n",
    "        try:\n",
    "            df = pd.read_csv(filepath)\n",
    "        except:\n",
    "            try:\n",
    "                df = pd.read_csv(filepath, encoding='mac_roman')\n",
    "            except:\n",
    "                continue\n",
    "        print(key)\n",
    "        name = key.split(' ')\n",
    "        # remove lower for new version\n",
    "        city_list.extend([x for x in name[:-1]])\n",
    "    else:\n",
    "        continue\n",
    "    \n",
    "    try:\n",
    "        df['Create Date'] = pd.to_datetime(df['Create Date'])\n",
    "    except:\n",
    "        df['New'] = pd.to_datetime(df['Create Date'].apply(lambda x: re.findall('^\\S*', x)[0]))\n",
    "        df.drop(columns=['Create Date'], inplace = True)\n",
    "        df.rename(index=str, columns={\"New\": \"Create Date\"}, inplace = True)\n",
    "\n",
    "    df['month_year'] = df['Create Date'].dt.to_period('M')\n",
    "    \n",
    "    mc = df[['month_year', 'Summary']]\n",
    "    mc['city'] = city\n",
    "    \n",
    "    data_raw = pd.concat([data_raw, mc])\n",
    "    \n",
    "print(city_list)"
   ]
  },
  {
   "cell_type": "markdown",
   "metadata": {},
   "source": [
    "#### We can see the raw data below. Our raw dataset includes 86,416 PRRs from 33 different cities"
   ]
  },
  {
   "cell_type": "code",
   "execution_count": 4,
   "metadata": {
    "collapsed": true
   },
   "outputs": [],
   "source": [
    "data_raw.to_csv('data_raw.csv')"
   ]
  },
  {
   "cell_type": "code",
   "execution_count": 5,
   "metadata": {
    "collapsed": true
   },
   "outputs": [],
   "source": [
    "data_raw = pd.read_csv('data_raw.csv')"
   ]
  },
  {
   "cell_type": "code",
   "execution_count": 6,
   "metadata": {},
   "outputs": [
    {
     "data": {
      "text/plain": [
       "(110138, 4)"
      ]
     },
     "execution_count": 6,
     "metadata": {},
     "output_type": "execute_result"
    }
   ],
   "source": [
    "data_raw.shape"
   ]
  },
  {
   "cell_type": "code",
   "execution_count": 7,
   "metadata": {},
   "outputs": [
    {
     "data": {
      "text/plain": [
       "34"
      ]
     },
     "execution_count": 7,
     "metadata": {},
     "output_type": "execute_result"
    }
   ],
   "source": [
    "len(data_raw.city.unique())"
   ]
  },
  {
   "cell_type": "code",
   "execution_count": 8,
   "metadata": {
    "collapsed": true
   },
   "outputs": [],
   "source": [
    "data_raw.index = pd.RangeIndex(len(data_raw.index))\n",
    "data_raw.reset_index(inplace=True)"
   ]
  },
  {
   "cell_type": "markdown",
   "metadata": {},
   "source": [
    "### Create dataframe for cleaning by removing null summaries"
   ]
  },
  {
   "cell_type": "code",
   "execution_count": 9,
   "metadata": {
    "collapsed": true
   },
   "outputs": [],
   "source": [
    "data = data_raw.dropna(subset=['Summary'])"
   ]
  },
  {
   "cell_type": "code",
   "execution_count": 10,
   "metadata": {},
   "outputs": [
    {
     "data": {
      "text/html": [
       "<div>\n",
       "<style scoped>\n",
       "    .dataframe tbody tr th:only-of-type {\n",
       "        vertical-align: middle;\n",
       "    }\n",
       "\n",
       "    .dataframe tbody tr th {\n",
       "        vertical-align: top;\n",
       "    }\n",
       "\n",
       "    .dataframe thead th {\n",
       "        text-align: right;\n",
       "    }\n",
       "</style>\n",
       "<table border=\"1\" class=\"dataframe\">\n",
       "  <thead>\n",
       "    <tr style=\"text-align: right;\">\n",
       "      <th></th>\n",
       "      <th>index</th>\n",
       "      <th>Unnamed: 0</th>\n",
       "      <th>Summary</th>\n",
       "      <th>city</th>\n",
       "      <th>month_year</th>\n",
       "    </tr>\n",
       "  </thead>\n",
       "  <tbody>\n",
       "    <tr>\n",
       "      <th>0</th>\n",
       "      <td>0</td>\n",
       "      <td>0</td>\n",
       "      <td>We are working with an engineering firm on an upcoming project.  They have asked us to gather maps for this project.  Would you be able to assist me in gathering maps/records (as builds) for any underground water facilities you may have?  Something just showing the route of the water lines would do.\\n\\n207th ST NE to 92nd Ave NE, Arlington, Cascade Surveying &amp; Engineering \\n\\nI have attached the scope for your convenience.  Please let me know if you have questions.</td>\n",
       "      <td>Arlington</td>\n",
       "      <td>2018-06</td>\n",
       "    </tr>\n",
       "    <tr>\n",
       "      <th>1</th>\n",
       "      <td>1</td>\n",
       "      <td>1</td>\n",
       "      <td>Need copies of contracts and all related documents pertaining to Topcub Aircraft property located at 17922 59th DR NE Arlington WA 98223 between Arlington Airport, Topcub Aircraft, City of Arlington, HCI Steel Buildings and PUD.</td>\n",
       "      <td>Arlington</td>\n",
       "      <td>2018-06</td>\n",
       "    </tr>\n",
       "    <tr>\n",
       "      <th>2</th>\n",
       "      <td>2</td>\n",
       "      <td>2</td>\n",
       "      <td>Copies of Building Permits of $5,000 valuation and up ($20,000 min for Re-Roofs), ($50,000 min. for Cell Tower upgrades), (Electrical, Mechanical &amp; Plumbing at $100,000 min.) and (Solar Panels, Swimming Pools &amp; Foundations at any valuation)</td>\n",
       "      <td>Arlington</td>\n",
       "      <td>2018-06</td>\n",
       "    </tr>\n",
       "    <tr>\n",
       "      <th>3</th>\n",
       "      <td>3</td>\n",
       "      <td>3</td>\n",
       "      <td>police report filed to an officer against Wayne Parris (DOB 08-03-1957) from Brittany J. Parris. The paperwork I have has a case number D18-39 it is also stamped at the bottom with 18-1294, Iím not sure which number you will need. If there is any other information needed please let me know.</td>\n",
       "      <td>Arlington</td>\n",
       "      <td>2018-06</td>\n",
       "    </tr>\n",
       "    <tr>\n",
       "      <th>4</th>\n",
       "      <td>4</td>\n",
       "      <td>4</td>\n",
       "      <td>Email Communications between Stephanie Shook, Dave Kraski, Bruce Stedman and Chad Schmidt in regards to Fire Protection District 21 billing and passage of contract for ALS Services. \\n\\nAlso any copies of Agenda Bills, D21 Contract and materials presented for review in Nov/Dec time frame in regards to the contract.</td>\n",
       "      <td>Arlington</td>\n",
       "      <td>2018-06</td>\n",
       "    </tr>\n",
       "  </tbody>\n",
       "</table>\n",
       "</div>"
      ],
      "text/plain": [
       "   index  Unnamed: 0                                                                                                                                                                                                                                                                                                                                                                                                                                                                                Summary       city month_year\n",
       "0      0           0  We are working with an engineering firm on an upcoming project.  They have asked us to gather maps for this project.  Would you be able to assist me in gathering maps/records (as builds) for any underground water facilities you may have?  Something just showing the route of the water lines would do.\\n\\n207th ST NE to 92nd Ave NE, Arlington, Cascade Surveying & Engineering \\n\\nI have attached the scope for your convenience.  Please let me know if you have questions.  Arlington    2018-06\n",
       "1      1           1                                                                                                                                                                                                                                                   Need copies of contracts and all related documents pertaining to Topcub Aircraft property located at 17922 59th DR NE Arlington WA 98223 between Arlington Airport, Topcub Aircraft, City of Arlington, HCI Steel Buildings and PUD.  Arlington    2018-06\n",
       "2      2           2                                                                                                                                                                                                                                       Copies of Building Permits of $5,000 valuation and up ($20,000 min for Re-Roofs), ($50,000 min. for Cell Tower upgrades), (Electrical, Mechanical & Plumbing at $100,000 min.) and (Solar Panels, Swimming Pools & Foundations at any valuation)  Arlington    2018-06\n",
       "3      3           3                                                                                                                                                                                    police report filed to an officer against Wayne Parris (DOB 08-03-1957) from Brittany J. Parris. The paperwork I have has a case number D18-39 it is also stamped at the bottom with 18-1294, Iím not sure which number you will need. If there is any other information needed please let me know.  Arlington    2018-06\n",
       "4      4           4                                                                                                                                                           Email Communications between Stephanie Shook, Dave Kraski, Bruce Stedman and Chad Schmidt in regards to Fire Protection District 21 billing and passage of contract for ALS Services. \\n\\nAlso any copies of Agenda Bills, D21 Contract and materials presented for review in Nov/Dec time frame in regards to the contract.  Arlington    2018-06"
      ]
     },
     "execution_count": 10,
     "metadata": {},
     "output_type": "execute_result"
    }
   ],
   "source": [
    "data.head()"
   ]
  },
  {
   "cell_type": "markdown",
   "metadata": {},
   "source": [
    "#### Function to convert nltk part of speech tags to wordnet tags (we use this to stem the words in data cleaning below):"
   ]
  },
  {
   "cell_type": "code",
   "execution_count": 11,
   "metadata": {
    "collapsed": true
   },
   "outputs": [],
   "source": [
    "def get_wordnet_pos(tag):\n",
    "\n",
    "    if tag.startswith('J'):\n",
    "        return wordnet.ADJ\n",
    "    elif tag.startswith('V'):\n",
    "        return wordnet.VERB\n",
    "    elif tag.startswith('N'):\n",
    "        return wordnet.NOUN\n",
    "    elif tag.startswith('R'):\n",
    "        return wordnet.ADV\n",
    "    else:\n",
    "        return wordnet.NOUN"
   ]
  },
  {
   "cell_type": "markdown",
   "metadata": {},
   "source": [
    "## Clean PRR data to prepare for LDA analysis"
   ]
  },
  {
   "cell_type": "code",
   "execution_count": 12,
   "metadata": {
    "collapsed": true
   },
   "outputs": [],
   "source": [
    "# Replace common acronyms in Summary\n",
    "data.Summary = data.Summary.str.replace('NOPD', 'police department')\n",
    "data.Summary = data.Summary.str.replace('OPD' , 'police department')\n",
    "data.Summary = data.Summary.str.replace('SFPD', 'police department')\n",
    "data.Summary = data.Summary.str.replace('CPD', 'police department')\n",
    "data.Summary = data.Summary.str.replace('APD', 'police department')\n",
    "data.Summary = data.Summary.str.replace('GPD', 'police department')\n",
    "data.Summary = data.Summary.str.replace('KPD', 'police department')\n",
    "data.Summary = data.Summary.str.replace('TPD', 'police department')\n",
    "data.Summary = data.Summary.str.replace('DPD', 'police department')\n",
    "data.Summary = data.Summary.str.replace('EPD', 'police department')\n",
    "data.Summary = data.Summary.str.replace('HPD', 'police department')\n",
    "data.Summary = data.Summary.str.replace('LPD', 'police department')\n",
    "data.Summary = data.Summary.str.replace('MDPD', 'police department')\n",
    "data.Summary = data.Summary.str.replace('PPD', 'police department')\n",
    "data.Summary = data.Summary.str.replace('SPD', 'police department')\n",
    "data.Summary = data.Summary.str.replace('VPD', 'police department')\n",
    "data.Summary = data.Summary.str.replace('CCPD', 'police department')\n",
    "data.Summary = data.Summary.str.replace('FCPD', 'police department')\n",
    "data.Summary = data.Summary.str.replace('TPD', 'police department')\n",
    "data.Summary = data.Summary.str.replace('LCPD', 'police department')\n",
    "data.Summary = data.Summary.str.replace('OKCPD', 'police department')\n",
    "data.Summary = data.Summary.str.replace('PAPD', 'police department')\n",
    "data.Summary = data.Summary.str.replace('RCPD', 'police department')\n",
    "data.Summary = data.Summary.str.replace('WSPD', 'police department')\n",
    "\n",
    "# PDRD = portable digital recording device (body cam) worn by police\n",
    "data.Summary = data.Summary.str.replace('PDRD', 'police body camera')\n",
    "data.Summary = data.Summary.str.replace('CPS', 'child protective services')\n",
    "\n",
    "\n",
    "# Replace key numbers with strings\n",
    "data.Summary = data.Summary.str.replace(' 911 ', ' nineoneone ')\n",
    "data.Summary = data.Summary.str.replace(' 311 ', ' threeoneone ')\n",
    "data.Summary = data.Summary.str.replace(' 9-11 ', ' nineoneone ')\n",
    "data.Summary = data.Summary.str.replace(' 3-11 ', ' threeoneone ')\n",
    "\n",
    "# Remove all punctuation\n",
    "translator = str.maketrans('','', string.punctuation)\n",
    "data.Summary = data.Summary.str.translate(translator)\n",
    "\n",
    "# Remove all city names\n",
    "for city in city_list:\n",
    "    data.Summary = data.Summary.str.replace(city, '')\n",
    "\n",
    "# Replace hyphen and slash with space\n",
    "hyphen_translator = str.maketrans('-/','  ')\n",
    "data.Summary = data.Summary.str.translate(hyphen_translator)\n",
    "\n",
    "# Remove all state names\n",
    "state_list = ['Washington', 'North Carolina', 'Carolina', 'Colorado', 'California',\n",
    "             'Ohio', 'Texas', 'New Mexico', 'Florida', 'Massachusetts',\n",
    "             'Louisiana', 'Oklahoma', 'Arizona', 'Rhode Island','Rhode', 'Virginia']\n",
    "\n",
    "for state in state_list:\n",
    "     data.Summary = data.Summary.str.replace(state, '')\n",
    "            \n",
    "# Remove digits\n",
    "dig_translator = str.maketrans('','', string.digits)\n",
    "data.Summary = data.Summary.str.translate(dig_translator)\n",
    "\n",
    "#https://www.sfdph.org/dph/EH/HMUPA/HMUPAFormsMenu.asp - hazardous materials\n",
    "#https://www.waterboards.ca.gov/ust/contacts/docs/lop_guide.pdf - water resources local oversight program\n",
    "data.Summary = data.Summary.str.replace('LOP', 'water')\n",
    "data.Summary = data.Summary.str.replace('HMUPA', 'hazardous materials')\n",
    "\n",
    "\n",
    "## ID Proper Nouns ##\n",
    "\n",
    "nlp = spacy.load('en_core_web_sm')\n",
    "data['token_sp'] = data['Summary'].apply(lambda x: nlp(x))\n",
    "data['pn'] = data['token_sp'].apply(lambda x: [ i.lemma_ for i in x if i.tag_ == 'NNP'])\n",
    "\n",
    "# Turn to lowercase\n",
    "data['sum_ed'] = data.Summary.str.lower()\n",
    "\n",
    "#remove public record request phrases\n",
    "data.sum_ed = data.sum_ed.str.replace('public record request', '')\n",
    "data.sum_ed = data.sum_ed.str.replace('open record request', '')\n",
    "data.sum_ed = data.sum_ed.str.replace('public records request', '')\n",
    "data.sum_ed = data.sum_ed.str.replace('open records request', '')\n",
    "data.sum_ed = data.sum_ed.str.replace('foia request', '')\n",
    "data.sum_ed = data.sum_ed.str.replace('see attached', '')\n",
    "data.sum_ed = data.sum_ed.str.replace('see attachment', '')\n",
    "data.sum_ed = data.sum_ed.str.replace('to whom it may concern', '')\n",
    "data.sum_ed = data.sum_ed.str.replace('public records act', '')\n",
    "data.sum_ed = data.sum_ed.str.replace('electronic copy', '')\n",
    "data.sum_ed = data.sum_ed.str.replace('electronic copies', '')\n",
    "data.sum_ed = data.sum_ed.str.replace('freedom of information act', '')\n",
    "\n",
    "data.sum_ed = data.sum_ed.str.replace('good afternoon', '')\n",
    "data.sum_ed = data.sum_ed.str.replace('good morning', '')\n",
    "data.sum_ed = data.sum_ed.str.replace('good day', '')\n",
    "\n",
    "data.sum_ed = data.sum_ed.str.replace('final will', 'final final_will')\n",
    "\n",
    "\n",
    "#remove empty strings, stopwords and stem\n",
    "stop_words = set(stopwords.words('english'))\n",
    "lmtzr = WordNetLemmatizer()\n",
    "data['token'] = data['sum_ed'].apply(lambda x: nltk.word_tokenize(x))\n",
    "data['lemma'] = data['token'].apply(lambda x: nltk.pos_tag(x))\n",
    "data['mash'] = data['lemma'].apply(lambda x: [lmtzr.lemmatize(i[0], get_wordnet_pos(i[1])) for i in x if len(i[0]) > 0 and i[0] not in stop_words])\n",
    "\n",
    "# Remove whitespace\n",
    "wsp_translator = str.maketrans('','', string.whitespace)\n",
    "data['mash'] = data['mash'].apply(lambda x: [i.translate(wsp_translator) for i in x])\n",
    "\n",
    "# Remove empty lists\n",
    "data['mash_len'] = data['mash'].apply(lambda x: len(x))\n",
    "data = data[data['mash_len'] > 0]\n",
    "\n",
    "# Create bigrams\n",
    "data['bigrams'] = data['mash'].apply(lambda x: [\"_\".join(w) for w in ngrams(x, 2)])\n"
   ]
  },
  {
   "cell_type": "code",
   "execution_count": 13,
   "metadata": {},
   "outputs": [
    {
     "data": {
      "text/html": [
       "<div>\n",
       "<style scoped>\n",
       "    .dataframe tbody tr th:only-of-type {\n",
       "        vertical-align: middle;\n",
       "    }\n",
       "\n",
       "    .dataframe tbody tr th {\n",
       "        vertical-align: top;\n",
       "    }\n",
       "\n",
       "    .dataframe thead th {\n",
       "        text-align: right;\n",
       "    }\n",
       "</style>\n",
       "<table border=\"1\" class=\"dataframe\">\n",
       "  <thead>\n",
       "    <tr style=\"text-align: right;\">\n",
       "      <th></th>\n",
       "      <th>index</th>\n",
       "      <th>Unnamed: 0</th>\n",
       "      <th>Summary</th>\n",
       "      <th>city</th>\n",
       "      <th>month_year</th>\n",
       "      <th>token_sp</th>\n",
       "      <th>pn</th>\n",
       "      <th>sum_ed</th>\n",
       "      <th>token</th>\n",
       "      <th>lemma</th>\n",
       "      <th>mash</th>\n",
       "      <th>mash_len</th>\n",
       "      <th>bigrams</th>\n",
       "    </tr>\n",
       "  </thead>\n",
       "  <tbody>\n",
       "    <tr>\n",
       "      <th>0</th>\n",
       "      <td>0</td>\n",
       "      <td>0</td>\n",
       "      <td>We are working with an engineering firm on an upcoming project  They have asked us to gather maps for this project  Would you be able to assist me in gathering mapsrecords as builds for any underground water facilities you may have  Something just showing the route of the water lines would do\\n\\nth ST NE to nd Ave NE  Cascade Surveying  Engineering \\n\\nI have attached the scope for your convenience  Please let me know if you have questions</td>\n",
       "      <td>Arlington</td>\n",
       "      <td>2018-06</td>\n",
       "      <td>(We, are, working, with, an, engineering, firm, on, an, upcoming, project,  , They, have, asked, us, to, gather, maps, for, this, project,  , Would, you, be, able, to, assist, me, in, gathering, mapsrecords, as, builds, for, any, underground, water, facilities, you, may, have,  , Something, just, showing, the, route, of, the, water, lines, would, do, \\n\\n, th, ST, NE, to, nd, Ave, NE,  , Cascade, Surveying,  , Engineering, \\n\\n, I, have, attached, the, scope, for, your, convenience,  , Please, let, me, know, if, you, have, questions)</td>\n",
       "      <td>[ave, ne, cascade, surveying, engineering]</td>\n",
       "      <td>we are working with an engineering firm on an upcoming project  they have asked us to gather maps for this project  would you be able to assist me in gathering mapsrecords as builds for any underground water facilities you may have  something just showing the route of the water lines would do\\n\\nth st ne to nd ave ne  cascade surveying  engineering \\n\\ni have attached the scope for your convenience  please let me know if you have questions</td>\n",
       "      <td>[we, are, working, with, an, engineering, firm, on, an, upcoming, project, they, have, asked, us, to, gather, maps, for, this, project, would, you, be, able, to, assist, me, in, gathering, mapsrecords, as, builds, for, any, underground, water, facilities, you, may, have, something, just, showing, the, route, of, the, water, lines, would, do, th, st, ne, to, nd, ave, ne, cascade, surveying, engineering, i, have, attached, the, scope, for, your, convenience, please, let, me, know, if, you, have, questions]</td>\n",
       "      <td>[(we, PRP), (are, VBP), (working, VBG), (with, IN), (an, DT), (engineering, NN), (firm, NN), (on, IN), (an, DT), (upcoming, JJ), (project, NN), (they, PRP), (have, VBP), (asked, VBN), (us, PRP), (to, TO), (gather, VB), (maps, NNS), (for, IN), (this, DT), (project, NN), (would, MD), (you, PRP), (be, VB), (able, JJ), (to, TO), (assist, VB), (me, PRP), (in, IN), (gathering, VBG), (mapsrecords, NNS), (as, IN), (builds, NNS), (for, IN), (any, DT), (underground, JJ), (water, NN), (facilities, NNS), (you, PRP), (may, MD), (have, VB), (something, NN), (just, RB), (showing, VBG), (the, DT), (route, NN), (of, IN), (the, DT), (water, NN), (lines, NNS), (would, MD), (do, VB), (th, VB), (st, VB), (ne, JJ), (to, TO), (nd, VB), (ave, VB), (ne, JJ), (cascade, NN), (surveying, VBG), (engineering, NN), (i, NN), (have, VBP), (attached, VBN), (the, DT), (scope, NN), (for, IN), (your, PRP$), (convenience, NN), (please, NN), (let, VB), (me, PRP), (know, VB), (if, IN), (you, PRP), (have, VBP), (questions...</td>\n",
       "      <td>[work, engineering, firm, upcoming, project, ask, u, gather, map, project, would, able, assist, gather, mapsrecords, build, underground, water, facility, may, something, show, route, water, line, would, th, st, ne, nd, ave, ne, cascade, survey, engineering, attach, scope, convenience, please, let, know, question]</td>\n",
       "      <td>42</td>\n",
       "      <td>[work_engineering, engineering_firm, firm_upcoming, upcoming_project, project_ask, ask_u, u_gather, gather_map, map_project, project_would, would_able, able_assist, assist_gather, gather_mapsrecords, mapsrecords_build, build_underground, underground_water, water_facility, facility_may, may_something, something_show, show_route, route_water, water_line, line_would, would_th, th_st, st_ne, ne_nd, nd_ave, ave_ne, ne_cascade, cascade_survey, survey_engineering, engineering_attach, attach_scope, scope_convenience, convenience_please, please_let, let_know, know_question]</td>\n",
       "    </tr>\n",
       "    <tr>\n",
       "      <th>1</th>\n",
       "      <td>1</td>\n",
       "      <td>1</td>\n",
       "      <td>Need copies of contracts and all related documents pertaining to Topcub Aircraft property located at  th DR NE  WA  between  Airport Topcub Aircraft  of  HCI Steel Buildings and PUD</td>\n",
       "      <td>Arlington</td>\n",
       "      <td>2018-06</td>\n",
       "      <td>(Need, copies, of, contracts, and, all, related, documents, pertaining, to, Topcub, Aircraft, property, located, at,  , th, DR, NE,  , WA,  , between,  , Airport, Topcub, Aircraft,  , of,  , HCI, Steel, Buildings, and, PUD)</td>\n",
       "      <td>[topcub, aircraft, dr, ne, wa, airport, topcub, aircraft, hci, steel, pud]</td>\n",
       "      <td>need copies of contracts and all related documents pertaining to topcub aircraft property located at  th dr ne  wa  between  airport topcub aircraft  of  hci steel buildings and pud</td>\n",
       "      <td>[need, copies, of, contracts, and, all, related, documents, pertaining, to, topcub, aircraft, property, located, at, th, dr, ne, wa, between, airport, topcub, aircraft, of, hci, steel, buildings, and, pud]</td>\n",
       "      <td>[(need, NN), (copies, NNS), (of, IN), (contracts, NNS), (and, CC), (all, DT), (related, JJ), (documents, NNS), (pertaining, VBG), (to, TO), (topcub, VB), (aircraft, NN), (property, NN), (located, VBN), (at, IN), (th, NN), (dr, NN), (ne, JJ), (wa, NN), (between, IN), (airport, NN), (topcub, NN), (aircraft, NN), (of, IN), (hci, NN), (steel, NN), (buildings, NNS), (and, CC), (pud, NN)]</td>\n",
       "      <td>[need, copy, contract, related, document, pertain, topcub, aircraft, property, locate, th, dr, ne, wa, airport, topcub, aircraft, hci, steel, building, pud]</td>\n",
       "      <td>21</td>\n",
       "      <td>[need_copy, copy_contract, contract_related, related_document, document_pertain, pertain_topcub, topcub_aircraft, aircraft_property, property_locate, locate_th, th_dr, dr_ne, ne_wa, wa_airport, airport_topcub, topcub_aircraft, aircraft_hci, hci_steel, steel_building, building_pud]</td>\n",
       "    </tr>\n",
       "    <tr>\n",
       "      <th>2</th>\n",
       "      <td>2</td>\n",
       "      <td>2</td>\n",
       "      <td>Copies of Building Permits of  valuation and up  min for ReRoofs  min for Cell Tower upgrades Electrical Mechanical  Plumbing at  min and Solar Panels Swimming Pools  Foundations at any valuation</td>\n",
       "      <td>Arlington</td>\n",
       "      <td>2018-06</td>\n",
       "      <td>(Copies, of, Building, Permits, of,  , valuation, and, up,  , min, for, ReRoofs,  , min, for, Cell, Tower, upgrades, Electrical, Mechanical,  , Plumbing, at,  , min, and, Solar, Panels, Swimming, Pools,  , Foundations, at, any, valuation)</td>\n",
       "      <td>[building, reroofs, cell, tower, electrical, mechanical, plumbing, solar, swimming, pools]</td>\n",
       "      <td>copies of building permits of  valuation and up  min for reroofs  min for cell tower upgrades electrical mechanical  plumbing at  min and solar panels swimming pools  foundations at any valuation</td>\n",
       "      <td>[copies, of, building, permits, of, valuation, and, up, min, for, reroofs, min, for, cell, tower, upgrades, electrical, mechanical, plumbing, at, min, and, solar, panels, swimming, pools, foundations, at, any, valuation]</td>\n",
       "      <td>[(copies, NNS), (of, IN), (building, VBG), (permits, NNS), (of, IN), (valuation, NN), (and, CC), (up, RB), (min, NN), (for, IN), (reroofs, NN), (min, NN), (for, IN), (cell, NN), (tower, NN), (upgrades, JJ), (electrical, JJ), (mechanical, JJ), (plumbing, NN), (at, IN), (min, NN), (and, CC), (solar, JJ), (panels, NNS), (swimming, VBG), (pools, JJ), (foundations, NNS), (at, IN), (any, DT), (valuation, NN)]</td>\n",
       "      <td>[copy, build, permit, valuation, min, reroofs, min, cell, tower, upgrades, electrical, mechanical, plumbing, min, solar, panel, swim, pools, foundation, valuation]</td>\n",
       "      <td>20</td>\n",
       "      <td>[copy_build, build_permit, permit_valuation, valuation_min, min_reroofs, reroofs_min, min_cell, cell_tower, tower_upgrades, upgrades_electrical, electrical_mechanical, mechanical_plumbing, plumbing_min, min_solar, solar_panel, panel_swim, swim_pools, pools_foundation, foundation_valuation]</td>\n",
       "    </tr>\n",
       "    <tr>\n",
       "      <th>3</th>\n",
       "      <td>3</td>\n",
       "      <td>3</td>\n",
       "      <td>police report filed to an officer against Wayne Parris DOB  from Brittany J Parris The paperwork I have has a case number D it is also stamped at the bottom with  Iím not sure which number you will need If there is any other information needed please let me know</td>\n",
       "      <td>Arlington</td>\n",
       "      <td>2018-06</td>\n",
       "      <td>(police, report, filed, to, an, officer, against, Wayne, Parris, DOB,  , from, Brittany, J, Parris, The, paperwork, I, have, has, a, case, number, D, it, is, also, stamped, at, the, bottom, with,  , Iím, not, sure, which, number, you, will, need, If, there, is, any, other, information, needed, please, let, me, know)</td>\n",
       "      <td>[wayne, parris, dob, brittany, j, parris]</td>\n",
       "      <td>police report filed to an officer against wayne parris dob  from brittany j parris the paperwork i have has a case number d it is also stamped at the bottom with  iím not sure which number you will need if there is any other information needed please let me know</td>\n",
       "      <td>[police, report, filed, to, an, officer, against, wayne, parris, dob, from, brittany, j, parris, the, paperwork, i, have, has, a, case, number, d, it, is, also, stamped, at, the, bottom, with, iím, not, sure, which, number, you, will, need, if, there, is, any, other, information, needed, please, let, me, know]</td>\n",
       "      <td>[(police, NNS), (report, NN), (filed, VBD), (to, TO), (an, DT), (officer, NN), (against, IN), (wayne, JJ), (parris, JJ), (dob, NN), (from, IN), (brittany, JJ), (j, NN), (parris, VBD), (the, DT), (paperwork, NN), (i, NN), (have, VBP), (has, VBZ), (a, DT), (case, NN), (number, NN), (d, NN), (it, PRP), (is, VBZ), (also, RB), (stamped, VBN), (at, IN), (the, DT), (bottom, NN), (with, IN), (iím, JJ), (not, RB), (sure, JJ), (which, WDT), (number, NN), (you, PRP), (will, MD), (need, VB), (if, IN), (there, EX), (is, VBZ), (any, DT), (other, JJ), (information, NN), (needed, VBN), (please, NN), (let, VB), (me, PRP), (know, VB)]</td>\n",
       "      <td>[police, report, file, officer, wayne, parris, dob, brittany, j, parris, paperwork, case, number, also, stamp, bottom, iím, sure, number, need, information, need, please, let, know]</td>\n",
       "      <td>25</td>\n",
       "      <td>[police_report, report_file, file_officer, officer_wayne, wayne_parris, parris_dob, dob_brittany, brittany_j, j_parris, parris_paperwork, paperwork_case, case_number, number_also, also_stamp, stamp_bottom, bottom_iím, iím_sure, sure_number, number_need, need_information, information_need, need_please, please_let, let_know]</td>\n",
       "    </tr>\n",
       "    <tr>\n",
       "      <th>4</th>\n",
       "      <td>4</td>\n",
       "      <td>4</td>\n",
       "      <td>Email Communications between Stephanie Shook Dave Kraski Bruce Stedman and Chad Schmidt in regards to Fire Protection District  billing and passage of contract for ALS Services \\n\\nAlso any copies of Agenda Bills D Contract and materials presented for review in NovDec time frame in regards to the contract</td>\n",
       "      <td>Arlington</td>\n",
       "      <td>2018-06</td>\n",
       "      <td>(Email, Communications, between, Stephanie, Shook, Dave, Kraski, Bruce, Stedman, and, Chad, Schmidt, in, regards, to, Fire, Protection, District,  , billing, and, passage, of, contract, for, ALS, Services, \\n\\n, Also, any, copies, of, Agenda, Bills, D, Contract, and, materials, presented, for, review, in, NovDec, time, frame, in, regards, to, the, contract)</td>\n",
       "      <td>[communications, stephanie, dave, kraski, bruce, stedman, chad, schmidt, fire, protection, district, als, agenda, bills, d, contract, novdec]</td>\n",
       "      <td>email communications between stephanie shook dave kraski bruce stedman and chad schmidt in regards to fire protection district  billing and passage of contract for als services \\n\\nalso any copies of agenda bills d contract and materials presented for review in novdec time frame in regards to the contract</td>\n",
       "      <td>[email, communications, between, stephanie, shook, dave, kraski, bruce, stedman, and, chad, schmidt, in, regards, to, fire, protection, district, billing, and, passage, of, contract, for, als, services, also, any, copies, of, agenda, bills, d, contract, and, materials, presented, for, review, in, novdec, time, frame, in, regards, to, the, contract]</td>\n",
       "      <td>[(email, NN), (communications, NNS), (between, IN), (stephanie, JJ), (shook, NN), (dave, VBP), (kraski, VBN), (bruce, NN), (stedman, NN), (and, CC), (chad, VBD), (schmidt, VBN), (in, IN), (regards, NNS), (to, TO), (fire, VB), (protection, NN), (district, NN), (billing, NN), (and, CC), (passage, NN), (of, IN), (contract, NN), (for, IN), (als, NNS), (services, NNS), (also, RB), (any, DT), (copies, NNS), (of, IN), (agenda, NN), (bills, NNS), (d, VBP), (contract, NN), (and, CC), (materials, NNS), (presented, VBN), (for, IN), (review, NN), (in, IN), (novdec, JJ), (time, NN), (frame, NN), (in, IN), (regards, NNS), (to, TO), (the, DT), (contract, NN)]</td>\n",
       "      <td>[email, communication, stephanie, shook, dave, kraski, bruce, stedman, chad, schmidt, regard, fire, protection, district, billing, passage, contract, al, service, also, copy, agenda, bill, contract, material, present, review, novdec, time, frame, regard, contract]</td>\n",
       "      <td>32</td>\n",
       "      <td>[email_communication, communication_stephanie, stephanie_shook, shook_dave, dave_kraski, kraski_bruce, bruce_stedman, stedman_chad, chad_schmidt, schmidt_regard, regard_fire, fire_protection, protection_district, district_billing, billing_passage, passage_contract, contract_al, al_service, service_also, also_copy, copy_agenda, agenda_bill, bill_contract, contract_material, material_present, present_review, review_novdec, novdec_time, time_frame, frame_regard, regard_contract]</td>\n",
       "    </tr>\n",
       "  </tbody>\n",
       "</table>\n",
       "</div>"
      ],
      "text/plain": [
       "   index  Unnamed: 0                                                                                                                                                                                                                                                                                                                                                                                                                                                      Summary       city month_year  \\\n",
       "0      0           0  We are working with an engineering firm on an upcoming project  They have asked us to gather maps for this project  Would you be able to assist me in gathering mapsrecords as builds for any underground water facilities you may have  Something just showing the route of the water lines would do\\n\\nth ST NE to nd Ave NE  Cascade Surveying  Engineering \\n\\nI have attached the scope for your convenience  Please let me know if you have questions  Arlington    2018-06   \n",
       "1      1           1                                                                                                                                                                                                                                                                        Need copies of contracts and all related documents pertaining to Topcub Aircraft property located at  th DR NE  WA  between  Airport Topcub Aircraft  of  HCI Steel Buildings and PUD  Arlington    2018-06   \n",
       "2      2           2                                                                                                                                                                                                                                                          Copies of Building Permits of  valuation and up  min for ReRoofs  min for Cell Tower upgrades Electrical Mechanical  Plumbing at  min and Solar Panels Swimming Pools  Foundations at any valuation  Arlington    2018-06   \n",
       "3      3           3                                                                                                                                                                                       police report filed to an officer against Wayne Parris DOB  from Brittany J Parris The paperwork I have has a case number D it is also stamped at the bottom with  Iím not sure which number you will need If there is any other information needed please let me know  Arlington    2018-06   \n",
       "4      4           4                                                                                                                                           Email Communications between Stephanie Shook Dave Kraski Bruce Stedman and Chad Schmidt in regards to Fire Protection District  billing and passage of contract for ALS Services \\n\\nAlso any copies of Agenda Bills D Contract and materials presented for review in NovDec time frame in regards to the contract  Arlington    2018-06   \n",
       "\n",
       "                                                                                                                                                                                                                                                                                                                                                                                                                                                                                                                                                      token_sp                                                                                                                                             pn  \\\n",
       "0  (We, are, working, with, an, engineering, firm, on, an, upcoming, project,  , They, have, asked, us, to, gather, maps, for, this, project,  , Would, you, be, able, to, assist, me, in, gathering, mapsrecords, as, builds, for, any, underground, water, facilities, you, may, have,  , Something, just, showing, the, route, of, the, water, lines, would, do, \\n\\n, th, ST, NE, to, nd, Ave, NE,  , Cascade, Surveying,  , Engineering, \\n\\n, I, have, attached, the, scope, for, your, convenience,  , Please, let, me, know, if, you, have, questions)                                                                                                     [ave, ne, cascade, surveying, engineering]   \n",
       "1                                                                                                                                                                                                                                                                                                                              (Need, copies, of, contracts, and, all, related, documents, pertaining, to, Topcub, Aircraft, property, located, at,  , th, DR, NE,  , WA,  , between,  , Airport, Topcub, Aircraft,  , of,  , HCI, Steel, Buildings, and, PUD)                                                                     [topcub, aircraft, dr, ne, wa, airport, topcub, aircraft, hci, steel, pud]   \n",
       "2                                                                                                                                                                                                                                                                                                               (Copies, of, Building, Permits, of,  , valuation, and, up,  , min, for, ReRoofs,  , min, for, Cell, Tower, upgrades, Electrical, Mechanical,  , Plumbing, at,  , min, and, Solar, Panels, Swimming, Pools,  , Foundations, at, any, valuation)                                                     [building, reroofs, cell, tower, electrical, mechanical, plumbing, solar, swimming, pools]   \n",
       "3                                                                                                                                                                                                                                (police, report, filed, to, an, officer, against, Wayne, Parris, DOB,  , from, Brittany, J, Parris, The, paperwork, I, have, has, a, case, number, D, it, is, also, stamped, at, the, bottom, with,  , Iím, not, sure, which, number, you, will, need, If, there, is, any, other, information, needed, please, let, me, know)                                                                                                      [wayne, parris, dob, brittany, j, parris]   \n",
       "4                                                                                                                                                                                      (Email, Communications, between, Stephanie, Shook, Dave, Kraski, Bruce, Stedman, and, Chad, Schmidt, in, regards, to, Fire, Protection, District,  , billing, and, passage, of, contract, for, ALS, Services, \\n\\n, Also, any, copies, of, Agenda, Bills, D, Contract, and, materials, presented, for, review, in, NovDec, time, frame, in, regards, to, the, contract)  [communications, stephanie, dave, kraski, bruce, stedman, chad, schmidt, fire, protection, district, als, agenda, bills, d, contract, novdec]   \n",
       "\n",
       "                                                                                                                                                                                                                                                                                                                                                                                                                                                        sum_ed                                                                                                                                                                                                                                                                                                                                                                                                                                                                                                                          token  \\\n",
       "0  we are working with an engineering firm on an upcoming project  they have asked us to gather maps for this project  would you be able to assist me in gathering mapsrecords as builds for any underground water facilities you may have  something just showing the route of the water lines would do\\n\\nth st ne to nd ave ne  cascade surveying  engineering \\n\\ni have attached the scope for your convenience  please let me know if you have questions  [we, are, working, with, an, engineering, firm, on, an, upcoming, project, they, have, asked, us, to, gather, maps, for, this, project, would, you, be, able, to, assist, me, in, gathering, mapsrecords, as, builds, for, any, underground, water, facilities, you, may, have, something, just, showing, the, route, of, the, water, lines, would, do, th, st, ne, to, nd, ave, ne, cascade, surveying, engineering, i, have, attached, the, scope, for, your, convenience, please, let, me, know, if, you, have, questions]   \n",
       "1                                                                                                                                                                                                                                                                        need copies of contracts and all related documents pertaining to topcub aircraft property located at  th dr ne  wa  between  airport topcub aircraft  of  hci steel buildings and pud                                                                                                                                                                                                                                                                                                                  [need, copies, of, contracts, and, all, related, documents, pertaining, to, topcub, aircraft, property, located, at, th, dr, ne, wa, between, airport, topcub, aircraft, of, hci, steel, buildings, and, pud]   \n",
       "2                                                                                                                                                                                                                                                          copies of building permits of  valuation and up  min for reroofs  min for cell tower upgrades electrical mechanical  plumbing at  min and solar panels swimming pools  foundations at any valuation                                                                                                                                                                                                                                                                                                   [copies, of, building, permits, of, valuation, and, up, min, for, reroofs, min, for, cell, tower, upgrades, electrical, mechanical, plumbing, at, min, and, solar, panels, swimming, pools, foundations, at, any, valuation]   \n",
       "3                                                                                                                                                                                       police report filed to an officer against wayne parris dob  from brittany j parris the paperwork i have has a case number d it is also stamped at the bottom with  iím not sure which number you will need if there is any other information needed please let me know                                                                                                                                                                                                        [police, report, filed, to, an, officer, against, wayne, parris, dob, from, brittany, j, parris, the, paperwork, i, have, has, a, case, number, d, it, is, also, stamped, at, the, bottom, with, iím, not, sure, which, number, you, will, need, if, there, is, any, other, information, needed, please, let, me, know]   \n",
       "4                                                                                                                                           email communications between stephanie shook dave kraski bruce stedman and chad schmidt in regards to fire protection district  billing and passage of contract for als services \\n\\nalso any copies of agenda bills d contract and materials presented for review in novdec time frame in regards to the contract                                                                                                                                                                 [email, communications, between, stephanie, shook, dave, kraski, bruce, stedman, and, chad, schmidt, in, regards, to, fire, protection, district, billing, and, passage, of, contract, for, als, services, also, any, copies, of, agenda, bills, d, contract, and, materials, presented, for, review, in, novdec, time, frame, in, regards, to, the, contract]   \n",
       "\n",
       "                                                                                                                                                                                                                                                                                                                                                                                                                                                                                                                                                                                                                                                                                                                                                                                                                                                                                                                                                                                                                                     lemma  \\\n",
       "0  [(we, PRP), (are, VBP), (working, VBG), (with, IN), (an, DT), (engineering, NN), (firm, NN), (on, IN), (an, DT), (upcoming, JJ), (project, NN), (they, PRP), (have, VBP), (asked, VBN), (us, PRP), (to, TO), (gather, VB), (maps, NNS), (for, IN), (this, DT), (project, NN), (would, MD), (you, PRP), (be, VB), (able, JJ), (to, TO), (assist, VB), (me, PRP), (in, IN), (gathering, VBG), (mapsrecords, NNS), (as, IN), (builds, NNS), (for, IN), (any, DT), (underground, JJ), (water, NN), (facilities, NNS), (you, PRP), (may, MD), (have, VB), (something, NN), (just, RB), (showing, VBG), (the, DT), (route, NN), (of, IN), (the, DT), (water, NN), (lines, NNS), (would, MD), (do, VB), (th, VB), (st, VB), (ne, JJ), (to, TO), (nd, VB), (ave, VB), (ne, JJ), (cascade, NN), (surveying, VBG), (engineering, NN), (i, NN), (have, VBP), (attached, VBN), (the, DT), (scope, NN), (for, IN), (your, PRP$), (convenience, NN), (please, NN), (let, VB), (me, PRP), (know, VB), (if, IN), (you, PRP), (have, VBP), (questions...   \n",
       "1                                                                                                                                                                                                                                                                                                                                                                                                                                                                                                                                                                                                                                        [(need, NN), (copies, NNS), (of, IN), (contracts, NNS), (and, CC), (all, DT), (related, JJ), (documents, NNS), (pertaining, VBG), (to, TO), (topcub, VB), (aircraft, NN), (property, NN), (located, VBN), (at, IN), (th, NN), (dr, NN), (ne, JJ), (wa, NN), (between, IN), (airport, NN), (topcub, NN), (aircraft, NN), (of, IN), (hci, NN), (steel, NN), (buildings, NNS), (and, CC), (pud, NN)]   \n",
       "2                                                                                                                                                                                                                                                                                                                                                                                                                                                                                                                                                                                                                   [(copies, NNS), (of, IN), (building, VBG), (permits, NNS), (of, IN), (valuation, NN), (and, CC), (up, RB), (min, NN), (for, IN), (reroofs, NN), (min, NN), (for, IN), (cell, NN), (tower, NN), (upgrades, JJ), (electrical, JJ), (mechanical, JJ), (plumbing, NN), (at, IN), (min, NN), (and, CC), (solar, JJ), (panels, NNS), (swimming, VBG), (pools, JJ), (foundations, NNS), (at, IN), (any, DT), (valuation, NN)]   \n",
       "3                                                                                                                                                                                                                                                                                                                                                                                         [(police, NNS), (report, NN), (filed, VBD), (to, TO), (an, DT), (officer, NN), (against, IN), (wayne, JJ), (parris, JJ), (dob, NN), (from, IN), (brittany, JJ), (j, NN), (parris, VBD), (the, DT), (paperwork, NN), (i, NN), (have, VBP), (has, VBZ), (a, DT), (case, NN), (number, NN), (d, NN), (it, PRP), (is, VBZ), (also, RB), (stamped, VBN), (at, IN), (the, DT), (bottom, NN), (with, IN), (iím, JJ), (not, RB), (sure, JJ), (which, WDT), (number, NN), (you, PRP), (will, MD), (need, VB), (if, IN), (there, EX), (is, VBZ), (any, DT), (other, JJ), (information, NN), (needed, VBN), (please, NN), (let, VB), (me, PRP), (know, VB)]   \n",
       "4                                                                                                                                                                                                                                                                                                                                                             [(email, NN), (communications, NNS), (between, IN), (stephanie, JJ), (shook, NN), (dave, VBP), (kraski, VBN), (bruce, NN), (stedman, NN), (and, CC), (chad, VBD), (schmidt, VBN), (in, IN), (regards, NNS), (to, TO), (fire, VB), (protection, NN), (district, NN), (billing, NN), (and, CC), (passage, NN), (of, IN), (contract, NN), (for, IN), (als, NNS), (services, NNS), (also, RB), (any, DT), (copies, NNS), (of, IN), (agenda, NN), (bills, NNS), (d, VBP), (contract, NN), (and, CC), (materials, NNS), (presented, VBN), (for, IN), (review, NN), (in, IN), (novdec, JJ), (time, NN), (frame, NN), (in, IN), (regards, NNS), (to, TO), (the, DT), (contract, NN)]   \n",
       "\n",
       "                                                                                                                                                                                                                                                                                                                         mash  mash_len                                                                                                                                                                                                                                                                                                                                                                                                                                                                                                                                                                                      bigrams  \n",
       "0  [work, engineering, firm, upcoming, project, ask, u, gather, map, project, would, able, assist, gather, mapsrecords, build, underground, water, facility, may, something, show, route, water, line, would, th, st, ne, nd, ave, ne, cascade, survey, engineering, attach, scope, convenience, please, let, know, question]        42  [work_engineering, engineering_firm, firm_upcoming, upcoming_project, project_ask, ask_u, u_gather, gather_map, map_project, project_would, would_able, able_assist, assist_gather, gather_mapsrecords, mapsrecords_build, build_underground, underground_water, water_facility, facility_may, may_something, something_show, show_route, route_water, water_line, line_would, would_th, th_st, st_ne, ne_nd, nd_ave, ave_ne, ne_cascade, cascade_survey, survey_engineering, engineering_attach, attach_scope, scope_convenience, convenience_please, please_let, let_know, know_question]  \n",
       "1                                                                                                                                                                [need, copy, contract, related, document, pertain, topcub, aircraft, property, locate, th, dr, ne, wa, airport, topcub, aircraft, hci, steel, building, pud]        21                                                                                                                                                                                                                                                                                                    [need_copy, copy_contract, contract_related, related_document, document_pertain, pertain_topcub, topcub_aircraft, aircraft_property, property_locate, locate_th, th_dr, dr_ne, ne_wa, wa_airport, airport_topcub, topcub_aircraft, aircraft_hci, hci_steel, steel_building, building_pud]  \n",
       "2                                                                                                                                                         [copy, build, permit, valuation, min, reroofs, min, cell, tower, upgrades, electrical, mechanical, plumbing, min, solar, panel, swim, pools, foundation, valuation]        20                                                                                                                                                                                                                                                                                           [copy_build, build_permit, permit_valuation, valuation_min, min_reroofs, reroofs_min, min_cell, cell_tower, tower_upgrades, upgrades_electrical, electrical_mechanical, mechanical_plumbing, plumbing_min, min_solar, solar_panel, panel_swim, swim_pools, pools_foundation, foundation_valuation]  \n",
       "3                                                                                                                                       [police, report, file, officer, wayne, parris, dob, brittany, j, parris, paperwork, case, number, also, stamp, bottom, iím, sure, number, need, information, need, please, let, know]        25                                                                                                                                                                                                                                                         [police_report, report_file, file_officer, officer_wayne, wayne_parris, parris_dob, dob_brittany, brittany_j, j_parris, parris_paperwork, paperwork_case, case_number, number_also, also_stamp, stamp_bottom, bottom_iím, iím_sure, sure_number, number_need, need_information, information_need, need_please, please_let, let_know]  \n",
       "4                                                    [email, communication, stephanie, shook, dave, kraski, bruce, stedman, chad, schmidt, regard, fire, protection, district, billing, passage, contract, al, service, also, copy, agenda, bill, contract, material, present, review, novdec, time, frame, regard, contract]        32                                                                                             [email_communication, communication_stephanie, stephanie_shook, shook_dave, dave_kraski, kraski_bruce, bruce_stedman, stedman_chad, chad_schmidt, schmidt_regard, regard_fire, fire_protection, protection_district, district_billing, billing_passage, passage_contract, contract_al, al_service, service_also, also_copy, copy_agenda, agenda_bill, bill_contract, contract_material, material_present, present_review, review_novdec, novdec_time, time_frame, frame_regard, regard_contract]  "
      ]
     },
     "execution_count": 13,
     "metadata": {},
     "output_type": "execute_result"
    }
   ],
   "source": [
    "data.head()"
   ]
  },
  {
   "cell_type": "markdown",
   "metadata": {},
   "source": [
    "### Identify and remove commonly used words in PRRs"
   ]
  },
  {
   "cell_type": "code",
   "execution_count": 14,
   "metadata": {},
   "outputs": [
    {
     "data": {
      "text/plain": [
       "[('report', 38853),\n",
       " ('request', 31053),\n",
       " ('record', 27126),\n",
       " ('please', 21961),\n",
       " ('copy', 20054),\n",
       " ('police', 16578),\n",
       " ('date', 14011),\n",
       " ('property', 12990),\n",
       " ('street', 12119),\n",
       " ('information', 11886),\n",
       " ('number', 11519),\n",
       " ('th', 11096),\n",
       " ('provide', 10801),\n",
       " ('driver', 10752),\n",
       " ('would', 10605),\n",
       " ('include', 10482),\n",
       " ('case', 10033),\n",
       " ('document', 9670),\n",
       " ('permit', 8986),\n",
       " ('accident', 8929),\n",
       " ('thank', 8913),\n",
       " ('wa', 8841),\n",
       " ('email', 8467),\n",
       " ('address', 8350),\n",
       " ('st', 8346),\n",
       " ('department', 8247),\n",
       " ('incident', 8221),\n",
       " ('like', 8038),\n",
       " ('location', 7942),\n",
       " ('regard', 7862),\n",
       " ('state', 7753),\n",
       " ('cw', 6825),\n",
       " ('relate', 6725),\n",
       " ('ave', 6622),\n",
       " ('insurance', 6594),\n",
       " ('building', 6551),\n",
       " ('call', 6464),\n",
       " ('code', 6437),\n",
       " ('ne', 6420),\n",
       " ('public', 6363),\n",
       " ('following', 6331),\n",
       " ('file', 6028),\n",
       " ('county', 5969),\n",
       " ('need', 5915),\n",
       " ('plan', 5814),\n",
       " ('type', 5766),\n",
       " ('name', 5659),\n",
       " ('company', 5621),\n",
       " ('fire', 5585),\n",
       " ('violation', 5494)]"
      ]
     },
     "execution_count": 14,
     "metadata": {},
     "output_type": "execute_result"
    }
   ],
   "source": [
    "word_list = [y for x in list(data['mash']) for y in x]\n",
    "counts = Counter(word_list)\n",
    "Counter(word_list).most_common(50)"
   ]
  },
  {
   "cell_type": "code",
   "execution_count": 15,
   "metadata": {
    "collapsed": true
   },
   "outputs": [],
   "source": [
    "common_list = ['report', 'request', 'record', 'city', 'please', 'copy', 'date', 'information', 'would', 'regard', 'public',\n",
    "              'include', 'document', 'provide', 'like', 'thank', 'need', 'know', 'thanks', 'pursuant', 'dear', 'file',\n",
    "              'relate', 'from', 'either', 'hello', 'hi', 'foia', 'requestors', 'requestor', 'receive', 'available', \n",
    "               'make', 'attach', 'pertain', 'might', 'see', 'near']"
   ]
  },
  {
   "cell_type": "code",
   "execution_count": 16,
   "metadata": {
    "collapsed": true
   },
   "outputs": [],
   "source": [
    "# remove general words that are common to public record requests\n",
    "\n",
    "#for word in common_list:\n",
    "data['mash'] = data['mash'].apply(lambda x: [i for i in x if i not in common_list])"
   ]
  },
  {
   "cell_type": "code",
   "execution_count": 17,
   "metadata": {
    "collapsed": true
   },
   "outputs": [],
   "source": [
    "# remove number suffixes\n",
    "suffix_list = ['th', 'nd', 'st', 'rd', 'blvd', 'pkwy']\n",
    "#for word in suffix_list:\n",
    "data['mash'] = data['mash'].apply(lambda x: [i for i in x if i not in suffix_list])"
   ]
  },
  {
   "cell_type": "code",
   "execution_count": 18,
   "metadata": {
    "collapsed": true
   },
   "outputs": [],
   "source": [
    "# remove city and state abbreviations\n",
    "abbv_list = ['wa', 'nc', 'co', 'ca', 'oh', 'tx', 'nm', 'fl', 'ma', 'la', 'ok', 'az', 'ri', 'va', \n",
    "             'francisco', 'sf', 'okc', 'lv', 'nola', 'slc', 'cw']\n",
    "#for word in suffix_list:\n",
    "data['mash'] = data['mash'].apply(lambda x: [i for i in x if i not in abbv_list])"
   ]
  },
  {
   "cell_type": "code",
   "execution_count": 19,
   "metadata": {
    "collapsed": true
   },
   "outputs": [],
   "source": [
    "# remove spelled numbers\n",
    "num_list = ['one', 'two', 'three', 'four', 'five', 'six', 'seven', 'eight', 'nine', 'ten']\n",
    "data['mash'] = data['mash'].apply(lambda x: [i for i in x if i not in  num_list])"
   ]
  },
  {
   "cell_type": "code",
   "execution_count": 20,
   "metadata": {
    "collapsed": true
   },
   "outputs": [],
   "source": [
    "# replace 'inc' with 'incident\n",
    "data['mash'] = data['mash'].apply(lambda x: ['incident' if i=='inc' else i for i in x])"
   ]
  },
  {
   "cell_type": "code",
   "execution_count": 21,
   "metadata": {},
   "outputs": [
    {
     "ename": "AttributeError",
     "evalue": "'DataFrame' object has no attribute 'count_total'",
     "output_type": "error",
     "traceback": [
      "\u001b[0;31m---------------------------------------------------------------------------\u001b[0m",
      "\u001b[0;31mAttributeError\u001b[0m                            Traceback (most recent call last)",
      "\u001b[0;32m<ipython-input-21-3b8d409cb937>\u001b[0m in \u001b[0;36m<module>\u001b[0;34m()\u001b[0m\n\u001b[0;32m----> 1\u001b[0;31m \u001b[0mdata\u001b[0m\u001b[0;34m.\u001b[0m\u001b[0mcount_total\u001b[0m\u001b[0;34m.\u001b[0m\u001b[0mdescribe\u001b[0m\u001b[0;34m(\u001b[0m\u001b[0;34m)\u001b[0m\u001b[0;34m\u001b[0m\u001b[0m\n\u001b[0m",
      "\u001b[0;32m~/anaconda3/lib/python3.6/site-packages/pandas/core/generic.py\u001b[0m in \u001b[0;36m__getattr__\u001b[0;34m(self, name)\u001b[0m\n\u001b[1;32m   3612\u001b[0m             \u001b[0;32mif\u001b[0m \u001b[0mname\u001b[0m \u001b[0;32min\u001b[0m \u001b[0mself\u001b[0m\u001b[0;34m.\u001b[0m\u001b[0m_info_axis\u001b[0m\u001b[0;34m:\u001b[0m\u001b[0;34m\u001b[0m\u001b[0m\n\u001b[1;32m   3613\u001b[0m                 \u001b[0;32mreturn\u001b[0m \u001b[0mself\u001b[0m\u001b[0;34m[\u001b[0m\u001b[0mname\u001b[0m\u001b[0;34m]\u001b[0m\u001b[0;34m\u001b[0m\u001b[0m\n\u001b[0;32m-> 3614\u001b[0;31m             \u001b[0;32mreturn\u001b[0m \u001b[0mobject\u001b[0m\u001b[0;34m.\u001b[0m\u001b[0m__getattribute__\u001b[0m\u001b[0;34m(\u001b[0m\u001b[0mself\u001b[0m\u001b[0;34m,\u001b[0m \u001b[0mname\u001b[0m\u001b[0;34m)\u001b[0m\u001b[0;34m\u001b[0m\u001b[0m\n\u001b[0m\u001b[1;32m   3615\u001b[0m \u001b[0;34m\u001b[0m\u001b[0m\n\u001b[1;32m   3616\u001b[0m     \u001b[0;32mdef\u001b[0m \u001b[0m__setattr__\u001b[0m\u001b[0;34m(\u001b[0m\u001b[0mself\u001b[0m\u001b[0;34m,\u001b[0m \u001b[0mname\u001b[0m\u001b[0;34m,\u001b[0m \u001b[0mvalue\u001b[0m\u001b[0;34m)\u001b[0m\u001b[0;34m:\u001b[0m\u001b[0;34m\u001b[0m\u001b[0m\n",
      "\u001b[0;31mAttributeError\u001b[0m: 'DataFrame' object has no attribute 'count_total'"
     ]
    }
   ],
   "source": [
    "data.count_total.describe()"
   ]
  },
  {
   "cell_type": "code",
   "execution_count": null,
   "metadata": {
    "collapsed": true
   },
   "outputs": [],
   "source": [
    "common_bigrams = ['police_report', 'insurance_company', 'location_loss', 'date_occurrence', 'reportcase_number',\n",
    "                  'insure_driver', 'auto_accident', 'occurrence_location', 'transactionreference_insurance', 'number_date', 'type_auto',\n",
    "                  'accident_reportcase', 'code_violation', 'copy_police', 'incident_report', 'police_department', 'certificate_occupancy',\n",
    "                  'accident_report', 'property_locate', 'storage_tank','driver_note', 'building_permit', 'driver_driver','case_number', \n",
    "                  'hazardous_material', 'collision_report', 'state_farm', 'site_plan', 'fire_department', 'ftp_report', 'auto_theft',\n",
    "                  'fire_code', 'request_police', 'farm_claim', 'claim_compass', 'site_assessment', 'compass_report', 'environmental_site', \n",
    "                  'tax_sale', 'loss_cross','city_council', 'code_enforcement', 'subject_property', 'report_case', 'phase_environmental', \n",
    "                  'report_incident', 'date_loss', 'police_case', 'witness_statement', 'driving_record', 'break_in', 'birth_certificate', \n",
    "                  'death_certificate', 'background_check', 'public_works', 'lease_agreement', 'medical_record', 'billing_record', \n",
    "                  'record_check', 'records_check', 'marriage_certificate', 'marriage_record', 'park_ticket', 'miss_person',\n",
    "                 'marriage_license', 'reckless_driving', 'arrest_report', 'medical_billing', 'medical_report', 'criminal_record',\n",
    "                 'floor_plan', 'site_plan', 'building_plan', 'building_code', 'code_enforcement', 'personnel_file']\n",
    " "
   ]
  },
  {
   "cell_type": "code",
   "execution_count": null,
   "metadata": {
    "scrolled": true
   },
   "outputs": [],
   "source": [
    "bigram_list = [y for x in list(data['bigrams']) for y in x]\n",
    "counts = Counter(bigram_list)\n",
    "Counter(bigram_list).most_common(100)"
   ]
  },
  {
   "cell_type": "code",
   "execution_count": null,
   "metadata": {
    "collapsed": true
   },
   "outputs": [],
   "source": [
    "data['common_bigrams'] = data['bigrams'].apply(lambda x: [i for i in x if i in common_bigrams])"
   ]
  },
  {
   "cell_type": "code",
   "execution_count": null,
   "metadata": {
    "collapsed": true
   },
   "outputs": [],
   "source": [
    "noise = ['dr', 'jan', 'feb', 'mar', 'apr', 'may', 'jun', 'jul', 'aug', 'sept', 'sep', 'oct', 'nov', 'dec', \n",
    "        'january', 'february', 'march', 'april', 'may', 'june', 'july', 'august', 'september', 'october', 'november', \n",
    "        'december', 'ne', 'nw', 'se', 'sw', 'ct', 'dr', 'way', 'dv', 'ave', 'aka', 'get', 'look', 'im', 'want', \n",
    "        'find', 'could', 'go', 'take', 'e', 'n', 's', 'w', '“', '’', '”', '•', 'northeast', 'northwest', 'southeast', \n",
    "        'southwest', 'north', 'south', 'east', 'west', 'orleans', '–', 'a', 'b', 'c', 'd', 'f', 'g', 'h', 'i', 'j', 'k',\n",
    "        'l', 'm', 'o', 'p', 'q', 'r', 't', 'u', 'v', 'x', 'y', 'z', 'am', 'pm', 'hr', 'mr', 'ms', 'mrs', 'johnson', \n",
    "        'jr', 'kent', 'christopher', 'miller', 'joe', 'willows', 'david', 'michael', 'john', 'red', 'robert',\n",
    "        'ask', 'able', 'let', 'question', 'also', 'snohomish', '¬ß', 'per', 'available', 'test', '√Ø']\n",
    "\n"
   ]
  },
  {
   "cell_type": "code",
   "execution_count": null,
   "metadata": {
    "collapsed": true
   },
   "outputs": [],
   "source": [
    "data['mash'] = data['mash'].apply(lambda x: [i for i in x if i not in noise])"
   ]
  },
  {
   "cell_type": "code",
   "execution_count": null,
   "metadata": {
    "collapsed": true
   },
   "outputs": [],
   "source": [
    "data['final_mash'] = data['mash'] + data['common_bigrams']"
   ]
  },
  {
   "cell_type": "code",
   "execution_count": null,
   "metadata": {
    "collapsed": true
   },
   "outputs": [],
   "source": [
    "# create column with the length of mash for each PRR\n",
    "\n",
    "data['mash_len'] = data['final_mash'].apply(len)"
   ]
  },
  {
   "cell_type": "code",
   "execution_count": null,
   "metadata": {
    "collapsed": true
   },
   "outputs": [],
   "source": [
    "# remove entries of length 0\n",
    "\n",
    "data = data[data['mash_len'] > 0]"
   ]
  },
  {
   "cell_type": "code",
   "execution_count": null,
   "metadata": {},
   "outputs": [],
   "source": [
    "data['mash_len'].describe()"
   ]
  },
  {
   "cell_type": "code",
   "execution_count": null,
   "metadata": {},
   "outputs": [],
   "source": [
    "data_gp = data.groupby('city').mean()\n",
    "data_gp['mash_len']"
   ]
  },
  {
   "cell_type": "markdown",
   "metadata": {},
   "source": [
    "#### We can see a couple of examples of the cleaned mash and the original request:"
   ]
  },
  {
   "cell_type": "code",
   "execution_count": null,
   "metadata": {},
   "outputs": [],
   "source": [
    "data.shape"
   ]
  },
  {
   "cell_type": "code",
   "execution_count": null,
   "metadata": {},
   "outputs": [],
   "source": [
    "data['Summary'][data.index == 164]"
   ]
  },
  {
   "cell_type": "code",
   "execution_count": null,
   "metadata": {},
   "outputs": [],
   "source": [
    "data['final_mash'][data.index == 164]"
   ]
  },
  {
   "cell_type": "code",
   "execution_count": null,
   "metadata": {},
   "outputs": [],
   "source": [
    "data['final_mash'][data.index == 60000]"
   ]
  },
  {
   "cell_type": "code",
   "execution_count": null,
   "metadata": {},
   "outputs": [],
   "source": [
    "data[\"Summary\"][60000]"
   ]
  },
  {
   "cell_type": "code",
   "execution_count": null,
   "metadata": {},
   "outputs": [],
   "source": [
    "data['final_mash'][10000]"
   ]
  },
  {
   "cell_type": "code",
   "execution_count": null,
   "metadata": {
    "collapsed": true
   },
   "outputs": [],
   "source": [
    "data.to_csv('data.csv', index=False)"
   ]
  }
 ],
 "metadata": {
  "kernelspec": {
   "display_name": "Python 3",
   "language": "python",
   "name": "python3"
  },
  "language_info": {
   "codemirror_mode": {
    "name": "ipython",
    "version": 3
   },
   "file_extension": ".py",
   "mimetype": "text/x-python",
   "name": "python",
   "nbconvert_exporter": "python",
   "pygments_lexer": "ipython3",
   "version": "3.6.3"
  }
 },
 "nbformat": 4,
 "nbformat_minor": 2
}
