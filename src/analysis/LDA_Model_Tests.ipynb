{
 "cells": [
  {
   "cell_type": "code",
   "execution_count": 67,
   "metadata": {},
   "outputs": [
    {
     "name": "stdout",
     "output_type": "stream",
     "text": [
      "Populating the interactive namespace from numpy and matplotlib\n"
     ]
    }
   ],
   "source": [
    "# system tools\n",
    "import warnings\n",
    "import json\n",
    "import sys\n",
    "import string\n",
    "import ast\n",
    "\n",
    "# data cleaning + analysis tools\n",
    "import pandas as pd\n",
    "import datetime as dt\n",
    "import numpy as np\n",
    "import re\n",
    "import matplotlib.pyplot as plt\n",
    "import seaborn as sns\n",
    "\n",
    "#nlp tools\n",
    "import lda #Latent Dirichlet Allocation (create topics)\n",
    "import gensim\n",
    "import spacy\n",
    "from gensim import corpora, models #for constructing document term matrix\n",
    "#from stop_words import get_stop_words\n",
    "from gensim.models import Phrases\n",
    "from collections import Counter\n",
    "import nltk\n",
    "from nltk.corpus import stopwords\n",
    "from nltk.stem.wordnet import WordNetLemmatizer\n",
    "from nltk.corpus import wordnet\n",
    "from nltk.util import ngrams\n",
    "\n",
    "#set notebook preferences\n",
    "pd.set_option('display.height', 1000)\n",
    "pd.set_option('display.max_rows', 500)\n",
    "pd.set_option('display.max_columns', 500)\n",
    "pd.set_option('display.max_colwidth', 1000)\n",
    "pd.set_option('display.width', 1000)\n",
    "warnings.filterwarnings('ignore')\n",
    "\n",
    "%pylab inline\n",
    "pylab.rcParams['figure.figsize'] = (10, 6)"
   ]
  },
  {
   "cell_type": "markdown",
   "metadata": {},
   "source": [
    "##  Import data frame from cleaning/preprocessing"
   ]
  },
  {
   "cell_type": "code",
   "execution_count": 68,
   "metadata": {
    "collapsed": true
   },
   "outputs": [],
   "source": [
    "data = pd.read_csv('data.csv')\n",
    "data['final_mash'] = data['final_mash'].apply(lambda x:  ast.literal_eval(x))\n",
    "data['mash'] = data['mash'].apply(lambda x:  ast.literal_eval(x))\n",
    "data['common_bigrams'] = data['common_bigrams'].apply(lambda x:  ast.literal_eval(x))\n",
    "data['token'] = data['token'].apply(lambda x:  ast.literal_eval(x))\n",
    "data['lemma'] = data['lemma'].apply(lambda x:  ast.literal_eval(x))\n"
   ]
  },
  {
   "cell_type": "code",
   "execution_count": 107,
   "metadata": {},
   "outputs": [
    {
     "data": {
      "text/html": [
       "<div>\n",
       "<style scoped>\n",
       "    .dataframe tbody tr th:only-of-type {\n",
       "        vertical-align: middle;\n",
       "    }\n",
       "\n",
       "    .dataframe tbody tr th {\n",
       "        vertical-align: top;\n",
       "    }\n",
       "\n",
       "    .dataframe thead th {\n",
       "        text-align: right;\n",
       "    }\n",
       "</style>\n",
       "<table border=\"1\" class=\"dataframe\">\n",
       "  <thead>\n",
       "    <tr style=\"text-align: right;\">\n",
       "      <th></th>\n",
       "      <th>index</th>\n",
       "      <th>Summary</th>\n",
       "      <th>city</th>\n",
       "      <th>month_year</th>\n",
       "      <th>sum_ed</th>\n",
       "      <th>token</th>\n",
       "      <th>lemma</th>\n",
       "      <th>mash</th>\n",
       "      <th>mash_len</th>\n",
       "      <th>bigrams</th>\n",
       "      <th>count_total</th>\n",
       "      <th>common_bigrams</th>\n",
       "      <th>final_mash</th>\n",
       "    </tr>\n",
       "  </thead>\n",
       "  <tbody>\n",
       "    <tr>\n",
       "      <th>0</th>\n",
       "      <td>0</td>\n",
       "      <td>We are working with an engineering firm on an upcoming project.  They have asked us to gather maps for this project.  Would you be able to assist me in gathering maps/records (as builds) for any underground water facilities you may have?  Something just showing the route of the water lines would do.\\n\\n207th ST NE to 92nd Ave NE, Arlington, Cascade Surveying &amp; Engineering \\n\\nI have attached the scope for your convenience.  Please let me know if you have questions.</td>\n",
       "      <td>Arlington</td>\n",
       "      <td>2018-06</td>\n",
       "      <td>we are working with an engineering firm on an upcoming project  they have asked us to gather maps for this project  would you be able to assist me in gathering maps records as builds for any underground water facilities you may have  something just showing the route of the water lines would do\\n\\nth st ne to nd ave ne  cascade surveying  engineering \\n\\ni have attached the scope for your convenience  please let me know if you have questions</td>\n",
       "      <td>[we, are, working, with, an, engineering, firm, on, an, upcoming, project, they, have, asked, us, to, gather, maps, for, this, project, would, you, be, able, to, assist, me, in, gathering, maps, records, as, builds, for, any, underground, water, facilities, you, may, have, something, just, showing, the, route, of, the, water, lines, would, do, th, st, ne, to, nd, ave, ne, cascade, surveying, engineering, i, have, attached, the, scope, for, your, convenience, please, let, me, know, if, you, have, questions]</td>\n",
       "      <td>[(we, PRP), (are, VBP), (working, VBG), (with, IN), (an, DT), (engineering, NN), (firm, NN), (on, IN), (an, DT), (upcoming, JJ), (project, NN), (they, PRP), (have, VBP), (asked, VBN), (us, PRP), (to, TO), (gather, VB), (maps, NNS), (for, IN), (this, DT), (project, NN), (would, MD), (you, PRP), (be, VB), (able, JJ), (to, TO), (assist, VB), (me, PRP), (in, IN), (gathering, VBG), (maps, NNS), (records, NNS), (as, IN), (builds, NNS), (for, IN), (any, DT), (underground, JJ), (water, NN), (facilities, NNS), (you, PRP), (may, MD), (have, VB), (something, NN), (just, RB), (showing, VBG), (the, DT), (route, NN), (of, IN), (the, DT), (water, NN), (lines, NNS), (would, MD), (do, VB), (th, VB), (st, VB), (ne, JJ), (to, TO), (nd, VB), (ave, VB), (ne, JJ), (cascade, NN), (surveying, VBG), (engineering, NN), (i, NN), (have, VBP), (attached, VBN), (the, DT), (scope, NN), (for, IN), (your, PRP$), (convenience, NN), (please, NN), (let, VB), (me, PRP), (know, VB), (if, IN), (you, PRP), (have, VBP), (...</td>\n",
       "      <td>[work, engineering, firm, upcoming, project, gather, map, project, assist, gather, map, build, underground, water, facility, something, show, route, water, line, cascade, survey, engineering, scope, convenience]</td>\n",
       "      <td>25</td>\n",
       "      <td>['work_engineering', 'engineering_firm', 'firm_upcoming', 'upcoming_project', 'project_ask', 'ask_u', 'u_gather', 'gather_map', 'map_project', 'project_would', 'would_able', 'able_assist', 'assist_gather', 'gather_map', 'map_record', 'record_build', 'build_underground', 'underground_water', 'water_facility', 'facility_may', 'may_something', 'something_show', 'show_route', 'route_water', 'water_line', 'line_would', 'would_th', 'th_st', 'st_ne', 'ne_nd', 'nd_ave', 'ave_ne', 'ne_cascade', 'cascade_survey', 'survey_engineering', 'engineering_attach', 'attach_scope', 'scope_convenience', 'convenience_please', 'please_let', 'let_know', 'know_question']</td>\n",
       "      <td>61815</td>\n",
       "      <td>[]</td>\n",
       "      <td>[work, engineering, firm, upcoming, project, gather, map, project, assist, gather, map, build, underground, water, facility, something, show, route, water, line, cascade, survey, engineering, scope, convenience]</td>\n",
       "    </tr>\n",
       "    <tr>\n",
       "      <th>1</th>\n",
       "      <td>1</td>\n",
       "      <td>Need copies of contracts and all related documents pertaining to Topcub Aircraft property located at 17922 59th DR NE Arlington WA 98223 between Arlington Airport, Topcub Aircraft, City of Arlington, HCI Steel Buildings and PUD.</td>\n",
       "      <td>Arlington</td>\n",
       "      <td>2018-06</td>\n",
       "      <td>need copies of contracts and all related documents pertaining to topcub aircraft property located at  th dr ne  wa  between  airport topcub aircraft  of  hci steel buildings and pud</td>\n",
       "      <td>[need, copies, of, contracts, and, all, related, documents, pertaining, to, topcub, aircraft, property, located, at, th, dr, ne, wa, between, airport, topcub, aircraft, of, hci, steel, buildings, and, pud]</td>\n",
       "      <td>[(need, NN), (copies, NNS), (of, IN), (contracts, NNS), (and, CC), (all, DT), (related, JJ), (documents, NNS), (pertaining, VBG), (to, TO), (topcub, VB), (aircraft, NN), (property, NN), (located, VBN), (at, IN), (th, NN), (dr, NN), (ne, JJ), (wa, NN), (between, IN), (airport, NN), (topcub, NN), (aircraft, NN), (of, IN), (hci, NN), (steel, NN), (buildings, NNS), (and, CC), (pud, NN)]</td>\n",
       "      <td>[contract, related, pertain, topcub, aircraft, property, locate, airport, topcub, aircraft, hci, steel, building, pud]</td>\n",
       "      <td>15</td>\n",
       "      <td>['need_copy', 'copy_contract', 'contract_related', 'related_document', 'document_pertain', 'pertain_topcub', 'topcub_aircraft', 'aircraft_property', 'property_locate', 'locate_th', 'th_dr', 'dr_ne', 'ne_wa', 'wa_airport', 'airport_topcub', 'topcub_aircraft', 'aircraft_hci', 'hci_steel', 'steel_building', 'building_pud']</td>\n",
       "      <td>37214</td>\n",
       "      <td>['property_locate']</td>\n",
       "      <td>[contract, related, pertain, topcub, aircraft, property, locate, airport, topcub, aircraft, hci, steel, building, pud, property_locate]</td>\n",
       "    </tr>\n",
       "    <tr>\n",
       "      <th>2</th>\n",
       "      <td>2</td>\n",
       "      <td>Copies of Building Permits of $5,000 valuation and up ($20,000 min for Re-Roofs), ($50,000 min. for Cell Tower upgrades), (Electrical, Mechanical &amp; Plumbing at $100,000 min.) and (Solar Panels, Swimming Pools &amp; Foundations at any valuation)</td>\n",
       "      <td>Arlington</td>\n",
       "      <td>2018-06</td>\n",
       "      <td>copies of building permits of  valuation and up  min for re roofs  min for cell tower upgrades electrical mechanical  plumbing at  min and solar panels swimming pools  foundations at any valuation</td>\n",
       "      <td>[copies, of, building, permits, of, valuation, and, up, min, for, re, roofs, min, for, cell, tower, upgrades, electrical, mechanical, plumbing, at, min, and, solar, panels, swimming, pools, foundations, at, any, valuation]</td>\n",
       "      <td>[(copies, NNS), (of, IN), (building, VBG), (permits, NNS), (of, IN), (valuation, NN), (and, CC), (up, RB), (min, NN), (for, IN), (re, NN), (roofs, NNS), (min, VBP), (for, IN), (cell, NN), (tower, NN), (upgrades, JJ), (electrical, JJ), (mechanical, JJ), (plumbing, NN), (at, IN), (min, NN), (and, CC), (solar, JJ), (panels, NNS), (swimming, VBG), (pools, JJ), (foundations, NNS), (at, IN), (any, DT), (valuation, NN)]</td>\n",
       "      <td>[build, permit, valuation, min, roof, min, cell, tower, upgrades, electrical, mechanical, plumbing, min, solar, panel, swim, pools, foundation, valuation]</td>\n",
       "      <td>19</td>\n",
       "      <td>['copy_build', 'build_permit', 'permit_valuation', 'valuation_min', 'min_roof', 'roof_min', 'min_cell', 'cell_tower', 'tower_upgrades', 'upgrades_electrical', 'electrical_mechanical', 'mechanical_plumbing', 'plumbing_min', 'min_solar', 'solar_panel', 'panel_swim', 'swim_pools', 'pools_foundation', 'foundation_valuation']</td>\n",
       "      <td>13672</td>\n",
       "      <td>[]</td>\n",
       "      <td>[build, permit, valuation, min, roof, min, cell, tower, upgrades, electrical, mechanical, plumbing, min, solar, panel, swim, pools, foundation, valuation]</td>\n",
       "    </tr>\n",
       "    <tr>\n",
       "      <th>3</th>\n",
       "      <td>3</td>\n",
       "      <td>police report filed to an officer against Wayne Parris (DOB 08-03-1957) from Brittany J. Parris. The paperwork I have has a case number D18-39 it is also stamped at the bottom with 18-1294, Iím not sure which number you will need. If there is any other information needed please let me know.</td>\n",
       "      <td>Arlington</td>\n",
       "      <td>2018-06</td>\n",
       "      <td>police report filed to an officer against wayne parris dob    from brittany j parris the paperwork i have has a case number d  it is also stamped at the bottom with   iím not sure which number you will need if there is any other information needed please let me know</td>\n",
       "      <td>[police, report, filed, to, an, officer, against, wayne, parris, dob, from, brittany, j, parris, the, paperwork, i, have, has, a, case, number, d, it, is, also, stamped, at, the, bottom, with, iím, not, sure, which, number, you, will, need, if, there, is, any, other, information, needed, please, let, me, know]</td>\n",
       "      <td>[(police, NNS), (report, NN), (filed, VBD), (to, TO), (an, DT), (officer, NN), (against, IN), (wayne, JJ), (parris, JJ), (dob, NN), (from, IN), (brittany, JJ), (j, NN), (parris, VBD), (the, DT), (paperwork, NN), (i, NN), (have, VBP), (has, VBZ), (a, DT), (case, NN), (number, NN), (d, NN), (it, PRP), (is, VBZ), (also, RB), (stamped, VBN), (at, IN), (the, DT), (bottom, NN), (with, IN), (iím, JJ), (not, RB), (sure, JJ), (which, WDT), (number, NN), (you, PRP), (will, MD), (need, VB), (if, IN), (there, EX), (is, VBZ), (any, DT), (other, JJ), (information, NN), (needed, VBN), (please, NN), (let, VB), (me, PRP), (know, VB)]</td>\n",
       "      <td>[police, officer, wayne, parris, dob, brittany, parris, paperwork, case, number, stamp, bottom, iím, sure, number]</td>\n",
       "      <td>17</td>\n",
       "      <td>['police_report', 'report_file', 'file_officer', 'officer_wayne', 'wayne_parris', 'parris_dob', 'dob_brittany', 'brittany_j', 'j_parris', 'parris_paperwork', 'paperwork_case', 'case_number', 'number_also', 'also_stamp', 'stamp_bottom', 'bottom_iím', 'iím_sure', 'sure_number', 'number_need', 'need_information', 'information_need', 'need_please', 'please_let', 'let_know']</td>\n",
       "      <td>70002</td>\n",
       "      <td>['police_report', 'case_number']</td>\n",
       "      <td>[police, officer, wayne, parris, dob, brittany, parris, paperwork, case, number, stamp, bottom, iím, sure, number, police_report, case_number]</td>\n",
       "    </tr>\n",
       "    <tr>\n",
       "      <th>4</th>\n",
       "      <td>4</td>\n",
       "      <td>Email Communications between Stephanie Shook, Dave Kraski, Bruce Stedman and Chad Schmidt in regards to Fire Protection District 21 billing and passage of contract for ALS Services. \\n\\nAlso any copies of Agenda Bills, D21 Contract and materials presented for review in Nov/Dec time frame in regards to the contract.</td>\n",
       "      <td>Arlington</td>\n",
       "      <td>2018-06</td>\n",
       "      <td>email communications between stephanie shook dave kraski bruce stedman and chad schmidt in regards to fire protection district  billing and passage of contract for als services \\n\\nalso any copies of agenda bills d contract and materials presented for review in nov dec time frame in regards to the contract</td>\n",
       "      <td>[email, communications, between, stephanie, shook, dave, kraski, bruce, stedman, and, chad, schmidt, in, regards, to, fire, protection, district, billing, and, passage, of, contract, for, als, services, also, any, copies, of, agenda, bills, d, contract, and, materials, presented, for, review, in, nov, dec, time, frame, in, regards, to, the, contract]</td>\n",
       "      <td>[(email, NN), (communications, NNS), (between, IN), (stephanie, JJ), (shook, NN), (dave, VBP), (kraski, VBN), (bruce, NN), (stedman, NN), (and, CC), (chad, VBD), (schmidt, VBN), (in, IN), (regards, NNS), (to, TO), (fire, VB), (protection, NN), (district, NN), (billing, NN), (and, CC), (passage, NN), (of, IN), (contract, NN), (for, IN), (als, NNS), (services, NNS), (also, RB), (any, DT), (copies, NNS), (of, IN), (agenda, NN), (bills, NNS), (d, VBP), (contract, NN), (and, CC), (materials, NNS), (presented, VBN), (for, IN), (review, NN), (in, IN), (nov, JJ), (dec, NN), (time, NN), (frame, NN), (in, IN), (regards, NNS), (to, TO), (the, DT), (contract, NN)]</td>\n",
       "      <td>[email, communication, stephanie, shook, dave, kraski, bruce, stedman, chad, schmidt, fire, protection, district, billing, passage, contract, al, service, agenda, bill, contract, material, present, review, time, frame, contract]</td>\n",
       "      <td>27</td>\n",
       "      <td>['email_communication', 'communication_stephanie', 'stephanie_shook', 'shook_dave', 'dave_kraski', 'kraski_bruce', 'bruce_stedman', 'stedman_chad', 'chad_schmidt', 'schmidt_regard', 'regard_fire', 'fire_protection', 'protection_district', 'district_billing', 'billing_passage', 'passage_contract', 'contract_al', 'al_service', 'service_also', 'also_copy', 'copy_agenda', 'agenda_bill', 'bill_contract', 'contract_material', 'material_present', 'present_review', 'review_nov', 'nov_dec', 'dec_time', 'time_frame', 'frame_regard', 'regard_contract']</td>\n",
       "      <td>47312</td>\n",
       "      <td>[]</td>\n",
       "      <td>[email, communication, stephanie, shook, dave, kraski, bruce, stedman, chad, schmidt, fire, protection, district, billing, passage, contract, al, service, agenda, bill, contract, material, present, review, time, frame, contract]</td>\n",
       "    </tr>\n",
       "  </tbody>\n",
       "</table>\n",
       "</div>"
      ],
      "text/plain": [
       "   index                                                                                                                                                                                                                                                                                                                                                                                                                                                                                Summary       city month_year                                                                                                                                                                                                                                                                                                                                                                                                                                                        sum_ed  \\\n",
       "0      0  We are working with an engineering firm on an upcoming project.  They have asked us to gather maps for this project.  Would you be able to assist me in gathering maps/records (as builds) for any underground water facilities you may have?  Something just showing the route of the water lines would do.\\n\\n207th ST NE to 92nd Ave NE, Arlington, Cascade Surveying & Engineering \\n\\nI have attached the scope for your convenience.  Please let me know if you have questions.  Arlington    2018-06  we are working with an engineering firm on an upcoming project  they have asked us to gather maps for this project  would you be able to assist me in gathering maps records as builds for any underground water facilities you may have  something just showing the route of the water lines would do\\n\\nth st ne to nd ave ne  cascade surveying  engineering \\n\\ni have attached the scope for your convenience  please let me know if you have questions   \n",
       "1      1                                                                                                                                                                                                                                                   Need copies of contracts and all related documents pertaining to Topcub Aircraft property located at 17922 59th DR NE Arlington WA 98223 between Arlington Airport, Topcub Aircraft, City of Arlington, HCI Steel Buildings and PUD.  Arlington    2018-06                                                                                                                                                                                                                                                                         need copies of contracts and all related documents pertaining to topcub aircraft property located at  th dr ne  wa  between  airport topcub aircraft  of  hci steel buildings and pud   \n",
       "2      2                                                                                                                                                                                                                                       Copies of Building Permits of $5,000 valuation and up ($20,000 min for Re-Roofs), ($50,000 min. for Cell Tower upgrades), (Electrical, Mechanical & Plumbing at $100,000 min.) and (Solar Panels, Swimming Pools & Foundations at any valuation)  Arlington    2018-06                                                                                                                                                                                                                                                          copies of building permits of  valuation and up  min for re roofs  min for cell tower upgrades electrical mechanical  plumbing at  min and solar panels swimming pools  foundations at any valuation   \n",
       "3      3                                                                                                                                                                                    police report filed to an officer against Wayne Parris (DOB 08-03-1957) from Brittany J. Parris. The paperwork I have has a case number D18-39 it is also stamped at the bottom with 18-1294, Iím not sure which number you will need. If there is any other information needed please let me know.  Arlington    2018-06                                                                                                                                                                                    police report filed to an officer against wayne parris dob    from brittany j parris the paperwork i have has a case number d  it is also stamped at the bottom with   iím not sure which number you will need if there is any other information needed please let me know   \n",
       "4      4                                                                                                                                                           Email Communications between Stephanie Shook, Dave Kraski, Bruce Stedman and Chad Schmidt in regards to Fire Protection District 21 billing and passage of contract for ALS Services. \\n\\nAlso any copies of Agenda Bills, D21 Contract and materials presented for review in Nov/Dec time frame in regards to the contract.  Arlington    2018-06                                                                                                                                           email communications between stephanie shook dave kraski bruce stedman and chad schmidt in regards to fire protection district  billing and passage of contract for als services \\n\\nalso any copies of agenda bills d contract and materials presented for review in nov dec time frame in regards to the contract   \n",
       "\n",
       "                                                                                                                                                                                                                                                                                                                                                                                                                                                                                                                             token  \\\n",
       "0  [we, are, working, with, an, engineering, firm, on, an, upcoming, project, they, have, asked, us, to, gather, maps, for, this, project, would, you, be, able, to, assist, me, in, gathering, maps, records, as, builds, for, any, underground, water, facilities, you, may, have, something, just, showing, the, route, of, the, water, lines, would, do, th, st, ne, to, nd, ave, ne, cascade, surveying, engineering, i, have, attached, the, scope, for, your, convenience, please, let, me, know, if, you, have, questions]   \n",
       "1                                                                                                                                                                                                                                                                                                                    [need, copies, of, contracts, and, all, related, documents, pertaining, to, topcub, aircraft, property, located, at, th, dr, ne, wa, between, airport, topcub, aircraft, of, hci, steel, buildings, and, pud]   \n",
       "2                                                                                                                                                                                                                                                                                                   [copies, of, building, permits, of, valuation, and, up, min, for, re, roofs, min, for, cell, tower, upgrades, electrical, mechanical, plumbing, at, min, and, solar, panels, swimming, pools, foundations, at, any, valuation]   \n",
       "3                                                                                                                                                                                                          [police, report, filed, to, an, officer, against, wayne, parris, dob, from, brittany, j, parris, the, paperwork, i, have, has, a, case, number, d, it, is, also, stamped, at, the, bottom, with, iím, not, sure, which, number, you, will, need, if, there, is, any, other, information, needed, please, let, me, know]   \n",
       "4                                                                                                                                                                 [email, communications, between, stephanie, shook, dave, kraski, bruce, stedman, and, chad, schmidt, in, regards, to, fire, protection, district, billing, and, passage, of, contract, for, als, services, also, any, copies, of, agenda, bills, d, contract, and, materials, presented, for, review, in, nov, dec, time, frame, in, regards, to, the, contract]   \n",
       "\n",
       "                                                                                                                                                                                                                                                                                                                                                                                                                                                                                                                                                                                                                                                                                                                                                                                                                                                                                                                                                                                                                                     lemma  \\\n",
       "0  [(we, PRP), (are, VBP), (working, VBG), (with, IN), (an, DT), (engineering, NN), (firm, NN), (on, IN), (an, DT), (upcoming, JJ), (project, NN), (they, PRP), (have, VBP), (asked, VBN), (us, PRP), (to, TO), (gather, VB), (maps, NNS), (for, IN), (this, DT), (project, NN), (would, MD), (you, PRP), (be, VB), (able, JJ), (to, TO), (assist, VB), (me, PRP), (in, IN), (gathering, VBG), (maps, NNS), (records, NNS), (as, IN), (builds, NNS), (for, IN), (any, DT), (underground, JJ), (water, NN), (facilities, NNS), (you, PRP), (may, MD), (have, VB), (something, NN), (just, RB), (showing, VBG), (the, DT), (route, NN), (of, IN), (the, DT), (water, NN), (lines, NNS), (would, MD), (do, VB), (th, VB), (st, VB), (ne, JJ), (to, TO), (nd, VB), (ave, VB), (ne, JJ), (cascade, NN), (surveying, VBG), (engineering, NN), (i, NN), (have, VBP), (attached, VBN), (the, DT), (scope, NN), (for, IN), (your, PRP$), (convenience, NN), (please, NN), (let, VB), (me, PRP), (know, VB), (if, IN), (you, PRP), (have, VBP), (...   \n",
       "1                                                                                                                                                                                                                                                                                                                                                                                                                                                                                                                                                                                                                                        [(need, NN), (copies, NNS), (of, IN), (contracts, NNS), (and, CC), (all, DT), (related, JJ), (documents, NNS), (pertaining, VBG), (to, TO), (topcub, VB), (aircraft, NN), (property, NN), (located, VBN), (at, IN), (th, NN), (dr, NN), (ne, JJ), (wa, NN), (between, IN), (airport, NN), (topcub, NN), (aircraft, NN), (of, IN), (hci, NN), (steel, NN), (buildings, NNS), (and, CC), (pud, NN)]   \n",
       "2                                                                                                                                                                                                                                                                                                                                                                                                                                                                                                                                                                                                         [(copies, NNS), (of, IN), (building, VBG), (permits, NNS), (of, IN), (valuation, NN), (and, CC), (up, RB), (min, NN), (for, IN), (re, NN), (roofs, NNS), (min, VBP), (for, IN), (cell, NN), (tower, NN), (upgrades, JJ), (electrical, JJ), (mechanical, JJ), (plumbing, NN), (at, IN), (min, NN), (and, CC), (solar, JJ), (panels, NNS), (swimming, VBG), (pools, JJ), (foundations, NNS), (at, IN), (any, DT), (valuation, NN)]   \n",
       "3                                                                                                                                                                                                                                                                                                                                                                                         [(police, NNS), (report, NN), (filed, VBD), (to, TO), (an, DT), (officer, NN), (against, IN), (wayne, JJ), (parris, JJ), (dob, NN), (from, IN), (brittany, JJ), (j, NN), (parris, VBD), (the, DT), (paperwork, NN), (i, NN), (have, VBP), (has, VBZ), (a, DT), (case, NN), (number, NN), (d, NN), (it, PRP), (is, VBZ), (also, RB), (stamped, VBN), (at, IN), (the, DT), (bottom, NN), (with, IN), (iím, JJ), (not, RB), (sure, JJ), (which, WDT), (number, NN), (you, PRP), (will, MD), (need, VB), (if, IN), (there, EX), (is, VBZ), (any, DT), (other, JJ), (information, NN), (needed, VBN), (please, NN), (let, VB), (me, PRP), (know, VB)]   \n",
       "4                                                                                                                                                                                                                                                                                                                                                     [(email, NN), (communications, NNS), (between, IN), (stephanie, JJ), (shook, NN), (dave, VBP), (kraski, VBN), (bruce, NN), (stedman, NN), (and, CC), (chad, VBD), (schmidt, VBN), (in, IN), (regards, NNS), (to, TO), (fire, VB), (protection, NN), (district, NN), (billing, NN), (and, CC), (passage, NN), (of, IN), (contract, NN), (for, IN), (als, NNS), (services, NNS), (also, RB), (any, DT), (copies, NNS), (of, IN), (agenda, NN), (bills, NNS), (d, VBP), (contract, NN), (and, CC), (materials, NNS), (presented, VBN), (for, IN), (review, NN), (in, IN), (nov, JJ), (dec, NN), (time, NN), (frame, NN), (in, IN), (regards, NNS), (to, TO), (the, DT), (contract, NN)]   \n",
       "\n",
       "                                                                                                                                                                                                                                   mash  mash_len                                                                                                                                                                                                                                                                                                                                                                                                                                                                                                                                                                                                                                                                         bigrams  count_total                    common_bigrams  \\\n",
       "0                   [work, engineering, firm, upcoming, project, gather, map, project, assist, gather, map, build, underground, water, facility, something, show, route, water, line, cascade, survey, engineering, scope, convenience]        25  ['work_engineering', 'engineering_firm', 'firm_upcoming', 'upcoming_project', 'project_ask', 'ask_u', 'u_gather', 'gather_map', 'map_project', 'project_would', 'would_able', 'able_assist', 'assist_gather', 'gather_map', 'map_record', 'record_build', 'build_underground', 'underground_water', 'water_facility', 'facility_may', 'may_something', 'something_show', 'show_route', 'route_water', 'water_line', 'line_would', 'would_th', 'th_st', 'st_ne', 'ne_nd', 'nd_ave', 'ave_ne', 'ne_cascade', 'cascade_survey', 'survey_engineering', 'engineering_attach', 'attach_scope', 'scope_convenience', 'convenience_please', 'please_let', 'let_know', 'know_question']        61815                                []   \n",
       "1                                                                                                                [contract, related, pertain, topcub, aircraft, property, locate, airport, topcub, aircraft, hci, steel, building, pud]        15                                                                                                                                                                                                                                                                                                                                               ['need_copy', 'copy_contract', 'contract_related', 'related_document', 'document_pertain', 'pertain_topcub', 'topcub_aircraft', 'aircraft_property', 'property_locate', 'locate_th', 'th_dr', 'dr_ne', 'ne_wa', 'wa_airport', 'airport_topcub', 'topcub_aircraft', 'aircraft_hci', 'hci_steel', 'steel_building', 'building_pud']        37214               ['property_locate']   \n",
       "2                                                                            [build, permit, valuation, min, roof, min, cell, tower, upgrades, electrical, mechanical, plumbing, min, solar, panel, swim, pools, foundation, valuation]        19                                                                                                                                                                                                                                                                                                                                              ['copy_build', 'build_permit', 'permit_valuation', 'valuation_min', 'min_roof', 'roof_min', 'min_cell', 'cell_tower', 'tower_upgrades', 'upgrades_electrical', 'electrical_mechanical', 'mechanical_plumbing', 'plumbing_min', 'min_solar', 'solar_panel', 'panel_swim', 'swim_pools', 'pools_foundation', 'foundation_valuation']        13672                                []   \n",
       "3                                                                                                                    [police, officer, wayne, parris, dob, brittany, parris, paperwork, case, number, stamp, bottom, iím, sure, number]        17                                                                                                                                                                                                                                                                                            ['police_report', 'report_file', 'file_officer', 'officer_wayne', 'wayne_parris', 'parris_dob', 'dob_brittany', 'brittany_j', 'j_parris', 'parris_paperwork', 'paperwork_case', 'case_number', 'number_also', 'also_stamp', 'stamp_bottom', 'bottom_iím', 'iím_sure', 'sure_number', 'number_need', 'need_information', 'information_need', 'need_please', 'please_let', 'let_know']        70002  ['police_report', 'case_number']   \n",
       "4  [email, communication, stephanie, shook, dave, kraski, bruce, stedman, chad, schmidt, fire, protection, district, billing, passage, contract, al, service, agenda, bill, contract, material, present, review, time, frame, contract]        27                                                                                                             ['email_communication', 'communication_stephanie', 'stephanie_shook', 'shook_dave', 'dave_kraski', 'kraski_bruce', 'bruce_stedman', 'stedman_chad', 'chad_schmidt', 'schmidt_regard', 'regard_fire', 'fire_protection', 'protection_district', 'district_billing', 'billing_passage', 'passage_contract', 'contract_al', 'al_service', 'service_also', 'also_copy', 'copy_agenda', 'agenda_bill', 'bill_contract', 'contract_material', 'material_present', 'present_review', 'review_nov', 'nov_dec', 'dec_time', 'time_frame', 'frame_regard', 'regard_contract']        47312                                []   \n",
       "\n",
       "                                                                                                                                                                                                                             final_mash  \n",
       "0                   [work, engineering, firm, upcoming, project, gather, map, project, assist, gather, map, build, underground, water, facility, something, show, route, water, line, cascade, survey, engineering, scope, convenience]  \n",
       "1                                                                                               [contract, related, pertain, topcub, aircraft, property, locate, airport, topcub, aircraft, hci, steel, building, pud, property_locate]  \n",
       "2                                                                            [build, permit, valuation, min, roof, min, cell, tower, upgrades, electrical, mechanical, plumbing, min, solar, panel, swim, pools, foundation, valuation]  \n",
       "3                                                                                        [police, officer, wayne, parris, dob, brittany, parris, paperwork, case, number, stamp, bottom, iím, sure, number, police_report, case_number]  \n",
       "4  [email, communication, stephanie, shook, dave, kraski, bruce, stedman, chad, schmidt, fire, protection, district, billing, passage, contract, al, service, agenda, bill, contract, material, present, review, time, frame, contract]  "
      ]
     },
     "execution_count": 107,
     "metadata": {},
     "output_type": "execute_result"
    }
   ],
   "source": [
    "data.head()"
   ]
  },
  {
   "cell_type": "code",
   "execution_count": 69,
   "metadata": {},
   "outputs": [
    {
     "data": {
      "text/plain": [
       "count    93744.000000\n",
       "mean        15.715096\n",
       "std         27.687456\n",
       "min          1.000000\n",
       "25%          3.000000\n",
       "50%          7.000000\n",
       "75%         18.000000\n",
       "max       2729.000000\n",
       "Name: mash_len, dtype: float64"
      ]
     },
     "execution_count": 69,
     "metadata": {},
     "output_type": "execute_result"
    }
   ],
   "source": [
    "data.mash_len.describe()"
   ]
  },
  {
   "cell_type": "markdown",
   "metadata": {},
   "source": [
    "## 1) Remove words at or below certain count\n",
    "\n",
    "### count = 1"
   ]
  },
  {
   "cell_type": "code",
   "execution_count": 70,
   "metadata": {
    "collapsed": true
   },
   "outputs": [],
   "source": [
    "word_list = [y for x in list(data['mash']) for y in x]\n",
    "counts = Counter(word_list)"
   ]
  },
  {
   "cell_type": "code",
   "execution_count": 71,
   "metadata": {},
   "outputs": [
    {
     "data": {
      "text/plain": [
       "count    54183.000000\n",
       "mean        25.364838\n",
       "std        248.658395\n",
       "min          1.000000\n",
       "25%          1.000000\n",
       "50%          1.000000\n",
       "75%          4.000000\n",
       "max      15231.000000\n",
       "Name: count, dtype: float64"
      ]
     },
     "execution_count": 71,
     "metadata": {},
     "output_type": "execute_result"
    }
   ],
   "source": [
    "count_df = pd.Series(counts, name = 'count') \n",
    "count_df.index.name = 'word'\n",
    "count_df = count_df.reset_index()\n",
    "count_df['count'].describe()"
   ]
  },
  {
   "cell_type": "code",
   "execution_count": 113,
   "metadata": {
    "collapsed": true
   },
   "outputs": [],
   "source": [
    "data1 = data.copy()\n",
    "data1['mash'] = data1['mash'].apply(lambda x: [i for i in x if counts[i] > 10])\n",
    "data1['final_mash'] = data1['mash'] + data1['common_bigrams']"
   ]
  },
  {
   "cell_type": "code",
   "execution_count": 114,
   "metadata": {
    "collapsed": true
   },
   "outputs": [],
   "source": [
    "data1['mash_len'] = data1['final_mash'].apply(len)\n",
    "data1 = data1[data1['mash_len'] != 0]"
   ]
  },
  {
   "cell_type": "code",
   "execution_count": 115,
   "metadata": {},
   "outputs": [
    {
     "data": {
      "text/plain": [
       "count    92563.000000\n",
       "mean        14.872476\n",
       "std         26.004775\n",
       "min          1.000000\n",
       "25%          3.000000\n",
       "50%          7.000000\n",
       "75%         17.000000\n",
       "max       2411.000000\n",
       "Name: mash_len, dtype: float64"
      ]
     },
     "execution_count": 115,
     "metadata": {},
     "output_type": "execute_result"
    }
   ],
   "source": [
    "data1.mash_len.describe()"
   ]
  },
  {
   "cell_type": "markdown",
   "metadata": {},
   "source": [
    "### count = 10"
   ]
  },
  {
   "cell_type": "code",
   "execution_count": null,
   "metadata": {},
   "outputs": [],
   "source": []
  },
  {
   "cell_type": "code",
   "execution_count": 110,
   "metadata": {
    "collapsed": true
   },
   "outputs": [],
   "source": [
    "data10 = data.copy()\n",
    "data10['mash'] = data10['mash'].apply(lambda x: [i for i in x if counts[i] > 10])\n",
    "data10['final_mash'] = data10['mash'] + data10['common_bigrams']"
   ]
  },
  {
   "cell_type": "code",
   "execution_count": 112,
   "metadata": {},
   "outputs": [
    {
     "data": {
      "text/plain": [
       "count    93744.000000\n",
       "mean        14.685111\n",
       "std         25.893634\n",
       "min          0.000000\n",
       "25%          3.000000\n",
       "50%          7.000000\n",
       "75%         17.000000\n",
       "max       2411.000000\n",
       "Name: mash_len, dtype: float64"
      ]
     },
     "execution_count": 112,
     "metadata": {},
     "output_type": "execute_result"
    }
   ],
   "source": [
    "data10 = data10[data10['mash_len'] != 0]\n",
    "data10['mash_len'] = data10['final_mash'].apply(len)\n",
    "data10.mash_len.describe()"
   ]
  },
  {
   "cell_type": "markdown",
   "metadata": {},
   "source": [
    "## 2) Remove proper names"
   ]
  },
  {
   "cell_type": "markdown",
   "metadata": {},
   "source": [
    "### 2a) Using NLTK"
   ]
  },
  {
   "cell_type": "code",
   "execution_count": 80,
   "metadata": {
    "collapsed": true
   },
   "outputs": [],
   "source": [
    "data_pn_nltk = data.copy()"
   ]
  },
  {
   "cell_type": "code",
   "execution_count": 81,
   "metadata": {},
   "outputs": [
    {
     "data": {
      "text/html": [
       "<div>\n",
       "<style scoped>\n",
       "    .dataframe tbody tr th:only-of-type {\n",
       "        vertical-align: middle;\n",
       "    }\n",
       "\n",
       "    .dataframe tbody tr th {\n",
       "        vertical-align: top;\n",
       "    }\n",
       "\n",
       "    .dataframe thead th {\n",
       "        text-align: right;\n",
       "    }\n",
       "</style>\n",
       "<table border=\"1\" class=\"dataframe\">\n",
       "  <thead>\n",
       "    <tr style=\"text-align: right;\">\n",
       "      <th></th>\n",
       "      <th>index</th>\n",
       "      <th>Summary</th>\n",
       "      <th>city</th>\n",
       "      <th>month_year</th>\n",
       "      <th>sum_ed</th>\n",
       "      <th>token</th>\n",
       "      <th>lemma</th>\n",
       "      <th>mash</th>\n",
       "      <th>mash_len</th>\n",
       "      <th>bigrams</th>\n",
       "      <th>count_total</th>\n",
       "      <th>common_bigrams</th>\n",
       "      <th>final_mash</th>\n",
       "    </tr>\n",
       "  </thead>\n",
       "  <tbody>\n",
       "    <tr>\n",
       "      <th>0</th>\n",
       "      <td>0</td>\n",
       "      <td>We are working with an engineering firm on an upcoming project.  They have asked us to gather maps for this project.  Would you be able to assist me in gathering maps/records (as builds) for any underground water facilities you may have?  Something just showing the route of the water lines would do.\\n\\n207th ST NE to 92nd Ave NE, Arlington, Cascade Surveying &amp; Engineering \\n\\nI have attached the scope for your convenience.  Please let me know if you have questions.</td>\n",
       "      <td>Arlington</td>\n",
       "      <td>2018-06</td>\n",
       "      <td>we are working with an engineering firm on an upcoming project  they have asked us to gather maps for this project  would you be able to assist me in gathering maps records as builds for any underground water facilities you may have  something just showing the route of the water lines would do\\n\\nth st ne to nd ave ne  cascade surveying  engineering \\n\\ni have attached the scope for your convenience  please let me know if you have questions</td>\n",
       "      <td>[we, are, working, with, an, engineering, firm, on, an, upcoming, project, they, have, asked, us, to, gather, maps, for, this, project, would, you, be, able, to, assist, me, in, gathering, maps, records, as, builds, for, any, underground, water, facilities, you, may, have, something, just, showing, the, route, of, the, water, lines, would, do, th, st, ne, to, nd, ave, ne, cascade, surveying, engineering, i, have, attached, the, scope, for, your, convenience, please, let, me, know, if, you, have, questions]</td>\n",
       "      <td>[(we, PRP), (are, VBP), (working, VBG), (with, IN), (an, DT), (engineering, NN), (firm, NN), (on, IN), (an, DT), (upcoming, JJ), (project, NN), (they, PRP), (have, VBP), (asked, VBN), (us, PRP), (to, TO), (gather, VB), (maps, NNS), (for, IN), (this, DT), (project, NN), (would, MD), (you, PRP), (be, VB), (able, JJ), (to, TO), (assist, VB), (me, PRP), (in, IN), (gathering, VBG), (maps, NNS), (records, NNS), (as, IN), (builds, NNS), (for, IN), (any, DT), (underground, JJ), (water, NN), (facilities, NNS), (you, PRP), (may, MD), (have, VB), (something, NN), (just, RB), (showing, VBG), (the, DT), (route, NN), (of, IN), (the, DT), (water, NN), (lines, NNS), (would, MD), (do, VB), (th, VB), (st, VB), (ne, JJ), (to, TO), (nd, VB), (ave, VB), (ne, JJ), (cascade, NN), (surveying, VBG), (engineering, NN), (i, NN), (have, VBP), (attached, VBN), (the, DT), (scope, NN), (for, IN), (your, PRP$), (convenience, NN), (please, NN), (let, VB), (me, PRP), (know, VB), (if, IN), (you, PRP), (have, VBP), (...</td>\n",
       "      <td>[work, engineering, firm, upcoming, project, gather, map, project, assist, gather, map, build, underground, water, facility, something, show, route, water, line, cascade, survey, engineering, scope, convenience]</td>\n",
       "      <td>25</td>\n",
       "      <td>['work_engineering', 'engineering_firm', 'firm_upcoming', 'upcoming_project', 'project_ask', 'ask_u', 'u_gather', 'gather_map', 'map_project', 'project_would', 'would_able', 'able_assist', 'assist_gather', 'gather_map', 'map_record', 'record_build', 'build_underground', 'underground_water', 'water_facility', 'facility_may', 'may_something', 'something_show', 'show_route', 'route_water', 'water_line', 'line_would', 'would_th', 'th_st', 'st_ne', 'ne_nd', 'nd_ave', 'ave_ne', 'ne_cascade', 'cascade_survey', 'survey_engineering', 'engineering_attach', 'attach_scope', 'scope_convenience', 'convenience_please', 'please_let', 'let_know', 'know_question']</td>\n",
       "      <td>61815</td>\n",
       "      <td>[]</td>\n",
       "      <td>[work, engineering, firm, upcoming, project, gather, map, project, assist, gather, map, build, underground, water, facility, something, show, route, water, line, cascade, survey, engineering, scope, convenience]</td>\n",
       "    </tr>\n",
       "    <tr>\n",
       "      <th>1</th>\n",
       "      <td>1</td>\n",
       "      <td>Need copies of contracts and all related documents pertaining to Topcub Aircraft property located at 17922 59th DR NE Arlington WA 98223 between Arlington Airport, Topcub Aircraft, City of Arlington, HCI Steel Buildings and PUD.</td>\n",
       "      <td>Arlington</td>\n",
       "      <td>2018-06</td>\n",
       "      <td>need copies of contracts and all related documents pertaining to topcub aircraft property located at  th dr ne  wa  between  airport topcub aircraft  of  hci steel buildings and pud</td>\n",
       "      <td>[need, copies, of, contracts, and, all, related, documents, pertaining, to, topcub, aircraft, property, located, at, th, dr, ne, wa, between, airport, topcub, aircraft, of, hci, steel, buildings, and, pud]</td>\n",
       "      <td>[(need, NN), (copies, NNS), (of, IN), (contracts, NNS), (and, CC), (all, DT), (related, JJ), (documents, NNS), (pertaining, VBG), (to, TO), (topcub, VB), (aircraft, NN), (property, NN), (located, VBN), (at, IN), (th, NN), (dr, NN), (ne, JJ), (wa, NN), (between, IN), (airport, NN), (topcub, NN), (aircraft, NN), (of, IN), (hci, NN), (steel, NN), (buildings, NNS), (and, CC), (pud, NN)]</td>\n",
       "      <td>[contract, related, pertain, topcub, aircraft, property, locate, airport, topcub, aircraft, hci, steel, building, pud]</td>\n",
       "      <td>15</td>\n",
       "      <td>['need_copy', 'copy_contract', 'contract_related', 'related_document', 'document_pertain', 'pertain_topcub', 'topcub_aircraft', 'aircraft_property', 'property_locate', 'locate_th', 'th_dr', 'dr_ne', 'ne_wa', 'wa_airport', 'airport_topcub', 'topcub_aircraft', 'aircraft_hci', 'hci_steel', 'steel_building', 'building_pud']</td>\n",
       "      <td>37214</td>\n",
       "      <td>['property_locate']</td>\n",
       "      <td>[contract, related, pertain, topcub, aircraft, property, locate, airport, topcub, aircraft, hci, steel, building, pud, property_locate]</td>\n",
       "    </tr>\n",
       "    <tr>\n",
       "      <th>2</th>\n",
       "      <td>2</td>\n",
       "      <td>Copies of Building Permits of $5,000 valuation and up ($20,000 min for Re-Roofs), ($50,000 min. for Cell Tower upgrades), (Electrical, Mechanical &amp; Plumbing at $100,000 min.) and (Solar Panels, Swimming Pools &amp; Foundations at any valuation)</td>\n",
       "      <td>Arlington</td>\n",
       "      <td>2018-06</td>\n",
       "      <td>copies of building permits of  valuation and up  min for re roofs  min for cell tower upgrades electrical mechanical  plumbing at  min and solar panels swimming pools  foundations at any valuation</td>\n",
       "      <td>[copies, of, building, permits, of, valuation, and, up, min, for, re, roofs, min, for, cell, tower, upgrades, electrical, mechanical, plumbing, at, min, and, solar, panels, swimming, pools, foundations, at, any, valuation]</td>\n",
       "      <td>[(copies, NNS), (of, IN), (building, VBG), (permits, NNS), (of, IN), (valuation, NN), (and, CC), (up, RB), (min, NN), (for, IN), (re, NN), (roofs, NNS), (min, VBP), (for, IN), (cell, NN), (tower, NN), (upgrades, JJ), (electrical, JJ), (mechanical, JJ), (plumbing, NN), (at, IN), (min, NN), (and, CC), (solar, JJ), (panels, NNS), (swimming, VBG), (pools, JJ), (foundations, NNS), (at, IN), (any, DT), (valuation, NN)]</td>\n",
       "      <td>[build, permit, valuation, min, roof, min, cell, tower, upgrades, electrical, mechanical, plumbing, min, solar, panel, swim, pools, foundation, valuation]</td>\n",
       "      <td>19</td>\n",
       "      <td>['copy_build', 'build_permit', 'permit_valuation', 'valuation_min', 'min_roof', 'roof_min', 'min_cell', 'cell_tower', 'tower_upgrades', 'upgrades_electrical', 'electrical_mechanical', 'mechanical_plumbing', 'plumbing_min', 'min_solar', 'solar_panel', 'panel_swim', 'swim_pools', 'pools_foundation', 'foundation_valuation']</td>\n",
       "      <td>13672</td>\n",
       "      <td>[]</td>\n",
       "      <td>[build, permit, valuation, min, roof, min, cell, tower, upgrades, electrical, mechanical, plumbing, min, solar, panel, swim, pools, foundation, valuation]</td>\n",
       "    </tr>\n",
       "    <tr>\n",
       "      <th>3</th>\n",
       "      <td>3</td>\n",
       "      <td>police report filed to an officer against Wayne Parris (DOB 08-03-1957) from Brittany J. Parris. The paperwork I have has a case number D18-39 it is also stamped at the bottom with 18-1294, Iím not sure which number you will need. If there is any other information needed please let me know.</td>\n",
       "      <td>Arlington</td>\n",
       "      <td>2018-06</td>\n",
       "      <td>police report filed to an officer against wayne parris dob    from brittany j parris the paperwork i have has a case number d  it is also stamped at the bottom with   iím not sure which number you will need if there is any other information needed please let me know</td>\n",
       "      <td>[police, report, filed, to, an, officer, against, wayne, parris, dob, from, brittany, j, parris, the, paperwork, i, have, has, a, case, number, d, it, is, also, stamped, at, the, bottom, with, iím, not, sure, which, number, you, will, need, if, there, is, any, other, information, needed, please, let, me, know]</td>\n",
       "      <td>[(police, NNS), (report, NN), (filed, VBD), (to, TO), (an, DT), (officer, NN), (against, IN), (wayne, JJ), (parris, JJ), (dob, NN), (from, IN), (brittany, JJ), (j, NN), (parris, VBD), (the, DT), (paperwork, NN), (i, NN), (have, VBP), (has, VBZ), (a, DT), (case, NN), (number, NN), (d, NN), (it, PRP), (is, VBZ), (also, RB), (stamped, VBN), (at, IN), (the, DT), (bottom, NN), (with, IN), (iím, JJ), (not, RB), (sure, JJ), (which, WDT), (number, NN), (you, PRP), (will, MD), (need, VB), (if, IN), (there, EX), (is, VBZ), (any, DT), (other, JJ), (information, NN), (needed, VBN), (please, NN), (let, VB), (me, PRP), (know, VB)]</td>\n",
       "      <td>[police, officer, wayne, parris, dob, brittany, parris, paperwork, case, number, stamp, bottom, iím, sure, number]</td>\n",
       "      <td>17</td>\n",
       "      <td>['police_report', 'report_file', 'file_officer', 'officer_wayne', 'wayne_parris', 'parris_dob', 'dob_brittany', 'brittany_j', 'j_parris', 'parris_paperwork', 'paperwork_case', 'case_number', 'number_also', 'also_stamp', 'stamp_bottom', 'bottom_iím', 'iím_sure', 'sure_number', 'number_need', 'need_information', 'information_need', 'need_please', 'please_let', 'let_know']</td>\n",
       "      <td>70002</td>\n",
       "      <td>['police_report', 'case_number']</td>\n",
       "      <td>[police, officer, wayne, parris, dob, brittany, parris, paperwork, case, number, stamp, bottom, iím, sure, number, police_report, case_number]</td>\n",
       "    </tr>\n",
       "    <tr>\n",
       "      <th>4</th>\n",
       "      <td>4</td>\n",
       "      <td>Email Communications between Stephanie Shook, Dave Kraski, Bruce Stedman and Chad Schmidt in regards to Fire Protection District 21 billing and passage of contract for ALS Services. \\n\\nAlso any copies of Agenda Bills, D21 Contract and materials presented for review in Nov/Dec time frame in regards to the contract.</td>\n",
       "      <td>Arlington</td>\n",
       "      <td>2018-06</td>\n",
       "      <td>email communications between stephanie shook dave kraski bruce stedman and chad schmidt in regards to fire protection district  billing and passage of contract for als services \\n\\nalso any copies of agenda bills d contract and materials presented for review in nov dec time frame in regards to the contract</td>\n",
       "      <td>[email, communications, between, stephanie, shook, dave, kraski, bruce, stedman, and, chad, schmidt, in, regards, to, fire, protection, district, billing, and, passage, of, contract, for, als, services, also, any, copies, of, agenda, bills, d, contract, and, materials, presented, for, review, in, nov, dec, time, frame, in, regards, to, the, contract]</td>\n",
       "      <td>[(email, NN), (communications, NNS), (between, IN), (stephanie, JJ), (shook, NN), (dave, VBP), (kraski, VBN), (bruce, NN), (stedman, NN), (and, CC), (chad, VBD), (schmidt, VBN), (in, IN), (regards, NNS), (to, TO), (fire, VB), (protection, NN), (district, NN), (billing, NN), (and, CC), (passage, NN), (of, IN), (contract, NN), (for, IN), (als, NNS), (services, NNS), (also, RB), (any, DT), (copies, NNS), (of, IN), (agenda, NN), (bills, NNS), (d, VBP), (contract, NN), (and, CC), (materials, NNS), (presented, VBN), (for, IN), (review, NN), (in, IN), (nov, JJ), (dec, NN), (time, NN), (frame, NN), (in, IN), (regards, NNS), (to, TO), (the, DT), (contract, NN)]</td>\n",
       "      <td>[email, communication, stephanie, shook, dave, kraski, bruce, stedman, chad, schmidt, fire, protection, district, billing, passage, contract, al, service, agenda, bill, contract, material, present, review, time, frame, contract]</td>\n",
       "      <td>27</td>\n",
       "      <td>['email_communication', 'communication_stephanie', 'stephanie_shook', 'shook_dave', 'dave_kraski', 'kraski_bruce', 'bruce_stedman', 'stedman_chad', 'chad_schmidt', 'schmidt_regard', 'regard_fire', 'fire_protection', 'protection_district', 'district_billing', 'billing_passage', 'passage_contract', 'contract_al', 'al_service', 'service_also', 'also_copy', 'copy_agenda', 'agenda_bill', 'bill_contract', 'contract_material', 'material_present', 'present_review', 'review_nov', 'nov_dec', 'dec_time', 'time_frame', 'frame_regard', 'regard_contract']</td>\n",
       "      <td>47312</td>\n",
       "      <td>[]</td>\n",
       "      <td>[email, communication, stephanie, shook, dave, kraski, bruce, stedman, chad, schmidt, fire, protection, district, billing, passage, contract, al, service, agenda, bill, contract, material, present, review, time, frame, contract]</td>\n",
       "    </tr>\n",
       "  </tbody>\n",
       "</table>\n",
       "</div>"
      ],
      "text/plain": [
       "   index                                                                                                                                                                                                                                                                                                                                                                                                                                                                                Summary       city month_year                                                                                                                                                                                                                                                                                                                                                                                                                                                        sum_ed  \\\n",
       "0      0  We are working with an engineering firm on an upcoming project.  They have asked us to gather maps for this project.  Would you be able to assist me in gathering maps/records (as builds) for any underground water facilities you may have?  Something just showing the route of the water lines would do.\\n\\n207th ST NE to 92nd Ave NE, Arlington, Cascade Surveying & Engineering \\n\\nI have attached the scope for your convenience.  Please let me know if you have questions.  Arlington    2018-06  we are working with an engineering firm on an upcoming project  they have asked us to gather maps for this project  would you be able to assist me in gathering maps records as builds for any underground water facilities you may have  something just showing the route of the water lines would do\\n\\nth st ne to nd ave ne  cascade surveying  engineering \\n\\ni have attached the scope for your convenience  please let me know if you have questions   \n",
       "1      1                                                                                                                                                                                                                                                   Need copies of contracts and all related documents pertaining to Topcub Aircraft property located at 17922 59th DR NE Arlington WA 98223 between Arlington Airport, Topcub Aircraft, City of Arlington, HCI Steel Buildings and PUD.  Arlington    2018-06                                                                                                                                                                                                                                                                         need copies of contracts and all related documents pertaining to topcub aircraft property located at  th dr ne  wa  between  airport topcub aircraft  of  hci steel buildings and pud   \n",
       "2      2                                                                                                                                                                                                                                       Copies of Building Permits of $5,000 valuation and up ($20,000 min for Re-Roofs), ($50,000 min. for Cell Tower upgrades), (Electrical, Mechanical & Plumbing at $100,000 min.) and (Solar Panels, Swimming Pools & Foundations at any valuation)  Arlington    2018-06                                                                                                                                                                                                                                                          copies of building permits of  valuation and up  min for re roofs  min for cell tower upgrades electrical mechanical  plumbing at  min and solar panels swimming pools  foundations at any valuation   \n",
       "3      3                                                                                                                                                                                    police report filed to an officer against Wayne Parris (DOB 08-03-1957) from Brittany J. Parris. The paperwork I have has a case number D18-39 it is also stamped at the bottom with 18-1294, Iím not sure which number you will need. If there is any other information needed please let me know.  Arlington    2018-06                                                                                                                                                                                    police report filed to an officer against wayne parris dob    from brittany j parris the paperwork i have has a case number d  it is also stamped at the bottom with   iím not sure which number you will need if there is any other information needed please let me know   \n",
       "4      4                                                                                                                                                           Email Communications between Stephanie Shook, Dave Kraski, Bruce Stedman and Chad Schmidt in regards to Fire Protection District 21 billing and passage of contract for ALS Services. \\n\\nAlso any copies of Agenda Bills, D21 Contract and materials presented for review in Nov/Dec time frame in regards to the contract.  Arlington    2018-06                                                                                                                                           email communications between stephanie shook dave kraski bruce stedman and chad schmidt in regards to fire protection district  billing and passage of contract for als services \\n\\nalso any copies of agenda bills d contract and materials presented for review in nov dec time frame in regards to the contract   \n",
       "\n",
       "                                                                                                                                                                                                                                                                                                                                                                                                                                                                                                                             token  \\\n",
       "0  [we, are, working, with, an, engineering, firm, on, an, upcoming, project, they, have, asked, us, to, gather, maps, for, this, project, would, you, be, able, to, assist, me, in, gathering, maps, records, as, builds, for, any, underground, water, facilities, you, may, have, something, just, showing, the, route, of, the, water, lines, would, do, th, st, ne, to, nd, ave, ne, cascade, surveying, engineering, i, have, attached, the, scope, for, your, convenience, please, let, me, know, if, you, have, questions]   \n",
       "1                                                                                                                                                                                                                                                                                                                    [need, copies, of, contracts, and, all, related, documents, pertaining, to, topcub, aircraft, property, located, at, th, dr, ne, wa, between, airport, topcub, aircraft, of, hci, steel, buildings, and, pud]   \n",
       "2                                                                                                                                                                                                                                                                                                   [copies, of, building, permits, of, valuation, and, up, min, for, re, roofs, min, for, cell, tower, upgrades, electrical, mechanical, plumbing, at, min, and, solar, panels, swimming, pools, foundations, at, any, valuation]   \n",
       "3                                                                                                                                                                                                          [police, report, filed, to, an, officer, against, wayne, parris, dob, from, brittany, j, parris, the, paperwork, i, have, has, a, case, number, d, it, is, also, stamped, at, the, bottom, with, iím, not, sure, which, number, you, will, need, if, there, is, any, other, information, needed, please, let, me, know]   \n",
       "4                                                                                                                                                                 [email, communications, between, stephanie, shook, dave, kraski, bruce, stedman, and, chad, schmidt, in, regards, to, fire, protection, district, billing, and, passage, of, contract, for, als, services, also, any, copies, of, agenda, bills, d, contract, and, materials, presented, for, review, in, nov, dec, time, frame, in, regards, to, the, contract]   \n",
       "\n",
       "                                                                                                                                                                                                                                                                                                                                                                                                                                                                                                                                                                                                                                                                                                                                                                                                                                                                                                                                                                                                                                     lemma  \\\n",
       "0  [(we, PRP), (are, VBP), (working, VBG), (with, IN), (an, DT), (engineering, NN), (firm, NN), (on, IN), (an, DT), (upcoming, JJ), (project, NN), (they, PRP), (have, VBP), (asked, VBN), (us, PRP), (to, TO), (gather, VB), (maps, NNS), (for, IN), (this, DT), (project, NN), (would, MD), (you, PRP), (be, VB), (able, JJ), (to, TO), (assist, VB), (me, PRP), (in, IN), (gathering, VBG), (maps, NNS), (records, NNS), (as, IN), (builds, NNS), (for, IN), (any, DT), (underground, JJ), (water, NN), (facilities, NNS), (you, PRP), (may, MD), (have, VB), (something, NN), (just, RB), (showing, VBG), (the, DT), (route, NN), (of, IN), (the, DT), (water, NN), (lines, NNS), (would, MD), (do, VB), (th, VB), (st, VB), (ne, JJ), (to, TO), (nd, VB), (ave, VB), (ne, JJ), (cascade, NN), (surveying, VBG), (engineering, NN), (i, NN), (have, VBP), (attached, VBN), (the, DT), (scope, NN), (for, IN), (your, PRP$), (convenience, NN), (please, NN), (let, VB), (me, PRP), (know, VB), (if, IN), (you, PRP), (have, VBP), (...   \n",
       "1                                                                                                                                                                                                                                                                                                                                                                                                                                                                                                                                                                                                                                        [(need, NN), (copies, NNS), (of, IN), (contracts, NNS), (and, CC), (all, DT), (related, JJ), (documents, NNS), (pertaining, VBG), (to, TO), (topcub, VB), (aircraft, NN), (property, NN), (located, VBN), (at, IN), (th, NN), (dr, NN), (ne, JJ), (wa, NN), (between, IN), (airport, NN), (topcub, NN), (aircraft, NN), (of, IN), (hci, NN), (steel, NN), (buildings, NNS), (and, CC), (pud, NN)]   \n",
       "2                                                                                                                                                                                                                                                                                                                                                                                                                                                                                                                                                                                                         [(copies, NNS), (of, IN), (building, VBG), (permits, NNS), (of, IN), (valuation, NN), (and, CC), (up, RB), (min, NN), (for, IN), (re, NN), (roofs, NNS), (min, VBP), (for, IN), (cell, NN), (tower, NN), (upgrades, JJ), (electrical, JJ), (mechanical, JJ), (plumbing, NN), (at, IN), (min, NN), (and, CC), (solar, JJ), (panels, NNS), (swimming, VBG), (pools, JJ), (foundations, NNS), (at, IN), (any, DT), (valuation, NN)]   \n",
       "3                                                                                                                                                                                                                                                                                                                                                                                         [(police, NNS), (report, NN), (filed, VBD), (to, TO), (an, DT), (officer, NN), (against, IN), (wayne, JJ), (parris, JJ), (dob, NN), (from, IN), (brittany, JJ), (j, NN), (parris, VBD), (the, DT), (paperwork, NN), (i, NN), (have, VBP), (has, VBZ), (a, DT), (case, NN), (number, NN), (d, NN), (it, PRP), (is, VBZ), (also, RB), (stamped, VBN), (at, IN), (the, DT), (bottom, NN), (with, IN), (iím, JJ), (not, RB), (sure, JJ), (which, WDT), (number, NN), (you, PRP), (will, MD), (need, VB), (if, IN), (there, EX), (is, VBZ), (any, DT), (other, JJ), (information, NN), (needed, VBN), (please, NN), (let, VB), (me, PRP), (know, VB)]   \n",
       "4                                                                                                                                                                                                                                                                                                                                                     [(email, NN), (communications, NNS), (between, IN), (stephanie, JJ), (shook, NN), (dave, VBP), (kraski, VBN), (bruce, NN), (stedman, NN), (and, CC), (chad, VBD), (schmidt, VBN), (in, IN), (regards, NNS), (to, TO), (fire, VB), (protection, NN), (district, NN), (billing, NN), (and, CC), (passage, NN), (of, IN), (contract, NN), (for, IN), (als, NNS), (services, NNS), (also, RB), (any, DT), (copies, NNS), (of, IN), (agenda, NN), (bills, NNS), (d, VBP), (contract, NN), (and, CC), (materials, NNS), (presented, VBN), (for, IN), (review, NN), (in, IN), (nov, JJ), (dec, NN), (time, NN), (frame, NN), (in, IN), (regards, NNS), (to, TO), (the, DT), (contract, NN)]   \n",
       "\n",
       "                                                                                                                                                                                                                                   mash  mash_len                                                                                                                                                                                                                                                                                                                                                                                                                                                                                                                                                                                                                                                                         bigrams  count_total                    common_bigrams  \\\n",
       "0                   [work, engineering, firm, upcoming, project, gather, map, project, assist, gather, map, build, underground, water, facility, something, show, route, water, line, cascade, survey, engineering, scope, convenience]        25  ['work_engineering', 'engineering_firm', 'firm_upcoming', 'upcoming_project', 'project_ask', 'ask_u', 'u_gather', 'gather_map', 'map_project', 'project_would', 'would_able', 'able_assist', 'assist_gather', 'gather_map', 'map_record', 'record_build', 'build_underground', 'underground_water', 'water_facility', 'facility_may', 'may_something', 'something_show', 'show_route', 'route_water', 'water_line', 'line_would', 'would_th', 'th_st', 'st_ne', 'ne_nd', 'nd_ave', 'ave_ne', 'ne_cascade', 'cascade_survey', 'survey_engineering', 'engineering_attach', 'attach_scope', 'scope_convenience', 'convenience_please', 'please_let', 'let_know', 'know_question']        61815                                []   \n",
       "1                                                                                                                [contract, related, pertain, topcub, aircraft, property, locate, airport, topcub, aircraft, hci, steel, building, pud]        15                                                                                                                                                                                                                                                                                                                                               ['need_copy', 'copy_contract', 'contract_related', 'related_document', 'document_pertain', 'pertain_topcub', 'topcub_aircraft', 'aircraft_property', 'property_locate', 'locate_th', 'th_dr', 'dr_ne', 'ne_wa', 'wa_airport', 'airport_topcub', 'topcub_aircraft', 'aircraft_hci', 'hci_steel', 'steel_building', 'building_pud']        37214               ['property_locate']   \n",
       "2                                                                            [build, permit, valuation, min, roof, min, cell, tower, upgrades, electrical, mechanical, plumbing, min, solar, panel, swim, pools, foundation, valuation]        19                                                                                                                                                                                                                                                                                                                                              ['copy_build', 'build_permit', 'permit_valuation', 'valuation_min', 'min_roof', 'roof_min', 'min_cell', 'cell_tower', 'tower_upgrades', 'upgrades_electrical', 'electrical_mechanical', 'mechanical_plumbing', 'plumbing_min', 'min_solar', 'solar_panel', 'panel_swim', 'swim_pools', 'pools_foundation', 'foundation_valuation']        13672                                []   \n",
       "3                                                                                                                    [police, officer, wayne, parris, dob, brittany, parris, paperwork, case, number, stamp, bottom, iím, sure, number]        17                                                                                                                                                                                                                                                                                            ['police_report', 'report_file', 'file_officer', 'officer_wayne', 'wayne_parris', 'parris_dob', 'dob_brittany', 'brittany_j', 'j_parris', 'parris_paperwork', 'paperwork_case', 'case_number', 'number_also', 'also_stamp', 'stamp_bottom', 'bottom_iím', 'iím_sure', 'sure_number', 'number_need', 'need_information', 'information_need', 'need_please', 'please_let', 'let_know']        70002  ['police_report', 'case_number']   \n",
       "4  [email, communication, stephanie, shook, dave, kraski, bruce, stedman, chad, schmidt, fire, protection, district, billing, passage, contract, al, service, agenda, bill, contract, material, present, review, time, frame, contract]        27                                                                                                             ['email_communication', 'communication_stephanie', 'stephanie_shook', 'shook_dave', 'dave_kraski', 'kraski_bruce', 'bruce_stedman', 'stedman_chad', 'chad_schmidt', 'schmidt_regard', 'regard_fire', 'fire_protection', 'protection_district', 'district_billing', 'billing_passage', 'passage_contract', 'contract_al', 'al_service', 'service_also', 'also_copy', 'copy_agenda', 'agenda_bill', 'bill_contract', 'contract_material', 'material_present', 'present_review', 'review_nov', 'nov_dec', 'dec_time', 'time_frame', 'frame_regard', 'regard_contract']        47312                                []   \n",
       "\n",
       "                                                                                                                                                                                                                             final_mash  \n",
       "0                   [work, engineering, firm, upcoming, project, gather, map, project, assist, gather, map, build, underground, water, facility, something, show, route, water, line, cascade, survey, engineering, scope, convenience]  \n",
       "1                                                                                               [contract, related, pertain, topcub, aircraft, property, locate, airport, topcub, aircraft, hci, steel, building, pud, property_locate]  \n",
       "2                                                                            [build, permit, valuation, min, roof, min, cell, tower, upgrades, electrical, mechanical, plumbing, min, solar, panel, swim, pools, foundation, valuation]  \n",
       "3                                                                                        [police, officer, wayne, parris, dob, brittany, parris, paperwork, case, number, stamp, bottom, iím, sure, number, police_report, case_number]  \n",
       "4  [email, communication, stephanie, shook, dave, kraski, bruce, stedman, chad, schmidt, fire, protection, district, billing, passage, contract, al, service, agenda, bill, contract, material, present, review, time, frame, contract]  "
      ]
     },
     "execution_count": 81,
     "metadata": {},
     "output_type": "execute_result"
    }
   ],
   "source": [
    "data_pn_nltk.head()"
   ]
  },
  {
   "cell_type": "code",
   "execution_count": 82,
   "metadata": {},
   "outputs": [],
   "source": [
    "# two methods of identifying proper nouns, first tends to type II error (pn), second tends to type I error (pn2)\n",
    "\n",
    "data_pn_nltk['pn'] = data_pn_nltk['lemma'].apply(lambda x: [i[0] for i in x if i[1] == 'NNP'])\n",
    "data_pn_nltk['lemma2'] = data_pn_nltk['Summary'].apply(lambda x: nltk.tag.pos_tag(x.split()))\n",
    "data_pn_nltk['pn2'] = data_pn_nltk['lemma2'].apply(lambda x: [i[0] for i in x if i[1] == 'NNP'])\n",
    "data_pn_nltk['pn2'] = data_pn_nltk['pn2'].apply(lambda x: [i.lower() for i in x])\n",
    "data_pn_nltk['final_mash2'] = data_pn_nltk.apply(lambda row: [i for i in row['final_mash'] if i not in row['pn2']], axis =1)\n",
    "data_pn_nltk['final_mash'] = data_pn_nltk.apply(lambda row: [i for i in row['final_mash'] if i not in row['pn']], axis =1)\n",
    "data_pn_nltk['mash_len'] = data_pn_nltk['final_mash'].apply(len)\n",
    "data_pn_nltk['mash_len2'] = data_pn_nltk['final_mash2'].apply(len)\n",
    "\n",
    "data_pn_nltk2 = data_pn_nltk[data_pn_nltk['mash_len2'] > 0]\n",
    "data_pn_nltk = data_pn_nltk[data_pn_nltk['mash_len'] > 0]"
   ]
  },
  {
   "cell_type": "code",
   "execution_count": 83,
   "metadata": {
    "scrolled": true
   },
   "outputs": [
    {
     "data": {
      "text/plain": [
       "count    87278.000000\n",
       "mean        12.408946\n",
       "std         21.410852\n",
       "min          1.000000\n",
       "25%          2.000000\n",
       "50%          6.000000\n",
       "75%         14.000000\n",
       "max       1643.000000\n",
       "Name: mash_len2, dtype: float64"
      ]
     },
     "execution_count": 83,
     "metadata": {},
     "output_type": "execute_result"
    }
   ],
   "source": [
    "data_pn_nltk2['mash_len2'].describe()"
   ]
  },
  {
   "cell_type": "code",
   "execution_count": 84,
   "metadata": {},
   "outputs": [
    {
     "data": {
      "text/plain": [
       "count    93743.000000\n",
       "mean        15.679624\n",
       "std         27.586053\n",
       "min          1.000000\n",
       "25%          3.000000\n",
       "50%          7.000000\n",
       "75%         18.000000\n",
       "max       2724.000000\n",
       "Name: mash_len, dtype: float64"
      ]
     },
     "execution_count": 84,
     "metadata": {},
     "output_type": "execute_result"
    }
   ],
   "source": [
    "data_pn_nltk['mash_len'].describe()"
   ]
  },
  {
   "cell_type": "markdown",
   "metadata": {},
   "source": [
    "### 2b) Using spaCy"
   ]
  },
  {
   "cell_type": "code",
   "execution_count": 85,
   "metadata": {
    "collapsed": true
   },
   "outputs": [],
   "source": [
    "nlp = spacy.load('en_core_web_sm')\n",
    "data_sp = data.copy()"
   ]
  },
  {
   "cell_type": "code",
   "execution_count": 86,
   "metadata": {},
   "outputs": [],
   "source": [
    "data_sp['token_sp'] = data_sp['sum_ed'].apply(lambda x: nlp(x))\n",
    "data_sp['token_sp2'] = data_sp['Summary'].apply(lambda x: nlp(x))\n",
    "data_sp['pn'] = data_sp['token_sp'].apply(lambda x: [ i.lemma_ for i in x if i.tag_ == 'NNP'])\n",
    "data_sp['pn2'] = data_sp['token_sp2'].apply(lambda x: [ i.lemma_ for i in x if i.tag_ == 'NNP'])\n",
    "data_sp['final_mash2'] = data_sp.apply(lambda row: [i for i in row['final_mash'] if i not in row['pn2']], axis =1)\n",
    "data_sp['final_mash'] = data_sp.apply(lambda row: [i for i in row['final_mash'] if i not in row['pn']], axis =1)\n"
   ]
  },
  {
   "cell_type": "code",
   "execution_count": 87,
   "metadata": {},
   "outputs": [],
   "source": [
    "data_sp['mash_len'] = data_sp['final_mash'].apply(len)\n",
    "data_sp['mash_len2'] = data_sp['final_mash2'].apply(len)\n",
    "data_sp2 = data_sp[data_sp['mash_len2'] > 0]\n",
    "data_sp = data_sp[data_sp['mash_len'] > 0]    "
   ]
  },
  {
   "cell_type": "code",
   "execution_count": 37,
   "metadata": {},
   "outputs": [
    {
     "data": {
      "text/plain": [
       "count    90748.000000\n",
       "mean        11.367303\n",
       "std         20.714069\n",
       "min          1.000000\n",
       "25%          2.000000\n",
       "50%          5.000000\n",
       "75%         13.000000\n",
       "max       1674.000000\n",
       "Name: mash_len2, dtype: float64"
      ]
     },
     "execution_count": 37,
     "metadata": {},
     "output_type": "execute_result"
    }
   ],
   "source": [
    "data_sp2['mash_len2'].describe()"
   ]
  },
  {
   "cell_type": "code",
   "execution_count": 38,
   "metadata": {},
   "outputs": [
    {
     "data": {
      "text/plain": [
       "count    95292.000000\n",
       "mean        15.747723\n",
       "std         27.907075\n",
       "min          1.000000\n",
       "25%          3.000000\n",
       "50%          7.000000\n",
       "75%         18.000000\n",
       "max       2746.000000\n",
       "Name: mash_len, dtype: float64"
      ]
     },
     "execution_count": 38,
     "metadata": {},
     "output_type": "execute_result"
    }
   ],
   "source": [
    "data_sp['mash_len'].describe()"
   ]
  },
  {
   "cell_type": "code",
   "execution_count": 32,
   "metadata": {},
   "outputs": [
    {
     "data": {
      "text/html": [
       "<div>\n",
       "<style scoped>\n",
       "    .dataframe tbody tr th:only-of-type {\n",
       "        vertical-align: middle;\n",
       "    }\n",
       "\n",
       "    .dataframe tbody tr th {\n",
       "        vertical-align: top;\n",
       "    }\n",
       "\n",
       "    .dataframe thead th {\n",
       "        text-align: right;\n",
       "    }\n",
       "</style>\n",
       "<table border=\"1\" class=\"dataframe\">\n",
       "  <thead>\n",
       "    <tr style=\"text-align: right;\">\n",
       "      <th></th>\n",
       "      <th>index</th>\n",
       "      <th>Summary</th>\n",
       "      <th>city</th>\n",
       "      <th>month_year</th>\n",
       "      <th>sum_ed</th>\n",
       "      <th>token</th>\n",
       "      <th>lemma</th>\n",
       "      <th>mash</th>\n",
       "      <th>mash_len</th>\n",
       "      <th>bigrams</th>\n",
       "      <th>common_bigrams</th>\n",
       "      <th>final_mash</th>\n",
       "      <th>token_sp</th>\n",
       "      <th>token_sp2</th>\n",
       "      <th>pn</th>\n",
       "      <th>pn2</th>\n",
       "      <th>final_mash2</th>\n",
       "    </tr>\n",
       "  </thead>\n",
       "  <tbody>\n",
       "    <tr>\n",
       "      <th>0</th>\n",
       "      <td>0</td>\n",
       "      <td>We are working with an engineering firm on an upcoming project.  They have asked us to gather maps for this project.  Would you be able to assist me in gathering maps/records (as builds) for any underground water facilities you may have?  Something just showing the route of the water lines would do.\\n\\n207th ST NE to 92nd Ave NE, Arlington, Cascade Surveying &amp; Engineering \\n\\nI have attached the scope for your convenience.  Please let me know if you have questions.</td>\n",
       "      <td>Arlington</td>\n",
       "      <td>2018-06</td>\n",
       "      <td>we are working with an engineering firm on an upcoming project  they have asked us to gather maps for this project  would you be able to assist me in gathering maps records as builds for any underground water facilities you may have  something just showing the route of the water lines would do\\n\\nth st ne to nd ave ne  cascade surveying  engineering \\n\\ni have attached the scope for your convenience  please let me know if you have questions</td>\n",
       "      <td>[we, are, working, with, an, engineering, firm, on, an, upcoming, project, they, have, asked, us, to, gather, maps, for, this, project, would, you, be, able, to, assist, me, in, gathering, maps, records, as, builds, for, any, underground, water, facilities, you, may, have, something, just, showing, the, route, of, the, water, lines, would, do, th, st, ne, to, nd, ave, ne, cascade, surveying, engineering, i, have, attached, the, scope, for, your, convenience, please, let, me, know, if, you, have, questions]</td>\n",
       "      <td>[('we', 'PRP'), ('are', 'VBP'), ('working', 'VBG'), ('with', 'IN'), ('an', 'DT'), ('engineering', 'NN'), ('firm', 'NN'), ('on', 'IN'), ('an', 'DT'), ('upcoming', 'JJ'), ('project', 'NN'), ('they', 'PRP'), ('have', 'VBP'), ('asked', 'VBN'), ('us', 'PRP'), ('to', 'TO'), ('gather', 'VB'), ('maps', 'NNS'), ('for', 'IN'), ('this', 'DT'), ('project', 'NN'), ('would', 'MD'), ('you', 'PRP'), ('be', 'VB'), ('able', 'JJ'), ('to', 'TO'), ('assist', 'VB'), ('me', 'PRP'), ('in', 'IN'), ('gathering', 'VBG'), ('maps', 'NNS'), ('records', 'NNS'), ('as', 'IN'), ('builds', 'NNS'), ('for', 'IN'), ('any', 'DT'), ('underground', 'JJ'), ('water', 'NN'), ('facilities', 'NNS'), ('you', 'PRP'), ('may', 'MD'), ('have', 'VB'), ('something', 'NN'), ('just', 'RB'), ('showing', 'VBG'), ('the', 'DT'), ('route', 'NN'), ('of', 'IN'), ('the', 'DT'), ('water', 'NN'), ('lines', 'NNS'), ('would', 'MD'), ('do', 'VB'), ('th', 'VB'), ('st', 'VB'), ('ne', 'JJ'), ('to', 'TO'), ('nd', 'VB'), ('ave', 'VB'), ('ne', 'JJ'), ('c...</td>\n",
       "      <td>[work, engineering, firm, upcoming, project, gather, map, project, assist, gather, map, build, underground, water, facility, something, show, route, water, line, cascade, survey, engineering, attach, scope, convenience]</td>\n",
       "      <td>26</td>\n",
       "      <td>['work_engineering', 'engineering_firm', 'firm_upcoming', 'upcoming_project', 'project_ask', 'ask_u', 'u_gather', 'gather_map', 'map_project', 'project_would', 'would_able', 'able_assist', 'assist_gather', 'gather_map', 'map_record', 'record_build', 'build_underground', 'underground_water', 'water_facility', 'facility_may', 'may_something', 'something_show', 'show_route', 'route_water', 'water_line', 'line_would', 'would_th', 'th_st', 'st_ne', 'ne_nd', 'nd_ave', 'ave_ne', 'ne_cascade', 'cascade_survey', 'survey_engineering', 'engineering_attach', 'attach_scope', 'scope_convenience', 'convenience_please', 'please_let', 'let_know', 'know_question']</td>\n",
       "      <td>[]</td>\n",
       "      <td>[work, engineering, firm, upcoming, project, gather, map, project, assist, gather, map, build, underground, water, facility, something, show, route, water, line, cascade, survey, engineering, attach, scope, convenience]</td>\n",
       "      <td>(we, are, working, with, an, engineering, firm, on, an, upcoming, project,  , they, have, asked, us, to, gather, maps, for, this, project,  , would, you, be, able, to, assist, me, in, gathering, maps, records, as, builds, for, any, underground, water, facilities, you, may, have,  , something, just, showing, the, route, of, the, water, lines, would, do, \\n\\n, th, st, ne, to, nd, ave, ne,  , cascade, surveying,  , engineering, \\n\\n, i, have, attached, the, scope, for, your, convenience,  , please, let, me, know, if, you, have, questions)</td>\n",
       "      <td>(We, are, working, with, an, engineering, firm, on, an, upcoming, project, .,  , They, have, asked, us, to, gather, maps, for, this, project, .,  , Would, you, be, able, to, assist, me, in, gathering, maps, /, records, (, as, builds, ), for, any, underground, water, facilities, you, may, have, ?,  , Something, just, showing, the, route, of, the, water, lines, would, do, ., \\n\\n, 207th, ST, NE, to, 92nd, Ave, NE, ,, Arlington, ,, Cascade, Surveying, &amp;, Engineering, \\n\\n, I, have, attached, the, scope, for, your, convenience, .,  , Please, let, me, know, if, you, have, questions, .)</td>\n",
       "      <td>[]</td>\n",
       "      <td>[ne, ave, ne, arlington, cascade, surveying, engineering]</td>\n",
       "      <td>[work, firm, upcoming, project, gather, map, project, assist, gather, map, build, underground, water, facility, something, show, route, water, line, survey, attach, scope, convenience]</td>\n",
       "    </tr>\n",
       "    <tr>\n",
       "      <th>1</th>\n",
       "      <td>1</td>\n",
       "      <td>Need copies of contracts and all related documents pertaining to Topcub Aircraft property located at 17922 59th DR NE Arlington WA 98223 between Arlington Airport, Topcub Aircraft, City of Arlington, HCI Steel Buildings and PUD.</td>\n",
       "      <td>Arlington</td>\n",
       "      <td>2018-06</td>\n",
       "      <td>need copies of contracts and all related documents pertaining to topcub aircraft property located at  th dr ne  wa  between  airport topcub aircraft  of  hci steel buildings and pud</td>\n",
       "      <td>[need, copies, of, contracts, and, all, related, documents, pertaining, to, topcub, aircraft, property, located, at, th, dr, ne, wa, between, airport, topcub, aircraft, of, hci, steel, buildings, and, pud]</td>\n",
       "      <td>[('need', 'NN'), ('copies', 'NNS'), ('of', 'IN'), ('contracts', 'NNS'), ('and', 'CC'), ('all', 'DT'), ('related', 'JJ'), ('documents', 'NNS'), ('pertaining', 'VBG'), ('to', 'TO'), ('topcub', 'VB'), ('aircraft', 'NN'), ('property', 'NN'), ('located', 'VBN'), ('at', 'IN'), ('th', 'NN'), ('dr', 'NN'), ('ne', 'JJ'), ('wa', 'NN'), ('between', 'IN'), ('airport', 'NN'), ('topcub', 'NN'), ('aircraft', 'NN'), ('of', 'IN'), ('hci', 'NN'), ('steel', 'NN'), ('buildings', 'NNS'), ('and', 'CC'), ('pud', 'NN')]</td>\n",
       "      <td>[contract, related, pertain, topcub, aircraft, property, locate, airport, topcub, aircraft, hci, steel, building, pud]</td>\n",
       "      <td>15</td>\n",
       "      <td>['need_copy', 'copy_contract', 'contract_related', 'related_document', 'document_pertain', 'pertain_topcub', 'topcub_aircraft', 'aircraft_property', 'property_locate', 'locate_th', 'th_dr', 'dr_ne', 'ne_wa', 'wa_airport', 'airport_topcub', 'topcub_aircraft', 'aircraft_hci', 'hci_steel', 'steel_building', 'building_pud']</td>\n",
       "      <td>['property_locate']</td>\n",
       "      <td>[contract, related, pertain, topcub, aircraft, property, locate, airport, topcub, aircraft, hci, steel, building, pud, property_locate]</td>\n",
       "      <td>(need, copies, of, contracts, and, all, related, documents, pertaining, to, topcub, aircraft, property, located, at,  , th, dr, ne,  , wa,  , between,  , airport, topcub, aircraft,  , of,  , hci, steel, buildings, and, pud)</td>\n",
       "      <td>(Need, copies, of, contracts, and, all, related, documents, pertaining, to, Topcub, Aircraft, property, located, at, 17922, 59th, DR, NE, Arlington, WA, 98223, between, Arlington, Airport, ,, Topcub, Aircraft, ,, City, of, Arlington, ,, HCI, Steel, Buildings, and, PUD, .)</td>\n",
       "      <td>[]</td>\n",
       "      <td>[topcub, aircraft, dr, ne, arlington, wa, arlington, airport, topcub, aircraft, city, arlington, hci, steel, pud]</td>\n",
       "      <td>[contract, related, pertain, property, locate, building, property_locate]</td>\n",
       "    </tr>\n",
       "    <tr>\n",
       "      <th>2</th>\n",
       "      <td>2</td>\n",
       "      <td>Copies of Building Permits of $5,000 valuation and up ($20,000 min for Re-Roofs), ($50,000 min. for Cell Tower upgrades), (Electrical, Mechanical &amp; Plumbing at $100,000 min.) and (Solar Panels, Swimming Pools &amp; Foundations at any valuation)</td>\n",
       "      <td>Arlington</td>\n",
       "      <td>2018-06</td>\n",
       "      <td>copies of building permits of  valuation and up  min for re roofs  min for cell tower upgrades electrical mechanical  plumbing at  min and solar panels swimming pools  foundations at any valuation</td>\n",
       "      <td>[copies, of, building, permits, of, valuation, and, up, min, for, re, roofs, min, for, cell, tower, upgrades, electrical, mechanical, plumbing, at, min, and, solar, panels, swimming, pools, foundations, at, any, valuation]</td>\n",
       "      <td>[('copies', 'NNS'), ('of', 'IN'), ('building', 'VBG'), ('permits', 'NNS'), ('of', 'IN'), ('valuation', 'NN'), ('and', 'CC'), ('up', 'RB'), ('min', 'NN'), ('for', 'IN'), ('re', 'NN'), ('roofs', 'NNS'), ('min', 'VBP'), ('for', 'IN'), ('cell', 'NN'), ('tower', 'NN'), ('upgrades', 'JJ'), ('electrical', 'JJ'), ('mechanical', 'JJ'), ('plumbing', 'NN'), ('at', 'IN'), ('min', 'NN'), ('and', 'CC'), ('solar', 'JJ'), ('panels', 'NNS'), ('swimming', 'VBG'), ('pools', 'JJ'), ('foundations', 'NNS'), ('at', 'IN'), ('any', 'DT'), ('valuation', 'NN')]</td>\n",
       "      <td>[build, permit, valuation, min, roof, min, cell, tower, upgrades, electrical, mechanical, plumbing, min, solar, panel, swim, pools, foundation, valuation]</td>\n",
       "      <td>19</td>\n",
       "      <td>['copy_build', 'build_permit', 'permit_valuation', 'valuation_min', 'min_roof', 'roof_min', 'min_cell', 'cell_tower', 'tower_upgrades', 'upgrades_electrical', 'electrical_mechanical', 'mechanical_plumbing', 'plumbing_min', 'min_solar', 'solar_panel', 'panel_swim', 'swim_pools', 'pools_foundation', 'foundation_valuation']</td>\n",
       "      <td>[]</td>\n",
       "      <td>[build, permit, valuation, min, roof, min, cell, tower, upgrades, electrical, mechanical, plumbing, min, solar, panel, swim, pools, foundation, valuation]</td>\n",
       "      <td>(copies, of, building, permits, of,  , valuation, and, up,  , min, for, re, roofs,  , min, for, cell, tower, upgrades, electrical, mechanical,  , plumbing, at,  , min, and, solar, panels, swimming, pools,  , foundations, at, any, valuation)</td>\n",
       "      <td>(Copies, of, Building, Permits, of, $, 5,000, valuation, and, up, (, $, 20,000, min, for, Re, -, Roofs, ), ,, (, $, 50,000, min, ., for, Cell, Tower, upgrades, ), ,, (, Electrical, ,, Mechanical, &amp;, Plumbing, at, $, 100,000, min, ., ), and, (, Solar, Panels, ,, Swimming, Pools, &amp;, Foundations, at, any, valuation, ))</td>\n",
       "      <td>[]</td>\n",
       "      <td>[building, re, roofs, cell, tower, mechanical, plumbing, solar, swimming, pools]</td>\n",
       "      <td>[build, permit, valuation, min, roof, min, upgrades, electrical, min, panel, swim, foundation, valuation]</td>\n",
       "    </tr>\n",
       "    <tr>\n",
       "      <th>3</th>\n",
       "      <td>3</td>\n",
       "      <td>police report filed to an officer against Wayne Parris (DOB 08-03-1957) from Brittany J. Parris. The paperwork I have has a case number D18-39 it is also stamped at the bottom with 18-1294, Iím not sure which number you will need. If there is any other information needed please let me know.</td>\n",
       "      <td>Arlington</td>\n",
       "      <td>2018-06</td>\n",
       "      <td>police report filed to an officer against wayne parris dob    from brittany j parris the paperwork i have has a case number d  it is also stamped at the bottom with   iím not sure which number you will need if there is any other information needed please let me know</td>\n",
       "      <td>[police, report, filed, to, an, officer, against, wayne, parris, dob, from, brittany, j, parris, the, paperwork, i, have, has, a, case, number, d, it, is, also, stamped, at, the, bottom, with, iím, not, sure, which, number, you, will, need, if, there, is, any, other, information, needed, please, let, me, know]</td>\n",
       "      <td>[('police', 'NNS'), ('report', 'NN'), ('filed', 'VBD'), ('to', 'TO'), ('an', 'DT'), ('officer', 'NN'), ('against', 'IN'), ('wayne', 'JJ'), ('parris', 'JJ'), ('dob', 'NN'), ('from', 'IN'), ('brittany', 'JJ'), ('j', 'NN'), ('parris', 'VBD'), ('the', 'DT'), ('paperwork', 'NN'), ('i', 'NN'), ('have', 'VBP'), ('has', 'VBZ'), ('a', 'DT'), ('case', 'NN'), ('number', 'NN'), ('d', 'NN'), ('it', 'PRP'), ('is', 'VBZ'), ('also', 'RB'), ('stamped', 'VBN'), ('at', 'IN'), ('the', 'DT'), ('bottom', 'NN'), ('with', 'IN'), ('iím', 'JJ'), ('not', 'RB'), ('sure', 'JJ'), ('which', 'WDT'), ('number', 'NN'), ('you', 'PRP'), ('will', 'MD'), ('need', 'VB'), ('if', 'IN'), ('there', 'EX'), ('is', 'VBZ'), ('any', 'DT'), ('other', 'JJ'), ('information', 'NN'), ('needed', 'VBN'), ('please', 'NN'), ('let', 'VB'), ('me', 'PRP'), ('know', 'VB')]</td>\n",
       "      <td>[police, officer, wayne, parris, dob, brittany, parris, paperwork, case, number, stamp, bottom, iím, sure, number]</td>\n",
       "      <td>17</td>\n",
       "      <td>['police_report', 'report_file', 'file_officer', 'officer_wayne', 'wayne_parris', 'parris_dob', 'dob_brittany', 'brittany_j', 'j_parris', 'parris_paperwork', 'paperwork_case', 'case_number', 'number_also', 'also_stamp', 'stamp_bottom', 'bottom_iím', 'iím_sure', 'sure_number', 'number_need', 'need_information', 'information_need', 'need_please', 'please_let', 'let_know']</td>\n",
       "      <td>['police_report', 'case_number']</td>\n",
       "      <td>[police, officer, wayne, parris, dob, brittany, parris, paperwork, case, number, stamp, bottom, iím, sure, number, police_report, case_number]</td>\n",
       "      <td>(police, report, filed, to, an, officer, against, wayne, parris, dob,    , from, brittany, j, parris, the, paperwork, i, have, has, a, case, number, d,  , it, is, also, stamped, at, the, bottom, with,   , iím, not, sure, which, number, you, will, need, if, there, is, any, other, information, needed, please, let, me, know)</td>\n",
       "      <td>(police, report, filed, to, an, officer, against, Wayne, Parris, (, DOB, 08, -, 03, -, 1957, ), from, Brittany, J., Parris, ., The, paperwork, I, have, has, a, case, number, D18, -, 39, it, is, also, stamped, at, the, bottom, with, 18, -, 1294, ,, Iím, not, sure, which, number, you, will, need, ., If, there, is, any, other, information, needed, please, let, me, know, .)</td>\n",
       "      <td>[]</td>\n",
       "      <td>[wayne, parris, dob, brittany, j., parris, d18]</td>\n",
       "      <td>[police, officer, paperwork, case, number, stamp, bottom, iím, sure, number, police_report, case_number]</td>\n",
       "    </tr>\n",
       "    <tr>\n",
       "      <th>4</th>\n",
       "      <td>4</td>\n",
       "      <td>Email Communications between Stephanie Shook, Dave Kraski, Bruce Stedman and Chad Schmidt in regards to Fire Protection District 21 billing and passage of contract for ALS Services. \\n\\nAlso any copies of Agenda Bills, D21 Contract and materials presented for review in Nov/Dec time frame in regards to the contract.</td>\n",
       "      <td>Arlington</td>\n",
       "      <td>2018-06</td>\n",
       "      <td>email communications between stephanie shook dave kraski bruce stedman and chad schmidt in regards to fire protection district  billing and passage of contract for als services \\n\\nalso any copies of agenda bills d contract and materials presented for review in nov dec time frame in regards to the contract</td>\n",
       "      <td>[email, communications, between, stephanie, shook, dave, kraski, bruce, stedman, and, chad, schmidt, in, regards, to, fire, protection, district, billing, and, passage, of, contract, for, als, services, also, any, copies, of, agenda, bills, d, contract, and, materials, presented, for, review, in, nov, dec, time, frame, in, regards, to, the, contract]</td>\n",
       "      <td>[('email', 'NN'), ('communications', 'NNS'), ('between', 'IN'), ('stephanie', 'JJ'), ('shook', 'NN'), ('dave', 'VBP'), ('kraski', 'VBN'), ('bruce', 'NN'), ('stedman', 'NN'), ('and', 'CC'), ('chad', 'VBD'), ('schmidt', 'VBN'), ('in', 'IN'), ('regards', 'NNS'), ('to', 'TO'), ('fire', 'VB'), ('protection', 'NN'), ('district', 'NN'), ('billing', 'NN'), ('and', 'CC'), ('passage', 'NN'), ('of', 'IN'), ('contract', 'NN'), ('for', 'IN'), ('als', 'NNS'), ('services', 'NNS'), ('also', 'RB'), ('any', 'DT'), ('copies', 'NNS'), ('of', 'IN'), ('agenda', 'NN'), ('bills', 'NNS'), ('d', 'VBP'), ('contract', 'NN'), ('and', 'CC'), ('materials', 'NNS'), ('presented', 'VBN'), ('for', 'IN'), ('review', 'NN'), ('in', 'IN'), ('nov', 'JJ'), ('dec', 'NN'), ('time', 'NN'), ('frame', 'NN'), ('in', 'IN'), ('regards', 'NNS'), ('to', 'TO'), ('the', 'DT'), ('contract', 'NN')]</td>\n",
       "      <td>[email, communication, stephanie, shook, dave, kraski, bruce, stedman, chad, schmidt, fire, protection, district, billing, passage, contract, al, service, agenda, bill, contract, material, present, review, time, frame, contract]</td>\n",
       "      <td>27</td>\n",
       "      <td>['email_communication', 'communication_stephanie', 'stephanie_shook', 'shook_dave', 'dave_kraski', 'kraski_bruce', 'bruce_stedman', 'stedman_chad', 'chad_schmidt', 'schmidt_regard', 'regard_fire', 'fire_protection', 'protection_district', 'district_billing', 'billing_passage', 'passage_contract', 'contract_al', 'al_service', 'service_also', 'also_copy', 'copy_agenda', 'agenda_bill', 'bill_contract', 'contract_material', 'material_present', 'present_review', 'review_nov', 'nov_dec', 'dec_time', 'time_frame', 'frame_regard', 'regard_contract']</td>\n",
       "      <td>[]</td>\n",
       "      <td>[email, communication, stephanie, shook, dave, kraski, bruce, stedman, chad, schmidt, fire, protection, district, billing, passage, contract, al, service, agenda, bill, contract, material, present, review, time, frame, contract]</td>\n",
       "      <td>(email, communications, between, stephanie, shook, dave, kraski, bruce, stedman, and, chad, schmidt, in, regards, to, fire, protection, district,  , billing, and, passage, of, contract, for, als, services, \\n\\n, also, any, copies, of, agenda, bills, d, contract, and, materials, presented, for, review, in, nov, dec, time, frame, in, regards, to, the, contract)</td>\n",
       "      <td>(Email, Communications, between, Stephanie, Shook, ,, Dave, Kraski, ,, Bruce, Stedman, and, Chad, Schmidt, in, regards, to, Fire, Protection, District, 21, billing, and, passage, of, contract, for, ALS, Services, ., \\n\\n, Also, any, copies, of, Agenda, Bills, ,, D21, Contract, and, materials, presented, for, review, in, Nov, /, Dec, time, frame, in, regards, to, the, contract, .)</td>\n",
       "      <td>[]</td>\n",
       "      <td>[communications, stephanie, shook, dave, kraski, bruce, stedman, chad, schmidt, fire, protection, district, als, agenda, bills, d21, contract, nov, dec]</td>\n",
       "      <td>[email, communication, billing, passage, al, service, bill, material, present, review, time, frame]</td>\n",
       "    </tr>\n",
       "  </tbody>\n",
       "</table>\n",
       "</div>"
      ],
      "text/plain": [
       "   index                                                                                                                                                                                                                                                                                                                                                                                                                                                                                Summary       city month_year                                                                                                                                                                                                                                                                                                                                                                                                                                                        sum_ed  \\\n",
       "0      0  We are working with an engineering firm on an upcoming project.  They have asked us to gather maps for this project.  Would you be able to assist me in gathering maps/records (as builds) for any underground water facilities you may have?  Something just showing the route of the water lines would do.\\n\\n207th ST NE to 92nd Ave NE, Arlington, Cascade Surveying & Engineering \\n\\nI have attached the scope for your convenience.  Please let me know if you have questions.  Arlington    2018-06  we are working with an engineering firm on an upcoming project  they have asked us to gather maps for this project  would you be able to assist me in gathering maps records as builds for any underground water facilities you may have  something just showing the route of the water lines would do\\n\\nth st ne to nd ave ne  cascade surveying  engineering \\n\\ni have attached the scope for your convenience  please let me know if you have questions   \n",
       "1      1                                                                                                                                                                                                                                                   Need copies of contracts and all related documents pertaining to Topcub Aircraft property located at 17922 59th DR NE Arlington WA 98223 between Arlington Airport, Topcub Aircraft, City of Arlington, HCI Steel Buildings and PUD.  Arlington    2018-06                                                                                                                                                                                                                                                                         need copies of contracts and all related documents pertaining to topcub aircraft property located at  th dr ne  wa  between  airport topcub aircraft  of  hci steel buildings and pud   \n",
       "2      2                                                                                                                                                                                                                                       Copies of Building Permits of $5,000 valuation and up ($20,000 min for Re-Roofs), ($50,000 min. for Cell Tower upgrades), (Electrical, Mechanical & Plumbing at $100,000 min.) and (Solar Panels, Swimming Pools & Foundations at any valuation)  Arlington    2018-06                                                                                                                                                                                                                                                          copies of building permits of  valuation and up  min for re roofs  min for cell tower upgrades electrical mechanical  plumbing at  min and solar panels swimming pools  foundations at any valuation   \n",
       "3      3                                                                                                                                                                                    police report filed to an officer against Wayne Parris (DOB 08-03-1957) from Brittany J. Parris. The paperwork I have has a case number D18-39 it is also stamped at the bottom with 18-1294, Iím not sure which number you will need. If there is any other information needed please let me know.  Arlington    2018-06                                                                                                                                                                                    police report filed to an officer against wayne parris dob    from brittany j parris the paperwork i have has a case number d  it is also stamped at the bottom with   iím not sure which number you will need if there is any other information needed please let me know   \n",
       "4      4                                                                                                                                                           Email Communications between Stephanie Shook, Dave Kraski, Bruce Stedman and Chad Schmidt in regards to Fire Protection District 21 billing and passage of contract for ALS Services. \\n\\nAlso any copies of Agenda Bills, D21 Contract and materials presented for review in Nov/Dec time frame in regards to the contract.  Arlington    2018-06                                                                                                                                           email communications between stephanie shook dave kraski bruce stedman and chad schmidt in regards to fire protection district  billing and passage of contract for als services \\n\\nalso any copies of agenda bills d contract and materials presented for review in nov dec time frame in regards to the contract   \n",
       "\n",
       "                                                                                                                                                                                                                                                                                                                                                                                                                                                                                                                             token  \\\n",
       "0  [we, are, working, with, an, engineering, firm, on, an, upcoming, project, they, have, asked, us, to, gather, maps, for, this, project, would, you, be, able, to, assist, me, in, gathering, maps, records, as, builds, for, any, underground, water, facilities, you, may, have, something, just, showing, the, route, of, the, water, lines, would, do, th, st, ne, to, nd, ave, ne, cascade, surveying, engineering, i, have, attached, the, scope, for, your, convenience, please, let, me, know, if, you, have, questions]   \n",
       "1                                                                                                                                                                                                                                                                                                                    [need, copies, of, contracts, and, all, related, documents, pertaining, to, topcub, aircraft, property, located, at, th, dr, ne, wa, between, airport, topcub, aircraft, of, hci, steel, buildings, and, pud]   \n",
       "2                                                                                                                                                                                                                                                                                                   [copies, of, building, permits, of, valuation, and, up, min, for, re, roofs, min, for, cell, tower, upgrades, electrical, mechanical, plumbing, at, min, and, solar, panels, swimming, pools, foundations, at, any, valuation]   \n",
       "3                                                                                                                                                                                                          [police, report, filed, to, an, officer, against, wayne, parris, dob, from, brittany, j, parris, the, paperwork, i, have, has, a, case, number, d, it, is, also, stamped, at, the, bottom, with, iím, not, sure, which, number, you, will, need, if, there, is, any, other, information, needed, please, let, me, know]   \n",
       "4                                                                                                                                                                 [email, communications, between, stephanie, shook, dave, kraski, bruce, stedman, and, chad, schmidt, in, regards, to, fire, protection, district, billing, and, passage, of, contract, for, als, services, also, any, copies, of, agenda, bills, d, contract, and, materials, presented, for, review, in, nov, dec, time, frame, in, regards, to, the, contract]   \n",
       "\n",
       "                                                                                                                                                                                                                                                                                                                                                                                                                                                                                                                                                                                                                                                                                                                                                                                                                                                                                                                                                                                                                                     lemma  \\\n",
       "0  [('we', 'PRP'), ('are', 'VBP'), ('working', 'VBG'), ('with', 'IN'), ('an', 'DT'), ('engineering', 'NN'), ('firm', 'NN'), ('on', 'IN'), ('an', 'DT'), ('upcoming', 'JJ'), ('project', 'NN'), ('they', 'PRP'), ('have', 'VBP'), ('asked', 'VBN'), ('us', 'PRP'), ('to', 'TO'), ('gather', 'VB'), ('maps', 'NNS'), ('for', 'IN'), ('this', 'DT'), ('project', 'NN'), ('would', 'MD'), ('you', 'PRP'), ('be', 'VB'), ('able', 'JJ'), ('to', 'TO'), ('assist', 'VB'), ('me', 'PRP'), ('in', 'IN'), ('gathering', 'VBG'), ('maps', 'NNS'), ('records', 'NNS'), ('as', 'IN'), ('builds', 'NNS'), ('for', 'IN'), ('any', 'DT'), ('underground', 'JJ'), ('water', 'NN'), ('facilities', 'NNS'), ('you', 'PRP'), ('may', 'MD'), ('have', 'VB'), ('something', 'NN'), ('just', 'RB'), ('showing', 'VBG'), ('the', 'DT'), ('route', 'NN'), ('of', 'IN'), ('the', 'DT'), ('water', 'NN'), ('lines', 'NNS'), ('would', 'MD'), ('do', 'VB'), ('th', 'VB'), ('st', 'VB'), ('ne', 'JJ'), ('to', 'TO'), ('nd', 'VB'), ('ave', 'VB'), ('ne', 'JJ'), ('c...   \n",
       "1                                                                                                                                                                                                                                                                                                                                                                                                                                                                                                                    [('need', 'NN'), ('copies', 'NNS'), ('of', 'IN'), ('contracts', 'NNS'), ('and', 'CC'), ('all', 'DT'), ('related', 'JJ'), ('documents', 'NNS'), ('pertaining', 'VBG'), ('to', 'TO'), ('topcub', 'VB'), ('aircraft', 'NN'), ('property', 'NN'), ('located', 'VBN'), ('at', 'IN'), ('th', 'NN'), ('dr', 'NN'), ('ne', 'JJ'), ('wa', 'NN'), ('between', 'IN'), ('airport', 'NN'), ('topcub', 'NN'), ('aircraft', 'NN'), ('of', 'IN'), ('hci', 'NN'), ('steel', 'NN'), ('buildings', 'NNS'), ('and', 'CC'), ('pud', 'NN')]   \n",
       "2                                                                                                                                                                                                                                                                                                                                                                                                                                                                             [('copies', 'NNS'), ('of', 'IN'), ('building', 'VBG'), ('permits', 'NNS'), ('of', 'IN'), ('valuation', 'NN'), ('and', 'CC'), ('up', 'RB'), ('min', 'NN'), ('for', 'IN'), ('re', 'NN'), ('roofs', 'NNS'), ('min', 'VBP'), ('for', 'IN'), ('cell', 'NN'), ('tower', 'NN'), ('upgrades', 'JJ'), ('electrical', 'JJ'), ('mechanical', 'JJ'), ('plumbing', 'NN'), ('at', 'IN'), ('min', 'NN'), ('and', 'CC'), ('solar', 'JJ'), ('panels', 'NNS'), ('swimming', 'VBG'), ('pools', 'JJ'), ('foundations', 'NNS'), ('at', 'IN'), ('any', 'DT'), ('valuation', 'NN')]   \n",
       "3                                                                                                                                                                                 [('police', 'NNS'), ('report', 'NN'), ('filed', 'VBD'), ('to', 'TO'), ('an', 'DT'), ('officer', 'NN'), ('against', 'IN'), ('wayne', 'JJ'), ('parris', 'JJ'), ('dob', 'NN'), ('from', 'IN'), ('brittany', 'JJ'), ('j', 'NN'), ('parris', 'VBD'), ('the', 'DT'), ('paperwork', 'NN'), ('i', 'NN'), ('have', 'VBP'), ('has', 'VBZ'), ('a', 'DT'), ('case', 'NN'), ('number', 'NN'), ('d', 'NN'), ('it', 'PRP'), ('is', 'VBZ'), ('also', 'RB'), ('stamped', 'VBN'), ('at', 'IN'), ('the', 'DT'), ('bottom', 'NN'), ('with', 'IN'), ('iím', 'JJ'), ('not', 'RB'), ('sure', 'JJ'), ('which', 'WDT'), ('number', 'NN'), ('you', 'PRP'), ('will', 'MD'), ('need', 'VB'), ('if', 'IN'), ('there', 'EX'), ('is', 'VBZ'), ('any', 'DT'), ('other', 'JJ'), ('information', 'NN'), ('needed', 'VBN'), ('please', 'NN'), ('let', 'VB'), ('me', 'PRP'), ('know', 'VB')]   \n",
       "4                                                                                                                                                 [('email', 'NN'), ('communications', 'NNS'), ('between', 'IN'), ('stephanie', 'JJ'), ('shook', 'NN'), ('dave', 'VBP'), ('kraski', 'VBN'), ('bruce', 'NN'), ('stedman', 'NN'), ('and', 'CC'), ('chad', 'VBD'), ('schmidt', 'VBN'), ('in', 'IN'), ('regards', 'NNS'), ('to', 'TO'), ('fire', 'VB'), ('protection', 'NN'), ('district', 'NN'), ('billing', 'NN'), ('and', 'CC'), ('passage', 'NN'), ('of', 'IN'), ('contract', 'NN'), ('for', 'IN'), ('als', 'NNS'), ('services', 'NNS'), ('also', 'RB'), ('any', 'DT'), ('copies', 'NNS'), ('of', 'IN'), ('agenda', 'NN'), ('bills', 'NNS'), ('d', 'VBP'), ('contract', 'NN'), ('and', 'CC'), ('materials', 'NNS'), ('presented', 'VBN'), ('for', 'IN'), ('review', 'NN'), ('in', 'IN'), ('nov', 'JJ'), ('dec', 'NN'), ('time', 'NN'), ('frame', 'NN'), ('in', 'IN'), ('regards', 'NNS'), ('to', 'TO'), ('the', 'DT'), ('contract', 'NN')]   \n",
       "\n",
       "                                                                                                                                                                                                                                   mash  mash_len                                                                                                                                                                                                                                                                                                                                                                                                                                                                                                                                                                                                                                                                         bigrams                    common_bigrams  \\\n",
       "0           [work, engineering, firm, upcoming, project, gather, map, project, assist, gather, map, build, underground, water, facility, something, show, route, water, line, cascade, survey, engineering, attach, scope, convenience]        26  ['work_engineering', 'engineering_firm', 'firm_upcoming', 'upcoming_project', 'project_ask', 'ask_u', 'u_gather', 'gather_map', 'map_project', 'project_would', 'would_able', 'able_assist', 'assist_gather', 'gather_map', 'map_record', 'record_build', 'build_underground', 'underground_water', 'water_facility', 'facility_may', 'may_something', 'something_show', 'show_route', 'route_water', 'water_line', 'line_would', 'would_th', 'th_st', 'st_ne', 'ne_nd', 'nd_ave', 'ave_ne', 'ne_cascade', 'cascade_survey', 'survey_engineering', 'engineering_attach', 'attach_scope', 'scope_convenience', 'convenience_please', 'please_let', 'let_know', 'know_question']                                []   \n",
       "1                                                                                                                [contract, related, pertain, topcub, aircraft, property, locate, airport, topcub, aircraft, hci, steel, building, pud]        15                                                                                                                                                                                                                                                                                                                                               ['need_copy', 'copy_contract', 'contract_related', 'related_document', 'document_pertain', 'pertain_topcub', 'topcub_aircraft', 'aircraft_property', 'property_locate', 'locate_th', 'th_dr', 'dr_ne', 'ne_wa', 'wa_airport', 'airport_topcub', 'topcub_aircraft', 'aircraft_hci', 'hci_steel', 'steel_building', 'building_pud']               ['property_locate']   \n",
       "2                                                                            [build, permit, valuation, min, roof, min, cell, tower, upgrades, electrical, mechanical, plumbing, min, solar, panel, swim, pools, foundation, valuation]        19                                                                                                                                                                                                                                                                                                                                              ['copy_build', 'build_permit', 'permit_valuation', 'valuation_min', 'min_roof', 'roof_min', 'min_cell', 'cell_tower', 'tower_upgrades', 'upgrades_electrical', 'electrical_mechanical', 'mechanical_plumbing', 'plumbing_min', 'min_solar', 'solar_panel', 'panel_swim', 'swim_pools', 'pools_foundation', 'foundation_valuation']                                []   \n",
       "3                                                                                                                    [police, officer, wayne, parris, dob, brittany, parris, paperwork, case, number, stamp, bottom, iím, sure, number]        17                                                                                                                                                                                                                                                                                            ['police_report', 'report_file', 'file_officer', 'officer_wayne', 'wayne_parris', 'parris_dob', 'dob_brittany', 'brittany_j', 'j_parris', 'parris_paperwork', 'paperwork_case', 'case_number', 'number_also', 'also_stamp', 'stamp_bottom', 'bottom_iím', 'iím_sure', 'sure_number', 'number_need', 'need_information', 'information_need', 'need_please', 'please_let', 'let_know']  ['police_report', 'case_number']   \n",
       "4  [email, communication, stephanie, shook, dave, kraski, bruce, stedman, chad, schmidt, fire, protection, district, billing, passage, contract, al, service, agenda, bill, contract, material, present, review, time, frame, contract]        27                                                                                                             ['email_communication', 'communication_stephanie', 'stephanie_shook', 'shook_dave', 'dave_kraski', 'kraski_bruce', 'bruce_stedman', 'stedman_chad', 'chad_schmidt', 'schmidt_regard', 'regard_fire', 'fire_protection', 'protection_district', 'district_billing', 'billing_passage', 'passage_contract', 'contract_al', 'al_service', 'service_also', 'also_copy', 'copy_agenda', 'agenda_bill', 'bill_contract', 'contract_material', 'material_present', 'present_review', 'review_nov', 'nov_dec', 'dec_time', 'time_frame', 'frame_regard', 'regard_contract']                                []   \n",
       "\n",
       "                                                                                                                                                                                                                             final_mash                                                                                                                                                                                                                                                                                                                                                                                                                                                                                                                                                       token_sp  \\\n",
       "0           [work, engineering, firm, upcoming, project, gather, map, project, assist, gather, map, build, underground, water, facility, something, show, route, water, line, cascade, survey, engineering, attach, scope, convenience]  (we, are, working, with, an, engineering, firm, on, an, upcoming, project,  , they, have, asked, us, to, gather, maps, for, this, project,  , would, you, be, able, to, assist, me, in, gathering, maps, records, as, builds, for, any, underground, water, facilities, you, may, have,  , something, just, showing, the, route, of, the, water, lines, would, do, \\n\\n, th, st, ne, to, nd, ave, ne,  , cascade, surveying,  , engineering, \\n\\n, i, have, attached, the, scope, for, your, convenience,  , please, let, me, know, if, you, have, questions)   \n",
       "1                                                                                               [contract, related, pertain, topcub, aircraft, property, locate, airport, topcub, aircraft, hci, steel, building, pud, property_locate]                                                                                                                                                                                                                                                                                                                                (need, copies, of, contracts, and, all, related, documents, pertaining, to, topcub, aircraft, property, located, at,  , th, dr, ne,  , wa,  , between,  , airport, topcub, aircraft,  , of,  , hci, steel, buildings, and, pud)   \n",
       "2                                                                            [build, permit, valuation, min, roof, min, cell, tower, upgrades, electrical, mechanical, plumbing, min, solar, panel, swim, pools, foundation, valuation]                                                                                                                                                                                                                                                                                                               (copies, of, building, permits, of,  , valuation, and, up,  , min, for, re, roofs,  , min, for, cell, tower, upgrades, electrical, mechanical,  , plumbing, at,  , min, and, solar, panels, swimming, pools,  , foundations, at, any, valuation)   \n",
       "3                                                                                        [police, officer, wayne, parris, dob, brittany, parris, paperwork, case, number, stamp, bottom, iím, sure, number, police_report, case_number]                                                                                                                                                                                                                            (police, report, filed, to, an, officer, against, wayne, parris, dob,    , from, brittany, j, parris, the, paperwork, i, have, has, a, case, number, d,  , it, is, also, stamped, at, the, bottom, with,   , iím, not, sure, which, number, you, will, need, if, there, is, any, other, information, needed, please, let, me, know)   \n",
       "4  [email, communication, stephanie, shook, dave, kraski, bruce, stedman, chad, schmidt, fire, protection, district, billing, passage, contract, al, service, agenda, bill, contract, material, present, review, time, frame, contract]                                                                                                                                                                                      (email, communications, between, stephanie, shook, dave, kraski, bruce, stedman, and, chad, schmidt, in, regards, to, fire, protection, district,  , billing, and, passage, of, contract, for, als, services, \\n\\n, also, any, copies, of, agenda, bills, d, contract, and, materials, presented, for, review, in, nov, dec, time, frame, in, regards, to, the, contract)   \n",
       "\n",
       "                                                                                                                                                                                                                                                                                                                                                                                                                                                                                                                                                                                                     token_sp2  pn                                                                                                                                                       pn2                                                                                                                                                                               final_mash2  \n",
       "0  (We, are, working, with, an, engineering, firm, on, an, upcoming, project, .,  , They, have, asked, us, to, gather, maps, for, this, project, .,  , Would, you, be, able, to, assist, me, in, gathering, maps, /, records, (, as, builds, ), for, any, underground, water, facilities, you, may, have, ?,  , Something, just, showing, the, route, of, the, water, lines, would, do, ., \\n\\n, 207th, ST, NE, to, 92nd, Ave, NE, ,, Arlington, ,, Cascade, Surveying, &, Engineering, \\n\\n, I, have, attached, the, scope, for, your, convenience, .,  , Please, let, me, know, if, you, have, questions, .)  []                                                                                                 [ne, ave, ne, arlington, cascade, surveying, engineering]  [work, firm, upcoming, project, gather, map, project, assist, gather, map, build, underground, water, facility, something, show, route, water, line, survey, attach, scope, convenience]  \n",
       "1                                                                                                                                                                                                                                                                                                                             (Need, copies, of, contracts, and, all, related, documents, pertaining, to, Topcub, Aircraft, property, located, at, 17922, 59th, DR, NE, Arlington, WA, 98223, between, Arlington, Airport, ,, Topcub, Aircraft, ,, City, of, Arlington, ,, HCI, Steel, Buildings, and, PUD, .)  []                                         [topcub, aircraft, dr, ne, arlington, wa, arlington, airport, topcub, aircraft, city, arlington, hci, steel, pud]                                                                                                                 [contract, related, pertain, property, locate, building, property_locate]  \n",
       "2                                                                                                                                                                                                                                                                                (Copies, of, Building, Permits, of, $, 5,000, valuation, and, up, (, $, 20,000, min, for, Re, -, Roofs, ), ,, (, $, 50,000, min, ., for, Cell, Tower, upgrades, ), ,, (, Electrical, ,, Mechanical, &, Plumbing, at, $, 100,000, min, ., ), and, (, Solar, Panels, ,, Swimming, Pools, &, Foundations, at, any, valuation, ))  []                                                                          [building, re, roofs, cell, tower, mechanical, plumbing, solar, swimming, pools]                                                                                 [build, permit, valuation, min, roof, min, upgrades, electrical, min, panel, swim, foundation, valuation]  \n",
       "3                                                                                                                                                                                                                         (police, report, filed, to, an, officer, against, Wayne, Parris, (, DOB, 08, -, 03, -, 1957, ), from, Brittany, J., Parris, ., The, paperwork, I, have, has, a, case, number, D18, -, 39, it, is, also, stamped, at, the, bottom, with, 18, -, 1294, ,, Iím, not, sure, which, number, you, will, need, ., If, there, is, any, other, information, needed, please, let, me, know, .)  []                                                                                                           [wayne, parris, dob, brittany, j., parris, d18]                                                                                  [police, officer, paperwork, case, number, stamp, bottom, iím, sure, number, police_report, case_number]  \n",
       "4                                                                                                                                                                                                               (Email, Communications, between, Stephanie, Shook, ,, Dave, Kraski, ,, Bruce, Stedman, and, Chad, Schmidt, in, regards, to, Fire, Protection, District, 21, billing, and, passage, of, contract, for, ALS, Services, ., \\n\\n, Also, any, copies, of, Agenda, Bills, ,, D21, Contract, and, materials, presented, for, review, in, Nov, /, Dec, time, frame, in, regards, to, the, contract, .)  []  [communications, stephanie, shook, dave, kraski, bruce, stedman, chad, schmidt, fire, protection, district, als, agenda, bills, d21, contract, nov, dec]                                                                                       [email, communication, billing, passage, al, service, bill, material, present, review, time, frame]  "
      ]
     },
     "execution_count": 32,
     "metadata": {},
     "output_type": "execute_result"
    }
   ],
   "source": [
    "data_sp.head()"
   ]
  },
  {
   "cell_type": "code",
   "execution_count": 88,
   "metadata": {
    "collapsed": true
   },
   "outputs": [],
   "source": [
    "data_sp2 = data_sp[data_sp['mash_len2'] > 0]\n",
    "data_sp = data_sp[data_sp['mash_len'] > 0]"
   ]
  },
  {
   "cell_type": "code",
   "execution_count": null,
   "metadata": {
    "collapsed": true
   },
   "outputs": [],
   "source": [
    "data_sp2['mash_len2'].describe()"
   ]
  },
  {
   "cell_type": "code",
   "execution_count": null,
   "metadata": {
    "collapsed": true
   },
   "outputs": [],
   "source": [
    "data_sp['mash_len'].describe()"
   ]
  },
  {
   "cell_type": "markdown",
   "metadata": {},
   "source": [
    "## 3) Drop cities with low (less than 4) average count - Asheville, Greensboro, Dayton, OKC"
   ]
  },
  {
   "cell_type": "code",
   "execution_count": 89,
   "metadata": {
    "collapsed": true
   },
   "outputs": [],
   "source": [
    "data_lg_cities = data.copy()"
   ]
  },
  {
   "cell_type": "code",
   "execution_count": 90,
   "metadata": {},
   "outputs": [],
   "source": [
    "data_lg_cities = data_lg_cities[(data['city'] != 'Asheville') & (data['city'] != 'Greensboro') & \n",
    "                               (data['city'] != 'Dayton') & (data['city'] != 'OKC')]"
   ]
  },
  {
   "cell_type": "markdown",
   "metadata": {},
   "source": [
    "## 4) Remove observations with small number of words in final mash "
   ]
  },
  {
   "cell_type": "markdown",
   "metadata": {},
   "source": [
    "### 4a) Greater than 2"
   ]
  },
  {
   "cell_type": "code",
   "execution_count": 91,
   "metadata": {
    "collapsed": true
   },
   "outputs": [],
   "source": [
    "data_4a = data.copy()\n",
    "data_4a = data_4a[data_4a['mash_len'] > 2]"
   ]
  },
  {
   "cell_type": "markdown",
   "metadata": {},
   "source": [
    "#### 4a.1) Model 1a"
   ]
  },
  {
   "cell_type": "code",
   "execution_count": 116,
   "metadata": {},
   "outputs": [],
   "source": [
    "data_4a1 = data1.copy()\n",
    "data_4a1 = data_4a1[data_4a1['mash_len'] > 2]"
   ]
  },
  {
   "cell_type": "markdown",
   "metadata": {},
   "source": [
    "#### 4a.2) Model 1b"
   ]
  },
  {
   "cell_type": "code",
   "execution_count": 117,
   "metadata": {
    "collapsed": true
   },
   "outputs": [],
   "source": [
    "data_4a2 = data10.copy()\n",
    "data_4a2 = data_4a2[data_4a2['mash_len'] > 2]"
   ]
  },
  {
   "cell_type": "markdown",
   "metadata": {},
   "source": [
    "#### 4a.3) Model 2a"
   ]
  },
  {
   "cell_type": "code",
   "execution_count": 94,
   "metadata": {
    "collapsed": true
   },
   "outputs": [],
   "source": [
    "data_4a3 = data_sp2.copy()\n",
    "data_4a3 = data_4a3[data_4a3['mash_len'] > 2]"
   ]
  },
  {
   "cell_type": "markdown",
   "metadata": {},
   "source": [
    "#### 4a.4) Model 2b"
   ]
  },
  {
   "cell_type": "code",
   "execution_count": 95,
   "metadata": {
    "collapsed": true
   },
   "outputs": [],
   "source": [
    "data_4a4 = data_pn_nltk2.copy()\n",
    "data_4a4 = data_4a4[data_4a4['mash_len'] > 2]"
   ]
  },
  {
   "cell_type": "markdown",
   "metadata": {},
   "source": [
    "#### 4a.5) Model 3"
   ]
  },
  {
   "cell_type": "code",
   "execution_count": 96,
   "metadata": {
    "collapsed": true
   },
   "outputs": [],
   "source": [
    "data_4a5 = data_lg_cities.copy()\n",
    "data_4a5 = data_4a5[data_4a5['mash_len'] > 2]"
   ]
  },
  {
   "cell_type": "markdown",
   "metadata": {},
   "source": [
    "### 4b) Less than 3"
   ]
  },
  {
   "cell_type": "code",
   "execution_count": 99,
   "metadata": {
    "collapsed": true
   },
   "outputs": [],
   "source": [
    "data_4b = data.copy()\n",
    "data_4b = data_4b[data_4b['mash_len'] > 3]"
   ]
  },
  {
   "cell_type": "markdown",
   "metadata": {},
   "source": [
    "#### 4b.1) Model 1a"
   ]
  },
  {
   "cell_type": "code",
   "execution_count": 118,
   "metadata": {},
   "outputs": [],
   "source": [
    "data_4b1 = data1.copy()\n",
    "data_4b1 = data_4b1[data_4b1['mash_len'] > 3]"
   ]
  },
  {
   "cell_type": "markdown",
   "metadata": {},
   "source": [
    "#### 4b.2) Model 1b"
   ]
  },
  {
   "cell_type": "code",
   "execution_count": 119,
   "metadata": {
    "collapsed": true
   },
   "outputs": [],
   "source": [
    "data_4b2 = data10.copy()\n",
    "data_4b2 = data_4b2[data_4b2['mash_len'] > 3]"
   ]
  },
  {
   "cell_type": "markdown",
   "metadata": {},
   "source": [
    "#### 4b.3) Model 2a"
   ]
  },
  {
   "cell_type": "code",
   "execution_count": 102,
   "metadata": {
    "collapsed": true
   },
   "outputs": [],
   "source": [
    "data_4b3 = data_sp2.copy()\n",
    "data_4b3 = data_4b3[data_4b3['mash_len'] > 3]"
   ]
  },
  {
   "cell_type": "markdown",
   "metadata": {},
   "source": [
    "#### 4b.4) Model 2b"
   ]
  },
  {
   "cell_type": "code",
   "execution_count": 103,
   "metadata": {
    "collapsed": true
   },
   "outputs": [],
   "source": [
    "data_4b4 = data_pn_nltk2.copy()\n",
    "data_4b4 = data_4b4[data_4b4['mash_len'] > 3]"
   ]
  },
  {
   "cell_type": "markdown",
   "metadata": {},
   "source": [
    "#### 4b.5) Model 3"
   ]
  },
  {
   "cell_type": "code",
   "execution_count": 104,
   "metadata": {},
   "outputs": [],
   "source": [
    "data_4b5 = data_lg_cities.copy()\n",
    "data_4b5 = data_4b5[data_4b5['mash_len'] > 3]"
   ]
  },
  {
   "cell_type": "markdown",
   "metadata": {
    "collapsed": true
   },
   "source": [
    "## Run all LDA models"
   ]
  },
  {
   "cell_type": "code",
   "execution_count": 105,
   "metadata": {},
   "outputs": [],
   "source": [
    "# Model 1a - words count > 1\n",
    "\n",
    "texts = list(data1['final_mash'])\n",
    "dictionary = corpora.Dictionary(texts)\n",
    "corpus = [dictionary.doc2bow(text) for text in texts]\n",
    "\n",
    "lda_data1 = gensim.models.ldamodel.LdaModel(corpus, num_topics=60, id2word = dictionary, \n",
    "                                         passes = 60, random_state=7)\n",
    "model_name = \"lda_data1\"\n",
    "lda_data1.save(model_name)\n",
    "corpus_lda = lda_data1[corpus]\n",
    "corpus_lda_list = list(corpus_lda)\n",
    "topics = data1.copy()\n",
    "topics = topics.assign(topic_comp = corpus_lda_list)\n",
    "file_name = \"topics/lda_data1.csv\"\n",
    "topics.to_csv(file_name)\n",
    "\n"
   ]
  },
  {
   "cell_type": "code",
   "execution_count": 106,
   "metadata": {},
   "outputs": [
    {
     "ename": "KeyboardInterrupt",
     "evalue": "",
     "output_type": "error",
     "traceback": [
      "\u001b[0;31m---------------------------------------------------------------------------\u001b[0m",
      "\u001b[0;31mKeyboardInterrupt\u001b[0m                         Traceback (most recent call last)",
      "\u001b[0;32m<ipython-input-106-ebe5931f345b>\u001b[0m in \u001b[0;36m<module>\u001b[0;34m()\u001b[0m\n\u001b[1;32m     59\u001b[0m \u001b[0;34m\u001b[0m\u001b[0m\n\u001b[1;32m     60\u001b[0m lda_data_lg_cities = gensim.models.ldamodel.LdaModel(corpus, num_topics=60, id2word = dictionary, \n\u001b[0;32m---> 61\u001b[0;31m                                          passes = 60, random_state=7)\n\u001b[0m\u001b[1;32m     62\u001b[0m \u001b[0mmodel_name\u001b[0m \u001b[0;34m=\u001b[0m \u001b[0;34m\"lda_data_lg_cities\"\u001b[0m\u001b[0;34m\u001b[0m\u001b[0m\n\u001b[1;32m     63\u001b[0m \u001b[0mlda_data_lg_cities\u001b[0m\u001b[0;34m.\u001b[0m\u001b[0msave\u001b[0m\u001b[0;34m(\u001b[0m\u001b[0mmodel_name\u001b[0m\u001b[0;34m)\u001b[0m\u001b[0;34m\u001b[0m\u001b[0m\n",
      "\u001b[0;32m~/anaconda3/lib/python3.6/site-packages/gensim/models/ldamodel.py\u001b[0m in \u001b[0;36m__init__\u001b[0;34m(self, corpus, num_topics, id2word, distributed, chunksize, passes, update_every, alpha, eta, decay, offset, eval_every, iterations, gamma_threshold, minimum_probability, random_state, ns_conf, minimum_phi_value, per_word_topics, callbacks, dtype)\u001b[0m\n\u001b[1;32m    513\u001b[0m         \u001b[0;32mif\u001b[0m \u001b[0mcorpus\u001b[0m \u001b[0;32mis\u001b[0m \u001b[0;32mnot\u001b[0m \u001b[0;32mNone\u001b[0m\u001b[0;34m:\u001b[0m\u001b[0;34m\u001b[0m\u001b[0m\n\u001b[1;32m    514\u001b[0m             \u001b[0muse_numpy\u001b[0m \u001b[0;34m=\u001b[0m \u001b[0mself\u001b[0m\u001b[0;34m.\u001b[0m\u001b[0mdispatcher\u001b[0m \u001b[0;32mis\u001b[0m \u001b[0;32mnot\u001b[0m \u001b[0;32mNone\u001b[0m\u001b[0;34m\u001b[0m\u001b[0m\n\u001b[0;32m--> 515\u001b[0;31m             \u001b[0mself\u001b[0m\u001b[0;34m.\u001b[0m\u001b[0mupdate\u001b[0m\u001b[0;34m(\u001b[0m\u001b[0mcorpus\u001b[0m\u001b[0;34m,\u001b[0m \u001b[0mchunks_as_numpy\u001b[0m\u001b[0;34m=\u001b[0m\u001b[0muse_numpy\u001b[0m\u001b[0;34m)\u001b[0m\u001b[0;34m\u001b[0m\u001b[0m\n\u001b[0m\u001b[1;32m    516\u001b[0m \u001b[0;34m\u001b[0m\u001b[0m\n\u001b[1;32m    517\u001b[0m     \u001b[0;32mdef\u001b[0m \u001b[0minit_dir_prior\u001b[0m\u001b[0;34m(\u001b[0m\u001b[0mself\u001b[0m\u001b[0;34m,\u001b[0m \u001b[0mprior\u001b[0m\u001b[0;34m,\u001b[0m \u001b[0mname\u001b[0m\u001b[0;34m)\u001b[0m\u001b[0;34m:\u001b[0m\u001b[0;34m\u001b[0m\u001b[0m\n",
      "\u001b[0;32m~/anaconda3/lib/python3.6/site-packages/gensim/models/ldamodel.py\u001b[0m in \u001b[0;36mupdate\u001b[0;34m(self, corpus, chunksize, decay, offset, passes, update_every, eval_every, iterations, gamma_threshold, chunks_as_numpy)\u001b[0m\n\u001b[1;32m    961\u001b[0m                         \u001b[0mpass_\u001b[0m\u001b[0;34m,\u001b[0m \u001b[0mchunk_no\u001b[0m \u001b[0;34m*\u001b[0m \u001b[0mchunksize\u001b[0m \u001b[0;34m+\u001b[0m \u001b[0mlen\u001b[0m\u001b[0;34m(\u001b[0m\u001b[0mchunk\u001b[0m\u001b[0;34m)\u001b[0m\u001b[0;34m,\u001b[0m \u001b[0mlencorpus\u001b[0m\u001b[0;34m\u001b[0m\u001b[0m\n\u001b[1;32m    962\u001b[0m                     )\n\u001b[0;32m--> 963\u001b[0;31m                     \u001b[0mgammat\u001b[0m \u001b[0;34m=\u001b[0m \u001b[0mself\u001b[0m\u001b[0;34m.\u001b[0m\u001b[0mdo_estep\u001b[0m\u001b[0;34m(\u001b[0m\u001b[0mchunk\u001b[0m\u001b[0;34m,\u001b[0m \u001b[0mother\u001b[0m\u001b[0;34m)\u001b[0m\u001b[0;34m\u001b[0m\u001b[0m\n\u001b[0m\u001b[1;32m    964\u001b[0m \u001b[0;34m\u001b[0m\u001b[0m\n\u001b[1;32m    965\u001b[0m                     \u001b[0;32mif\u001b[0m \u001b[0mself\u001b[0m\u001b[0;34m.\u001b[0m\u001b[0moptimize_alpha\u001b[0m\u001b[0;34m:\u001b[0m\u001b[0;34m\u001b[0m\u001b[0m\n",
      "\u001b[0;32m~/anaconda3/lib/python3.6/site-packages/gensim/models/ldamodel.py\u001b[0m in \u001b[0;36mdo_estep\u001b[0;34m(self, chunk, state)\u001b[0m\n\u001b[1;32m    723\u001b[0m         \u001b[0;32mif\u001b[0m \u001b[0mstate\u001b[0m \u001b[0;32mis\u001b[0m \u001b[0;32mNone\u001b[0m\u001b[0;34m:\u001b[0m\u001b[0;34m\u001b[0m\u001b[0m\n\u001b[1;32m    724\u001b[0m             \u001b[0mstate\u001b[0m \u001b[0;34m=\u001b[0m \u001b[0mself\u001b[0m\u001b[0;34m.\u001b[0m\u001b[0mstate\u001b[0m\u001b[0;34m\u001b[0m\u001b[0m\n\u001b[0;32m--> 725\u001b[0;31m         \u001b[0mgamma\u001b[0m\u001b[0;34m,\u001b[0m \u001b[0msstats\u001b[0m \u001b[0;34m=\u001b[0m \u001b[0mself\u001b[0m\u001b[0;34m.\u001b[0m\u001b[0minference\u001b[0m\u001b[0;34m(\u001b[0m\u001b[0mchunk\u001b[0m\u001b[0;34m,\u001b[0m \u001b[0mcollect_sstats\u001b[0m\u001b[0;34m=\u001b[0m\u001b[0;32mTrue\u001b[0m\u001b[0;34m)\u001b[0m\u001b[0;34m\u001b[0m\u001b[0m\n\u001b[0m\u001b[1;32m    726\u001b[0m         \u001b[0mstate\u001b[0m\u001b[0;34m.\u001b[0m\u001b[0msstats\u001b[0m \u001b[0;34m+=\u001b[0m \u001b[0msstats\u001b[0m\u001b[0;34m\u001b[0m\u001b[0m\n\u001b[1;32m    727\u001b[0m         \u001b[0mstate\u001b[0m\u001b[0;34m.\u001b[0m\u001b[0mnumdocs\u001b[0m \u001b[0;34m+=\u001b[0m \u001b[0mgamma\u001b[0m\u001b[0;34m.\u001b[0m\u001b[0mshape\u001b[0m\u001b[0;34m[\u001b[0m\u001b[0;36m0\u001b[0m\u001b[0;34m]\u001b[0m  \u001b[0;31m# avoids calling len(chunk) on a generator\u001b[0m\u001b[0;34m\u001b[0m\u001b[0m\n",
      "\u001b[0;32m~/anaconda3/lib/python3.6/site-packages/gensim/models/ldamodel.py\u001b[0m in \u001b[0;36minference\u001b[0;34m(self, chunk, collect_sstats)\u001b[0m\n\u001b[1;32m    680\u001b[0m                 \u001b[0;31m# If gamma hasn't changed much, we're done.\u001b[0m\u001b[0;34m\u001b[0m\u001b[0;34m\u001b[0m\u001b[0m\n\u001b[1;32m    681\u001b[0m                 \u001b[0mmeanchange\u001b[0m \u001b[0;34m=\u001b[0m \u001b[0mmean_absolute_difference\u001b[0m\u001b[0;34m(\u001b[0m\u001b[0mgammad\u001b[0m\u001b[0;34m,\u001b[0m \u001b[0mlastgamma\u001b[0m\u001b[0;34m)\u001b[0m\u001b[0;34m\u001b[0m\u001b[0m\n\u001b[0;32m--> 682\u001b[0;31m                 \u001b[0;32mif\u001b[0m \u001b[0mmeanchange\u001b[0m \u001b[0;34m<\u001b[0m \u001b[0mself\u001b[0m\u001b[0;34m.\u001b[0m\u001b[0mgamma_threshold\u001b[0m\u001b[0;34m:\u001b[0m\u001b[0;34m\u001b[0m\u001b[0m\n\u001b[0m\u001b[1;32m    683\u001b[0m                     \u001b[0mconverged\u001b[0m \u001b[0;34m+=\u001b[0m \u001b[0;36m1\u001b[0m\u001b[0;34m\u001b[0m\u001b[0m\n\u001b[1;32m    684\u001b[0m                     \u001b[0;32mbreak\u001b[0m\u001b[0;34m\u001b[0m\u001b[0m\n",
      "\u001b[0;31mKeyboardInterrupt\u001b[0m: "
     ]
    }
   ],
   "source": [
    "# Model 1b - words count > 10\n",
    "\n",
    "texts = list(data10['final_mash'])\n",
    "dictionary = corpora.Dictionary(texts)\n",
    "corpus = [dictionary.doc2bow(text) for text in texts]\n",
    "\n",
    "lda_data10 = gensim.models.ldamodel.LdaModel(corpus, num_topics=60, id2word = dictionary, \n",
    "                                         passes = 60, random_state=7)\n",
    "model_name = \"lda_data10\"\n",
    "lda_data10.save(model_name)\n",
    "corpus_lda = lda_data10[corpus]\n",
    "corpus_lda_list = list(corpus_lda)\n",
    "topics = data10.copy()\n",
    "topics = topics.assign(topic_comp = corpus_lda_list)\n",
    "file_name = \"topics/lda_data10.csv\"\n",
    "topics.to_csv(file_name)\n",
    "\n",
    "# Model 2a\n",
    "\n",
    "texts = list(data_pn_nltk2['final_mash'])\n",
    "dictionary = corpora.Dictionary(texts)\n",
    "corpus = [dictionary.doc2bow(text) for text in texts]\n",
    "\n",
    "lda_data_nltk = gensim.models.ldamodel.LdaModel(corpus, num_topics=60, id2word = dictionary, \n",
    "                                         passes = 60, random_state=7)\n",
    "model_name = \"lda_data_nltk\"\n",
    "lda_data_nltk.save(model_name)\n",
    "corpus_lda = lda_data_nltk[corpus]\n",
    "corpus_lda_list = list(corpus_lda)\n",
    "topics = data_pn_nltk2.copy()\n",
    "topics = topics.assign(topic_comp = corpus_lda_list)\n",
    "file_name = \"topics/lda_data_nltk.csv\"\n",
    "topics.to_csv(file_name)\n",
    "\n",
    "\n",
    "# Model 2b\n",
    "\n",
    "texts = list(data_sp2['final_mash'])\n",
    "dictionary = corpora.Dictionary(texts)\n",
    "corpus = [dictionary.doc2bow(text) for text in texts]\n",
    "\n",
    "lda_data_sp = gensim.models.ldamodel.LdaModel(corpus, num_topics=60, id2word = dictionary, \n",
    "                                         passes = 60, random_state=7)\n",
    "model_name = \"lda_data_sp\"\n",
    "lda_data_sp.save(model_name)\n",
    "corpus_lda = lda_data_nltk[corpus]\n",
    "corpus_lda_list = list(corpus_lda)\n",
    "topics = data_sp2.copy()\n",
    "topics = topics.assign(topic_comp = corpus_lda_list)\n",
    "file_name = \"topics/lda_data_sp.csv\"\n",
    "topics.to_csv(file_name)\n"
   ]
  },
  {
   "cell_type": "code",
   "execution_count": null,
   "metadata": {},
   "outputs": [],
   "source": [
    "# Model 3\n",
    "\n",
    "texts = list(data_lg_cities['final_mash'])\n",
    "dictionary = corpora.Dictionary(texts)\n",
    "corpus = [dictionary.doc2bow(text) for text in texts]\n",
    "\n",
    "lda_data_lg_cities = gensim.models.ldamodel.LdaModel(corpus, num_topics=60, id2word = dictionary, \n",
    "                                         passes = 60, random_state=7)\n",
    "model_name = \"lda_data_lg_cities\"\n",
    "lda_data_lg_cities.save(model_name)\n",
    "corpus_lda = lda_data_lg_cities[corpus]\n",
    "corpus_lda_list = list(corpus_lda)\n",
    "topics = data_lg_cities.copy()\n",
    "topics = topics.assign(topic_comp = corpus_lda_list)\n",
    "file_name = \"topics/lda_data_lg_cities.csv\"\n",
    "topics.to_csv(file_name)\n",
    "\n",
    "\n",
    "# Model 4a\n",
    "\n",
    "texts = list(data_4a['final_mash'])\n",
    "dictionary = corpora.Dictionary(texts)\n",
    "corpus = [dictionary.doc2bow(text) for text in texts]\n",
    "\n",
    "lda_data_4a = gensim.models.ldamodel.LdaModel(corpus, num_topics=60, id2word = dictionary, \n",
    "                                         passes = 60, random_state=7)\n",
    "model_name = \"lda_data_4a\"\n",
    "lda_data_4a.save(model_name)\n",
    "corpus_lda = lda_data_4a[corpus]\n",
    "corpus_lda_list = list(corpus_lda)\n",
    "topics = data_4a.copy()\n",
    "topics = topics.assign(topic_comp = corpus_lda_list)\n",
    "file_name = \"topics/lda_data_4a.csv\"\n",
    "topics.to_csv(file_name)\n",
    "\n",
    "# Model 4a1\n",
    "\n",
    "texts = list(data_4a1['final_mash'])\n",
    "dictionary = corpora.Dictionary(texts)\n",
    "corpus = [dictionary.doc2bow(text) for text in texts]\n",
    "\n",
    "lda_data_4a1 = gensim.models.ldamodel.LdaModel(corpus, num_topics=60, id2word = dictionary, \n",
    "                                         passes = 60, random_state=7)\n",
    "model_name = \"lda_data_4a1\"\n",
    "lda_data_4a1.save(model_name)\n",
    "corpus_lda = lda_data_4a1[corpus]\n",
    "corpus_lda_list = list(corpus_lda)\n",
    "topics = data_4a1.copy()\n",
    "topics = topics.assign(topic_comp = corpus_lda_list)\n",
    "file_name = \"topics/lda_data_4a1.csv\"\n",
    "topics.to_csv(file_name)\n",
    "\n",
    "# Model 4a2\n",
    "\n",
    "texts = list(data_4a2['final_mash'])\n",
    "dictionary = corpora.Dictionary(texts)\n",
    "corpus = [dictionary.doc2bow(text) for text in texts]\n",
    "\n",
    "lda_data_4a2 = gensim.models.ldamodel.LdaModel(corpus, num_topics=60, id2word = dictionary, \n",
    "                                         passes = 60, random_state=7)\n",
    "model_name = \"lda_data_42a\"\n",
    "lda_data_4a2.save(model_name)\n",
    "corpus_lda = lda_data_4a2[corpus]\n",
    "corpus_lda_list = list(corpus_lda)\n",
    "topics = data_4a2.copy()\n",
    "topics = topics.assign(topic_comp = corpus_lda_list)\n",
    "file_name = \"topics/lda_data_4a2.csv\"\n",
    "topics.to_csv(file_name)\n",
    "\n",
    "# Model 4a3\n",
    "\n",
    "texts = list(data_4a3['final_mash'])\n",
    "dictionary = corpora.Dictionary(texts)\n",
    "corpus = [dictionary.doc2bow(text) for text in texts]\n",
    "\n",
    "lda_data_4a3 = gensim.models.ldamodel.LdaModel(corpus, num_topics=60, id2word = dictionary, \n",
    "                                         passes = 60, random_state=7)\n",
    "model_name = \"lda_data_4a3\"\n",
    "lda_data_4a3.save(model_name)\n",
    "corpus_lda = lda_data_4a3[corpus]\n",
    "corpus_lda_list = list(corpus_lda)\n",
    "topics = data_4a3.copy()\n",
    "topics = topics.assign(topic_comp = corpus_lda_list)\n",
    "file_name = \"topics/lda_data_4a3.csv\"\n",
    "topics.to_csv(file_name)\n",
    "\n",
    "# Model 4a4\n",
    "\n",
    "texts = list(data_4a4['final_mash'])\n",
    "dictionary = corpora.Dictionary(texts)\n",
    "corpus = [dictionary.doc2bow(text) for text in texts]\n",
    "\n",
    "lda_data_4a4 = gensim.models.ldamodel.LdaModel(corpus, num_topics=60, id2word = dictionary, \n",
    "                                         passes = 60, random_state=7)\n",
    "model_name = \"lda_data_4a4\"\n",
    "lda_data_4a4.save(model_name)\n",
    "corpus_lda = lda_data_4a4[corpus]\n",
    "corpus_lda_list = list(corpus_lda)\n",
    "topics = data_4a4.copy()\n",
    "topics = topics.assign(topic_comp = corpus_lda_list)\n",
    "file_name = \"topics/lda_data_4a4.csv\"\n",
    "topics.to_csv(file_name)\n",
    "\n",
    "# Model 4a5\n",
    "\n",
    "texts = list(data_4a5['final_mash'])\n",
    "dictionary = corpora.Dictionary(texts)\n",
    "corpus = [dictionary.doc2bow(text) for text in texts]\n",
    "\n",
    "lda_data_4a5 = gensim.models.ldamodel.LdaModel(corpus, num_topics=60, id2word = dictionary, \n",
    "                                         passes = 60, random_state=7)\n",
    "model_name = \"lda_data_4a5\"\n",
    "lda_data_4a5.save(model_name)\n",
    "corpus_lda = lda_data_4a5[corpus]\n",
    "corpus_lda_list = list(corpus_lda)\n",
    "topics = data_4a5.copy()\n",
    "topics = topics.assign(topic_comp = corpus_lda_list)\n",
    "file_name = \"topics/lda_data_4a5.csv\"\n",
    "topics.to_csv(file_name)\n",
    "\n",
    "# Model 4b\n",
    "\n",
    "texts = list(data_4b['final_mash'])\n",
    "dictionary = corpora.Dictionary(texts)\n",
    "corpus = [dictionary.doc2bow(text) for text in texts]\n",
    "\n",
    "lda_data_4b = gensim.models.ldamodel.LdaModel(corpus, num_topics=60, id2word = dictionary, \n",
    "                                         passes = 60, random_state=7)\n",
    "model_name = \"lda_data_4b\"\n",
    "lda_data_4b.save(model_name)\n",
    "corpus_lda = lda_data_4b[corpus]\n",
    "corpus_lda_list = list(corpus_lda)\n",
    "topics = data_4b.copy()\n",
    "topics = topics.assign(topic_comp = corpus_lda_list)\n",
    "file_name = \"topics/lda_data_4b.csv\"\n",
    "topics.to_csv(file_name)\n",
    "\n",
    "# Model 4b1\n",
    "\n",
    "texts = list(data_4b1['final_mash'])\n",
    "dictionary = corpora.Dictionary(texts)\n",
    "corpus = [dictionary.doc2bow(text) for text in texts]\n",
    "\n",
    "lda_data_4b1 = gensim.models.ldamodel.LdaModel(corpus, num_topics=60, id2word = dictionary, \n",
    "                                         passes = 60, random_state=7)\n",
    "model_name = \"lda_data_4b1\"\n",
    "lda_data_4b1.save(model_name)\n",
    "corpus_lda = lda_data_4b1[corpus]\n",
    "corpus_lda_list = list(corpus_lda)\n",
    "topics = data_4b1.copy()\n",
    "topics = topics.assign(topic_comp = corpus_lda_list)\n",
    "file_name = \"topics/lda_data_4b1.csv\"\n",
    "topics.to_csv(file_name)\n",
    "\n",
    "# Model 4b2\n",
    "\n",
    "texts = list(data_4b2['final_mash'])\n",
    "dictionary = corpora.Dictionary(texts)\n",
    "corpus = [dictionary.doc2bow(text) for text in texts]\n",
    "\n",
    "lda_data_4b2 = gensim.models.ldamodel.LdaModel(corpus, num_topics=60, id2word = dictionary, \n",
    "                                         passes = 60, random_state=7)\n",
    "model_name = \"lda_data_4b2\"\n",
    "lda_data_4b2.save(model_name)\n",
    "corpus_lda = lda_data_4b2[corpus]\n",
    "corpus_lda_list = list(corpus_lda)\n",
    "topics = data_4b2.copy()\n",
    "topics = topics.assign(topic_comp = corpus_lda_list)\n",
    "file_name = \"topics/lda_data_4b2.csv\"\n",
    "topics.to_csv(file_name)\n",
    "\n",
    "# Model 4b3\n",
    "\n",
    "texts = list(data_4b3['final_mash'])\n",
    "dictionary = corpora.Dictionary(texts)\n",
    "corpus = [dictionary.doc2bow(text) for text in texts]\n",
    "\n",
    "lda_data_4b3 = gensim.models.ldamodel.LdaModel(corpus, num_topics=60, id2word = dictionary, \n",
    "                                         passes = 60, random_state=7)\n",
    "model_name = \"lda_data_4b3\"\n",
    "lda_data_4b3.save(model_name)\n",
    "corpus_lda = lda_data_4b3[corpus]\n",
    "corpus_lda_list = list(corpus_lda)\n",
    "topics = data_4b3.copy()\n",
    "topics = topics.assign(topic_comp = corpus_lda_list)\n",
    "file_name = \"topics/lda_data_4b3.csv\"\n",
    "topics.to_csv(file_name)\n",
    "\n",
    "# Model 4b4\n",
    "\n",
    "texts = list(data_4b4['final_mash'])\n",
    "dictionary = corpora.Dictionary(texts)\n",
    "corpus = [dictionary.doc2bow(text) for text in texts]\n",
    "\n",
    "lda_data_4b4 = gensim.models.ldamodel.LdaModel(corpus, num_topics=60, id2word = dictionary, \n",
    "                                         passes = 60, random_state=7)\n",
    "model_name = \"lda_data_4b4\"\n",
    "lda_data_4b4.save(model_name)\n",
    "corpus_lda = lda_data_4b4[corpus]\n",
    "corpus_lda_list = list(corpus_lda)\n",
    "topics = data_4b4.copy()\n",
    "topics = topics.assign(topic_comp = corpus_lda_list)\n",
    "file_name = \"topics/lda_data_4b4.csv\"\n",
    "topics.to_csv(file_name)\n",
    "\n",
    "# Model 4b5\n",
    "\n",
    "texts = list(data_4b5['final_mash'])\n",
    "dictionary = corpora.Dictionary(texts)\n",
    "corpus = [dictionary.doc2bow(text) for text in texts]\n",
    "\n",
    "lda_data_4b5 = gensim.models.ldamodel.LdaModel(corpus, num_topics=60, id2word = dictionary, \n",
    "                                         passes = 60, random_state=7)\n",
    "model_name = \"lda_data_4b5\"\n",
    "lda_data_4b5.save(model_name)\n",
    "corpus_lda = lda_data_4b5[corpus]\n",
    "corpus_lda_list = list(corpus_lda)\n",
    "topics = data_4b5.copy()\n",
    "topics = topics.assign(topic_comp = corpus_lda_list)\n",
    "file_name = \"topics/lda_data_4b5.csv\"\n",
    "topics.to_csv(file_name)"
   ]
  },
  {
   "cell_type": "markdown",
   "metadata": {},
   "source": [
    "## Model 5 - Proper Nouns with low count"
   ]
  },
  {
   "cell_type": "code",
   "execution_count": null,
   "metadata": {
    "collapsed": true
   },
   "outputs": [],
   "source": [
    "# Create proper noun counter\n",
    "\n",
    "pn_list = [y for x in list(data_pn_nltk['pn2']) for y in x]\n",
    "pn_counts = Counter(pn_list)"
   ]
  },
  {
   "cell_type": "code",
   "execution_count": null,
   "metadata": {
    "collapsed": true
   },
   "outputs": [],
   "source": [
    "words = list(pn_counts.keys())\n",
    "cnt = list(pn_counts.values())\n",
    "pn_count_df = pd.DataFrame({'word': words, 'cnt': cnt})"
   ]
  },
  {
   "cell_type": "code",
   "execution_count": null,
   "metadata": {
    "collapsed": true
   },
   "outputs": [],
   "source": [
    "data_pn_nltk['final_mash2'] = data_pn_nltk.apply(lambda row: [i for i in row['final_mash'] if i not in row['pn2']], axis =1)\n",
    "data_pn_nltk['final_mash'] = data_pn_nltk.apply(lambda row: [i for i in row['final_mash'] if i not in row['pn']], axis =1)\n",
    "data_pn_nltk['mash_len'] = data_pn_nltk['final_mash'].apply(len)\n",
    "data_pn_nltk['mash_len2'] = data_pn_nltk['final_mash2'].apply(len)\n",
    "\n",
    "data_pn_nltk2 = data_pn_nltk[data_pn_nltk['mash_len2'] > 0]\n",
    "data_pn_nltk = data_pn_nltk[data_pn_nltk['mash_len'] > 0]"
   ]
  }
 ],
 "metadata": {
  "kernelspec": {
   "display_name": "Python 3",
   "language": "python",
   "name": "python3"
  },
  "language_info": {
   "codemirror_mode": {
    "name": "ipython",
    "version": 3
   },
   "file_extension": ".py",
   "mimetype": "text/x-python",
   "name": "python",
   "nbconvert_exporter": "python",
   "pygments_lexer": "ipython3",
   "version": "3.6.3"
  }
 },
 "nbformat": 4,
 "nbformat_minor": 2
}
