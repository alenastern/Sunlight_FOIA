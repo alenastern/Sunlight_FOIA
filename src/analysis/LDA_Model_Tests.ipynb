{
 "cells": [
  {
   "cell_type": "code",
   "execution_count": 1,
   "metadata": {},
   "outputs": [
    {
     "name": "stdout",
     "output_type": "stream",
     "text": [
      "Populating the interactive namespace from numpy and matplotlib\n"
     ]
    }
   ],
   "source": [
    "# system tools\n",
    "import warnings\n",
    "import json\n",
    "import sys\n",
    "import string\n",
    "import ast\n",
    "\n",
    "# data cleaning + analysis tools\n",
    "import pandas as pd\n",
    "import datetime as dt\n",
    "import numpy as np\n",
    "import re\n",
    "import matplotlib.pyplot as plt\n",
    "import seaborn as sns\n",
    "\n",
    "#nlp tools\n",
    "import lda #Latent Dirichlet Allocation (create topics)\n",
    "import gensim\n",
    "import spacy\n",
    "from gensim import corpora, models #for constructing document term matrix\n",
    "#from stop_words import get_stop_words\n",
    "from gensim.models import Phrases\n",
    "from collections import Counter\n",
    "import nltk\n",
    "from nltk.corpus import stopwords\n",
    "from nltk.stem.wordnet import WordNetLemmatizer\n",
    "from nltk.corpus import wordnet\n",
    "from nltk.util import ngrams\n",
    "\n",
    "#set notebook preferences\n",
    "pd.set_option('display.height', 1000)\n",
    "pd.set_option('display.max_rows', 500)\n",
    "pd.set_option('display.max_columns', 500)\n",
    "pd.set_option('display.max_colwidth', 1000)\n",
    "pd.set_option('display.width', 1000)\n",
    "warnings.filterwarnings('ignore')\n",
    "\n",
    "%pylab inline\n",
    "pylab.rcParams['figure.figsize'] = (10, 6)"
   ]
  },
  {
   "cell_type": "markdown",
   "metadata": {},
   "source": [
    "##  Import data frame from cleaning/preprocessing"
   ]
  },
  {
   "cell_type": "code",
   "execution_count": 47,
   "metadata": {
    "collapsed": true
   },
   "outputs": [],
   "source": [
    "data = pd.read_csv('data.csv')\n",
    "data['final_mash'] = data['final_mash'].apply(lambda x:  ast.literal_eval(x))\n",
    "data['mash'] = data['mash'].apply(lambda x:  ast.literal_eval(x))\n",
    "data['token'] = data['token'].apply(lambda x:  ast.literal_eval(x))\n",
    "data['lemma'] = data['lemma'].apply(lambda x:  ast.literal_eval(x))\n"
   ]
  },
  {
   "cell_type": "code",
   "execution_count": 6,
   "metadata": {},
   "outputs": [
    {
     "data": {
      "text/plain": [
       "count    95300.000000\n",
       "mean        15.789224\n",
       "std         28.022508\n",
       "min          1.000000\n",
       "25%          3.000000\n",
       "50%          7.000000\n",
       "75%         18.000000\n",
       "max       2749.000000\n",
       "Name: mash_len, dtype: float64"
      ]
     },
     "execution_count": 6,
     "metadata": {},
     "output_type": "execute_result"
    }
   ],
   "source": [
    "data.mash_len.describe()"
   ]
  },
  {
   "cell_type": "markdown",
   "metadata": {},
   "source": [
    "## 1) Remove words at or below certain count\n",
    "\n",
    "### count = 1"
   ]
  },
  {
   "cell_type": "code",
   "execution_count": 3,
   "metadata": {
    "collapsed": true
   },
   "outputs": [],
   "source": [
    "word_list = [y for x in list(data['mash']) for y in x]\n",
    "counts = Counter(word_list)"
   ]
  },
  {
   "cell_type": "code",
   "execution_count": null,
   "metadata": {
    "collapsed": true
   },
   "outputs": [],
   "source": [
    "count_df = pd.Series(counts, name = 'count') \n",
    "count_df.index.name = 'word'\n",
    "count_df = count_df.reset_index()\n",
    "count_df['count'].describe()"
   ]
  },
  {
   "cell_type": "code",
   "execution_count": 4,
   "metadata": {
    "collapsed": true
   },
   "outputs": [],
   "source": [
    "data1 = data.copy()\n",
    "data1['final_mash'] = data1['final_mash'].apply(lambda x: [i for i in x if counts[i] > 1])"
   ]
  },
  {
   "cell_type": "code",
   "execution_count": 13,
   "metadata": {
    "collapsed": true
   },
   "outputs": [],
   "source": [
    "data1 = data1[data1['mash_len'] != 0]\n",
    "data1['mash_len'] = data1['final_mash'].apply(len)"
   ]
  },
  {
   "cell_type": "code",
   "execution_count": 14,
   "metadata": {},
   "outputs": [
    {
     "data": {
      "text/plain": [
       "count    95069.000000\n",
       "mean        14.463674\n",
       "std         26.848692\n",
       "min          1.000000\n",
       "25%          3.000000\n",
       "50%          7.000000\n",
       "75%         17.000000\n",
       "max       2669.000000\n",
       "Name: mash_len, dtype: float64"
      ]
     },
     "execution_count": 14,
     "metadata": {},
     "output_type": "execute_result"
    }
   ],
   "source": [
    "data1.mash_len.describe()"
   ]
  },
  {
   "cell_type": "markdown",
   "metadata": {},
   "source": [
    "### count = 10"
   ]
  },
  {
   "cell_type": "code",
   "execution_count": 19,
   "metadata": {
    "collapsed": true
   },
   "outputs": [],
   "source": [
    "data10 = data.copy()\n",
    "data10['final_mash'] = data10['final_mash'].apply(lambda x: [i for i in x if counts[i] > 10])"
   ]
  },
  {
   "cell_type": "code",
   "execution_count": 21,
   "metadata": {},
   "outputs": [
    {
     "data": {
      "text/plain": [
       "count    94775.000000\n",
       "mean        13.791960\n",
       "std         25.515364\n",
       "min          1.000000\n",
       "25%          2.000000\n",
       "50%          6.000000\n",
       "75%         16.000000\n",
       "max       2426.000000\n",
       "Name: mash_len, dtype: float64"
      ]
     },
     "execution_count": 21,
     "metadata": {},
     "output_type": "execute_result"
    }
   ],
   "source": [
    "data10 = data10[data10['mash_len'] != 0]\n",
    "data10['mash_len'] = data10['final_mash'].apply(len)\n",
    "data10.mash_len.describe()"
   ]
  },
  {
   "cell_type": "markdown",
   "metadata": {},
   "source": [
    "## 2) Remove proper names"
   ]
  },
  {
   "cell_type": "markdown",
   "metadata": {},
   "source": [
    "### 2a) Using NLTK"
   ]
  },
  {
   "cell_type": "code",
   "execution_count": 49,
   "metadata": {
    "collapsed": true
   },
   "outputs": [],
   "source": [
    "data_pn_nltk = data.copy()"
   ]
  },
  {
   "cell_type": "code",
   "execution_count": 19,
   "metadata": {},
   "outputs": [
    {
     "data": {
      "text/html": [
       "<div>\n",
       "<style scoped>\n",
       "    .dataframe tbody tr th:only-of-type {\n",
       "        vertical-align: middle;\n",
       "    }\n",
       "\n",
       "    .dataframe tbody tr th {\n",
       "        vertical-align: top;\n",
       "    }\n",
       "\n",
       "    .dataframe thead th {\n",
       "        text-align: right;\n",
       "    }\n",
       "</style>\n",
       "<table border=\"1\" class=\"dataframe\">\n",
       "  <thead>\n",
       "    <tr style=\"text-align: right;\">\n",
       "      <th></th>\n",
       "      <th>index</th>\n",
       "      <th>Summary</th>\n",
       "      <th>city</th>\n",
       "      <th>month_year</th>\n",
       "      <th>sum_ed</th>\n",
       "      <th>token</th>\n",
       "      <th>lemma</th>\n",
       "      <th>mash</th>\n",
       "      <th>mash_len</th>\n",
       "      <th>bigrams</th>\n",
       "      <th>common_bigrams</th>\n",
       "      <th>final_mash</th>\n",
       "      <th>token_sp</th>\n",
       "    </tr>\n",
       "  </thead>\n",
       "  <tbody>\n",
       "    <tr>\n",
       "      <th>0</th>\n",
       "      <td>0</td>\n",
       "      <td>We are working with an engineering firm on an upcoming project.  They have asked us to gather maps for this project.  Would you be able to assist me in gathering maps/records (as builds) for any underground water facilities you may have?  Something just showing the route of the water lines would do.\\n\\n207th ST NE to 92nd Ave NE, Arlington, Cascade Surveying &amp; Engineering \\n\\nI have attached the scope for your convenience.  Please let me know if you have questions.</td>\n",
       "      <td>Arlington</td>\n",
       "      <td>2018-06</td>\n",
       "      <td>we are working with an engineering firm on an upcoming project  they have asked us to gather maps for this project  would you be able to assist me in gathering maps records as builds for any underground water facilities you may have  something just showing the route of the water lines would do\\n\\nth st ne to nd ave ne  cascade surveying  engineering \\n\\ni have attached the scope for your convenience  please let me know if you have questions</td>\n",
       "      <td>[we, are, working, with, an, engineering, firm, on, an, upcoming, project, they, have, asked, us, to, gather, maps, for, this, project, would, you, be, able, to, assist, me, in, gathering, maps, records, as, builds, for, any, underground, water, facilities, you, may, have, something, just, showing, the, route, of, the, water, lines, would, do, th, st, ne, to, nd, ave, ne, cascade, surveying, engineering, i, have, attached, the, scope, for, your, convenience, please, let, me, know, if, you, have, questions]</td>\n",
       "      <td>[('we', 'PRP'), ('are', 'VBP'), ('working', 'VBG'), ('with', 'IN'), ('an', 'DT'), ('engineering', 'NN'), ('firm', 'NN'), ('on', 'IN'), ('an', 'DT'), ('upcoming', 'JJ'), ('project', 'NN'), ('they', 'PRP'), ('have', 'VBP'), ('asked', 'VBN'), ('us', 'PRP'), ('to', 'TO'), ('gather', 'VB'), ('maps', 'NNS'), ('for', 'IN'), ('this', 'DT'), ('project', 'NN'), ('would', 'MD'), ('you', 'PRP'), ('be', 'VB'), ('able', 'JJ'), ('to', 'TO'), ('assist', 'VB'), ('me', 'PRP'), ('in', 'IN'), ('gathering', 'VBG'), ('maps', 'NNS'), ('records', 'NNS'), ('as', 'IN'), ('builds', 'NNS'), ('for', 'IN'), ('any', 'DT'), ('underground', 'JJ'), ('water', 'NN'), ('facilities', 'NNS'), ('you', 'PRP'), ('may', 'MD'), ('have', 'VB'), ('something', 'NN'), ('just', 'RB'), ('showing', 'VBG'), ('the', 'DT'), ('route', 'NN'), ('of', 'IN'), ('the', 'DT'), ('water', 'NN'), ('lines', 'NNS'), ('would', 'MD'), ('do', 'VB'), ('th', 'VB'), ('st', 'VB'), ('ne', 'JJ'), ('to', 'TO'), ('nd', 'VB'), ('ave', 'VB'), ('ne', 'JJ'), ('c...</td>\n",
       "      <td>[work, engineering, firm, upcoming, project, gather, map, project, assist, gather, map, build, underground, water, facility, something, show, route, water, line, cascade, survey, engineering, attach, scope, convenience]</td>\n",
       "      <td>26</td>\n",
       "      <td>['work_engineering', 'engineering_firm', 'firm_upcoming', 'upcoming_project', 'project_ask', 'ask_u', 'u_gather', 'gather_map', 'map_project', 'project_would', 'would_able', 'able_assist', 'assist_gather', 'gather_map', 'map_record', 'record_build', 'build_underground', 'underground_water', 'water_facility', 'facility_may', 'may_something', 'something_show', 'show_route', 'route_water', 'water_line', 'line_would', 'would_th', 'th_st', 'st_ne', 'ne_nd', 'nd_ave', 'ave_ne', 'ne_cascade', 'cascade_survey', 'survey_engineering', 'engineering_attach', 'attach_scope', 'scope_convenience', 'convenience_please', 'please_let', 'let_know', 'know_question']</td>\n",
       "      <td>[]</td>\n",
       "      <td>[work, engineering, firm, upcoming, project, gather, map, project, assist, gather, map, build, underground, water, facility, something, show, route, water, line, cascade, survey, engineering, attach, scope, convenience]</td>\n",
       "      <td>(We, are, working, with, an, engineering, firm, on, an, upcoming, project, .,  , They, have, asked, us, to, gather, maps, for, this, project, .,  , Would, you, be, able, to, assist, me, in, gathering, maps, /, records, (, as, builds, ), for, any, underground, water, facilities, you, may, have, ?,  , Something, just, showing, the, route, of, the, water, lines, would, do, ., \\n\\n, 207th, ST, NE, to, 92nd, Ave, NE, ,, Arlington, ,, Cascade, Surveying, &amp;, Engineering, \\n\\n, I, have, attached, the, scope, for, your, convenience, .,  , Please, let, me, know, if, you, have, questions, .)</td>\n",
       "    </tr>\n",
       "    <tr>\n",
       "      <th>1</th>\n",
       "      <td>1</td>\n",
       "      <td>Need copies of contracts and all related documents pertaining to Topcub Aircraft property located at 17922 59th DR NE Arlington WA 98223 between Arlington Airport, Topcub Aircraft, City of Arlington, HCI Steel Buildings and PUD.</td>\n",
       "      <td>Arlington</td>\n",
       "      <td>2018-06</td>\n",
       "      <td>need copies of contracts and all related documents pertaining to topcub aircraft property located at  th dr ne  wa  between  airport topcub aircraft  of  hci steel buildings and pud</td>\n",
       "      <td>[need, copies, of, contracts, and, all, related, documents, pertaining, to, topcub, aircraft, property, located, at, th, dr, ne, wa, between, airport, topcub, aircraft, of, hci, steel, buildings, and, pud]</td>\n",
       "      <td>[('need', 'NN'), ('copies', 'NNS'), ('of', 'IN'), ('contracts', 'NNS'), ('and', 'CC'), ('all', 'DT'), ('related', 'JJ'), ('documents', 'NNS'), ('pertaining', 'VBG'), ('to', 'TO'), ('topcub', 'VB'), ('aircraft', 'NN'), ('property', 'NN'), ('located', 'VBN'), ('at', 'IN'), ('th', 'NN'), ('dr', 'NN'), ('ne', 'JJ'), ('wa', 'NN'), ('between', 'IN'), ('airport', 'NN'), ('topcub', 'NN'), ('aircraft', 'NN'), ('of', 'IN'), ('hci', 'NN'), ('steel', 'NN'), ('buildings', 'NNS'), ('and', 'CC'), ('pud', 'NN')]</td>\n",
       "      <td>[contract, related, pertain, topcub, aircraft, property, locate, airport, topcub, aircraft, hci, steel, building, pud]</td>\n",
       "      <td>15</td>\n",
       "      <td>['need_copy', 'copy_contract', 'contract_related', 'related_document', 'document_pertain', 'pertain_topcub', 'topcub_aircraft', 'aircraft_property', 'property_locate', 'locate_th', 'th_dr', 'dr_ne', 'ne_wa', 'wa_airport', 'airport_topcub', 'topcub_aircraft', 'aircraft_hci', 'hci_steel', 'steel_building', 'building_pud']</td>\n",
       "      <td>['property_locate']</td>\n",
       "      <td>[contract, related, pertain, topcub, aircraft, property, locate, airport, topcub, aircraft, hci, steel, building, pud, property_locate]</td>\n",
       "      <td>(Need, copies, of, contracts, and, all, related, documents, pertaining, to, Topcub, Aircraft, property, located, at, 17922, 59th, DR, NE, Arlington, WA, 98223, between, Arlington, Airport, ,, Topcub, Aircraft, ,, City, of, Arlington, ,, HCI, Steel, Buildings, and, PUD, .)</td>\n",
       "    </tr>\n",
       "    <tr>\n",
       "      <th>2</th>\n",
       "      <td>2</td>\n",
       "      <td>Copies of Building Permits of $5,000 valuation and up ($20,000 min for Re-Roofs), ($50,000 min. for Cell Tower upgrades), (Electrical, Mechanical &amp; Plumbing at $100,000 min.) and (Solar Panels, Swimming Pools &amp; Foundations at any valuation)</td>\n",
       "      <td>Arlington</td>\n",
       "      <td>2018-06</td>\n",
       "      <td>copies of building permits of  valuation and up  min for re roofs  min for cell tower upgrades electrical mechanical  plumbing at  min and solar panels swimming pools  foundations at any valuation</td>\n",
       "      <td>[copies, of, building, permits, of, valuation, and, up, min, for, re, roofs, min, for, cell, tower, upgrades, electrical, mechanical, plumbing, at, min, and, solar, panels, swimming, pools, foundations, at, any, valuation]</td>\n",
       "      <td>[('copies', 'NNS'), ('of', 'IN'), ('building', 'VBG'), ('permits', 'NNS'), ('of', 'IN'), ('valuation', 'NN'), ('and', 'CC'), ('up', 'RB'), ('min', 'NN'), ('for', 'IN'), ('re', 'NN'), ('roofs', 'NNS'), ('min', 'VBP'), ('for', 'IN'), ('cell', 'NN'), ('tower', 'NN'), ('upgrades', 'JJ'), ('electrical', 'JJ'), ('mechanical', 'JJ'), ('plumbing', 'NN'), ('at', 'IN'), ('min', 'NN'), ('and', 'CC'), ('solar', 'JJ'), ('panels', 'NNS'), ('swimming', 'VBG'), ('pools', 'JJ'), ('foundations', 'NNS'), ('at', 'IN'), ('any', 'DT'), ('valuation', 'NN')]</td>\n",
       "      <td>[build, permit, valuation, min, roof, min, cell, tower, upgrades, electrical, mechanical, plumbing, min, solar, panel, swim, pools, foundation, valuation]</td>\n",
       "      <td>19</td>\n",
       "      <td>['copy_build', 'build_permit', 'permit_valuation', 'valuation_min', 'min_roof', 'roof_min', 'min_cell', 'cell_tower', 'tower_upgrades', 'upgrades_electrical', 'electrical_mechanical', 'mechanical_plumbing', 'plumbing_min', 'min_solar', 'solar_panel', 'panel_swim', 'swim_pools', 'pools_foundation', 'foundation_valuation']</td>\n",
       "      <td>[]</td>\n",
       "      <td>[build, permit, valuation, min, roof, min, cell, tower, upgrades, electrical, mechanical, plumbing, min, solar, panel, swim, pools, foundation, valuation]</td>\n",
       "      <td>(Copies, of, Building, Permits, of, $, 5,000, valuation, and, up, (, $, 20,000, min, for, Re, -, Roofs, ), ,, (, $, 50,000, min, ., for, Cell, Tower, upgrades, ), ,, (, Electrical, ,, Mechanical, &amp;, Plumbing, at, $, 100,000, min, ., ), and, (, Solar, Panels, ,, Swimming, Pools, &amp;, Foundations, at, any, valuation, ))</td>\n",
       "    </tr>\n",
       "    <tr>\n",
       "      <th>3</th>\n",
       "      <td>3</td>\n",
       "      <td>police report filed to an officer against Wayne Parris (DOB 08-03-1957) from Brittany J. Parris. The paperwork I have has a case number D18-39 it is also stamped at the bottom with 18-1294, Iím not sure which number you will need. If there is any other information needed please let me know.</td>\n",
       "      <td>Arlington</td>\n",
       "      <td>2018-06</td>\n",
       "      <td>police report filed to an officer against wayne parris dob    from brittany j parris the paperwork i have has a case number d  it is also stamped at the bottom with   iím not sure which number you will need if there is any other information needed please let me know</td>\n",
       "      <td>[police, report, filed, to, an, officer, against, wayne, parris, dob, from, brittany, j, parris, the, paperwork, i, have, has, a, case, number, d, it, is, also, stamped, at, the, bottom, with, iím, not, sure, which, number, you, will, need, if, there, is, any, other, information, needed, please, let, me, know]</td>\n",
       "      <td>[('police', 'NNS'), ('report', 'NN'), ('filed', 'VBD'), ('to', 'TO'), ('an', 'DT'), ('officer', 'NN'), ('against', 'IN'), ('wayne', 'JJ'), ('parris', 'JJ'), ('dob', 'NN'), ('from', 'IN'), ('brittany', 'JJ'), ('j', 'NN'), ('parris', 'VBD'), ('the', 'DT'), ('paperwork', 'NN'), ('i', 'NN'), ('have', 'VBP'), ('has', 'VBZ'), ('a', 'DT'), ('case', 'NN'), ('number', 'NN'), ('d', 'NN'), ('it', 'PRP'), ('is', 'VBZ'), ('also', 'RB'), ('stamped', 'VBN'), ('at', 'IN'), ('the', 'DT'), ('bottom', 'NN'), ('with', 'IN'), ('iím', 'JJ'), ('not', 'RB'), ('sure', 'JJ'), ('which', 'WDT'), ('number', 'NN'), ('you', 'PRP'), ('will', 'MD'), ('need', 'VB'), ('if', 'IN'), ('there', 'EX'), ('is', 'VBZ'), ('any', 'DT'), ('other', 'JJ'), ('information', 'NN'), ('needed', 'VBN'), ('please', 'NN'), ('let', 'VB'), ('me', 'PRP'), ('know', 'VB')]</td>\n",
       "      <td>[police, officer, wayne, parris, dob, brittany, parris, paperwork, case, number, stamp, bottom, iím, sure, number]</td>\n",
       "      <td>17</td>\n",
       "      <td>['police_report', 'report_file', 'file_officer', 'officer_wayne', 'wayne_parris', 'parris_dob', 'dob_brittany', 'brittany_j', 'j_parris', 'parris_paperwork', 'paperwork_case', 'case_number', 'number_also', 'also_stamp', 'stamp_bottom', 'bottom_iím', 'iím_sure', 'sure_number', 'number_need', 'need_information', 'information_need', 'need_please', 'please_let', 'let_know']</td>\n",
       "      <td>['police_report', 'case_number']</td>\n",
       "      <td>[police, officer, wayne, parris, dob, brittany, parris, paperwork, case, number, stamp, bottom, iím, sure, number, police_report, case_number]</td>\n",
       "      <td>(police, report, filed, to, an, officer, against, Wayne, Parris, (, DOB, 08, -, 03, -, 1957, ), from, Brittany, J., Parris, ., The, paperwork, I, have, has, a, case, number, D18, -, 39, it, is, also, stamped, at, the, bottom, with, 18, -, 1294, ,, Iím, not, sure, which, number, you, will, need, ., If, there, is, any, other, information, needed, please, let, me, know, .)</td>\n",
       "    </tr>\n",
       "    <tr>\n",
       "      <th>4</th>\n",
       "      <td>4</td>\n",
       "      <td>Email Communications between Stephanie Shook, Dave Kraski, Bruce Stedman and Chad Schmidt in regards to Fire Protection District 21 billing and passage of contract for ALS Services. \\n\\nAlso any copies of Agenda Bills, D21 Contract and materials presented for review in Nov/Dec time frame in regards to the contract.</td>\n",
       "      <td>Arlington</td>\n",
       "      <td>2018-06</td>\n",
       "      <td>email communications between stephanie shook dave kraski bruce stedman and chad schmidt in regards to fire protection district  billing and passage of contract for als services \\n\\nalso any copies of agenda bills d contract and materials presented for review in nov dec time frame in regards to the contract</td>\n",
       "      <td>[email, communications, between, stephanie, shook, dave, kraski, bruce, stedman, and, chad, schmidt, in, regards, to, fire, protection, district, billing, and, passage, of, contract, for, als, services, also, any, copies, of, agenda, bills, d, contract, and, materials, presented, for, review, in, nov, dec, time, frame, in, regards, to, the, contract]</td>\n",
       "      <td>[('email', 'NN'), ('communications', 'NNS'), ('between', 'IN'), ('stephanie', 'JJ'), ('shook', 'NN'), ('dave', 'VBP'), ('kraski', 'VBN'), ('bruce', 'NN'), ('stedman', 'NN'), ('and', 'CC'), ('chad', 'VBD'), ('schmidt', 'VBN'), ('in', 'IN'), ('regards', 'NNS'), ('to', 'TO'), ('fire', 'VB'), ('protection', 'NN'), ('district', 'NN'), ('billing', 'NN'), ('and', 'CC'), ('passage', 'NN'), ('of', 'IN'), ('contract', 'NN'), ('for', 'IN'), ('als', 'NNS'), ('services', 'NNS'), ('also', 'RB'), ('any', 'DT'), ('copies', 'NNS'), ('of', 'IN'), ('agenda', 'NN'), ('bills', 'NNS'), ('d', 'VBP'), ('contract', 'NN'), ('and', 'CC'), ('materials', 'NNS'), ('presented', 'VBN'), ('for', 'IN'), ('review', 'NN'), ('in', 'IN'), ('nov', 'JJ'), ('dec', 'NN'), ('time', 'NN'), ('frame', 'NN'), ('in', 'IN'), ('regards', 'NNS'), ('to', 'TO'), ('the', 'DT'), ('contract', 'NN')]</td>\n",
       "      <td>[email, communication, stephanie, shook, dave, kraski, bruce, stedman, chad, schmidt, fire, protection, district, billing, passage, contract, al, service, agenda, bill, contract, material, present, review, time, frame, contract]</td>\n",
       "      <td>27</td>\n",
       "      <td>['email_communication', 'communication_stephanie', 'stephanie_shook', 'shook_dave', 'dave_kraski', 'kraski_bruce', 'bruce_stedman', 'stedman_chad', 'chad_schmidt', 'schmidt_regard', 'regard_fire', 'fire_protection', 'protection_district', 'district_billing', 'billing_passage', 'passage_contract', 'contract_al', 'al_service', 'service_also', 'also_copy', 'copy_agenda', 'agenda_bill', 'bill_contract', 'contract_material', 'material_present', 'present_review', 'review_nov', 'nov_dec', 'dec_time', 'time_frame', 'frame_regard', 'regard_contract']</td>\n",
       "      <td>[]</td>\n",
       "      <td>[email, communication, stephanie, shook, dave, kraski, bruce, stedman, chad, schmidt, fire, protection, district, billing, passage, contract, al, service, agenda, bill, contract, material, present, review, time, frame, contract]</td>\n",
       "      <td>(Email, Communications, between, Stephanie, Shook, ,, Dave, Kraski, ,, Bruce, Stedman, and, Chad, Schmidt, in, regards, to, Fire, Protection, District, 21, billing, and, passage, of, contract, for, ALS, Services, ., \\n\\n, Also, any, copies, of, Agenda, Bills, ,, D21, Contract, and, materials, presented, for, review, in, Nov, /, Dec, time, frame, in, regards, to, the, contract, .)</td>\n",
       "    </tr>\n",
       "  </tbody>\n",
       "</table>\n",
       "</div>"
      ],
      "text/plain": [
       "   index                                                                                                                                                                                                                                                                                                                                                                                                                                                                                Summary       city month_year                                                                                                                                                                                                                                                                                                                                                                                                                                                        sum_ed  \\\n",
       "0      0  We are working with an engineering firm on an upcoming project.  They have asked us to gather maps for this project.  Would you be able to assist me in gathering maps/records (as builds) for any underground water facilities you may have?  Something just showing the route of the water lines would do.\\n\\n207th ST NE to 92nd Ave NE, Arlington, Cascade Surveying & Engineering \\n\\nI have attached the scope for your convenience.  Please let me know if you have questions.  Arlington    2018-06  we are working with an engineering firm on an upcoming project  they have asked us to gather maps for this project  would you be able to assist me in gathering maps records as builds for any underground water facilities you may have  something just showing the route of the water lines would do\\n\\nth st ne to nd ave ne  cascade surveying  engineering \\n\\ni have attached the scope for your convenience  please let me know if you have questions   \n",
       "1      1                                                                                                                                                                                                                                                   Need copies of contracts and all related documents pertaining to Topcub Aircraft property located at 17922 59th DR NE Arlington WA 98223 between Arlington Airport, Topcub Aircraft, City of Arlington, HCI Steel Buildings and PUD.  Arlington    2018-06                                                                                                                                                                                                                                                                         need copies of contracts and all related documents pertaining to topcub aircraft property located at  th dr ne  wa  between  airport topcub aircraft  of  hci steel buildings and pud   \n",
       "2      2                                                                                                                                                                                                                                       Copies of Building Permits of $5,000 valuation and up ($20,000 min for Re-Roofs), ($50,000 min. for Cell Tower upgrades), (Electrical, Mechanical & Plumbing at $100,000 min.) and (Solar Panels, Swimming Pools & Foundations at any valuation)  Arlington    2018-06                                                                                                                                                                                                                                                          copies of building permits of  valuation and up  min for re roofs  min for cell tower upgrades electrical mechanical  plumbing at  min and solar panels swimming pools  foundations at any valuation   \n",
       "3      3                                                                                                                                                                                    police report filed to an officer against Wayne Parris (DOB 08-03-1957) from Brittany J. Parris. The paperwork I have has a case number D18-39 it is also stamped at the bottom with 18-1294, Iím not sure which number you will need. If there is any other information needed please let me know.  Arlington    2018-06                                                                                                                                                                                    police report filed to an officer against wayne parris dob    from brittany j parris the paperwork i have has a case number d  it is also stamped at the bottom with   iím not sure which number you will need if there is any other information needed please let me know   \n",
       "4      4                                                                                                                                                           Email Communications between Stephanie Shook, Dave Kraski, Bruce Stedman and Chad Schmidt in regards to Fire Protection District 21 billing and passage of contract for ALS Services. \\n\\nAlso any copies of Agenda Bills, D21 Contract and materials presented for review in Nov/Dec time frame in regards to the contract.  Arlington    2018-06                                                                                                                                           email communications between stephanie shook dave kraski bruce stedman and chad schmidt in regards to fire protection district  billing and passage of contract for als services \\n\\nalso any copies of agenda bills d contract and materials presented for review in nov dec time frame in regards to the contract   \n",
       "\n",
       "                                                                                                                                                                                                                                                                                                                                                                                                                                                                                                                             token  \\\n",
       "0  [we, are, working, with, an, engineering, firm, on, an, upcoming, project, they, have, asked, us, to, gather, maps, for, this, project, would, you, be, able, to, assist, me, in, gathering, maps, records, as, builds, for, any, underground, water, facilities, you, may, have, something, just, showing, the, route, of, the, water, lines, would, do, th, st, ne, to, nd, ave, ne, cascade, surveying, engineering, i, have, attached, the, scope, for, your, convenience, please, let, me, know, if, you, have, questions]   \n",
       "1                                                                                                                                                                                                                                                                                                                    [need, copies, of, contracts, and, all, related, documents, pertaining, to, topcub, aircraft, property, located, at, th, dr, ne, wa, between, airport, topcub, aircraft, of, hci, steel, buildings, and, pud]   \n",
       "2                                                                                                                                                                                                                                                                                                   [copies, of, building, permits, of, valuation, and, up, min, for, re, roofs, min, for, cell, tower, upgrades, electrical, mechanical, plumbing, at, min, and, solar, panels, swimming, pools, foundations, at, any, valuation]   \n",
       "3                                                                                                                                                                                                          [police, report, filed, to, an, officer, against, wayne, parris, dob, from, brittany, j, parris, the, paperwork, i, have, has, a, case, number, d, it, is, also, stamped, at, the, bottom, with, iím, not, sure, which, number, you, will, need, if, there, is, any, other, information, needed, please, let, me, know]   \n",
       "4                                                                                                                                                                 [email, communications, between, stephanie, shook, dave, kraski, bruce, stedman, and, chad, schmidt, in, regards, to, fire, protection, district, billing, and, passage, of, contract, for, als, services, also, any, copies, of, agenda, bills, d, contract, and, materials, presented, for, review, in, nov, dec, time, frame, in, regards, to, the, contract]   \n",
       "\n",
       "                                                                                                                                                                                                                                                                                                                                                                                                                                                                                                                                                                                                                                                                                                                                                                                                                                                                                                                                                                                                                                     lemma  \\\n",
       "0  [('we', 'PRP'), ('are', 'VBP'), ('working', 'VBG'), ('with', 'IN'), ('an', 'DT'), ('engineering', 'NN'), ('firm', 'NN'), ('on', 'IN'), ('an', 'DT'), ('upcoming', 'JJ'), ('project', 'NN'), ('they', 'PRP'), ('have', 'VBP'), ('asked', 'VBN'), ('us', 'PRP'), ('to', 'TO'), ('gather', 'VB'), ('maps', 'NNS'), ('for', 'IN'), ('this', 'DT'), ('project', 'NN'), ('would', 'MD'), ('you', 'PRP'), ('be', 'VB'), ('able', 'JJ'), ('to', 'TO'), ('assist', 'VB'), ('me', 'PRP'), ('in', 'IN'), ('gathering', 'VBG'), ('maps', 'NNS'), ('records', 'NNS'), ('as', 'IN'), ('builds', 'NNS'), ('for', 'IN'), ('any', 'DT'), ('underground', 'JJ'), ('water', 'NN'), ('facilities', 'NNS'), ('you', 'PRP'), ('may', 'MD'), ('have', 'VB'), ('something', 'NN'), ('just', 'RB'), ('showing', 'VBG'), ('the', 'DT'), ('route', 'NN'), ('of', 'IN'), ('the', 'DT'), ('water', 'NN'), ('lines', 'NNS'), ('would', 'MD'), ('do', 'VB'), ('th', 'VB'), ('st', 'VB'), ('ne', 'JJ'), ('to', 'TO'), ('nd', 'VB'), ('ave', 'VB'), ('ne', 'JJ'), ('c...   \n",
       "1                                                                                                                                                                                                                                                                                                                                                                                                                                                                                                                    [('need', 'NN'), ('copies', 'NNS'), ('of', 'IN'), ('contracts', 'NNS'), ('and', 'CC'), ('all', 'DT'), ('related', 'JJ'), ('documents', 'NNS'), ('pertaining', 'VBG'), ('to', 'TO'), ('topcub', 'VB'), ('aircraft', 'NN'), ('property', 'NN'), ('located', 'VBN'), ('at', 'IN'), ('th', 'NN'), ('dr', 'NN'), ('ne', 'JJ'), ('wa', 'NN'), ('between', 'IN'), ('airport', 'NN'), ('topcub', 'NN'), ('aircraft', 'NN'), ('of', 'IN'), ('hci', 'NN'), ('steel', 'NN'), ('buildings', 'NNS'), ('and', 'CC'), ('pud', 'NN')]   \n",
       "2                                                                                                                                                                                                                                                                                                                                                                                                                                                                             [('copies', 'NNS'), ('of', 'IN'), ('building', 'VBG'), ('permits', 'NNS'), ('of', 'IN'), ('valuation', 'NN'), ('and', 'CC'), ('up', 'RB'), ('min', 'NN'), ('for', 'IN'), ('re', 'NN'), ('roofs', 'NNS'), ('min', 'VBP'), ('for', 'IN'), ('cell', 'NN'), ('tower', 'NN'), ('upgrades', 'JJ'), ('electrical', 'JJ'), ('mechanical', 'JJ'), ('plumbing', 'NN'), ('at', 'IN'), ('min', 'NN'), ('and', 'CC'), ('solar', 'JJ'), ('panels', 'NNS'), ('swimming', 'VBG'), ('pools', 'JJ'), ('foundations', 'NNS'), ('at', 'IN'), ('any', 'DT'), ('valuation', 'NN')]   \n",
       "3                                                                                                                                                                                 [('police', 'NNS'), ('report', 'NN'), ('filed', 'VBD'), ('to', 'TO'), ('an', 'DT'), ('officer', 'NN'), ('against', 'IN'), ('wayne', 'JJ'), ('parris', 'JJ'), ('dob', 'NN'), ('from', 'IN'), ('brittany', 'JJ'), ('j', 'NN'), ('parris', 'VBD'), ('the', 'DT'), ('paperwork', 'NN'), ('i', 'NN'), ('have', 'VBP'), ('has', 'VBZ'), ('a', 'DT'), ('case', 'NN'), ('number', 'NN'), ('d', 'NN'), ('it', 'PRP'), ('is', 'VBZ'), ('also', 'RB'), ('stamped', 'VBN'), ('at', 'IN'), ('the', 'DT'), ('bottom', 'NN'), ('with', 'IN'), ('iím', 'JJ'), ('not', 'RB'), ('sure', 'JJ'), ('which', 'WDT'), ('number', 'NN'), ('you', 'PRP'), ('will', 'MD'), ('need', 'VB'), ('if', 'IN'), ('there', 'EX'), ('is', 'VBZ'), ('any', 'DT'), ('other', 'JJ'), ('information', 'NN'), ('needed', 'VBN'), ('please', 'NN'), ('let', 'VB'), ('me', 'PRP'), ('know', 'VB')]   \n",
       "4                                                                                                                                                 [('email', 'NN'), ('communications', 'NNS'), ('between', 'IN'), ('stephanie', 'JJ'), ('shook', 'NN'), ('dave', 'VBP'), ('kraski', 'VBN'), ('bruce', 'NN'), ('stedman', 'NN'), ('and', 'CC'), ('chad', 'VBD'), ('schmidt', 'VBN'), ('in', 'IN'), ('regards', 'NNS'), ('to', 'TO'), ('fire', 'VB'), ('protection', 'NN'), ('district', 'NN'), ('billing', 'NN'), ('and', 'CC'), ('passage', 'NN'), ('of', 'IN'), ('contract', 'NN'), ('for', 'IN'), ('als', 'NNS'), ('services', 'NNS'), ('also', 'RB'), ('any', 'DT'), ('copies', 'NNS'), ('of', 'IN'), ('agenda', 'NN'), ('bills', 'NNS'), ('d', 'VBP'), ('contract', 'NN'), ('and', 'CC'), ('materials', 'NNS'), ('presented', 'VBN'), ('for', 'IN'), ('review', 'NN'), ('in', 'IN'), ('nov', 'JJ'), ('dec', 'NN'), ('time', 'NN'), ('frame', 'NN'), ('in', 'IN'), ('regards', 'NNS'), ('to', 'TO'), ('the', 'DT'), ('contract', 'NN')]   \n",
       "\n",
       "                                                                                                                                                                                                                                   mash  mash_len                                                                                                                                                                                                                                                                                                                                                                                                                                                                                                                                                                                                                                                                         bigrams                    common_bigrams  \\\n",
       "0           [work, engineering, firm, upcoming, project, gather, map, project, assist, gather, map, build, underground, water, facility, something, show, route, water, line, cascade, survey, engineering, attach, scope, convenience]        26  ['work_engineering', 'engineering_firm', 'firm_upcoming', 'upcoming_project', 'project_ask', 'ask_u', 'u_gather', 'gather_map', 'map_project', 'project_would', 'would_able', 'able_assist', 'assist_gather', 'gather_map', 'map_record', 'record_build', 'build_underground', 'underground_water', 'water_facility', 'facility_may', 'may_something', 'something_show', 'show_route', 'route_water', 'water_line', 'line_would', 'would_th', 'th_st', 'st_ne', 'ne_nd', 'nd_ave', 'ave_ne', 'ne_cascade', 'cascade_survey', 'survey_engineering', 'engineering_attach', 'attach_scope', 'scope_convenience', 'convenience_please', 'please_let', 'let_know', 'know_question']                                []   \n",
       "1                                                                                                                [contract, related, pertain, topcub, aircraft, property, locate, airport, topcub, aircraft, hci, steel, building, pud]        15                                                                                                                                                                                                                                                                                                                                               ['need_copy', 'copy_contract', 'contract_related', 'related_document', 'document_pertain', 'pertain_topcub', 'topcub_aircraft', 'aircraft_property', 'property_locate', 'locate_th', 'th_dr', 'dr_ne', 'ne_wa', 'wa_airport', 'airport_topcub', 'topcub_aircraft', 'aircraft_hci', 'hci_steel', 'steel_building', 'building_pud']               ['property_locate']   \n",
       "2                                                                            [build, permit, valuation, min, roof, min, cell, tower, upgrades, electrical, mechanical, plumbing, min, solar, panel, swim, pools, foundation, valuation]        19                                                                                                                                                                                                                                                                                                                                              ['copy_build', 'build_permit', 'permit_valuation', 'valuation_min', 'min_roof', 'roof_min', 'min_cell', 'cell_tower', 'tower_upgrades', 'upgrades_electrical', 'electrical_mechanical', 'mechanical_plumbing', 'plumbing_min', 'min_solar', 'solar_panel', 'panel_swim', 'swim_pools', 'pools_foundation', 'foundation_valuation']                                []   \n",
       "3                                                                                                                    [police, officer, wayne, parris, dob, brittany, parris, paperwork, case, number, stamp, bottom, iím, sure, number]        17                                                                                                                                                                                                                                                                                            ['police_report', 'report_file', 'file_officer', 'officer_wayne', 'wayne_parris', 'parris_dob', 'dob_brittany', 'brittany_j', 'j_parris', 'parris_paperwork', 'paperwork_case', 'case_number', 'number_also', 'also_stamp', 'stamp_bottom', 'bottom_iím', 'iím_sure', 'sure_number', 'number_need', 'need_information', 'information_need', 'need_please', 'please_let', 'let_know']  ['police_report', 'case_number']   \n",
       "4  [email, communication, stephanie, shook, dave, kraski, bruce, stedman, chad, schmidt, fire, protection, district, billing, passage, contract, al, service, agenda, bill, contract, material, present, review, time, frame, contract]        27                                                                                                             ['email_communication', 'communication_stephanie', 'stephanie_shook', 'shook_dave', 'dave_kraski', 'kraski_bruce', 'bruce_stedman', 'stedman_chad', 'chad_schmidt', 'schmidt_regard', 'regard_fire', 'fire_protection', 'protection_district', 'district_billing', 'billing_passage', 'passage_contract', 'contract_al', 'al_service', 'service_also', 'also_copy', 'copy_agenda', 'agenda_bill', 'bill_contract', 'contract_material', 'material_present', 'present_review', 'review_nov', 'nov_dec', 'dec_time', 'time_frame', 'frame_regard', 'regard_contract']                                []   \n",
       "\n",
       "                                                                                                                                                                                                                             final_mash                                                                                                                                                                                                                                                                                                                                                                                                                                                                                                                                                                                                     token_sp  \n",
       "0           [work, engineering, firm, upcoming, project, gather, map, project, assist, gather, map, build, underground, water, facility, something, show, route, water, line, cascade, survey, engineering, attach, scope, convenience]  (We, are, working, with, an, engineering, firm, on, an, upcoming, project, .,  , They, have, asked, us, to, gather, maps, for, this, project, .,  , Would, you, be, able, to, assist, me, in, gathering, maps, /, records, (, as, builds, ), for, any, underground, water, facilities, you, may, have, ?,  , Something, just, showing, the, route, of, the, water, lines, would, do, ., \\n\\n, 207th, ST, NE, to, 92nd, Ave, NE, ,, Arlington, ,, Cascade, Surveying, &, Engineering, \\n\\n, I, have, attached, the, scope, for, your, convenience, .,  , Please, let, me, know, if, you, have, questions, .)  \n",
       "1                                                                                               [contract, related, pertain, topcub, aircraft, property, locate, airport, topcub, aircraft, hci, steel, building, pud, property_locate]                                                                                                                                                                                                                                                                                                                             (Need, copies, of, contracts, and, all, related, documents, pertaining, to, Topcub, Aircraft, property, located, at, 17922, 59th, DR, NE, Arlington, WA, 98223, between, Arlington, Airport, ,, Topcub, Aircraft, ,, City, of, Arlington, ,, HCI, Steel, Buildings, and, PUD, .)  \n",
       "2                                                                            [build, permit, valuation, min, roof, min, cell, tower, upgrades, electrical, mechanical, plumbing, min, solar, panel, swim, pools, foundation, valuation]                                                                                                                                                                                                                                                                                (Copies, of, Building, Permits, of, $, 5,000, valuation, and, up, (, $, 20,000, min, for, Re, -, Roofs, ), ,, (, $, 50,000, min, ., for, Cell, Tower, upgrades, ), ,, (, Electrical, ,, Mechanical, &, Plumbing, at, $, 100,000, min, ., ), and, (, Solar, Panels, ,, Swimming, Pools, &, Foundations, at, any, valuation, ))  \n",
       "3                                                                                        [police, officer, wayne, parris, dob, brittany, parris, paperwork, case, number, stamp, bottom, iím, sure, number, police_report, case_number]                                                                                                                                                                                                                         (police, report, filed, to, an, officer, against, Wayne, Parris, (, DOB, 08, -, 03, -, 1957, ), from, Brittany, J., Parris, ., The, paperwork, I, have, has, a, case, number, D18, -, 39, it, is, also, stamped, at, the, bottom, with, 18, -, 1294, ,, Iím, not, sure, which, number, you, will, need, ., If, there, is, any, other, information, needed, please, let, me, know, .)  \n",
       "4  [email, communication, stephanie, shook, dave, kraski, bruce, stedman, chad, schmidt, fire, protection, district, billing, passage, contract, al, service, agenda, bill, contract, material, present, review, time, frame, contract]                                                                                                                                                                                                               (Email, Communications, between, Stephanie, Shook, ,, Dave, Kraski, ,, Bruce, Stedman, and, Chad, Schmidt, in, regards, to, Fire, Protection, District, 21, billing, and, passage, of, contract, for, ALS, Services, ., \\n\\n, Also, any, copies, of, Agenda, Bills, ,, D21, Contract, and, materials, presented, for, review, in, Nov, /, Dec, time, frame, in, regards, to, the, contract, .)  "
      ]
     },
     "execution_count": 19,
     "metadata": {},
     "output_type": "execute_result"
    }
   ],
   "source": [
    "data_pn_nltk.head()"
   ]
  },
  {
   "cell_type": "code",
   "execution_count": 50,
   "metadata": {},
   "outputs": [],
   "source": [
    "# two methods of identifying proper nouns, first tends to type II error (pn), second tends to type I error (pn2)\n",
    "\n",
    "data_pn_nltk['pn'] = data_pn_nltk['lemma'].apply(lambda x: [i[0] for i in x if i[1] == 'NNP'])\n",
    "data_pn_nltk['lemma2'] = data_pn_nltk['Summary'].apply(lambda x: nltk.tag.pos_tag(x.split()))\n",
    "data_pn_nltk['pn2'] = data_pn_nltk['lemma2'].apply(lambda x: [i[0] for i in x if i[1] == 'NNP'])\n",
    "data_pn_nltk['pn2'] = data_pn_nltk['pn2'].apply(lambda x: [i.lower() for i in x])\n",
    "data_pn_nltk['final_mash2'] = data_pn_nltk.apply(lambda row: [i for i in row['final_mash'] if i not in row['pn2']], axis =1)\n",
    "data_pn_nltk['final_mash'] = data_pn_nltk.apply(lambda row: [i for i in row['final_mash'] if i not in row['pn']], axis =1)\n",
    "data_pn_nltk['mash_len'] = data_pn_nltk['final_mash'].apply(len)\n",
    "data_pn_nltk['mash_len2'] = data_pn_nltk['final_mash2'].apply(len)\n",
    "\n",
    "data_pn_nltk2 = data_pn_nltk[data_pn_nltk['mash_len2'] > 0]\n",
    "data_pn_nltk = data_pn_nltk[data_pn_nltk['mash_len'] > 0]"
   ]
  },
  {
   "cell_type": "code",
   "execution_count": 34,
   "metadata": {
    "scrolled": true
   },
   "outputs": [
    {
     "ename": "NameError",
     "evalue": "name 'data_pn_nltk2' is not defined",
     "output_type": "error",
     "traceback": [
      "\u001b[0;31m---------------------------------------------------------------------------\u001b[0m",
      "\u001b[0;31mNameError\u001b[0m                                 Traceback (most recent call last)",
      "\u001b[0;32m<ipython-input-34-cf84fc0428fa>\u001b[0m in \u001b[0;36m<module>\u001b[0;34m()\u001b[0m\n\u001b[0;32m----> 1\u001b[0;31m \u001b[0mdata_pn_nltk2\u001b[0m\u001b[0;34m[\u001b[0m\u001b[0;34m'mash_len2'\u001b[0m\u001b[0;34m]\u001b[0m\u001b[0;34m.\u001b[0m\u001b[0mdescribe\u001b[0m\u001b[0;34m(\u001b[0m\u001b[0;34m)\u001b[0m\u001b[0;34m\u001b[0m\u001b[0m\n\u001b[0m",
      "\u001b[0;31mNameError\u001b[0m: name 'data_pn_nltk2' is not defined"
     ]
    }
   ],
   "source": [
    "data_pn_nltk2['mash_len2'].describe()"
   ]
  },
  {
   "cell_type": "code",
   "execution_count": null,
   "metadata": {
    "collapsed": true
   },
   "outputs": [],
   "source": [
    "data_pn_nltk['mash_len'].describe()"
   ]
  },
  {
   "cell_type": "markdown",
   "metadata": {},
   "source": [
    "### 2b) Using spaCy"
   ]
  },
  {
   "cell_type": "code",
   "execution_count": 20,
   "metadata": {
    "collapsed": true
   },
   "outputs": [],
   "source": [
    "nlp = spacy.load('en_core_web_sm')\n",
    "data_sp = data.copy()"
   ]
  },
  {
   "cell_type": "code",
   "execution_count": 22,
   "metadata": {},
   "outputs": [],
   "source": [
    "data_sp['token_sp'] = data_sp['sum_ed'].apply(lambda x: nlp(x))\n",
    "data_sp['token_sp2'] = data_sp['Summary'].apply(lambda x: nlp(x))\n",
    "data_sp['pn'] = data_sp['token_sp'].apply(lambda x: [ i.lemma_ for i in x if i.tag_ == 'NNP'])\n",
    "data_sp['pn2'] = data_sp['token_sp2'].apply(lambda x: [ i.lemma_ for i in x if i.tag_ == 'NNP'])\n",
    "data_sp['final_mash2'] = data_sp.apply(lambda row: [i for i in row['final_mash'] if i not in row['pn2']], axis =1)\n",
    "data_sp['final_mash'] = data_sp.apply(lambda row: [i for i in row['final_mash'] if i not in row['pn']], axis =1)\n"
   ]
  },
  {
   "cell_type": "code",
   "execution_count": 36,
   "metadata": {},
   "outputs": [],
   "source": [
    "data_sp['mash_len'] = data_sp['final_mash'].apply(len)\n",
    "data_sp['mash_len2'] = data_sp['final_mash2'].apply(len)\n",
    "data_sp2 = data_sp[data_sp['mash_len2'] > 0]\n",
    "data_sp = data_sp[data_sp['mash_len'] > 0]    "
   ]
  },
  {
   "cell_type": "code",
   "execution_count": 37,
   "metadata": {},
   "outputs": [
    {
     "data": {
      "text/plain": [
       "count    90748.000000\n",
       "mean        11.367303\n",
       "std         20.714069\n",
       "min          1.000000\n",
       "25%          2.000000\n",
       "50%          5.000000\n",
       "75%         13.000000\n",
       "max       1674.000000\n",
       "Name: mash_len2, dtype: float64"
      ]
     },
     "execution_count": 37,
     "metadata": {},
     "output_type": "execute_result"
    }
   ],
   "source": [
    "data_sp2['mash_len2'].describe()"
   ]
  },
  {
   "cell_type": "code",
   "execution_count": 38,
   "metadata": {},
   "outputs": [
    {
     "data": {
      "text/plain": [
       "count    95292.000000\n",
       "mean        15.747723\n",
       "std         27.907075\n",
       "min          1.000000\n",
       "25%          3.000000\n",
       "50%          7.000000\n",
       "75%         18.000000\n",
       "max       2746.000000\n",
       "Name: mash_len, dtype: float64"
      ]
     },
     "execution_count": 38,
     "metadata": {},
     "output_type": "execute_result"
    }
   ],
   "source": [
    "data_sp['mash_len'].describe()"
   ]
  },
  {
   "cell_type": "code",
   "execution_count": 32,
   "metadata": {},
   "outputs": [
    {
     "data": {
      "text/html": [
       "<div>\n",
       "<style scoped>\n",
       "    .dataframe tbody tr th:only-of-type {\n",
       "        vertical-align: middle;\n",
       "    }\n",
       "\n",
       "    .dataframe tbody tr th {\n",
       "        vertical-align: top;\n",
       "    }\n",
       "\n",
       "    .dataframe thead th {\n",
       "        text-align: right;\n",
       "    }\n",
       "</style>\n",
       "<table border=\"1\" class=\"dataframe\">\n",
       "  <thead>\n",
       "    <tr style=\"text-align: right;\">\n",
       "      <th></th>\n",
       "      <th>index</th>\n",
       "      <th>Summary</th>\n",
       "      <th>city</th>\n",
       "      <th>month_year</th>\n",
       "      <th>sum_ed</th>\n",
       "      <th>token</th>\n",
       "      <th>lemma</th>\n",
       "      <th>mash</th>\n",
       "      <th>mash_len</th>\n",
       "      <th>bigrams</th>\n",
       "      <th>common_bigrams</th>\n",
       "      <th>final_mash</th>\n",
       "      <th>token_sp</th>\n",
       "      <th>token_sp2</th>\n",
       "      <th>pn</th>\n",
       "      <th>pn2</th>\n",
       "      <th>final_mash2</th>\n",
       "    </tr>\n",
       "  </thead>\n",
       "  <tbody>\n",
       "    <tr>\n",
       "      <th>0</th>\n",
       "      <td>0</td>\n",
       "      <td>We are working with an engineering firm on an upcoming project.  They have asked us to gather maps for this project.  Would you be able to assist me in gathering maps/records (as builds) for any underground water facilities you may have?  Something just showing the route of the water lines would do.\\n\\n207th ST NE to 92nd Ave NE, Arlington, Cascade Surveying &amp; Engineering \\n\\nI have attached the scope for your convenience.  Please let me know if you have questions.</td>\n",
       "      <td>Arlington</td>\n",
       "      <td>2018-06</td>\n",
       "      <td>we are working with an engineering firm on an upcoming project  they have asked us to gather maps for this project  would you be able to assist me in gathering maps records as builds for any underground water facilities you may have  something just showing the route of the water lines would do\\n\\nth st ne to nd ave ne  cascade surveying  engineering \\n\\ni have attached the scope for your convenience  please let me know if you have questions</td>\n",
       "      <td>[we, are, working, with, an, engineering, firm, on, an, upcoming, project, they, have, asked, us, to, gather, maps, for, this, project, would, you, be, able, to, assist, me, in, gathering, maps, records, as, builds, for, any, underground, water, facilities, you, may, have, something, just, showing, the, route, of, the, water, lines, would, do, th, st, ne, to, nd, ave, ne, cascade, surveying, engineering, i, have, attached, the, scope, for, your, convenience, please, let, me, know, if, you, have, questions]</td>\n",
       "      <td>[('we', 'PRP'), ('are', 'VBP'), ('working', 'VBG'), ('with', 'IN'), ('an', 'DT'), ('engineering', 'NN'), ('firm', 'NN'), ('on', 'IN'), ('an', 'DT'), ('upcoming', 'JJ'), ('project', 'NN'), ('they', 'PRP'), ('have', 'VBP'), ('asked', 'VBN'), ('us', 'PRP'), ('to', 'TO'), ('gather', 'VB'), ('maps', 'NNS'), ('for', 'IN'), ('this', 'DT'), ('project', 'NN'), ('would', 'MD'), ('you', 'PRP'), ('be', 'VB'), ('able', 'JJ'), ('to', 'TO'), ('assist', 'VB'), ('me', 'PRP'), ('in', 'IN'), ('gathering', 'VBG'), ('maps', 'NNS'), ('records', 'NNS'), ('as', 'IN'), ('builds', 'NNS'), ('for', 'IN'), ('any', 'DT'), ('underground', 'JJ'), ('water', 'NN'), ('facilities', 'NNS'), ('you', 'PRP'), ('may', 'MD'), ('have', 'VB'), ('something', 'NN'), ('just', 'RB'), ('showing', 'VBG'), ('the', 'DT'), ('route', 'NN'), ('of', 'IN'), ('the', 'DT'), ('water', 'NN'), ('lines', 'NNS'), ('would', 'MD'), ('do', 'VB'), ('th', 'VB'), ('st', 'VB'), ('ne', 'JJ'), ('to', 'TO'), ('nd', 'VB'), ('ave', 'VB'), ('ne', 'JJ'), ('c...</td>\n",
       "      <td>[work, engineering, firm, upcoming, project, gather, map, project, assist, gather, map, build, underground, water, facility, something, show, route, water, line, cascade, survey, engineering, attach, scope, convenience]</td>\n",
       "      <td>26</td>\n",
       "      <td>['work_engineering', 'engineering_firm', 'firm_upcoming', 'upcoming_project', 'project_ask', 'ask_u', 'u_gather', 'gather_map', 'map_project', 'project_would', 'would_able', 'able_assist', 'assist_gather', 'gather_map', 'map_record', 'record_build', 'build_underground', 'underground_water', 'water_facility', 'facility_may', 'may_something', 'something_show', 'show_route', 'route_water', 'water_line', 'line_would', 'would_th', 'th_st', 'st_ne', 'ne_nd', 'nd_ave', 'ave_ne', 'ne_cascade', 'cascade_survey', 'survey_engineering', 'engineering_attach', 'attach_scope', 'scope_convenience', 'convenience_please', 'please_let', 'let_know', 'know_question']</td>\n",
       "      <td>[]</td>\n",
       "      <td>[work, engineering, firm, upcoming, project, gather, map, project, assist, gather, map, build, underground, water, facility, something, show, route, water, line, cascade, survey, engineering, attach, scope, convenience]</td>\n",
       "      <td>(we, are, working, with, an, engineering, firm, on, an, upcoming, project,  , they, have, asked, us, to, gather, maps, for, this, project,  , would, you, be, able, to, assist, me, in, gathering, maps, records, as, builds, for, any, underground, water, facilities, you, may, have,  , something, just, showing, the, route, of, the, water, lines, would, do, \\n\\n, th, st, ne, to, nd, ave, ne,  , cascade, surveying,  , engineering, \\n\\n, i, have, attached, the, scope, for, your, convenience,  , please, let, me, know, if, you, have, questions)</td>\n",
       "      <td>(We, are, working, with, an, engineering, firm, on, an, upcoming, project, .,  , They, have, asked, us, to, gather, maps, for, this, project, .,  , Would, you, be, able, to, assist, me, in, gathering, maps, /, records, (, as, builds, ), for, any, underground, water, facilities, you, may, have, ?,  , Something, just, showing, the, route, of, the, water, lines, would, do, ., \\n\\n, 207th, ST, NE, to, 92nd, Ave, NE, ,, Arlington, ,, Cascade, Surveying, &amp;, Engineering, \\n\\n, I, have, attached, the, scope, for, your, convenience, .,  , Please, let, me, know, if, you, have, questions, .)</td>\n",
       "      <td>[]</td>\n",
       "      <td>[ne, ave, ne, arlington, cascade, surveying, engineering]</td>\n",
       "      <td>[work, firm, upcoming, project, gather, map, project, assist, gather, map, build, underground, water, facility, something, show, route, water, line, survey, attach, scope, convenience]</td>\n",
       "    </tr>\n",
       "    <tr>\n",
       "      <th>1</th>\n",
       "      <td>1</td>\n",
       "      <td>Need copies of contracts and all related documents pertaining to Topcub Aircraft property located at 17922 59th DR NE Arlington WA 98223 between Arlington Airport, Topcub Aircraft, City of Arlington, HCI Steel Buildings and PUD.</td>\n",
       "      <td>Arlington</td>\n",
       "      <td>2018-06</td>\n",
       "      <td>need copies of contracts and all related documents pertaining to topcub aircraft property located at  th dr ne  wa  between  airport topcub aircraft  of  hci steel buildings and pud</td>\n",
       "      <td>[need, copies, of, contracts, and, all, related, documents, pertaining, to, topcub, aircraft, property, located, at, th, dr, ne, wa, between, airport, topcub, aircraft, of, hci, steel, buildings, and, pud]</td>\n",
       "      <td>[('need', 'NN'), ('copies', 'NNS'), ('of', 'IN'), ('contracts', 'NNS'), ('and', 'CC'), ('all', 'DT'), ('related', 'JJ'), ('documents', 'NNS'), ('pertaining', 'VBG'), ('to', 'TO'), ('topcub', 'VB'), ('aircraft', 'NN'), ('property', 'NN'), ('located', 'VBN'), ('at', 'IN'), ('th', 'NN'), ('dr', 'NN'), ('ne', 'JJ'), ('wa', 'NN'), ('between', 'IN'), ('airport', 'NN'), ('topcub', 'NN'), ('aircraft', 'NN'), ('of', 'IN'), ('hci', 'NN'), ('steel', 'NN'), ('buildings', 'NNS'), ('and', 'CC'), ('pud', 'NN')]</td>\n",
       "      <td>[contract, related, pertain, topcub, aircraft, property, locate, airport, topcub, aircraft, hci, steel, building, pud]</td>\n",
       "      <td>15</td>\n",
       "      <td>['need_copy', 'copy_contract', 'contract_related', 'related_document', 'document_pertain', 'pertain_topcub', 'topcub_aircraft', 'aircraft_property', 'property_locate', 'locate_th', 'th_dr', 'dr_ne', 'ne_wa', 'wa_airport', 'airport_topcub', 'topcub_aircraft', 'aircraft_hci', 'hci_steel', 'steel_building', 'building_pud']</td>\n",
       "      <td>['property_locate']</td>\n",
       "      <td>[contract, related, pertain, topcub, aircraft, property, locate, airport, topcub, aircraft, hci, steel, building, pud, property_locate]</td>\n",
       "      <td>(need, copies, of, contracts, and, all, related, documents, pertaining, to, topcub, aircraft, property, located, at,  , th, dr, ne,  , wa,  , between,  , airport, topcub, aircraft,  , of,  , hci, steel, buildings, and, pud)</td>\n",
       "      <td>(Need, copies, of, contracts, and, all, related, documents, pertaining, to, Topcub, Aircraft, property, located, at, 17922, 59th, DR, NE, Arlington, WA, 98223, between, Arlington, Airport, ,, Topcub, Aircraft, ,, City, of, Arlington, ,, HCI, Steel, Buildings, and, PUD, .)</td>\n",
       "      <td>[]</td>\n",
       "      <td>[topcub, aircraft, dr, ne, arlington, wa, arlington, airport, topcub, aircraft, city, arlington, hci, steel, pud]</td>\n",
       "      <td>[contract, related, pertain, property, locate, building, property_locate]</td>\n",
       "    </tr>\n",
       "    <tr>\n",
       "      <th>2</th>\n",
       "      <td>2</td>\n",
       "      <td>Copies of Building Permits of $5,000 valuation and up ($20,000 min for Re-Roofs), ($50,000 min. for Cell Tower upgrades), (Electrical, Mechanical &amp; Plumbing at $100,000 min.) and (Solar Panels, Swimming Pools &amp; Foundations at any valuation)</td>\n",
       "      <td>Arlington</td>\n",
       "      <td>2018-06</td>\n",
       "      <td>copies of building permits of  valuation and up  min for re roofs  min for cell tower upgrades electrical mechanical  plumbing at  min and solar panels swimming pools  foundations at any valuation</td>\n",
       "      <td>[copies, of, building, permits, of, valuation, and, up, min, for, re, roofs, min, for, cell, tower, upgrades, electrical, mechanical, plumbing, at, min, and, solar, panels, swimming, pools, foundations, at, any, valuation]</td>\n",
       "      <td>[('copies', 'NNS'), ('of', 'IN'), ('building', 'VBG'), ('permits', 'NNS'), ('of', 'IN'), ('valuation', 'NN'), ('and', 'CC'), ('up', 'RB'), ('min', 'NN'), ('for', 'IN'), ('re', 'NN'), ('roofs', 'NNS'), ('min', 'VBP'), ('for', 'IN'), ('cell', 'NN'), ('tower', 'NN'), ('upgrades', 'JJ'), ('electrical', 'JJ'), ('mechanical', 'JJ'), ('plumbing', 'NN'), ('at', 'IN'), ('min', 'NN'), ('and', 'CC'), ('solar', 'JJ'), ('panels', 'NNS'), ('swimming', 'VBG'), ('pools', 'JJ'), ('foundations', 'NNS'), ('at', 'IN'), ('any', 'DT'), ('valuation', 'NN')]</td>\n",
       "      <td>[build, permit, valuation, min, roof, min, cell, tower, upgrades, electrical, mechanical, plumbing, min, solar, panel, swim, pools, foundation, valuation]</td>\n",
       "      <td>19</td>\n",
       "      <td>['copy_build', 'build_permit', 'permit_valuation', 'valuation_min', 'min_roof', 'roof_min', 'min_cell', 'cell_tower', 'tower_upgrades', 'upgrades_electrical', 'electrical_mechanical', 'mechanical_plumbing', 'plumbing_min', 'min_solar', 'solar_panel', 'panel_swim', 'swim_pools', 'pools_foundation', 'foundation_valuation']</td>\n",
       "      <td>[]</td>\n",
       "      <td>[build, permit, valuation, min, roof, min, cell, tower, upgrades, electrical, mechanical, plumbing, min, solar, panel, swim, pools, foundation, valuation]</td>\n",
       "      <td>(copies, of, building, permits, of,  , valuation, and, up,  , min, for, re, roofs,  , min, for, cell, tower, upgrades, electrical, mechanical,  , plumbing, at,  , min, and, solar, panels, swimming, pools,  , foundations, at, any, valuation)</td>\n",
       "      <td>(Copies, of, Building, Permits, of, $, 5,000, valuation, and, up, (, $, 20,000, min, for, Re, -, Roofs, ), ,, (, $, 50,000, min, ., for, Cell, Tower, upgrades, ), ,, (, Electrical, ,, Mechanical, &amp;, Plumbing, at, $, 100,000, min, ., ), and, (, Solar, Panels, ,, Swimming, Pools, &amp;, Foundations, at, any, valuation, ))</td>\n",
       "      <td>[]</td>\n",
       "      <td>[building, re, roofs, cell, tower, mechanical, plumbing, solar, swimming, pools]</td>\n",
       "      <td>[build, permit, valuation, min, roof, min, upgrades, electrical, min, panel, swim, foundation, valuation]</td>\n",
       "    </tr>\n",
       "    <tr>\n",
       "      <th>3</th>\n",
       "      <td>3</td>\n",
       "      <td>police report filed to an officer against Wayne Parris (DOB 08-03-1957) from Brittany J. Parris. The paperwork I have has a case number D18-39 it is also stamped at the bottom with 18-1294, Iím not sure which number you will need. If there is any other information needed please let me know.</td>\n",
       "      <td>Arlington</td>\n",
       "      <td>2018-06</td>\n",
       "      <td>police report filed to an officer against wayne parris dob    from brittany j parris the paperwork i have has a case number d  it is also stamped at the bottom with   iím not sure which number you will need if there is any other information needed please let me know</td>\n",
       "      <td>[police, report, filed, to, an, officer, against, wayne, parris, dob, from, brittany, j, parris, the, paperwork, i, have, has, a, case, number, d, it, is, also, stamped, at, the, bottom, with, iím, not, sure, which, number, you, will, need, if, there, is, any, other, information, needed, please, let, me, know]</td>\n",
       "      <td>[('police', 'NNS'), ('report', 'NN'), ('filed', 'VBD'), ('to', 'TO'), ('an', 'DT'), ('officer', 'NN'), ('against', 'IN'), ('wayne', 'JJ'), ('parris', 'JJ'), ('dob', 'NN'), ('from', 'IN'), ('brittany', 'JJ'), ('j', 'NN'), ('parris', 'VBD'), ('the', 'DT'), ('paperwork', 'NN'), ('i', 'NN'), ('have', 'VBP'), ('has', 'VBZ'), ('a', 'DT'), ('case', 'NN'), ('number', 'NN'), ('d', 'NN'), ('it', 'PRP'), ('is', 'VBZ'), ('also', 'RB'), ('stamped', 'VBN'), ('at', 'IN'), ('the', 'DT'), ('bottom', 'NN'), ('with', 'IN'), ('iím', 'JJ'), ('not', 'RB'), ('sure', 'JJ'), ('which', 'WDT'), ('number', 'NN'), ('you', 'PRP'), ('will', 'MD'), ('need', 'VB'), ('if', 'IN'), ('there', 'EX'), ('is', 'VBZ'), ('any', 'DT'), ('other', 'JJ'), ('information', 'NN'), ('needed', 'VBN'), ('please', 'NN'), ('let', 'VB'), ('me', 'PRP'), ('know', 'VB')]</td>\n",
       "      <td>[police, officer, wayne, parris, dob, brittany, parris, paperwork, case, number, stamp, bottom, iím, sure, number]</td>\n",
       "      <td>17</td>\n",
       "      <td>['police_report', 'report_file', 'file_officer', 'officer_wayne', 'wayne_parris', 'parris_dob', 'dob_brittany', 'brittany_j', 'j_parris', 'parris_paperwork', 'paperwork_case', 'case_number', 'number_also', 'also_stamp', 'stamp_bottom', 'bottom_iím', 'iím_sure', 'sure_number', 'number_need', 'need_information', 'information_need', 'need_please', 'please_let', 'let_know']</td>\n",
       "      <td>['police_report', 'case_number']</td>\n",
       "      <td>[police, officer, wayne, parris, dob, brittany, parris, paperwork, case, number, stamp, bottom, iím, sure, number, police_report, case_number]</td>\n",
       "      <td>(police, report, filed, to, an, officer, against, wayne, parris, dob,    , from, brittany, j, parris, the, paperwork, i, have, has, a, case, number, d,  , it, is, also, stamped, at, the, bottom, with,   , iím, not, sure, which, number, you, will, need, if, there, is, any, other, information, needed, please, let, me, know)</td>\n",
       "      <td>(police, report, filed, to, an, officer, against, Wayne, Parris, (, DOB, 08, -, 03, -, 1957, ), from, Brittany, J., Parris, ., The, paperwork, I, have, has, a, case, number, D18, -, 39, it, is, also, stamped, at, the, bottom, with, 18, -, 1294, ,, Iím, not, sure, which, number, you, will, need, ., If, there, is, any, other, information, needed, please, let, me, know, .)</td>\n",
       "      <td>[]</td>\n",
       "      <td>[wayne, parris, dob, brittany, j., parris, d18]</td>\n",
       "      <td>[police, officer, paperwork, case, number, stamp, bottom, iím, sure, number, police_report, case_number]</td>\n",
       "    </tr>\n",
       "    <tr>\n",
       "      <th>4</th>\n",
       "      <td>4</td>\n",
       "      <td>Email Communications between Stephanie Shook, Dave Kraski, Bruce Stedman and Chad Schmidt in regards to Fire Protection District 21 billing and passage of contract for ALS Services. \\n\\nAlso any copies of Agenda Bills, D21 Contract and materials presented for review in Nov/Dec time frame in regards to the contract.</td>\n",
       "      <td>Arlington</td>\n",
       "      <td>2018-06</td>\n",
       "      <td>email communications between stephanie shook dave kraski bruce stedman and chad schmidt in regards to fire protection district  billing and passage of contract for als services \\n\\nalso any copies of agenda bills d contract and materials presented for review in nov dec time frame in regards to the contract</td>\n",
       "      <td>[email, communications, between, stephanie, shook, dave, kraski, bruce, stedman, and, chad, schmidt, in, regards, to, fire, protection, district, billing, and, passage, of, contract, for, als, services, also, any, copies, of, agenda, bills, d, contract, and, materials, presented, for, review, in, nov, dec, time, frame, in, regards, to, the, contract]</td>\n",
       "      <td>[('email', 'NN'), ('communications', 'NNS'), ('between', 'IN'), ('stephanie', 'JJ'), ('shook', 'NN'), ('dave', 'VBP'), ('kraski', 'VBN'), ('bruce', 'NN'), ('stedman', 'NN'), ('and', 'CC'), ('chad', 'VBD'), ('schmidt', 'VBN'), ('in', 'IN'), ('regards', 'NNS'), ('to', 'TO'), ('fire', 'VB'), ('protection', 'NN'), ('district', 'NN'), ('billing', 'NN'), ('and', 'CC'), ('passage', 'NN'), ('of', 'IN'), ('contract', 'NN'), ('for', 'IN'), ('als', 'NNS'), ('services', 'NNS'), ('also', 'RB'), ('any', 'DT'), ('copies', 'NNS'), ('of', 'IN'), ('agenda', 'NN'), ('bills', 'NNS'), ('d', 'VBP'), ('contract', 'NN'), ('and', 'CC'), ('materials', 'NNS'), ('presented', 'VBN'), ('for', 'IN'), ('review', 'NN'), ('in', 'IN'), ('nov', 'JJ'), ('dec', 'NN'), ('time', 'NN'), ('frame', 'NN'), ('in', 'IN'), ('regards', 'NNS'), ('to', 'TO'), ('the', 'DT'), ('contract', 'NN')]</td>\n",
       "      <td>[email, communication, stephanie, shook, dave, kraski, bruce, stedman, chad, schmidt, fire, protection, district, billing, passage, contract, al, service, agenda, bill, contract, material, present, review, time, frame, contract]</td>\n",
       "      <td>27</td>\n",
       "      <td>['email_communication', 'communication_stephanie', 'stephanie_shook', 'shook_dave', 'dave_kraski', 'kraski_bruce', 'bruce_stedman', 'stedman_chad', 'chad_schmidt', 'schmidt_regard', 'regard_fire', 'fire_protection', 'protection_district', 'district_billing', 'billing_passage', 'passage_contract', 'contract_al', 'al_service', 'service_also', 'also_copy', 'copy_agenda', 'agenda_bill', 'bill_contract', 'contract_material', 'material_present', 'present_review', 'review_nov', 'nov_dec', 'dec_time', 'time_frame', 'frame_regard', 'regard_contract']</td>\n",
       "      <td>[]</td>\n",
       "      <td>[email, communication, stephanie, shook, dave, kraski, bruce, stedman, chad, schmidt, fire, protection, district, billing, passage, contract, al, service, agenda, bill, contract, material, present, review, time, frame, contract]</td>\n",
       "      <td>(email, communications, between, stephanie, shook, dave, kraski, bruce, stedman, and, chad, schmidt, in, regards, to, fire, protection, district,  , billing, and, passage, of, contract, for, als, services, \\n\\n, also, any, copies, of, agenda, bills, d, contract, and, materials, presented, for, review, in, nov, dec, time, frame, in, regards, to, the, contract)</td>\n",
       "      <td>(Email, Communications, between, Stephanie, Shook, ,, Dave, Kraski, ,, Bruce, Stedman, and, Chad, Schmidt, in, regards, to, Fire, Protection, District, 21, billing, and, passage, of, contract, for, ALS, Services, ., \\n\\n, Also, any, copies, of, Agenda, Bills, ,, D21, Contract, and, materials, presented, for, review, in, Nov, /, Dec, time, frame, in, regards, to, the, contract, .)</td>\n",
       "      <td>[]</td>\n",
       "      <td>[communications, stephanie, shook, dave, kraski, bruce, stedman, chad, schmidt, fire, protection, district, als, agenda, bills, d21, contract, nov, dec]</td>\n",
       "      <td>[email, communication, billing, passage, al, service, bill, material, present, review, time, frame]</td>\n",
       "    </tr>\n",
       "  </tbody>\n",
       "</table>\n",
       "</div>"
      ],
      "text/plain": [
       "   index                                                                                                                                                                                                                                                                                                                                                                                                                                                                                Summary       city month_year                                                                                                                                                                                                                                                                                                                                                                                                                                                        sum_ed  \\\n",
       "0      0  We are working with an engineering firm on an upcoming project.  They have asked us to gather maps for this project.  Would you be able to assist me in gathering maps/records (as builds) for any underground water facilities you may have?  Something just showing the route of the water lines would do.\\n\\n207th ST NE to 92nd Ave NE, Arlington, Cascade Surveying & Engineering \\n\\nI have attached the scope for your convenience.  Please let me know if you have questions.  Arlington    2018-06  we are working with an engineering firm on an upcoming project  they have asked us to gather maps for this project  would you be able to assist me in gathering maps records as builds for any underground water facilities you may have  something just showing the route of the water lines would do\\n\\nth st ne to nd ave ne  cascade surveying  engineering \\n\\ni have attached the scope for your convenience  please let me know if you have questions   \n",
       "1      1                                                                                                                                                                                                                                                   Need copies of contracts and all related documents pertaining to Topcub Aircraft property located at 17922 59th DR NE Arlington WA 98223 between Arlington Airport, Topcub Aircraft, City of Arlington, HCI Steel Buildings and PUD.  Arlington    2018-06                                                                                                                                                                                                                                                                         need copies of contracts and all related documents pertaining to topcub aircraft property located at  th dr ne  wa  between  airport topcub aircraft  of  hci steel buildings and pud   \n",
       "2      2                                                                                                                                                                                                                                       Copies of Building Permits of $5,000 valuation and up ($20,000 min for Re-Roofs), ($50,000 min. for Cell Tower upgrades), (Electrical, Mechanical & Plumbing at $100,000 min.) and (Solar Panels, Swimming Pools & Foundations at any valuation)  Arlington    2018-06                                                                                                                                                                                                                                                          copies of building permits of  valuation and up  min for re roofs  min for cell tower upgrades electrical mechanical  plumbing at  min and solar panels swimming pools  foundations at any valuation   \n",
       "3      3                                                                                                                                                                                    police report filed to an officer against Wayne Parris (DOB 08-03-1957) from Brittany J. Parris. The paperwork I have has a case number D18-39 it is also stamped at the bottom with 18-1294, Iím not sure which number you will need. If there is any other information needed please let me know.  Arlington    2018-06                                                                                                                                                                                    police report filed to an officer against wayne parris dob    from brittany j parris the paperwork i have has a case number d  it is also stamped at the bottom with   iím not sure which number you will need if there is any other information needed please let me know   \n",
       "4      4                                                                                                                                                           Email Communications between Stephanie Shook, Dave Kraski, Bruce Stedman and Chad Schmidt in regards to Fire Protection District 21 billing and passage of contract for ALS Services. \\n\\nAlso any copies of Agenda Bills, D21 Contract and materials presented for review in Nov/Dec time frame in regards to the contract.  Arlington    2018-06                                                                                                                                           email communications between stephanie shook dave kraski bruce stedman and chad schmidt in regards to fire protection district  billing and passage of contract for als services \\n\\nalso any copies of agenda bills d contract and materials presented for review in nov dec time frame in regards to the contract   \n",
       "\n",
       "                                                                                                                                                                                                                                                                                                                                                                                                                                                                                                                             token  \\\n",
       "0  [we, are, working, with, an, engineering, firm, on, an, upcoming, project, they, have, asked, us, to, gather, maps, for, this, project, would, you, be, able, to, assist, me, in, gathering, maps, records, as, builds, for, any, underground, water, facilities, you, may, have, something, just, showing, the, route, of, the, water, lines, would, do, th, st, ne, to, nd, ave, ne, cascade, surveying, engineering, i, have, attached, the, scope, for, your, convenience, please, let, me, know, if, you, have, questions]   \n",
       "1                                                                                                                                                                                                                                                                                                                    [need, copies, of, contracts, and, all, related, documents, pertaining, to, topcub, aircraft, property, located, at, th, dr, ne, wa, between, airport, topcub, aircraft, of, hci, steel, buildings, and, pud]   \n",
       "2                                                                                                                                                                                                                                                                                                   [copies, of, building, permits, of, valuation, and, up, min, for, re, roofs, min, for, cell, tower, upgrades, electrical, mechanical, plumbing, at, min, and, solar, panels, swimming, pools, foundations, at, any, valuation]   \n",
       "3                                                                                                                                                                                                          [police, report, filed, to, an, officer, against, wayne, parris, dob, from, brittany, j, parris, the, paperwork, i, have, has, a, case, number, d, it, is, also, stamped, at, the, bottom, with, iím, not, sure, which, number, you, will, need, if, there, is, any, other, information, needed, please, let, me, know]   \n",
       "4                                                                                                                                                                 [email, communications, between, stephanie, shook, dave, kraski, bruce, stedman, and, chad, schmidt, in, regards, to, fire, protection, district, billing, and, passage, of, contract, for, als, services, also, any, copies, of, agenda, bills, d, contract, and, materials, presented, for, review, in, nov, dec, time, frame, in, regards, to, the, contract]   \n",
       "\n",
       "                                                                                                                                                                                                                                                                                                                                                                                                                                                                                                                                                                                                                                                                                                                                                                                                                                                                                                                                                                                                                                     lemma  \\\n",
       "0  [('we', 'PRP'), ('are', 'VBP'), ('working', 'VBG'), ('with', 'IN'), ('an', 'DT'), ('engineering', 'NN'), ('firm', 'NN'), ('on', 'IN'), ('an', 'DT'), ('upcoming', 'JJ'), ('project', 'NN'), ('they', 'PRP'), ('have', 'VBP'), ('asked', 'VBN'), ('us', 'PRP'), ('to', 'TO'), ('gather', 'VB'), ('maps', 'NNS'), ('for', 'IN'), ('this', 'DT'), ('project', 'NN'), ('would', 'MD'), ('you', 'PRP'), ('be', 'VB'), ('able', 'JJ'), ('to', 'TO'), ('assist', 'VB'), ('me', 'PRP'), ('in', 'IN'), ('gathering', 'VBG'), ('maps', 'NNS'), ('records', 'NNS'), ('as', 'IN'), ('builds', 'NNS'), ('for', 'IN'), ('any', 'DT'), ('underground', 'JJ'), ('water', 'NN'), ('facilities', 'NNS'), ('you', 'PRP'), ('may', 'MD'), ('have', 'VB'), ('something', 'NN'), ('just', 'RB'), ('showing', 'VBG'), ('the', 'DT'), ('route', 'NN'), ('of', 'IN'), ('the', 'DT'), ('water', 'NN'), ('lines', 'NNS'), ('would', 'MD'), ('do', 'VB'), ('th', 'VB'), ('st', 'VB'), ('ne', 'JJ'), ('to', 'TO'), ('nd', 'VB'), ('ave', 'VB'), ('ne', 'JJ'), ('c...   \n",
       "1                                                                                                                                                                                                                                                                                                                                                                                                                                                                                                                    [('need', 'NN'), ('copies', 'NNS'), ('of', 'IN'), ('contracts', 'NNS'), ('and', 'CC'), ('all', 'DT'), ('related', 'JJ'), ('documents', 'NNS'), ('pertaining', 'VBG'), ('to', 'TO'), ('topcub', 'VB'), ('aircraft', 'NN'), ('property', 'NN'), ('located', 'VBN'), ('at', 'IN'), ('th', 'NN'), ('dr', 'NN'), ('ne', 'JJ'), ('wa', 'NN'), ('between', 'IN'), ('airport', 'NN'), ('topcub', 'NN'), ('aircraft', 'NN'), ('of', 'IN'), ('hci', 'NN'), ('steel', 'NN'), ('buildings', 'NNS'), ('and', 'CC'), ('pud', 'NN')]   \n",
       "2                                                                                                                                                                                                                                                                                                                                                                                                                                                                             [('copies', 'NNS'), ('of', 'IN'), ('building', 'VBG'), ('permits', 'NNS'), ('of', 'IN'), ('valuation', 'NN'), ('and', 'CC'), ('up', 'RB'), ('min', 'NN'), ('for', 'IN'), ('re', 'NN'), ('roofs', 'NNS'), ('min', 'VBP'), ('for', 'IN'), ('cell', 'NN'), ('tower', 'NN'), ('upgrades', 'JJ'), ('electrical', 'JJ'), ('mechanical', 'JJ'), ('plumbing', 'NN'), ('at', 'IN'), ('min', 'NN'), ('and', 'CC'), ('solar', 'JJ'), ('panels', 'NNS'), ('swimming', 'VBG'), ('pools', 'JJ'), ('foundations', 'NNS'), ('at', 'IN'), ('any', 'DT'), ('valuation', 'NN')]   \n",
       "3                                                                                                                                                                                 [('police', 'NNS'), ('report', 'NN'), ('filed', 'VBD'), ('to', 'TO'), ('an', 'DT'), ('officer', 'NN'), ('against', 'IN'), ('wayne', 'JJ'), ('parris', 'JJ'), ('dob', 'NN'), ('from', 'IN'), ('brittany', 'JJ'), ('j', 'NN'), ('parris', 'VBD'), ('the', 'DT'), ('paperwork', 'NN'), ('i', 'NN'), ('have', 'VBP'), ('has', 'VBZ'), ('a', 'DT'), ('case', 'NN'), ('number', 'NN'), ('d', 'NN'), ('it', 'PRP'), ('is', 'VBZ'), ('also', 'RB'), ('stamped', 'VBN'), ('at', 'IN'), ('the', 'DT'), ('bottom', 'NN'), ('with', 'IN'), ('iím', 'JJ'), ('not', 'RB'), ('sure', 'JJ'), ('which', 'WDT'), ('number', 'NN'), ('you', 'PRP'), ('will', 'MD'), ('need', 'VB'), ('if', 'IN'), ('there', 'EX'), ('is', 'VBZ'), ('any', 'DT'), ('other', 'JJ'), ('information', 'NN'), ('needed', 'VBN'), ('please', 'NN'), ('let', 'VB'), ('me', 'PRP'), ('know', 'VB')]   \n",
       "4                                                                                                                                                 [('email', 'NN'), ('communications', 'NNS'), ('between', 'IN'), ('stephanie', 'JJ'), ('shook', 'NN'), ('dave', 'VBP'), ('kraski', 'VBN'), ('bruce', 'NN'), ('stedman', 'NN'), ('and', 'CC'), ('chad', 'VBD'), ('schmidt', 'VBN'), ('in', 'IN'), ('regards', 'NNS'), ('to', 'TO'), ('fire', 'VB'), ('protection', 'NN'), ('district', 'NN'), ('billing', 'NN'), ('and', 'CC'), ('passage', 'NN'), ('of', 'IN'), ('contract', 'NN'), ('for', 'IN'), ('als', 'NNS'), ('services', 'NNS'), ('also', 'RB'), ('any', 'DT'), ('copies', 'NNS'), ('of', 'IN'), ('agenda', 'NN'), ('bills', 'NNS'), ('d', 'VBP'), ('contract', 'NN'), ('and', 'CC'), ('materials', 'NNS'), ('presented', 'VBN'), ('for', 'IN'), ('review', 'NN'), ('in', 'IN'), ('nov', 'JJ'), ('dec', 'NN'), ('time', 'NN'), ('frame', 'NN'), ('in', 'IN'), ('regards', 'NNS'), ('to', 'TO'), ('the', 'DT'), ('contract', 'NN')]   \n",
       "\n",
       "                                                                                                                                                                                                                                   mash  mash_len                                                                                                                                                                                                                                                                                                                                                                                                                                                                                                                                                                                                                                                                         bigrams                    common_bigrams  \\\n",
       "0           [work, engineering, firm, upcoming, project, gather, map, project, assist, gather, map, build, underground, water, facility, something, show, route, water, line, cascade, survey, engineering, attach, scope, convenience]        26  ['work_engineering', 'engineering_firm', 'firm_upcoming', 'upcoming_project', 'project_ask', 'ask_u', 'u_gather', 'gather_map', 'map_project', 'project_would', 'would_able', 'able_assist', 'assist_gather', 'gather_map', 'map_record', 'record_build', 'build_underground', 'underground_water', 'water_facility', 'facility_may', 'may_something', 'something_show', 'show_route', 'route_water', 'water_line', 'line_would', 'would_th', 'th_st', 'st_ne', 'ne_nd', 'nd_ave', 'ave_ne', 'ne_cascade', 'cascade_survey', 'survey_engineering', 'engineering_attach', 'attach_scope', 'scope_convenience', 'convenience_please', 'please_let', 'let_know', 'know_question']                                []   \n",
       "1                                                                                                                [contract, related, pertain, topcub, aircraft, property, locate, airport, topcub, aircraft, hci, steel, building, pud]        15                                                                                                                                                                                                                                                                                                                                               ['need_copy', 'copy_contract', 'contract_related', 'related_document', 'document_pertain', 'pertain_topcub', 'topcub_aircraft', 'aircraft_property', 'property_locate', 'locate_th', 'th_dr', 'dr_ne', 'ne_wa', 'wa_airport', 'airport_topcub', 'topcub_aircraft', 'aircraft_hci', 'hci_steel', 'steel_building', 'building_pud']               ['property_locate']   \n",
       "2                                                                            [build, permit, valuation, min, roof, min, cell, tower, upgrades, electrical, mechanical, plumbing, min, solar, panel, swim, pools, foundation, valuation]        19                                                                                                                                                                                                                                                                                                                                              ['copy_build', 'build_permit', 'permit_valuation', 'valuation_min', 'min_roof', 'roof_min', 'min_cell', 'cell_tower', 'tower_upgrades', 'upgrades_electrical', 'electrical_mechanical', 'mechanical_plumbing', 'plumbing_min', 'min_solar', 'solar_panel', 'panel_swim', 'swim_pools', 'pools_foundation', 'foundation_valuation']                                []   \n",
       "3                                                                                                                    [police, officer, wayne, parris, dob, brittany, parris, paperwork, case, number, stamp, bottom, iím, sure, number]        17                                                                                                                                                                                                                                                                                            ['police_report', 'report_file', 'file_officer', 'officer_wayne', 'wayne_parris', 'parris_dob', 'dob_brittany', 'brittany_j', 'j_parris', 'parris_paperwork', 'paperwork_case', 'case_number', 'number_also', 'also_stamp', 'stamp_bottom', 'bottom_iím', 'iím_sure', 'sure_number', 'number_need', 'need_information', 'information_need', 'need_please', 'please_let', 'let_know']  ['police_report', 'case_number']   \n",
       "4  [email, communication, stephanie, shook, dave, kraski, bruce, stedman, chad, schmidt, fire, protection, district, billing, passage, contract, al, service, agenda, bill, contract, material, present, review, time, frame, contract]        27                                                                                                             ['email_communication', 'communication_stephanie', 'stephanie_shook', 'shook_dave', 'dave_kraski', 'kraski_bruce', 'bruce_stedman', 'stedman_chad', 'chad_schmidt', 'schmidt_regard', 'regard_fire', 'fire_protection', 'protection_district', 'district_billing', 'billing_passage', 'passage_contract', 'contract_al', 'al_service', 'service_also', 'also_copy', 'copy_agenda', 'agenda_bill', 'bill_contract', 'contract_material', 'material_present', 'present_review', 'review_nov', 'nov_dec', 'dec_time', 'time_frame', 'frame_regard', 'regard_contract']                                []   \n",
       "\n",
       "                                                                                                                                                                                                                             final_mash                                                                                                                                                                                                                                                                                                                                                                                                                                                                                                                                                       token_sp  \\\n",
       "0           [work, engineering, firm, upcoming, project, gather, map, project, assist, gather, map, build, underground, water, facility, something, show, route, water, line, cascade, survey, engineering, attach, scope, convenience]  (we, are, working, with, an, engineering, firm, on, an, upcoming, project,  , they, have, asked, us, to, gather, maps, for, this, project,  , would, you, be, able, to, assist, me, in, gathering, maps, records, as, builds, for, any, underground, water, facilities, you, may, have,  , something, just, showing, the, route, of, the, water, lines, would, do, \\n\\n, th, st, ne, to, nd, ave, ne,  , cascade, surveying,  , engineering, \\n\\n, i, have, attached, the, scope, for, your, convenience,  , please, let, me, know, if, you, have, questions)   \n",
       "1                                                                                               [contract, related, pertain, topcub, aircraft, property, locate, airport, topcub, aircraft, hci, steel, building, pud, property_locate]                                                                                                                                                                                                                                                                                                                                (need, copies, of, contracts, and, all, related, documents, pertaining, to, topcub, aircraft, property, located, at,  , th, dr, ne,  , wa,  , between,  , airport, topcub, aircraft,  , of,  , hci, steel, buildings, and, pud)   \n",
       "2                                                                            [build, permit, valuation, min, roof, min, cell, tower, upgrades, electrical, mechanical, plumbing, min, solar, panel, swim, pools, foundation, valuation]                                                                                                                                                                                                                                                                                                               (copies, of, building, permits, of,  , valuation, and, up,  , min, for, re, roofs,  , min, for, cell, tower, upgrades, electrical, mechanical,  , plumbing, at,  , min, and, solar, panels, swimming, pools,  , foundations, at, any, valuation)   \n",
       "3                                                                                        [police, officer, wayne, parris, dob, brittany, parris, paperwork, case, number, stamp, bottom, iím, sure, number, police_report, case_number]                                                                                                                                                                                                                            (police, report, filed, to, an, officer, against, wayne, parris, dob,    , from, brittany, j, parris, the, paperwork, i, have, has, a, case, number, d,  , it, is, also, stamped, at, the, bottom, with,   , iím, not, sure, which, number, you, will, need, if, there, is, any, other, information, needed, please, let, me, know)   \n",
       "4  [email, communication, stephanie, shook, dave, kraski, bruce, stedman, chad, schmidt, fire, protection, district, billing, passage, contract, al, service, agenda, bill, contract, material, present, review, time, frame, contract]                                                                                                                                                                                      (email, communications, between, stephanie, shook, dave, kraski, bruce, stedman, and, chad, schmidt, in, regards, to, fire, protection, district,  , billing, and, passage, of, contract, for, als, services, \\n\\n, also, any, copies, of, agenda, bills, d, contract, and, materials, presented, for, review, in, nov, dec, time, frame, in, regards, to, the, contract)   \n",
       "\n",
       "                                                                                                                                                                                                                                                                                                                                                                                                                                                                                                                                                                                                     token_sp2  pn                                                                                                                                                       pn2                                                                                                                                                                               final_mash2  \n",
       "0  (We, are, working, with, an, engineering, firm, on, an, upcoming, project, .,  , They, have, asked, us, to, gather, maps, for, this, project, .,  , Would, you, be, able, to, assist, me, in, gathering, maps, /, records, (, as, builds, ), for, any, underground, water, facilities, you, may, have, ?,  , Something, just, showing, the, route, of, the, water, lines, would, do, ., \\n\\n, 207th, ST, NE, to, 92nd, Ave, NE, ,, Arlington, ,, Cascade, Surveying, &, Engineering, \\n\\n, I, have, attached, the, scope, for, your, convenience, .,  , Please, let, me, know, if, you, have, questions, .)  []                                                                                                 [ne, ave, ne, arlington, cascade, surveying, engineering]  [work, firm, upcoming, project, gather, map, project, assist, gather, map, build, underground, water, facility, something, show, route, water, line, survey, attach, scope, convenience]  \n",
       "1                                                                                                                                                                                                                                                                                                                             (Need, copies, of, contracts, and, all, related, documents, pertaining, to, Topcub, Aircraft, property, located, at, 17922, 59th, DR, NE, Arlington, WA, 98223, between, Arlington, Airport, ,, Topcub, Aircraft, ,, City, of, Arlington, ,, HCI, Steel, Buildings, and, PUD, .)  []                                         [topcub, aircraft, dr, ne, arlington, wa, arlington, airport, topcub, aircraft, city, arlington, hci, steel, pud]                                                                                                                 [contract, related, pertain, property, locate, building, property_locate]  \n",
       "2                                                                                                                                                                                                                                                                                (Copies, of, Building, Permits, of, $, 5,000, valuation, and, up, (, $, 20,000, min, for, Re, -, Roofs, ), ,, (, $, 50,000, min, ., for, Cell, Tower, upgrades, ), ,, (, Electrical, ,, Mechanical, &, Plumbing, at, $, 100,000, min, ., ), and, (, Solar, Panels, ,, Swimming, Pools, &, Foundations, at, any, valuation, ))  []                                                                          [building, re, roofs, cell, tower, mechanical, plumbing, solar, swimming, pools]                                                                                 [build, permit, valuation, min, roof, min, upgrades, electrical, min, panel, swim, foundation, valuation]  \n",
       "3                                                                                                                                                                                                                         (police, report, filed, to, an, officer, against, Wayne, Parris, (, DOB, 08, -, 03, -, 1957, ), from, Brittany, J., Parris, ., The, paperwork, I, have, has, a, case, number, D18, -, 39, it, is, also, stamped, at, the, bottom, with, 18, -, 1294, ,, Iím, not, sure, which, number, you, will, need, ., If, there, is, any, other, information, needed, please, let, me, know, .)  []                                                                                                           [wayne, parris, dob, brittany, j., parris, d18]                                                                                  [police, officer, paperwork, case, number, stamp, bottom, iím, sure, number, police_report, case_number]  \n",
       "4                                                                                                                                                                                                               (Email, Communications, between, Stephanie, Shook, ,, Dave, Kraski, ,, Bruce, Stedman, and, Chad, Schmidt, in, regards, to, Fire, Protection, District, 21, billing, and, passage, of, contract, for, ALS, Services, ., \\n\\n, Also, any, copies, of, Agenda, Bills, ,, D21, Contract, and, materials, presented, for, review, in, Nov, /, Dec, time, frame, in, regards, to, the, contract, .)  []  [communications, stephanie, shook, dave, kraski, bruce, stedman, chad, schmidt, fire, protection, district, als, agenda, bills, d21, contract, nov, dec]                                                                                       [email, communication, billing, passage, al, service, bill, material, present, review, time, frame]  "
      ]
     },
     "execution_count": 32,
     "metadata": {},
     "output_type": "execute_result"
    }
   ],
   "source": [
    "data_sp.head()"
   ]
  },
  {
   "cell_type": "code",
   "execution_count": null,
   "metadata": {
    "collapsed": true
   },
   "outputs": [],
   "source": [
    "data_sp2 = data_sp[data_sp['mash_len2'] > 0]\n",
    "data_sp = data_sp[data_sp['mash_len'] > 0]"
   ]
  },
  {
   "cell_type": "code",
   "execution_count": null,
   "metadata": {
    "collapsed": true
   },
   "outputs": [],
   "source": [
    "data_sp['mash_len2'].describe()"
   ]
  },
  {
   "cell_type": "code",
   "execution_count": null,
   "metadata": {
    "collapsed": true
   },
   "outputs": [],
   "source": [
    "data_sp['mash_len'].describe()"
   ]
  },
  {
   "cell_type": "markdown",
   "metadata": {},
   "source": [
    "## 3) Drop cities with low (less than 4) average count - Asheville, Greensboro, Dayton, OKC"
   ]
  },
  {
   "cell_type": "markdown",
   "metadata": {},
   "source": [
    "## 4) Remove observations with small number of words in final mash "
   ]
  },
  {
   "cell_type": "markdown",
   "metadata": {},
   "source": [
    "### 4a) Less than 2"
   ]
  },
  {
   "cell_type": "markdown",
   "metadata": {},
   "source": [
    "#### 4a.1) Model 1a"
   ]
  },
  {
   "cell_type": "markdown",
   "metadata": {},
   "source": [
    "#### 4a.2) Model 1b"
   ]
  },
  {
   "cell_type": "markdown",
   "metadata": {},
   "source": [
    "#### 4a.3) Model 2a"
   ]
  },
  {
   "cell_type": "markdown",
   "metadata": {},
   "source": [
    "#### 4a.4) Model 2b"
   ]
  },
  {
   "cell_type": "markdown",
   "metadata": {},
   "source": [
    "#### 4a.5) Model 3"
   ]
  },
  {
   "cell_type": "markdown",
   "metadata": {},
   "source": [
    "### 4b) Less than 3"
   ]
  },
  {
   "cell_type": "markdown",
   "metadata": {},
   "source": [
    "#### 4b.1) Model 1a"
   ]
  },
  {
   "cell_type": "markdown",
   "metadata": {},
   "source": [
    "#### 4b.2) Model 1b"
   ]
  },
  {
   "cell_type": "markdown",
   "metadata": {},
   "source": [
    "#### 4b.3) Model 2a"
   ]
  },
  {
   "cell_type": "markdown",
   "metadata": {},
   "source": [
    "#### 4b.4) Model 2b"
   ]
  },
  {
   "cell_type": "markdown",
   "metadata": {},
   "source": [
    "#### 4b.5) Model 3"
   ]
  },
  {
   "cell_type": "code",
   "execution_count": 39,
   "metadata": {},
   "outputs": [
    {
     "data": {
      "text/html": [
       "<div>\n",
       "<style scoped>\n",
       "    .dataframe tbody tr th:only-of-type {\n",
       "        vertical-align: middle;\n",
       "    }\n",
       "\n",
       "    .dataframe tbody tr th {\n",
       "        vertical-align: top;\n",
       "    }\n",
       "\n",
       "    .dataframe thead th {\n",
       "        text-align: right;\n",
       "    }\n",
       "</style>\n",
       "<table border=\"1\" class=\"dataframe\">\n",
       "  <thead>\n",
       "    <tr style=\"text-align: right;\">\n",
       "      <th></th>\n",
       "      <th>index</th>\n",
       "      <th>Summary</th>\n",
       "      <th>city</th>\n",
       "      <th>month_year</th>\n",
       "      <th>sum_ed</th>\n",
       "      <th>token</th>\n",
       "      <th>lemma</th>\n",
       "      <th>mash</th>\n",
       "      <th>mash_len</th>\n",
       "      <th>bigrams</th>\n",
       "      <th>common_bigrams</th>\n",
       "      <th>final_mash</th>\n",
       "    </tr>\n",
       "  </thead>\n",
       "  <tbody>\n",
       "    <tr>\n",
       "      <th>0</th>\n",
       "      <td>0</td>\n",
       "      <td>We are working with an engineering firm on an upcoming project.  They have asked us to gather maps for this project.  Would you be able to assist me in gathering maps/records (as builds) for any underground water facilities you may have?  Something just showing the route of the water lines would do.\\n\\n207th ST NE to 92nd Ave NE, Arlington, Cascade Surveying &amp; Engineering \\n\\nI have attached the scope for your convenience.  Please let me know if you have questions.</td>\n",
       "      <td>Arlington</td>\n",
       "      <td>2018-06</td>\n",
       "      <td>we are working with an engineering firm on an upcoming project  they have asked us to gather maps for this project  would you be able to assist me in gathering maps records as builds for any underground water facilities you may have  something just showing the route of the water lines would do\\n\\nth st ne to nd ave ne  cascade surveying  engineering \\n\\ni have attached the scope for your convenience  please let me know if you have questions</td>\n",
       "      <td>[we, are, working, with, an, engineering, firm, on, an, upcoming, project, they, have, asked, us, to, gather, maps, for, this, project, would, you, be, able, to, assist, me, in, gathering, maps, records, as, builds, for, any, underground, water, facilities, you, may, have, something, just, showing, the, route, of, the, water, lines, would, do, th, st, ne, to, nd, ave, ne, cascade, surveying, engineering, i, have, attached, the, scope, for, your, convenience, please, let, me, know, if, you, have, questions]</td>\n",
       "      <td>[(we, PRP), (are, VBP), (working, VBG), (with, IN), (an, DT), (engineering, NN), (firm, NN), (on, IN), (an, DT), (upcoming, JJ), (project, NN), (they, PRP), (have, VBP), (asked, VBN), (us, PRP), (to, TO), (gather, VB), (maps, NNS), (for, IN), (this, DT), (project, NN), (would, MD), (you, PRP), (be, VB), (able, JJ), (to, TO), (assist, VB), (me, PRP), (in, IN), (gathering, VBG), (maps, NNS), (records, NNS), (as, IN), (builds, NNS), (for, IN), (any, DT), (underground, JJ), (water, NN), (facilities, NNS), (you, PRP), (may, MD), (have, VB), (something, NN), (just, RB), (showing, VBG), (the, DT), (route, NN), (of, IN), (the, DT), (water, NN), (lines, NNS), (would, MD), (do, VB), (th, VB), (st, VB), (ne, JJ), (to, TO), (nd, VB), (ave, VB), (ne, JJ), (cascade, NN), (surveying, VBG), (engineering, NN), (i, NN), (have, VBP), (attached, VBN), (the, DT), (scope, NN), (for, IN), (your, PRP$), (convenience, NN), (please, NN), (let, VB), (me, PRP), (know, VB), (if, IN), (you, PRP), (have, VBP), (...</td>\n",
       "      <td>[work, engineering, firm, upcoming, project, gather, map, project, assist, gather, map, build, underground, water, facility, something, show, route, water, line, cascade, survey, engineering, attach, scope, convenience]</td>\n",
       "      <td>26</td>\n",
       "      <td>['work_engineering', 'engineering_firm', 'firm_upcoming', 'upcoming_project', 'project_ask', 'ask_u', 'u_gather', 'gather_map', 'map_project', 'project_would', 'would_able', 'able_assist', 'assist_gather', 'gather_map', 'map_record', 'record_build', 'build_underground', 'underground_water', 'water_facility', 'facility_may', 'may_something', 'something_show', 'show_route', 'route_water', 'water_line', 'line_would', 'would_th', 'th_st', 'st_ne', 'ne_nd', 'nd_ave', 'ave_ne', 'ne_cascade', 'cascade_survey', 'survey_engineering', 'engineering_attach', 'attach_scope', 'scope_convenience', 'convenience_please', 'please_let', 'let_know', 'know_question']</td>\n",
       "      <td>[]</td>\n",
       "      <td>[work, engineering, firm, upcoming, project, gather, map, project, assist, gather, map, build, underground, water, facility, something, show, route, water, line, cascade, survey, engineering, attach, scope, convenience]</td>\n",
       "    </tr>\n",
       "    <tr>\n",
       "      <th>1</th>\n",
       "      <td>1</td>\n",
       "      <td>Need copies of contracts and all related documents pertaining to Topcub Aircraft property located at 17922 59th DR NE Arlington WA 98223 between Arlington Airport, Topcub Aircraft, City of Arlington, HCI Steel Buildings and PUD.</td>\n",
       "      <td>Arlington</td>\n",
       "      <td>2018-06</td>\n",
       "      <td>need copies of contracts and all related documents pertaining to topcub aircraft property located at  th dr ne  wa  between  airport topcub aircraft  of  hci steel buildings and pud</td>\n",
       "      <td>[need, copies, of, contracts, and, all, related, documents, pertaining, to, topcub, aircraft, property, located, at, th, dr, ne, wa, between, airport, topcub, aircraft, of, hci, steel, buildings, and, pud]</td>\n",
       "      <td>[(need, NN), (copies, NNS), (of, IN), (contracts, NNS), (and, CC), (all, DT), (related, JJ), (documents, NNS), (pertaining, VBG), (to, TO), (topcub, VB), (aircraft, NN), (property, NN), (located, VBN), (at, IN), (th, NN), (dr, NN), (ne, JJ), (wa, NN), (between, IN), (airport, NN), (topcub, NN), (aircraft, NN), (of, IN), (hci, NN), (steel, NN), (buildings, NNS), (and, CC), (pud, NN)]</td>\n",
       "      <td>[contract, related, pertain, topcub, aircraft, property, locate, airport, topcub, aircraft, hci, steel, building, pud]</td>\n",
       "      <td>15</td>\n",
       "      <td>['need_copy', 'copy_contract', 'contract_related', 'related_document', 'document_pertain', 'pertain_topcub', 'topcub_aircraft', 'aircraft_property', 'property_locate', 'locate_th', 'th_dr', 'dr_ne', 'ne_wa', 'wa_airport', 'airport_topcub', 'topcub_aircraft', 'aircraft_hci', 'hci_steel', 'steel_building', 'building_pud']</td>\n",
       "      <td>['property_locate']</td>\n",
       "      <td>[contract, related, pertain, topcub, aircraft, property, locate, airport, topcub, aircraft, hci, steel, building, pud, property_locate]</td>\n",
       "    </tr>\n",
       "    <tr>\n",
       "      <th>2</th>\n",
       "      <td>2</td>\n",
       "      <td>Copies of Building Permits of $5,000 valuation and up ($20,000 min for Re-Roofs), ($50,000 min. for Cell Tower upgrades), (Electrical, Mechanical &amp; Plumbing at $100,000 min.) and (Solar Panels, Swimming Pools &amp; Foundations at any valuation)</td>\n",
       "      <td>Arlington</td>\n",
       "      <td>2018-06</td>\n",
       "      <td>copies of building permits of  valuation and up  min for re roofs  min for cell tower upgrades electrical mechanical  plumbing at  min and solar panels swimming pools  foundations at any valuation</td>\n",
       "      <td>[copies, of, building, permits, of, valuation, and, up, min, for, re, roofs, min, for, cell, tower, upgrades, electrical, mechanical, plumbing, at, min, and, solar, panels, swimming, pools, foundations, at, any, valuation]</td>\n",
       "      <td>[(copies, NNS), (of, IN), (building, VBG), (permits, NNS), (of, IN), (valuation, NN), (and, CC), (up, RB), (min, NN), (for, IN), (re, NN), (roofs, NNS), (min, VBP), (for, IN), (cell, NN), (tower, NN), (upgrades, JJ), (electrical, JJ), (mechanical, JJ), (plumbing, NN), (at, IN), (min, NN), (and, CC), (solar, JJ), (panels, NNS), (swimming, VBG), (pools, JJ), (foundations, NNS), (at, IN), (any, DT), (valuation, NN)]</td>\n",
       "      <td>[build, permit, valuation, min, roof, min, cell, tower, upgrades, electrical, mechanical, plumbing, min, solar, panel, swim, pools, foundation, valuation]</td>\n",
       "      <td>19</td>\n",
       "      <td>['copy_build', 'build_permit', 'permit_valuation', 'valuation_min', 'min_roof', 'roof_min', 'min_cell', 'cell_tower', 'tower_upgrades', 'upgrades_electrical', 'electrical_mechanical', 'mechanical_plumbing', 'plumbing_min', 'min_solar', 'solar_panel', 'panel_swim', 'swim_pools', 'pools_foundation', 'foundation_valuation']</td>\n",
       "      <td>[]</td>\n",
       "      <td>[build, permit, valuation, min, roof, min, cell, tower, upgrades, electrical, mechanical, plumbing, min, solar, panel, swim, pools, foundation, valuation]</td>\n",
       "    </tr>\n",
       "    <tr>\n",
       "      <th>3</th>\n",
       "      <td>3</td>\n",
       "      <td>police report filed to an officer against Wayne Parris (DOB 08-03-1957) from Brittany J. Parris. The paperwork I have has a case number D18-39 it is also stamped at the bottom with 18-1294, Iím not sure which number you will need. If there is any other information needed please let me know.</td>\n",
       "      <td>Arlington</td>\n",
       "      <td>2018-06</td>\n",
       "      <td>police report filed to an officer against wayne parris dob    from brittany j parris the paperwork i have has a case number d  it is also stamped at the bottom with   iím not sure which number you will need if there is any other information needed please let me know</td>\n",
       "      <td>[police, report, filed, to, an, officer, against, wayne, parris, dob, from, brittany, j, parris, the, paperwork, i, have, has, a, case, number, d, it, is, also, stamped, at, the, bottom, with, iím, not, sure, which, number, you, will, need, if, there, is, any, other, information, needed, please, let, me, know]</td>\n",
       "      <td>[(police, NNS), (report, NN), (filed, VBD), (to, TO), (an, DT), (officer, NN), (against, IN), (wayne, JJ), (parris, JJ), (dob, NN), (from, IN), (brittany, JJ), (j, NN), (parris, VBD), (the, DT), (paperwork, NN), (i, NN), (have, VBP), (has, VBZ), (a, DT), (case, NN), (number, NN), (d, NN), (it, PRP), (is, VBZ), (also, RB), (stamped, VBN), (at, IN), (the, DT), (bottom, NN), (with, IN), (iím, JJ), (not, RB), (sure, JJ), (which, WDT), (number, NN), (you, PRP), (will, MD), (need, VB), (if, IN), (there, EX), (is, VBZ), (any, DT), (other, JJ), (information, NN), (needed, VBN), (please, NN), (let, VB), (me, PRP), (know, VB)]</td>\n",
       "      <td>[police, officer, wayne, parris, dob, brittany, parris, paperwork, case, number, stamp, bottom, iím, sure, number]</td>\n",
       "      <td>17</td>\n",
       "      <td>['police_report', 'report_file', 'file_officer', 'officer_wayne', 'wayne_parris', 'parris_dob', 'dob_brittany', 'brittany_j', 'j_parris', 'parris_paperwork', 'paperwork_case', 'case_number', 'number_also', 'also_stamp', 'stamp_bottom', 'bottom_iím', 'iím_sure', 'sure_number', 'number_need', 'need_information', 'information_need', 'need_please', 'please_let', 'let_know']</td>\n",
       "      <td>['police_report', 'case_number']</td>\n",
       "      <td>[police, officer, wayne, parris, dob, brittany, parris, paperwork, case, number, stamp, bottom, iím, sure, number, police_report, case_number]</td>\n",
       "    </tr>\n",
       "    <tr>\n",
       "      <th>4</th>\n",
       "      <td>4</td>\n",
       "      <td>Email Communications between Stephanie Shook, Dave Kraski, Bruce Stedman and Chad Schmidt in regards to Fire Protection District 21 billing and passage of contract for ALS Services. \\n\\nAlso any copies of Agenda Bills, D21 Contract and materials presented for review in Nov/Dec time frame in regards to the contract.</td>\n",
       "      <td>Arlington</td>\n",
       "      <td>2018-06</td>\n",
       "      <td>email communications between stephanie shook dave kraski bruce stedman and chad schmidt in regards to fire protection district  billing and passage of contract for als services \\n\\nalso any copies of agenda bills d contract and materials presented for review in nov dec time frame in regards to the contract</td>\n",
       "      <td>[email, communications, between, stephanie, shook, dave, kraski, bruce, stedman, and, chad, schmidt, in, regards, to, fire, protection, district, billing, and, passage, of, contract, for, als, services, also, any, copies, of, agenda, bills, d, contract, and, materials, presented, for, review, in, nov, dec, time, frame, in, regards, to, the, contract]</td>\n",
       "      <td>[(email, NN), (communications, NNS), (between, IN), (stephanie, JJ), (shook, NN), (dave, VBP), (kraski, VBN), (bruce, NN), (stedman, NN), (and, CC), (chad, VBD), (schmidt, VBN), (in, IN), (regards, NNS), (to, TO), (fire, VB), (protection, NN), (district, NN), (billing, NN), (and, CC), (passage, NN), (of, IN), (contract, NN), (for, IN), (als, NNS), (services, NNS), (also, RB), (any, DT), (copies, NNS), (of, IN), (agenda, NN), (bills, NNS), (d, VBP), (contract, NN), (and, CC), (materials, NNS), (presented, VBN), (for, IN), (review, NN), (in, IN), (nov, JJ), (dec, NN), (time, NN), (frame, NN), (in, IN), (regards, NNS), (to, TO), (the, DT), (contract, NN)]</td>\n",
       "      <td>[email, communication, stephanie, shook, dave, kraski, bruce, stedman, chad, schmidt, fire, protection, district, billing, passage, contract, al, service, agenda, bill, contract, material, present, review, time, frame, contract]</td>\n",
       "      <td>27</td>\n",
       "      <td>['email_communication', 'communication_stephanie', 'stephanie_shook', 'shook_dave', 'dave_kraski', 'kraski_bruce', 'bruce_stedman', 'stedman_chad', 'chad_schmidt', 'schmidt_regard', 'regard_fire', 'fire_protection', 'protection_district', 'district_billing', 'billing_passage', 'passage_contract', 'contract_al', 'al_service', 'service_also', 'also_copy', 'copy_agenda', 'agenda_bill', 'bill_contract', 'contract_material', 'material_present', 'present_review', 'review_nov', 'nov_dec', 'dec_time', 'time_frame', 'frame_regard', 'regard_contract']</td>\n",
       "      <td>[]</td>\n",
       "      <td>[email, communication, stephanie, shook, dave, kraski, bruce, stedman, chad, schmidt, fire, protection, district, billing, passage, contract, al, service, agenda, bill, contract, material, present, review, time, frame, contract]</td>\n",
       "    </tr>\n",
       "  </tbody>\n",
       "</table>\n",
       "</div>"
      ],
      "text/plain": [
       "   index                                                                                                                                                                                                                                                                                                                                                                                                                                                                                Summary       city month_year                                                                                                                                                                                                                                                                                                                                                                                                                                                        sum_ed  \\\n",
       "0      0  We are working with an engineering firm on an upcoming project.  They have asked us to gather maps for this project.  Would you be able to assist me in gathering maps/records (as builds) for any underground water facilities you may have?  Something just showing the route of the water lines would do.\\n\\n207th ST NE to 92nd Ave NE, Arlington, Cascade Surveying & Engineering \\n\\nI have attached the scope for your convenience.  Please let me know if you have questions.  Arlington    2018-06  we are working with an engineering firm on an upcoming project  they have asked us to gather maps for this project  would you be able to assist me in gathering maps records as builds for any underground water facilities you may have  something just showing the route of the water lines would do\\n\\nth st ne to nd ave ne  cascade surveying  engineering \\n\\ni have attached the scope for your convenience  please let me know if you have questions   \n",
       "1      1                                                                                                                                                                                                                                                   Need copies of contracts and all related documents pertaining to Topcub Aircraft property located at 17922 59th DR NE Arlington WA 98223 between Arlington Airport, Topcub Aircraft, City of Arlington, HCI Steel Buildings and PUD.  Arlington    2018-06                                                                                                                                                                                                                                                                         need copies of contracts and all related documents pertaining to topcub aircraft property located at  th dr ne  wa  between  airport topcub aircraft  of  hci steel buildings and pud   \n",
       "2      2                                                                                                                                                                                                                                       Copies of Building Permits of $5,000 valuation and up ($20,000 min for Re-Roofs), ($50,000 min. for Cell Tower upgrades), (Electrical, Mechanical & Plumbing at $100,000 min.) and (Solar Panels, Swimming Pools & Foundations at any valuation)  Arlington    2018-06                                                                                                                                                                                                                                                          copies of building permits of  valuation and up  min for re roofs  min for cell tower upgrades electrical mechanical  plumbing at  min and solar panels swimming pools  foundations at any valuation   \n",
       "3      3                                                                                                                                                                                    police report filed to an officer against Wayne Parris (DOB 08-03-1957) from Brittany J. Parris. The paperwork I have has a case number D18-39 it is also stamped at the bottom with 18-1294, Iím not sure which number you will need. If there is any other information needed please let me know.  Arlington    2018-06                                                                                                                                                                                    police report filed to an officer against wayne parris dob    from brittany j parris the paperwork i have has a case number d  it is also stamped at the bottom with   iím not sure which number you will need if there is any other information needed please let me know   \n",
       "4      4                                                                                                                                                           Email Communications between Stephanie Shook, Dave Kraski, Bruce Stedman and Chad Schmidt in regards to Fire Protection District 21 billing and passage of contract for ALS Services. \\n\\nAlso any copies of Agenda Bills, D21 Contract and materials presented for review in Nov/Dec time frame in regards to the contract.  Arlington    2018-06                                                                                                                                           email communications between stephanie shook dave kraski bruce stedman and chad schmidt in regards to fire protection district  billing and passage of contract for als services \\n\\nalso any copies of agenda bills d contract and materials presented for review in nov dec time frame in regards to the contract   \n",
       "\n",
       "                                                                                                                                                                                                                                                                                                                                                                                                                                                                                                                             token  \\\n",
       "0  [we, are, working, with, an, engineering, firm, on, an, upcoming, project, they, have, asked, us, to, gather, maps, for, this, project, would, you, be, able, to, assist, me, in, gathering, maps, records, as, builds, for, any, underground, water, facilities, you, may, have, something, just, showing, the, route, of, the, water, lines, would, do, th, st, ne, to, nd, ave, ne, cascade, surveying, engineering, i, have, attached, the, scope, for, your, convenience, please, let, me, know, if, you, have, questions]   \n",
       "1                                                                                                                                                                                                                                                                                                                    [need, copies, of, contracts, and, all, related, documents, pertaining, to, topcub, aircraft, property, located, at, th, dr, ne, wa, between, airport, topcub, aircraft, of, hci, steel, buildings, and, pud]   \n",
       "2                                                                                                                                                                                                                                                                                                   [copies, of, building, permits, of, valuation, and, up, min, for, re, roofs, min, for, cell, tower, upgrades, electrical, mechanical, plumbing, at, min, and, solar, panels, swimming, pools, foundations, at, any, valuation]   \n",
       "3                                                                                                                                                                                                          [police, report, filed, to, an, officer, against, wayne, parris, dob, from, brittany, j, parris, the, paperwork, i, have, has, a, case, number, d, it, is, also, stamped, at, the, bottom, with, iím, not, sure, which, number, you, will, need, if, there, is, any, other, information, needed, please, let, me, know]   \n",
       "4                                                                                                                                                                 [email, communications, between, stephanie, shook, dave, kraski, bruce, stedman, and, chad, schmidt, in, regards, to, fire, protection, district, billing, and, passage, of, contract, for, als, services, also, any, copies, of, agenda, bills, d, contract, and, materials, presented, for, review, in, nov, dec, time, frame, in, regards, to, the, contract]   \n",
       "\n",
       "                                                                                                                                                                                                                                                                                                                                                                                                                                                                                                                                                                                                                                                                                                                                                                                                                                                                                                                                                                                                                                     lemma  \\\n",
       "0  [(we, PRP), (are, VBP), (working, VBG), (with, IN), (an, DT), (engineering, NN), (firm, NN), (on, IN), (an, DT), (upcoming, JJ), (project, NN), (they, PRP), (have, VBP), (asked, VBN), (us, PRP), (to, TO), (gather, VB), (maps, NNS), (for, IN), (this, DT), (project, NN), (would, MD), (you, PRP), (be, VB), (able, JJ), (to, TO), (assist, VB), (me, PRP), (in, IN), (gathering, VBG), (maps, NNS), (records, NNS), (as, IN), (builds, NNS), (for, IN), (any, DT), (underground, JJ), (water, NN), (facilities, NNS), (you, PRP), (may, MD), (have, VB), (something, NN), (just, RB), (showing, VBG), (the, DT), (route, NN), (of, IN), (the, DT), (water, NN), (lines, NNS), (would, MD), (do, VB), (th, VB), (st, VB), (ne, JJ), (to, TO), (nd, VB), (ave, VB), (ne, JJ), (cascade, NN), (surveying, VBG), (engineering, NN), (i, NN), (have, VBP), (attached, VBN), (the, DT), (scope, NN), (for, IN), (your, PRP$), (convenience, NN), (please, NN), (let, VB), (me, PRP), (know, VB), (if, IN), (you, PRP), (have, VBP), (...   \n",
       "1                                                                                                                                                                                                                                                                                                                                                                                                                                                                                                                                                                                                                                        [(need, NN), (copies, NNS), (of, IN), (contracts, NNS), (and, CC), (all, DT), (related, JJ), (documents, NNS), (pertaining, VBG), (to, TO), (topcub, VB), (aircraft, NN), (property, NN), (located, VBN), (at, IN), (th, NN), (dr, NN), (ne, JJ), (wa, NN), (between, IN), (airport, NN), (topcub, NN), (aircraft, NN), (of, IN), (hci, NN), (steel, NN), (buildings, NNS), (and, CC), (pud, NN)]   \n",
       "2                                                                                                                                                                                                                                                                                                                                                                                                                                                                                                                                                                                                         [(copies, NNS), (of, IN), (building, VBG), (permits, NNS), (of, IN), (valuation, NN), (and, CC), (up, RB), (min, NN), (for, IN), (re, NN), (roofs, NNS), (min, VBP), (for, IN), (cell, NN), (tower, NN), (upgrades, JJ), (electrical, JJ), (mechanical, JJ), (plumbing, NN), (at, IN), (min, NN), (and, CC), (solar, JJ), (panels, NNS), (swimming, VBG), (pools, JJ), (foundations, NNS), (at, IN), (any, DT), (valuation, NN)]   \n",
       "3                                                                                                                                                                                                                                                                                                                                                                                         [(police, NNS), (report, NN), (filed, VBD), (to, TO), (an, DT), (officer, NN), (against, IN), (wayne, JJ), (parris, JJ), (dob, NN), (from, IN), (brittany, JJ), (j, NN), (parris, VBD), (the, DT), (paperwork, NN), (i, NN), (have, VBP), (has, VBZ), (a, DT), (case, NN), (number, NN), (d, NN), (it, PRP), (is, VBZ), (also, RB), (stamped, VBN), (at, IN), (the, DT), (bottom, NN), (with, IN), (iím, JJ), (not, RB), (sure, JJ), (which, WDT), (number, NN), (you, PRP), (will, MD), (need, VB), (if, IN), (there, EX), (is, VBZ), (any, DT), (other, JJ), (information, NN), (needed, VBN), (please, NN), (let, VB), (me, PRP), (know, VB)]   \n",
       "4                                                                                                                                                                                                                                                                                                                                                     [(email, NN), (communications, NNS), (between, IN), (stephanie, JJ), (shook, NN), (dave, VBP), (kraski, VBN), (bruce, NN), (stedman, NN), (and, CC), (chad, VBD), (schmidt, VBN), (in, IN), (regards, NNS), (to, TO), (fire, VB), (protection, NN), (district, NN), (billing, NN), (and, CC), (passage, NN), (of, IN), (contract, NN), (for, IN), (als, NNS), (services, NNS), (also, RB), (any, DT), (copies, NNS), (of, IN), (agenda, NN), (bills, NNS), (d, VBP), (contract, NN), (and, CC), (materials, NNS), (presented, VBN), (for, IN), (review, NN), (in, IN), (nov, JJ), (dec, NN), (time, NN), (frame, NN), (in, IN), (regards, NNS), (to, TO), (the, DT), (contract, NN)]   \n",
       "\n",
       "                                                                                                                                                                                                                                   mash  mash_len                                                                                                                                                                                                                                                                                                                                                                                                                                                                                                                                                                                                                                                                         bigrams                    common_bigrams  \\\n",
       "0           [work, engineering, firm, upcoming, project, gather, map, project, assist, gather, map, build, underground, water, facility, something, show, route, water, line, cascade, survey, engineering, attach, scope, convenience]        26  ['work_engineering', 'engineering_firm', 'firm_upcoming', 'upcoming_project', 'project_ask', 'ask_u', 'u_gather', 'gather_map', 'map_project', 'project_would', 'would_able', 'able_assist', 'assist_gather', 'gather_map', 'map_record', 'record_build', 'build_underground', 'underground_water', 'water_facility', 'facility_may', 'may_something', 'something_show', 'show_route', 'route_water', 'water_line', 'line_would', 'would_th', 'th_st', 'st_ne', 'ne_nd', 'nd_ave', 'ave_ne', 'ne_cascade', 'cascade_survey', 'survey_engineering', 'engineering_attach', 'attach_scope', 'scope_convenience', 'convenience_please', 'please_let', 'let_know', 'know_question']                                []   \n",
       "1                                                                                                                [contract, related, pertain, topcub, aircraft, property, locate, airport, topcub, aircraft, hci, steel, building, pud]        15                                                                                                                                                                                                                                                                                                                                               ['need_copy', 'copy_contract', 'contract_related', 'related_document', 'document_pertain', 'pertain_topcub', 'topcub_aircraft', 'aircraft_property', 'property_locate', 'locate_th', 'th_dr', 'dr_ne', 'ne_wa', 'wa_airport', 'airport_topcub', 'topcub_aircraft', 'aircraft_hci', 'hci_steel', 'steel_building', 'building_pud']               ['property_locate']   \n",
       "2                                                                            [build, permit, valuation, min, roof, min, cell, tower, upgrades, electrical, mechanical, plumbing, min, solar, panel, swim, pools, foundation, valuation]        19                                                                                                                                                                                                                                                                                                                                              ['copy_build', 'build_permit', 'permit_valuation', 'valuation_min', 'min_roof', 'roof_min', 'min_cell', 'cell_tower', 'tower_upgrades', 'upgrades_electrical', 'electrical_mechanical', 'mechanical_plumbing', 'plumbing_min', 'min_solar', 'solar_panel', 'panel_swim', 'swim_pools', 'pools_foundation', 'foundation_valuation']                                []   \n",
       "3                                                                                                                    [police, officer, wayne, parris, dob, brittany, parris, paperwork, case, number, stamp, bottom, iím, sure, number]        17                                                                                                                                                                                                                                                                                            ['police_report', 'report_file', 'file_officer', 'officer_wayne', 'wayne_parris', 'parris_dob', 'dob_brittany', 'brittany_j', 'j_parris', 'parris_paperwork', 'paperwork_case', 'case_number', 'number_also', 'also_stamp', 'stamp_bottom', 'bottom_iím', 'iím_sure', 'sure_number', 'number_need', 'need_information', 'information_need', 'need_please', 'please_let', 'let_know']  ['police_report', 'case_number']   \n",
       "4  [email, communication, stephanie, shook, dave, kraski, bruce, stedman, chad, schmidt, fire, protection, district, billing, passage, contract, al, service, agenda, bill, contract, material, present, review, time, frame, contract]        27                                                                                                             ['email_communication', 'communication_stephanie', 'stephanie_shook', 'shook_dave', 'dave_kraski', 'kraski_bruce', 'bruce_stedman', 'stedman_chad', 'chad_schmidt', 'schmidt_regard', 'regard_fire', 'fire_protection', 'protection_district', 'district_billing', 'billing_passage', 'passage_contract', 'contract_al', 'al_service', 'service_also', 'also_copy', 'copy_agenda', 'agenda_bill', 'bill_contract', 'contract_material', 'material_present', 'present_review', 'review_nov', 'nov_dec', 'dec_time', 'time_frame', 'frame_regard', 'regard_contract']                                []   \n",
       "\n",
       "                                                                                                                                                                                                                             final_mash  \n",
       "0           [work, engineering, firm, upcoming, project, gather, map, project, assist, gather, map, build, underground, water, facility, something, show, route, water, line, cascade, survey, engineering, attach, scope, convenience]  \n",
       "1                                                                                               [contract, related, pertain, topcub, aircraft, property, locate, airport, topcub, aircraft, hci, steel, building, pud, property_locate]  \n",
       "2                                                                            [build, permit, valuation, min, roof, min, cell, tower, upgrades, electrical, mechanical, plumbing, min, solar, panel, swim, pools, foundation, valuation]  \n",
       "3                                                                                        [police, officer, wayne, parris, dob, brittany, parris, paperwork, case, number, stamp, bottom, iím, sure, number, police_report, case_number]  \n",
       "4  [email, communication, stephanie, shook, dave, kraski, bruce, stedman, chad, schmidt, fire, protection, district, billing, passage, contract, al, service, agenda, bill, contract, material, present, review, time, frame, contract]  "
      ]
     },
     "execution_count": 39,
     "metadata": {},
     "output_type": "execute_result"
    }
   ],
   "source": []
  },
  {
   "cell_type": "code",
   "execution_count": 42,
   "metadata": {
    "collapsed": true
   },
   "outputs": [],
   "source": []
  },
  {
   "cell_type": "code",
   "execution_count": 43,
   "metadata": {},
   "outputs": [
    {
     "data": {
      "text/html": [
       "<div>\n",
       "<style scoped>\n",
       "    .dataframe tbody tr th:only-of-type {\n",
       "        vertical-align: middle;\n",
       "    }\n",
       "\n",
       "    .dataframe tbody tr th {\n",
       "        vertical-align: top;\n",
       "    }\n",
       "\n",
       "    .dataframe thead th {\n",
       "        text-align: right;\n",
       "    }\n",
       "</style>\n",
       "<table border=\"1\" class=\"dataframe\">\n",
       "  <thead>\n",
       "    <tr style=\"text-align: right;\">\n",
       "      <th></th>\n",
       "      <th>index</th>\n",
       "      <th>Summary</th>\n",
       "      <th>city</th>\n",
       "      <th>month_year</th>\n",
       "      <th>sum_ed</th>\n",
       "      <th>token</th>\n",
       "      <th>lemma</th>\n",
       "      <th>mash</th>\n",
       "      <th>mash_len</th>\n",
       "      <th>bigrams</th>\n",
       "      <th>common_bigrams</th>\n",
       "      <th>final_mash</th>\n",
       "      <th>tags</th>\n",
       "      <th>tags2</th>\n",
       "    </tr>\n",
       "  </thead>\n",
       "  <tbody>\n",
       "    <tr>\n",
       "      <th>0</th>\n",
       "      <td>0</td>\n",
       "      <td>We are working with an engineering firm on an upcoming project.  They have asked us to gather maps for this project.  Would you be able to assist me in gathering maps/records (as builds) for any underground water facilities you may have?  Something just showing the route of the water lines would do.\\n\\n207th ST NE to 92nd Ave NE, Arlington, Cascade Surveying &amp; Engineering \\n\\nI have attached the scope for your convenience.  Please let me know if you have questions.</td>\n",
       "      <td>Arlington</td>\n",
       "      <td>2018-06</td>\n",
       "      <td>we are working with an engineering firm on an upcoming project  they have asked us to gather maps for this project  would you be able to assist me in gathering maps records as builds for any underground water facilities you may have  something just showing the route of the water lines would do\\n\\nth st ne to nd ave ne  cascade surveying  engineering \\n\\ni have attached the scope for your convenience  please let me know if you have questions</td>\n",
       "      <td>[we, are, working, with, an, engineering, firm, on, an, upcoming, project, they, have, asked, us, to, gather, maps, for, this, project, would, you, be, able, to, assist, me, in, gathering, maps, records, as, builds, for, any, underground, water, facilities, you, may, have, something, just, showing, the, route, of, the, water, lines, would, do, th, st, ne, to, nd, ave, ne, cascade, surveying, engineering, i, have, attached, the, scope, for, your, convenience, please, let, me, know, if, you, have, questions]</td>\n",
       "      <td>[('we', 'PRP'), ('are', 'VBP'), ('working', 'VBG'), ('with', 'IN'), ('an', 'DT'), ('engineering', 'NN'), ('firm', 'NN'), ('on', 'IN'), ('an', 'DT'), ('upcoming', 'JJ'), ('project', 'NN'), ('they', 'PRP'), ('have', 'VBP'), ('asked', 'VBN'), ('us', 'PRP'), ('to', 'TO'), ('gather', 'VB'), ('maps', 'NNS'), ('for', 'IN'), ('this', 'DT'), ('project', 'NN'), ('would', 'MD'), ('you', 'PRP'), ('be', 'VB'), ('able', 'JJ'), ('to', 'TO'), ('assist', 'VB'), ('me', 'PRP'), ('in', 'IN'), ('gathering', 'VBG'), ('maps', 'NNS'), ('records', 'NNS'), ('as', 'IN'), ('builds', 'NNS'), ('for', 'IN'), ('any', 'DT'), ('underground', 'JJ'), ('water', 'NN'), ('facilities', 'NNS'), ('you', 'PRP'), ('may', 'MD'), ('have', 'VB'), ('something', 'NN'), ('just', 'RB'), ('showing', 'VBG'), ('the', 'DT'), ('route', 'NN'), ('of', 'IN'), ('the', 'DT'), ('water', 'NN'), ('lines', 'NNS'), ('would', 'MD'), ('do', 'VB'), ('th', 'VB'), ('st', 'VB'), ('ne', 'JJ'), ('to', 'TO'), ('nd', 'VB'), ('ave', 'VB'), ('ne', 'JJ'), ('c...</td>\n",
       "      <td>[work, engineering, firm, upcoming, project, gather, map, project, assist, gather, map, build, underground, water, facility, something, show, route, water, line, cascade, survey, engineering, attach, scope, convenience]</td>\n",
       "      <td>26</td>\n",
       "      <td>['work_engineering', 'engineering_firm', 'firm_upcoming', 'upcoming_project', 'project_ask', 'ask_u', 'u_gather', 'gather_map', 'map_project', 'project_would', 'would_able', 'able_assist', 'assist_gather', 'gather_map', 'map_record', 'record_build', 'build_underground', 'underground_water', 'water_facility', 'facility_may', 'may_something', 'something_show', 'show_route', 'route_water', 'water_line', 'line_would', 'would_th', 'th_st', 'st_ne', 'ne_nd', 'nd_ave', 'ave_ne', 'ne_cascade', 'cascade_survey', 'survey_engineering', 'engineering_attach', 'attach_scope', 'scope_convenience', 'convenience_please', 'please_let', 'let_know', 'know_question']</td>\n",
       "      <td>[]</td>\n",
       "      <td>[work, engineering, firm, upcoming, project, gather, map, project, assist, gather, map, build, underground, water, facility, something, show, route, water, line, cascade, survey, engineering, attach, scope, convenience]</td>\n",
       "      <td>[(We, PRP), (are, VBP), (working, VBG), (with, IN), (an, DT), (engineering, NN), (firm, NN), (on, IN), (an, DT), (upcoming, JJ), (project., NN), (They, PRP), (have, VBP), (asked, VBN), (us, PRP), (to, TO), (gather, VB), (maps, NNS), (for, IN), (this, DT), (project., NN), (Would, MD), (you, PRP), (be, VB), (able, JJ), (to, TO), (assist, VB), (me, PRP), (in, IN), (gathering, VBG), (maps/records, NNS), ((as, NNP), (builds), NN), (for, IN), (any, DT), (underground, JJ), (water, NN), (facilities, NNS), (you, PRP), (may, MD), (have?, VB), (Something, VBG), (just, RB), (showing, VBG), (the, DT), (route, NN), (of, IN), (the, DT), (water, NN), (lines, NNS), (would, MD), (do., VB), (207th, CD), (ST, NNP), (NE, NNP), (to, TO), (92nd, CD), (Ave, NNP), (NE,, NNP), (Arlington,, NNP), (Cascade, NNP), (Surveying, NNP), (&amp;, CC), (Engineering, NNP), (I, PRP), (have, VBP), (attached, VBN), (the, DT), (scope, NN), (for, IN), (your, PRP$), (convenience., JJ), (Please, NNP), (let, VB), (me, PRP), (know,...</td>\n",
       "      <td>[(we, PRP), (are, VBP), (working, VBG), (with, IN), (an, DT), (engineering, NN), (firm, NN), (on, IN), (an, DT), (upcoming, JJ), (project, NN), (they, PRP), (have, VBP), (asked, VBN), (us, PRP), (to, TO), (gather, VB), (maps, NNS), (for, IN), (this, DT), (project, NN), (would, MD), (you, PRP), (be, VB), (able, JJ), (to, TO), (assist, VB), (me, PRP), (in, IN), (gathering, VBG), (maps, NNS), (records, NNS), (as, IN), (builds, NNS), (for, IN), (any, DT), (underground, JJ), (water, NN), (facilities, NNS), (you, PRP), (may, MD), (have, VB), (something, NN), (just, RB), (showing, VBG), (the, DT), (route, NN), (of, IN), (the, DT), (water, NN), (lines, NNS), (would, MD), (do, VB), (th, VB), (st, VB), (ne, JJ), (to, TO), (nd, VB), (ave, VB), (ne, JJ), (cascade, NN), (surveying, VBG), (engineering, NN), (i, NN), (have, VBP), (attached, VBN), (the, DT), (scope, NN), (for, IN), (your, PRP$), (convenience, NN), (please, NN), (let, VB), (me, PRP), (know, VB), (if, IN), (you, PRP), (have, VBP), (...</td>\n",
       "    </tr>\n",
       "    <tr>\n",
       "      <th>1</th>\n",
       "      <td>1</td>\n",
       "      <td>Need copies of contracts and all related documents pertaining to Topcub Aircraft property located at 17922 59th DR NE Arlington WA 98223 between Arlington Airport, Topcub Aircraft, City of Arlington, HCI Steel Buildings and PUD.</td>\n",
       "      <td>Arlington</td>\n",
       "      <td>2018-06</td>\n",
       "      <td>need copies of contracts and all related documents pertaining to topcub aircraft property located at  th dr ne  wa  between  airport topcub aircraft  of  hci steel buildings and pud</td>\n",
       "      <td>[need, copies, of, contracts, and, all, related, documents, pertaining, to, topcub, aircraft, property, located, at, th, dr, ne, wa, between, airport, topcub, aircraft, of, hci, steel, buildings, and, pud]</td>\n",
       "      <td>[('need', 'NN'), ('copies', 'NNS'), ('of', 'IN'), ('contracts', 'NNS'), ('and', 'CC'), ('all', 'DT'), ('related', 'JJ'), ('documents', 'NNS'), ('pertaining', 'VBG'), ('to', 'TO'), ('topcub', 'VB'), ('aircraft', 'NN'), ('property', 'NN'), ('located', 'VBN'), ('at', 'IN'), ('th', 'NN'), ('dr', 'NN'), ('ne', 'JJ'), ('wa', 'NN'), ('between', 'IN'), ('airport', 'NN'), ('topcub', 'NN'), ('aircraft', 'NN'), ('of', 'IN'), ('hci', 'NN'), ('steel', 'NN'), ('buildings', 'NNS'), ('and', 'CC'), ('pud', 'NN')]</td>\n",
       "      <td>[contract, related, pertain, topcub, aircraft, property, locate, airport, topcub, aircraft, hci, steel, building, pud]</td>\n",
       "      <td>15</td>\n",
       "      <td>['need_copy', 'copy_contract', 'contract_related', 'related_document', 'document_pertain', 'pertain_topcub', 'topcub_aircraft', 'aircraft_property', 'property_locate', 'locate_th', 'th_dr', 'dr_ne', 'ne_wa', 'wa_airport', 'airport_topcub', 'topcub_aircraft', 'aircraft_hci', 'hci_steel', 'steel_building', 'building_pud']</td>\n",
       "      <td>['property_locate']</td>\n",
       "      <td>[contract, related, pertain, topcub, aircraft, property, locate, airport, topcub, aircraft, hci, steel, building, pud, property_locate]</td>\n",
       "      <td>[(Need, NNP), (copies, NNS), (of, IN), (contracts, NNS), (and, CC), (all, DT), (related, JJ), (documents, NNS), (pertaining, VBG), (to, TO), (Topcub, NNP), (Aircraft, NNP), (property, NN), (located, VBN), (at, IN), (17922, CD), (59th, CD), (DR, NNP), (NE, NNP), (Arlington, NNP), (WA, NNP), (98223, CD), (between, IN), (Arlington, NNP), (Airport,, NNP), (Topcub, NNP), (Aircraft,, NNP), (City, NNP), (of, IN), (Arlington,, NNP), (HCI, NNP), (Steel, NNP), (Buildings, NNS), (and, CC), (PUD., NNP)]</td>\n",
       "      <td>[(need, NN), (copies, NNS), (of, IN), (contracts, NNS), (and, CC), (all, DT), (related, JJ), (documents, NNS), (pertaining, VBG), (to, TO), (topcub, VB), (aircraft, NN), (property, NN), (located, VBN), (at, IN), (th, NN), (dr, NN), (ne, JJ), (wa, NN), (between, IN), (airport, NN), (topcub, NN), (aircraft, NN), (of, IN), (hci, NN), (steel, NN), (buildings, NNS), (and, CC), (pud, NN)]</td>\n",
       "    </tr>\n",
       "    <tr>\n",
       "      <th>2</th>\n",
       "      <td>2</td>\n",
       "      <td>Copies of Building Permits of $5,000 valuation and up ($20,000 min for Re-Roofs), ($50,000 min. for Cell Tower upgrades), (Electrical, Mechanical &amp; Plumbing at $100,000 min.) and (Solar Panels, Swimming Pools &amp; Foundations at any valuation)</td>\n",
       "      <td>Arlington</td>\n",
       "      <td>2018-06</td>\n",
       "      <td>copies of building permits of  valuation and up  min for re roofs  min for cell tower upgrades electrical mechanical  plumbing at  min and solar panels swimming pools  foundations at any valuation</td>\n",
       "      <td>[copies, of, building, permits, of, valuation, and, up, min, for, re, roofs, min, for, cell, tower, upgrades, electrical, mechanical, plumbing, at, min, and, solar, panels, swimming, pools, foundations, at, any, valuation]</td>\n",
       "      <td>[('copies', 'NNS'), ('of', 'IN'), ('building', 'VBG'), ('permits', 'NNS'), ('of', 'IN'), ('valuation', 'NN'), ('and', 'CC'), ('up', 'RB'), ('min', 'NN'), ('for', 'IN'), ('re', 'NN'), ('roofs', 'NNS'), ('min', 'VBP'), ('for', 'IN'), ('cell', 'NN'), ('tower', 'NN'), ('upgrades', 'JJ'), ('electrical', 'JJ'), ('mechanical', 'JJ'), ('plumbing', 'NN'), ('at', 'IN'), ('min', 'NN'), ('and', 'CC'), ('solar', 'JJ'), ('panels', 'NNS'), ('swimming', 'VBG'), ('pools', 'JJ'), ('foundations', 'NNS'), ('at', 'IN'), ('any', 'DT'), ('valuation', 'NN')]</td>\n",
       "      <td>[build, permit, valuation, min, roof, min, cell, tower, upgrades, electrical, mechanical, plumbing, min, solar, panel, swim, pools, foundation, valuation]</td>\n",
       "      <td>19</td>\n",
       "      <td>['copy_build', 'build_permit', 'permit_valuation', 'valuation_min', 'min_roof', 'roof_min', 'min_cell', 'cell_tower', 'tower_upgrades', 'upgrades_electrical', 'electrical_mechanical', 'mechanical_plumbing', 'plumbing_min', 'min_solar', 'solar_panel', 'panel_swim', 'swim_pools', 'pools_foundation', 'foundation_valuation']</td>\n",
       "      <td>[]</td>\n",
       "      <td>[build, permit, valuation, min, roof, min, cell, tower, upgrades, electrical, mechanical, plumbing, min, solar, panel, swim, pools, foundation, valuation]</td>\n",
       "      <td>[(Copies, NNS), (of, IN), (Building, NNP), (Permits, NNP), (of, IN), ($5,000, NNP), (valuation, NN), (and, CC), (up, RB), (($20,000, CD), (min, NNS), (for, IN), (Re-Roofs),, NNP), (($50,000, NNP), (min., NN), (for, IN), (Cell, NNP), (Tower, NNP), (upgrades),, JJ), ((Electrical,, NNP), (Mechanical, NNP), (&amp;, CC), (Plumbing, NNP), (at, IN), ($100,000, NNP), (min.), NN), (and, CC), ((Solar, JJ), (Panels,, NNP), (Swimming, NNP), (Pools, NNP), (&amp;, CC), (Foundations, NNP), (at, IN), (any, DT), (valuation), NN)]</td>\n",
       "      <td>[(copies, NNS), (of, IN), (building, VBG), (permits, NNS), (of, IN), (valuation, NN), (and, CC), (up, RB), (min, NN), (for, IN), (re, NN), (roofs, NNS), (min, VBP), (for, IN), (cell, NN), (tower, NN), (upgrades, JJ), (electrical, JJ), (mechanical, JJ), (plumbing, NN), (at, IN), (min, NN), (and, CC), (solar, JJ), (panels, NNS), (swimming, VBG), (pools, JJ), (foundations, NNS), (at, IN), (any, DT), (valuation, NN)]</td>\n",
       "    </tr>\n",
       "    <tr>\n",
       "      <th>3</th>\n",
       "      <td>3</td>\n",
       "      <td>police report filed to an officer against Wayne Parris (DOB 08-03-1957) from Brittany J. Parris. The paperwork I have has a case number D18-39 it is also stamped at the bottom with 18-1294, Iím not sure which number you will need. If there is any other information needed please let me know.</td>\n",
       "      <td>Arlington</td>\n",
       "      <td>2018-06</td>\n",
       "      <td>police report filed to an officer against wayne parris dob    from brittany j parris the paperwork i have has a case number d  it is also stamped at the bottom with   iím not sure which number you will need if there is any other information needed please let me know</td>\n",
       "      <td>[police, report, filed, to, an, officer, against, wayne, parris, dob, from, brittany, j, parris, the, paperwork, i, have, has, a, case, number, d, it, is, also, stamped, at, the, bottom, with, iím, not, sure, which, number, you, will, need, if, there, is, any, other, information, needed, please, let, me, know]</td>\n",
       "      <td>[('police', 'NNS'), ('report', 'NN'), ('filed', 'VBD'), ('to', 'TO'), ('an', 'DT'), ('officer', 'NN'), ('against', 'IN'), ('wayne', 'JJ'), ('parris', 'JJ'), ('dob', 'NN'), ('from', 'IN'), ('brittany', 'JJ'), ('j', 'NN'), ('parris', 'VBD'), ('the', 'DT'), ('paperwork', 'NN'), ('i', 'NN'), ('have', 'VBP'), ('has', 'VBZ'), ('a', 'DT'), ('case', 'NN'), ('number', 'NN'), ('d', 'NN'), ('it', 'PRP'), ('is', 'VBZ'), ('also', 'RB'), ('stamped', 'VBN'), ('at', 'IN'), ('the', 'DT'), ('bottom', 'NN'), ('with', 'IN'), ('iím', 'JJ'), ('not', 'RB'), ('sure', 'JJ'), ('which', 'WDT'), ('number', 'NN'), ('you', 'PRP'), ('will', 'MD'), ('need', 'VB'), ('if', 'IN'), ('there', 'EX'), ('is', 'VBZ'), ('any', 'DT'), ('other', 'JJ'), ('information', 'NN'), ('needed', 'VBN'), ('please', 'NN'), ('let', 'VB'), ('me', 'PRP'), ('know', 'VB')]</td>\n",
       "      <td>[police, officer, wayne, parris, dob, brittany, parris, paperwork, case, number, stamp, bottom, iím, sure, number]</td>\n",
       "      <td>17</td>\n",
       "      <td>['police_report', 'report_file', 'file_officer', 'officer_wayne', 'wayne_parris', 'parris_dob', 'dob_brittany', 'brittany_j', 'j_parris', 'parris_paperwork', 'paperwork_case', 'case_number', 'number_also', 'also_stamp', 'stamp_bottom', 'bottom_iím', 'iím_sure', 'sure_number', 'number_need', 'need_information', 'information_need', 'need_please', 'please_let', 'let_know']</td>\n",
       "      <td>['police_report', 'case_number']</td>\n",
       "      <td>[police, officer, wayne, parris, dob, brittany, parris, paperwork, case, number, stamp, bottom, iím, sure, number, police_report, case_number]</td>\n",
       "      <td>[(police, NNS), (report, NN), (filed, VBD), (to, TO), (an, DT), (officer, NN), (against, IN), (Wayne, NNP), (Parris, NNP), ((DOB, POS), (08-03-1957), NN), (from, IN), (Brittany, NNP), (J., NNP), (Parris., NNP), (The, DT), (paperwork, NN), (I, PRP), (have, VBP), (has, VBZ), (a, DT), (case, NN), (number, NN), (D18-39, NNP), (it, PRP), (is, VBZ), (also, RB), (stamped, VBN), (at, IN), (the, DT), (bottom, NN), (with, IN), (18-1294,, JJ), (Iím, NNP), (not, RB), (sure, JJ), (which, WDT), (number, NN), (you, PRP), (will, MD), (need., VB), (If, IN), (there, EX), (is, VBZ), (any, DT), (other, JJ), (information, NN), (needed, VBN), (please, NN), (let, VB), (me, PRP), (know., VB)]</td>\n",
       "      <td>[(police, NNS), (report, NN), (filed, VBD), (to, TO), (an, DT), (officer, NN), (against, IN), (wayne, JJ), (parris, JJ), (dob, NN), (from, IN), (brittany, JJ), (j, NN), (parris, VBD), (the, DT), (paperwork, NN), (i, NN), (have, VBP), (has, VBZ), (a, DT), (case, NN), (number, NN), (d, NN), (it, PRP), (is, VBZ), (also, RB), (stamped, VBN), (at, IN), (the, DT), (bottom, NN), (with, IN), (iím, JJ), (not, RB), (sure, JJ), (which, WDT), (number, NN), (you, PRP), (will, MD), (need, VB), (if, IN), (there, EX), (is, VBZ), (any, DT), (other, JJ), (information, NN), (needed, VBN), (please, NN), (let, VB), (me, PRP), (know, VB)]</td>\n",
       "    </tr>\n",
       "    <tr>\n",
       "      <th>4</th>\n",
       "      <td>4</td>\n",
       "      <td>Email Communications between Stephanie Shook, Dave Kraski, Bruce Stedman and Chad Schmidt in regards to Fire Protection District 21 billing and passage of contract for ALS Services. \\n\\nAlso any copies of Agenda Bills, D21 Contract and materials presented for review in Nov/Dec time frame in regards to the contract.</td>\n",
       "      <td>Arlington</td>\n",
       "      <td>2018-06</td>\n",
       "      <td>email communications between stephanie shook dave kraski bruce stedman and chad schmidt in regards to fire protection district  billing and passage of contract for als services \\n\\nalso any copies of agenda bills d contract and materials presented for review in nov dec time frame in regards to the contract</td>\n",
       "      <td>[email, communications, between, stephanie, shook, dave, kraski, bruce, stedman, and, chad, schmidt, in, regards, to, fire, protection, district, billing, and, passage, of, contract, for, als, services, also, any, copies, of, agenda, bills, d, contract, and, materials, presented, for, review, in, nov, dec, time, frame, in, regards, to, the, contract]</td>\n",
       "      <td>[('email', 'NN'), ('communications', 'NNS'), ('between', 'IN'), ('stephanie', 'JJ'), ('shook', 'NN'), ('dave', 'VBP'), ('kraski', 'VBN'), ('bruce', 'NN'), ('stedman', 'NN'), ('and', 'CC'), ('chad', 'VBD'), ('schmidt', 'VBN'), ('in', 'IN'), ('regards', 'NNS'), ('to', 'TO'), ('fire', 'VB'), ('protection', 'NN'), ('district', 'NN'), ('billing', 'NN'), ('and', 'CC'), ('passage', 'NN'), ('of', 'IN'), ('contract', 'NN'), ('for', 'IN'), ('als', 'NNS'), ('services', 'NNS'), ('also', 'RB'), ('any', 'DT'), ('copies', 'NNS'), ('of', 'IN'), ('agenda', 'NN'), ('bills', 'NNS'), ('d', 'VBP'), ('contract', 'NN'), ('and', 'CC'), ('materials', 'NNS'), ('presented', 'VBN'), ('for', 'IN'), ('review', 'NN'), ('in', 'IN'), ('nov', 'JJ'), ('dec', 'NN'), ('time', 'NN'), ('frame', 'NN'), ('in', 'IN'), ('regards', 'NNS'), ('to', 'TO'), ('the', 'DT'), ('contract', 'NN')]</td>\n",
       "      <td>[email, communication, stephanie, shook, dave, kraski, bruce, stedman, chad, schmidt, fire, protection, district, billing, passage, contract, al, service, agenda, bill, contract, material, present, review, time, frame, contract]</td>\n",
       "      <td>27</td>\n",
       "      <td>['email_communication', 'communication_stephanie', 'stephanie_shook', 'shook_dave', 'dave_kraski', 'kraski_bruce', 'bruce_stedman', 'stedman_chad', 'chad_schmidt', 'schmidt_regard', 'regard_fire', 'fire_protection', 'protection_district', 'district_billing', 'billing_passage', 'passage_contract', 'contract_al', 'al_service', 'service_also', 'also_copy', 'copy_agenda', 'agenda_bill', 'bill_contract', 'contract_material', 'material_present', 'present_review', 'review_nov', 'nov_dec', 'dec_time', 'time_frame', 'frame_regard', 'regard_contract']</td>\n",
       "      <td>[]</td>\n",
       "      <td>[email, communication, stephanie, shook, dave, kraski, bruce, stedman, chad, schmidt, fire, protection, district, billing, passage, contract, al, service, agenda, bill, contract, material, present, review, time, frame, contract]</td>\n",
       "      <td>[(Email, NNP), (Communications, NNP), (between, IN), (Stephanie, NNP), (Shook,, NNP), (Dave, NNP), (Kraski,, NNP), (Bruce, NNP), (Stedman, NNP), (and, CC), (Chad, NNP), (Schmidt, NNP), (in, IN), (regards, NNS), (to, TO), (Fire, NNP), (Protection, NNP), (District, NNP), (21, CD), (billing, NN), (and, CC), (passage, NN), (of, IN), (contract, NN), (for, IN), (ALS, NNP), (Services., NNP), (Also, RB), (any, DT), (copies, NNS), (of, IN), (Agenda, NNP), (Bills,, NNP), (D21, NNP), (Contract, NNP), (and, CC), (materials, NNS), (presented, VBN), (for, IN), (review, NN), (in, IN), (Nov/Dec, NNP), (time, NN), (frame, NN), (in, IN), (regards, NNS), (to, TO), (the, DT), (contract., NN)]</td>\n",
       "      <td>[(email, NN), (communications, NNS), (between, IN), (stephanie, JJ), (shook, NN), (dave, VBP), (kraski, VBN), (bruce, NN), (stedman, NN), (and, CC), (chad, VBD), (schmidt, VBN), (in, IN), (regards, NNS), (to, TO), (fire, VB), (protection, NN), (district, NN), (billing, NN), (and, CC), (passage, NN), (of, IN), (contract, NN), (for, IN), (als, NNS), (services, NNS), (also, RB), (any, DT), (copies, NNS), (of, IN), (agenda, NN), (bills, NNS), (d, VBP), (contract, NN), (and, CC), (materials, NNS), (presented, VBN), (for, IN), (review, NN), (in, IN), (nov, JJ), (dec, NN), (time, NN), (frame, NN), (in, IN), (regards, NNS), (to, TO), (the, DT), (contract, NN)]</td>\n",
       "    </tr>\n",
       "  </tbody>\n",
       "</table>\n",
       "</div>"
      ],
      "text/plain": [
       "   index                                                                                                                                                                                                                                                                                                                                                                                                                                                                                Summary       city month_year                                                                                                                                                                                                                                                                                                                                                                                                                                                        sum_ed  \\\n",
       "0      0  We are working with an engineering firm on an upcoming project.  They have asked us to gather maps for this project.  Would you be able to assist me in gathering maps/records (as builds) for any underground water facilities you may have?  Something just showing the route of the water lines would do.\\n\\n207th ST NE to 92nd Ave NE, Arlington, Cascade Surveying & Engineering \\n\\nI have attached the scope for your convenience.  Please let me know if you have questions.  Arlington    2018-06  we are working with an engineering firm on an upcoming project  they have asked us to gather maps for this project  would you be able to assist me in gathering maps records as builds for any underground water facilities you may have  something just showing the route of the water lines would do\\n\\nth st ne to nd ave ne  cascade surveying  engineering \\n\\ni have attached the scope for your convenience  please let me know if you have questions   \n",
       "1      1                                                                                                                                                                                                                                                   Need copies of contracts and all related documents pertaining to Topcub Aircraft property located at 17922 59th DR NE Arlington WA 98223 between Arlington Airport, Topcub Aircraft, City of Arlington, HCI Steel Buildings and PUD.  Arlington    2018-06                                                                                                                                                                                                                                                                         need copies of contracts and all related documents pertaining to topcub aircraft property located at  th dr ne  wa  between  airport topcub aircraft  of  hci steel buildings and pud   \n",
       "2      2                                                                                                                                                                                                                                       Copies of Building Permits of $5,000 valuation and up ($20,000 min for Re-Roofs), ($50,000 min. for Cell Tower upgrades), (Electrical, Mechanical & Plumbing at $100,000 min.) and (Solar Panels, Swimming Pools & Foundations at any valuation)  Arlington    2018-06                                                                                                                                                                                                                                                          copies of building permits of  valuation and up  min for re roofs  min for cell tower upgrades electrical mechanical  plumbing at  min and solar panels swimming pools  foundations at any valuation   \n",
       "3      3                                                                                                                                                                                    police report filed to an officer against Wayne Parris (DOB 08-03-1957) from Brittany J. Parris. The paperwork I have has a case number D18-39 it is also stamped at the bottom with 18-1294, Iím not sure which number you will need. If there is any other information needed please let me know.  Arlington    2018-06                                                                                                                                                                                    police report filed to an officer against wayne parris dob    from brittany j parris the paperwork i have has a case number d  it is also stamped at the bottom with   iím not sure which number you will need if there is any other information needed please let me know   \n",
       "4      4                                                                                                                                                           Email Communications between Stephanie Shook, Dave Kraski, Bruce Stedman and Chad Schmidt in regards to Fire Protection District 21 billing and passage of contract for ALS Services. \\n\\nAlso any copies of Agenda Bills, D21 Contract and materials presented for review in Nov/Dec time frame in regards to the contract.  Arlington    2018-06                                                                                                                                           email communications between stephanie shook dave kraski bruce stedman and chad schmidt in regards to fire protection district  billing and passage of contract for als services \\n\\nalso any copies of agenda bills d contract and materials presented for review in nov dec time frame in regards to the contract   \n",
       "\n",
       "                                                                                                                                                                                                                                                                                                                                                                                                                                                                                                                             token  \\\n",
       "0  [we, are, working, with, an, engineering, firm, on, an, upcoming, project, they, have, asked, us, to, gather, maps, for, this, project, would, you, be, able, to, assist, me, in, gathering, maps, records, as, builds, for, any, underground, water, facilities, you, may, have, something, just, showing, the, route, of, the, water, lines, would, do, th, st, ne, to, nd, ave, ne, cascade, surveying, engineering, i, have, attached, the, scope, for, your, convenience, please, let, me, know, if, you, have, questions]   \n",
       "1                                                                                                                                                                                                                                                                                                                    [need, copies, of, contracts, and, all, related, documents, pertaining, to, topcub, aircraft, property, located, at, th, dr, ne, wa, between, airport, topcub, aircraft, of, hci, steel, buildings, and, pud]   \n",
       "2                                                                                                                                                                                                                                                                                                   [copies, of, building, permits, of, valuation, and, up, min, for, re, roofs, min, for, cell, tower, upgrades, electrical, mechanical, plumbing, at, min, and, solar, panels, swimming, pools, foundations, at, any, valuation]   \n",
       "3                                                                                                                                                                                                          [police, report, filed, to, an, officer, against, wayne, parris, dob, from, brittany, j, parris, the, paperwork, i, have, has, a, case, number, d, it, is, also, stamped, at, the, bottom, with, iím, not, sure, which, number, you, will, need, if, there, is, any, other, information, needed, please, let, me, know]   \n",
       "4                                                                                                                                                                 [email, communications, between, stephanie, shook, dave, kraski, bruce, stedman, and, chad, schmidt, in, regards, to, fire, protection, district, billing, and, passage, of, contract, for, als, services, also, any, copies, of, agenda, bills, d, contract, and, materials, presented, for, review, in, nov, dec, time, frame, in, regards, to, the, contract]   \n",
       "\n",
       "                                                                                                                                                                                                                                                                                                                                                                                                                                                                                                                                                                                                                                                                                                                                                                                                                                                                                                                                                                                                                                     lemma  \\\n",
       "0  [('we', 'PRP'), ('are', 'VBP'), ('working', 'VBG'), ('with', 'IN'), ('an', 'DT'), ('engineering', 'NN'), ('firm', 'NN'), ('on', 'IN'), ('an', 'DT'), ('upcoming', 'JJ'), ('project', 'NN'), ('they', 'PRP'), ('have', 'VBP'), ('asked', 'VBN'), ('us', 'PRP'), ('to', 'TO'), ('gather', 'VB'), ('maps', 'NNS'), ('for', 'IN'), ('this', 'DT'), ('project', 'NN'), ('would', 'MD'), ('you', 'PRP'), ('be', 'VB'), ('able', 'JJ'), ('to', 'TO'), ('assist', 'VB'), ('me', 'PRP'), ('in', 'IN'), ('gathering', 'VBG'), ('maps', 'NNS'), ('records', 'NNS'), ('as', 'IN'), ('builds', 'NNS'), ('for', 'IN'), ('any', 'DT'), ('underground', 'JJ'), ('water', 'NN'), ('facilities', 'NNS'), ('you', 'PRP'), ('may', 'MD'), ('have', 'VB'), ('something', 'NN'), ('just', 'RB'), ('showing', 'VBG'), ('the', 'DT'), ('route', 'NN'), ('of', 'IN'), ('the', 'DT'), ('water', 'NN'), ('lines', 'NNS'), ('would', 'MD'), ('do', 'VB'), ('th', 'VB'), ('st', 'VB'), ('ne', 'JJ'), ('to', 'TO'), ('nd', 'VB'), ('ave', 'VB'), ('ne', 'JJ'), ('c...   \n",
       "1                                                                                                                                                                                                                                                                                                                                                                                                                                                                                                                    [('need', 'NN'), ('copies', 'NNS'), ('of', 'IN'), ('contracts', 'NNS'), ('and', 'CC'), ('all', 'DT'), ('related', 'JJ'), ('documents', 'NNS'), ('pertaining', 'VBG'), ('to', 'TO'), ('topcub', 'VB'), ('aircraft', 'NN'), ('property', 'NN'), ('located', 'VBN'), ('at', 'IN'), ('th', 'NN'), ('dr', 'NN'), ('ne', 'JJ'), ('wa', 'NN'), ('between', 'IN'), ('airport', 'NN'), ('topcub', 'NN'), ('aircraft', 'NN'), ('of', 'IN'), ('hci', 'NN'), ('steel', 'NN'), ('buildings', 'NNS'), ('and', 'CC'), ('pud', 'NN')]   \n",
       "2                                                                                                                                                                                                                                                                                                                                                                                                                                                                             [('copies', 'NNS'), ('of', 'IN'), ('building', 'VBG'), ('permits', 'NNS'), ('of', 'IN'), ('valuation', 'NN'), ('and', 'CC'), ('up', 'RB'), ('min', 'NN'), ('for', 'IN'), ('re', 'NN'), ('roofs', 'NNS'), ('min', 'VBP'), ('for', 'IN'), ('cell', 'NN'), ('tower', 'NN'), ('upgrades', 'JJ'), ('electrical', 'JJ'), ('mechanical', 'JJ'), ('plumbing', 'NN'), ('at', 'IN'), ('min', 'NN'), ('and', 'CC'), ('solar', 'JJ'), ('panels', 'NNS'), ('swimming', 'VBG'), ('pools', 'JJ'), ('foundations', 'NNS'), ('at', 'IN'), ('any', 'DT'), ('valuation', 'NN')]   \n",
       "3                                                                                                                                                                                 [('police', 'NNS'), ('report', 'NN'), ('filed', 'VBD'), ('to', 'TO'), ('an', 'DT'), ('officer', 'NN'), ('against', 'IN'), ('wayne', 'JJ'), ('parris', 'JJ'), ('dob', 'NN'), ('from', 'IN'), ('brittany', 'JJ'), ('j', 'NN'), ('parris', 'VBD'), ('the', 'DT'), ('paperwork', 'NN'), ('i', 'NN'), ('have', 'VBP'), ('has', 'VBZ'), ('a', 'DT'), ('case', 'NN'), ('number', 'NN'), ('d', 'NN'), ('it', 'PRP'), ('is', 'VBZ'), ('also', 'RB'), ('stamped', 'VBN'), ('at', 'IN'), ('the', 'DT'), ('bottom', 'NN'), ('with', 'IN'), ('iím', 'JJ'), ('not', 'RB'), ('sure', 'JJ'), ('which', 'WDT'), ('number', 'NN'), ('you', 'PRP'), ('will', 'MD'), ('need', 'VB'), ('if', 'IN'), ('there', 'EX'), ('is', 'VBZ'), ('any', 'DT'), ('other', 'JJ'), ('information', 'NN'), ('needed', 'VBN'), ('please', 'NN'), ('let', 'VB'), ('me', 'PRP'), ('know', 'VB')]   \n",
       "4                                                                                                                                                 [('email', 'NN'), ('communications', 'NNS'), ('between', 'IN'), ('stephanie', 'JJ'), ('shook', 'NN'), ('dave', 'VBP'), ('kraski', 'VBN'), ('bruce', 'NN'), ('stedman', 'NN'), ('and', 'CC'), ('chad', 'VBD'), ('schmidt', 'VBN'), ('in', 'IN'), ('regards', 'NNS'), ('to', 'TO'), ('fire', 'VB'), ('protection', 'NN'), ('district', 'NN'), ('billing', 'NN'), ('and', 'CC'), ('passage', 'NN'), ('of', 'IN'), ('contract', 'NN'), ('for', 'IN'), ('als', 'NNS'), ('services', 'NNS'), ('also', 'RB'), ('any', 'DT'), ('copies', 'NNS'), ('of', 'IN'), ('agenda', 'NN'), ('bills', 'NNS'), ('d', 'VBP'), ('contract', 'NN'), ('and', 'CC'), ('materials', 'NNS'), ('presented', 'VBN'), ('for', 'IN'), ('review', 'NN'), ('in', 'IN'), ('nov', 'JJ'), ('dec', 'NN'), ('time', 'NN'), ('frame', 'NN'), ('in', 'IN'), ('regards', 'NNS'), ('to', 'TO'), ('the', 'DT'), ('contract', 'NN')]   \n",
       "\n",
       "                                                                                                                                                                                                                                   mash  mash_len                                                                                                                                                                                                                                                                                                                                                                                                                                                                                                                                                                                                                                                                         bigrams                    common_bigrams  \\\n",
       "0           [work, engineering, firm, upcoming, project, gather, map, project, assist, gather, map, build, underground, water, facility, something, show, route, water, line, cascade, survey, engineering, attach, scope, convenience]        26  ['work_engineering', 'engineering_firm', 'firm_upcoming', 'upcoming_project', 'project_ask', 'ask_u', 'u_gather', 'gather_map', 'map_project', 'project_would', 'would_able', 'able_assist', 'assist_gather', 'gather_map', 'map_record', 'record_build', 'build_underground', 'underground_water', 'water_facility', 'facility_may', 'may_something', 'something_show', 'show_route', 'route_water', 'water_line', 'line_would', 'would_th', 'th_st', 'st_ne', 'ne_nd', 'nd_ave', 'ave_ne', 'ne_cascade', 'cascade_survey', 'survey_engineering', 'engineering_attach', 'attach_scope', 'scope_convenience', 'convenience_please', 'please_let', 'let_know', 'know_question']                                []   \n",
       "1                                                                                                                [contract, related, pertain, topcub, aircraft, property, locate, airport, topcub, aircraft, hci, steel, building, pud]        15                                                                                                                                                                                                                                                                                                                                               ['need_copy', 'copy_contract', 'contract_related', 'related_document', 'document_pertain', 'pertain_topcub', 'topcub_aircraft', 'aircraft_property', 'property_locate', 'locate_th', 'th_dr', 'dr_ne', 'ne_wa', 'wa_airport', 'airport_topcub', 'topcub_aircraft', 'aircraft_hci', 'hci_steel', 'steel_building', 'building_pud']               ['property_locate']   \n",
       "2                                                                            [build, permit, valuation, min, roof, min, cell, tower, upgrades, electrical, mechanical, plumbing, min, solar, panel, swim, pools, foundation, valuation]        19                                                                                                                                                                                                                                                                                                                                              ['copy_build', 'build_permit', 'permit_valuation', 'valuation_min', 'min_roof', 'roof_min', 'min_cell', 'cell_tower', 'tower_upgrades', 'upgrades_electrical', 'electrical_mechanical', 'mechanical_plumbing', 'plumbing_min', 'min_solar', 'solar_panel', 'panel_swim', 'swim_pools', 'pools_foundation', 'foundation_valuation']                                []   \n",
       "3                                                                                                                    [police, officer, wayne, parris, dob, brittany, parris, paperwork, case, number, stamp, bottom, iím, sure, number]        17                                                                                                                                                                                                                                                                                            ['police_report', 'report_file', 'file_officer', 'officer_wayne', 'wayne_parris', 'parris_dob', 'dob_brittany', 'brittany_j', 'j_parris', 'parris_paperwork', 'paperwork_case', 'case_number', 'number_also', 'also_stamp', 'stamp_bottom', 'bottom_iím', 'iím_sure', 'sure_number', 'number_need', 'need_information', 'information_need', 'need_please', 'please_let', 'let_know']  ['police_report', 'case_number']   \n",
       "4  [email, communication, stephanie, shook, dave, kraski, bruce, stedman, chad, schmidt, fire, protection, district, billing, passage, contract, al, service, agenda, bill, contract, material, present, review, time, frame, contract]        27                                                                                                             ['email_communication', 'communication_stephanie', 'stephanie_shook', 'shook_dave', 'dave_kraski', 'kraski_bruce', 'bruce_stedman', 'stedman_chad', 'chad_schmidt', 'schmidt_regard', 'regard_fire', 'fire_protection', 'protection_district', 'district_billing', 'billing_passage', 'passage_contract', 'contract_al', 'al_service', 'service_also', 'also_copy', 'copy_agenda', 'agenda_bill', 'bill_contract', 'contract_material', 'material_present', 'present_review', 'review_nov', 'nov_dec', 'dec_time', 'time_frame', 'frame_regard', 'regard_contract']                                []   \n",
       "\n",
       "                                                                                                                                                                                                                             final_mash  \\\n",
       "0           [work, engineering, firm, upcoming, project, gather, map, project, assist, gather, map, build, underground, water, facility, something, show, route, water, line, cascade, survey, engineering, attach, scope, convenience]   \n",
       "1                                                                                               [contract, related, pertain, topcub, aircraft, property, locate, airport, topcub, aircraft, hci, steel, building, pud, property_locate]   \n",
       "2                                                                            [build, permit, valuation, min, roof, min, cell, tower, upgrades, electrical, mechanical, plumbing, min, solar, panel, swim, pools, foundation, valuation]   \n",
       "3                                                                                        [police, officer, wayne, parris, dob, brittany, parris, paperwork, case, number, stamp, bottom, iím, sure, number, police_report, case_number]   \n",
       "4  [email, communication, stephanie, shook, dave, kraski, bruce, stedman, chad, schmidt, fire, protection, district, billing, passage, contract, al, service, agenda, bill, contract, material, present, review, time, frame, contract]   \n",
       "\n",
       "                                                                                                                                                                                                                                                                                                                                                                                                                                                                                                                                                                                                                                                                                                                                                                                                                                                                                                                                                                                                                                      tags  \\\n",
       "0  [(We, PRP), (are, VBP), (working, VBG), (with, IN), (an, DT), (engineering, NN), (firm, NN), (on, IN), (an, DT), (upcoming, JJ), (project., NN), (They, PRP), (have, VBP), (asked, VBN), (us, PRP), (to, TO), (gather, VB), (maps, NNS), (for, IN), (this, DT), (project., NN), (Would, MD), (you, PRP), (be, VB), (able, JJ), (to, TO), (assist, VB), (me, PRP), (in, IN), (gathering, VBG), (maps/records, NNS), ((as, NNP), (builds), NN), (for, IN), (any, DT), (underground, JJ), (water, NN), (facilities, NNS), (you, PRP), (may, MD), (have?, VB), (Something, VBG), (just, RB), (showing, VBG), (the, DT), (route, NN), (of, IN), (the, DT), (water, NN), (lines, NNS), (would, MD), (do., VB), (207th, CD), (ST, NNP), (NE, NNP), (to, TO), (92nd, CD), (Ave, NNP), (NE,, NNP), (Arlington,, NNP), (Cascade, NNP), (Surveying, NNP), (&, CC), (Engineering, NNP), (I, PRP), (have, VBP), (attached, VBN), (the, DT), (scope, NN), (for, IN), (your, PRP$), (convenience., JJ), (Please, NNP), (let, VB), (me, PRP), (know,...   \n",
       "1                                                                                                                                                                                                                                                                                                                                                                                                                                                                                                                         [(Need, NNP), (copies, NNS), (of, IN), (contracts, NNS), (and, CC), (all, DT), (related, JJ), (documents, NNS), (pertaining, VBG), (to, TO), (Topcub, NNP), (Aircraft, NNP), (property, NN), (located, VBN), (at, IN), (17922, CD), (59th, CD), (DR, NNP), (NE, NNP), (Arlington, NNP), (WA, NNP), (98223, CD), (between, IN), (Arlington, NNP), (Airport,, NNP), (Topcub, NNP), (Aircraft,, NNP), (City, NNP), (of, IN), (Arlington,, NNP), (HCI, NNP), (Steel, NNP), (Buildings, NNS), (and, CC), (PUD., NNP)]   \n",
       "2                                                                                                                                                                                                                                                                                                                                                                                                                                                                                                           [(Copies, NNS), (of, IN), (Building, NNP), (Permits, NNP), (of, IN), ($5,000, NNP), (valuation, NN), (and, CC), (up, RB), (($20,000, CD), (min, NNS), (for, IN), (Re-Roofs),, NNP), (($50,000, NNP), (min., NN), (for, IN), (Cell, NNP), (Tower, NNP), (upgrades),, JJ), ((Electrical,, NNP), (Mechanical, NNP), (&, CC), (Plumbing, NNP), (at, IN), ($100,000, NNP), (min.), NN), (and, CC), ((Solar, JJ), (Panels,, NNP), (Swimming, NNP), (Pools, NNP), (&, CC), (Foundations, NNP), (at, IN), (any, DT), (valuation), NN)]   \n",
       "3                                                                                                                                                                                                                                                                                                                                    [(police, NNS), (report, NN), (filed, VBD), (to, TO), (an, DT), (officer, NN), (against, IN), (Wayne, NNP), (Parris, NNP), ((DOB, POS), (08-03-1957), NN), (from, IN), (Brittany, NNP), (J., NNP), (Parris., NNP), (The, DT), (paperwork, NN), (I, PRP), (have, VBP), (has, VBZ), (a, DT), (case, NN), (number, NN), (D18-39, NNP), (it, PRP), (is, VBZ), (also, RB), (stamped, VBN), (at, IN), (the, DT), (bottom, NN), (with, IN), (18-1294,, JJ), (Iím, NNP), (not, RB), (sure, JJ), (which, WDT), (number, NN), (you, PRP), (will, MD), (need., VB), (If, IN), (there, EX), (is, VBZ), (any, DT), (other, JJ), (information, NN), (needed, VBN), (please, NN), (let, VB), (me, PRP), (know., VB)]   \n",
       "4                                                                                                                                                                                                                                                                                                                                [(Email, NNP), (Communications, NNP), (between, IN), (Stephanie, NNP), (Shook,, NNP), (Dave, NNP), (Kraski,, NNP), (Bruce, NNP), (Stedman, NNP), (and, CC), (Chad, NNP), (Schmidt, NNP), (in, IN), (regards, NNS), (to, TO), (Fire, NNP), (Protection, NNP), (District, NNP), (21, CD), (billing, NN), (and, CC), (passage, NN), (of, IN), (contract, NN), (for, IN), (ALS, NNP), (Services., NNP), (Also, RB), (any, DT), (copies, NNS), (of, IN), (Agenda, NNP), (Bills,, NNP), (D21, NNP), (Contract, NNP), (and, CC), (materials, NNS), (presented, VBN), (for, IN), (review, NN), (in, IN), (Nov/Dec, NNP), (time, NN), (frame, NN), (in, IN), (regards, NNS), (to, TO), (the, DT), (contract., NN)]   \n",
       "\n",
       "                                                                                                                                                                                                                                                                                                                                                                                                                                                                                                                                                                                                                                                                                                                                                                                                                                                                                                                                                                                                                                     tags2  \n",
       "0  [(we, PRP), (are, VBP), (working, VBG), (with, IN), (an, DT), (engineering, NN), (firm, NN), (on, IN), (an, DT), (upcoming, JJ), (project, NN), (they, PRP), (have, VBP), (asked, VBN), (us, PRP), (to, TO), (gather, VB), (maps, NNS), (for, IN), (this, DT), (project, NN), (would, MD), (you, PRP), (be, VB), (able, JJ), (to, TO), (assist, VB), (me, PRP), (in, IN), (gathering, VBG), (maps, NNS), (records, NNS), (as, IN), (builds, NNS), (for, IN), (any, DT), (underground, JJ), (water, NN), (facilities, NNS), (you, PRP), (may, MD), (have, VB), (something, NN), (just, RB), (showing, VBG), (the, DT), (route, NN), (of, IN), (the, DT), (water, NN), (lines, NNS), (would, MD), (do, VB), (th, VB), (st, VB), (ne, JJ), (to, TO), (nd, VB), (ave, VB), (ne, JJ), (cascade, NN), (surveying, VBG), (engineering, NN), (i, NN), (have, VBP), (attached, VBN), (the, DT), (scope, NN), (for, IN), (your, PRP$), (convenience, NN), (please, NN), (let, VB), (me, PRP), (know, VB), (if, IN), (you, PRP), (have, VBP), (...  \n",
       "1                                                                                                                                                                                                                                                                                                                                                                                                                                                                                                                                                                                                                                        [(need, NN), (copies, NNS), (of, IN), (contracts, NNS), (and, CC), (all, DT), (related, JJ), (documents, NNS), (pertaining, VBG), (to, TO), (topcub, VB), (aircraft, NN), (property, NN), (located, VBN), (at, IN), (th, NN), (dr, NN), (ne, JJ), (wa, NN), (between, IN), (airport, NN), (topcub, NN), (aircraft, NN), (of, IN), (hci, NN), (steel, NN), (buildings, NNS), (and, CC), (pud, NN)]  \n",
       "2                                                                                                                                                                                                                                                                                                                                                                                                                                                                                                                                                                                                         [(copies, NNS), (of, IN), (building, VBG), (permits, NNS), (of, IN), (valuation, NN), (and, CC), (up, RB), (min, NN), (for, IN), (re, NN), (roofs, NNS), (min, VBP), (for, IN), (cell, NN), (tower, NN), (upgrades, JJ), (electrical, JJ), (mechanical, JJ), (plumbing, NN), (at, IN), (min, NN), (and, CC), (solar, JJ), (panels, NNS), (swimming, VBG), (pools, JJ), (foundations, NNS), (at, IN), (any, DT), (valuation, NN)]  \n",
       "3                                                                                                                                                                                                                                                                                                                                                                                         [(police, NNS), (report, NN), (filed, VBD), (to, TO), (an, DT), (officer, NN), (against, IN), (wayne, JJ), (parris, JJ), (dob, NN), (from, IN), (brittany, JJ), (j, NN), (parris, VBD), (the, DT), (paperwork, NN), (i, NN), (have, VBP), (has, VBZ), (a, DT), (case, NN), (number, NN), (d, NN), (it, PRP), (is, VBZ), (also, RB), (stamped, VBN), (at, IN), (the, DT), (bottom, NN), (with, IN), (iím, JJ), (not, RB), (sure, JJ), (which, WDT), (number, NN), (you, PRP), (will, MD), (need, VB), (if, IN), (there, EX), (is, VBZ), (any, DT), (other, JJ), (information, NN), (needed, VBN), (please, NN), (let, VB), (me, PRP), (know, VB)]  \n",
       "4                                                                                                                                                                                                                                                                                                                                                     [(email, NN), (communications, NNS), (between, IN), (stephanie, JJ), (shook, NN), (dave, VBP), (kraski, VBN), (bruce, NN), (stedman, NN), (and, CC), (chad, VBD), (schmidt, VBN), (in, IN), (regards, NNS), (to, TO), (fire, VB), (protection, NN), (district, NN), (billing, NN), (and, CC), (passage, NN), (of, IN), (contract, NN), (for, IN), (als, NNS), (services, NNS), (also, RB), (any, DT), (copies, NNS), (of, IN), (agenda, NN), (bills, NNS), (d, VBP), (contract, NN), (and, CC), (materials, NNS), (presented, VBN), (for, IN), (review, NN), (in, IN), (nov, JJ), (dec, NN), (time, NN), (frame, NN), (in, IN), (regards, NNS), (to, TO), (the, DT), (contract, NN)]  "
      ]
     },
     "execution_count": 43,
     "metadata": {},
     "output_type": "execute_result"
    }
   ],
   "source": [
    "data_tag.head()"
   ]
  },
  {
   "cell_type": "markdown",
   "metadata": {},
   "source": [
    "### spaCy pos tagger"
   ]
  },
  {
   "cell_type": "code",
   "execution_count": 5,
   "metadata": {},
   "outputs": [],
   "source": []
  },
  {
   "cell_type": "code",
   "execution_count": 11,
   "metadata": {},
   "outputs": [],
   "source": []
  },
  {
   "cell_type": "code",
   "execution_count": 14,
   "metadata": {},
   "outputs": [],
   "source": []
  },
  {
   "cell_type": "code",
   "execution_count": 15,
   "metadata": {},
   "outputs": [
    {
     "data": {
      "text/html": [
       "<div>\n",
       "<style scoped>\n",
       "    .dataframe tbody tr th:only-of-type {\n",
       "        vertical-align: middle;\n",
       "    }\n",
       "\n",
       "    .dataframe tbody tr th {\n",
       "        vertical-align: top;\n",
       "    }\n",
       "\n",
       "    .dataframe thead th {\n",
       "        text-align: right;\n",
       "    }\n",
       "</style>\n",
       "<table border=\"1\" class=\"dataframe\">\n",
       "  <thead>\n",
       "    <tr style=\"text-align: right;\">\n",
       "      <th></th>\n",
       "      <th>index</th>\n",
       "      <th>Summary</th>\n",
       "      <th>city</th>\n",
       "      <th>month_year</th>\n",
       "      <th>sum_ed</th>\n",
       "      <th>token</th>\n",
       "      <th>lemma</th>\n",
       "      <th>mash</th>\n",
       "      <th>mash_len</th>\n",
       "      <th>bigrams</th>\n",
       "      <th>common_bigrams</th>\n",
       "      <th>final_mash</th>\n",
       "      <th>pos</th>\n",
       "      <th>token_sp2</th>\n",
       "      <th>pos2</th>\n",
       "    </tr>\n",
       "  </thead>\n",
       "  <tbody>\n",
       "    <tr>\n",
       "      <th>0</th>\n",
       "      <td>0</td>\n",
       "      <td>We are working with an engineering firm on an upcoming project.  They have asked us to gather maps for this project.  Would you be able to assist me in gathering maps/records (as builds) for any underground water facilities you may have?  Something just showing the route of the water lines would do.\\n\\n207th ST NE to 92nd Ave NE, Arlington, Cascade Surveying &amp; Engineering \\n\\nI have attached the scope for your convenience.  Please let me know if you have questions.</td>\n",
       "      <td>Arlington</td>\n",
       "      <td>2018-06</td>\n",
       "      <td>we are working with an engineering firm on an upcoming project  they have asked us to gather maps for this project  would you be able to assist me in gathering maps records as builds for any underground water facilities you may have  something just showing the route of the water lines would do\\n\\nth st ne to nd ave ne  cascade surveying  engineering \\n\\ni have attached the scope for your convenience  please let me know if you have questions</td>\n",
       "      <td>[we, are, working, with, an, engineering, firm, on, an, upcoming, project, they, have, asked, us, to, gather, maps, for, this, project, would, you, be, able, to, assist, me, in, gathering, maps, records, as, builds, for, any, underground, water, facilities, you, may, have, something, just, showing, the, route, of, the, water, lines, would, do, th, st, ne, to, nd, ave, ne, cascade, surveying, engineering, i, have, attached, the, scope, for, your, convenience, please, let, me, know, if, you, have, questions]</td>\n",
       "      <td>[('we', 'PRP'), ('are', 'VBP'), ('working', 'VBG'), ('with', 'IN'), ('an', 'DT'), ('engineering', 'NN'), ('firm', 'NN'), ('on', 'IN'), ('an', 'DT'), ('upcoming', 'JJ'), ('project', 'NN'), ('they', 'PRP'), ('have', 'VBP'), ('asked', 'VBN'), ('us', 'PRP'), ('to', 'TO'), ('gather', 'VB'), ('maps', 'NNS'), ('for', 'IN'), ('this', 'DT'), ('project', 'NN'), ('would', 'MD'), ('you', 'PRP'), ('be', 'VB'), ('able', 'JJ'), ('to', 'TO'), ('assist', 'VB'), ('me', 'PRP'), ('in', 'IN'), ('gathering', 'VBG'), ('maps', 'NNS'), ('records', 'NNS'), ('as', 'IN'), ('builds', 'NNS'), ('for', 'IN'), ('any', 'DT'), ('underground', 'JJ'), ('water', 'NN'), ('facilities', 'NNS'), ('you', 'PRP'), ('may', 'MD'), ('have', 'VB'), ('something', 'NN'), ('just', 'RB'), ('showing', 'VBG'), ('the', 'DT'), ('route', 'NN'), ('of', 'IN'), ('the', 'DT'), ('water', 'NN'), ('lines', 'NNS'), ('would', 'MD'), ('do', 'VB'), ('th', 'VB'), ('st', 'VB'), ('ne', 'JJ'), ('to', 'TO'), ('nd', 'VB'), ('ave', 'VB'), ('ne', 'JJ'), ('c...</td>\n",
       "      <td>[work, engineering, firm, upcoming, project, gather, map, project, assist, gather, map, build, underground, water, facility, something, show, route, water, line, cascade, survey, engineering, attach, scope, convenience]</td>\n",
       "      <td>26</td>\n",
       "      <td>['work_engineering', 'engineering_firm', 'firm_upcoming', 'upcoming_project', 'project_ask', 'ask_u', 'u_gather', 'gather_map', 'map_project', 'project_would', 'would_able', 'able_assist', 'assist_gather', 'gather_map', 'map_record', 'record_build', 'build_underground', 'underground_water', 'water_facility', 'facility_may', 'may_something', 'something_show', 'show_route', 'route_water', 'water_line', 'line_would', 'would_th', 'th_st', 'st_ne', 'ne_nd', 'nd_ave', 'ave_ne', 'ne_cascade', 'cascade_survey', 'survey_engineering', 'engineering_attach', 'attach_scope', 'scope_convenience', 'convenience_please', 'please_let', 'let_know', 'know_question']</td>\n",
       "      <td>[]</td>\n",
       "      <td>[work, engineering, firm, upcoming, project, gather, map, project, assist, gather, map, build, underground, water, facility, something, show, route, water, line, cascade, survey, engineering, attach, scope, convenience]</td>\n",
       "      <td>[(We, -PRON-, PRP), (are, be, VBP), (working, work, VBG), (with, with, IN), (an, an, DT), (engineering, engineering, NN), (firm, firm, NN), (on, on, IN), (an, an, DT), (upcoming, upcoming, JJ), (project, project, NN), (., ., .), ( ,  , ), (They, -PRON-, PRP), (have, have, VBP), (asked, ask, VBN), (us, -PRON-, PRP), (to, to, TO), (gather, gather, VB), (maps, map, NNS), (for, for, IN), (this, this, DT), (project, project, NN), (., ., .), ( ,  , ), (Would, would, MD), (you, -PRON-, PRP), (be, be, VB), (able, able, JJ), (to, to, TO), (assist, assist, VB), (me, -PRON-, PRP), (in, in, IN), (gathering, gather, VBG), (maps, map, NNS), (/, /, SYM), (records, record, NNS), ((, (, -LRB-), (as, as, IN), (builds, build, NNS), (), ), -RRB-), (for, for, IN), (any, any, DT), (underground, underground, JJ), (water, water, NN), (facilities, facility, NNS), (you, -PRON-, PRP), (may, may, MD), (have, have, VB), (?, ?, .), ( ,  , ), (Something, something, NN), (just, just, RB), (showing, show, VBG), (t...</td>\n",
       "      <td>(we, are, working, with, an, engineering, firm, on, an, upcoming, project,  , they, have, asked, us, to, gather, maps, for, this, project,  , would, you, be, able, to, assist, me, in, gathering, maps, records, as, builds, for, any, underground, water, facilities, you, may, have,  , something, just, showing, the, route, of, the, water, lines, would, do, \\n\\n, th, st, ne, to, nd, ave, ne,  , cascade, surveying,  , engineering, \\n\\n, i, have, attached, the, scope, for, your, convenience,  , please, let, me, know, if, you, have, questions)</td>\n",
       "      <td>[(we, -PRON-, PRP), (are, be, VBP), (working, work, VBG), (with, with, IN), (an, an, DT), (engineering, engineering, NN), (firm, firm, NN), (on, on, IN), (an, an, DT), (upcoming, upcoming, JJ), (project, project, NN), ( ,  , ), (they, -PRON-, PRP), (have, have, VBP), (asked, ask, VBN), (us, -PRON-, PRP), (to, to, TO), (gather, gather, VB), (maps, map, NNS), (for, for, IN), (this, this, DT), (project, project, NN), ( ,  , ), (would, would, MD), (you, -PRON-, PRP), (be, be, VB), (able, able, JJ), (to, to, TO), (assist, assist, VB), (me, -PRON-, PRP), (in, in, IN), (gathering, gather, VBG), (maps, map, NNS), (records, record, NNS), (as, as, IN), (builds, build, NNS), (for, for, IN), (any, any, DT), (underground, underground, JJ), (water, water, NN), (facilities, facility, NNS), (you, -PRON-, PRP), (may, may, MD), (have, have, VB), ( ,  , ), (something, something, NN), (just, just, RB), (showing, show, VBG), (the, the, DT), (route, route, NN), (of, of, IN), (the, the, DT), (water, wate...</td>\n",
       "    </tr>\n",
       "    <tr>\n",
       "      <th>1</th>\n",
       "      <td>1</td>\n",
       "      <td>Need copies of contracts and all related documents pertaining to Topcub Aircraft property located at 17922 59th DR NE Arlington WA 98223 between Arlington Airport, Topcub Aircraft, City of Arlington, HCI Steel Buildings and PUD.</td>\n",
       "      <td>Arlington</td>\n",
       "      <td>2018-06</td>\n",
       "      <td>need copies of contracts and all related documents pertaining to topcub aircraft property located at  th dr ne  wa  between  airport topcub aircraft  of  hci steel buildings and pud</td>\n",
       "      <td>[need, copies, of, contracts, and, all, related, documents, pertaining, to, topcub, aircraft, property, located, at, th, dr, ne, wa, between, airport, topcub, aircraft, of, hci, steel, buildings, and, pud]</td>\n",
       "      <td>[('need', 'NN'), ('copies', 'NNS'), ('of', 'IN'), ('contracts', 'NNS'), ('and', 'CC'), ('all', 'DT'), ('related', 'JJ'), ('documents', 'NNS'), ('pertaining', 'VBG'), ('to', 'TO'), ('topcub', 'VB'), ('aircraft', 'NN'), ('property', 'NN'), ('located', 'VBN'), ('at', 'IN'), ('th', 'NN'), ('dr', 'NN'), ('ne', 'JJ'), ('wa', 'NN'), ('between', 'IN'), ('airport', 'NN'), ('topcub', 'NN'), ('aircraft', 'NN'), ('of', 'IN'), ('hci', 'NN'), ('steel', 'NN'), ('buildings', 'NNS'), ('and', 'CC'), ('pud', 'NN')]</td>\n",
       "      <td>[contract, related, pertain, topcub, aircraft, property, locate, airport, topcub, aircraft, hci, steel, building, pud]</td>\n",
       "      <td>15</td>\n",
       "      <td>['need_copy', 'copy_contract', 'contract_related', 'related_document', 'document_pertain', 'pertain_topcub', 'topcub_aircraft', 'aircraft_property', 'property_locate', 'locate_th', 'th_dr', 'dr_ne', 'ne_wa', 'wa_airport', 'airport_topcub', 'topcub_aircraft', 'aircraft_hci', 'hci_steel', 'steel_building', 'building_pud']</td>\n",
       "      <td>['property_locate']</td>\n",
       "      <td>[contract, related, pertain, topcub, aircraft, property, locate, airport, topcub, aircraft, hci, steel, building, pud, property_locate]</td>\n",
       "      <td>[(Need, need, NN), (copies, copy, NNS), (of, of, IN), (contracts, contract, NNS), (and, and, CC), (all, all, DT), (related, relate, VBN), (documents, document, NNS), (pertaining, pertain, VBG), (to, to, IN), (Topcub, topcub, NNP), (Aircraft, aircraft, NNP), (property, property, NN), (located, locate, VBN), (at, at, IN), (17922, 17922, CD), (59th, 59th, JJ), (DR, dr, NNP), (NE, ne, NNP), (Arlington, arlington, NNP), (WA, wa, NNP), (98223, 98223, CD), (between, between, IN), (Arlington, arlington, NNP), (Airport, airport, NNP), (,, ,, ,), (Topcub, topcub, NNP), (Aircraft, aircraft, NNP), (,, ,, ,), (City, city, NNP), (of, of, IN), (Arlington, arlington, NNP), (,, ,, ,), (HCI, hci, NNP), (Steel, steel, NNP), (Buildings, buildings, NNPS), (and, and, CC), (PUD, pud, NNP), (., ., .)]</td>\n",
       "      <td>(need, copies, of, contracts, and, all, related, documents, pertaining, to, topcub, aircraft, property, located, at,  , th, dr, ne,  , wa,  , between,  , airport, topcub, aircraft,  , of,  , hci, steel, buildings, and, pud)</td>\n",
       "      <td>[(need, need, NN), (copies, copy, NNS), (of, of, IN), (contracts, contract, NNS), (and, and, CC), (all, all, DT), (related, relate, VBN), (documents, document, NNS), (pertaining, pertain, VBG), (to, to, TO), (topcub, topcub, VB), (aircraft, aircraft, NN), (property, property, NN), (located, locate, VBN), (at, at, IN), ( ,  , ), (th, th, XX), (dr, dr, NN), (ne, ne, IN), ( ,  , ), (wa, wa, IN), ( ,  , ), (between, between, IN), ( ,  , ), (airport, airport, NN), (topcub, topcub, NN), (aircraft, aircraft, NN), ( ,  , ), (of, of, IN), ( ,  , ), (hci, hci, NN), (steel, steel, NN), (buildings, building, NNS), (and, and, CC), (pud, pud, VB)]</td>\n",
       "    </tr>\n",
       "    <tr>\n",
       "      <th>2</th>\n",
       "      <td>2</td>\n",
       "      <td>Copies of Building Permits of $5,000 valuation and up ($20,000 min for Re-Roofs), ($50,000 min. for Cell Tower upgrades), (Electrical, Mechanical &amp; Plumbing at $100,000 min.) and (Solar Panels, Swimming Pools &amp; Foundations at any valuation)</td>\n",
       "      <td>Arlington</td>\n",
       "      <td>2018-06</td>\n",
       "      <td>copies of building permits of  valuation and up  min for re roofs  min for cell tower upgrades electrical mechanical  plumbing at  min and solar panels swimming pools  foundations at any valuation</td>\n",
       "      <td>[copies, of, building, permits, of, valuation, and, up, min, for, re, roofs, min, for, cell, tower, upgrades, electrical, mechanical, plumbing, at, min, and, solar, panels, swimming, pools, foundations, at, any, valuation]</td>\n",
       "      <td>[('copies', 'NNS'), ('of', 'IN'), ('building', 'VBG'), ('permits', 'NNS'), ('of', 'IN'), ('valuation', 'NN'), ('and', 'CC'), ('up', 'RB'), ('min', 'NN'), ('for', 'IN'), ('re', 'NN'), ('roofs', 'NNS'), ('min', 'VBP'), ('for', 'IN'), ('cell', 'NN'), ('tower', 'NN'), ('upgrades', 'JJ'), ('electrical', 'JJ'), ('mechanical', 'JJ'), ('plumbing', 'NN'), ('at', 'IN'), ('min', 'NN'), ('and', 'CC'), ('solar', 'JJ'), ('panels', 'NNS'), ('swimming', 'VBG'), ('pools', 'JJ'), ('foundations', 'NNS'), ('at', 'IN'), ('any', 'DT'), ('valuation', 'NN')]</td>\n",
       "      <td>[build, permit, valuation, min, roof, min, cell, tower, upgrades, electrical, mechanical, plumbing, min, solar, panel, swim, pools, foundation, valuation]</td>\n",
       "      <td>19</td>\n",
       "      <td>['copy_build', 'build_permit', 'permit_valuation', 'valuation_min', 'min_roof', 'roof_min', 'min_cell', 'cell_tower', 'tower_upgrades', 'upgrades_electrical', 'electrical_mechanical', 'mechanical_plumbing', 'plumbing_min', 'min_solar', 'solar_panel', 'panel_swim', 'swim_pools', 'pools_foundation', 'foundation_valuation']</td>\n",
       "      <td>[]</td>\n",
       "      <td>[build, permit, valuation, min, roof, min, cell, tower, upgrades, electrical, mechanical, plumbing, min, solar, panel, swim, pools, foundation, valuation]</td>\n",
       "      <td>[(Copies, copy, NNS), (of, of, IN), (Building, building, NNP), (Permits, permits, NNPS), (of, of, IN), ($, $, $), (5,000, 5,000, CD), (valuation, valuation, NN), (and, and, CC), (up, up, NN), ((, (, -LRB-), ($, $, $), (20,000, 20,000, CD), (min, min, NN), (for, for, IN), (Re, re, NNP), (-, -, HYPH), (Roofs, roofs, NNP), (), ), -RRB-), (,, ,, ,), ((, (, -LRB-), ($, $, $), (50,000, 50,000, CD), (min, min, NN), (., ., .), (for, for, IN), (Cell, cell, NNP), (Tower, tower, NNP), (upgrades, upgrade, NNS), (), ), -RRB-), (,, ,, ,), ((, (, -LRB-), (Electrical, electrical, JJ), (,, ,, ,), (Mechanical, mechanical, NNP), (&amp;, &amp;, CC), (Plumbing, plumbing, NNP), (at, at, IN), ($, $, $), (100,000, 100,000, CD), (min, min, NN), (., ., .), (), ), -RRB-), (and, and, CC), ((, (, -LRB-), (Solar, solar, NNP), (Panels, panels, NNPS), (,, ,, ,), (Swimming, swimming, NNP), (Pools, pools, NNP), (&amp;, &amp;, CC), (Foundations, foundations, NNPS), (at, at, IN), (any, any, DT), (valuation, valuation, NN), (), ), -R...</td>\n",
       "      <td>(copies, of, building, permits, of,  , valuation, and, up,  , min, for, re, roofs,  , min, for, cell, tower, upgrades, electrical, mechanical,  , plumbing, at,  , min, and, solar, panels, swimming, pools,  , foundations, at, any, valuation)</td>\n",
       "      <td>[(copies, copy, NNS), (of, of, IN), (building, building, NN), (permits, permit, NNS), (of, of, IN), ( ,  , ), (valuation, valuation, NN), (and, and, CC), (up, up, RB), ( ,  , ), (min, min, NN), (for, for, IN), (re, re, IN), (roofs, roof, NNS), ( ,  , ), (min, min, NN), (for, for, IN), (cell, cell, NN), (tower, tower, NN), (upgrades, upgrade, VBZ), (electrical, electrical, JJ), (mechanical, mechanical, JJ), ( ,  , ), (plumbing, plumbing, NN), (at, at, IN), ( ,  , ), (min, min, NN), (and, and, CC), (solar, solar, JJ), (panels, panel, NNS), (swimming, swimming, NN), (pools, pool, NNS), ( ,  , ), (foundations, foundation, NNS), (at, at, IN), (any, any, DT), (valuation, valuation, NN)]</td>\n",
       "    </tr>\n",
       "    <tr>\n",
       "      <th>3</th>\n",
       "      <td>3</td>\n",
       "      <td>police report filed to an officer against Wayne Parris (DOB 08-03-1957) from Brittany J. Parris. The paperwork I have has a case number D18-39 it is also stamped at the bottom with 18-1294, Iím not sure which number you will need. If there is any other information needed please let me know.</td>\n",
       "      <td>Arlington</td>\n",
       "      <td>2018-06</td>\n",
       "      <td>police report filed to an officer against wayne parris dob    from brittany j parris the paperwork i have has a case number d  it is also stamped at the bottom with   iím not sure which number you will need if there is any other information needed please let me know</td>\n",
       "      <td>[police, report, filed, to, an, officer, against, wayne, parris, dob, from, brittany, j, parris, the, paperwork, i, have, has, a, case, number, d, it, is, also, stamped, at, the, bottom, with, iím, not, sure, which, number, you, will, need, if, there, is, any, other, information, needed, please, let, me, know]</td>\n",
       "      <td>[('police', 'NNS'), ('report', 'NN'), ('filed', 'VBD'), ('to', 'TO'), ('an', 'DT'), ('officer', 'NN'), ('against', 'IN'), ('wayne', 'JJ'), ('parris', 'JJ'), ('dob', 'NN'), ('from', 'IN'), ('brittany', 'JJ'), ('j', 'NN'), ('parris', 'VBD'), ('the', 'DT'), ('paperwork', 'NN'), ('i', 'NN'), ('have', 'VBP'), ('has', 'VBZ'), ('a', 'DT'), ('case', 'NN'), ('number', 'NN'), ('d', 'NN'), ('it', 'PRP'), ('is', 'VBZ'), ('also', 'RB'), ('stamped', 'VBN'), ('at', 'IN'), ('the', 'DT'), ('bottom', 'NN'), ('with', 'IN'), ('iím', 'JJ'), ('not', 'RB'), ('sure', 'JJ'), ('which', 'WDT'), ('number', 'NN'), ('you', 'PRP'), ('will', 'MD'), ('need', 'VB'), ('if', 'IN'), ('there', 'EX'), ('is', 'VBZ'), ('any', 'DT'), ('other', 'JJ'), ('information', 'NN'), ('needed', 'VBN'), ('please', 'NN'), ('let', 'VB'), ('me', 'PRP'), ('know', 'VB')]</td>\n",
       "      <td>[police, officer, wayne, parris, dob, brittany, parris, paperwork, case, number, stamp, bottom, iím, sure, number]</td>\n",
       "      <td>17</td>\n",
       "      <td>['police_report', 'report_file', 'file_officer', 'officer_wayne', 'wayne_parris', 'parris_dob', 'dob_brittany', 'brittany_j', 'j_parris', 'parris_paperwork', 'paperwork_case', 'case_number', 'number_also', 'also_stamp', 'stamp_bottom', 'bottom_iím', 'iím_sure', 'sure_number', 'number_need', 'need_information', 'information_need', 'need_please', 'please_let', 'let_know']</td>\n",
       "      <td>['police_report', 'case_number']</td>\n",
       "      <td>[police, officer, wayne, parris, dob, brittany, parris, paperwork, case, number, stamp, bottom, iím, sure, number, police_report, case_number]</td>\n",
       "      <td>[(police, police, NN), (report, report, NN), (filed, file, VBN), (to, to, IN), (an, an, DT), (officer, officer, NN), (against, against, IN), (Wayne, wayne, NNP), (Parris, parris, NNP), ((, (, -LRB-), (DOB, dob, NNP), (08, 08, CD), (-, -, HYPH), (03, 03, CD), (-, -, SYM), (1957, 1957, CD), (), ), -RRB-), (from, from, IN), (Brittany, brittany, NNP), (J., j., NNP), (Parris, parris, NNP), (., ., .), (The, the, DT), (paperwork, paperwork, NN), (I, -PRON-, PRP), (have, have, VBP), (has, have, VBZ), (a, a, DT), (case, case, NN), (number, number, NN), (D18, d18, NNP), (-, -, :), (39, 39, CD), (it, -PRON-, PRP), (is, be, VBZ), (also, also, RB), (stamped, stamp, VBN), (at, at, IN), (the, the, DT), (bottom, bottom, NN), (with, with, IN), (18, 18, CD), (-, -, SYM), (1294, 1294, CD), (,, ,, ,), (Iím, iím, RB), (not, not, RB), (sure, sure, JJ), (which, which, WDT), (number, number, NN), (you, -PRON-, PRP), (will, will, MD), (need, need, VB), (., ., .), (If, if, IN), (there, there, EX), (is, be, ...</td>\n",
       "      <td>(police, report, filed, to, an, officer, against, wayne, parris, dob,    , from, brittany, j, parris, the, paperwork, i, have, has, a, case, number, d,  , it, is, also, stamped, at, the, bottom, with,   , iím, not, sure, which, number, you, will, need, if, there, is, any, other, information, needed, please, let, me, know)</td>\n",
       "      <td>[(police, police, NN), (report, report, NN), (filed, file, VBN), (to, to, IN), (an, an, DT), (officer, officer, NN), (against, against, IN), (wayne, wayne, NN), (parris, parris, NN), (dob, dob, NN), (   ,    , _SP), (from, from, IN), (brittany, brittany, NN), (j, j, NN), (parris, parris, NN), (the, the, DT), (paperwork, paperwork, NN), (i, i, PRP), (have, have, VBP), (has, have, VBZ), (a, a, DT), (case, case, NN), (number, number, NN), (d, d, MD), ( ,  , ), (it, -PRON-, PRP), (is, be, VBZ), (also, also, RB), (stamped, stamp, VBN), (at, at, IN), (the, the, DT), (bottom, bottom, NN), (with, with, IN), (  ,   , _SP), (iím, iím, RB), (not, not, RB), (sure, sure, JJ), (which, which, WDT), (number, number, NN), (you, -PRON-, PRP), (will, will, MD), (need, need, VB), (if, if, IN), (there, there, EX), (is, be, VBZ), (any, any, DT), (other, other, JJ), (information, information, NN), (needed, need, VBN), (please, please, UH), (let, let, VB), (me, -PRON-, PRP), (know, know, VB)]</td>\n",
       "    </tr>\n",
       "    <tr>\n",
       "      <th>4</th>\n",
       "      <td>4</td>\n",
       "      <td>Email Communications between Stephanie Shook, Dave Kraski, Bruce Stedman and Chad Schmidt in regards to Fire Protection District 21 billing and passage of contract for ALS Services. \\n\\nAlso any copies of Agenda Bills, D21 Contract and materials presented for review in Nov/Dec time frame in regards to the contract.</td>\n",
       "      <td>Arlington</td>\n",
       "      <td>2018-06</td>\n",
       "      <td>email communications between stephanie shook dave kraski bruce stedman and chad schmidt in regards to fire protection district  billing and passage of contract for als services \\n\\nalso any copies of agenda bills d contract and materials presented for review in nov dec time frame in regards to the contract</td>\n",
       "      <td>[email, communications, between, stephanie, shook, dave, kraski, bruce, stedman, and, chad, schmidt, in, regards, to, fire, protection, district, billing, and, passage, of, contract, for, als, services, also, any, copies, of, agenda, bills, d, contract, and, materials, presented, for, review, in, nov, dec, time, frame, in, regards, to, the, contract]</td>\n",
       "      <td>[('email', 'NN'), ('communications', 'NNS'), ('between', 'IN'), ('stephanie', 'JJ'), ('shook', 'NN'), ('dave', 'VBP'), ('kraski', 'VBN'), ('bruce', 'NN'), ('stedman', 'NN'), ('and', 'CC'), ('chad', 'VBD'), ('schmidt', 'VBN'), ('in', 'IN'), ('regards', 'NNS'), ('to', 'TO'), ('fire', 'VB'), ('protection', 'NN'), ('district', 'NN'), ('billing', 'NN'), ('and', 'CC'), ('passage', 'NN'), ('of', 'IN'), ('contract', 'NN'), ('for', 'IN'), ('als', 'NNS'), ('services', 'NNS'), ('also', 'RB'), ('any', 'DT'), ('copies', 'NNS'), ('of', 'IN'), ('agenda', 'NN'), ('bills', 'NNS'), ('d', 'VBP'), ('contract', 'NN'), ('and', 'CC'), ('materials', 'NNS'), ('presented', 'VBN'), ('for', 'IN'), ('review', 'NN'), ('in', 'IN'), ('nov', 'JJ'), ('dec', 'NN'), ('time', 'NN'), ('frame', 'NN'), ('in', 'IN'), ('regards', 'NNS'), ('to', 'TO'), ('the', 'DT'), ('contract', 'NN')]</td>\n",
       "      <td>[email, communication, stephanie, shook, dave, kraski, bruce, stedman, chad, schmidt, fire, protection, district, billing, passage, contract, al, service, agenda, bill, contract, material, present, review, time, frame, contract]</td>\n",
       "      <td>27</td>\n",
       "      <td>['email_communication', 'communication_stephanie', 'stephanie_shook', 'shook_dave', 'dave_kraski', 'kraski_bruce', 'bruce_stedman', 'stedman_chad', 'chad_schmidt', 'schmidt_regard', 'regard_fire', 'fire_protection', 'protection_district', 'district_billing', 'billing_passage', 'passage_contract', 'contract_al', 'al_service', 'service_also', 'also_copy', 'copy_agenda', 'agenda_bill', 'bill_contract', 'contract_material', 'material_present', 'present_review', 'review_nov', 'nov_dec', 'dec_time', 'time_frame', 'frame_regard', 'regard_contract']</td>\n",
       "      <td>[]</td>\n",
       "      <td>[email, communication, stephanie, shook, dave, kraski, bruce, stedman, chad, schmidt, fire, protection, district, billing, passage, contract, al, service, agenda, bill, contract, material, present, review, time, frame, contract]</td>\n",
       "      <td>[(Email, email, NN), (Communications, communications, NNP), (between, between, IN), (Stephanie, stephanie, NNP), (Shook, shook, NNP), (,, ,, ,), (Dave, dave, NNP), (Kraski, kraski, NNP), (,, ,, ,), (Bruce, bruce, NNP), (Stedman, stedman, NNP), (and, and, CC), (Chad, chad, NNP), (Schmidt, schmidt, NNP), (in, in, IN), (regards, regard, NNS), (to, to, IN), (Fire, fire, NNP), (Protection, protection, NNP), (District, district, NNP), (21, 21, CD), (billing, billing, NN), (and, and, CC), (passage, passage, NN), (of, of, IN), (contract, contract, NN), (for, for, IN), (ALS, als, NNP), (Services, services, NNPS), (., ., .), (\\n\\n, \\n\\n, _SP), (Also, also, RB), (any, any, DT), (copies, copy, NNS), (of, of, IN), (Agenda, agenda, NNP), (Bills, bills, NNP), (,, ,, ,), (D21, d21, NNP), (Contract, contract, NNP), (and, and, CC), (materials, material, NNS), (presented, present, VBN), (for, for, IN), (review, review, NN), (in, in, IN), (Nov, nov, NNP), (/, /, SYM), (Dec, dec, NNP), (time, time, NN)...</td>\n",
       "      <td>(email, communications, between, stephanie, shook, dave, kraski, bruce, stedman, and, chad, schmidt, in, regards, to, fire, protection, district,  , billing, and, passage, of, contract, for, als, services, \\n\\n, also, any, copies, of, agenda, bills, d, contract, and, materials, presented, for, review, in, nov, dec, time, frame, in, regards, to, the, contract)</td>\n",
       "      <td>[(email, email, NN), (communications, communication, NNS), (between, between, IN), (stephanie, stephanie, NN), (shook, shake, VBD), (dave, dave, NN), (kraski, kraski, NN), (bruce, bruce, JJ), (stedman, stedman, NN), (and, and, CC), (chad, chad, VBD), (schmidt, schmidt, JJ), (in, in, IN), (regards, regard, NNS), (to, to, IN), (fire, fire, NN), (protection, protection, NN), (district, district, NN), ( ,  , ), (billing, billing, NN), (and, and, CC), (passage, passage, NN), (of, of, IN), (contract, contract, NN), (for, for, IN), (als, al, NNS), (services, service, NNS), (\\n\\n, \\n\\n, _SP), (also, also, RB), (any, any, DT), (copies, copy, NNS), (of, of, IN), (agenda, agenda, NN), (bills, bill, NNS), (d, d, MD), (contract, contract, NN), (and, and, CC), (materials, material, NNS), (presented, present, VBN), (for, for, IN), (review, review, NN), (in, in, IN), (nov, nov, NN), (dec, dec, NN), (time, time, NN), (frame, frame, NN), (in, in, IN), (regards, regard, NNS), (to, to, IN), (the, the,...</td>\n",
       "    </tr>\n",
       "  </tbody>\n",
       "</table>\n",
       "</div>"
      ],
      "text/plain": [
       "   index                                                                                                                                                                                                                                                                                                                                                                                                                                                                                Summary       city month_year                                                                                                                                                                                                                                                                                                                                                                                                                                                        sum_ed  \\\n",
       "0      0  We are working with an engineering firm on an upcoming project.  They have asked us to gather maps for this project.  Would you be able to assist me in gathering maps/records (as builds) for any underground water facilities you may have?  Something just showing the route of the water lines would do.\\n\\n207th ST NE to 92nd Ave NE, Arlington, Cascade Surveying & Engineering \\n\\nI have attached the scope for your convenience.  Please let me know if you have questions.  Arlington    2018-06  we are working with an engineering firm on an upcoming project  they have asked us to gather maps for this project  would you be able to assist me in gathering maps records as builds for any underground water facilities you may have  something just showing the route of the water lines would do\\n\\nth st ne to nd ave ne  cascade surveying  engineering \\n\\ni have attached the scope for your convenience  please let me know if you have questions   \n",
       "1      1                                                                                                                                                                                                                                                   Need copies of contracts and all related documents pertaining to Topcub Aircraft property located at 17922 59th DR NE Arlington WA 98223 between Arlington Airport, Topcub Aircraft, City of Arlington, HCI Steel Buildings and PUD.  Arlington    2018-06                                                                                                                                                                                                                                                                         need copies of contracts and all related documents pertaining to topcub aircraft property located at  th dr ne  wa  between  airport topcub aircraft  of  hci steel buildings and pud   \n",
       "2      2                                                                                                                                                                                                                                       Copies of Building Permits of $5,000 valuation and up ($20,000 min for Re-Roofs), ($50,000 min. for Cell Tower upgrades), (Electrical, Mechanical & Plumbing at $100,000 min.) and (Solar Panels, Swimming Pools & Foundations at any valuation)  Arlington    2018-06                                                                                                                                                                                                                                                          copies of building permits of  valuation and up  min for re roofs  min for cell tower upgrades electrical mechanical  plumbing at  min and solar panels swimming pools  foundations at any valuation   \n",
       "3      3                                                                                                                                                                                    police report filed to an officer against Wayne Parris (DOB 08-03-1957) from Brittany J. Parris. The paperwork I have has a case number D18-39 it is also stamped at the bottom with 18-1294, Iím not sure which number you will need. If there is any other information needed please let me know.  Arlington    2018-06                                                                                                                                                                                    police report filed to an officer against wayne parris dob    from brittany j parris the paperwork i have has a case number d  it is also stamped at the bottom with   iím not sure which number you will need if there is any other information needed please let me know   \n",
       "4      4                                                                                                                                                           Email Communications between Stephanie Shook, Dave Kraski, Bruce Stedman and Chad Schmidt in regards to Fire Protection District 21 billing and passage of contract for ALS Services. \\n\\nAlso any copies of Agenda Bills, D21 Contract and materials presented for review in Nov/Dec time frame in regards to the contract.  Arlington    2018-06                                                                                                                                           email communications between stephanie shook dave kraski bruce stedman and chad schmidt in regards to fire protection district  billing and passage of contract for als services \\n\\nalso any copies of agenda bills d contract and materials presented for review in nov dec time frame in regards to the contract   \n",
       "\n",
       "                                                                                                                                                                                                                                                                                                                                                                                                                                                                                                                             token  \\\n",
       "0  [we, are, working, with, an, engineering, firm, on, an, upcoming, project, they, have, asked, us, to, gather, maps, for, this, project, would, you, be, able, to, assist, me, in, gathering, maps, records, as, builds, for, any, underground, water, facilities, you, may, have, something, just, showing, the, route, of, the, water, lines, would, do, th, st, ne, to, nd, ave, ne, cascade, surveying, engineering, i, have, attached, the, scope, for, your, convenience, please, let, me, know, if, you, have, questions]   \n",
       "1                                                                                                                                                                                                                                                                                                                    [need, copies, of, contracts, and, all, related, documents, pertaining, to, topcub, aircraft, property, located, at, th, dr, ne, wa, between, airport, topcub, aircraft, of, hci, steel, buildings, and, pud]   \n",
       "2                                                                                                                                                                                                                                                                                                   [copies, of, building, permits, of, valuation, and, up, min, for, re, roofs, min, for, cell, tower, upgrades, electrical, mechanical, plumbing, at, min, and, solar, panels, swimming, pools, foundations, at, any, valuation]   \n",
       "3                                                                                                                                                                                                          [police, report, filed, to, an, officer, against, wayne, parris, dob, from, brittany, j, parris, the, paperwork, i, have, has, a, case, number, d, it, is, also, stamped, at, the, bottom, with, iím, not, sure, which, number, you, will, need, if, there, is, any, other, information, needed, please, let, me, know]   \n",
       "4                                                                                                                                                                 [email, communications, between, stephanie, shook, dave, kraski, bruce, stedman, and, chad, schmidt, in, regards, to, fire, protection, district, billing, and, passage, of, contract, for, als, services, also, any, copies, of, agenda, bills, d, contract, and, materials, presented, for, review, in, nov, dec, time, frame, in, regards, to, the, contract]   \n",
       "\n",
       "                                                                                                                                                                                                                                                                                                                                                                                                                                                                                                                                                                                                                                                                                                                                                                                                                                                                                                                                                                                                                                     lemma  \\\n",
       "0  [('we', 'PRP'), ('are', 'VBP'), ('working', 'VBG'), ('with', 'IN'), ('an', 'DT'), ('engineering', 'NN'), ('firm', 'NN'), ('on', 'IN'), ('an', 'DT'), ('upcoming', 'JJ'), ('project', 'NN'), ('they', 'PRP'), ('have', 'VBP'), ('asked', 'VBN'), ('us', 'PRP'), ('to', 'TO'), ('gather', 'VB'), ('maps', 'NNS'), ('for', 'IN'), ('this', 'DT'), ('project', 'NN'), ('would', 'MD'), ('you', 'PRP'), ('be', 'VB'), ('able', 'JJ'), ('to', 'TO'), ('assist', 'VB'), ('me', 'PRP'), ('in', 'IN'), ('gathering', 'VBG'), ('maps', 'NNS'), ('records', 'NNS'), ('as', 'IN'), ('builds', 'NNS'), ('for', 'IN'), ('any', 'DT'), ('underground', 'JJ'), ('water', 'NN'), ('facilities', 'NNS'), ('you', 'PRP'), ('may', 'MD'), ('have', 'VB'), ('something', 'NN'), ('just', 'RB'), ('showing', 'VBG'), ('the', 'DT'), ('route', 'NN'), ('of', 'IN'), ('the', 'DT'), ('water', 'NN'), ('lines', 'NNS'), ('would', 'MD'), ('do', 'VB'), ('th', 'VB'), ('st', 'VB'), ('ne', 'JJ'), ('to', 'TO'), ('nd', 'VB'), ('ave', 'VB'), ('ne', 'JJ'), ('c...   \n",
       "1                                                                                                                                                                                                                                                                                                                                                                                                                                                                                                                    [('need', 'NN'), ('copies', 'NNS'), ('of', 'IN'), ('contracts', 'NNS'), ('and', 'CC'), ('all', 'DT'), ('related', 'JJ'), ('documents', 'NNS'), ('pertaining', 'VBG'), ('to', 'TO'), ('topcub', 'VB'), ('aircraft', 'NN'), ('property', 'NN'), ('located', 'VBN'), ('at', 'IN'), ('th', 'NN'), ('dr', 'NN'), ('ne', 'JJ'), ('wa', 'NN'), ('between', 'IN'), ('airport', 'NN'), ('topcub', 'NN'), ('aircraft', 'NN'), ('of', 'IN'), ('hci', 'NN'), ('steel', 'NN'), ('buildings', 'NNS'), ('and', 'CC'), ('pud', 'NN')]   \n",
       "2                                                                                                                                                                                                                                                                                                                                                                                                                                                                             [('copies', 'NNS'), ('of', 'IN'), ('building', 'VBG'), ('permits', 'NNS'), ('of', 'IN'), ('valuation', 'NN'), ('and', 'CC'), ('up', 'RB'), ('min', 'NN'), ('for', 'IN'), ('re', 'NN'), ('roofs', 'NNS'), ('min', 'VBP'), ('for', 'IN'), ('cell', 'NN'), ('tower', 'NN'), ('upgrades', 'JJ'), ('electrical', 'JJ'), ('mechanical', 'JJ'), ('plumbing', 'NN'), ('at', 'IN'), ('min', 'NN'), ('and', 'CC'), ('solar', 'JJ'), ('panels', 'NNS'), ('swimming', 'VBG'), ('pools', 'JJ'), ('foundations', 'NNS'), ('at', 'IN'), ('any', 'DT'), ('valuation', 'NN')]   \n",
       "3                                                                                                                                                                                 [('police', 'NNS'), ('report', 'NN'), ('filed', 'VBD'), ('to', 'TO'), ('an', 'DT'), ('officer', 'NN'), ('against', 'IN'), ('wayne', 'JJ'), ('parris', 'JJ'), ('dob', 'NN'), ('from', 'IN'), ('brittany', 'JJ'), ('j', 'NN'), ('parris', 'VBD'), ('the', 'DT'), ('paperwork', 'NN'), ('i', 'NN'), ('have', 'VBP'), ('has', 'VBZ'), ('a', 'DT'), ('case', 'NN'), ('number', 'NN'), ('d', 'NN'), ('it', 'PRP'), ('is', 'VBZ'), ('also', 'RB'), ('stamped', 'VBN'), ('at', 'IN'), ('the', 'DT'), ('bottom', 'NN'), ('with', 'IN'), ('iím', 'JJ'), ('not', 'RB'), ('sure', 'JJ'), ('which', 'WDT'), ('number', 'NN'), ('you', 'PRP'), ('will', 'MD'), ('need', 'VB'), ('if', 'IN'), ('there', 'EX'), ('is', 'VBZ'), ('any', 'DT'), ('other', 'JJ'), ('information', 'NN'), ('needed', 'VBN'), ('please', 'NN'), ('let', 'VB'), ('me', 'PRP'), ('know', 'VB')]   \n",
       "4                                                                                                                                                 [('email', 'NN'), ('communications', 'NNS'), ('between', 'IN'), ('stephanie', 'JJ'), ('shook', 'NN'), ('dave', 'VBP'), ('kraski', 'VBN'), ('bruce', 'NN'), ('stedman', 'NN'), ('and', 'CC'), ('chad', 'VBD'), ('schmidt', 'VBN'), ('in', 'IN'), ('regards', 'NNS'), ('to', 'TO'), ('fire', 'VB'), ('protection', 'NN'), ('district', 'NN'), ('billing', 'NN'), ('and', 'CC'), ('passage', 'NN'), ('of', 'IN'), ('contract', 'NN'), ('for', 'IN'), ('als', 'NNS'), ('services', 'NNS'), ('also', 'RB'), ('any', 'DT'), ('copies', 'NNS'), ('of', 'IN'), ('agenda', 'NN'), ('bills', 'NNS'), ('d', 'VBP'), ('contract', 'NN'), ('and', 'CC'), ('materials', 'NNS'), ('presented', 'VBN'), ('for', 'IN'), ('review', 'NN'), ('in', 'IN'), ('nov', 'JJ'), ('dec', 'NN'), ('time', 'NN'), ('frame', 'NN'), ('in', 'IN'), ('regards', 'NNS'), ('to', 'TO'), ('the', 'DT'), ('contract', 'NN')]   \n",
       "\n",
       "                                                                                                                                                                                                                                   mash  mash_len                                                                                                                                                                                                                                                                                                                                                                                                                                                                                                                                                                                                                                                                         bigrams                    common_bigrams  \\\n",
       "0           [work, engineering, firm, upcoming, project, gather, map, project, assist, gather, map, build, underground, water, facility, something, show, route, water, line, cascade, survey, engineering, attach, scope, convenience]        26  ['work_engineering', 'engineering_firm', 'firm_upcoming', 'upcoming_project', 'project_ask', 'ask_u', 'u_gather', 'gather_map', 'map_project', 'project_would', 'would_able', 'able_assist', 'assist_gather', 'gather_map', 'map_record', 'record_build', 'build_underground', 'underground_water', 'water_facility', 'facility_may', 'may_something', 'something_show', 'show_route', 'route_water', 'water_line', 'line_would', 'would_th', 'th_st', 'st_ne', 'ne_nd', 'nd_ave', 'ave_ne', 'ne_cascade', 'cascade_survey', 'survey_engineering', 'engineering_attach', 'attach_scope', 'scope_convenience', 'convenience_please', 'please_let', 'let_know', 'know_question']                                []   \n",
       "1                                                                                                                [contract, related, pertain, topcub, aircraft, property, locate, airport, topcub, aircraft, hci, steel, building, pud]        15                                                                                                                                                                                                                                                                                                                                               ['need_copy', 'copy_contract', 'contract_related', 'related_document', 'document_pertain', 'pertain_topcub', 'topcub_aircraft', 'aircraft_property', 'property_locate', 'locate_th', 'th_dr', 'dr_ne', 'ne_wa', 'wa_airport', 'airport_topcub', 'topcub_aircraft', 'aircraft_hci', 'hci_steel', 'steel_building', 'building_pud']               ['property_locate']   \n",
       "2                                                                            [build, permit, valuation, min, roof, min, cell, tower, upgrades, electrical, mechanical, plumbing, min, solar, panel, swim, pools, foundation, valuation]        19                                                                                                                                                                                                                                                                                                                                              ['copy_build', 'build_permit', 'permit_valuation', 'valuation_min', 'min_roof', 'roof_min', 'min_cell', 'cell_tower', 'tower_upgrades', 'upgrades_electrical', 'electrical_mechanical', 'mechanical_plumbing', 'plumbing_min', 'min_solar', 'solar_panel', 'panel_swim', 'swim_pools', 'pools_foundation', 'foundation_valuation']                                []   \n",
       "3                                                                                                                    [police, officer, wayne, parris, dob, brittany, parris, paperwork, case, number, stamp, bottom, iím, sure, number]        17                                                                                                                                                                                                                                                                                            ['police_report', 'report_file', 'file_officer', 'officer_wayne', 'wayne_parris', 'parris_dob', 'dob_brittany', 'brittany_j', 'j_parris', 'parris_paperwork', 'paperwork_case', 'case_number', 'number_also', 'also_stamp', 'stamp_bottom', 'bottom_iím', 'iím_sure', 'sure_number', 'number_need', 'need_information', 'information_need', 'need_please', 'please_let', 'let_know']  ['police_report', 'case_number']   \n",
       "4  [email, communication, stephanie, shook, dave, kraski, bruce, stedman, chad, schmidt, fire, protection, district, billing, passage, contract, al, service, agenda, bill, contract, material, present, review, time, frame, contract]        27                                                                                                             ['email_communication', 'communication_stephanie', 'stephanie_shook', 'shook_dave', 'dave_kraski', 'kraski_bruce', 'bruce_stedman', 'stedman_chad', 'chad_schmidt', 'schmidt_regard', 'regard_fire', 'fire_protection', 'protection_district', 'district_billing', 'billing_passage', 'passage_contract', 'contract_al', 'al_service', 'service_also', 'also_copy', 'copy_agenda', 'agenda_bill', 'bill_contract', 'contract_material', 'material_present', 'present_review', 'review_nov', 'nov_dec', 'dec_time', 'time_frame', 'frame_regard', 'regard_contract']                                []   \n",
       "\n",
       "                                                                                                                                                                                                                             final_mash  \\\n",
       "0           [work, engineering, firm, upcoming, project, gather, map, project, assist, gather, map, build, underground, water, facility, something, show, route, water, line, cascade, survey, engineering, attach, scope, convenience]   \n",
       "1                                                                                               [contract, related, pertain, topcub, aircraft, property, locate, airport, topcub, aircraft, hci, steel, building, pud, property_locate]   \n",
       "2                                                                            [build, permit, valuation, min, roof, min, cell, tower, upgrades, electrical, mechanical, plumbing, min, solar, panel, swim, pools, foundation, valuation]   \n",
       "3                                                                                        [police, officer, wayne, parris, dob, brittany, parris, paperwork, case, number, stamp, bottom, iím, sure, number, police_report, case_number]   \n",
       "4  [email, communication, stephanie, shook, dave, kraski, bruce, stedman, chad, schmidt, fire, protection, district, billing, passage, contract, al, service, agenda, bill, contract, material, present, review, time, frame, contract]   \n",
       "\n",
       "                                                                                                                                                                                                                                                                                                                                                                                                                                                                                                                                                                                                                                                                                                                                                                                                                                                                                                                                                                                                                                       pos  \\\n",
       "0  [(We, -PRON-, PRP), (are, be, VBP), (working, work, VBG), (with, with, IN), (an, an, DT), (engineering, engineering, NN), (firm, firm, NN), (on, on, IN), (an, an, DT), (upcoming, upcoming, JJ), (project, project, NN), (., ., .), ( ,  , ), (They, -PRON-, PRP), (have, have, VBP), (asked, ask, VBN), (us, -PRON-, PRP), (to, to, TO), (gather, gather, VB), (maps, map, NNS), (for, for, IN), (this, this, DT), (project, project, NN), (., ., .), ( ,  , ), (Would, would, MD), (you, -PRON-, PRP), (be, be, VB), (able, able, JJ), (to, to, TO), (assist, assist, VB), (me, -PRON-, PRP), (in, in, IN), (gathering, gather, VBG), (maps, map, NNS), (/, /, SYM), (records, record, NNS), ((, (, -LRB-), (as, as, IN), (builds, build, NNS), (), ), -RRB-), (for, for, IN), (any, any, DT), (underground, underground, JJ), (water, water, NN), (facilities, facility, NNS), (you, -PRON-, PRP), (may, may, MD), (have, have, VB), (?, ?, .), ( ,  , ), (Something, something, NN), (just, just, RB), (showing, show, VBG), (t...   \n",
       "1                                                                                                                                                                                                                     [(Need, need, NN), (copies, copy, NNS), (of, of, IN), (contracts, contract, NNS), (and, and, CC), (all, all, DT), (related, relate, VBN), (documents, document, NNS), (pertaining, pertain, VBG), (to, to, IN), (Topcub, topcub, NNP), (Aircraft, aircraft, NNP), (property, property, NN), (located, locate, VBN), (at, at, IN), (17922, 17922, CD), (59th, 59th, JJ), (DR, dr, NNP), (NE, ne, NNP), (Arlington, arlington, NNP), (WA, wa, NNP), (98223, 98223, CD), (between, between, IN), (Arlington, arlington, NNP), (Airport, airport, NNP), (,, ,, ,), (Topcub, topcub, NNP), (Aircraft, aircraft, NNP), (,, ,, ,), (City, city, NNP), (of, of, IN), (Arlington, arlington, NNP), (,, ,, ,), (HCI, hci, NNP), (Steel, steel, NNP), (Buildings, buildings, NNPS), (and, and, CC), (PUD, pud, NNP), (., ., .)]   \n",
       "2  [(Copies, copy, NNS), (of, of, IN), (Building, building, NNP), (Permits, permits, NNPS), (of, of, IN), ($, $, $), (5,000, 5,000, CD), (valuation, valuation, NN), (and, and, CC), (up, up, NN), ((, (, -LRB-), ($, $, $), (20,000, 20,000, CD), (min, min, NN), (for, for, IN), (Re, re, NNP), (-, -, HYPH), (Roofs, roofs, NNP), (), ), -RRB-), (,, ,, ,), ((, (, -LRB-), ($, $, $), (50,000, 50,000, CD), (min, min, NN), (., ., .), (for, for, IN), (Cell, cell, NNP), (Tower, tower, NNP), (upgrades, upgrade, NNS), (), ), -RRB-), (,, ,, ,), ((, (, -LRB-), (Electrical, electrical, JJ), (,, ,, ,), (Mechanical, mechanical, NNP), (&, &, CC), (Plumbing, plumbing, NNP), (at, at, IN), ($, $, $), (100,000, 100,000, CD), (min, min, NN), (., ., .), (), ), -RRB-), (and, and, CC), ((, (, -LRB-), (Solar, solar, NNP), (Panels, panels, NNPS), (,, ,, ,), (Swimming, swimming, NNP), (Pools, pools, NNP), (&, &, CC), (Foundations, foundations, NNPS), (at, at, IN), (any, any, DT), (valuation, valuation, NN), (), ), -R...   \n",
       "3  [(police, police, NN), (report, report, NN), (filed, file, VBN), (to, to, IN), (an, an, DT), (officer, officer, NN), (against, against, IN), (Wayne, wayne, NNP), (Parris, parris, NNP), ((, (, -LRB-), (DOB, dob, NNP), (08, 08, CD), (-, -, HYPH), (03, 03, CD), (-, -, SYM), (1957, 1957, CD), (), ), -RRB-), (from, from, IN), (Brittany, brittany, NNP), (J., j., NNP), (Parris, parris, NNP), (., ., .), (The, the, DT), (paperwork, paperwork, NN), (I, -PRON-, PRP), (have, have, VBP), (has, have, VBZ), (a, a, DT), (case, case, NN), (number, number, NN), (D18, d18, NNP), (-, -, :), (39, 39, CD), (it, -PRON-, PRP), (is, be, VBZ), (also, also, RB), (stamped, stamp, VBN), (at, at, IN), (the, the, DT), (bottom, bottom, NN), (with, with, IN), (18, 18, CD), (-, -, SYM), (1294, 1294, CD), (,, ,, ,), (Iím, iím, RB), (not, not, RB), (sure, sure, JJ), (which, which, WDT), (number, number, NN), (you, -PRON-, PRP), (will, will, MD), (need, need, VB), (., ., .), (If, if, IN), (there, there, EX), (is, be, ...   \n",
       "4  [(Email, email, NN), (Communications, communications, NNP), (between, between, IN), (Stephanie, stephanie, NNP), (Shook, shook, NNP), (,, ,, ,), (Dave, dave, NNP), (Kraski, kraski, NNP), (,, ,, ,), (Bruce, bruce, NNP), (Stedman, stedman, NNP), (and, and, CC), (Chad, chad, NNP), (Schmidt, schmidt, NNP), (in, in, IN), (regards, regard, NNS), (to, to, IN), (Fire, fire, NNP), (Protection, protection, NNP), (District, district, NNP), (21, 21, CD), (billing, billing, NN), (and, and, CC), (passage, passage, NN), (of, of, IN), (contract, contract, NN), (for, for, IN), (ALS, als, NNP), (Services, services, NNPS), (., ., .), (\\n\\n, \\n\\n, _SP), (Also, also, RB), (any, any, DT), (copies, copy, NNS), (of, of, IN), (Agenda, agenda, NNP), (Bills, bills, NNP), (,, ,, ,), (D21, d21, NNP), (Contract, contract, NNP), (and, and, CC), (materials, material, NNS), (presented, present, VBN), (for, for, IN), (review, review, NN), (in, in, IN), (Nov, nov, NNP), (/, /, SYM), (Dec, dec, NNP), (time, time, NN)...   \n",
       "\n",
       "                                                                                                                                                                                                                                                                                                                                                                                                                                                                                                                                                       token_sp2  \\\n",
       "0  (we, are, working, with, an, engineering, firm, on, an, upcoming, project,  , they, have, asked, us, to, gather, maps, for, this, project,  , would, you, be, able, to, assist, me, in, gathering, maps, records, as, builds, for, any, underground, water, facilities, you, may, have,  , something, just, showing, the, route, of, the, water, lines, would, do, \\n\\n, th, st, ne, to, nd, ave, ne,  , cascade, surveying,  , engineering, \\n\\n, i, have, attached, the, scope, for, your, convenience,  , please, let, me, know, if, you, have, questions)   \n",
       "1                                                                                                                                                                                                                                                                                                                                (need, copies, of, contracts, and, all, related, documents, pertaining, to, topcub, aircraft, property, located, at,  , th, dr, ne,  , wa,  , between,  , airport, topcub, aircraft,  , of,  , hci, steel, buildings, and, pud)   \n",
       "2                                                                                                                                                                                                                                                                                                               (copies, of, building, permits, of,  , valuation, and, up,  , min, for, re, roofs,  , min, for, cell, tower, upgrades, electrical, mechanical,  , plumbing, at,  , min, and, solar, panels, swimming, pools,  , foundations, at, any, valuation)   \n",
       "3                                                                                                                                                                                                                            (police, report, filed, to, an, officer, against, wayne, parris, dob,    , from, brittany, j, parris, the, paperwork, i, have, has, a, case, number, d,  , it, is, also, stamped, at, the, bottom, with,   , iím, not, sure, which, number, you, will, need, if, there, is, any, other, information, needed, please, let, me, know)   \n",
       "4                                                                                                                                                                                      (email, communications, between, stephanie, shook, dave, kraski, bruce, stedman, and, chad, schmidt, in, regards, to, fire, protection, district,  , billing, and, passage, of, contract, for, als, services, \\n\\n, also, any, copies, of, agenda, bills, d, contract, and, materials, presented, for, review, in, nov, dec, time, frame, in, regards, to, the, contract)   \n",
       "\n",
       "                                                                                                                                                                                                                                                                                                                                                                                                                                                                                                                                                                                                                                                                                                                                                                                                                                                                                                                                                                                                                                      pos2  \n",
       "0  [(we, -PRON-, PRP), (are, be, VBP), (working, work, VBG), (with, with, IN), (an, an, DT), (engineering, engineering, NN), (firm, firm, NN), (on, on, IN), (an, an, DT), (upcoming, upcoming, JJ), (project, project, NN), ( ,  , ), (they, -PRON-, PRP), (have, have, VBP), (asked, ask, VBN), (us, -PRON-, PRP), (to, to, TO), (gather, gather, VB), (maps, map, NNS), (for, for, IN), (this, this, DT), (project, project, NN), ( ,  , ), (would, would, MD), (you, -PRON-, PRP), (be, be, VB), (able, able, JJ), (to, to, TO), (assist, assist, VB), (me, -PRON-, PRP), (in, in, IN), (gathering, gather, VBG), (maps, map, NNS), (records, record, NNS), (as, as, IN), (builds, build, NNS), (for, for, IN), (any, any, DT), (underground, underground, JJ), (water, water, NN), (facilities, facility, NNS), (you, -PRON-, PRP), (may, may, MD), (have, have, VB), ( ,  , ), (something, something, NN), (just, just, RB), (showing, show, VBG), (the, the, DT), (route, route, NN), (of, of, IN), (the, the, DT), (water, wate...  \n",
       "1                                                                                                                                                                                                                                                                                                                                                                        [(need, need, NN), (copies, copy, NNS), (of, of, IN), (contracts, contract, NNS), (and, and, CC), (all, all, DT), (related, relate, VBN), (documents, document, NNS), (pertaining, pertain, VBG), (to, to, TO), (topcub, topcub, VB), (aircraft, aircraft, NN), (property, property, NN), (located, locate, VBN), (at, at, IN), ( ,  , ), (th, th, XX), (dr, dr, NN), (ne, ne, IN), ( ,  , ), (wa, wa, IN), ( ,  , ), (between, between, IN), ( ,  , ), (airport, airport, NN), (topcub, topcub, NN), (aircraft, aircraft, NN), ( ,  , ), (of, of, IN), ( ,  , ), (hci, hci, NN), (steel, steel, NN), (buildings, building, NNS), (and, and, CC), (pud, pud, VB)]  \n",
       "2                                                                                                                                                                                                                                                                                                                        [(copies, copy, NNS), (of, of, IN), (building, building, NN), (permits, permit, NNS), (of, of, IN), ( ,  , ), (valuation, valuation, NN), (and, and, CC), (up, up, RB), ( ,  , ), (min, min, NN), (for, for, IN), (re, re, IN), (roofs, roof, NNS), ( ,  , ), (min, min, NN), (for, for, IN), (cell, cell, NN), (tower, tower, NN), (upgrades, upgrade, VBZ), (electrical, electrical, JJ), (mechanical, mechanical, JJ), ( ,  , ), (plumbing, plumbing, NN), (at, at, IN), ( ,  , ), (min, min, NN), (and, and, CC), (solar, solar, JJ), (panels, panel, NNS), (swimming, swimming, NN), (pools, pool, NNS), ( ,  , ), (foundations, foundation, NNS), (at, at, IN), (any, any, DT), (valuation, valuation, NN)]  \n",
       "3                  [(police, police, NN), (report, report, NN), (filed, file, VBN), (to, to, IN), (an, an, DT), (officer, officer, NN), (against, against, IN), (wayne, wayne, NN), (parris, parris, NN), (dob, dob, NN), (   ,    , _SP), (from, from, IN), (brittany, brittany, NN), (j, j, NN), (parris, parris, NN), (the, the, DT), (paperwork, paperwork, NN), (i, i, PRP), (have, have, VBP), (has, have, VBZ), (a, a, DT), (case, case, NN), (number, number, NN), (d, d, MD), ( ,  , ), (it, -PRON-, PRP), (is, be, VBZ), (also, also, RB), (stamped, stamp, VBN), (at, at, IN), (the, the, DT), (bottom, bottom, NN), (with, with, IN), (  ,   , _SP), (iím, iím, RB), (not, not, RB), (sure, sure, JJ), (which, which, WDT), (number, number, NN), (you, -PRON-, PRP), (will, will, MD), (need, need, VB), (if, if, IN), (there, there, EX), (is, be, VBZ), (any, any, DT), (other, other, JJ), (information, information, NN), (needed, need, VBN), (please, please, UH), (let, let, VB), (me, -PRON-, PRP), (know, know, VB)]  \n",
       "4  [(email, email, NN), (communications, communication, NNS), (between, between, IN), (stephanie, stephanie, NN), (shook, shake, VBD), (dave, dave, NN), (kraski, kraski, NN), (bruce, bruce, JJ), (stedman, stedman, NN), (and, and, CC), (chad, chad, VBD), (schmidt, schmidt, JJ), (in, in, IN), (regards, regard, NNS), (to, to, IN), (fire, fire, NN), (protection, protection, NN), (district, district, NN), ( ,  , ), (billing, billing, NN), (and, and, CC), (passage, passage, NN), (of, of, IN), (contract, contract, NN), (for, for, IN), (als, al, NNS), (services, service, NNS), (\\n\\n, \\n\\n, _SP), (also, also, RB), (any, any, DT), (copies, copy, NNS), (of, of, IN), (agenda, agenda, NN), (bills, bill, NNS), (d, d, MD), (contract, contract, NN), (and, and, CC), (materials, material, NNS), (presented, present, VBN), (for, for, IN), (review, review, NN), (in, in, IN), (nov, nov, NN), (dec, dec, NN), (time, time, NN), (frame, frame, NN), (in, in, IN), (regards, regard, NNS), (to, to, IN), (the, the,...  "
      ]
     },
     "execution_count": 15,
     "metadata": {},
     "output_type": "execute_result"
    }
   ],
   "source": [
    "data_sp.head()"
   ]
  },
  {
   "cell_type": "code",
   "execution_count": null,
   "metadata": {
    "collapsed": true
   },
   "outputs": [],
   "source": [
    "for eachWord in wordList:\n",
    " \n",
    "        if eachWord.istitle() and len(eachWord) >= 4 and len(eachWord) <= 20:\n",
    "            # if the word meets the specified conditions we add it\n",
    "            #    to the properNamesList\n",
    "            properNameList.append(eachWord)\n",
    "        else:\n",
    "            # otherwise we loop to the next word\n",
    "            continue"
   ]
  },
  {
   "cell_type": "code",
   "execution_count": null,
   "metadata": {
    "collapsed": true
   },
   "outputs": [],
   "source": []
  }
 ],
 "metadata": {
  "kernelspec": {
   "display_name": "Python 3",
   "language": "python",
   "name": "python3"
  },
  "language_info": {
   "codemirror_mode": {
    "name": "ipython",
    "version": 3
   },
   "file_extension": ".py",
   "mimetype": "text/x-python",
   "name": "python",
   "nbconvert_exporter": "python",
   "pygments_lexer": "ipython3",
   "version": "3.6.3"
  }
 },
 "nbformat": 4,
 "nbformat_minor": 2
}
