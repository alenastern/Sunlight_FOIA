{
 "cells": [
  {
   "cell_type": "code",
   "execution_count": 2,
   "metadata": {},
   "outputs": [
    {
     "name": "stdout",
     "output_type": "stream",
     "text": [
      "Populating the interactive namespace from numpy and matplotlib\n"
     ]
    }
   ],
   "source": [
    "# system tools\n",
    "import warnings\n",
    "import json\n",
    "import sys\n",
    "import string\n",
    "import ast\n",
    "\n",
    "# data cleaning + analysis tools\n",
    "import pandas as pd\n",
    "import datetime as dt\n",
    "import numpy as np\n",
    "import re\n",
    "import matplotlib.pyplot as plt\n",
    "import seaborn as sns\n",
    "\n",
    "#nlp tools\n",
    "import lda #Latent Dirichlet Allocation (create topics)\n",
    "import gensim\n",
    "import spacy\n",
    "from gensim import corpora, models #for constructing document term matrix\n",
    "#from stop_words import get_stop_words\n",
    "from gensim.models import Phrases\n",
    "from collections import Counter\n",
    "import nltk\n",
    "from nltk.corpus import stopwords\n",
    "from nltk.stem.wordnet import WordNetLemmatizer\n",
    "from nltk.corpus import wordnet\n",
    "from nltk.util import ngrams\n",
    "\n",
    "#set notebook preferences\n",
    "pd.set_option('display.height', 1000)\n",
    "pd.set_option('display.max_rows', 500)\n",
    "pd.set_option('display.max_columns', 500)\n",
    "pd.set_option('display.max_colwidth', 1000)\n",
    "pd.set_option('display.width', 1000)\n",
    "warnings.filterwarnings('ignore')\n",
    "\n",
    "%pylab inline\n",
    "pylab.rcParams['figure.figsize'] = (10, 6)"
   ]
  },
  {
   "cell_type": "markdown",
   "metadata": {},
   "source": [
    "##  Import data frame from cleaning/preprocessing"
   ]
  },
  {
   "cell_type": "code",
   "execution_count": 152,
   "metadata": {},
   "outputs": [],
   "source": [
    "data = pd.read_csv('data.csv')\n",
    "data['final_mash'] = data['final_mash'].apply(lambda x:  ast.literal_eval(x))\n",
    "data['mash'] = data['mash'].apply(lambda x:  ast.literal_eval(x))\n",
    "data['common_bigrams'] = data['common_bigrams'].apply(lambda x:  ast.literal_eval(x))\n",
    "data['token'] = data['token'].apply(lambda x:  ast.literal_eval(x))\n",
    "data['lemma'] = data['lemma'].apply(lambda x:  ast.literal_eval(x))\n",
    "data['pn'] = data['pn'].apply(lambda x:  ast.literal_eval(x))\n"
   ]
  },
  {
   "cell_type": "code",
   "execution_count": 14,
   "metadata": {},
   "outputs": [
    {
     "data": {
      "text/plain": [
       "count    93772.000000\n",
       "mean        15.941880\n",
       "std         28.037314\n",
       "min          1.000000\n",
       "25%          3.000000\n",
       "50%          8.000000\n",
       "75%         18.000000\n",
       "max       2682.000000\n",
       "Name: mash_len, dtype: float64"
      ]
     },
     "execution_count": 14,
     "metadata": {},
     "output_type": "execute_result"
    }
   ],
   "source": [
    "data.mash_len.describe()"
   ]
  },
  {
   "cell_type": "markdown",
   "metadata": {},
   "source": [
    "## 1) Remove words at or below certain count\n",
    "\n",
    "### count = 1"
   ]
  },
  {
   "cell_type": "code",
   "execution_count": 70,
   "metadata": {
    "collapsed": true
   },
   "outputs": [],
   "source": [
    "word_list = [y for x in list(data['mash']) for y in x]\n",
    "counts = Counter(word_list)"
   ]
  },
  {
   "cell_type": "code",
   "execution_count": 71,
   "metadata": {},
   "outputs": [
    {
     "data": {
      "text/plain": [
       "count    54183.000000\n",
       "mean        25.364838\n",
       "std        248.658395\n",
       "min          1.000000\n",
       "25%          1.000000\n",
       "50%          1.000000\n",
       "75%          4.000000\n",
       "max      15231.000000\n",
       "Name: count, dtype: float64"
      ]
     },
     "execution_count": 71,
     "metadata": {},
     "output_type": "execute_result"
    }
   ],
   "source": [
    "count_df = pd.Series(counts, name = 'count') \n",
    "count_df.index.name = 'word'\n",
    "count_df = count_df.reset_index()\n",
    "count_df['count'].describe()"
   ]
  },
  {
   "cell_type": "code",
   "execution_count": 113,
   "metadata": {
    "collapsed": true
   },
   "outputs": [],
   "source": [
    "data1 = data.copy()\n",
    "data1['mash'] = data1['mash'].apply(lambda x: [i for i in x if counts[i] > 10])\n",
    "data1['final_mash'] = data1['mash'] + data1['common_bigrams']"
   ]
  },
  {
   "cell_type": "code",
   "execution_count": 114,
   "metadata": {
    "collapsed": true
   },
   "outputs": [],
   "source": [
    "data1['mash_len'] = data1['final_mash'].apply(len)\n",
    "data1 = data1[data1['mash_len'] != 0]"
   ]
  },
  {
   "cell_type": "code",
   "execution_count": 115,
   "metadata": {},
   "outputs": [
    {
     "data": {
      "text/plain": [
       "count    92563.000000\n",
       "mean        14.872476\n",
       "std         26.004775\n",
       "min          1.000000\n",
       "25%          3.000000\n",
       "50%          7.000000\n",
       "75%         17.000000\n",
       "max       2411.000000\n",
       "Name: mash_len, dtype: float64"
      ]
     },
     "execution_count": 115,
     "metadata": {},
     "output_type": "execute_result"
    }
   ],
   "source": [
    "data1.mash_len.describe()"
   ]
  },
  {
   "cell_type": "markdown",
   "metadata": {},
   "source": [
    "### count = 10"
   ]
  },
  {
   "cell_type": "code",
   "execution_count": null,
   "metadata": {
    "collapsed": true
   },
   "outputs": [],
   "source": []
  },
  {
   "cell_type": "code",
   "execution_count": 110,
   "metadata": {
    "collapsed": true
   },
   "outputs": [],
   "source": [
    "data10 = data.copy()\n",
    "data10['mash'] = data10['mash'].apply(lambda x: [i for i in x if counts[i] > 10])\n",
    "data10['final_mash'] = data10['mash'] + data10['common_bigrams']"
   ]
  },
  {
   "cell_type": "code",
   "execution_count": 112,
   "metadata": {},
   "outputs": [
    {
     "data": {
      "text/plain": [
       "count    93744.000000\n",
       "mean        14.685111\n",
       "std         25.893634\n",
       "min          0.000000\n",
       "25%          3.000000\n",
       "50%          7.000000\n",
       "75%         17.000000\n",
       "max       2411.000000\n",
       "Name: mash_len, dtype: float64"
      ]
     },
     "execution_count": 112,
     "metadata": {},
     "output_type": "execute_result"
    }
   ],
   "source": [
    "data10 = data10[data10['mash_len'] != 0]\n",
    "data10['mash_len'] = data10['final_mash'].apply(len)\n",
    "data10.mash_len.describe()"
   ]
  },
  {
   "cell_type": "markdown",
   "metadata": {},
   "source": [
    "## 2) Remove proper names"
   ]
  },
  {
   "cell_type": "markdown",
   "metadata": {},
   "source": [
    "### 2a) Using NLTK"
   ]
  },
  {
   "cell_type": "code",
   "execution_count": 80,
   "metadata": {
    "collapsed": true
   },
   "outputs": [],
   "source": [
    "data_pn_nltk = data.copy()"
   ]
  },
  {
   "cell_type": "code",
   "execution_count": 81,
   "metadata": {},
   "outputs": [
    {
     "data": {
      "text/html": [
       "<div>\n",
       "<style scoped>\n",
       "    .dataframe tbody tr th:only-of-type {\n",
       "        vertical-align: middle;\n",
       "    }\n",
       "\n",
       "    .dataframe tbody tr th {\n",
       "        vertical-align: top;\n",
       "    }\n",
       "\n",
       "    .dataframe thead th {\n",
       "        text-align: right;\n",
       "    }\n",
       "</style>\n",
       "<table border=\"1\" class=\"dataframe\">\n",
       "  <thead>\n",
       "    <tr style=\"text-align: right;\">\n",
       "      <th></th>\n",
       "      <th>index</th>\n",
       "      <th>Summary</th>\n",
       "      <th>city</th>\n",
       "      <th>month_year</th>\n",
       "      <th>sum_ed</th>\n",
       "      <th>token</th>\n",
       "      <th>lemma</th>\n",
       "      <th>mash</th>\n",
       "      <th>mash_len</th>\n",
       "      <th>bigrams</th>\n",
       "      <th>count_total</th>\n",
       "      <th>common_bigrams</th>\n",
       "      <th>final_mash</th>\n",
       "    </tr>\n",
       "  </thead>\n",
       "  <tbody>\n",
       "    <tr>\n",
       "      <th>0</th>\n",
       "      <td>0</td>\n",
       "      <td>We are working with an engineering firm on an upcoming project.  They have asked us to gather maps for this project.  Would you be able to assist me in gathering maps/records (as builds) for any underground water facilities you may have?  Something just showing the route of the water lines would do.\\n\\n207th ST NE to 92nd Ave NE, Arlington, Cascade Surveying &amp; Engineering \\n\\nI have attached the scope for your convenience.  Please let me know if you have questions.</td>\n",
       "      <td>Arlington</td>\n",
       "      <td>2018-06</td>\n",
       "      <td>we are working with an engineering firm on an upcoming project  they have asked us to gather maps for this project  would you be able to assist me in gathering maps records as builds for any underground water facilities you may have  something just showing the route of the water lines would do\\n\\nth st ne to nd ave ne  cascade surveying  engineering \\n\\ni have attached the scope for your convenience  please let me know if you have questions</td>\n",
       "      <td>[we, are, working, with, an, engineering, firm, on, an, upcoming, project, they, have, asked, us, to, gather, maps, for, this, project, would, you, be, able, to, assist, me, in, gathering, maps, records, as, builds, for, any, underground, water, facilities, you, may, have, something, just, showing, the, route, of, the, water, lines, would, do, th, st, ne, to, nd, ave, ne, cascade, surveying, engineering, i, have, attached, the, scope, for, your, convenience, please, let, me, know, if, you, have, questions]</td>\n",
       "      <td>[(we, PRP), (are, VBP), (working, VBG), (with, IN), (an, DT), (engineering, NN), (firm, NN), (on, IN), (an, DT), (upcoming, JJ), (project, NN), (they, PRP), (have, VBP), (asked, VBN), (us, PRP), (to, TO), (gather, VB), (maps, NNS), (for, IN), (this, DT), (project, NN), (would, MD), (you, PRP), (be, VB), (able, JJ), (to, TO), (assist, VB), (me, PRP), (in, IN), (gathering, VBG), (maps, NNS), (records, NNS), (as, IN), (builds, NNS), (for, IN), (any, DT), (underground, JJ), (water, NN), (facilities, NNS), (you, PRP), (may, MD), (have, VB), (something, NN), (just, RB), (showing, VBG), (the, DT), (route, NN), (of, IN), (the, DT), (water, NN), (lines, NNS), (would, MD), (do, VB), (th, VB), (st, VB), (ne, JJ), (to, TO), (nd, VB), (ave, VB), (ne, JJ), (cascade, NN), (surveying, VBG), (engineering, NN), (i, NN), (have, VBP), (attached, VBN), (the, DT), (scope, NN), (for, IN), (your, PRP$), (convenience, NN), (please, NN), (let, VB), (me, PRP), (know, VB), (if, IN), (you, PRP), (have, VBP), (...</td>\n",
       "      <td>[work, engineering, firm, upcoming, project, gather, map, project, assist, gather, map, build, underground, water, facility, something, show, route, water, line, cascade, survey, engineering, scope, convenience]</td>\n",
       "      <td>25</td>\n",
       "      <td>['work_engineering', 'engineering_firm', 'firm_upcoming', 'upcoming_project', 'project_ask', 'ask_u', 'u_gather', 'gather_map', 'map_project', 'project_would', 'would_able', 'able_assist', 'assist_gather', 'gather_map', 'map_record', 'record_build', 'build_underground', 'underground_water', 'water_facility', 'facility_may', 'may_something', 'something_show', 'show_route', 'route_water', 'water_line', 'line_would', 'would_th', 'th_st', 'st_ne', 'ne_nd', 'nd_ave', 'ave_ne', 'ne_cascade', 'cascade_survey', 'survey_engineering', 'engineering_attach', 'attach_scope', 'scope_convenience', 'convenience_please', 'please_let', 'let_know', 'know_question']</td>\n",
       "      <td>61815</td>\n",
       "      <td>[]</td>\n",
       "      <td>[work, engineering, firm, upcoming, project, gather, map, project, assist, gather, map, build, underground, water, facility, something, show, route, water, line, cascade, survey, engineering, scope, convenience]</td>\n",
       "    </tr>\n",
       "    <tr>\n",
       "      <th>1</th>\n",
       "      <td>1</td>\n",
       "      <td>Need copies of contracts and all related documents pertaining to Topcub Aircraft property located at 17922 59th DR NE Arlington WA 98223 between Arlington Airport, Topcub Aircraft, City of Arlington, HCI Steel Buildings and PUD.</td>\n",
       "      <td>Arlington</td>\n",
       "      <td>2018-06</td>\n",
       "      <td>need copies of contracts and all related documents pertaining to topcub aircraft property located at  th dr ne  wa  between  airport topcub aircraft  of  hci steel buildings and pud</td>\n",
       "      <td>[need, copies, of, contracts, and, all, related, documents, pertaining, to, topcub, aircraft, property, located, at, th, dr, ne, wa, between, airport, topcub, aircraft, of, hci, steel, buildings, and, pud]</td>\n",
       "      <td>[(need, NN), (copies, NNS), (of, IN), (contracts, NNS), (and, CC), (all, DT), (related, JJ), (documents, NNS), (pertaining, VBG), (to, TO), (topcub, VB), (aircraft, NN), (property, NN), (located, VBN), (at, IN), (th, NN), (dr, NN), (ne, JJ), (wa, NN), (between, IN), (airport, NN), (topcub, NN), (aircraft, NN), (of, IN), (hci, NN), (steel, NN), (buildings, NNS), (and, CC), (pud, NN)]</td>\n",
       "      <td>[contract, related, pertain, topcub, aircraft, property, locate, airport, topcub, aircraft, hci, steel, building, pud]</td>\n",
       "      <td>15</td>\n",
       "      <td>['need_copy', 'copy_contract', 'contract_related', 'related_document', 'document_pertain', 'pertain_topcub', 'topcub_aircraft', 'aircraft_property', 'property_locate', 'locate_th', 'th_dr', 'dr_ne', 'ne_wa', 'wa_airport', 'airport_topcub', 'topcub_aircraft', 'aircraft_hci', 'hci_steel', 'steel_building', 'building_pud']</td>\n",
       "      <td>37214</td>\n",
       "      <td>['property_locate']</td>\n",
       "      <td>[contract, related, pertain, topcub, aircraft, property, locate, airport, topcub, aircraft, hci, steel, building, pud, property_locate]</td>\n",
       "    </tr>\n",
       "    <tr>\n",
       "      <th>2</th>\n",
       "      <td>2</td>\n",
       "      <td>Copies of Building Permits of $5,000 valuation and up ($20,000 min for Re-Roofs), ($50,000 min. for Cell Tower upgrades), (Electrical, Mechanical &amp; Plumbing at $100,000 min.) and (Solar Panels, Swimming Pools &amp; Foundations at any valuation)</td>\n",
       "      <td>Arlington</td>\n",
       "      <td>2018-06</td>\n",
       "      <td>copies of building permits of  valuation and up  min for re roofs  min for cell tower upgrades electrical mechanical  plumbing at  min and solar panels swimming pools  foundations at any valuation</td>\n",
       "      <td>[copies, of, building, permits, of, valuation, and, up, min, for, re, roofs, min, for, cell, tower, upgrades, electrical, mechanical, plumbing, at, min, and, solar, panels, swimming, pools, foundations, at, any, valuation]</td>\n",
       "      <td>[(copies, NNS), (of, IN), (building, VBG), (permits, NNS), (of, IN), (valuation, NN), (and, CC), (up, RB), (min, NN), (for, IN), (re, NN), (roofs, NNS), (min, VBP), (for, IN), (cell, NN), (tower, NN), (upgrades, JJ), (electrical, JJ), (mechanical, JJ), (plumbing, NN), (at, IN), (min, NN), (and, CC), (solar, JJ), (panels, NNS), (swimming, VBG), (pools, JJ), (foundations, NNS), (at, IN), (any, DT), (valuation, NN)]</td>\n",
       "      <td>[build, permit, valuation, min, roof, min, cell, tower, upgrades, electrical, mechanical, plumbing, min, solar, panel, swim, pools, foundation, valuation]</td>\n",
       "      <td>19</td>\n",
       "      <td>['copy_build', 'build_permit', 'permit_valuation', 'valuation_min', 'min_roof', 'roof_min', 'min_cell', 'cell_tower', 'tower_upgrades', 'upgrades_electrical', 'electrical_mechanical', 'mechanical_plumbing', 'plumbing_min', 'min_solar', 'solar_panel', 'panel_swim', 'swim_pools', 'pools_foundation', 'foundation_valuation']</td>\n",
       "      <td>13672</td>\n",
       "      <td>[]</td>\n",
       "      <td>[build, permit, valuation, min, roof, min, cell, tower, upgrades, electrical, mechanical, plumbing, min, solar, panel, swim, pools, foundation, valuation]</td>\n",
       "    </tr>\n",
       "    <tr>\n",
       "      <th>3</th>\n",
       "      <td>3</td>\n",
       "      <td>police report filed to an officer against Wayne Parris (DOB 08-03-1957) from Brittany J. Parris. The paperwork I have has a case number D18-39 it is also stamped at the bottom with 18-1294, Iím not sure which number you will need. If there is any other information needed please let me know.</td>\n",
       "      <td>Arlington</td>\n",
       "      <td>2018-06</td>\n",
       "      <td>police report filed to an officer against wayne parris dob    from brittany j parris the paperwork i have has a case number d  it is also stamped at the bottom with   iím not sure which number you will need if there is any other information needed please let me know</td>\n",
       "      <td>[police, report, filed, to, an, officer, against, wayne, parris, dob, from, brittany, j, parris, the, paperwork, i, have, has, a, case, number, d, it, is, also, stamped, at, the, bottom, with, iím, not, sure, which, number, you, will, need, if, there, is, any, other, information, needed, please, let, me, know]</td>\n",
       "      <td>[(police, NNS), (report, NN), (filed, VBD), (to, TO), (an, DT), (officer, NN), (against, IN), (wayne, JJ), (parris, JJ), (dob, NN), (from, IN), (brittany, JJ), (j, NN), (parris, VBD), (the, DT), (paperwork, NN), (i, NN), (have, VBP), (has, VBZ), (a, DT), (case, NN), (number, NN), (d, NN), (it, PRP), (is, VBZ), (also, RB), (stamped, VBN), (at, IN), (the, DT), (bottom, NN), (with, IN), (iím, JJ), (not, RB), (sure, JJ), (which, WDT), (number, NN), (you, PRP), (will, MD), (need, VB), (if, IN), (there, EX), (is, VBZ), (any, DT), (other, JJ), (information, NN), (needed, VBN), (please, NN), (let, VB), (me, PRP), (know, VB)]</td>\n",
       "      <td>[police, officer, wayne, parris, dob, brittany, parris, paperwork, case, number, stamp, bottom, iím, sure, number]</td>\n",
       "      <td>17</td>\n",
       "      <td>['police_report', 'report_file', 'file_officer', 'officer_wayne', 'wayne_parris', 'parris_dob', 'dob_brittany', 'brittany_j', 'j_parris', 'parris_paperwork', 'paperwork_case', 'case_number', 'number_also', 'also_stamp', 'stamp_bottom', 'bottom_iím', 'iím_sure', 'sure_number', 'number_need', 'need_information', 'information_need', 'need_please', 'please_let', 'let_know']</td>\n",
       "      <td>70002</td>\n",
       "      <td>['police_report', 'case_number']</td>\n",
       "      <td>[police, officer, wayne, parris, dob, brittany, parris, paperwork, case, number, stamp, bottom, iím, sure, number, police_report, case_number]</td>\n",
       "    </tr>\n",
       "    <tr>\n",
       "      <th>4</th>\n",
       "      <td>4</td>\n",
       "      <td>Email Communications between Stephanie Shook, Dave Kraski, Bruce Stedman and Chad Schmidt in regards to Fire Protection District 21 billing and passage of contract for ALS Services. \\n\\nAlso any copies of Agenda Bills, D21 Contract and materials presented for review in Nov/Dec time frame in regards to the contract.</td>\n",
       "      <td>Arlington</td>\n",
       "      <td>2018-06</td>\n",
       "      <td>email communications between stephanie shook dave kraski bruce stedman and chad schmidt in regards to fire protection district  billing and passage of contract for als services \\n\\nalso any copies of agenda bills d contract and materials presented for review in nov dec time frame in regards to the contract</td>\n",
       "      <td>[email, communications, between, stephanie, shook, dave, kraski, bruce, stedman, and, chad, schmidt, in, regards, to, fire, protection, district, billing, and, passage, of, contract, for, als, services, also, any, copies, of, agenda, bills, d, contract, and, materials, presented, for, review, in, nov, dec, time, frame, in, regards, to, the, contract]</td>\n",
       "      <td>[(email, NN), (communications, NNS), (between, IN), (stephanie, JJ), (shook, NN), (dave, VBP), (kraski, VBN), (bruce, NN), (stedman, NN), (and, CC), (chad, VBD), (schmidt, VBN), (in, IN), (regards, NNS), (to, TO), (fire, VB), (protection, NN), (district, NN), (billing, NN), (and, CC), (passage, NN), (of, IN), (contract, NN), (for, IN), (als, NNS), (services, NNS), (also, RB), (any, DT), (copies, NNS), (of, IN), (agenda, NN), (bills, NNS), (d, VBP), (contract, NN), (and, CC), (materials, NNS), (presented, VBN), (for, IN), (review, NN), (in, IN), (nov, JJ), (dec, NN), (time, NN), (frame, NN), (in, IN), (regards, NNS), (to, TO), (the, DT), (contract, NN)]</td>\n",
       "      <td>[email, communication, stephanie, shook, dave, kraski, bruce, stedman, chad, schmidt, fire, protection, district, billing, passage, contract, al, service, agenda, bill, contract, material, present, review, time, frame, contract]</td>\n",
       "      <td>27</td>\n",
       "      <td>['email_communication', 'communication_stephanie', 'stephanie_shook', 'shook_dave', 'dave_kraski', 'kraski_bruce', 'bruce_stedman', 'stedman_chad', 'chad_schmidt', 'schmidt_regard', 'regard_fire', 'fire_protection', 'protection_district', 'district_billing', 'billing_passage', 'passage_contract', 'contract_al', 'al_service', 'service_also', 'also_copy', 'copy_agenda', 'agenda_bill', 'bill_contract', 'contract_material', 'material_present', 'present_review', 'review_nov', 'nov_dec', 'dec_time', 'time_frame', 'frame_regard', 'regard_contract']</td>\n",
       "      <td>47312</td>\n",
       "      <td>[]</td>\n",
       "      <td>[email, communication, stephanie, shook, dave, kraski, bruce, stedman, chad, schmidt, fire, protection, district, billing, passage, contract, al, service, agenda, bill, contract, material, present, review, time, frame, contract]</td>\n",
       "    </tr>\n",
       "  </tbody>\n",
       "</table>\n",
       "</div>"
      ],
      "text/plain": [
       "   index                                                                                                                                                                                                                                                                                                                                                                                                                                                                                Summary       city month_year                                                                                                                                                                                                                                                                                                                                                                                                                                                        sum_ed  \\\n",
       "0      0  We are working with an engineering firm on an upcoming project.  They have asked us to gather maps for this project.  Would you be able to assist me in gathering maps/records (as builds) for any underground water facilities you may have?  Something just showing the route of the water lines would do.\\n\\n207th ST NE to 92nd Ave NE, Arlington, Cascade Surveying & Engineering \\n\\nI have attached the scope for your convenience.  Please let me know if you have questions.  Arlington    2018-06  we are working with an engineering firm on an upcoming project  they have asked us to gather maps for this project  would you be able to assist me in gathering maps records as builds for any underground water facilities you may have  something just showing the route of the water lines would do\\n\\nth st ne to nd ave ne  cascade surveying  engineering \\n\\ni have attached the scope for your convenience  please let me know if you have questions   \n",
       "1      1                                                                                                                                                                                                                                                   Need copies of contracts and all related documents pertaining to Topcub Aircraft property located at 17922 59th DR NE Arlington WA 98223 between Arlington Airport, Topcub Aircraft, City of Arlington, HCI Steel Buildings and PUD.  Arlington    2018-06                                                                                                                                                                                                                                                                         need copies of contracts and all related documents pertaining to topcub aircraft property located at  th dr ne  wa  between  airport topcub aircraft  of  hci steel buildings and pud   \n",
       "2      2                                                                                                                                                                                                                                       Copies of Building Permits of $5,000 valuation and up ($20,000 min for Re-Roofs), ($50,000 min. for Cell Tower upgrades), (Electrical, Mechanical & Plumbing at $100,000 min.) and (Solar Panels, Swimming Pools & Foundations at any valuation)  Arlington    2018-06                                                                                                                                                                                                                                                          copies of building permits of  valuation and up  min for re roofs  min for cell tower upgrades electrical mechanical  plumbing at  min and solar panels swimming pools  foundations at any valuation   \n",
       "3      3                                                                                                                                                                                    police report filed to an officer against Wayne Parris (DOB 08-03-1957) from Brittany J. Parris. The paperwork I have has a case number D18-39 it is also stamped at the bottom with 18-1294, Iím not sure which number you will need. If there is any other information needed please let me know.  Arlington    2018-06                                                                                                                                                                                    police report filed to an officer against wayne parris dob    from brittany j parris the paperwork i have has a case number d  it is also stamped at the bottom with   iím not sure which number you will need if there is any other information needed please let me know   \n",
       "4      4                                                                                                                                                           Email Communications between Stephanie Shook, Dave Kraski, Bruce Stedman and Chad Schmidt in regards to Fire Protection District 21 billing and passage of contract for ALS Services. \\n\\nAlso any copies of Agenda Bills, D21 Contract and materials presented for review in Nov/Dec time frame in regards to the contract.  Arlington    2018-06                                                                                                                                           email communications between stephanie shook dave kraski bruce stedman and chad schmidt in regards to fire protection district  billing and passage of contract for als services \\n\\nalso any copies of agenda bills d contract and materials presented for review in nov dec time frame in regards to the contract   \n",
       "\n",
       "                                                                                                                                                                                                                                                                                                                                                                                                                                                                                                                             token  \\\n",
       "0  [we, are, working, with, an, engineering, firm, on, an, upcoming, project, they, have, asked, us, to, gather, maps, for, this, project, would, you, be, able, to, assist, me, in, gathering, maps, records, as, builds, for, any, underground, water, facilities, you, may, have, something, just, showing, the, route, of, the, water, lines, would, do, th, st, ne, to, nd, ave, ne, cascade, surveying, engineering, i, have, attached, the, scope, for, your, convenience, please, let, me, know, if, you, have, questions]   \n",
       "1                                                                                                                                                                                                                                                                                                                    [need, copies, of, contracts, and, all, related, documents, pertaining, to, topcub, aircraft, property, located, at, th, dr, ne, wa, between, airport, topcub, aircraft, of, hci, steel, buildings, and, pud]   \n",
       "2                                                                                                                                                                                                                                                                                                   [copies, of, building, permits, of, valuation, and, up, min, for, re, roofs, min, for, cell, tower, upgrades, electrical, mechanical, plumbing, at, min, and, solar, panels, swimming, pools, foundations, at, any, valuation]   \n",
       "3                                                                                                                                                                                                          [police, report, filed, to, an, officer, against, wayne, parris, dob, from, brittany, j, parris, the, paperwork, i, have, has, a, case, number, d, it, is, also, stamped, at, the, bottom, with, iím, not, sure, which, number, you, will, need, if, there, is, any, other, information, needed, please, let, me, know]   \n",
       "4                                                                                                                                                                 [email, communications, between, stephanie, shook, dave, kraski, bruce, stedman, and, chad, schmidt, in, regards, to, fire, protection, district, billing, and, passage, of, contract, for, als, services, also, any, copies, of, agenda, bills, d, contract, and, materials, presented, for, review, in, nov, dec, time, frame, in, regards, to, the, contract]   \n",
       "\n",
       "                                                                                                                                                                                                                                                                                                                                                                                                                                                                                                                                                                                                                                                                                                                                                                                                                                                                                                                                                                                                                                     lemma  \\\n",
       "0  [(we, PRP), (are, VBP), (working, VBG), (with, IN), (an, DT), (engineering, NN), (firm, NN), (on, IN), (an, DT), (upcoming, JJ), (project, NN), (they, PRP), (have, VBP), (asked, VBN), (us, PRP), (to, TO), (gather, VB), (maps, NNS), (for, IN), (this, DT), (project, NN), (would, MD), (you, PRP), (be, VB), (able, JJ), (to, TO), (assist, VB), (me, PRP), (in, IN), (gathering, VBG), (maps, NNS), (records, NNS), (as, IN), (builds, NNS), (for, IN), (any, DT), (underground, JJ), (water, NN), (facilities, NNS), (you, PRP), (may, MD), (have, VB), (something, NN), (just, RB), (showing, VBG), (the, DT), (route, NN), (of, IN), (the, DT), (water, NN), (lines, NNS), (would, MD), (do, VB), (th, VB), (st, VB), (ne, JJ), (to, TO), (nd, VB), (ave, VB), (ne, JJ), (cascade, NN), (surveying, VBG), (engineering, NN), (i, NN), (have, VBP), (attached, VBN), (the, DT), (scope, NN), (for, IN), (your, PRP$), (convenience, NN), (please, NN), (let, VB), (me, PRP), (know, VB), (if, IN), (you, PRP), (have, VBP), (...   \n",
       "1                                                                                                                                                                                                                                                                                                                                                                                                                                                                                                                                                                                                                                        [(need, NN), (copies, NNS), (of, IN), (contracts, NNS), (and, CC), (all, DT), (related, JJ), (documents, NNS), (pertaining, VBG), (to, TO), (topcub, VB), (aircraft, NN), (property, NN), (located, VBN), (at, IN), (th, NN), (dr, NN), (ne, JJ), (wa, NN), (between, IN), (airport, NN), (topcub, NN), (aircraft, NN), (of, IN), (hci, NN), (steel, NN), (buildings, NNS), (and, CC), (pud, NN)]   \n",
       "2                                                                                                                                                                                                                                                                                                                                                                                                                                                                                                                                                                                                         [(copies, NNS), (of, IN), (building, VBG), (permits, NNS), (of, IN), (valuation, NN), (and, CC), (up, RB), (min, NN), (for, IN), (re, NN), (roofs, NNS), (min, VBP), (for, IN), (cell, NN), (tower, NN), (upgrades, JJ), (electrical, JJ), (mechanical, JJ), (plumbing, NN), (at, IN), (min, NN), (and, CC), (solar, JJ), (panels, NNS), (swimming, VBG), (pools, JJ), (foundations, NNS), (at, IN), (any, DT), (valuation, NN)]   \n",
       "3                                                                                                                                                                                                                                                                                                                                                                                         [(police, NNS), (report, NN), (filed, VBD), (to, TO), (an, DT), (officer, NN), (against, IN), (wayne, JJ), (parris, JJ), (dob, NN), (from, IN), (brittany, JJ), (j, NN), (parris, VBD), (the, DT), (paperwork, NN), (i, NN), (have, VBP), (has, VBZ), (a, DT), (case, NN), (number, NN), (d, NN), (it, PRP), (is, VBZ), (also, RB), (stamped, VBN), (at, IN), (the, DT), (bottom, NN), (with, IN), (iím, JJ), (not, RB), (sure, JJ), (which, WDT), (number, NN), (you, PRP), (will, MD), (need, VB), (if, IN), (there, EX), (is, VBZ), (any, DT), (other, JJ), (information, NN), (needed, VBN), (please, NN), (let, VB), (me, PRP), (know, VB)]   \n",
       "4                                                                                                                                                                                                                                                                                                                                                     [(email, NN), (communications, NNS), (between, IN), (stephanie, JJ), (shook, NN), (dave, VBP), (kraski, VBN), (bruce, NN), (stedman, NN), (and, CC), (chad, VBD), (schmidt, VBN), (in, IN), (regards, NNS), (to, TO), (fire, VB), (protection, NN), (district, NN), (billing, NN), (and, CC), (passage, NN), (of, IN), (contract, NN), (for, IN), (als, NNS), (services, NNS), (also, RB), (any, DT), (copies, NNS), (of, IN), (agenda, NN), (bills, NNS), (d, VBP), (contract, NN), (and, CC), (materials, NNS), (presented, VBN), (for, IN), (review, NN), (in, IN), (nov, JJ), (dec, NN), (time, NN), (frame, NN), (in, IN), (regards, NNS), (to, TO), (the, DT), (contract, NN)]   \n",
       "\n",
       "                                                                                                                                                                                                                                   mash  mash_len                                                                                                                                                                                                                                                                                                                                                                                                                                                                                                                                                                                                                                                                         bigrams  count_total                    common_bigrams  \\\n",
       "0                   [work, engineering, firm, upcoming, project, gather, map, project, assist, gather, map, build, underground, water, facility, something, show, route, water, line, cascade, survey, engineering, scope, convenience]        25  ['work_engineering', 'engineering_firm', 'firm_upcoming', 'upcoming_project', 'project_ask', 'ask_u', 'u_gather', 'gather_map', 'map_project', 'project_would', 'would_able', 'able_assist', 'assist_gather', 'gather_map', 'map_record', 'record_build', 'build_underground', 'underground_water', 'water_facility', 'facility_may', 'may_something', 'something_show', 'show_route', 'route_water', 'water_line', 'line_would', 'would_th', 'th_st', 'st_ne', 'ne_nd', 'nd_ave', 'ave_ne', 'ne_cascade', 'cascade_survey', 'survey_engineering', 'engineering_attach', 'attach_scope', 'scope_convenience', 'convenience_please', 'please_let', 'let_know', 'know_question']        61815                                []   \n",
       "1                                                                                                                [contract, related, pertain, topcub, aircraft, property, locate, airport, topcub, aircraft, hci, steel, building, pud]        15                                                                                                                                                                                                                                                                                                                                               ['need_copy', 'copy_contract', 'contract_related', 'related_document', 'document_pertain', 'pertain_topcub', 'topcub_aircraft', 'aircraft_property', 'property_locate', 'locate_th', 'th_dr', 'dr_ne', 'ne_wa', 'wa_airport', 'airport_topcub', 'topcub_aircraft', 'aircraft_hci', 'hci_steel', 'steel_building', 'building_pud']        37214               ['property_locate']   \n",
       "2                                                                            [build, permit, valuation, min, roof, min, cell, tower, upgrades, electrical, mechanical, plumbing, min, solar, panel, swim, pools, foundation, valuation]        19                                                                                                                                                                                                                                                                                                                                              ['copy_build', 'build_permit', 'permit_valuation', 'valuation_min', 'min_roof', 'roof_min', 'min_cell', 'cell_tower', 'tower_upgrades', 'upgrades_electrical', 'electrical_mechanical', 'mechanical_plumbing', 'plumbing_min', 'min_solar', 'solar_panel', 'panel_swim', 'swim_pools', 'pools_foundation', 'foundation_valuation']        13672                                []   \n",
       "3                                                                                                                    [police, officer, wayne, parris, dob, brittany, parris, paperwork, case, number, stamp, bottom, iím, sure, number]        17                                                                                                                                                                                                                                                                                            ['police_report', 'report_file', 'file_officer', 'officer_wayne', 'wayne_parris', 'parris_dob', 'dob_brittany', 'brittany_j', 'j_parris', 'parris_paperwork', 'paperwork_case', 'case_number', 'number_also', 'also_stamp', 'stamp_bottom', 'bottom_iím', 'iím_sure', 'sure_number', 'number_need', 'need_information', 'information_need', 'need_please', 'please_let', 'let_know']        70002  ['police_report', 'case_number']   \n",
       "4  [email, communication, stephanie, shook, dave, kraski, bruce, stedman, chad, schmidt, fire, protection, district, billing, passage, contract, al, service, agenda, bill, contract, material, present, review, time, frame, contract]        27                                                                                                             ['email_communication', 'communication_stephanie', 'stephanie_shook', 'shook_dave', 'dave_kraski', 'kraski_bruce', 'bruce_stedman', 'stedman_chad', 'chad_schmidt', 'schmidt_regard', 'regard_fire', 'fire_protection', 'protection_district', 'district_billing', 'billing_passage', 'passage_contract', 'contract_al', 'al_service', 'service_also', 'also_copy', 'copy_agenda', 'agenda_bill', 'bill_contract', 'contract_material', 'material_present', 'present_review', 'review_nov', 'nov_dec', 'dec_time', 'time_frame', 'frame_regard', 'regard_contract']        47312                                []   \n",
       "\n",
       "                                                                                                                                                                                                                             final_mash  \n",
       "0                   [work, engineering, firm, upcoming, project, gather, map, project, assist, gather, map, build, underground, water, facility, something, show, route, water, line, cascade, survey, engineering, scope, convenience]  \n",
       "1                                                                                               [contract, related, pertain, topcub, aircraft, property, locate, airport, topcub, aircraft, hci, steel, building, pud, property_locate]  \n",
       "2                                                                            [build, permit, valuation, min, roof, min, cell, tower, upgrades, electrical, mechanical, plumbing, min, solar, panel, swim, pools, foundation, valuation]  \n",
       "3                                                                                        [police, officer, wayne, parris, dob, brittany, parris, paperwork, case, number, stamp, bottom, iím, sure, number, police_report, case_number]  \n",
       "4  [email, communication, stephanie, shook, dave, kraski, bruce, stedman, chad, schmidt, fire, protection, district, billing, passage, contract, al, service, agenda, bill, contract, material, present, review, time, frame, contract]  "
      ]
     },
     "execution_count": 81,
     "metadata": {},
     "output_type": "execute_result"
    }
   ],
   "source": [
    "data_pn_nltk.head()"
   ]
  },
  {
   "cell_type": "code",
   "execution_count": 82,
   "metadata": {
    "collapsed": true
   },
   "outputs": [],
   "source": [
    "# two methods of identifying proper nouns, first tends to type II error (pn), second tends to type I error (pn2)\n",
    "\n",
    "data_pn_nltk['pn'] = data_pn_nltk['lemma'].apply(lambda x: [i[0] for i in x if i[1] == 'NNP'])\n",
    "data_pn_nltk['lemma2'] = data_pn_nltk['Summary'].apply(lambda x: nltk.tag.pos_tag(x.split()))\n",
    "data_pn_nltk['pn2'] = data_pn_nltk['lemma2'].apply(lambda x: [i[0] for i in x if i[1] == 'NNP'])\n",
    "data_pn_nltk['pn2'] = data_pn_nltk['pn2'].apply(lambda x: [i.lower() for i in x])\n",
    "data_pn_nltk['final_mash2'] = data_pn_nltk.apply(lambda row: [i for i in row['final_mash'] if i not in row['pn2']], axis =1)\n",
    "data_pn_nltk['final_mash'] = data_pn_nltk.apply(lambda row: [i for i in row['final_mash'] if i not in row['pn']], axis =1)\n",
    "data_pn_nltk['mash_len'] = data_pn_nltk['final_mash'].apply(len)\n",
    "data_pn_nltk['mash_len2'] = data_pn_nltk['final_mash2'].apply(len)\n",
    "\n",
    "data_pn_nltk2 = data_pn_nltk[data_pn_nltk['mash_len2'] > 0]\n",
    "data_pn_nltk = data_pn_nltk[data_pn_nltk['mash_len'] > 0]"
   ]
  },
  {
   "cell_type": "code",
   "execution_count": 83,
   "metadata": {
    "scrolled": true
   },
   "outputs": [
    {
     "data": {
      "text/plain": [
       "count    87278.000000\n",
       "mean        12.408946\n",
       "std         21.410852\n",
       "min          1.000000\n",
       "25%          2.000000\n",
       "50%          6.000000\n",
       "75%         14.000000\n",
       "max       1643.000000\n",
       "Name: mash_len2, dtype: float64"
      ]
     },
     "execution_count": 83,
     "metadata": {},
     "output_type": "execute_result"
    }
   ],
   "source": [
    "data_pn_nltk2['mash_len2'].describe()"
   ]
  },
  {
   "cell_type": "code",
   "execution_count": 84,
   "metadata": {},
   "outputs": [
    {
     "data": {
      "text/plain": [
       "count    93743.000000\n",
       "mean        15.679624\n",
       "std         27.586053\n",
       "min          1.000000\n",
       "25%          3.000000\n",
       "50%          7.000000\n",
       "75%         18.000000\n",
       "max       2724.000000\n",
       "Name: mash_len, dtype: float64"
      ]
     },
     "execution_count": 84,
     "metadata": {},
     "output_type": "execute_result"
    }
   ],
   "source": [
    "data_pn_nltk['mash_len'].describe()"
   ]
  },
  {
   "cell_type": "markdown",
   "metadata": {},
   "source": [
    "### 2b) Using spaCy"
   ]
  },
  {
   "cell_type": "code",
   "execution_count": 85,
   "metadata": {
    "collapsed": true
   },
   "outputs": [],
   "source": [
    "nlp = spacy.load('en_core_web_sm')\n",
    "data_sp = data.copy()"
   ]
  },
  {
   "cell_type": "code",
   "execution_count": 86,
   "metadata": {
    "collapsed": true
   },
   "outputs": [],
   "source": [
    "data_sp['token_sp'] = data_sp['sum_ed'].apply(lambda x: nlp(x))\n",
    "data_sp['token_sp2'] = data_sp['Summary'].apply(lambda x: nlp(x))\n",
    "data_sp['pn'] = data_sp['token_sp'].apply(lambda x: [ i.lemma_ for i in x if i.tag_ == 'NNP'])\n",
    "data_sp['pn2'] = data_sp['token_sp2'].apply(lambda x: [ i.lemma_ for i in x if i.tag_ == 'NNP'])\n",
    "data_sp['final_mash2'] = data_sp.apply(lambda row: [i for i in row['final_mash'] if i not in row['pn2']], axis =1)\n",
    "data_sp['final_mash'] = data_sp.apply(lambda row: [i for i in row['final_mash'] if i not in row['pn']], axis =1)\n"
   ]
  },
  {
   "cell_type": "code",
   "execution_count": 87,
   "metadata": {
    "collapsed": true
   },
   "outputs": [],
   "source": [
    "data_sp['mash_len'] = data_sp['final_mash'].apply(len)\n",
    "data_sp['mash_len2'] = data_sp['final_mash2'].apply(len)\n",
    "data_sp2 = data_sp[data_sp['mash_len2'] > 0]\n",
    "data_sp = data_sp[data_sp['mash_len'] > 0]    "
   ]
  },
  {
   "cell_type": "code",
   "execution_count": 37,
   "metadata": {},
   "outputs": [
    {
     "data": {
      "text/plain": [
       "count    90748.000000\n",
       "mean        11.367303\n",
       "std         20.714069\n",
       "min          1.000000\n",
       "25%          2.000000\n",
       "50%          5.000000\n",
       "75%         13.000000\n",
       "max       1674.000000\n",
       "Name: mash_len2, dtype: float64"
      ]
     },
     "execution_count": 37,
     "metadata": {},
     "output_type": "execute_result"
    }
   ],
   "source": [
    "data_sp2['mash_len2'].describe()"
   ]
  },
  {
   "cell_type": "code",
   "execution_count": 38,
   "metadata": {},
   "outputs": [
    {
     "data": {
      "text/plain": [
       "count    95292.000000\n",
       "mean        15.747723\n",
       "std         27.907075\n",
       "min          1.000000\n",
       "25%          3.000000\n",
       "50%          7.000000\n",
       "75%         18.000000\n",
       "max       2746.000000\n",
       "Name: mash_len, dtype: float64"
      ]
     },
     "execution_count": 38,
     "metadata": {},
     "output_type": "execute_result"
    }
   ],
   "source": [
    "data_sp['mash_len'].describe()"
   ]
  },
  {
   "cell_type": "code",
   "execution_count": 32,
   "metadata": {},
   "outputs": [
    {
     "data": {
      "text/html": [
       "<div>\n",
       "<style scoped>\n",
       "    .dataframe tbody tr th:only-of-type {\n",
       "        vertical-align: middle;\n",
       "    }\n",
       "\n",
       "    .dataframe tbody tr th {\n",
       "        vertical-align: top;\n",
       "    }\n",
       "\n",
       "    .dataframe thead th {\n",
       "        text-align: right;\n",
       "    }\n",
       "</style>\n",
       "<table border=\"1\" class=\"dataframe\">\n",
       "  <thead>\n",
       "    <tr style=\"text-align: right;\">\n",
       "      <th></th>\n",
       "      <th>index</th>\n",
       "      <th>Summary</th>\n",
       "      <th>city</th>\n",
       "      <th>month_year</th>\n",
       "      <th>sum_ed</th>\n",
       "      <th>token</th>\n",
       "      <th>lemma</th>\n",
       "      <th>mash</th>\n",
       "      <th>mash_len</th>\n",
       "      <th>bigrams</th>\n",
       "      <th>common_bigrams</th>\n",
       "      <th>final_mash</th>\n",
       "      <th>token_sp</th>\n",
       "      <th>token_sp2</th>\n",
       "      <th>pn</th>\n",
       "      <th>pn2</th>\n",
       "      <th>final_mash2</th>\n",
       "    </tr>\n",
       "  </thead>\n",
       "  <tbody>\n",
       "    <tr>\n",
       "      <th>0</th>\n",
       "      <td>0</td>\n",
       "      <td>We are working with an engineering firm on an upcoming project.  They have asked us to gather maps for this project.  Would you be able to assist me in gathering maps/records (as builds) for any underground water facilities you may have?  Something just showing the route of the water lines would do.\\n\\n207th ST NE to 92nd Ave NE, Arlington, Cascade Surveying &amp; Engineering \\n\\nI have attached the scope for your convenience.  Please let me know if you have questions.</td>\n",
       "      <td>Arlington</td>\n",
       "      <td>2018-06</td>\n",
       "      <td>we are working with an engineering firm on an upcoming project  they have asked us to gather maps for this project  would you be able to assist me in gathering maps records as builds for any underground water facilities you may have  something just showing the route of the water lines would do\\n\\nth st ne to nd ave ne  cascade surveying  engineering \\n\\ni have attached the scope for your convenience  please let me know if you have questions</td>\n",
       "      <td>[we, are, working, with, an, engineering, firm, on, an, upcoming, project, they, have, asked, us, to, gather, maps, for, this, project, would, you, be, able, to, assist, me, in, gathering, maps, records, as, builds, for, any, underground, water, facilities, you, may, have, something, just, showing, the, route, of, the, water, lines, would, do, th, st, ne, to, nd, ave, ne, cascade, surveying, engineering, i, have, attached, the, scope, for, your, convenience, please, let, me, know, if, you, have, questions]</td>\n",
       "      <td>[('we', 'PRP'), ('are', 'VBP'), ('working', 'VBG'), ('with', 'IN'), ('an', 'DT'), ('engineering', 'NN'), ('firm', 'NN'), ('on', 'IN'), ('an', 'DT'), ('upcoming', 'JJ'), ('project', 'NN'), ('they', 'PRP'), ('have', 'VBP'), ('asked', 'VBN'), ('us', 'PRP'), ('to', 'TO'), ('gather', 'VB'), ('maps', 'NNS'), ('for', 'IN'), ('this', 'DT'), ('project', 'NN'), ('would', 'MD'), ('you', 'PRP'), ('be', 'VB'), ('able', 'JJ'), ('to', 'TO'), ('assist', 'VB'), ('me', 'PRP'), ('in', 'IN'), ('gathering', 'VBG'), ('maps', 'NNS'), ('records', 'NNS'), ('as', 'IN'), ('builds', 'NNS'), ('for', 'IN'), ('any', 'DT'), ('underground', 'JJ'), ('water', 'NN'), ('facilities', 'NNS'), ('you', 'PRP'), ('may', 'MD'), ('have', 'VB'), ('something', 'NN'), ('just', 'RB'), ('showing', 'VBG'), ('the', 'DT'), ('route', 'NN'), ('of', 'IN'), ('the', 'DT'), ('water', 'NN'), ('lines', 'NNS'), ('would', 'MD'), ('do', 'VB'), ('th', 'VB'), ('st', 'VB'), ('ne', 'JJ'), ('to', 'TO'), ('nd', 'VB'), ('ave', 'VB'), ('ne', 'JJ'), ('c...</td>\n",
       "      <td>[work, engineering, firm, upcoming, project, gather, map, project, assist, gather, map, build, underground, water, facility, something, show, route, water, line, cascade, survey, engineering, attach, scope, convenience]</td>\n",
       "      <td>26</td>\n",
       "      <td>['work_engineering', 'engineering_firm', 'firm_upcoming', 'upcoming_project', 'project_ask', 'ask_u', 'u_gather', 'gather_map', 'map_project', 'project_would', 'would_able', 'able_assist', 'assist_gather', 'gather_map', 'map_record', 'record_build', 'build_underground', 'underground_water', 'water_facility', 'facility_may', 'may_something', 'something_show', 'show_route', 'route_water', 'water_line', 'line_would', 'would_th', 'th_st', 'st_ne', 'ne_nd', 'nd_ave', 'ave_ne', 'ne_cascade', 'cascade_survey', 'survey_engineering', 'engineering_attach', 'attach_scope', 'scope_convenience', 'convenience_please', 'please_let', 'let_know', 'know_question']</td>\n",
       "      <td>[]</td>\n",
       "      <td>[work, engineering, firm, upcoming, project, gather, map, project, assist, gather, map, build, underground, water, facility, something, show, route, water, line, cascade, survey, engineering, attach, scope, convenience]</td>\n",
       "      <td>(we, are, working, with, an, engineering, firm, on, an, upcoming, project,  , they, have, asked, us, to, gather, maps, for, this, project,  , would, you, be, able, to, assist, me, in, gathering, maps, records, as, builds, for, any, underground, water, facilities, you, may, have,  , something, just, showing, the, route, of, the, water, lines, would, do, \\n\\n, th, st, ne, to, nd, ave, ne,  , cascade, surveying,  , engineering, \\n\\n, i, have, attached, the, scope, for, your, convenience,  , please, let, me, know, if, you, have, questions)</td>\n",
       "      <td>(We, are, working, with, an, engineering, firm, on, an, upcoming, project, .,  , They, have, asked, us, to, gather, maps, for, this, project, .,  , Would, you, be, able, to, assist, me, in, gathering, maps, /, records, (, as, builds, ), for, any, underground, water, facilities, you, may, have, ?,  , Something, just, showing, the, route, of, the, water, lines, would, do, ., \\n\\n, 207th, ST, NE, to, 92nd, Ave, NE, ,, Arlington, ,, Cascade, Surveying, &amp;, Engineering, \\n\\n, I, have, attached, the, scope, for, your, convenience, .,  , Please, let, me, know, if, you, have, questions, .)</td>\n",
       "      <td>[]</td>\n",
       "      <td>[ne, ave, ne, arlington, cascade, surveying, engineering]</td>\n",
       "      <td>[work, firm, upcoming, project, gather, map, project, assist, gather, map, build, underground, water, facility, something, show, route, water, line, survey, attach, scope, convenience]</td>\n",
       "    </tr>\n",
       "    <tr>\n",
       "      <th>1</th>\n",
       "      <td>1</td>\n",
       "      <td>Need copies of contracts and all related documents pertaining to Topcub Aircraft property located at 17922 59th DR NE Arlington WA 98223 between Arlington Airport, Topcub Aircraft, City of Arlington, HCI Steel Buildings and PUD.</td>\n",
       "      <td>Arlington</td>\n",
       "      <td>2018-06</td>\n",
       "      <td>need copies of contracts and all related documents pertaining to topcub aircraft property located at  th dr ne  wa  between  airport topcub aircraft  of  hci steel buildings and pud</td>\n",
       "      <td>[need, copies, of, contracts, and, all, related, documents, pertaining, to, topcub, aircraft, property, located, at, th, dr, ne, wa, between, airport, topcub, aircraft, of, hci, steel, buildings, and, pud]</td>\n",
       "      <td>[('need', 'NN'), ('copies', 'NNS'), ('of', 'IN'), ('contracts', 'NNS'), ('and', 'CC'), ('all', 'DT'), ('related', 'JJ'), ('documents', 'NNS'), ('pertaining', 'VBG'), ('to', 'TO'), ('topcub', 'VB'), ('aircraft', 'NN'), ('property', 'NN'), ('located', 'VBN'), ('at', 'IN'), ('th', 'NN'), ('dr', 'NN'), ('ne', 'JJ'), ('wa', 'NN'), ('between', 'IN'), ('airport', 'NN'), ('topcub', 'NN'), ('aircraft', 'NN'), ('of', 'IN'), ('hci', 'NN'), ('steel', 'NN'), ('buildings', 'NNS'), ('and', 'CC'), ('pud', 'NN')]</td>\n",
       "      <td>[contract, related, pertain, topcub, aircraft, property, locate, airport, topcub, aircraft, hci, steel, building, pud]</td>\n",
       "      <td>15</td>\n",
       "      <td>['need_copy', 'copy_contract', 'contract_related', 'related_document', 'document_pertain', 'pertain_topcub', 'topcub_aircraft', 'aircraft_property', 'property_locate', 'locate_th', 'th_dr', 'dr_ne', 'ne_wa', 'wa_airport', 'airport_topcub', 'topcub_aircraft', 'aircraft_hci', 'hci_steel', 'steel_building', 'building_pud']</td>\n",
       "      <td>['property_locate']</td>\n",
       "      <td>[contract, related, pertain, topcub, aircraft, property, locate, airport, topcub, aircraft, hci, steel, building, pud, property_locate]</td>\n",
       "      <td>(need, copies, of, contracts, and, all, related, documents, pertaining, to, topcub, aircraft, property, located, at,  , th, dr, ne,  , wa,  , between,  , airport, topcub, aircraft,  , of,  , hci, steel, buildings, and, pud)</td>\n",
       "      <td>(Need, copies, of, contracts, and, all, related, documents, pertaining, to, Topcub, Aircraft, property, located, at, 17922, 59th, DR, NE, Arlington, WA, 98223, between, Arlington, Airport, ,, Topcub, Aircraft, ,, City, of, Arlington, ,, HCI, Steel, Buildings, and, PUD, .)</td>\n",
       "      <td>[]</td>\n",
       "      <td>[topcub, aircraft, dr, ne, arlington, wa, arlington, airport, topcub, aircraft, city, arlington, hci, steel, pud]</td>\n",
       "      <td>[contract, related, pertain, property, locate, building, property_locate]</td>\n",
       "    </tr>\n",
       "    <tr>\n",
       "      <th>2</th>\n",
       "      <td>2</td>\n",
       "      <td>Copies of Building Permits of $5,000 valuation and up ($20,000 min for Re-Roofs), ($50,000 min. for Cell Tower upgrades), (Electrical, Mechanical &amp; Plumbing at $100,000 min.) and (Solar Panels, Swimming Pools &amp; Foundations at any valuation)</td>\n",
       "      <td>Arlington</td>\n",
       "      <td>2018-06</td>\n",
       "      <td>copies of building permits of  valuation and up  min for re roofs  min for cell tower upgrades electrical mechanical  plumbing at  min and solar panels swimming pools  foundations at any valuation</td>\n",
       "      <td>[copies, of, building, permits, of, valuation, and, up, min, for, re, roofs, min, for, cell, tower, upgrades, electrical, mechanical, plumbing, at, min, and, solar, panels, swimming, pools, foundations, at, any, valuation]</td>\n",
       "      <td>[('copies', 'NNS'), ('of', 'IN'), ('building', 'VBG'), ('permits', 'NNS'), ('of', 'IN'), ('valuation', 'NN'), ('and', 'CC'), ('up', 'RB'), ('min', 'NN'), ('for', 'IN'), ('re', 'NN'), ('roofs', 'NNS'), ('min', 'VBP'), ('for', 'IN'), ('cell', 'NN'), ('tower', 'NN'), ('upgrades', 'JJ'), ('electrical', 'JJ'), ('mechanical', 'JJ'), ('plumbing', 'NN'), ('at', 'IN'), ('min', 'NN'), ('and', 'CC'), ('solar', 'JJ'), ('panels', 'NNS'), ('swimming', 'VBG'), ('pools', 'JJ'), ('foundations', 'NNS'), ('at', 'IN'), ('any', 'DT'), ('valuation', 'NN')]</td>\n",
       "      <td>[build, permit, valuation, min, roof, min, cell, tower, upgrades, electrical, mechanical, plumbing, min, solar, panel, swim, pools, foundation, valuation]</td>\n",
       "      <td>19</td>\n",
       "      <td>['copy_build', 'build_permit', 'permit_valuation', 'valuation_min', 'min_roof', 'roof_min', 'min_cell', 'cell_tower', 'tower_upgrades', 'upgrades_electrical', 'electrical_mechanical', 'mechanical_plumbing', 'plumbing_min', 'min_solar', 'solar_panel', 'panel_swim', 'swim_pools', 'pools_foundation', 'foundation_valuation']</td>\n",
       "      <td>[]</td>\n",
       "      <td>[build, permit, valuation, min, roof, min, cell, tower, upgrades, electrical, mechanical, plumbing, min, solar, panel, swim, pools, foundation, valuation]</td>\n",
       "      <td>(copies, of, building, permits, of,  , valuation, and, up,  , min, for, re, roofs,  , min, for, cell, tower, upgrades, electrical, mechanical,  , plumbing, at,  , min, and, solar, panels, swimming, pools,  , foundations, at, any, valuation)</td>\n",
       "      <td>(Copies, of, Building, Permits, of, $, 5,000, valuation, and, up, (, $, 20,000, min, for, Re, -, Roofs, ), ,, (, $, 50,000, min, ., for, Cell, Tower, upgrades, ), ,, (, Electrical, ,, Mechanical, &amp;, Plumbing, at, $, 100,000, min, ., ), and, (, Solar, Panels, ,, Swimming, Pools, &amp;, Foundations, at, any, valuation, ))</td>\n",
       "      <td>[]</td>\n",
       "      <td>[building, re, roofs, cell, tower, mechanical, plumbing, solar, swimming, pools]</td>\n",
       "      <td>[build, permit, valuation, min, roof, min, upgrades, electrical, min, panel, swim, foundation, valuation]</td>\n",
       "    </tr>\n",
       "    <tr>\n",
       "      <th>3</th>\n",
       "      <td>3</td>\n",
       "      <td>police report filed to an officer against Wayne Parris (DOB 08-03-1957) from Brittany J. Parris. The paperwork I have has a case number D18-39 it is also stamped at the bottom with 18-1294, Iím not sure which number you will need. If there is any other information needed please let me know.</td>\n",
       "      <td>Arlington</td>\n",
       "      <td>2018-06</td>\n",
       "      <td>police report filed to an officer against wayne parris dob    from brittany j parris the paperwork i have has a case number d  it is also stamped at the bottom with   iím not sure which number you will need if there is any other information needed please let me know</td>\n",
       "      <td>[police, report, filed, to, an, officer, against, wayne, parris, dob, from, brittany, j, parris, the, paperwork, i, have, has, a, case, number, d, it, is, also, stamped, at, the, bottom, with, iím, not, sure, which, number, you, will, need, if, there, is, any, other, information, needed, please, let, me, know]</td>\n",
       "      <td>[('police', 'NNS'), ('report', 'NN'), ('filed', 'VBD'), ('to', 'TO'), ('an', 'DT'), ('officer', 'NN'), ('against', 'IN'), ('wayne', 'JJ'), ('parris', 'JJ'), ('dob', 'NN'), ('from', 'IN'), ('brittany', 'JJ'), ('j', 'NN'), ('parris', 'VBD'), ('the', 'DT'), ('paperwork', 'NN'), ('i', 'NN'), ('have', 'VBP'), ('has', 'VBZ'), ('a', 'DT'), ('case', 'NN'), ('number', 'NN'), ('d', 'NN'), ('it', 'PRP'), ('is', 'VBZ'), ('also', 'RB'), ('stamped', 'VBN'), ('at', 'IN'), ('the', 'DT'), ('bottom', 'NN'), ('with', 'IN'), ('iím', 'JJ'), ('not', 'RB'), ('sure', 'JJ'), ('which', 'WDT'), ('number', 'NN'), ('you', 'PRP'), ('will', 'MD'), ('need', 'VB'), ('if', 'IN'), ('there', 'EX'), ('is', 'VBZ'), ('any', 'DT'), ('other', 'JJ'), ('information', 'NN'), ('needed', 'VBN'), ('please', 'NN'), ('let', 'VB'), ('me', 'PRP'), ('know', 'VB')]</td>\n",
       "      <td>[police, officer, wayne, parris, dob, brittany, parris, paperwork, case, number, stamp, bottom, iím, sure, number]</td>\n",
       "      <td>17</td>\n",
       "      <td>['police_report', 'report_file', 'file_officer', 'officer_wayne', 'wayne_parris', 'parris_dob', 'dob_brittany', 'brittany_j', 'j_parris', 'parris_paperwork', 'paperwork_case', 'case_number', 'number_also', 'also_stamp', 'stamp_bottom', 'bottom_iím', 'iím_sure', 'sure_number', 'number_need', 'need_information', 'information_need', 'need_please', 'please_let', 'let_know']</td>\n",
       "      <td>['police_report', 'case_number']</td>\n",
       "      <td>[police, officer, wayne, parris, dob, brittany, parris, paperwork, case, number, stamp, bottom, iím, sure, number, police_report, case_number]</td>\n",
       "      <td>(police, report, filed, to, an, officer, against, wayne, parris, dob,    , from, brittany, j, parris, the, paperwork, i, have, has, a, case, number, d,  , it, is, also, stamped, at, the, bottom, with,   , iím, not, sure, which, number, you, will, need, if, there, is, any, other, information, needed, please, let, me, know)</td>\n",
       "      <td>(police, report, filed, to, an, officer, against, Wayne, Parris, (, DOB, 08, -, 03, -, 1957, ), from, Brittany, J., Parris, ., The, paperwork, I, have, has, a, case, number, D18, -, 39, it, is, also, stamped, at, the, bottom, with, 18, -, 1294, ,, Iím, not, sure, which, number, you, will, need, ., If, there, is, any, other, information, needed, please, let, me, know, .)</td>\n",
       "      <td>[]</td>\n",
       "      <td>[wayne, parris, dob, brittany, j., parris, d18]</td>\n",
       "      <td>[police, officer, paperwork, case, number, stamp, bottom, iím, sure, number, police_report, case_number]</td>\n",
       "    </tr>\n",
       "    <tr>\n",
       "      <th>4</th>\n",
       "      <td>4</td>\n",
       "      <td>Email Communications between Stephanie Shook, Dave Kraski, Bruce Stedman and Chad Schmidt in regards to Fire Protection District 21 billing and passage of contract for ALS Services. \\n\\nAlso any copies of Agenda Bills, D21 Contract and materials presented for review in Nov/Dec time frame in regards to the contract.</td>\n",
       "      <td>Arlington</td>\n",
       "      <td>2018-06</td>\n",
       "      <td>email communications between stephanie shook dave kraski bruce stedman and chad schmidt in regards to fire protection district  billing and passage of contract for als services \\n\\nalso any copies of agenda bills d contract and materials presented for review in nov dec time frame in regards to the contract</td>\n",
       "      <td>[email, communications, between, stephanie, shook, dave, kraski, bruce, stedman, and, chad, schmidt, in, regards, to, fire, protection, district, billing, and, passage, of, contract, for, als, services, also, any, copies, of, agenda, bills, d, contract, and, materials, presented, for, review, in, nov, dec, time, frame, in, regards, to, the, contract]</td>\n",
       "      <td>[('email', 'NN'), ('communications', 'NNS'), ('between', 'IN'), ('stephanie', 'JJ'), ('shook', 'NN'), ('dave', 'VBP'), ('kraski', 'VBN'), ('bruce', 'NN'), ('stedman', 'NN'), ('and', 'CC'), ('chad', 'VBD'), ('schmidt', 'VBN'), ('in', 'IN'), ('regards', 'NNS'), ('to', 'TO'), ('fire', 'VB'), ('protection', 'NN'), ('district', 'NN'), ('billing', 'NN'), ('and', 'CC'), ('passage', 'NN'), ('of', 'IN'), ('contract', 'NN'), ('for', 'IN'), ('als', 'NNS'), ('services', 'NNS'), ('also', 'RB'), ('any', 'DT'), ('copies', 'NNS'), ('of', 'IN'), ('agenda', 'NN'), ('bills', 'NNS'), ('d', 'VBP'), ('contract', 'NN'), ('and', 'CC'), ('materials', 'NNS'), ('presented', 'VBN'), ('for', 'IN'), ('review', 'NN'), ('in', 'IN'), ('nov', 'JJ'), ('dec', 'NN'), ('time', 'NN'), ('frame', 'NN'), ('in', 'IN'), ('regards', 'NNS'), ('to', 'TO'), ('the', 'DT'), ('contract', 'NN')]</td>\n",
       "      <td>[email, communication, stephanie, shook, dave, kraski, bruce, stedman, chad, schmidt, fire, protection, district, billing, passage, contract, al, service, agenda, bill, contract, material, present, review, time, frame, contract]</td>\n",
       "      <td>27</td>\n",
       "      <td>['email_communication', 'communication_stephanie', 'stephanie_shook', 'shook_dave', 'dave_kraski', 'kraski_bruce', 'bruce_stedman', 'stedman_chad', 'chad_schmidt', 'schmidt_regard', 'regard_fire', 'fire_protection', 'protection_district', 'district_billing', 'billing_passage', 'passage_contract', 'contract_al', 'al_service', 'service_also', 'also_copy', 'copy_agenda', 'agenda_bill', 'bill_contract', 'contract_material', 'material_present', 'present_review', 'review_nov', 'nov_dec', 'dec_time', 'time_frame', 'frame_regard', 'regard_contract']</td>\n",
       "      <td>[]</td>\n",
       "      <td>[email, communication, stephanie, shook, dave, kraski, bruce, stedman, chad, schmidt, fire, protection, district, billing, passage, contract, al, service, agenda, bill, contract, material, present, review, time, frame, contract]</td>\n",
       "      <td>(email, communications, between, stephanie, shook, dave, kraski, bruce, stedman, and, chad, schmidt, in, regards, to, fire, protection, district,  , billing, and, passage, of, contract, for, als, services, \\n\\n, also, any, copies, of, agenda, bills, d, contract, and, materials, presented, for, review, in, nov, dec, time, frame, in, regards, to, the, contract)</td>\n",
       "      <td>(Email, Communications, between, Stephanie, Shook, ,, Dave, Kraski, ,, Bruce, Stedman, and, Chad, Schmidt, in, regards, to, Fire, Protection, District, 21, billing, and, passage, of, contract, for, ALS, Services, ., \\n\\n, Also, any, copies, of, Agenda, Bills, ,, D21, Contract, and, materials, presented, for, review, in, Nov, /, Dec, time, frame, in, regards, to, the, contract, .)</td>\n",
       "      <td>[]</td>\n",
       "      <td>[communications, stephanie, shook, dave, kraski, bruce, stedman, chad, schmidt, fire, protection, district, als, agenda, bills, d21, contract, nov, dec]</td>\n",
       "      <td>[email, communication, billing, passage, al, service, bill, material, present, review, time, frame]</td>\n",
       "    </tr>\n",
       "  </tbody>\n",
       "</table>\n",
       "</div>"
      ],
      "text/plain": [
       "   index                                                                                                                                                                                                                                                                                                                                                                                                                                                                                Summary       city month_year                                                                                                                                                                                                                                                                                                                                                                                                                                                        sum_ed  \\\n",
       "0      0  We are working with an engineering firm on an upcoming project.  They have asked us to gather maps for this project.  Would you be able to assist me in gathering maps/records (as builds) for any underground water facilities you may have?  Something just showing the route of the water lines would do.\\n\\n207th ST NE to 92nd Ave NE, Arlington, Cascade Surveying & Engineering \\n\\nI have attached the scope for your convenience.  Please let me know if you have questions.  Arlington    2018-06  we are working with an engineering firm on an upcoming project  they have asked us to gather maps for this project  would you be able to assist me in gathering maps records as builds for any underground water facilities you may have  something just showing the route of the water lines would do\\n\\nth st ne to nd ave ne  cascade surveying  engineering \\n\\ni have attached the scope for your convenience  please let me know if you have questions   \n",
       "1      1                                                                                                                                                                                                                                                   Need copies of contracts and all related documents pertaining to Topcub Aircraft property located at 17922 59th DR NE Arlington WA 98223 between Arlington Airport, Topcub Aircraft, City of Arlington, HCI Steel Buildings and PUD.  Arlington    2018-06                                                                                                                                                                                                                                                                         need copies of contracts and all related documents pertaining to topcub aircraft property located at  th dr ne  wa  between  airport topcub aircraft  of  hci steel buildings and pud   \n",
       "2      2                                                                                                                                                                                                                                       Copies of Building Permits of $5,000 valuation and up ($20,000 min for Re-Roofs), ($50,000 min. for Cell Tower upgrades), (Electrical, Mechanical & Plumbing at $100,000 min.) and (Solar Panels, Swimming Pools & Foundations at any valuation)  Arlington    2018-06                                                                                                                                                                                                                                                          copies of building permits of  valuation and up  min for re roofs  min for cell tower upgrades electrical mechanical  plumbing at  min and solar panels swimming pools  foundations at any valuation   \n",
       "3      3                                                                                                                                                                                    police report filed to an officer against Wayne Parris (DOB 08-03-1957) from Brittany J. Parris. The paperwork I have has a case number D18-39 it is also stamped at the bottom with 18-1294, Iím not sure which number you will need. If there is any other information needed please let me know.  Arlington    2018-06                                                                                                                                                                                    police report filed to an officer against wayne parris dob    from brittany j parris the paperwork i have has a case number d  it is also stamped at the bottom with   iím not sure which number you will need if there is any other information needed please let me know   \n",
       "4      4                                                                                                                                                           Email Communications between Stephanie Shook, Dave Kraski, Bruce Stedman and Chad Schmidt in regards to Fire Protection District 21 billing and passage of contract for ALS Services. \\n\\nAlso any copies of Agenda Bills, D21 Contract and materials presented for review in Nov/Dec time frame in regards to the contract.  Arlington    2018-06                                                                                                                                           email communications between stephanie shook dave kraski bruce stedman and chad schmidt in regards to fire protection district  billing and passage of contract for als services \\n\\nalso any copies of agenda bills d contract and materials presented for review in nov dec time frame in regards to the contract   \n",
       "\n",
       "                                                                                                                                                                                                                                                                                                                                                                                                                                                                                                                             token  \\\n",
       "0  [we, are, working, with, an, engineering, firm, on, an, upcoming, project, they, have, asked, us, to, gather, maps, for, this, project, would, you, be, able, to, assist, me, in, gathering, maps, records, as, builds, for, any, underground, water, facilities, you, may, have, something, just, showing, the, route, of, the, water, lines, would, do, th, st, ne, to, nd, ave, ne, cascade, surveying, engineering, i, have, attached, the, scope, for, your, convenience, please, let, me, know, if, you, have, questions]   \n",
       "1                                                                                                                                                                                                                                                                                                                    [need, copies, of, contracts, and, all, related, documents, pertaining, to, topcub, aircraft, property, located, at, th, dr, ne, wa, between, airport, topcub, aircraft, of, hci, steel, buildings, and, pud]   \n",
       "2                                                                                                                                                                                                                                                                                                   [copies, of, building, permits, of, valuation, and, up, min, for, re, roofs, min, for, cell, tower, upgrades, electrical, mechanical, plumbing, at, min, and, solar, panels, swimming, pools, foundations, at, any, valuation]   \n",
       "3                                                                                                                                                                                                          [police, report, filed, to, an, officer, against, wayne, parris, dob, from, brittany, j, parris, the, paperwork, i, have, has, a, case, number, d, it, is, also, stamped, at, the, bottom, with, iím, not, sure, which, number, you, will, need, if, there, is, any, other, information, needed, please, let, me, know]   \n",
       "4                                                                                                                                                                 [email, communications, between, stephanie, shook, dave, kraski, bruce, stedman, and, chad, schmidt, in, regards, to, fire, protection, district, billing, and, passage, of, contract, for, als, services, also, any, copies, of, agenda, bills, d, contract, and, materials, presented, for, review, in, nov, dec, time, frame, in, regards, to, the, contract]   \n",
       "\n",
       "                                                                                                                                                                                                                                                                                                                                                                                                                                                                                                                                                                                                                                                                                                                                                                                                                                                                                                                                                                                                                                     lemma  \\\n",
       "0  [('we', 'PRP'), ('are', 'VBP'), ('working', 'VBG'), ('with', 'IN'), ('an', 'DT'), ('engineering', 'NN'), ('firm', 'NN'), ('on', 'IN'), ('an', 'DT'), ('upcoming', 'JJ'), ('project', 'NN'), ('they', 'PRP'), ('have', 'VBP'), ('asked', 'VBN'), ('us', 'PRP'), ('to', 'TO'), ('gather', 'VB'), ('maps', 'NNS'), ('for', 'IN'), ('this', 'DT'), ('project', 'NN'), ('would', 'MD'), ('you', 'PRP'), ('be', 'VB'), ('able', 'JJ'), ('to', 'TO'), ('assist', 'VB'), ('me', 'PRP'), ('in', 'IN'), ('gathering', 'VBG'), ('maps', 'NNS'), ('records', 'NNS'), ('as', 'IN'), ('builds', 'NNS'), ('for', 'IN'), ('any', 'DT'), ('underground', 'JJ'), ('water', 'NN'), ('facilities', 'NNS'), ('you', 'PRP'), ('may', 'MD'), ('have', 'VB'), ('something', 'NN'), ('just', 'RB'), ('showing', 'VBG'), ('the', 'DT'), ('route', 'NN'), ('of', 'IN'), ('the', 'DT'), ('water', 'NN'), ('lines', 'NNS'), ('would', 'MD'), ('do', 'VB'), ('th', 'VB'), ('st', 'VB'), ('ne', 'JJ'), ('to', 'TO'), ('nd', 'VB'), ('ave', 'VB'), ('ne', 'JJ'), ('c...   \n",
       "1                                                                                                                                                                                                                                                                                                                                                                                                                                                                                                                    [('need', 'NN'), ('copies', 'NNS'), ('of', 'IN'), ('contracts', 'NNS'), ('and', 'CC'), ('all', 'DT'), ('related', 'JJ'), ('documents', 'NNS'), ('pertaining', 'VBG'), ('to', 'TO'), ('topcub', 'VB'), ('aircraft', 'NN'), ('property', 'NN'), ('located', 'VBN'), ('at', 'IN'), ('th', 'NN'), ('dr', 'NN'), ('ne', 'JJ'), ('wa', 'NN'), ('between', 'IN'), ('airport', 'NN'), ('topcub', 'NN'), ('aircraft', 'NN'), ('of', 'IN'), ('hci', 'NN'), ('steel', 'NN'), ('buildings', 'NNS'), ('and', 'CC'), ('pud', 'NN')]   \n",
       "2                                                                                                                                                                                                                                                                                                                                                                                                                                                                             [('copies', 'NNS'), ('of', 'IN'), ('building', 'VBG'), ('permits', 'NNS'), ('of', 'IN'), ('valuation', 'NN'), ('and', 'CC'), ('up', 'RB'), ('min', 'NN'), ('for', 'IN'), ('re', 'NN'), ('roofs', 'NNS'), ('min', 'VBP'), ('for', 'IN'), ('cell', 'NN'), ('tower', 'NN'), ('upgrades', 'JJ'), ('electrical', 'JJ'), ('mechanical', 'JJ'), ('plumbing', 'NN'), ('at', 'IN'), ('min', 'NN'), ('and', 'CC'), ('solar', 'JJ'), ('panels', 'NNS'), ('swimming', 'VBG'), ('pools', 'JJ'), ('foundations', 'NNS'), ('at', 'IN'), ('any', 'DT'), ('valuation', 'NN')]   \n",
       "3                                                                                                                                                                                 [('police', 'NNS'), ('report', 'NN'), ('filed', 'VBD'), ('to', 'TO'), ('an', 'DT'), ('officer', 'NN'), ('against', 'IN'), ('wayne', 'JJ'), ('parris', 'JJ'), ('dob', 'NN'), ('from', 'IN'), ('brittany', 'JJ'), ('j', 'NN'), ('parris', 'VBD'), ('the', 'DT'), ('paperwork', 'NN'), ('i', 'NN'), ('have', 'VBP'), ('has', 'VBZ'), ('a', 'DT'), ('case', 'NN'), ('number', 'NN'), ('d', 'NN'), ('it', 'PRP'), ('is', 'VBZ'), ('also', 'RB'), ('stamped', 'VBN'), ('at', 'IN'), ('the', 'DT'), ('bottom', 'NN'), ('with', 'IN'), ('iím', 'JJ'), ('not', 'RB'), ('sure', 'JJ'), ('which', 'WDT'), ('number', 'NN'), ('you', 'PRP'), ('will', 'MD'), ('need', 'VB'), ('if', 'IN'), ('there', 'EX'), ('is', 'VBZ'), ('any', 'DT'), ('other', 'JJ'), ('information', 'NN'), ('needed', 'VBN'), ('please', 'NN'), ('let', 'VB'), ('me', 'PRP'), ('know', 'VB')]   \n",
       "4                                                                                                                                                 [('email', 'NN'), ('communications', 'NNS'), ('between', 'IN'), ('stephanie', 'JJ'), ('shook', 'NN'), ('dave', 'VBP'), ('kraski', 'VBN'), ('bruce', 'NN'), ('stedman', 'NN'), ('and', 'CC'), ('chad', 'VBD'), ('schmidt', 'VBN'), ('in', 'IN'), ('regards', 'NNS'), ('to', 'TO'), ('fire', 'VB'), ('protection', 'NN'), ('district', 'NN'), ('billing', 'NN'), ('and', 'CC'), ('passage', 'NN'), ('of', 'IN'), ('contract', 'NN'), ('for', 'IN'), ('als', 'NNS'), ('services', 'NNS'), ('also', 'RB'), ('any', 'DT'), ('copies', 'NNS'), ('of', 'IN'), ('agenda', 'NN'), ('bills', 'NNS'), ('d', 'VBP'), ('contract', 'NN'), ('and', 'CC'), ('materials', 'NNS'), ('presented', 'VBN'), ('for', 'IN'), ('review', 'NN'), ('in', 'IN'), ('nov', 'JJ'), ('dec', 'NN'), ('time', 'NN'), ('frame', 'NN'), ('in', 'IN'), ('regards', 'NNS'), ('to', 'TO'), ('the', 'DT'), ('contract', 'NN')]   \n",
       "\n",
       "                                                                                                                                                                                                                                   mash  mash_len                                                                                                                                                                                                                                                                                                                                                                                                                                                                                                                                                                                                                                                                         bigrams                    common_bigrams  \\\n",
       "0           [work, engineering, firm, upcoming, project, gather, map, project, assist, gather, map, build, underground, water, facility, something, show, route, water, line, cascade, survey, engineering, attach, scope, convenience]        26  ['work_engineering', 'engineering_firm', 'firm_upcoming', 'upcoming_project', 'project_ask', 'ask_u', 'u_gather', 'gather_map', 'map_project', 'project_would', 'would_able', 'able_assist', 'assist_gather', 'gather_map', 'map_record', 'record_build', 'build_underground', 'underground_water', 'water_facility', 'facility_may', 'may_something', 'something_show', 'show_route', 'route_water', 'water_line', 'line_would', 'would_th', 'th_st', 'st_ne', 'ne_nd', 'nd_ave', 'ave_ne', 'ne_cascade', 'cascade_survey', 'survey_engineering', 'engineering_attach', 'attach_scope', 'scope_convenience', 'convenience_please', 'please_let', 'let_know', 'know_question']                                []   \n",
       "1                                                                                                                [contract, related, pertain, topcub, aircraft, property, locate, airport, topcub, aircraft, hci, steel, building, pud]        15                                                                                                                                                                                                                                                                                                                                               ['need_copy', 'copy_contract', 'contract_related', 'related_document', 'document_pertain', 'pertain_topcub', 'topcub_aircraft', 'aircraft_property', 'property_locate', 'locate_th', 'th_dr', 'dr_ne', 'ne_wa', 'wa_airport', 'airport_topcub', 'topcub_aircraft', 'aircraft_hci', 'hci_steel', 'steel_building', 'building_pud']               ['property_locate']   \n",
       "2                                                                            [build, permit, valuation, min, roof, min, cell, tower, upgrades, electrical, mechanical, plumbing, min, solar, panel, swim, pools, foundation, valuation]        19                                                                                                                                                                                                                                                                                                                                              ['copy_build', 'build_permit', 'permit_valuation', 'valuation_min', 'min_roof', 'roof_min', 'min_cell', 'cell_tower', 'tower_upgrades', 'upgrades_electrical', 'electrical_mechanical', 'mechanical_plumbing', 'plumbing_min', 'min_solar', 'solar_panel', 'panel_swim', 'swim_pools', 'pools_foundation', 'foundation_valuation']                                []   \n",
       "3                                                                                                                    [police, officer, wayne, parris, dob, brittany, parris, paperwork, case, number, stamp, bottom, iím, sure, number]        17                                                                                                                                                                                                                                                                                            ['police_report', 'report_file', 'file_officer', 'officer_wayne', 'wayne_parris', 'parris_dob', 'dob_brittany', 'brittany_j', 'j_parris', 'parris_paperwork', 'paperwork_case', 'case_number', 'number_also', 'also_stamp', 'stamp_bottom', 'bottom_iím', 'iím_sure', 'sure_number', 'number_need', 'need_information', 'information_need', 'need_please', 'please_let', 'let_know']  ['police_report', 'case_number']   \n",
       "4  [email, communication, stephanie, shook, dave, kraski, bruce, stedman, chad, schmidt, fire, protection, district, billing, passage, contract, al, service, agenda, bill, contract, material, present, review, time, frame, contract]        27                                                                                                             ['email_communication', 'communication_stephanie', 'stephanie_shook', 'shook_dave', 'dave_kraski', 'kraski_bruce', 'bruce_stedman', 'stedman_chad', 'chad_schmidt', 'schmidt_regard', 'regard_fire', 'fire_protection', 'protection_district', 'district_billing', 'billing_passage', 'passage_contract', 'contract_al', 'al_service', 'service_also', 'also_copy', 'copy_agenda', 'agenda_bill', 'bill_contract', 'contract_material', 'material_present', 'present_review', 'review_nov', 'nov_dec', 'dec_time', 'time_frame', 'frame_regard', 'regard_contract']                                []   \n",
       "\n",
       "                                                                                                                                                                                                                             final_mash                                                                                                                                                                                                                                                                                                                                                                                                                                                                                                                                                       token_sp  \\\n",
       "0           [work, engineering, firm, upcoming, project, gather, map, project, assist, gather, map, build, underground, water, facility, something, show, route, water, line, cascade, survey, engineering, attach, scope, convenience]  (we, are, working, with, an, engineering, firm, on, an, upcoming, project,  , they, have, asked, us, to, gather, maps, for, this, project,  , would, you, be, able, to, assist, me, in, gathering, maps, records, as, builds, for, any, underground, water, facilities, you, may, have,  , something, just, showing, the, route, of, the, water, lines, would, do, \\n\\n, th, st, ne, to, nd, ave, ne,  , cascade, surveying,  , engineering, \\n\\n, i, have, attached, the, scope, for, your, convenience,  , please, let, me, know, if, you, have, questions)   \n",
       "1                                                                                               [contract, related, pertain, topcub, aircraft, property, locate, airport, topcub, aircraft, hci, steel, building, pud, property_locate]                                                                                                                                                                                                                                                                                                                                (need, copies, of, contracts, and, all, related, documents, pertaining, to, topcub, aircraft, property, located, at,  , th, dr, ne,  , wa,  , between,  , airport, topcub, aircraft,  , of,  , hci, steel, buildings, and, pud)   \n",
       "2                                                                            [build, permit, valuation, min, roof, min, cell, tower, upgrades, electrical, mechanical, plumbing, min, solar, panel, swim, pools, foundation, valuation]                                                                                                                                                                                                                                                                                                               (copies, of, building, permits, of,  , valuation, and, up,  , min, for, re, roofs,  , min, for, cell, tower, upgrades, electrical, mechanical,  , plumbing, at,  , min, and, solar, panels, swimming, pools,  , foundations, at, any, valuation)   \n",
       "3                                                                                        [police, officer, wayne, parris, dob, brittany, parris, paperwork, case, number, stamp, bottom, iím, sure, number, police_report, case_number]                                                                                                                                                                                                                            (police, report, filed, to, an, officer, against, wayne, parris, dob,    , from, brittany, j, parris, the, paperwork, i, have, has, a, case, number, d,  , it, is, also, stamped, at, the, bottom, with,   , iím, not, sure, which, number, you, will, need, if, there, is, any, other, information, needed, please, let, me, know)   \n",
       "4  [email, communication, stephanie, shook, dave, kraski, bruce, stedman, chad, schmidt, fire, protection, district, billing, passage, contract, al, service, agenda, bill, contract, material, present, review, time, frame, contract]                                                                                                                                                                                      (email, communications, between, stephanie, shook, dave, kraski, bruce, stedman, and, chad, schmidt, in, regards, to, fire, protection, district,  , billing, and, passage, of, contract, for, als, services, \\n\\n, also, any, copies, of, agenda, bills, d, contract, and, materials, presented, for, review, in, nov, dec, time, frame, in, regards, to, the, contract)   \n",
       "\n",
       "                                                                                                                                                                                                                                                                                                                                                                                                                                                                                                                                                                                                     token_sp2  pn                                                                                                                                                       pn2                                                                                                                                                                               final_mash2  \n",
       "0  (We, are, working, with, an, engineering, firm, on, an, upcoming, project, .,  , They, have, asked, us, to, gather, maps, for, this, project, .,  , Would, you, be, able, to, assist, me, in, gathering, maps, /, records, (, as, builds, ), for, any, underground, water, facilities, you, may, have, ?,  , Something, just, showing, the, route, of, the, water, lines, would, do, ., \\n\\n, 207th, ST, NE, to, 92nd, Ave, NE, ,, Arlington, ,, Cascade, Surveying, &, Engineering, \\n\\n, I, have, attached, the, scope, for, your, convenience, .,  , Please, let, me, know, if, you, have, questions, .)  []                                                                                                 [ne, ave, ne, arlington, cascade, surveying, engineering]  [work, firm, upcoming, project, gather, map, project, assist, gather, map, build, underground, water, facility, something, show, route, water, line, survey, attach, scope, convenience]  \n",
       "1                                                                                                                                                                                                                                                                                                                             (Need, copies, of, contracts, and, all, related, documents, pertaining, to, Topcub, Aircraft, property, located, at, 17922, 59th, DR, NE, Arlington, WA, 98223, between, Arlington, Airport, ,, Topcub, Aircraft, ,, City, of, Arlington, ,, HCI, Steel, Buildings, and, PUD, .)  []                                         [topcub, aircraft, dr, ne, arlington, wa, arlington, airport, topcub, aircraft, city, arlington, hci, steel, pud]                                                                                                                 [contract, related, pertain, property, locate, building, property_locate]  \n",
       "2                                                                                                                                                                                                                                                                                (Copies, of, Building, Permits, of, $, 5,000, valuation, and, up, (, $, 20,000, min, for, Re, -, Roofs, ), ,, (, $, 50,000, min, ., for, Cell, Tower, upgrades, ), ,, (, Electrical, ,, Mechanical, &, Plumbing, at, $, 100,000, min, ., ), and, (, Solar, Panels, ,, Swimming, Pools, &, Foundations, at, any, valuation, ))  []                                                                          [building, re, roofs, cell, tower, mechanical, plumbing, solar, swimming, pools]                                                                                 [build, permit, valuation, min, roof, min, upgrades, electrical, min, panel, swim, foundation, valuation]  \n",
       "3                                                                                                                                                                                                                         (police, report, filed, to, an, officer, against, Wayne, Parris, (, DOB, 08, -, 03, -, 1957, ), from, Brittany, J., Parris, ., The, paperwork, I, have, has, a, case, number, D18, -, 39, it, is, also, stamped, at, the, bottom, with, 18, -, 1294, ,, Iím, not, sure, which, number, you, will, need, ., If, there, is, any, other, information, needed, please, let, me, know, .)  []                                                                                                           [wayne, parris, dob, brittany, j., parris, d18]                                                                                  [police, officer, paperwork, case, number, stamp, bottom, iím, sure, number, police_report, case_number]  \n",
       "4                                                                                                                                                                                                               (Email, Communications, between, Stephanie, Shook, ,, Dave, Kraski, ,, Bruce, Stedman, and, Chad, Schmidt, in, regards, to, Fire, Protection, District, 21, billing, and, passage, of, contract, for, ALS, Services, ., \\n\\n, Also, any, copies, of, Agenda, Bills, ,, D21, Contract, and, materials, presented, for, review, in, Nov, /, Dec, time, frame, in, regards, to, the, contract, .)  []  [communications, stephanie, shook, dave, kraski, bruce, stedman, chad, schmidt, fire, protection, district, als, agenda, bills, d21, contract, nov, dec]                                                                                       [email, communication, billing, passage, al, service, bill, material, present, review, time, frame]  "
      ]
     },
     "execution_count": 32,
     "metadata": {},
     "output_type": "execute_result"
    }
   ],
   "source": [
    "data_sp.head()"
   ]
  },
  {
   "cell_type": "code",
   "execution_count": 88,
   "metadata": {
    "collapsed": true
   },
   "outputs": [],
   "source": [
    "data_sp2 = data_sp[data_sp['mash_len2'] > 0]\n",
    "data_sp = data_sp[data_sp['mash_len'] > 0]"
   ]
  },
  {
   "cell_type": "code",
   "execution_count": null,
   "metadata": {
    "collapsed": true
   },
   "outputs": [],
   "source": [
    "data_sp2['mash_len2'].describe()"
   ]
  },
  {
   "cell_type": "code",
   "execution_count": null,
   "metadata": {
    "collapsed": true
   },
   "outputs": [],
   "source": [
    "data_sp['mash_len'].describe()"
   ]
  },
  {
   "cell_type": "markdown",
   "metadata": {},
   "source": [
    "## 3) Drop cities with low (less than 4) average count - Asheville, Greensboro, Dayton, OKC"
   ]
  },
  {
   "cell_type": "code",
   "execution_count": 89,
   "metadata": {
    "collapsed": true
   },
   "outputs": [],
   "source": [
    "data_lg_cities = data.copy()"
   ]
  },
  {
   "cell_type": "code",
   "execution_count": 90,
   "metadata": {
    "collapsed": true
   },
   "outputs": [],
   "source": [
    "data_lg_cities = data_lg_cities[(data['city'] != 'Asheville') & (data['city'] != 'Greensboro') & \n",
    "                               (data['city'] != 'Dayton') & (data['city'] != 'OKC')]"
   ]
  },
  {
   "cell_type": "markdown",
   "metadata": {},
   "source": [
    "## 4) Remove observations with small number of words in final mash "
   ]
  },
  {
   "cell_type": "markdown",
   "metadata": {},
   "source": [
    "### 4a) Greater than 2"
   ]
  },
  {
   "cell_type": "code",
   "execution_count": 91,
   "metadata": {
    "collapsed": true
   },
   "outputs": [],
   "source": [
    "data_4a = data.copy()\n",
    "data_4a = data_4a[data_4a['mash_len'] > 2]"
   ]
  },
  {
   "cell_type": "markdown",
   "metadata": {},
   "source": [
    "#### 4a.1) Model 1a"
   ]
  },
  {
   "cell_type": "code",
   "execution_count": 116,
   "metadata": {
    "collapsed": true
   },
   "outputs": [],
   "source": [
    "data_4a1 = data1.copy()\n",
    "data_4a1 = data_4a1[data_4a1['mash_len'] > 2]"
   ]
  },
  {
   "cell_type": "markdown",
   "metadata": {},
   "source": [
    "#### 4a.2) Model 1b"
   ]
  },
  {
   "cell_type": "code",
   "execution_count": 117,
   "metadata": {
    "collapsed": true
   },
   "outputs": [],
   "source": [
    "data_4a2 = data10.copy()\n",
    "data_4a2 = data_4a2[data_4a2['mash_len'] > 2]"
   ]
  },
  {
   "cell_type": "markdown",
   "metadata": {},
   "source": [
    "#### 4a.3) Model 2a"
   ]
  },
  {
   "cell_type": "code",
   "execution_count": 94,
   "metadata": {
    "collapsed": true
   },
   "outputs": [],
   "source": [
    "data_4a3 = data_sp2.copy()\n",
    "data_4a3 = data_4a3[data_4a3['mash_len'] > 2]"
   ]
  },
  {
   "cell_type": "markdown",
   "metadata": {},
   "source": [
    "#### 4a.4) Model 2b"
   ]
  },
  {
   "cell_type": "code",
   "execution_count": 95,
   "metadata": {
    "collapsed": true
   },
   "outputs": [],
   "source": [
    "data_4a4 = data_pn_nltk2.copy()\n",
    "data_4a4 = data_4a4[data_4a4['mash_len'] > 2]"
   ]
  },
  {
   "cell_type": "markdown",
   "metadata": {},
   "source": [
    "#### 4a.5) Model 3"
   ]
  },
  {
   "cell_type": "code",
   "execution_count": 96,
   "metadata": {
    "collapsed": true
   },
   "outputs": [],
   "source": [
    "data_4a5 = data_lg_cities.copy()\n",
    "data_4a5 = data_4a5[data_4a5['mash_len'] > 2]"
   ]
  },
  {
   "cell_type": "markdown",
   "metadata": {},
   "source": [
    "### 4b) Less than 3"
   ]
  },
  {
   "cell_type": "code",
   "execution_count": 99,
   "metadata": {
    "collapsed": true
   },
   "outputs": [],
   "source": [
    "data_4b = data.copy()\n",
    "data_4b = data_4b[data_4b['mash_len'] > 3]"
   ]
  },
  {
   "cell_type": "markdown",
   "metadata": {},
   "source": [
    "#### 4b.1) Model 1a"
   ]
  },
  {
   "cell_type": "code",
   "execution_count": 118,
   "metadata": {
    "collapsed": true
   },
   "outputs": [],
   "source": [
    "data_4b1 = data1.copy()\n",
    "data_4b1 = data_4b1[data_4b1['mash_len'] > 3]"
   ]
  },
  {
   "cell_type": "markdown",
   "metadata": {},
   "source": [
    "#### 4b.2) Model 1b"
   ]
  },
  {
   "cell_type": "code",
   "execution_count": 119,
   "metadata": {
    "collapsed": true
   },
   "outputs": [],
   "source": [
    "data_4b2 = data10.copy()\n",
    "data_4b2 = data_4b2[data_4b2['mash_len'] > 3]"
   ]
  },
  {
   "cell_type": "markdown",
   "metadata": {},
   "source": [
    "#### 4b.3) Model 2a"
   ]
  },
  {
   "cell_type": "code",
   "execution_count": 102,
   "metadata": {
    "collapsed": true
   },
   "outputs": [],
   "source": [
    "data_4b3 = data_sp2.copy()\n",
    "data_4b3 = data_4b3[data_4b3['mash_len'] > 3]"
   ]
  },
  {
   "cell_type": "markdown",
   "metadata": {},
   "source": [
    "#### 4b.4) Model 2b"
   ]
  },
  {
   "cell_type": "code",
   "execution_count": 103,
   "metadata": {
    "collapsed": true
   },
   "outputs": [],
   "source": [
    "data_4b4 = data_pn_nltk2.copy()\n",
    "data_4b4 = data_4b4[data_4b4['mash_len'] > 3]"
   ]
  },
  {
   "cell_type": "markdown",
   "metadata": {},
   "source": [
    "#### 4b.5) Model 3"
   ]
  },
  {
   "cell_type": "code",
   "execution_count": 104,
   "metadata": {
    "collapsed": true
   },
   "outputs": [],
   "source": [
    "data_4b5 = data_lg_cities.copy()\n",
    "data_4b5 = data_4b5[data_4b5['mash_len'] > 3]"
   ]
  },
  {
   "cell_type": "markdown",
   "metadata": {
    "collapsed": true
   },
   "source": [
    "## Run all LDA models"
   ]
  },
  {
   "cell_type": "code",
   "execution_count": 105,
   "metadata": {
    "collapsed": true
   },
   "outputs": [],
   "source": [
    "# Model 1a - words count > 1\n",
    "\n",
    "texts = list(data1['final_mash'])\n",
    "dictionary = corpora.Dictionary(texts)\n",
    "corpus = [dictionary.doc2bow(text) for text in texts]\n",
    "\n",
    "lda_data1 = gensim.models.ldamodel.LdaModel(corpus, num_topics=60, id2word = dictionary, \n",
    "                                         passes = 60, random_state=7)\n",
    "model_name = \"lda_data1\"\n",
    "lda_data1.save(model_name)\n",
    "corpus_lda = lda_data1[corpus]\n",
    "corpus_lda_list = list(corpus_lda)\n",
    "topics = data1.copy()\n",
    "topics = topics.assign(topic_comp = corpus_lda_list)\n",
    "file_name = \"topics/lda_data1.csv\"\n",
    "topics.to_csv(file_name)\n",
    "\n"
   ]
  },
  {
   "cell_type": "code",
   "execution_count": 106,
   "metadata": {},
   "outputs": [
    {
     "ename": "KeyboardInterrupt",
     "evalue": "",
     "output_type": "error",
     "traceback": [
      "\u001b[0;31m---------------------------------------------------------------------------\u001b[0m",
      "\u001b[0;31mKeyboardInterrupt\u001b[0m                         Traceback (most recent call last)",
      "\u001b[0;32m<ipython-input-106-ebe5931f345b>\u001b[0m in \u001b[0;36m<module>\u001b[0;34m()\u001b[0m\n\u001b[1;32m     59\u001b[0m \u001b[0;34m\u001b[0m\u001b[0m\n\u001b[1;32m     60\u001b[0m lda_data_lg_cities = gensim.models.ldamodel.LdaModel(corpus, num_topics=60, id2word = dictionary, \n\u001b[0;32m---> 61\u001b[0;31m                                          passes = 60, random_state=7)\n\u001b[0m\u001b[1;32m     62\u001b[0m \u001b[0mmodel_name\u001b[0m \u001b[0;34m=\u001b[0m \u001b[0;34m\"lda_data_lg_cities\"\u001b[0m\u001b[0;34m\u001b[0m\u001b[0m\n\u001b[1;32m     63\u001b[0m \u001b[0mlda_data_lg_cities\u001b[0m\u001b[0;34m.\u001b[0m\u001b[0msave\u001b[0m\u001b[0;34m(\u001b[0m\u001b[0mmodel_name\u001b[0m\u001b[0;34m)\u001b[0m\u001b[0;34m\u001b[0m\u001b[0m\n",
      "\u001b[0;32m~/anaconda3/lib/python3.6/site-packages/gensim/models/ldamodel.py\u001b[0m in \u001b[0;36m__init__\u001b[0;34m(self, corpus, num_topics, id2word, distributed, chunksize, passes, update_every, alpha, eta, decay, offset, eval_every, iterations, gamma_threshold, minimum_probability, random_state, ns_conf, minimum_phi_value, per_word_topics, callbacks, dtype)\u001b[0m\n\u001b[1;32m    513\u001b[0m         \u001b[0;32mif\u001b[0m \u001b[0mcorpus\u001b[0m \u001b[0;32mis\u001b[0m \u001b[0;32mnot\u001b[0m \u001b[0;32mNone\u001b[0m\u001b[0;34m:\u001b[0m\u001b[0;34m\u001b[0m\u001b[0m\n\u001b[1;32m    514\u001b[0m             \u001b[0muse_numpy\u001b[0m \u001b[0;34m=\u001b[0m \u001b[0mself\u001b[0m\u001b[0;34m.\u001b[0m\u001b[0mdispatcher\u001b[0m \u001b[0;32mis\u001b[0m \u001b[0;32mnot\u001b[0m \u001b[0;32mNone\u001b[0m\u001b[0;34m\u001b[0m\u001b[0m\n\u001b[0;32m--> 515\u001b[0;31m             \u001b[0mself\u001b[0m\u001b[0;34m.\u001b[0m\u001b[0mupdate\u001b[0m\u001b[0;34m(\u001b[0m\u001b[0mcorpus\u001b[0m\u001b[0;34m,\u001b[0m \u001b[0mchunks_as_numpy\u001b[0m\u001b[0;34m=\u001b[0m\u001b[0muse_numpy\u001b[0m\u001b[0;34m)\u001b[0m\u001b[0;34m\u001b[0m\u001b[0m\n\u001b[0m\u001b[1;32m    516\u001b[0m \u001b[0;34m\u001b[0m\u001b[0m\n\u001b[1;32m    517\u001b[0m     \u001b[0;32mdef\u001b[0m \u001b[0minit_dir_prior\u001b[0m\u001b[0;34m(\u001b[0m\u001b[0mself\u001b[0m\u001b[0;34m,\u001b[0m \u001b[0mprior\u001b[0m\u001b[0;34m,\u001b[0m \u001b[0mname\u001b[0m\u001b[0;34m)\u001b[0m\u001b[0;34m:\u001b[0m\u001b[0;34m\u001b[0m\u001b[0m\n",
      "\u001b[0;32m~/anaconda3/lib/python3.6/site-packages/gensim/models/ldamodel.py\u001b[0m in \u001b[0;36mupdate\u001b[0;34m(self, corpus, chunksize, decay, offset, passes, update_every, eval_every, iterations, gamma_threshold, chunks_as_numpy)\u001b[0m\n\u001b[1;32m    961\u001b[0m                         \u001b[0mpass_\u001b[0m\u001b[0;34m,\u001b[0m \u001b[0mchunk_no\u001b[0m \u001b[0;34m*\u001b[0m \u001b[0mchunksize\u001b[0m \u001b[0;34m+\u001b[0m \u001b[0mlen\u001b[0m\u001b[0;34m(\u001b[0m\u001b[0mchunk\u001b[0m\u001b[0;34m)\u001b[0m\u001b[0;34m,\u001b[0m \u001b[0mlencorpus\u001b[0m\u001b[0;34m\u001b[0m\u001b[0m\n\u001b[1;32m    962\u001b[0m                     )\n\u001b[0;32m--> 963\u001b[0;31m                     \u001b[0mgammat\u001b[0m \u001b[0;34m=\u001b[0m \u001b[0mself\u001b[0m\u001b[0;34m.\u001b[0m\u001b[0mdo_estep\u001b[0m\u001b[0;34m(\u001b[0m\u001b[0mchunk\u001b[0m\u001b[0;34m,\u001b[0m \u001b[0mother\u001b[0m\u001b[0;34m)\u001b[0m\u001b[0;34m\u001b[0m\u001b[0m\n\u001b[0m\u001b[1;32m    964\u001b[0m \u001b[0;34m\u001b[0m\u001b[0m\n\u001b[1;32m    965\u001b[0m                     \u001b[0;32mif\u001b[0m \u001b[0mself\u001b[0m\u001b[0;34m.\u001b[0m\u001b[0moptimize_alpha\u001b[0m\u001b[0;34m:\u001b[0m\u001b[0;34m\u001b[0m\u001b[0m\n",
      "\u001b[0;32m~/anaconda3/lib/python3.6/site-packages/gensim/models/ldamodel.py\u001b[0m in \u001b[0;36mdo_estep\u001b[0;34m(self, chunk, state)\u001b[0m\n\u001b[1;32m    723\u001b[0m         \u001b[0;32mif\u001b[0m \u001b[0mstate\u001b[0m \u001b[0;32mis\u001b[0m \u001b[0;32mNone\u001b[0m\u001b[0;34m:\u001b[0m\u001b[0;34m\u001b[0m\u001b[0m\n\u001b[1;32m    724\u001b[0m             \u001b[0mstate\u001b[0m \u001b[0;34m=\u001b[0m \u001b[0mself\u001b[0m\u001b[0;34m.\u001b[0m\u001b[0mstate\u001b[0m\u001b[0;34m\u001b[0m\u001b[0m\n\u001b[0;32m--> 725\u001b[0;31m         \u001b[0mgamma\u001b[0m\u001b[0;34m,\u001b[0m \u001b[0msstats\u001b[0m \u001b[0;34m=\u001b[0m \u001b[0mself\u001b[0m\u001b[0;34m.\u001b[0m\u001b[0minference\u001b[0m\u001b[0;34m(\u001b[0m\u001b[0mchunk\u001b[0m\u001b[0;34m,\u001b[0m \u001b[0mcollect_sstats\u001b[0m\u001b[0;34m=\u001b[0m\u001b[0;32mTrue\u001b[0m\u001b[0;34m)\u001b[0m\u001b[0;34m\u001b[0m\u001b[0m\n\u001b[0m\u001b[1;32m    726\u001b[0m         \u001b[0mstate\u001b[0m\u001b[0;34m.\u001b[0m\u001b[0msstats\u001b[0m \u001b[0;34m+=\u001b[0m \u001b[0msstats\u001b[0m\u001b[0;34m\u001b[0m\u001b[0m\n\u001b[1;32m    727\u001b[0m         \u001b[0mstate\u001b[0m\u001b[0;34m.\u001b[0m\u001b[0mnumdocs\u001b[0m \u001b[0;34m+=\u001b[0m \u001b[0mgamma\u001b[0m\u001b[0;34m.\u001b[0m\u001b[0mshape\u001b[0m\u001b[0;34m[\u001b[0m\u001b[0;36m0\u001b[0m\u001b[0;34m]\u001b[0m  \u001b[0;31m# avoids calling len(chunk) on a generator\u001b[0m\u001b[0;34m\u001b[0m\u001b[0m\n",
      "\u001b[0;32m~/anaconda3/lib/python3.6/site-packages/gensim/models/ldamodel.py\u001b[0m in \u001b[0;36minference\u001b[0;34m(self, chunk, collect_sstats)\u001b[0m\n\u001b[1;32m    680\u001b[0m                 \u001b[0;31m# If gamma hasn't changed much, we're done.\u001b[0m\u001b[0;34m\u001b[0m\u001b[0;34m\u001b[0m\u001b[0m\n\u001b[1;32m    681\u001b[0m                 \u001b[0mmeanchange\u001b[0m \u001b[0;34m=\u001b[0m \u001b[0mmean_absolute_difference\u001b[0m\u001b[0;34m(\u001b[0m\u001b[0mgammad\u001b[0m\u001b[0;34m,\u001b[0m \u001b[0mlastgamma\u001b[0m\u001b[0;34m)\u001b[0m\u001b[0;34m\u001b[0m\u001b[0m\n\u001b[0;32m--> 682\u001b[0;31m                 \u001b[0;32mif\u001b[0m \u001b[0mmeanchange\u001b[0m \u001b[0;34m<\u001b[0m \u001b[0mself\u001b[0m\u001b[0;34m.\u001b[0m\u001b[0mgamma_threshold\u001b[0m\u001b[0;34m:\u001b[0m\u001b[0;34m\u001b[0m\u001b[0m\n\u001b[0m\u001b[1;32m    683\u001b[0m                     \u001b[0mconverged\u001b[0m \u001b[0;34m+=\u001b[0m \u001b[0;36m1\u001b[0m\u001b[0;34m\u001b[0m\u001b[0m\n\u001b[1;32m    684\u001b[0m                     \u001b[0;32mbreak\u001b[0m\u001b[0;34m\u001b[0m\u001b[0m\n",
      "\u001b[0;31mKeyboardInterrupt\u001b[0m: "
     ]
    }
   ],
   "source": [
    "# Model 1b - words count > 10\n",
    "\n",
    "texts = list(data10['final_mash'])\n",
    "dictionary = corpora.Dictionary(texts)\n",
    "corpus = [dictionary.doc2bow(text) for text in texts]\n",
    "\n",
    "lda_data10 = gensim.models.ldamodel.LdaModel(corpus, num_topics=60, id2word = dictionary, \n",
    "                                         passes = 60, random_state=7)\n",
    "model_name = \"lda_data10\"\n",
    "lda_data10.save(model_name)\n",
    "corpus_lda = lda_data10[corpus]\n",
    "corpus_lda_list = list(corpus_lda)\n",
    "topics = data10.copy()\n",
    "topics = topics.assign(topic_comp = corpus_lda_list)\n",
    "file_name = \"topics/lda_data10.csv\"\n",
    "topics.to_csv(file_name)\n",
    "\n",
    "# Model 2a\n",
    "\n",
    "texts = list(data_pn_nltk2['final_mash'])\n",
    "dictionary = corpora.Dictionary(texts)\n",
    "corpus = [dictionary.doc2bow(text) for text in texts]\n",
    "\n",
    "lda_data_nltk = gensim.models.ldamodel.LdaModel(corpus, num_topics=60, id2word = dictionary, \n",
    "                                         passes = 60, random_state=7)\n",
    "model_name = \"lda_data_nltk\"\n",
    "lda_data_nltk.save(model_name)\n",
    "corpus_lda = lda_data_nltk[corpus]\n",
    "corpus_lda_list = list(corpus_lda)\n",
    "topics = data_pn_nltk2.copy()\n",
    "topics = topics.assign(topic_comp = corpus_lda_list)\n",
    "file_name = \"topics/lda_data_nltk.csv\"\n",
    "topics.to_csv(file_name)\n",
    "\n",
    "\n",
    "# Model 2b\n",
    "\n",
    "texts = list(data_sp2['final_mash'])\n",
    "dictionary = corpora.Dictionary(texts)\n",
    "corpus = [dictionary.doc2bow(text) for text in texts]\n",
    "\n",
    "lda_data_sp = gensim.models.ldamodel.LdaModel(corpus, num_topics=60, id2word = dictionary, \n",
    "                                         passes = 60, random_state=7)\n",
    "model_name = \"lda_data_sp\"\n",
    "lda_data_sp.save(model_name)\n",
    "corpus_lda = lda_data_nltk[corpus]\n",
    "corpus_lda_list = list(corpus_lda)\n",
    "topics = data_sp2.copy()\n",
    "topics = topics.assign(topic_comp = corpus_lda_list)\n",
    "file_name = \"topics/lda_data_sp.csv\"\n",
    "topics.to_csv(file_name)\n"
   ]
  },
  {
   "cell_type": "code",
   "execution_count": 120,
   "metadata": {},
   "outputs": [
    {
     "ename": "KeyboardInterrupt",
     "evalue": "",
     "output_type": "error",
     "traceback": [
      "\u001b[0;31m---------------------------------------------------------------------------\u001b[0m",
      "\u001b[0;31mKeyboardInterrupt\u001b[0m                         Traceback (most recent call last)",
      "\u001b[0;32m<ipython-input-120-223546285822>\u001b[0m in \u001b[0;36m<module>\u001b[0;34m()\u001b[0m\n\u001b[1;32m    177\u001b[0m \u001b[0;34m\u001b[0m\u001b[0m\n\u001b[1;32m    178\u001b[0m lda_data_4b3 = gensim.models.ldamodel.LdaModel(corpus, num_topics=60, id2word = dictionary, \n\u001b[0;32m--> 179\u001b[0;31m                                          passes = 60, random_state=7)\n\u001b[0m\u001b[1;32m    180\u001b[0m \u001b[0mmodel_name\u001b[0m \u001b[0;34m=\u001b[0m \u001b[0;34m\"lda_data_4b3\"\u001b[0m\u001b[0;34m\u001b[0m\u001b[0m\n\u001b[1;32m    181\u001b[0m \u001b[0mlda_data_4b3\u001b[0m\u001b[0;34m.\u001b[0m\u001b[0msave\u001b[0m\u001b[0;34m(\u001b[0m\u001b[0mmodel_name\u001b[0m\u001b[0;34m)\u001b[0m\u001b[0;34m\u001b[0m\u001b[0m\n",
      "\u001b[0;32m~/anaconda3/lib/python3.6/site-packages/gensim/models/ldamodel.py\u001b[0m in \u001b[0;36m__init__\u001b[0;34m(self, corpus, num_topics, id2word, distributed, chunksize, passes, update_every, alpha, eta, decay, offset, eval_every, iterations, gamma_threshold, minimum_probability, random_state, ns_conf, minimum_phi_value, per_word_topics, callbacks, dtype)\u001b[0m\n\u001b[1;32m    513\u001b[0m         \u001b[0;32mif\u001b[0m \u001b[0mcorpus\u001b[0m \u001b[0;32mis\u001b[0m \u001b[0;32mnot\u001b[0m \u001b[0;32mNone\u001b[0m\u001b[0;34m:\u001b[0m\u001b[0;34m\u001b[0m\u001b[0m\n\u001b[1;32m    514\u001b[0m             \u001b[0muse_numpy\u001b[0m \u001b[0;34m=\u001b[0m \u001b[0mself\u001b[0m\u001b[0;34m.\u001b[0m\u001b[0mdispatcher\u001b[0m \u001b[0;32mis\u001b[0m \u001b[0;32mnot\u001b[0m \u001b[0;32mNone\u001b[0m\u001b[0;34m\u001b[0m\u001b[0m\n\u001b[0;32m--> 515\u001b[0;31m             \u001b[0mself\u001b[0m\u001b[0;34m.\u001b[0m\u001b[0mupdate\u001b[0m\u001b[0;34m(\u001b[0m\u001b[0mcorpus\u001b[0m\u001b[0;34m,\u001b[0m \u001b[0mchunks_as_numpy\u001b[0m\u001b[0;34m=\u001b[0m\u001b[0muse_numpy\u001b[0m\u001b[0;34m)\u001b[0m\u001b[0;34m\u001b[0m\u001b[0m\n\u001b[0m\u001b[1;32m    516\u001b[0m \u001b[0;34m\u001b[0m\u001b[0m\n\u001b[1;32m    517\u001b[0m     \u001b[0;32mdef\u001b[0m \u001b[0minit_dir_prior\u001b[0m\u001b[0;34m(\u001b[0m\u001b[0mself\u001b[0m\u001b[0;34m,\u001b[0m \u001b[0mprior\u001b[0m\u001b[0;34m,\u001b[0m \u001b[0mname\u001b[0m\u001b[0;34m)\u001b[0m\u001b[0;34m:\u001b[0m\u001b[0;34m\u001b[0m\u001b[0m\n",
      "\u001b[0;32m~/anaconda3/lib/python3.6/site-packages/gensim/models/ldamodel.py\u001b[0m in \u001b[0;36mupdate\u001b[0;34m(self, corpus, chunksize, decay, offset, passes, update_every, eval_every, iterations, gamma_threshold, chunks_as_numpy)\u001b[0m\n\u001b[1;32m    975\u001b[0m                         \u001b[0mlogger\u001b[0m\u001b[0;34m.\u001b[0m\u001b[0minfo\u001b[0m\u001b[0;34m(\u001b[0m\u001b[0;34m\"reached the end of input; now waiting for all remaining jobs to finish\"\u001b[0m\u001b[0;34m)\u001b[0m\u001b[0;34m\u001b[0m\u001b[0m\n\u001b[1;32m    976\u001b[0m                         \u001b[0mother\u001b[0m \u001b[0;34m=\u001b[0m \u001b[0mself\u001b[0m\u001b[0;34m.\u001b[0m\u001b[0mdispatcher\u001b[0m\u001b[0;34m.\u001b[0m\u001b[0mgetstate\u001b[0m\u001b[0;34m(\u001b[0m\u001b[0;34m)\u001b[0m\u001b[0;34m\u001b[0m\u001b[0m\n\u001b[0;32m--> 977\u001b[0;31m                     \u001b[0mself\u001b[0m\u001b[0;34m.\u001b[0m\u001b[0mdo_mstep\u001b[0m\u001b[0;34m(\u001b[0m\u001b[0mrho\u001b[0m\u001b[0;34m(\u001b[0m\u001b[0;34m)\u001b[0m\u001b[0;34m,\u001b[0m \u001b[0mother\u001b[0m\u001b[0;34m,\u001b[0m \u001b[0mpass_\u001b[0m \u001b[0;34m>\u001b[0m \u001b[0;36m0\u001b[0m\u001b[0;34m)\u001b[0m\u001b[0;34m\u001b[0m\u001b[0m\n\u001b[0m\u001b[1;32m    978\u001b[0m                     \u001b[0;32mdel\u001b[0m \u001b[0mother\u001b[0m  \u001b[0;31m# frees up memory\u001b[0m\u001b[0;34m\u001b[0m\u001b[0m\n\u001b[1;32m    979\u001b[0m \u001b[0;34m\u001b[0m\u001b[0m\n",
      "\u001b[0;32m~/anaconda3/lib/python3.6/site-packages/gensim/models/ldamodel.py\u001b[0m in \u001b[0;36mdo_mstep\u001b[0;34m(self, rho, other, extra_pass)\u001b[0m\n\u001b[1;32m   1024\u001b[0m         \u001b[0mself\u001b[0m\u001b[0;34m.\u001b[0m\u001b[0mstate\u001b[0m\u001b[0;34m.\u001b[0m\u001b[0mblend\u001b[0m\u001b[0;34m(\u001b[0m\u001b[0mrho\u001b[0m\u001b[0;34m,\u001b[0m \u001b[0mother\u001b[0m\u001b[0;34m)\u001b[0m\u001b[0;34m\u001b[0m\u001b[0m\n\u001b[1;32m   1025\u001b[0m         \u001b[0mdiff\u001b[0m \u001b[0;34m-=\u001b[0m \u001b[0mself\u001b[0m\u001b[0;34m.\u001b[0m\u001b[0mstate\u001b[0m\u001b[0;34m.\u001b[0m\u001b[0mget_Elogbeta\u001b[0m\u001b[0;34m(\u001b[0m\u001b[0;34m)\u001b[0m\u001b[0;34m\u001b[0m\u001b[0m\n\u001b[0;32m-> 1026\u001b[0;31m         \u001b[0mself\u001b[0m\u001b[0;34m.\u001b[0m\u001b[0msync_state\u001b[0m\u001b[0;34m(\u001b[0m\u001b[0;34m)\u001b[0m\u001b[0;34m\u001b[0m\u001b[0m\n\u001b[0m\u001b[1;32m   1027\u001b[0m \u001b[0;34m\u001b[0m\u001b[0m\n\u001b[1;32m   1028\u001b[0m         \u001b[0;31m# print out some debug info at the end of each EM iteration\u001b[0m\u001b[0;34m\u001b[0m\u001b[0;34m\u001b[0m\u001b[0m\n",
      "\u001b[0;32m~/anaconda3/lib/python3.6/site-packages/gensim/models/ldamodel.py\u001b[0m in \u001b[0;36msync_state\u001b[0;34m(self)\u001b[0m\n\u001b[1;32m    591\u001b[0m     \u001b[0;32mdef\u001b[0m \u001b[0msync_state\u001b[0m\u001b[0;34m(\u001b[0m\u001b[0mself\u001b[0m\u001b[0;34m)\u001b[0m\u001b[0;34m:\u001b[0m\u001b[0;34m\u001b[0m\u001b[0m\n\u001b[1;32m    592\u001b[0m         \u001b[0;34m\"\"\"Propagate the states topic probabilities to the inner object's attribute.\"\"\"\u001b[0m\u001b[0;34m\u001b[0m\u001b[0m\n\u001b[0;32m--> 593\u001b[0;31m         \u001b[0mself\u001b[0m\u001b[0;34m.\u001b[0m\u001b[0mexpElogbeta\u001b[0m \u001b[0;34m=\u001b[0m \u001b[0mnp\u001b[0m\u001b[0;34m.\u001b[0m\u001b[0mexp\u001b[0m\u001b[0;34m(\u001b[0m\u001b[0mself\u001b[0m\u001b[0;34m.\u001b[0m\u001b[0mstate\u001b[0m\u001b[0;34m.\u001b[0m\u001b[0mget_Elogbeta\u001b[0m\u001b[0;34m(\u001b[0m\u001b[0;34m)\u001b[0m\u001b[0;34m)\u001b[0m\u001b[0;34m\u001b[0m\u001b[0m\n\u001b[0m\u001b[1;32m    594\u001b[0m         \u001b[0;32massert\u001b[0m \u001b[0mself\u001b[0m\u001b[0;34m.\u001b[0m\u001b[0mexpElogbeta\u001b[0m\u001b[0;34m.\u001b[0m\u001b[0mdtype\u001b[0m \u001b[0;34m==\u001b[0m \u001b[0mself\u001b[0m\u001b[0;34m.\u001b[0m\u001b[0mdtype\u001b[0m\u001b[0;34m\u001b[0m\u001b[0m\n\u001b[1;32m    595\u001b[0m \u001b[0;34m\u001b[0m\u001b[0m\n",
      "\u001b[0;32m~/anaconda3/lib/python3.6/site-packages/gensim/models/ldamodel.py\u001b[0m in \u001b[0;36mget_Elogbeta\u001b[0;34m(self)\u001b[0m\n\u001b[1;32m    274\u001b[0m             \u001b[0mPosterior\u001b[0m \u001b[0mprobabilities\u001b[0m \u001b[0;32mfor\u001b[0m \u001b[0meach\u001b[0m \u001b[0mtopic\u001b[0m\u001b[0;34m.\u001b[0m\u001b[0;34m\u001b[0m\u001b[0m\n\u001b[1;32m    275\u001b[0m         \"\"\"\n\u001b[0;32m--> 276\u001b[0;31m         \u001b[0;32mreturn\u001b[0m \u001b[0mdirichlet_expectation\u001b[0m\u001b[0;34m(\u001b[0m\u001b[0mself\u001b[0m\u001b[0;34m.\u001b[0m\u001b[0mget_lambda\u001b[0m\u001b[0;34m(\u001b[0m\u001b[0;34m)\u001b[0m\u001b[0;34m)\u001b[0m\u001b[0;34m\u001b[0m\u001b[0m\n\u001b[0m\u001b[1;32m    277\u001b[0m \u001b[0;34m\u001b[0m\u001b[0m\n\u001b[1;32m    278\u001b[0m     \u001b[0;34m@\u001b[0m\u001b[0mclassmethod\u001b[0m\u001b[0;34m\u001b[0m\u001b[0m\n",
      "\u001b[0;32m~/anaconda3/lib/python3.6/site-packages/gensim/models/ldamodel.py\u001b[0m in \u001b[0;36mget_lambda\u001b[0;34m(self)\u001b[0m\n\u001b[1;32m    264\u001b[0m \u001b[0;34m\u001b[0m\u001b[0m\n\u001b[1;32m    265\u001b[0m         \"\"\"\n\u001b[0;32m--> 266\u001b[0;31m         \u001b[0;32mreturn\u001b[0m \u001b[0mself\u001b[0m\u001b[0;34m.\u001b[0m\u001b[0meta\u001b[0m \u001b[0;34m+\u001b[0m \u001b[0mself\u001b[0m\u001b[0;34m.\u001b[0m\u001b[0msstats\u001b[0m\u001b[0;34m\u001b[0m\u001b[0m\n\u001b[0m\u001b[1;32m    267\u001b[0m \u001b[0;34m\u001b[0m\u001b[0m\n\u001b[1;32m    268\u001b[0m     \u001b[0;32mdef\u001b[0m \u001b[0mget_Elogbeta\u001b[0m\u001b[0;34m(\u001b[0m\u001b[0mself\u001b[0m\u001b[0;34m)\u001b[0m\u001b[0;34m:\u001b[0m\u001b[0;34m\u001b[0m\u001b[0m\n",
      "\u001b[0;31mKeyboardInterrupt\u001b[0m: "
     ]
    }
   ],
   "source": [
    "# Model 3\n",
    "\n",
    "texts = list(data_lg_cities['final_mash'])\n",
    "dictionary = corpora.Dictionary(texts)\n",
    "corpus = [dictionary.doc2bow(text) for text in texts]\n",
    "\n",
    "lda_data_lg_cities = gensim.models.ldamodel.LdaModel(corpus, num_topics=60, id2word = dictionary, \n",
    "                                         passes = 60, random_state=7)\n",
    "model_name = \"lda_data_lg_cities\"\n",
    "lda_data_lg_cities.save(model_name)\n",
    "corpus_lda = lda_data_lg_cities[corpus]\n",
    "corpus_lda_list = list(corpus_lda)\n",
    "topics = data_lg_cities.copy()\n",
    "topics = topics.assign(topic_comp = corpus_lda_list)\n",
    "file_name = \"topics/lda_data_lg_cities.csv\"\n",
    "topics.to_csv(file_name)\n",
    "\n",
    "\n",
    "# Model 4a\n",
    "\n",
    "texts = list(data_4a['final_mash'])\n",
    "dictionary = corpora.Dictionary(texts)\n",
    "corpus = [dictionary.doc2bow(text) for text in texts]\n",
    "\n",
    "lda_data_4a = gensim.models.ldamodel.LdaModel(corpus, num_topics=60, id2word = dictionary, \n",
    "                                         passes = 60, random_state=7)\n",
    "model_name = \"lda_data_4a\"\n",
    "lda_data_4a.save(model_name)\n",
    "corpus_lda = lda_data_4a[corpus]\n",
    "corpus_lda_list = list(corpus_lda)\n",
    "topics = data_4a.copy()\n",
    "topics = topics.assign(topic_comp = corpus_lda_list)\n",
    "file_name = \"topics/lda_data_4a.csv\"\n",
    "topics.to_csv(file_name)\n",
    "\n",
    "# Model 4a1\n",
    "\n",
    "texts = list(data_4a1['final_mash'])\n",
    "dictionary = corpora.Dictionary(texts)\n",
    "corpus = [dictionary.doc2bow(text) for text in texts]\n",
    "\n",
    "lda_data_4a1 = gensim.models.ldamodel.LdaModel(corpus, num_topics=60, id2word = dictionary, \n",
    "                                         passes = 60, random_state=7)\n",
    "model_name = \"lda_data_4a1\"\n",
    "lda_data_4a1.save(model_name)\n",
    "corpus_lda = lda_data_4a1[corpus]\n",
    "corpus_lda_list = list(corpus_lda)\n",
    "topics = data_4a1.copy()\n",
    "topics = topics.assign(topic_comp = corpus_lda_list)\n",
    "file_name = \"topics/lda_data_4a1.csv\"\n",
    "topics.to_csv(file_name)\n",
    "\n",
    "# Model 4a2\n",
    "\n",
    "texts = list(data_4a2['final_mash'])\n",
    "dictionary = corpora.Dictionary(texts)\n",
    "corpus = [dictionary.doc2bow(text) for text in texts]\n",
    "\n",
    "lda_data_4a2 = gensim.models.ldamodel.LdaModel(corpus, num_topics=60, id2word = dictionary, \n",
    "                                         passes = 60, random_state=7)\n",
    "model_name = \"lda_data_42a\"\n",
    "lda_data_4a2.save(model_name)\n",
    "corpus_lda = lda_data_4a2[corpus]\n",
    "corpus_lda_list = list(corpus_lda)\n",
    "topics = data_4a2.copy()\n",
    "topics = topics.assign(topic_comp = corpus_lda_list)\n",
    "file_name = \"topics/lda_data_4a2.csv\"\n",
    "topics.to_csv(file_name)\n",
    "\n",
    "# Model 4a3\n",
    "\n",
    "texts = list(data_4a3['final_mash'])\n",
    "dictionary = corpora.Dictionary(texts)\n",
    "corpus = [dictionary.doc2bow(text) for text in texts]\n",
    "\n",
    "lda_data_4a3 = gensim.models.ldamodel.LdaModel(corpus, num_topics=60, id2word = dictionary, \n",
    "                                         passes = 60, random_state=7)\n",
    "model_name = \"lda_data_4a3\"\n",
    "lda_data_4a3.save(model_name)\n",
    "corpus_lda = lda_data_4a3[corpus]\n",
    "corpus_lda_list = list(corpus_lda)\n",
    "topics = data_4a3.copy()\n",
    "topics = topics.assign(topic_comp = corpus_lda_list)\n",
    "file_name = \"topics/lda_data_4a3.csv\"\n",
    "topics.to_csv(file_name)\n",
    "\n",
    "# Model 4a4\n",
    "\n",
    "texts = list(data_4a4['final_mash'])\n",
    "dictionary = corpora.Dictionary(texts)\n",
    "corpus = [dictionary.doc2bow(text) for text in texts]\n",
    "\n",
    "lda_data_4a4 = gensim.models.ldamodel.LdaModel(corpus, num_topics=60, id2word = dictionary, \n",
    "                                         passes = 60, random_state=7)\n",
    "model_name = \"lda_data_4a4\"\n",
    "lda_data_4a4.save(model_name)\n",
    "corpus_lda = lda_data_4a4[corpus]\n",
    "corpus_lda_list = list(corpus_lda)\n",
    "topics = data_4a4.copy()\n",
    "topics = topics.assign(topic_comp = corpus_lda_list)\n",
    "file_name = \"topics/lda_data_4a4.csv\"\n",
    "topics.to_csv(file_name)\n",
    "\n",
    "# Model 4a5\n",
    "\n",
    "texts = list(data_4a5['final_mash'])\n",
    "dictionary = corpora.Dictionary(texts)\n",
    "corpus = [dictionary.doc2bow(text) for text in texts]\n",
    "\n",
    "lda_data_4a5 = gensim.models.ldamodel.LdaModel(corpus, num_topics=60, id2word = dictionary, \n",
    "                                         passes = 60, random_state=7)\n",
    "model_name = \"lda_data_4a5\"\n",
    "lda_data_4a5.save(model_name)\n",
    "corpus_lda = lda_data_4a5[corpus]\n",
    "corpus_lda_list = list(corpus_lda)\n",
    "topics = data_4a5.copy()\n",
    "topics = topics.assign(topic_comp = corpus_lda_list)\n",
    "file_name = \"topics/lda_data_4a5.csv\"\n",
    "topics.to_csv(file_name)\n",
    "\n",
    "# Model 4b\n",
    "\n",
    "texts = list(data_4b['final_mash'])\n",
    "dictionary = corpora.Dictionary(texts)\n",
    "corpus = [dictionary.doc2bow(text) for text in texts]\n",
    "\n",
    "lda_data_4b = gensim.models.ldamodel.LdaModel(corpus, num_topics=60, id2word = dictionary, \n",
    "                                         passes = 60, random_state=7)\n",
    "model_name = \"lda_data_4b\"\n",
    "lda_data_4b.save(model_name)\n",
    "corpus_lda = lda_data_4b[corpus]\n",
    "corpus_lda_list = list(corpus_lda)\n",
    "topics = data_4b.copy()\n",
    "topics = topics.assign(topic_comp = corpus_lda_list)\n",
    "file_name = \"topics/lda_data_4b.csv\"\n",
    "topics.to_csv(file_name)\n",
    "\n",
    "# Model 4b1\n",
    "\n",
    "texts = list(data_4b1['final_mash'])\n",
    "dictionary = corpora.Dictionary(texts)\n",
    "corpus = [dictionary.doc2bow(text) for text in texts]\n",
    "\n",
    "lda_data_4b1 = gensim.models.ldamodel.LdaModel(corpus, num_topics=60, id2word = dictionary, \n",
    "                                         passes = 60, random_state=7)\n",
    "model_name = \"lda_data_4b1\"\n",
    "lda_data_4b1.save(model_name)\n",
    "corpus_lda = lda_data_4b1[corpus]\n",
    "corpus_lda_list = list(corpus_lda)\n",
    "topics = data_4b1.copy()\n",
    "topics = topics.assign(topic_comp = corpus_lda_list)\n",
    "file_name = \"topics/lda_data_4b1.csv\"\n",
    "topics.to_csv(file_name)\n",
    "\n",
    "# Model 4b2\n",
    "\n",
    "texts = list(data_4b2['final_mash'])\n",
    "dictionary = corpora.Dictionary(texts)\n",
    "corpus = [dictionary.doc2bow(text) for text in texts]\n",
    "\n",
    "lda_data_4b2 = gensim.models.ldamodel.LdaModel(corpus, num_topics=60, id2word = dictionary, \n",
    "                                         passes = 60, random_state=7)\n",
    "model_name = \"lda_data_4b2\"\n",
    "lda_data_4b2.save(model_name)\n",
    "corpus_lda = lda_data_4b2[corpus]\n",
    "corpus_lda_list = list(corpus_lda)\n",
    "topics = data_4b2.copy()\n",
    "topics = topics.assign(topic_comp = corpus_lda_list)\n",
    "file_name = \"topics/lda_data_4b2.csv\"\n",
    "topics.to_csv(file_name)\n",
    "\n",
    "# Model 4b3\n",
    "\n",
    "texts = list(data_4b3['final_mash'])\n",
    "dictionary = corpora.Dictionary(texts)\n",
    "corpus = [dictionary.doc2bow(text) for text in texts]\n",
    "\n",
    "lda_data_4b3 = gensim.models.ldamodel.LdaModel(corpus, num_topics=60, id2word = dictionary, \n",
    "                                         passes = 60, random_state=7)\n",
    "model_name = \"lda_data_4b3\"\n",
    "lda_data_4b3.save(model_name)\n",
    "corpus_lda = lda_data_4b3[corpus]\n",
    "corpus_lda_list = list(corpus_lda)\n",
    "topics = data_4b3.copy()\n",
    "topics = topics.assign(topic_comp = corpus_lda_list)\n",
    "file_name = \"topics/lda_data_4b3.csv\"\n",
    "topics.to_csv(file_name)\n",
    "\n",
    "# Model 4b4\n",
    "\n",
    "texts = list(data_4b4['final_mash'])\n",
    "dictionary = corpora.Dictionary(texts)\n",
    "corpus = [dictionary.doc2bow(text) for text in texts]\n",
    "\n",
    "lda_data_4b4 = gensim.models.ldamodel.LdaModel(corpus, num_topics=60, id2word = dictionary, \n",
    "                                         passes = 60, random_state=7)\n",
    "model_name = \"lda_data_4b4\"\n",
    "lda_data_4b4.save(model_name)\n",
    "corpus_lda = lda_data_4b4[corpus]\n",
    "corpus_lda_list = list(corpus_lda)\n",
    "topics = data_4b4.copy()\n",
    "topics = topics.assign(topic_comp = corpus_lda_list)\n",
    "file_name = \"topics/lda_data_4b4.csv\"\n",
    "topics.to_csv(file_name)\n",
    "\n",
    "# Model 4b5\n",
    "\n",
    "texts = list(data_4b5['final_mash'])\n",
    "dictionary = corpora.Dictionary(texts)\n",
    "corpus = [dictionary.doc2bow(text) for text in texts]\n",
    "\n",
    "lda_data_4b5 = gensim.models.ldamodel.LdaModel(corpus, num_topics=60, id2word = dictionary, \n",
    "                                         passes = 60, random_state=7)\n",
    "model_name = \"lda_data_4b5\"\n",
    "lda_data_4b5.save(model_name)\n",
    "corpus_lda = lda_data_4b5[corpus]\n",
    "corpus_lda_list = list(corpus_lda)\n",
    "topics = data_4b5.copy()\n",
    "topics = topics.assign(topic_comp = corpus_lda_list)\n",
    "file_name = \"topics/lda_data_4b5.csv\"\n",
    "topics.to_csv(file_name)"
   ]
  },
  {
   "cell_type": "markdown",
   "metadata": {},
   "source": [
    "## Model 5 - Proper Nouns with low count \n",
    "\n",
    "### 5a) (count = 1)"
   ]
  },
  {
   "cell_type": "code",
   "execution_count": 67,
   "metadata": {
    "collapsed": true
   },
   "outputs": [],
   "source": [
    "data_pn = data.copy()"
   ]
  },
  {
   "cell_type": "code",
   "execution_count": 68,
   "metadata": {
    "collapsed": true
   },
   "outputs": [],
   "source": [
    "# Create proper noun counter\n",
    "\n",
    "pn_list = [y for x in list(data_pn['pn']) for y in x]\n",
    "pn_counts = Counter(pn_list)"
   ]
  },
  {
   "cell_type": "code",
   "execution_count": 69,
   "metadata": {
    "collapsed": true
   },
   "outputs": [],
   "source": [
    "# Create proper noun counter\n",
    "\n",
    "fm_list = [y for x in list(data_pn['final_mash']) for y in x]\n",
    "fm_counts = Counter(fm_list)"
   ]
  },
  {
   "cell_type": "code",
   "execution_count": 46,
   "metadata": {
    "collapsed": true
   },
   "outputs": [],
   "source": [
    "words = list(fm_counts.keys())\n",
    "cnt = list(fm_counts.values())\n",
    "fm_count_df = pd.DataFrame({'word': words, 'cnt': cnt})"
   ]
  },
  {
   "cell_type": "code",
   "execution_count": 32,
   "metadata": {
    "collapsed": true
   },
   "outputs": [],
   "source": [
    "words = list(pn_counts.keys())\n",
    "cnt = list(pn_counts.values())\n",
    "pn_count_df = pd.DataFrame({'word': words, 'cnt': cnt})"
   ]
  },
  {
   "cell_type": "code",
   "execution_count": 61,
   "metadata": {},
   "outputs": [
    {
     "data": {
      "text/plain": [
       "count    40198.000000\n",
       "mean        36.609060\n",
       "std        298.085926\n",
       "min          1.000000\n",
       "25%          1.000000\n",
       "50%          2.000000\n",
       "75%          6.000000\n",
       "max      16184.000000\n",
       "Name: cnt, dtype: float64"
      ]
     },
     "execution_count": 61,
     "metadata": {},
     "output_type": "execute_result"
    }
   ],
   "source": [
    "fm_count_df.cnt.describe()"
   ]
  },
  {
   "cell_type": "code",
   "execution_count": 85,
   "metadata": {},
   "outputs": [
    {
     "data": {
      "text/plain": [
       "count    44368.000000\n",
       "mean        15.451925\n",
       "std        187.268373\n",
       "min          1.000000\n",
       "25%          1.000000\n",
       "50%          1.000000\n",
       "75%          3.000000\n",
       "max      14872.000000\n",
       "Name: cnt, dtype: float64"
      ]
     },
     "execution_count": 85,
     "metadata": {},
     "output_type": "execute_result"
    }
   ],
   "source": [
    "pn_count_df.cnt.describe()"
   ]
  },
  {
   "cell_type": "code",
   "execution_count": 34,
   "metadata": {
    "collapsed": true
   },
   "outputs": [],
   "source": [
    "pn_count_df.sort_values(by = ['cnt'], inplace = True)"
   ]
  },
  {
   "cell_type": "code",
   "execution_count": 74,
   "metadata": {},
   "outputs": [],
   "source": [
    "data_pn['pn1'] = data_pn['pn'].apply(lambda x: [i for i in x if 0 < fm_counts[i] < 2])"
   ]
  },
  {
   "cell_type": "code",
   "execution_count": 63,
   "metadata": {
    "collapsed": true
   },
   "outputs": [],
   "source": [
    "data_pn['pn1_len'] = data_pn['pn1'].apply(len)"
   ]
  },
  {
   "cell_type": "code",
   "execution_count": null,
   "metadata": {},
   "outputs": [],
   "source": []
  },
  {
   "cell_type": "code",
   "execution_count": 75,
   "metadata": {},
   "outputs": [],
   "source": [
    "data_pn['final_mash'] = data_pn.apply(lambda row: [i for i in row['final_mash'] if i not in row['pn1']], axis =1)\n",
    "data_pn['mash_len'] = data_pn['final_mash'].apply(len)\n",
    "data_pn = data_pn[data_pn['mash_len'] > 0]"
   ]
  },
  {
   "cell_type": "code",
   "execution_count": 76,
   "metadata": {},
   "outputs": [
    {
     "data": {
      "text/html": [
       "<div>\n",
       "<style scoped>\n",
       "    .dataframe tbody tr th:only-of-type {\n",
       "        vertical-align: middle;\n",
       "    }\n",
       "\n",
       "    .dataframe tbody tr th {\n",
       "        vertical-align: top;\n",
       "    }\n",
       "\n",
       "    .dataframe thead th {\n",
       "        text-align: right;\n",
       "    }\n",
       "</style>\n",
       "<table border=\"1\" class=\"dataframe\">\n",
       "  <thead>\n",
       "    <tr style=\"text-align: right;\">\n",
       "      <th></th>\n",
       "      <th>index</th>\n",
       "      <th>Summary</th>\n",
       "      <th>city</th>\n",
       "      <th>month_year</th>\n",
       "      <th>token_sp</th>\n",
       "      <th>pn</th>\n",
       "      <th>sum_ed</th>\n",
       "      <th>token</th>\n",
       "      <th>lemma</th>\n",
       "      <th>mash</th>\n",
       "      <th>mash_len</th>\n",
       "      <th>bigrams</th>\n",
       "      <th>common_bigrams</th>\n",
       "      <th>final_mash</th>\n",
       "      <th>ave</th>\n",
       "      <th>pn1</th>\n",
       "    </tr>\n",
       "  </thead>\n",
       "  <tbody>\n",
       "    <tr>\n",
       "      <th>0</th>\n",
       "      <td>0</td>\n",
       "      <td>We are working with an engineering firm on an upcoming project  They have asked us to gather maps for this project  Would you be able to assist me in gathering mapsrecords as builds for any underground water facilities you may have  Something just showing the route of the water lines would do\\n\\nth ST NE to nd Ave NE Arlington Cascade Surveying  Engineering \\n\\nI have attached the scope for your convenience  Please let me know if you have questions</td>\n",
       "      <td>Arlington</td>\n",
       "      <td>2018-06</td>\n",
       "      <td>We are working with an engineering firm on an upcoming project  They have asked us to gather maps for this project  Would you be able to assist me in gathering mapsrecords as builds for any underground water facilities you may have  Something just showing the route of the water lines would do\\n\\nth ST NE to nd Ave NE Arlington Cascade Surveying  Engineering \\n\\nI have attached the scope for your convenience  Please let me know if you have questions</td>\n",
       "      <td>[ave, ne, arlington, cascade, surveying, engineering]</td>\n",
       "      <td>we are working with an engineering firm on an upcoming project  they have asked us to gather maps for this project  would you be able to assist me in gathering mapsrecords as builds for any underground water facilities you may have  something just showing the route of the water lines would do\\n\\nth st ne to nd ave ne arlington cascade surveying  engineering \\n\\ni have attached the scope for your convenience  please let me know if you have questions</td>\n",
       "      <td>[we, are, working, with, an, engineering, firm, on, an, upcoming, project, they, have, asked, us, to, gather, maps, for, this, project, would, you, be, able, to, assist, me, in, gathering, mapsrecords, as, builds, for, any, underground, water, facilities, you, may, have, something, just, showing, the, route, of, the, water, lines, would, do, th, st, ne, to, nd, ave, ne, arlington, cascade, surveying, engineering, i, have, attached, the, scope, for, your, convenience, please, let, me, know, if, you, have, questions]</td>\n",
       "      <td>[(we, PRP), (are, VBP), (working, VBG), (with, IN), (an, DT), (engineering, NN), (firm, NN), (on, IN), (an, DT), (upcoming, JJ), (project, NN), (they, PRP), (have, VBP), (asked, VBN), (us, PRP), (to, TO), (gather, VB), (maps, NNS), (for, IN), (this, DT), (project, NN), (would, MD), (you, PRP), (be, VB), (able, JJ), (to, TO), (assist, VB), (me, PRP), (in, IN), (gathering, VBG), (mapsrecords, NNS), (as, IN), (builds, NNS), (for, IN), (any, DT), (underground, JJ), (water, NN), (facilities, NNS), (you, PRP), (may, MD), (have, VB), (something, NN), (just, RB), (showing, VBG), (the, DT), (route, NN), (of, IN), (the, DT), (water, NN), (lines, NNS), (would, MD), (do, VB), (th, VB), (st, VB), (ne, JJ), (to, TO), (nd, VB), (ave, VB), (ne, JJ), (arlington, NN), (cascade, NN), (surveying, VBG), (engineering, NN), (i, NN), (have, VBP), (attached, VBN), (the, DT), (scope, NN), (for, IN), (your, PRP$), (convenience, NN), (please, NN), (let, VB), (me, PRP), (know, VB), (if, IN), (you, PRP), (have,...</td>\n",
       "      <td>[work, engineering, firm, upcoming, project, gather, map, project, assist, gather, mapsrecords, build, underground, water, facility, something, show, route, water, line, arlington, cascade, survey, engineering, scope, convenience]</td>\n",
       "      <td>26</td>\n",
       "      <td>['work_engineering', 'engineering_firm', 'firm_upcoming', 'upcoming_project', 'project_ask', 'ask_u', 'u_gather', 'gather_map', 'map_project', 'project_would', 'would_able', 'able_assist', 'assist_gather', 'gather_mapsrecords', 'mapsrecords_build', 'build_underground', 'underground_water', 'water_facility', 'facility_may', 'may_something', 'something_show', 'show_route', 'route_water', 'water_line', 'line_would', 'would_th', 'th_st', 'st_ne', 'ne_nd', 'nd_ave', 'ave_ne', 'ne_arlington', 'arlington_cascade', 'cascade_survey', 'survey_engineering', 'engineering_attach', 'attach_scope', 'scope_convenience', 'convenience_please', 'please_let', 'let_know', 'know_question']</td>\n",
       "      <td>[]</td>\n",
       "      <td>[work, engineering, firm, upcoming, project, gather, map, project, assist, gather, mapsrecords, build, underground, water, facility, something, show, route, water, line, arlington, cascade, survey, engineering, scope, convenience]</td>\n",
       "      <td>False</td>\n",
       "      <td>[]</td>\n",
       "    </tr>\n",
       "    <tr>\n",
       "      <th>1</th>\n",
       "      <td>1</td>\n",
       "      <td>Need copies of contracts and all related documents pertaining to Topcub Aircraft property located at  th DR NE Arlington WA  between Arlington Airport Topcub Aircraft City of Arlington HCI Steel Buildings and PUD</td>\n",
       "      <td>Arlington</td>\n",
       "      <td>2018-06</td>\n",
       "      <td>Need copies of contracts and all related documents pertaining to Topcub Aircraft property located at  th DR NE Arlington WA  between Arlington Airport Topcub Aircraft City of Arlington HCI Steel Buildings and PUD</td>\n",
       "      <td>[topcub, aircraft, dr, ne, arlington, wa, arlington, airport, topcub, aircraft, city, arlington, hci, steel, pud]</td>\n",
       "      <td>need copies of contracts and all related documents pertaining to topcub aircraft property located at  th dr ne arlington wa  between arlington airport topcub aircraft city of arlington hci steel buildings and pud</td>\n",
       "      <td>[need, copies, of, contracts, and, all, related, documents, pertaining, to, topcub, aircraft, property, located, at, th, dr, ne, arlington, wa, between, arlington, airport, topcub, aircraft, city, of, arlington, hci, steel, buildings, and, pud]</td>\n",
       "      <td>[(need, NN), (copies, NNS), (of, IN), (contracts, NNS), (and, CC), (all, DT), (related, JJ), (documents, NNS), (pertaining, VBG), (to, TO), (topcub, VB), (aircraft, NN), (property, NN), (located, VBN), (at, IN), (th, NN), (dr, NN), (ne, IN), (arlington, NN), (wa, NN), (between, IN), (arlington, NN), (airport, NN), (topcub, NN), (aircraft, NN), (city, NN), (of, IN), (arlington, NN), (hci, NN), (steel, NN), (buildings, NNS), (and, CC), (pud, NN)]</td>\n",
       "      <td>[contract, related, pertain, topcub, aircraft, property, locate, arlington, arlington, airport, topcub, aircraft, arlington, hci, steel, building, pud]</td>\n",
       "      <td>18</td>\n",
       "      <td>['need_copy', 'copy_contract', 'contract_related', 'related_document', 'document_pertain', 'pertain_topcub', 'topcub_aircraft', 'aircraft_property', 'property_locate', 'locate_th', 'th_dr', 'dr_ne', 'ne_arlington', 'arlington_wa', 'wa_arlington', 'arlington_airport', 'airport_topcub', 'topcub_aircraft', 'aircraft_city', 'city_arlington', 'arlington_hci', 'hci_steel', 'steel_building', 'building_pud']</td>\n",
       "      <td>[property_locate]</td>\n",
       "      <td>[contract, related, pertain, topcub, aircraft, property, locate, arlington, arlington, airport, topcub, aircraft, arlington, hci, steel, building, pud, property_locate]</td>\n",
       "      <td>False</td>\n",
       "      <td>[]</td>\n",
       "    </tr>\n",
       "    <tr>\n",
       "      <th>2</th>\n",
       "      <td>2</td>\n",
       "      <td>Copies of Building Permits of  valuation and up  min for ReRoofs  min for Cell Tower upgrades Electrical Mechanical  Plumbing at  min and Solar Panels Swimming Pools  Foundations at any valuation</td>\n",
       "      <td>Arlington</td>\n",
       "      <td>2018-06</td>\n",
       "      <td>Copies of Building Permits of  valuation and up  min for ReRoofs  min for Cell Tower upgrades Electrical Mechanical  Plumbing at  min and Solar Panels Swimming Pools  Foundations at any valuation</td>\n",
       "      <td>[building, reroofs, cell, tower, electrical, mechanical, plumbing, solar, swimming, pools]</td>\n",
       "      <td>copies of building permits of  valuation and up  min for reroofs  min for cell tower upgrades electrical mechanical  plumbing at  min and solar panels swimming pools  foundations at any valuation</td>\n",
       "      <td>[copies, of, building, permits, of, valuation, and, up, min, for, reroofs, min, for, cell, tower, upgrades, electrical, mechanical, plumbing, at, min, and, solar, panels, swimming, pools, foundations, at, any, valuation]</td>\n",
       "      <td>[(copies, NNS), (of, IN), (building, VBG), (permits, NNS), (of, IN), (valuation, NN), (and, CC), (up, RB), (min, NN), (for, IN), (reroofs, NN), (min, NN), (for, IN), (cell, NN), (tower, NN), (upgrades, JJ), (electrical, JJ), (mechanical, JJ), (plumbing, NN), (at, IN), (min, NN), (and, CC), (solar, JJ), (panels, NNS), (swimming, VBG), (pools, JJ), (foundations, NNS), (at, IN), (any, DT), (valuation, NN)]</td>\n",
       "      <td>[build, permit, valuation, min, reroofs, min, cell, tower, upgrades, electrical, mechanical, plumbing, min, solar, panel, swim, pools, foundation, valuation]</td>\n",
       "      <td>19</td>\n",
       "      <td>['copy_build', 'build_permit', 'permit_valuation', 'valuation_min', 'min_reroofs', 'reroofs_min', 'min_cell', 'cell_tower', 'tower_upgrades', 'upgrades_electrical', 'electrical_mechanical', 'mechanical_plumbing', 'plumbing_min', 'min_solar', 'solar_panel', 'panel_swim', 'swim_pools', 'pools_foundation', 'foundation_valuation']</td>\n",
       "      <td>[]</td>\n",
       "      <td>[build, permit, valuation, min, reroofs, min, cell, tower, upgrades, electrical, mechanical, plumbing, min, solar, panel, swim, pools, foundation, valuation]</td>\n",
       "      <td>False</td>\n",
       "      <td>[]</td>\n",
       "    </tr>\n",
       "    <tr>\n",
       "      <th>3</th>\n",
       "      <td>3</td>\n",
       "      <td>police report filed to an officer against Wayne Parris DOB  from Brittany J Parris The paperwork I have has a case number D it is also stamped at the bottom with  Iím not sure which number you will need If there is any other information needed please let me know</td>\n",
       "      <td>Arlington</td>\n",
       "      <td>2018-06</td>\n",
       "      <td>police report filed to an officer against Wayne Parris DOB  from Brittany J Parris The paperwork I have has a case number D it is also stamped at the bottom with  Iím not sure which number you will need If there is any other information needed please let me know</td>\n",
       "      <td>[wayne, parris, dob, brittany, j, parris]</td>\n",
       "      <td>police report filed to an officer against wayne parris dob  from brittany j parris the paperwork i have has a case number d it is also stamped at the bottom with  iím not sure which number you will need if there is any other information needed please let me know</td>\n",
       "      <td>[police, report, filed, to, an, officer, against, wayne, parris, dob, from, brittany, j, parris, the, paperwork, i, have, has, a, case, number, d, it, is, also, stamped, at, the, bottom, with, iím, not, sure, which, number, you, will, need, if, there, is, any, other, information, needed, please, let, me, know]</td>\n",
       "      <td>[(police, NNS), (report, NN), (filed, VBD), (to, TO), (an, DT), (officer, NN), (against, IN), (wayne, JJ), (parris, JJ), (dob, NN), (from, IN), (brittany, JJ), (j, NN), (parris, VBD), (the, DT), (paperwork, NN), (i, NN), (have, VBP), (has, VBZ), (a, DT), (case, NN), (number, NN), (d, NN), (it, PRP), (is, VBZ), (also, RB), (stamped, VBN), (at, IN), (the, DT), (bottom, NN), (with, IN), (iím, JJ), (not, RB), (sure, JJ), (which, WDT), (number, NN), (you, PRP), (will, MD), (need, VB), (if, IN), (there, EX), (is, VBZ), (any, DT), (other, JJ), (information, NN), (needed, VBN), (please, NN), (let, VB), (me, PRP), (know, VB)]</td>\n",
       "      <td>[police, officer, wayne, parris, dob, brittany, parris, paperwork, case, number, stamp, bottom, iím, sure, number]</td>\n",
       "      <td>17</td>\n",
       "      <td>['police_report', 'report_file', 'file_officer', 'officer_wayne', 'wayne_parris', 'parris_dob', 'dob_brittany', 'brittany_j', 'j_parris', 'parris_paperwork', 'paperwork_case', 'case_number', 'number_also', 'also_stamp', 'stamp_bottom', 'bottom_iím', 'iím_sure', 'sure_number', 'number_need', 'need_information', 'information_need', 'need_please', 'please_let', 'let_know']</td>\n",
       "      <td>[police_report, case_number]</td>\n",
       "      <td>[police, officer, wayne, parris, dob, brittany, parris, paperwork, case, number, stamp, bottom, iím, sure, number, police_report, case_number]</td>\n",
       "      <td>False</td>\n",
       "      <td>[]</td>\n",
       "    </tr>\n",
       "    <tr>\n",
       "      <th>4</th>\n",
       "      <td>4</td>\n",
       "      <td>Email Communications between Stephanie Shook Dave Kraski Bruce Stedman and Chad Schmidt in regards to Fire Protection District  billing and passage of contract for ALS Services \\n\\nAlso any copies of Agenda Bills D Contract and materials presented for review in NovDec time frame in regards to the contract</td>\n",
       "      <td>Arlington</td>\n",
       "      <td>2018-06</td>\n",
       "      <td>Email Communications between Stephanie Shook Dave Kraski Bruce Stedman and Chad Schmidt in regards to Fire Protection District  billing and passage of contract for ALS Services \\n\\nAlso any copies of Agenda Bills D Contract and materials presented for review in NovDec time frame in regards to the contract</td>\n",
       "      <td>[communications, stephanie, dave, kraski, bruce, stedman, chad, schmidt, fire, protection, district, als, agenda, bills, d, contract, novdec]</td>\n",
       "      <td>email communications between stephanie shook dave kraski bruce stedman and chad schmidt in regards to fire protection district  billing and passage of contract for als services \\n\\nalso any copies of agenda bills d contract and materials presented for review in novdec time frame in regards to the contract</td>\n",
       "      <td>[email, communications, between, stephanie, shook, dave, kraski, bruce, stedman, and, chad, schmidt, in, regards, to, fire, protection, district, billing, and, passage, of, contract, for, als, services, also, any, copies, of, agenda, bills, d, contract, and, materials, presented, for, review, in, novdec, time, frame, in, regards, to, the, contract]</td>\n",
       "      <td>[(email, NN), (communications, NNS), (between, IN), (stephanie, JJ), (shook, NN), (dave, VBP), (kraski, VBN), (bruce, NN), (stedman, NN), (and, CC), (chad, VBD), (schmidt, VBN), (in, IN), (regards, NNS), (to, TO), (fire, VB), (protection, NN), (district, NN), (billing, NN), (and, CC), (passage, NN), (of, IN), (contract, NN), (for, IN), (als, NNS), (services, NNS), (also, RB), (any, DT), (copies, NNS), (of, IN), (agenda, NN), (bills, NNS), (d, VBP), (contract, NN), (and, CC), (materials, NNS), (presented, VBN), (for, IN), (review, NN), (in, IN), (novdec, JJ), (time, NN), (frame, NN), (in, IN), (regards, NNS), (to, TO), (the, DT), (contract, NN)]</td>\n",
       "      <td>[email, communication, stephanie, shook, dave, kraski, bruce, stedman, chad, schmidt, fire, protection, district, billing, passage, contract, al, service, agenda, bill, contract, material, present, review, novdec, time, frame, contract]</td>\n",
       "      <td>28</td>\n",
       "      <td>['email_communication', 'communication_stephanie', 'stephanie_shook', 'shook_dave', 'dave_kraski', 'kraski_bruce', 'bruce_stedman', 'stedman_chad', 'chad_schmidt', 'schmidt_regard', 'regard_fire', 'fire_protection', 'protection_district', 'district_billing', 'billing_passage', 'passage_contract', 'contract_al', 'al_service', 'service_also', 'also_copy', 'copy_agenda', 'agenda_bill', 'bill_contract', 'contract_material', 'material_present', 'present_review', 'review_novdec', 'novdec_time', 'time_frame', 'frame_regard', 'regard_contract']</td>\n",
       "      <td>[]</td>\n",
       "      <td>[email, communication, stephanie, shook, dave, kraski, bruce, stedman, chad, schmidt, fire, protection, district, billing, passage, contract, al, service, agenda, bill, contract, material, present, review, novdec, time, frame, contract]</td>\n",
       "      <td>False</td>\n",
       "      <td>[]</td>\n",
       "    </tr>\n",
       "    <tr>\n",
       "      <th>5</th>\n",
       "      <td>5</td>\n",
       "      <td>I would like to request the current lease agreement as well as any attachments and amendments regarding the following Arlington Municipal Airport properties\\n\\n Top Cub Aircraft LLC\\n Arlington School District\\n Duane WilcoxonNW Custom Aircraft Hangars LLCCarrera Hangars\\n\\nThank you</td>\n",
       "      <td>Arlington</td>\n",
       "      <td>2018-06</td>\n",
       "      <td>I would like to request the current lease agreement as well as any attachments and amendments regarding the following Arlington Municipal Airport properties\\n\\n Top Cub Aircraft LLC\\n Arlington School District\\n Duane WilcoxonNW Custom Aircraft Hangars LLCCarrera Hangars\\n\\nThank you</td>\n",
       "      <td>[arlington, municipal, airport, top, cub, aircraft, llc, arlington, school, district, duane, wilcoxonnw, custom, aircraft, llccarrera]</td>\n",
       "      <td>i would like to request the current lease agreement as well as any attachments and amendments regarding the following arlington municipal airport properties\\n\\n top cub aircraft llc\\n arlington school district\\n duane wilcoxonnw custom aircraft hangars llccarrera hangars\\n\\nthank you</td>\n",
       "      <td>[i, would, like, to, request, the, current, lease, agreement, as, well, as, any, attachments, and, amendments, regarding, the, following, arlington, municipal, airport, properties, top, cub, aircraft, llc, arlington, school, district, duane, wilcoxonnw, custom, aircraft, hangars, llccarrera, hangars, thank, you]</td>\n",
       "      <td>[(i, NN), (would, MD), (like, VB), (to, TO), (request, VB), (the, DT), (current, JJ), (lease, NN), (agreement, NN), (as, RB), (well, RB), (as, IN), (any, DT), (attachments, NNS), (and, CC), (amendments, NNS), (regarding, VBG), (the, DT), (following, JJ), (arlington, NN), (municipal, JJ), (airport, NN), (properties, NNS), (top, VBP), (cub, NN), (aircraft, NN), (llc, VBP), (arlington, JJ), (school, NN), (district, NN), (duane, NN), (wilcoxonnw, NN), (custom, NN), (aircraft, NN), (hangars, NNS), (llccarrera, VBP), (hangars, NNS), (thank, IN), (you, PRP)]</td>\n",
       "      <td>[current, lease, agreement, well, attachment, amendment, following, arlington, municipal, airport, property, top, cub, aircraft, llc, arlington, school, district, duane, wilcoxonnw, custom, aircraft, hangar, llccarrera, hangar]</td>\n",
       "      <td>23</td>\n",
       "      <td>['would_like', 'like_request', 'request_current', 'current_lease', 'lease_agreement', 'agreement_well', 'well_attachment', 'attachment_amendment', 'amendment_regard', 'regard_following', 'following_arlington', 'arlington_municipal', 'municipal_airport', 'airport_property', 'property_top', 'top_cub', 'cub_aircraft', 'aircraft_llc', 'llc_arlington', 'arlington_school', 'school_district', 'district_duane', 'duane_wilcoxonnw', 'wilcoxonnw_custom', 'custom_aircraft', 'aircraft_hangar', 'hangar_llccarrera', 'llccarrera_hangar', 'hangar_thank']</td>\n",
       "      <td>[lease_agreement]</td>\n",
       "      <td>[current, lease, agreement, well, attachment, amendment, following, arlington, municipal, airport, property, top, aircraft, llc, arlington, school, district, duane, custom, aircraft, hangar, hangar, lease_agreement]</td>\n",
       "      <td>False</td>\n",
       "      <td>[cub, wilcoxonnw, llccarrera]</td>\n",
       "    </tr>\n",
       "    <tr>\n",
       "      <th>6</th>\n",
       "      <td>6</td>\n",
       "      <td>Permits for  th Ave NE Snohomish County parcel No  Specifically need permits related to one  structure currently on propertythe shop building Our question is whether the drain and oilwater separator in the shop connects to public sewer If necessary we can review all permits related to the shop building to find the information we need if it is in fact available Thank you</td>\n",
       "      <td>Arlington</td>\n",
       "      <td>2018-06</td>\n",
       "      <td>Permits for  th Ave NE Snohomish County parcel No  Specifically need permits related to one  structure currently on propertythe shop building Our question is whether the drain and oilwater separator in the shop connects to public sewer If necessary we can review all permits related to the shop building to find the information we need if it is in fact available Thank you</td>\n",
       "      <td>[ave, ne, snohomish, county]</td>\n",
       "      <td>permits for  th ave ne snohomish county parcel no  specifically need permits related to one  structure currently on propertythe shop building our question is whether the drain and oilwater separator in the shop connects to public sewer if necessary we can review all permits related to the shop building to find the information we need if it is in fact available thank you</td>\n",
       "      <td>[permits, for, th, ave, ne, snohomish, county, parcel, no, specifically, need, permits, related, to, one, structure, currently, on, propertythe, shop, building, our, question, is, whether, the, drain, and, oilwater, separator, in, the, shop, connects, to, public, sewer, if, necessary, we, can, review, all, permits, related, to, the, shop, building, to, find, the, information, we, need, if, it, is, in, fact, available, thank, you]</td>\n",
       "      <td>[(permits, NNS), (for, IN), (th, NN), (ave, VBP), (ne, JJ), (snohomish, JJ), (county, NN), (parcel, NN), (no, DT), (specifically, RB), (need, VBP), (permits, NNS), (related, VBN), (to, TO), (one, CD), (structure, NN), (currently, RB), (on, IN), (propertythe, NN), (shop, NN), (building, VBG), (our, PRP$), (question, NN), (is, VBZ), (whether, IN), (the, DT), (drain, NN), (and, CC), (oilwater, NN), (separator, NN), (in, IN), (the, DT), (shop, NN), (connects, VBZ), (to, TO), (public, VB), (sewer, JJR), (if, IN), (necessary, JJ), (we, PRP), (can, MD), (review, VB), (all, DT), (permits, NNS), (related, VBN), (to, TO), (the, DT), (shop, NN), (building, NN), (to, TO), (find, VB), (the, DT), (information, NN), (we, PRP), (need, VBP), (if, IN), (it, PRP), (is, VBZ), (in, IN), (fact, NN), (available, JJ), (thank, NN), (you, PRP)]</td>\n",
       "      <td>[permit, county, parcel, specifically, permit, one, structure, currently, propertythe, shop, build, whether, drain, oilwater, separator, shop, connect, sewer, necessary, review, permit, shop, building, fact]</td>\n",
       "      <td>24</td>\n",
       "      <td>['permit_th', 'th_ave', 'ave_ne', 'ne_snohomish', 'snohomish_county', 'county_parcel', 'parcel_specifically', 'specifically_need', 'need_permit', 'permit_relate', 'relate_one', 'one_structure', 'structure_currently', 'currently_propertythe', 'propertythe_shop', 'shop_build', 'build_question', 'question_whether', 'whether_drain', 'drain_oilwater', 'oilwater_separator', 'separator_shop', 'shop_connect', 'connect_public', 'public_sewer', 'sewer_necessary', 'necessary_review', 'review_permit', 'permit_relate', 'relate_shop', 'shop_building', 'building_find', 'find_information', 'information_need', 'need_fact', 'fact_available', 'available_thank']</td>\n",
       "      <td>[]</td>\n",
       "      <td>[permit, county, parcel, specifically, permit, one, structure, currently, propertythe, shop, build, whether, drain, oilwater, separator, shop, connect, sewer, necessary, review, permit, shop, building, fact]</td>\n",
       "      <td>False</td>\n",
       "      <td>[]</td>\n",
       "    </tr>\n",
       "    <tr>\n",
       "      <th>7</th>\n",
       "      <td>7</td>\n",
       "      <td>Building permit from  for the conversion of a portion of the garage to living space</td>\n",
       "      <td>Arlington</td>\n",
       "      <td>2018-06</td>\n",
       "      <td>Building permit from  for the conversion of a portion of the garage to living space</td>\n",
       "      <td>[]</td>\n",
       "      <td>building permit from  for the conversion of a portion of the garage to living space</td>\n",
       "      <td>[building, permit, from, for, the, conversion, of, a, portion, of, the, garage, to, living, space]</td>\n",
       "      <td>[(building, VBG), (permit, NN), (from, IN), (for, IN), (the, DT), (conversion, NN), (of, IN), (a, DT), (portion, NN), (of, IN), (the, DT), (garage, NN), (to, TO), (living, VBG), (space, NN)]</td>\n",
       "      <td>[build, permit, conversion, portion, garage, live, space]</td>\n",
       "      <td>7</td>\n",
       "      <td>['build_permit', 'permit_conversion', 'conversion_portion', 'portion_garage', 'garage_live', 'live_space']</td>\n",
       "      <td>[]</td>\n",
       "      <td>[build, permit, conversion, portion, garage, live, space]</td>\n",
       "      <td>False</td>\n",
       "      <td>[]</td>\n",
       "    </tr>\n",
       "    <tr>\n",
       "      <th>8</th>\n",
       "      <td>8</td>\n",
       "      <td>Water and Sewer Plans for E th Street</td>\n",
       "      <td>Arlington</td>\n",
       "      <td>2018-06</td>\n",
       "      <td>Water and Sewer Plans for E th Street</td>\n",
       "      <td>[sewer]</td>\n",
       "      <td>water and sewer plans for e th street</td>\n",
       "      <td>[water, and, sewer, plans, for, e, th, street]</td>\n",
       "      <td>[(water, NN), (and, CC), (sewer, JJR), (plans, NNS), (for, IN), (e, NN), (th, NNS), (street, NN)]</td>\n",
       "      <td>[water, sewer, plan, street]</td>\n",
       "      <td>4</td>\n",
       "      <td>['water_sewer', 'sewer_plan', 'plan_e', 'e_th', 'th_street']</td>\n",
       "      <td>[]</td>\n",
       "      <td>[water, sewer, plan, street]</td>\n",
       "      <td>False</td>\n",
       "      <td>[]</td>\n",
       "    </tr>\n",
       "    <tr>\n",
       "      <th>9</th>\n",
       "      <td>9</td>\n",
       "      <td>ENVIRONMENTAL HEALTH VIOLATIONSRECORDS REQUEST\\n\\nPartner Engineering and Science Inc is conducting a Phase I Environmental Site Assessment andor a Property Condition Report Assessment on the following properties\\nAffinity at Arlington\\nNEC th Ave  Smokey Point Blvd\\nArlington  \\nPartner Project  \\n\\nAs part of the investigation we are requesting under the Freedom of Information Act any environmental health records you have for the abovereferenced property pertaining to the following\\n∑        Asbestos or leadbased paint found at the property\\n∑        Septic system and water well information\\n∑        Human health concerns\\n∑        Hazardous materials incidents\\n∑        Regional specific issues</td>\n",
       "      <td>Arlington</td>\n",
       "      <td>2018-06</td>\n",
       "      <td>ENVIRONMENTAL HEALTH VIOLATIONSRECORDS REQUEST\\n\\nPartner Engineering and Science Inc is conducting a Phase I Environmental Site Assessment andor a Property Condition Report Assessment on the following properties\\nAffinity at Arlington\\nNEC th Ave  Smokey Point Blvd\\nArlington  \\nPartner Project  \\n\\nAs part of the investigation we are requesting under the Freedom of Information Act any environmental health records you have for the abovereferenced property pertaining to the following\\n∑        Asbestos or leadbased paint found at the property\\n∑        Septic system and water well information\\n∑        Human health concerns\\n∑        Hazardous materials incidents\\n∑        Regional specific issues</td>\n",
       "      <td>[environmental, partner, engineering, science, inc, i, environmental, site, assessment, property, condition, report, assessment, affinity, arlington, nec, ave, smokey, point, blvd, arlington, partner, project, freedom, information, act, ∑, asbestos, ∑, septic, ∑, human, ∑, hazardous, ∑, regional]</td>\n",
       "      <td>environmental health violationsrecords request\\n\\npartner engineering and science inc is conducting a phase i environmental site assessment andor a property condition report assessment on the following properties\\naffinity at arlington\\nnec th ave  smokey point blvd\\narlington  \\npartner project  \\n\\nas part of the investigation we are requesting under the  any environmental health records you have for the abovereferenced property pertaining to the following\\n∑        asbestos or leadbased paint found at the property\\n∑        septic system and water well information\\n∑        human health concerns\\n∑        hazardous materials incidents\\n∑        regional specific issues</td>\n",
       "      <td>[environmental, health, violationsrecords, request, partner, engineering, and, science, inc, is, conducting, a, phase, i, environmental, site, assessment, andor, a, property, condition, report, assessment, on, the, following, properties, affinity, at, arlington, nec, th, ave, smokey, point, blvd, arlington, partner, project, as, part, of, the, investigation, we, are, requesting, under, the, any, environmental, health, records, you, have, for, the, abovereferenced, property, pertaining, to, the, following, ∑, asbestos, or, leadbased, paint, found, at, the, property, ∑, septic, system, and, water, well, information, ∑, human, health, concerns, ∑, hazardous, materials, incidents, ∑, regional, specific, issues]</td>\n",
       "      <td>[(environmental, JJ), (health, NN), (violationsrecords, NNS), (request, VBP), (partner, NN), (engineering, NN), (and, CC), (science, NN), (inc, NN), (is, VBZ), (conducting, VBG), (a, DT), (phase, NN), (i, NN), (environmental, JJ), (site, NN), (assessment, JJ), (andor, VBZ), (a, DT), (property, NN), (condition, NN), (report, NN), (assessment, NN), (on, IN), (the, DT), (following, JJ), (properties, NNS), (affinity, VBP), (at, IN), (arlington, NN), (nec, NN), (th, NN), (ave, VBP), (smokey, JJ), (point, NN), (blvd, IN), (arlington, NN), (partner, NN), (project, NN), (as, IN), (part, NN), (of, IN), (the, DT), (investigation, NN), (we, PRP), (are, VBP), (requesting, VBG), (under, IN), (the, DT), (any, DT), (environmental, JJ), (health, NN), (records, NNS), (you, PRP), (have, VBP), (for, IN), (the, DT), (abovereferenced, JJ), (property, NN), (pertaining, NN), (to, TO), (the, DT), (following, JJ), (∑, NN), (asbestos, NN), (or, CC), (leadbased, VBN), (paint, NN), (found, VBN), (at, IN), (th...</td>\n",
       "      <td>[environmental, health, violationsrecords, partner, engineering, science, inc, conduct, phase, environmental, site, assessment, andor, property, condition, assessment, following, property, affinity, arlington, nec, smokey, point, arlington, partner, project, part, investigation, environmental, health, abovereferenced, property, pertaining, following, ∑, asbestos, leadbased, paint, property, ∑, septic, system, water, well, ∑, human, health, concern, ∑, hazardous, material, incident, ∑, regional, specific, issue]</td>\n",
       "      <td>60</td>\n",
       "      <td>['environmental_health', 'health_violationsrecords', 'violationsrecords_request', 'request_partner', 'partner_engineering', 'engineering_science', 'science_inc', 'inc_conduct', 'conduct_phase', 'phase_environmental', 'environmental_site', 'site_assessment', 'assessment_andor', 'andor_property', 'property_condition', 'condition_report', 'report_assessment', 'assessment_following', 'following_property', 'property_affinity', 'affinity_arlington', 'arlington_nec', 'nec_th', 'th_ave', 'ave_smokey', 'smokey_point', 'point_blvd', 'blvd_arlington', 'arlington_partner', 'partner_project', 'project_part', 'part_investigation', 'investigation_request', 'request_environmental', 'environmental_health', 'health_record', 'record_abovereferenced', 'abovereferenced_property', 'property_pertaining', 'pertaining_following', 'following_∑', '∑_asbestos', 'asbestos_leadbased', 'leadbased_paint', 'paint_find', 'find_property', 'property_∑', '∑_septic', 'septic_system', 'system_water', 'water_well', 'well...</td>\n",
       "      <td>[phase_environmental, environmental_site, site_assessment, hazardous_material]</td>\n",
       "      <td>[environmental, health, violationsrecords, partner, engineering, science, inc, conduct, phase, environmental, site, assessment, andor, property, condition, assessment, following, property, affinity, arlington, nec, smokey, point, arlington, partner, project, part, investigation, environmental, health, abovereferenced, property, pertaining, following, ∑, asbestos, leadbased, paint, property, ∑, septic, system, water, well, ∑, human, health, concern, ∑, hazardous, material, incident, ∑, regional, specific, issue, phase_environmental, environmental_site, site_assessment, hazardous_material]</td>\n",
       "      <td>False</td>\n",
       "      <td>[]</td>\n",
       "    </tr>\n",
       "    <tr>\n",
       "      <th>10</th>\n",
       "      <td>10</td>\n",
       "      <td>How do I obtain any information concerning property  Old Burn Rd Arlington WA \\nI am Considering purchase of this property\\n\\nMaps Geological Easements etc\\n Thank you</td>\n",
       "      <td>Arlington</td>\n",
       "      <td>2018-06</td>\n",
       "      <td>How do I obtain any information concerning property  Old Burn Rd Arlington WA \\nI am Considering purchase of this property\\n\\nMaps Geological Easements etc\\n Thank you</td>\n",
       "      <td>[old, burn, rd, arlington, wa, geological]</td>\n",
       "      <td>how do i obtain any information concerning property  old burn rd arlington wa \\ni am considering purchase of this property\\n\\nmaps geological easements etc\\n thank you</td>\n",
       "      <td>[how, do, i, obtain, any, information, concerning, property, old, burn, rd, arlington, wa, i, am, considering, purchase, of, this, property, maps, geological, easements, etc, thank, you]</td>\n",
       "      <td>[(how, WRB), (do, VBP), (i, RB), (obtain, VB), (any, DT), (information, NN), (concerning, VBG), (property, NN), (old, JJ), (burn, NN), (rd, VBZ), (arlington, IN), (wa, NN), (i, NN), (am, VBP), (considering, VBG), (purchase, NN), (of, IN), (this, DT), (property, NN), (maps, VBZ), (geological, JJ), (easements, NNS), (etc, FW), (thank, NN), (you, PRP)]</td>\n",
       "      <td>[obtain, concern, property, old, burn, arlington, consider, purchase, property, map, geological, easement, etc]</td>\n",
       "      <td>13</td>\n",
       "      <td>['obtain_information', 'information_concern', 'concern_property', 'property_old', 'old_burn', 'burn_rd', 'rd_arlington', 'arlington_wa', 'wa_consider', 'consider_purchase', 'purchase_property', 'property_map', 'map_geological', 'geological_easement', 'easement_etc', 'etc_thank']</td>\n",
       "      <td>[]</td>\n",
       "      <td>[obtain, concern, property, old, burn, arlington, consider, purchase, property, map, geological, easement, etc]</td>\n",
       "      <td>False</td>\n",
       "      <td>[]</td>\n",
       "    </tr>\n",
       "    <tr>\n",
       "      <th>11</th>\n",
       "      <td>11</td>\n",
       "      <td>Iíd like a list of  business licenses as well as a list of active commercial tenant improvements</td>\n",
       "      <td>Arlington</td>\n",
       "      <td>2018-05</td>\n",
       "      <td>Iíd like a list of  business licenses as well as a list of active commercial tenant improvements</td>\n",
       "      <td>[]</td>\n",
       "      <td>iíd like a list of  business licenses as well as a list of active commercial tenant improvements</td>\n",
       "      <td>[iíd, like, a, list, of, business, licenses, as, well, as, a, list, of, active, commercial, tenant, improvements]</td>\n",
       "      <td>[(iíd, NNS), (like, IN), (a, DT), (list, NN), (of, IN), (business, NN), (licenses, NNS), (as, RB), (well, RB), (as, IN), (a, DT), (list, NN), (of, IN), (active, JJ), (commercial, JJ), (tenant, NN), (improvements, NNS)]</td>\n",
       "      <td>[iíd, list, business, license, well, list, active, commercial, tenant, improvement]</td>\n",
       "      <td>10</td>\n",
       "      <td>['iíd_like', 'like_list', 'list_business', 'business_license', 'license_well', 'well_list', 'list_active', 'active_commercial', 'commercial_tenant', 'tenant_improvement']</td>\n",
       "      <td>[]</td>\n",
       "      <td>[iíd, list, business, license, well, list, active, commercial, tenant, improvement]</td>\n",
       "      <td>False</td>\n",
       "      <td>[]</td>\n",
       "    </tr>\n",
       "    <tr>\n",
       "      <th>12</th>\n",
       "      <td>12</td>\n",
       "      <td>Copies of Building Permits of  valuation and up  min for ReRoofs  min for Cell Tower upgrades Electrical Mechanical  Plumbing at  min and Solar Panels Swimming Pools  Foundations at any valuation     \\nIssued  May    thru May</td>\n",
       "      <td>Arlington</td>\n",
       "      <td>2018-05</td>\n",
       "      <td>Copies of Building Permits of  valuation and up  min for ReRoofs  min for Cell Tower upgrades Electrical Mechanical  Plumbing at  min and Solar Panels Swimming Pools  Foundations at any valuation     \\nIssued  May    thru May</td>\n",
       "      <td>[building, reroofs, cell, tower, electrical, mechanical, plumbing, solar, swimming, pools, may]</td>\n",
       "      <td>copies of building permits of  valuation and up  min for reroofs  min for cell tower upgrades electrical mechanical  plumbing at  min and solar panels swimming pools  foundations at any valuation     \\nissued  may    thru may</td>\n",
       "      <td>[copies, of, building, permits, of, valuation, and, up, min, for, reroofs, min, for, cell, tower, upgrades, electrical, mechanical, plumbing, at, min, and, solar, panels, swimming, pools, foundations, at, any, valuation, issued, may, thru, may]</td>\n",
       "      <td>[(copies, NNS), (of, IN), (building, VBG), (permits, NNS), (of, IN), (valuation, NN), (and, CC), (up, RB), (min, NN), (for, IN), (reroofs, NN), (min, NN), (for, IN), (cell, NN), (tower, NN), (upgrades, JJ), (electrical, JJ), (mechanical, JJ), (plumbing, NN), (at, IN), (min, NN), (and, CC), (solar, JJ), (panels, NNS), (swimming, VBG), (pools, JJ), (foundations, NNS), (at, IN), (any, DT), (valuation, NN), (issued, VBN), (may, MD), (thru, VB), (may, MD)]</td>\n",
       "      <td>[build, permit, valuation, min, reroofs, min, cell, tower, upgrades, electrical, mechanical, plumbing, min, solar, panel, swim, pools, foundation, valuation, issue, thru]</td>\n",
       "      <td>21</td>\n",
       "      <td>['copy_build', 'build_permit', 'permit_valuation', 'valuation_min', 'min_reroofs', 'reroofs_min', 'min_cell', 'cell_tower', 'tower_upgrades', 'upgrades_electrical', 'electrical_mechanical', 'mechanical_plumbing', 'plumbing_min', 'min_solar', 'solar_panel', 'panel_swim', 'swim_pools', 'pools_foundation', 'foundation_valuation', 'valuation_issue', 'issue_may', 'may_thru', 'thru_may']</td>\n",
       "      <td>[]</td>\n",
       "      <td>[build, permit, valuation, min, reroofs, min, cell, tower, upgrades, electrical, mechanical, plumbing, min, solar, panel, swim, pools, foundation, valuation, issue, thru]</td>\n",
       "      <td>False</td>\n",
       "      <td>[]</td>\n",
       "    </tr>\n",
       "    <tr>\n",
       "      <th>13</th>\n",
       "      <td>13</td>\n",
       "      <td>I would like copies of all inspection reports submitted by the Gleneagle Country Club Homeowners Association relating to the storm water facilities sewer andor water facilities andor any inspection reports prepared by the City of Arlington regarding any storm drain facilities water or sewer facilities located within the Gleneagle Country Club</td>\n",
       "      <td>Arlington</td>\n",
       "      <td>2018-05</td>\n",
       "      <td>I would like copies of all inspection reports submitted by the Gleneagle Country Club Homeowners Association relating to the storm water facilities sewer andor water facilities andor any inspection reports prepared by the City of Arlington regarding any storm drain facilities water or sewer facilities located within the Gleneagle Country Club</td>\n",
       "      <td>[gleneagle, country, club, association, city, arlington, gleneagle, country, club]</td>\n",
       "      <td>i would like copies of all inspection reports submitted by the gleneagle country club homeowners association relating to the storm water facilities sewer andor water facilities andor any inspection reports prepared by the city of arlington regarding any storm drain facilities water or sewer facilities located within the gleneagle country club</td>\n",
       "      <td>[i, would, like, copies, of, all, inspection, reports, submitted, by, the, gleneagle, country, club, homeowners, association, relating, to, the, storm, water, facilities, sewer, andor, water, facilities, andor, any, inspection, reports, prepared, by, the, city, of, arlington, regarding, any, storm, drain, facilities, water, or, sewer, facilities, located, within, the, gleneagle, country, club]</td>\n",
       "      <td>[(i, NN), (would, MD), (like, VB), (copies, NNS), (of, IN), (all, DT), (inspection, NN), (reports, NNS), (submitted, VBN), (by, IN), (the, DT), (gleneagle, JJ), (country, NN), (club, NN), (homeowners, NNS), (association, VBP), (relating, VBG), (to, TO), (the, DT), (storm, NN), (water, NN), (facilities, NNS), (sewer, VBP), (andor, JJ), (water, NN), (facilities, NNS), (andor, VBP), (any, DT), (inspection, NN), (reports, NNS), (prepared, VBN), (by, IN), (the, DT), (city, NN), (of, IN), (arlington, NN), (regarding, VBG), (any, DT), (storm, NN), (drain, NN), (facilities, NNS), (water, NN), (or, CC), (sewer, NN), (facilities, NNS), (located, VBN), (within, IN), (the, DT), (gleneagle, JJ), (country, NN), (club, NN)]</td>\n",
       "      <td>[inspection, submit, gleneagle, country, club, homeowner, association, storm, water, facility, sewer, andor, water, facility, andor, inspection, prepare, arlington, storm, drain, facility, water, sewer, facility, locate, within, gleneagle, country, club]</td>\n",
       "      <td>29</td>\n",
       "      <td>['would_like', 'like_copy', 'copy_inspection', 'inspection_report', 'report_submit', 'submit_gleneagle', 'gleneagle_country', 'country_club', 'club_homeowner', 'homeowner_association', 'association_relate', 'relate_storm', 'storm_water', 'water_facility', 'facility_sewer', 'sewer_andor', 'andor_water', 'water_facility', 'facility_andor', 'andor_inspection', 'inspection_report', 'report_prepare', 'prepare_city', 'city_arlington', 'arlington_regard', 'regard_storm', 'storm_drain', 'drain_facility', 'facility_water', 'water_sewer', 'sewer_facility', 'facility_locate', 'locate_within', 'within_gleneagle', 'gleneagle_country', 'country_club']</td>\n",
       "      <td>[]</td>\n",
       "      <td>[inspection, submit, gleneagle, country, club, homeowner, association, storm, water, facility, sewer, andor, water, facility, andor, inspection, prepare, arlington, storm, drain, facility, water, sewer, facility, locate, within, gleneagle, country, club]</td>\n",
       "      <td>False</td>\n",
       "      <td>[]</td>\n",
       "    </tr>\n",
       "    <tr>\n",
       "      <th>14</th>\n",
       "      <td>14</td>\n",
       "      <td>TransactionReference  \\nReport Type\\t\\tAuto Accident\\nReportCase Number\\t\\nDate of Occurrence\\t\\t  AM\\nLocation of Loss\\tRD  SMOKEY POINT\\nCross Street\\t\\t\\t\\nCity  ARLINGTON\\t\\t\\tCounty SNOHOMISH\\nInsured Driver\\tGareth\\tW  Dethman\\nDriver</td>\n",
       "      <td>Arlington</td>\n",
       "      <td>2018-05</td>\n",
       "      <td>TransactionReference  \\nReport Type\\t\\tAuto Accident\\nReportCase Number\\t\\nDate of Occurrence\\t\\t  AM\\nLocation of Loss\\tRD  SMOKEY POINT\\nCross Street\\t\\t\\t\\nCity  ARLINGTON\\t\\t\\tCounty SNOHOMISH\\nInsured Driver\\tGareth\\tW  Dethman\\nDriver</td>\n",
       "      <td>[transactionreference, report, type, auto, accident, reportcase, number, occurrence, am, location, loss, rd, smokey, point, cross, street, city, arlington, county, snohomish, insured, driver, gareth, w, dethman, driver]</td>\n",
       "      <td>transactionreference  \\nreport type\\t\\tauto accident\\nreportcase number\\t\\ndate of occurrence\\t\\t  am\\nlocation of loss\\trd  smokey point\\ncross street\\t\\t\\t\\ncity  arlington\\t\\t\\tcounty snohomish\\ninsured driver\\tgareth\\tw  dethman\\ndriver</td>\n",
       "      <td>[transactionreference, report, type, auto, accident, reportcase, number, date, of, occurrence, am, location, of, loss, rd, smokey, point, cross, street, city, arlington, county, snohomish, insured, driver, gareth, w, dethman, driver]</td>\n",
       "      <td>[(transactionreference, NN), (report, NN), (type, VBD), (auto, NN), (accident, NN), (reportcase, NN), (number, NN), (date, NN), (of, IN), (occurrence, NN), (am, VBP), (location, NN), (of, IN), (loss, NN), (rd, NN), (smokey, JJ), (point, NN), (cross, NN), (street, NN), (city, NN), (arlington, VBP), (county, NN), (snohomish, NN), (insured, VBD), (driver, RB), (gareth, JJ), (w, NN), (dethman, NN), (driver, NN)]</td>\n",
       "      <td>[transactionreference, type, auto, accident, reportcase, number, occurrence, location, loss, smokey, point, cross, street, arlington, county, insure, driver, gareth, dethman, driver]</td>\n",
       "      <td>27</td>\n",
       "      <td>['transactionreference_report', 'report_type', 'type_auto', 'auto_accident', 'accident_reportcase', 'reportcase_number', 'number_date', 'date_occurrence', 'occurrence_location', 'location_loss', 'loss_rd', 'rd_smokey', 'smokey_point', 'point_cross', 'cross_street', 'street_city', 'city_arlington', 'arlington_county', 'county_snohomish', 'snohomish_insure', 'insure_driver', 'driver_gareth', 'gareth_w', 'w_dethman', 'dethman_driver']</td>\n",
       "      <td>[type_auto, auto_accident, accident_reportcase, reportcase_number, number_date, date_occurrence, occurrence_location, location_loss, insure_driver]</td>\n",
       "      <td>[transactionreference, type, auto, accident, reportcase, number, occurrence, location, loss, smokey, point, cross, street, arlington, county, insure, driver, driver, type_auto, auto_accident, accident_reportcase, reportcase_number, number_date, date_occurrence, occurrence_location, location_loss, insure_driver]</td>\n",
       "      <td>False</td>\n",
       "      <td>[gareth, dethman]</td>\n",
       "    </tr>\n",
       "    <tr>\n",
       "      <th>15</th>\n",
       "      <td>15</td>\n",
       "      <td>Drainage report and approved plans for the Pearson Millwork addition</td>\n",
       "      <td>Arlington</td>\n",
       "      <td>2018-05</td>\n",
       "      <td>Drainage report and approved plans for the Pearson Millwork addition</td>\n",
       "      <td>[pearson, millwork]</td>\n",
       "      <td>drainage report and approved plans for the pearson millwork addition</td>\n",
       "      <td>[drainage, report, and, approved, plans, for, the, pearson, millwork, addition]</td>\n",
       "      <td>[(drainage, NN), (report, NN), (and, CC), (approved, VBD), (plans, NNS), (for, IN), (the, DT), (pearson, NN), (millwork, NN), (addition, NN)]</td>\n",
       "      <td>[drainage, approve, plan, pearson, millwork, addition]</td>\n",
       "      <td>6</td>\n",
       "      <td>['drainage_report', 'report_approve', 'approve_plan', 'plan_pearson', 'pearson_millwork', 'millwork_addition']</td>\n",
       "      <td>[]</td>\n",
       "      <td>[drainage, approve, plan, pearson, millwork, addition]</td>\n",
       "      <td>False</td>\n",
       "      <td>[]</td>\n",
       "    </tr>\n",
       "    <tr>\n",
       "      <th>16</th>\n",
       "      <td>16</td>\n",
       "      <td>Looking for any Road Survey and Road Deed info along Cemetery Road at    as Snohomish County PW has no information prior to annexation Also looking for info south of there at th Dr NE Parcel Nos are    and  Please see attached assessor map</td>\n",
       "      <td>Arlington</td>\n",
       "      <td>2018-05</td>\n",
       "      <td>Looking for any Road Survey and Road Deed info along Cemetery Road at    as Snohomish County PW has no information prior to annexation Also looking for info south of there at th Dr NE Parcel Nos are    and  Please see attached assessor map</td>\n",
       "      <td>[road, survey, road, deed, cemetery, road, snohomish, county, pw, dr, ne, parcel, nos]</td>\n",
       "      <td>looking for any road survey and road deed info along cemetery road at    as snohomish county pw has no information prior to annexation also looking for info south of there at th dr ne parcel nos are    and  please  assessor map</td>\n",
       "      <td>[looking, for, any, road, survey, and, road, deed, info, along, cemetery, road, at, as, snohomish, county, pw, has, no, information, prior, to, annexation, also, looking, for, info, south, of, there, at, th, dr, ne, parcel, nos, are, and, please, assessor, map]</td>\n",
       "      <td>[(looking, VBG), (for, IN), (any, DT), (road, NN), (survey, NN), (and, CC), (road, NN), (deed, NN), (info, NN), (along, IN), (cemetery, NN), (road, NN), (at, IN), (as, IN), (snohomish, JJ), (county, NN), (pw, NN), (has, VBZ), (no, DT), (information, NN), (prior, RB), (to, TO), (annexation, NN), (also, RB), (looking, VBG), (for, IN), (info, JJ), (south, NN), (of, IN), (there, EX), (at, IN), (th, NN), (dr, NN), (ne, JJ), (parcel, NN), (nos, NNS), (are, VBP), (and, CC), (please, JJ), (assessor, NN), (map, NN)]</td>\n",
       "      <td>[road, survey, road, deed, info, along, cemetery, road, county, pw, prior, annexation, info, parcel, no, assessor, map]</td>\n",
       "      <td>17</td>\n",
       "      <td>['look_road', 'road_survey', 'survey_road', 'road_deed', 'deed_info', 'info_along', 'along_cemetery', 'cemetery_road', 'road_snohomish', 'snohomish_county', 'county_pw', 'pw_information', 'information_prior', 'prior_annexation', 'annexation_also', 'also_look', 'look_info', 'info_south', 'south_th', 'th_dr', 'dr_ne', 'ne_parcel', 'parcel_no', 'no_please', 'please_assessor', 'assessor_map']</td>\n",
       "      <td>[]</td>\n",
       "      <td>[road, survey, road, deed, info, along, cemetery, road, county, pw, prior, annexation, info, parcel, no, assessor, map]</td>\n",
       "      <td>False</td>\n",
       "      <td>[]</td>\n",
       "    </tr>\n",
       "    <tr>\n",
       "      <th>17</th>\n",
       "      <td>17</td>\n",
       "      <td>ANY AND ALL POLICE REPORT AND CADS FOR CONTACT MADE BY ANY ARLINGTON POLICE OFFICER ON SEPTEMBER   REGARDING PHILEMON SHARK</td>\n",
       "      <td>Arlington</td>\n",
       "      <td>2018-05</td>\n",
       "      <td>ANY AND ALL POLICE REPORT AND CADS FOR CONTACT MADE BY ANY ARLINGTON POLICE OFFICER ON SEPTEMBER   REGARDING PHILEMON SHARK</td>\n",
       "      <td>[report, cads, arlington, officer, september, philemon]</td>\n",
       "      <td>any and all police report and cads for contact made by any arlington police officer on september   regarding philemon shark</td>\n",
       "      <td>[any, and, all, police, report, and, cads, for, contact, made, by, any, arlington, police, officer, on, september, regarding, philemon, shark]</td>\n",
       "      <td>[(any, DT), (and, CC), (all, DT), (police, NNS), (report, NN), (and, CC), (cads, NNS), (for, IN), (contact, NN), (made, VBN), (by, IN), (any, DT), (arlington, JJ), (police, NNS), (officer, NN), (on, IN), (september, NN), (regarding, VBG), (philemon, NN), (shark, NN)]</td>\n",
       "      <td>[police, cad, contact, arlington, police, officer, philemon, shark]</td>\n",
       "      <td>8</td>\n",
       "      <td>['police_report', 'report_cad', 'cad_contact', 'contact_make', 'make_arlington', 'arlington_police', 'police_officer', 'officer_september', 'september_regard', 'regard_philemon', 'philemon_shark']</td>\n",
       "      <td>[police_report]</td>\n",
       "      <td>[police, cad, contact, arlington, police, officer, shark, police_report]</td>\n",
       "      <td>False</td>\n",
       "      <td>[cads, philemon]</td>\n",
       "    </tr>\n",
       "    <tr>\n",
       "      <th>18</th>\n",
       "      <td>18</td>\n",
       "      <td>For the City of Arlington  Arlington Municipal Airport Generator Project\\n\\nProposals due  awarded  to D Square Energy Systems\\n\\nI am requesting a copy of the complete proposal submitted by D Square Energy Systems\\n\\nThank you</td>\n",
       "      <td>Arlington</td>\n",
       "      <td>2018-05</td>\n",
       "      <td>For the City of Arlington  Arlington Municipal Airport Generator Project\\n\\nProposals due  awarded  to D Square Energy Systems\\n\\nI am requesting a copy of the complete proposal submitted by D Square Energy Systems\\n\\nThank you</td>\n",
       "      <td>[city, arlington, arlington, municipal, airport, generator, project, d, square, energy, d, square, energy]</td>\n",
       "      <td>for the city of arlington  arlington municipal airport generator project\\n\\nproposals due  awarded  to d square energy systems\\n\\ni am requesting a copy of the complete proposal submitted by d square energy systems\\n\\nthank you</td>\n",
       "      <td>[for, the, city, of, arlington, arlington, municipal, airport, generator, project, proposals, due, awarded, to, d, square, energy, systems, i, am, requesting, a, copy, of, the, complete, proposal, submitted, by, d, square, energy, systems, thank, you]</td>\n",
       "      <td>[(for, IN), (the, DT), (city, NN), (of, IN), (arlington, JJ), (arlington, NN), (municipal, JJ), (airport, NN), (generator, NN), (project, NN), (proposals, NNS), (due, RB), (awarded, VBD), (to, TO), (d, VB), (square, JJ), (energy, NN), (systems, NNS), (i, VBP), (am, VBP), (requesting, VBG), (a, DT), (copy, NN), (of, IN), (the, DT), (complete, JJ), (proposal, NN), (submitted, VBN), (by, IN), (d, NN), (square, NN), (energy, NN), (systems, NNS), (thank, IN), (you, PRP)]</td>\n",
       "      <td>[arlington, arlington, municipal, airport, generator, project, proposal, due, award, square, energy, system, complete, proposal, submit, square, energy, system]</td>\n",
       "      <td>18</td>\n",
       "      <td>['city_arlington', 'arlington_arlington', 'arlington_municipal', 'municipal_airport', 'airport_generator', 'generator_project', 'project_proposal', 'proposal_due', 'due_award', 'award_square', 'square_energy', 'energy_system', 'system_request', 'request_copy', 'copy_complete', 'complete_proposal', 'proposal_submit', 'submit_square', 'square_energy', 'energy_system', 'system_thank']</td>\n",
       "      <td>[]</td>\n",
       "      <td>[arlington, arlington, municipal, airport, generator, project, proposal, due, award, square, energy, system, complete, proposal, submit, square, energy, system]</td>\n",
       "      <td>False</td>\n",
       "      <td>[]</td>\n",
       "    </tr>\n",
       "    <tr>\n",
       "      <th>19</th>\n",
       "      <td>19</td>\n",
       "      <td>Copy of individual Building Permits  not a report please  for permits issued with a\\nminimum of  valuation     min for reroofs  min for\\nelectrical mechanical  plumbing  solar panels and swimming pools at any value</td>\n",
       "      <td>Arlington</td>\n",
       "      <td>2018-05</td>\n",
       "      <td>Copy of individual Building Permits  not a report please  for permits issued with a\\nminimum of  valuation     min for reroofs  min for\\nelectrical mechanical  plumbing  solar panels and swimming pools at any value</td>\n",
       "      <td>[building]</td>\n",
       "      <td>copy of individual building permits  not a report please  for permits issued with a\\nminimum of  valuation     min for reroofs  min for\\nelectrical mechanical  plumbing  solar panels and swimming pools at any value</td>\n",
       "      <td>[copy, of, individual, building, permits, not, a, report, please, for, permits, issued, with, a, minimum, of, valuation, min, for, reroofs, min, for, electrical, mechanical, plumbing, solar, panels, and, swimming, pools, at, any, value]</td>\n",
       "      <td>[(copy, NN), (of, IN), (individual, JJ), (building, NN), (permits, VBZ), (not, RB), (a, DT), (report, NN), (please, NN), (for, IN), (permits, NNS), (issued, VBN), (with, IN), (a, DT), (minimum, NN), (of, IN), (valuation, NN), (min, NN), (for, IN), (reroofs, NN), (min, NN), (for, IN), (electrical, JJ), (mechanical, JJ), (plumbing, NN), (solar, JJ), (panels, NNS), (and, CC), (swimming, NN), (pools, NNS), (at, IN), (any, DT), (value, NN)]</td>\n",
       "      <td>[individual, building, permit, permit, issue, minimum, valuation, min, reroofs, min, electrical, mechanical, plumbing, solar, panel, swimming, pool, value]</td>\n",
       "      <td>19</td>\n",
       "      <td>['copy_individual', 'individual_building', 'building_permit', 'permit_report', 'report_please', 'please_permit', 'permit_issue', 'issue_minimum', 'minimum_valuation', 'valuation_min', 'min_reroofs', 'reroofs_min', 'min_electrical', 'electrical_mechanical', 'mechanical_plumbing', 'plumbing_solar', 'solar_panel', 'panel_swimming', 'swimming_pool', 'pool_value']</td>\n",
       "      <td>[building_permit]</td>\n",
       "      <td>[individual, building, permit, permit, issue, minimum, valuation, min, reroofs, min, electrical, mechanical, plumbing, solar, panel, swimming, pool, value, building_permit]</td>\n",
       "      <td>False</td>\n",
       "      <td>[]</td>\n",
       "    </tr>\n",
       "  </tbody>\n",
       "</table>\n",
       "</div>"
      ],
      "text/plain": [
       "    index                                                                                                                                                                                                                                                                                                                                                                                                                                                                                                                                                                                                                                                                                                                             Summary       city month_year  \\\n",
       "0       0                                                                                                                                                                                                                                                                We are working with an engineering firm on an upcoming project  They have asked us to gather maps for this project  Would you be able to assist me in gathering mapsrecords as builds for any underground water facilities you may have  Something just showing the route of the water lines would do\\n\\nth ST NE to nd Ave NE Arlington Cascade Surveying  Engineering \\n\\nI have attached the scope for your convenience  Please let me know if you have questions  Arlington    2018-06   \n",
       "1       1                                                                                                                                                                                                                                                                                                                                                                                                                                                                                                                Need copies of contracts and all related documents pertaining to Topcub Aircraft property located at  th DR NE Arlington WA  between Arlington Airport Topcub Aircraft City of Arlington HCI Steel Buildings and PUD  Arlington    2018-06   \n",
       "2       2                                                                                                                                                                                                                                                                                                                                                                                                                                                                                                                                 Copies of Building Permits of  valuation and up  min for ReRoofs  min for Cell Tower upgrades Electrical Mechanical  Plumbing at  min and Solar Panels Swimming Pools  Foundations at any valuation  Arlington    2018-06   \n",
       "3       3                                                                                                                                                                                                                                                                                                                                                                                                                                                              police report filed to an officer against Wayne Parris DOB  from Brittany J Parris The paperwork I have has a case number D it is also stamped at the bottom with  Iím not sure which number you will need If there is any other information needed please let me know  Arlington    2018-06   \n",
       "4       4                                                                                                                                                                                                                                                                                                                                                                                                                  Email Communications between Stephanie Shook Dave Kraski Bruce Stedman and Chad Schmidt in regards to Fire Protection District  billing and passage of contract for ALS Services \\n\\nAlso any copies of Agenda Bills D Contract and materials presented for review in NovDec time frame in regards to the contract  Arlington    2018-06   \n",
       "5       5                                                                                                                                                                                                                                                                                                                                                                                                                                        I would like to request the current lease agreement as well as any attachments and amendments regarding the following Arlington Municipal Airport properties\\n\\n Top Cub Aircraft LLC\\n Arlington School District\\n Duane WilcoxonNW Custom Aircraft Hangars LLCCarrera Hangars\\n\\nThank you  Arlington    2018-06   \n",
       "6       6                                                                                                                                                                                                                                                                                                                                                Permits for  th Ave NE Snohomish County parcel No  Specifically need permits related to one  structure currently on propertythe shop building Our question is whether the drain and oilwater separator in the shop connects to public sewer If necessary we can review all permits related to the shop building to find the information we need if it is in fact available Thank you  Arlington    2018-06   \n",
       "7       7                                                                                                                                                                                                                                                                                                                                                                                                                                                                                                                                                                                                                                                 Building permit from  for the conversion of a portion of the garage to living space  Arlington    2018-06   \n",
       "8       8                                                                                                                                                                                                                                                                                                                                                                                                                                                                                                                                                                                                                                                                                               Water and Sewer Plans for E th Street  Arlington    2018-06   \n",
       "9       9  ENVIRONMENTAL HEALTH VIOLATIONSRECORDS REQUEST\\n\\nPartner Engineering and Science Inc is conducting a Phase I Environmental Site Assessment andor a Property Condition Report Assessment on the following properties\\nAffinity at Arlington\\nNEC th Ave  Smokey Point Blvd\\nArlington  \\nPartner Project  \\n\\nAs part of the investigation we are requesting under the Freedom of Information Act any environmental health records you have for the abovereferenced property pertaining to the following\\n∑        Asbestos or leadbased paint found at the property\\n∑        Septic system and water well information\\n∑        Human health concerns\\n∑        Hazardous materials incidents\\n∑        Regional specific issues  Arlington    2018-06   \n",
       "10     10                                                                                                                                                                                                                                                                                                                                                                                                                                                                                                                                                             How do I obtain any information concerning property  Old Burn Rd Arlington WA \\nI am Considering purchase of this property\\n\\nMaps Geological Easements etc\\n Thank you  Arlington    2018-06   \n",
       "11     11                                                                                                                                                                                                                                                                                                                                                                                                                                                                                                                                                                                                                                    Iíd like a list of  business licenses as well as a list of active commercial tenant improvements  Arlington    2018-05   \n",
       "12     12                                                                                                                                                                                                                                                                                                                                                                                                                                                                                                 Copies of Building Permits of  valuation and up  min for ReRoofs  min for Cell Tower upgrades Electrical Mechanical  Plumbing at  min and Solar Panels Swimming Pools  Foundations at any valuation     \\nIssued  May    thru May    Arlington    2018-05   \n",
       "13     13                                                                                                                                                                                                                                                                                                                                                                            I would like copies of all inspection reports submitted by the Gleneagle Country Club Homeowners Association relating to the storm water facilities sewer andor water facilities andor any inspection reports prepared by the City of Arlington regarding any storm drain facilities water or sewer facilities located within the Gleneagle Country Club  Arlington    2018-05   \n",
       "14     14                                                                                                                                                                                                                                                                                                                                                                                                                                                                                   TransactionReference  \\nReport Type\\t\\tAuto Accident\\nReportCase Number\\t\\nDate of Occurrence\\t\\t  AM\\nLocation of Loss\\tRD  SMOKEY POINT\\nCross Street\\t\\t\\t\\nCity  ARLINGTON\\t\\t\\tCounty SNOHOMISH\\nInsured Driver\\tGareth\\tW  Dethman\\nDriver   Arlington    2018-05   \n",
       "15     15                                                                                                                                                                                                                                                                                                                                                                                                                                                                                                                                                                                                                                                                Drainage report and approved plans for the Pearson Millwork addition  Arlington    2018-05   \n",
       "16     16                                                                                                                                                                                                                                                                                                                                                                                                                                                                                     Looking for any Road Survey and Road Deed info along Cemetery Road at    as Snohomish County PW has no information prior to annexation Also looking for info south of there at th Dr NE Parcel Nos are    and  Please see attached assessor map  Arlington    2018-05   \n",
       "17     17                                                                                                                                                                                                                                                                                                                                                                                                                                                                                                                                                                                                        ANY AND ALL POLICE REPORT AND CADS FOR CONTACT MADE BY ANY ARLINGTON POLICE OFFICER ON SEPTEMBER   REGARDING PHILEMON SHARK   Arlington    2018-05   \n",
       "18     18                                                                                                                                                                                                                                                                                                                                                                                                                                                                                                 For the City of Arlington  Arlington Municipal Airport Generator Project\\n\\nProposals due  awarded  to D Square Energy Systems\\n\\nI am requesting a copy of the complete proposal submitted by D Square Energy Systems\\n\\nThank you  Arlington    2018-05   \n",
       "19     19                                                                                                                                                                                                                                                                                                                                                                                                                                                                                                              Copy of individual Building Permits  not a report please  for permits issued with a\\nminimum of  valuation     min for reroofs  min for\\nelectrical mechanical  plumbing  solar panels and swimming pools at any value  Arlington    2018-05   \n",
       "\n",
       "                                                                                                                                                                                                                                                                                                                                                                                                                                                                                                                                                                                                                                                                                                                              token_sp  \\\n",
       "0                                                                                                                                                                                                                                                                 We are working with an engineering firm on an upcoming project  They have asked us to gather maps for this project  Would you be able to assist me in gathering mapsrecords as builds for any underground water facilities you may have  Something just showing the route of the water lines would do\\n\\nth ST NE to nd Ave NE Arlington Cascade Surveying  Engineering \\n\\nI have attached the scope for your convenience  Please let me know if you have questions   \n",
       "1                                                                                                                                                                                                                                                                                                                                                                                                                                                                                                                 Need copies of contracts and all related documents pertaining to Topcub Aircraft property located at  th DR NE Arlington WA  between Arlington Airport Topcub Aircraft City of Arlington HCI Steel Buildings and PUD   \n",
       "2                                                                                                                                                                                                                                                                                                                                                                                                                                                                                                                                  Copies of Building Permits of  valuation and up  min for ReRoofs  min for Cell Tower upgrades Electrical Mechanical  Plumbing at  min and Solar Panels Swimming Pools  Foundations at any valuation   \n",
       "3                                                                                                                                                                                                                                                                                                                                                                                                                                                               police report filed to an officer against Wayne Parris DOB  from Brittany J Parris The paperwork I have has a case number D it is also stamped at the bottom with  Iím not sure which number you will need If there is any other information needed please let me know   \n",
       "4                                                                                                                                                                                                                                                                                                                                                                                                                   Email Communications between Stephanie Shook Dave Kraski Bruce Stedman and Chad Schmidt in regards to Fire Protection District  billing and passage of contract for ALS Services \\n\\nAlso any copies of Agenda Bills D Contract and materials presented for review in NovDec time frame in regards to the contract   \n",
       "5                                                                                                                                                                                                                                                                                                                                                                                                                                         I would like to request the current lease agreement as well as any attachments and amendments regarding the following Arlington Municipal Airport properties\\n\\n Top Cub Aircraft LLC\\n Arlington School District\\n Duane WilcoxonNW Custom Aircraft Hangars LLCCarrera Hangars\\n\\nThank you   \n",
       "6                                                                                                                                                                                                                                                                                                                                                 Permits for  th Ave NE Snohomish County parcel No  Specifically need permits related to one  structure currently on propertythe shop building Our question is whether the drain and oilwater separator in the shop connects to public sewer If necessary we can review all permits related to the shop building to find the information we need if it is in fact available Thank you   \n",
       "7                                                                                                                                                                                                                                                                                                                                                                                                                                                                                                                                                                                                                                                  Building permit from  for the conversion of a portion of the garage to living space   \n",
       "8                                                                                                                                                                                                                                                                                                                                                                                                                                                                                                                                                                                                                                                                                                Water and Sewer Plans for E th Street   \n",
       "9   ENVIRONMENTAL HEALTH VIOLATIONSRECORDS REQUEST\\n\\nPartner Engineering and Science Inc is conducting a Phase I Environmental Site Assessment andor a Property Condition Report Assessment on the following properties\\nAffinity at Arlington\\nNEC th Ave  Smokey Point Blvd\\nArlington  \\nPartner Project  \\n\\nAs part of the investigation we are requesting under the Freedom of Information Act any environmental health records you have for the abovereferenced property pertaining to the following\\n∑        Asbestos or leadbased paint found at the property\\n∑        Septic system and water well information\\n∑        Human health concerns\\n∑        Hazardous materials incidents\\n∑        Regional specific issues   \n",
       "10                                                                                                                                                                                                                                                                                                                                                                                                                                                                                                                                                             How do I obtain any information concerning property  Old Burn Rd Arlington WA \\nI am Considering purchase of this property\\n\\nMaps Geological Easements etc\\n Thank you   \n",
       "11                                                                                                                                                                                                                                                                                                                                                                                                                                                                                                                                                                                                                                    Iíd like a list of  business licenses as well as a list of active commercial tenant improvements   \n",
       "12                                                                                                                                                                                                                                                                                                                                                                                                                                                                                                 Copies of Building Permits of  valuation and up  min for ReRoofs  min for Cell Tower upgrades Electrical Mechanical  Plumbing at  min and Solar Panels Swimming Pools  Foundations at any valuation     \\nIssued  May    thru May     \n",
       "13                                                                                                                                                                                                                                                                                                                                                                            I would like copies of all inspection reports submitted by the Gleneagle Country Club Homeowners Association relating to the storm water facilities sewer andor water facilities andor any inspection reports prepared by the City of Arlington regarding any storm drain facilities water or sewer facilities located within the Gleneagle Country Club   \n",
       "14                                                                                                                                                                                                                                                                                                                                                                                                                                                                                   TransactionReference  \\nReport Type\\t\\tAuto Accident\\nReportCase Number\\t\\nDate of Occurrence\\t\\t  AM\\nLocation of Loss\\tRD  SMOKEY POINT\\nCross Street\\t\\t\\t\\nCity  ARLINGTON\\t\\t\\tCounty SNOHOMISH\\nInsured Driver\\tGareth\\tW  Dethman\\nDriver    \n",
       "15                                                                                                                                                                                                                                                                                                                                                                                                                                                                                                                                                                                                                                                                Drainage report and approved plans for the Pearson Millwork addition   \n",
       "16                                                                                                                                                                                                                                                                                                                                                                                                                                                                                     Looking for any Road Survey and Road Deed info along Cemetery Road at    as Snohomish County PW has no information prior to annexation Also looking for info south of there at th Dr NE Parcel Nos are    and  Please see attached assessor map   \n",
       "17                                                                                                                                                                                                                                                                                                                                                                                                                                                                                                                                                                                                        ANY AND ALL POLICE REPORT AND CADS FOR CONTACT MADE BY ANY ARLINGTON POLICE OFFICER ON SEPTEMBER   REGARDING PHILEMON SHARK    \n",
       "18                                                                                                                                                                                                                                                                                                                                                                                                                                                                                                 For the City of Arlington  Arlington Municipal Airport Generator Project\\n\\nProposals due  awarded  to D Square Energy Systems\\n\\nI am requesting a copy of the complete proposal submitted by D Square Energy Systems\\n\\nThank you   \n",
       "19                                                                                                                                                                                                                                                                                                                                                                                                                                                                                                              Copy of individual Building Permits  not a report please  for permits issued with a\\nminimum of  valuation     min for reroofs  min for\\nelectrical mechanical  plumbing  solar panels and swimming pools at any value   \n",
       "\n",
       "                                                                                                                                                                                                                                                                                                           pn                                                                                                                                                                                                                                                                                                                                                                                                                                                                                                                                                                                                                                                                                                    sum_ed  \\\n",
       "0                                                                                                                                                                                                                                                       [ave, ne, arlington, cascade, surveying, engineering]                                                                                                                                                                                                                                      we are working with an engineering firm on an upcoming project  they have asked us to gather maps for this project  would you be able to assist me in gathering mapsrecords as builds for any underground water facilities you may have  something just showing the route of the water lines would do\\n\\nth st ne to nd ave ne arlington cascade surveying  engineering \\n\\ni have attached the scope for your convenience  please let me know if you have questions   \n",
       "1                                                                                                                                                                                           [topcub, aircraft, dr, ne, arlington, wa, arlington, airport, topcub, aircraft, city, arlington, hci, steel, pud]                                                                                                                                                                                                                                                                                                                                                                                                                                                                                      need copies of contracts and all related documents pertaining to topcub aircraft property located at  th dr ne arlington wa  between arlington airport topcub aircraft city of arlington hci steel buildings and pud   \n",
       "2                                                                                                                                                                                                                  [building, reroofs, cell, tower, electrical, mechanical, plumbing, solar, swimming, pools]                                                                                                                                                                                                                                                                                                                                                                                                                                                                                                       copies of building permits of  valuation and up  min for reroofs  min for cell tower upgrades electrical mechanical  plumbing at  min and solar panels swimming pools  foundations at any valuation   \n",
       "3                                                                                                                                                                                                                                                                   [wayne, parris, dob, brittany, j, parris]                                                                                                                                                                                                                                                                                                                                                                                                                                    police report filed to an officer against wayne parris dob  from brittany j parris the paperwork i have has a case number d it is also stamped at the bottom with  iím not sure which number you will need if there is any other information needed please let me know   \n",
       "4                                                                                                                                                               [communications, stephanie, dave, kraski, bruce, stedman, chad, schmidt, fire, protection, district, als, agenda, bills, d, contract, novdec]                                                                                                                                                                                                                                                                                                                                                                                        email communications between stephanie shook dave kraski bruce stedman and chad schmidt in regards to fire protection district  billing and passage of contract for als services \\n\\nalso any copies of agenda bills d contract and materials presented for review in novdec time frame in regards to the contract   \n",
       "5                                                                                                                                                                      [arlington, municipal, airport, top, cub, aircraft, llc, arlington, school, district, duane, wilcoxonnw, custom, aircraft, llccarrera]                                                                                                                                                                                                                                                                                                                                                                                                              i would like to request the current lease agreement as well as any attachments and amendments regarding the following arlington municipal airport properties\\n\\n top cub aircraft llc\\n arlington school district\\n duane wilcoxonnw custom aircraft hangars llccarrera hangars\\n\\nthank you   \n",
       "6                                                                                                                                                                                                                                                                                [ave, ne, snohomish, county]                                                                                                                                                                                                                                                                                                                      permits for  th ave ne snohomish county parcel no  specifically need permits related to one  structure currently on propertythe shop building our question is whether the drain and oilwater separator in the shop connects to public sewer if necessary we can review all permits related to the shop building to find the information we need if it is in fact available thank you   \n",
       "7                                                                                                                                                                                                                                                                                                          []                                                                                                                                                                                                                                                                                                                                                                                                                                                                                                                                                                                                                       building permit from  for the conversion of a portion of the garage to living space   \n",
       "8                                                                                                                                                                                                                                                                                                     [sewer]                                                                                                                                                                                                                                                                                                                                                                                                                                                                                                                                                                                                                                                                     water and sewer plans for e th street   \n",
       "9   [environmental, partner, engineering, science, inc, i, environmental, site, assessment, property, condition, report, assessment, affinity, arlington, nec, ave, smokey, point, blvd, arlington, partner, project, freedom, information, act, ∑, asbestos, ∑, septic, ∑, human, ∑, hazardous, ∑, regional]  environmental health violationsrecords request\\n\\npartner engineering and science inc is conducting a phase i environmental site assessment andor a property condition report assessment on the following properties\\naffinity at arlington\\nnec th ave  smokey point blvd\\narlington  \\npartner project  \\n\\nas part of the investigation we are requesting under the  any environmental health records you have for the abovereferenced property pertaining to the following\\n∑        asbestos or leadbased paint found at the property\\n∑        septic system and water well information\\n∑        human health concerns\\n∑        hazardous materials incidents\\n∑        regional specific issues   \n",
       "10                                                                                                                                                                                                                                                                 [old, burn, rd, arlington, wa, geological]                                                                                                                                                                                                                                                                                                                                                                                                                                                                                                                                   how do i obtain any information concerning property  old burn rd arlington wa \\ni am considering purchase of this property\\n\\nmaps geological easements etc\\n thank you   \n",
       "11                                                                                                                                                                                                                                                                                                         []                                                                                                                                                                                                                                                                                                                                                                                                                                                                                                                                                                                                          iíd like a list of  business licenses as well as a list of active commercial tenant improvements   \n",
       "12                                                                                                                                                                                                            [building, reroofs, cell, tower, electrical, mechanical, plumbing, solar, swimming, pools, may]                                                                                                                                                                                                                                                                                                                                                                                                                                                                       copies of building permits of  valuation and up  min for reroofs  min for cell tower upgrades electrical mechanical  plumbing at  min and solar panels swimming pools  foundations at any valuation     \\nissued  may    thru may     \n",
       "13                                                                                                                                                                                                                         [gleneagle, country, club, association, city, arlington, gleneagle, country, club]                                                                                                                                                                                                                                                                                                                                                  i would like copies of all inspection reports submitted by the gleneagle country club homeowners association relating to the storm water facilities sewer andor water facilities andor any inspection reports prepared by the city of arlington regarding any storm drain facilities water or sewer facilities located within the gleneagle country club   \n",
       "14                                                                                [transactionreference, report, type, auto, accident, reportcase, number, occurrence, am, location, loss, rd, smokey, point, cross, street, city, arlington, county, snohomish, insured, driver, gareth, w, dethman, driver]                                                                                                                                                                                                                                                                                                                                                                                                                                                         transactionreference  \\nreport type\\t\\tauto accident\\nreportcase number\\t\\ndate of occurrence\\t\\t  am\\nlocation of loss\\trd  smokey point\\ncross street\\t\\t\\t\\ncity  arlington\\t\\t\\tcounty snohomish\\ninsured driver\\tgareth\\tw  dethman\\ndriver    \n",
       "15                                                                                                                                                                                                                                                                                        [pearson, millwork]                                                                                                                                                                                                                                                                                                                                                                                                                                                                                                                                                                                                                                      drainage report and approved plans for the pearson millwork addition   \n",
       "16                                                                                                                                                                                                                     [road, survey, road, deed, cemetery, road, snohomish, county, pw, dr, ne, parcel, nos]                                                                                                                                                                                                                                                                                                                                                                                                                                                                       looking for any road survey and road deed info along cemetery road at    as snohomish county pw has no information prior to annexation also looking for info south of there at th dr ne parcel nos are    and  please  assessor map   \n",
       "17                                                                                                                                                                                                                                                    [report, cads, arlington, officer, september, philemon]                                                                                                                                                                                                                                                                                                                                                                                                                                                                                                                                                                              any and all police report and cads for contact made by any arlington police officer on september   regarding philemon shark    \n",
       "18                                                                                                                                                                                                 [city, arlington, arlington, municipal, airport, generator, project, d, square, energy, d, square, energy]                                                                                                                                                                                                                                                                                                                                                                                                                                                                       for the city of arlington  arlington municipal airport generator project\\n\\nproposals due  awarded  to d square energy systems\\n\\ni am requesting a copy of the complete proposal submitted by d square energy systems\\n\\nthank you   \n",
       "19                                                                                                                                                                                                                                                                                                 [building]                                                                                                                                                                                                                                                                                                                                                                                                                                                                                    copy of individual building permits  not a report please  for permits issued with a\\nminimum of  valuation     min for reroofs  min for\\nelectrical mechanical  plumbing  solar panels and swimming pools at any value   \n",
       "\n",
       "                                                                                                                                                                                                                                                                                                                                                                                                                                                                                                                                                                                                                                                                                                                                           token  \\\n",
       "0                                                                                                                                                                                                       [we, are, working, with, an, engineering, firm, on, an, upcoming, project, they, have, asked, us, to, gather, maps, for, this, project, would, you, be, able, to, assist, me, in, gathering, mapsrecords, as, builds, for, any, underground, water, facilities, you, may, have, something, just, showing, the, route, of, the, water, lines, would, do, th, st, ne, to, nd, ave, ne, arlington, cascade, surveying, engineering, i, have, attached, the, scope, for, your, convenience, please, let, me, know, if, you, have, questions]   \n",
       "1                                                                                                                                                                                                                                                                                                                                                                                                                                                                                           [need, copies, of, contracts, and, all, related, documents, pertaining, to, topcub, aircraft, property, located, at, th, dr, ne, arlington, wa, between, arlington, airport, topcub, aircraft, city, of, arlington, hci, steel, buildings, and, pud]   \n",
       "2                                                                                                                                                                                                                                                                                                                                                                                                                                                                                                                   [copies, of, building, permits, of, valuation, and, up, min, for, reroofs, min, for, cell, tower, upgrades, electrical, mechanical, plumbing, at, min, and, solar, panels, swimming, pools, foundations, at, any, valuation]   \n",
       "3                                                                                                                                                                                                                                                                                                                                                                                                                        [police, report, filed, to, an, officer, against, wayne, parris, dob, from, brittany, j, parris, the, paperwork, i, have, has, a, case, number, d, it, is, also, stamped, at, the, bottom, with, iím, not, sure, which, number, you, will, need, if, there, is, any, other, information, needed, please, let, me, know]   \n",
       "4                                                                                                                                                                                                                                                                                                                                                                                 [email, communications, between, stephanie, shook, dave, kraski, bruce, stedman, and, chad, schmidt, in, regards, to, fire, protection, district, billing, and, passage, of, contract, for, als, services, also, any, copies, of, agenda, bills, d, contract, and, materials, presented, for, review, in, novdec, time, frame, in, regards, to, the, contract]   \n",
       "5                                                                                                                                                                                                                                                                                                                                                                                                                      [i, would, like, to, request, the, current, lease, agreement, as, well, as, any, attachments, and, amendments, regarding, the, following, arlington, municipal, airport, properties, top, cub, aircraft, llc, arlington, school, district, duane, wilcoxonnw, custom, aircraft, hangars, llccarrera, hangars, thank, you]   \n",
       "6                                                                                                                                                                                                                                                                                              [permits, for, th, ave, ne, snohomish, county, parcel, no, specifically, need, permits, related, to, one, structure, currently, on, propertythe, shop, building, our, question, is, whether, the, drain, and, oilwater, separator, in, the, shop, connects, to, public, sewer, if, necessary, we, can, review, all, permits, related, to, the, shop, building, to, find, the, information, we, need, if, it, is, in, fact, available, thank, you]   \n",
       "7                                                                                                                                                                                                                                                                                                                                                                                                                                                                                                                                                                                                                                             [building, permit, from, for, the, conversion, of, a, portion, of, the, garage, to, living, space]   \n",
       "8                                                                                                                                                                                                                                                                                                                                                                                                                                                                                                                                                                                                                                                                                                 [water, and, sewer, plans, for, e, th, street]   \n",
       "9   [environmental, health, violationsrecords, request, partner, engineering, and, science, inc, is, conducting, a, phase, i, environmental, site, assessment, andor, a, property, condition, report, assessment, on, the, following, properties, affinity, at, arlington, nec, th, ave, smokey, point, blvd, arlington, partner, project, as, part, of, the, investigation, we, are, requesting, under, the, any, environmental, health, records, you, have, for, the, abovereferenced, property, pertaining, to, the, following, ∑, asbestos, or, leadbased, paint, found, at, the, property, ∑, septic, system, and, water, well, information, ∑, human, health, concerns, ∑, hazardous, materials, incidents, ∑, regional, specific, issues]   \n",
       "10                                                                                                                                                                                                                                                                                                                                                                                                                                                                                                                                                    [how, do, i, obtain, any, information, concerning, property, old, burn, rd, arlington, wa, i, am, considering, purchase, of, this, property, maps, geological, easements, etc, thank, you]   \n",
       "11                                                                                                                                                                                                                                                                                                                                                                                                                                                                                                                                                                                                                             [iíd, like, a, list, of, business, licenses, as, well, as, a, list, of, active, commercial, tenant, improvements]   \n",
       "12                                                                                                                                                                                                                                                                                                                                                                                                                                                                                          [copies, of, building, permits, of, valuation, and, up, min, for, reroofs, min, for, cell, tower, upgrades, electrical, mechanical, plumbing, at, min, and, solar, panels, swimming, pools, foundations, at, any, valuation, issued, may, thru, may]   \n",
       "13                                                                                                                                                                                                                                                                                                                                  [i, would, like, copies, of, all, inspection, reports, submitted, by, the, gleneagle, country, club, homeowners, association, relating, to, the, storm, water, facilities, sewer, andor, water, facilities, andor, any, inspection, reports, prepared, by, the, city, of, arlington, regarding, any, storm, drain, facilities, water, or, sewer, facilities, located, within, the, gleneagle, country, club]   \n",
       "14                                                                                                                                                                                                                                                                                                                                                                                                                                                                                                     [transactionreference, report, type, auto, accident, reportcase, number, date, of, occurrence, am, location, of, loss, rd, smokey, point, cross, street, city, arlington, county, snohomish, insured, driver, gareth, w, dethman, driver]   \n",
       "15                                                                                                                                                                                                                                                                                                                                                                                                                                                                                                                                                                                                                                                               [drainage, report, and, approved, plans, for, the, pearson, millwork, addition]   \n",
       "16                                                                                                                                                                                                                                                                                                                                                                                                                                                                         [looking, for, any, road, survey, and, road, deed, info, along, cemetery, road, at, as, snohomish, county, pw, has, no, information, prior, to, annexation, also, looking, for, info, south, of, there, at, th, dr, ne, parcel, nos, are, and, please, assessor, map]   \n",
       "17                                                                                                                                                                                                                                                                                                                                                                                                                                                                                                                                                                                                [any, and, all, police, report, and, cads, for, contact, made, by, any, arlington, police, officer, on, september, regarding, philemon, shark]   \n",
       "18                                                                                                                                                                                                                                                                                                                                                                                                                                                                                   [for, the, city, of, arlington, arlington, municipal, airport, generator, project, proposals, due, awarded, to, d, square, energy, systems, i, am, requesting, a, copy, of, the, complete, proposal, submitted, by, d, square, energy, systems, thank, you]   \n",
       "19                                                                                                                                                                                                                                                                                                                                                                                                                                                                                                  [copy, of, individual, building, permits, not, a, report, please, for, permits, issued, with, a, minimum, of, valuation, min, for, reroofs, min, for, electrical, mechanical, plumbing, solar, panels, and, swimming, pools, at, any, value]   \n",
       "\n",
       "                                                                                                                                                                                                                                                                                                                                                                                                                                                                                                                                                                                                                                                                                                                                                                                                                                                                                                                                                                                                                                      lemma  \\\n",
       "0   [(we, PRP), (are, VBP), (working, VBG), (with, IN), (an, DT), (engineering, NN), (firm, NN), (on, IN), (an, DT), (upcoming, JJ), (project, NN), (they, PRP), (have, VBP), (asked, VBN), (us, PRP), (to, TO), (gather, VB), (maps, NNS), (for, IN), (this, DT), (project, NN), (would, MD), (you, PRP), (be, VB), (able, JJ), (to, TO), (assist, VB), (me, PRP), (in, IN), (gathering, VBG), (mapsrecords, NNS), (as, IN), (builds, NNS), (for, IN), (any, DT), (underground, JJ), (water, NN), (facilities, NNS), (you, PRP), (may, MD), (have, VB), (something, NN), (just, RB), (showing, VBG), (the, DT), (route, NN), (of, IN), (the, DT), (water, NN), (lines, NNS), (would, MD), (do, VB), (th, VB), (st, VB), (ne, JJ), (to, TO), (nd, VB), (ave, VB), (ne, JJ), (arlington, NN), (cascade, NN), (surveying, VBG), (engineering, NN), (i, NN), (have, VBP), (attached, VBN), (the, DT), (scope, NN), (for, IN), (your, PRP$), (convenience, NN), (please, NN), (let, VB), (me, PRP), (know, VB), (if, IN), (you, PRP), (have,...   \n",
       "1                                                                                                                                                                                                                                                                                                                                                                                                                                                                                                                                                                          [(need, NN), (copies, NNS), (of, IN), (contracts, NNS), (and, CC), (all, DT), (related, JJ), (documents, NNS), (pertaining, VBG), (to, TO), (topcub, VB), (aircraft, NN), (property, NN), (located, VBN), (at, IN), (th, NN), (dr, NN), (ne, IN), (arlington, NN), (wa, NN), (between, IN), (arlington, NN), (airport, NN), (topcub, NN), (aircraft, NN), (city, NN), (of, IN), (arlington, NN), (hci, NN), (steel, NN), (buildings, NNS), (and, CC), (pud, NN)]   \n",
       "2                                                                                                                                                                                                                                                                                                                                                                                                                                                                                                                                                                                                                    [(copies, NNS), (of, IN), (building, VBG), (permits, NNS), (of, IN), (valuation, NN), (and, CC), (up, RB), (min, NN), (for, IN), (reroofs, NN), (min, NN), (for, IN), (cell, NN), (tower, NN), (upgrades, JJ), (electrical, JJ), (mechanical, JJ), (plumbing, NN), (at, IN), (min, NN), (and, CC), (solar, JJ), (panels, NNS), (swimming, VBG), (pools, JJ), (foundations, NNS), (at, IN), (any, DT), (valuation, NN)]   \n",
       "3                                                                                                                                                                                                                                                                                                                                                                                          [(police, NNS), (report, NN), (filed, VBD), (to, TO), (an, DT), (officer, NN), (against, IN), (wayne, JJ), (parris, JJ), (dob, NN), (from, IN), (brittany, JJ), (j, NN), (parris, VBD), (the, DT), (paperwork, NN), (i, NN), (have, VBP), (has, VBZ), (a, DT), (case, NN), (number, NN), (d, NN), (it, PRP), (is, VBZ), (also, RB), (stamped, VBN), (at, IN), (the, DT), (bottom, NN), (with, IN), (iím, JJ), (not, RB), (sure, JJ), (which, WDT), (number, NN), (you, PRP), (will, MD), (need, VB), (if, IN), (there, EX), (is, VBZ), (any, DT), (other, JJ), (information, NN), (needed, VBN), (please, NN), (let, VB), (me, PRP), (know, VB)]   \n",
       "4                                                                                                                                                                                                                                                                                                                                                              [(email, NN), (communications, NNS), (between, IN), (stephanie, JJ), (shook, NN), (dave, VBP), (kraski, VBN), (bruce, NN), (stedman, NN), (and, CC), (chad, VBD), (schmidt, VBN), (in, IN), (regards, NNS), (to, TO), (fire, VB), (protection, NN), (district, NN), (billing, NN), (and, CC), (passage, NN), (of, IN), (contract, NN), (for, IN), (als, NNS), (services, NNS), (also, RB), (any, DT), (copies, NNS), (of, IN), (agenda, NN), (bills, NNS), (d, VBP), (contract, NN), (and, CC), (materials, NNS), (presented, VBN), (for, IN), (review, NN), (in, IN), (novdec, JJ), (time, NN), (frame, NN), (in, IN), (regards, NNS), (to, TO), (the, DT), (contract, NN)]   \n",
       "5                                                                                                                                                                                                                                                                                                                                                                                                                                                             [(i, NN), (would, MD), (like, VB), (to, TO), (request, VB), (the, DT), (current, JJ), (lease, NN), (agreement, NN), (as, RB), (well, RB), (as, IN), (any, DT), (attachments, NNS), (and, CC), (amendments, NNS), (regarding, VBG), (the, DT), (following, JJ), (arlington, NN), (municipal, JJ), (airport, NN), (properties, NNS), (top, VBP), (cub, NN), (aircraft, NN), (llc, VBP), (arlington, JJ), (school, NN), (district, NN), (duane, NN), (wilcoxonnw, NN), (custom, NN), (aircraft, NN), (hangars, NNS), (llccarrera, VBP), (hangars, NNS), (thank, IN), (you, PRP)]   \n",
       "6                                                                                                                                                                            [(permits, NNS), (for, IN), (th, NN), (ave, VBP), (ne, JJ), (snohomish, JJ), (county, NN), (parcel, NN), (no, DT), (specifically, RB), (need, VBP), (permits, NNS), (related, VBN), (to, TO), (one, CD), (structure, NN), (currently, RB), (on, IN), (propertythe, NN), (shop, NN), (building, VBG), (our, PRP$), (question, NN), (is, VBZ), (whether, IN), (the, DT), (drain, NN), (and, CC), (oilwater, NN), (separator, NN), (in, IN), (the, DT), (shop, NN), (connects, VBZ), (to, TO), (public, VB), (sewer, JJR), (if, IN), (necessary, JJ), (we, PRP), (can, MD), (review, VB), (all, DT), (permits, NNS), (related, VBN), (to, TO), (the, DT), (shop, NN), (building, NN), (to, TO), (find, VB), (the, DT), (information, NN), (we, PRP), (need, VBP), (if, IN), (it, PRP), (is, VBZ), (in, IN), (fact, NN), (available, JJ), (thank, NN), (you, PRP)]   \n",
       "7                                                                                                                                                                                                                                                                                                                                                                                                                                                                                                                                                                                                                                                                                                                                                                                                                                            [(building, VBG), (permit, NN), (from, IN), (for, IN), (the, DT), (conversion, NN), (of, IN), (a, DT), (portion, NN), (of, IN), (the, DT), (garage, NN), (to, TO), (living, VBG), (space, NN)]   \n",
       "8                                                                                                                                                                                                                                                                                                                                                                                                                                                                                                                                                                                                                                                                                                                                                                                                                                                                                                                                         [(water, NN), (and, CC), (sewer, JJR), (plans, NNS), (for, IN), (e, NN), (th, NNS), (street, NN)]   \n",
       "9   [(environmental, JJ), (health, NN), (violationsrecords, NNS), (request, VBP), (partner, NN), (engineering, NN), (and, CC), (science, NN), (inc, NN), (is, VBZ), (conducting, VBG), (a, DT), (phase, NN), (i, NN), (environmental, JJ), (site, NN), (assessment, JJ), (andor, VBZ), (a, DT), (property, NN), (condition, NN), (report, NN), (assessment, NN), (on, IN), (the, DT), (following, JJ), (properties, NNS), (affinity, VBP), (at, IN), (arlington, NN), (nec, NN), (th, NN), (ave, VBP), (smokey, JJ), (point, NN), (blvd, IN), (arlington, NN), (partner, NN), (project, NN), (as, IN), (part, NN), (of, IN), (the, DT), (investigation, NN), (we, PRP), (are, VBP), (requesting, VBG), (under, IN), (the, DT), (any, DT), (environmental, JJ), (health, NN), (records, NNS), (you, PRP), (have, VBP), (for, IN), (the, DT), (abovereferenced, JJ), (property, NN), (pertaining, NN), (to, TO), (the, DT), (following, JJ), (∑, NN), (asbestos, NN), (or, CC), (leadbased, VBN), (paint, NN), (found, VBN), (at, IN), (th...   \n",
       "10                                                                                                                                                                                                                                                                                                                                                                                                                                                                                                                                                                                                                                                                          [(how, WRB), (do, VBP), (i, RB), (obtain, VB), (any, DT), (information, NN), (concerning, VBG), (property, NN), (old, JJ), (burn, NN), (rd, VBZ), (arlington, IN), (wa, NN), (i, NN), (am, VBP), (considering, VBG), (purchase, NN), (of, IN), (this, DT), (property, NN), (maps, VBZ), (geological, JJ), (easements, NNS), (etc, FW), (thank, NN), (you, PRP)]   \n",
       "11                                                                                                                                                                                                                                                                                                                                                                                                                                                                                                                                                                                                                                                                                                                                                                                                               [(iíd, NNS), (like, IN), (a, DT), (list, NN), (of, IN), (business, NN), (licenses, NNS), (as, RB), (well, RB), (as, IN), (a, DT), (list, NN), (of, IN), (active, JJ), (commercial, JJ), (tenant, NN), (improvements, NNS)]   \n",
       "12                                                                                                                                                                                                                                                                                                                                                                                                                                                                                                                                                                  [(copies, NNS), (of, IN), (building, VBG), (permits, NNS), (of, IN), (valuation, NN), (and, CC), (up, RB), (min, NN), (for, IN), (reroofs, NN), (min, NN), (for, IN), (cell, NN), (tower, NN), (upgrades, JJ), (electrical, JJ), (mechanical, JJ), (plumbing, NN), (at, IN), (min, NN), (and, CC), (solar, JJ), (panels, NNS), (swimming, VBG), (pools, JJ), (foundations, NNS), (at, IN), (any, DT), (valuation, NN), (issued, VBN), (may, MD), (thru, VB), (may, MD)]   \n",
       "13                                                                                                                                                                                                                                                                                           [(i, NN), (would, MD), (like, VB), (copies, NNS), (of, IN), (all, DT), (inspection, NN), (reports, NNS), (submitted, VBN), (by, IN), (the, DT), (gleneagle, JJ), (country, NN), (club, NN), (homeowners, NNS), (association, VBP), (relating, VBG), (to, TO), (the, DT), (storm, NN), (water, NN), (facilities, NNS), (sewer, VBP), (andor, JJ), (water, NN), (facilities, NNS), (andor, VBP), (any, DT), (inspection, NN), (reports, NNS), (prepared, VBN), (by, IN), (the, DT), (city, NN), (of, IN), (arlington, NN), (regarding, VBG), (any, DT), (storm, NN), (drain, NN), (facilities, NNS), (water, NN), (or, CC), (sewer, NN), (facilities, NNS), (located, VBN), (within, IN), (the, DT), (gleneagle, JJ), (country, NN), (club, NN)]   \n",
       "14                                                                                                                                                                                                                                                                                                                                                                                                                                                                                                                                                                                                              [(transactionreference, NN), (report, NN), (type, VBD), (auto, NN), (accident, NN), (reportcase, NN), (number, NN), (date, NN), (of, IN), (occurrence, NN), (am, VBP), (location, NN), (of, IN), (loss, NN), (rd, NN), (smokey, JJ), (point, NN), (cross, NN), (street, NN), (city, NN), (arlington, VBP), (county, NN), (snohomish, NN), (insured, VBD), (driver, RB), (gareth, JJ), (w, NN), (dethman, NN), (driver, NN)]   \n",
       "15                                                                                                                                                                                                                                                                                                                                                                                                                                                                                                                                                                                                                                                                                                                                                                                                                                                                                            [(drainage, NN), (report, NN), (and, CC), (approved, VBD), (plans, NNS), (for, IN), (the, DT), (pearson, NN), (millwork, NN), (addition, NN)]   \n",
       "16                                                                                                                                                                                                                                                                                                                                                                                                                                                                                                         [(looking, VBG), (for, IN), (any, DT), (road, NN), (survey, NN), (and, CC), (road, NN), (deed, NN), (info, NN), (along, IN), (cemetery, NN), (road, NN), (at, IN), (as, IN), (snohomish, JJ), (county, NN), (pw, NN), (has, VBZ), (no, DT), (information, NN), (prior, RB), (to, TO), (annexation, NN), (also, RB), (looking, VBG), (for, IN), (info, JJ), (south, NN), (of, IN), (there, EX), (at, IN), (th, NN), (dr, NN), (ne, JJ), (parcel, NN), (nos, NNS), (are, VBP), (and, CC), (please, JJ), (assessor, NN), (map, NN)]   \n",
       "17                                                                                                                                                                                                                                                                                                                                                                                                                                                                                                                                                                                                                                                                                                                                                              [(any, DT), (and, CC), (all, DT), (police, NNS), (report, NN), (and, CC), (cads, NNS), (for, IN), (contact, NN), (made, VBN), (by, IN), (any, DT), (arlington, JJ), (police, NNS), (officer, NN), (on, IN), (september, NN), (regarding, VBG), (philemon, NN), (shark, NN)]   \n",
       "18                                                                                                                                                                                                                                                                                                                                                                                                                                                                                                                                                   [(for, IN), (the, DT), (city, NN), (of, IN), (arlington, JJ), (arlington, NN), (municipal, JJ), (airport, NN), (generator, NN), (project, NN), (proposals, NNS), (due, RB), (awarded, VBD), (to, TO), (d, VB), (square, JJ), (energy, NN), (systems, NNS), (i, VBP), (am, VBP), (requesting, VBG), (a, DT), (copy, NN), (of, IN), (the, DT), (complete, JJ), (proposal, NN), (submitted, VBN), (by, IN), (d, NN), (square, NN), (energy, NN), (systems, NNS), (thank, IN), (you, PRP)]   \n",
       "19                                                                                                                                                                                                                                                                                                                                                                                                                                                                                                                                                                                  [(copy, NN), (of, IN), (individual, JJ), (building, NN), (permits, VBZ), (not, RB), (a, DT), (report, NN), (please, NN), (for, IN), (permits, NNS), (issued, VBN), (with, IN), (a, DT), (minimum, NN), (of, IN), (valuation, NN), (min, NN), (for, IN), (reroofs, NN), (min, NN), (for, IN), (electrical, JJ), (mechanical, JJ), (plumbing, NN), (solar, JJ), (panels, NNS), (and, CC), (swimming, NN), (pools, NNS), (at, IN), (any, DT), (value, NN)]   \n",
       "\n",
       "                                                                                                                                                                                                                                                                                                                                                                                                                                                                                                                                    mash  mash_len  \\\n",
       "0                                                                                                                                                                                                                                                                                                 [work, engineering, firm, upcoming, project, gather, map, project, assist, gather, mapsrecords, build, underground, water, facility, something, show, route, water, line, arlington, cascade, survey, engineering, scope, convenience]        26   \n",
       "1                                                                                                                                                                                                                                                                                                                                                                                [contract, related, pertain, topcub, aircraft, property, locate, arlington, arlington, airport, topcub, aircraft, arlington, hci, steel, building, pud]        18   \n",
       "2                                                                                                                                                                                                                                                                                                                                                                          [build, permit, valuation, min, reroofs, min, cell, tower, upgrades, electrical, mechanical, plumbing, min, solar, panel, swim, pools, foundation, valuation]        19   \n",
       "3                                                                                                                                                                                                                                                                                                                                                                                                                     [police, officer, wayne, parris, dob, brittany, parris, paperwork, case, number, stamp, bottom, iím, sure, number]        17   \n",
       "4                                                                                                                                                                                                                                                                                           [email, communication, stephanie, shook, dave, kraski, bruce, stedman, chad, schmidt, fire, protection, district, billing, passage, contract, al, service, agenda, bill, contract, material, present, review, novdec, time, frame, contract]        28   \n",
       "5                                                                                                                                                                                                                                                                                                    [current, lease, agreement, well, attachment, amendment, following, arlington, municipal, airport, property, top, cub, aircraft, llc, arlington, school, district, duane, wilcoxonnw, custom, aircraft, hangar, llccarrera, hangar]        23   \n",
       "6                                                                                                                                                                                                                                                                                                                        [permit, county, parcel, specifically, permit, one, structure, currently, propertythe, shop, build, whether, drain, oilwater, separator, shop, connect, sewer, necessary, review, permit, shop, building, fact]        24   \n",
       "7                                                                                                                                                                                                                                                                                                                                                                                                                                                                              [build, permit, conversion, portion, garage, live, space]         7   \n",
       "8                                                                                                                                                                                                                                                                                                                                                                                                                                                                                                           [water, sewer, plan, street]         4   \n",
       "9   [environmental, health, violationsrecords, partner, engineering, science, inc, conduct, phase, environmental, site, assessment, andor, property, condition, assessment, following, property, affinity, arlington, nec, smokey, point, arlington, partner, project, part, investigation, environmental, health, abovereferenced, property, pertaining, following, ∑, asbestos, leadbased, paint, property, ∑, septic, system, water, well, ∑, human, health, concern, ∑, hazardous, material, incident, ∑, regional, specific, issue]        60   \n",
       "10                                                                                                                                                                                                                                                                                                                                                                                                                       [obtain, concern, property, old, burn, arlington, consider, purchase, property, map, geological, easement, etc]        13   \n",
       "11                                                                                                                                                                                                                                                                                                                                                                                                                                                   [iíd, list, business, license, well, list, active, commercial, tenant, improvement]        10   \n",
       "12                                                                                                                                                                                                                                                                                                                                                            [build, permit, valuation, min, reroofs, min, cell, tower, upgrades, electrical, mechanical, plumbing, min, solar, panel, swim, pools, foundation, valuation, issue, thru]        21   \n",
       "13                                                                                                                                                                                                                                                                        [inspection, submit, gleneagle, country, club, homeowner, association, storm, water, facility, sewer, andor, water, facility, andor, inspection, prepare, arlington, storm, drain, facility, water, sewer, facility, locate, within, gleneagle, country, club]        29   \n",
       "14                                                                                                                                                                                                                                                                                                                                                [transactionreference, type, auto, accident, reportcase, number, occurrence, location, loss, smokey, point, cross, street, arlington, county, insure, driver, gareth, dethman, driver]        27   \n",
       "15                                                                                                                                                                                                                                                                                                                                                                                                                                                                                [drainage, approve, plan, pearson, millwork, addition]         6   \n",
       "16                                                                                                                                                                                                                                                                                                                                                                                                               [road, survey, road, deed, info, along, cemetery, road, county, pw, prior, annexation, info, parcel, no, assessor, map]        17   \n",
       "17                                                                                                                                                                                                                                                                                                                                                                                                                                                                   [police, cad, contact, arlington, police, officer, philemon, shark]         8   \n",
       "18                                                                                                                                                                                                                                                                                                                                                                      [arlington, arlington, municipal, airport, generator, project, proposal, due, award, square, energy, system, complete, proposal, submit, square, energy, system]        18   \n",
       "19                                                                                                                                                                                                                                                                                                                                                                           [individual, building, permit, permit, issue, minimum, valuation, min, reroofs, min, electrical, mechanical, plumbing, solar, panel, swimming, pool, value]        19   \n",
       "\n",
       "                                                                                                                                                                                                                                                                                                                                                                                                                                                                                                                                                                                                                                                                                                                                                                                                                                                                                                                                                                                                                                    bigrams  \\\n",
       "0                                                                                                                                                                                                                                                                                                                                      ['work_engineering', 'engineering_firm', 'firm_upcoming', 'upcoming_project', 'project_ask', 'ask_u', 'u_gather', 'gather_map', 'map_project', 'project_would', 'would_able', 'able_assist', 'assist_gather', 'gather_mapsrecords', 'mapsrecords_build', 'build_underground', 'underground_water', 'water_facility', 'facility_may', 'may_something', 'something_show', 'show_route', 'route_water', 'water_line', 'line_would', 'would_th', 'th_st', 'st_ne', 'ne_nd', 'nd_ave', 'ave_ne', 'ne_arlington', 'arlington_cascade', 'cascade_survey', 'survey_engineering', 'engineering_attach', 'attach_scope', 'scope_convenience', 'convenience_please', 'please_let', 'let_know', 'know_question']   \n",
       "1                                                                                                                                                                                                                                                                                                                                                                                                                                                                                                                                                                                                                       ['need_copy', 'copy_contract', 'contract_related', 'related_document', 'document_pertain', 'pertain_topcub', 'topcub_aircraft', 'aircraft_property', 'property_locate', 'locate_th', 'th_dr', 'dr_ne', 'ne_arlington', 'arlington_wa', 'wa_arlington', 'arlington_airport', 'airport_topcub', 'topcub_aircraft', 'aircraft_city', 'city_arlington', 'arlington_hci', 'hci_steel', 'steel_building', 'building_pud']   \n",
       "2                                                                                                                                                                                                                                                                                                                                                                                                                                                                                                                                                                                                                                                                                                  ['copy_build', 'build_permit', 'permit_valuation', 'valuation_min', 'min_reroofs', 'reroofs_min', 'min_cell', 'cell_tower', 'tower_upgrades', 'upgrades_electrical', 'electrical_mechanical', 'mechanical_plumbing', 'plumbing_min', 'min_solar', 'solar_panel', 'panel_swim', 'swim_pools', 'pools_foundation', 'foundation_valuation']   \n",
       "3                                                                                                                                                                                                                                                                                                                                                                                                                                                                                                                                                                                                                                                      ['police_report', 'report_file', 'file_officer', 'officer_wayne', 'wayne_parris', 'parris_dob', 'dob_brittany', 'brittany_j', 'j_parris', 'parris_paperwork', 'paperwork_case', 'case_number', 'number_also', 'also_stamp', 'stamp_bottom', 'bottom_iím', 'iím_sure', 'sure_number', 'number_need', 'need_information', 'information_need', 'need_please', 'please_let', 'let_know']   \n",
       "4                                                                                                                                                                                                                                                                                                                                                                                                                                                                            ['email_communication', 'communication_stephanie', 'stephanie_shook', 'shook_dave', 'dave_kraski', 'kraski_bruce', 'bruce_stedman', 'stedman_chad', 'chad_schmidt', 'schmidt_regard', 'regard_fire', 'fire_protection', 'protection_district', 'district_billing', 'billing_passage', 'passage_contract', 'contract_al', 'al_service', 'service_also', 'also_copy', 'copy_agenda', 'agenda_bill', 'bill_contract', 'contract_material', 'material_present', 'present_review', 'review_novdec', 'novdec_time', 'time_frame', 'frame_regard', 'regard_contract']   \n",
       "5                                                                                                                                                                                                                                                                                                                                                                                                                                                                           ['would_like', 'like_request', 'request_current', 'current_lease', 'lease_agreement', 'agreement_well', 'well_attachment', 'attachment_amendment', 'amendment_regard', 'regard_following', 'following_arlington', 'arlington_municipal', 'municipal_airport', 'airport_property', 'property_top', 'top_cub', 'cub_aircraft', 'aircraft_llc', 'llc_arlington', 'arlington_school', 'school_district', 'district_duane', 'duane_wilcoxonnw', 'wilcoxonnw_custom', 'custom_aircraft', 'aircraft_hangar', 'hangar_llccarrera', 'llccarrera_hangar', 'hangar_thank']   \n",
       "6                                                                                                                                                                                                                                                                                                                                                                ['permit_th', 'th_ave', 'ave_ne', 'ne_snohomish', 'snohomish_county', 'county_parcel', 'parcel_specifically', 'specifically_need', 'need_permit', 'permit_relate', 'relate_one', 'one_structure', 'structure_currently', 'currently_propertythe', 'propertythe_shop', 'shop_build', 'build_question', 'question_whether', 'whether_drain', 'drain_oilwater', 'oilwater_separator', 'separator_shop', 'shop_connect', 'connect_public', 'public_sewer', 'sewer_necessary', 'necessary_review', 'review_permit', 'permit_relate', 'relate_shop', 'shop_building', 'building_find', 'find_information', 'information_need', 'need_fact', 'fact_available', 'available_thank']   \n",
       "7                                                                                                                                                                                                                                                                                                                                                                                                                                                                                                                                                                                                                                                                                                                                                                                                                                                                                                                                ['build_permit', 'permit_conversion', 'conversion_portion', 'portion_garage', 'garage_live', 'live_space']   \n",
       "8                                                                                                                                                                                                                                                                                                                                                                                                                                                                                                                                                                                                                                                                                                                                                                                                                                                                                                                                                                              ['water_sewer', 'sewer_plan', 'plan_e', 'e_th', 'th_street']   \n",
       "9   ['environmental_health', 'health_violationsrecords', 'violationsrecords_request', 'request_partner', 'partner_engineering', 'engineering_science', 'science_inc', 'inc_conduct', 'conduct_phase', 'phase_environmental', 'environmental_site', 'site_assessment', 'assessment_andor', 'andor_property', 'property_condition', 'condition_report', 'report_assessment', 'assessment_following', 'following_property', 'property_affinity', 'affinity_arlington', 'arlington_nec', 'nec_th', 'th_ave', 'ave_smokey', 'smokey_point', 'point_blvd', 'blvd_arlington', 'arlington_partner', 'partner_project', 'project_part', 'part_investigation', 'investigation_request', 'request_environmental', 'environmental_health', 'health_record', 'record_abovereferenced', 'abovereferenced_property', 'property_pertaining', 'pertaining_following', 'following_∑', '∑_asbestos', 'asbestos_leadbased', 'leadbased_paint', 'paint_find', 'find_property', 'property_∑', '∑_septic', 'septic_system', 'system_water', 'water_well', 'well...   \n",
       "10                                                                                                                                                                                                                                                                                                                                                                                                                                                                                                                                                                                                                                                                                                                                                  ['obtain_information', 'information_concern', 'concern_property', 'property_old', 'old_burn', 'burn_rd', 'rd_arlington', 'arlington_wa', 'wa_consider', 'consider_purchase', 'purchase_property', 'property_map', 'map_geological', 'geological_easement', 'easement_etc', 'etc_thank']   \n",
       "11                                                                                                                                                                                                                                                                                                                                                                                                                                                                                                                                                                                                                                                                                                                                                                                                                                                               ['iíd_like', 'like_list', 'list_business', 'business_license', 'license_well', 'well_list', 'list_active', 'active_commercial', 'commercial_tenant', 'tenant_improvement']   \n",
       "12                                                                                                                                                                                                                                                                                                                                                                                                                                                                                                                                                                                                                                         ['copy_build', 'build_permit', 'permit_valuation', 'valuation_min', 'min_reroofs', 'reroofs_min', 'min_cell', 'cell_tower', 'tower_upgrades', 'upgrades_electrical', 'electrical_mechanical', 'mechanical_plumbing', 'plumbing_min', 'min_solar', 'solar_panel', 'panel_swim', 'swim_pools', 'pools_foundation', 'foundation_valuation', 'valuation_issue', 'issue_may', 'may_thru', 'thru_may']   \n",
       "13                                                                                                                                                                                                                                                                                                                                                                    ['would_like', 'like_copy', 'copy_inspection', 'inspection_report', 'report_submit', 'submit_gleneagle', 'gleneagle_country', 'country_club', 'club_homeowner', 'homeowner_association', 'association_relate', 'relate_storm', 'storm_water', 'water_facility', 'facility_sewer', 'sewer_andor', 'andor_water', 'water_facility', 'facility_andor', 'andor_inspection', 'inspection_report', 'report_prepare', 'prepare_city', 'city_arlington', 'arlington_regard', 'regard_storm', 'storm_drain', 'drain_facility', 'facility_water', 'water_sewer', 'sewer_facility', 'facility_locate', 'locate_within', 'within_gleneagle', 'gleneagle_country', 'country_club']   \n",
       "14                                                                                                                                                                                                                                                                                                                                                                                                                                                                                                                                                                                      ['transactionreference_report', 'report_type', 'type_auto', 'auto_accident', 'accident_reportcase', 'reportcase_number', 'number_date', 'date_occurrence', 'occurrence_location', 'location_loss', 'loss_rd', 'rd_smokey', 'smokey_point', 'point_cross', 'cross_street', 'street_city', 'city_arlington', 'arlington_county', 'county_snohomish', 'snohomish_insure', 'insure_driver', 'driver_gareth', 'gareth_w', 'w_dethman', 'dethman_driver']   \n",
       "15                                                                                                                                                                                                                                                                                                                                                                                                                                                                                                                                                                                                                                                                                                                                                                                                                                                                                                                           ['drainage_report', 'report_approve', 'approve_plan', 'plan_pearson', 'pearson_millwork', 'millwork_addition']   \n",
       "16                                                                                                                                                                                                                                                                                                                                                                                                                                                                                                                                                                                                                                  ['look_road', 'road_survey', 'survey_road', 'road_deed', 'deed_info', 'info_along', 'along_cemetery', 'cemetery_road', 'road_snohomish', 'snohomish_county', 'county_pw', 'pw_information', 'information_prior', 'prior_annexation', 'annexation_also', 'also_look', 'look_info', 'info_south', 'south_th', 'th_dr', 'dr_ne', 'ne_parcel', 'parcel_no', 'no_please', 'please_assessor', 'assessor_map']   \n",
       "17                                                                                                                                                                                                                                                                                                                                                                                                                                                                                                                                                                                                                                                                                                                                                                                                                                     ['police_report', 'report_cad', 'cad_contact', 'contact_make', 'make_arlington', 'arlington_police', 'police_officer', 'officer_september', 'september_regard', 'regard_philemon', 'philemon_shark']   \n",
       "18                                                                                                                                                                                                                                                                                                                                                                                                                                                                                                                                                                                                                                         ['city_arlington', 'arlington_arlington', 'arlington_municipal', 'municipal_airport', 'airport_generator', 'generator_project', 'project_proposal', 'proposal_due', 'due_award', 'award_square', 'square_energy', 'energy_system', 'system_request', 'request_copy', 'copy_complete', 'complete_proposal', 'proposal_submit', 'submit_square', 'square_energy', 'energy_system', 'system_thank']   \n",
       "19                                                                                                                                                                                                                                                                                                                                                                                                                                                                                                                                                                                                                                                                ['copy_individual', 'individual_building', 'building_permit', 'permit_report', 'report_please', 'please_permit', 'permit_issue', 'issue_minimum', 'minimum_valuation', 'valuation_min', 'min_reroofs', 'reroofs_min', 'min_electrical', 'electrical_mechanical', 'mechanical_plumbing', 'plumbing_solar', 'solar_panel', 'panel_swimming', 'swimming_pool', 'pool_value']   \n",
       "\n",
       "                                                                                                                                         common_bigrams                                                                                                                                                                                                                                                                                                                                                                                                                                                                                                                                                                                                          final_mash    ave                            pn1  \n",
       "0                                                                                                                                                    []                                                                                                                                                                                                                                                                                                                                                                              [work, engineering, firm, upcoming, project, gather, map, project, assist, gather, mapsrecords, build, underground, water, facility, something, show, route, water, line, arlington, cascade, survey, engineering, scope, convenience]  False                             []  \n",
       "1                                                                                                                                     [property_locate]                                                                                                                                                                                                                                                                                                                                                                                                                                            [contract, related, pertain, topcub, aircraft, property, locate, arlington, arlington, airport, topcub, aircraft, arlington, hci, steel, building, pud, property_locate]  False                             []  \n",
       "2                                                                                                                                                    []                                                                                                                                                                                                                                                                                                                                                                                                                                                       [build, permit, valuation, min, reroofs, min, cell, tower, upgrades, electrical, mechanical, plumbing, min, solar, panel, swim, pools, foundation, valuation]  False                             []  \n",
       "3                                                                                                                          [police_report, case_number]                                                                                                                                                                                                                                                                                                                                                                                                                                                                      [police, officer, wayne, parris, dob, brittany, parris, paperwork, case, number, stamp, bottom, iím, sure, number, police_report, case_number]  False                             []  \n",
       "4                                                                                                                                                    []                                                                                                                                                                                                                                                                                                                                                                        [email, communication, stephanie, shook, dave, kraski, bruce, stedman, chad, schmidt, fire, protection, district, billing, passage, contract, al, service, agenda, bill, contract, material, present, review, novdec, time, frame, contract]  False                             []  \n",
       "5                                                                                                                                     [lease_agreement]                                                                                                                                                                                                                                                                                                                                                                                             [current, lease, agreement, well, attachment, amendment, following, arlington, municipal, airport, property, top, aircraft, llc, arlington, school, district, duane, custom, aircraft, hangar, hangar, lease_agreement]  False  [cub, wilcoxonnw, llccarrera]  \n",
       "6                                                                                                                                                    []                                                                                                                                                                                                                                                                                                                                                                                                     [permit, county, parcel, specifically, permit, one, structure, currently, propertythe, shop, build, whether, drain, oilwater, separator, shop, connect, sewer, necessary, review, permit, shop, building, fact]  False                             []  \n",
       "7                                                                                                                                                    []                                                                                                                                                                                                                                                                                                                                                                                                                                                                                                                                                           [build, permit, conversion, portion, garage, live, space]  False                             []  \n",
       "8                                                                                                                                                    []                                                                                                                                                                                                                                                                                                                                                                                                                                                                                                                                                                                        [water, sewer, plan, street]  False                             []  \n",
       "9                                                                        [phase_environmental, environmental_site, site_assessment, hazardous_material]  [environmental, health, violationsrecords, partner, engineering, science, inc, conduct, phase, environmental, site, assessment, andor, property, condition, assessment, following, property, affinity, arlington, nec, smokey, point, arlington, partner, project, part, investigation, environmental, health, abovereferenced, property, pertaining, following, ∑, asbestos, leadbased, paint, property, ∑, septic, system, water, well, ∑, human, health, concern, ∑, hazardous, material, incident, ∑, regional, specific, issue, phase_environmental, environmental_site, site_assessment, hazardous_material]  False                             []  \n",
       "10                                                                                                                                                   []                                                                                                                                                                                                                                                                                                                                                                                                                                                                                                     [obtain, concern, property, old, burn, arlington, consider, purchase, property, map, geological, easement, etc]  False                             []  \n",
       "11                                                                                                                                                   []                                                                                                                                                                                                                                                                                                                                                                                                                                                                                                                                 [iíd, list, business, license, well, list, active, commercial, tenant, improvement]  False                             []  \n",
       "12                                                                                                                                                   []                                                                                                                                                                                                                                                                                                                                                                                                                                          [build, permit, valuation, min, reroofs, min, cell, tower, upgrades, electrical, mechanical, plumbing, min, solar, panel, swim, pools, foundation, valuation, issue, thru]  False                             []  \n",
       "13                                                                                                                                                   []                                                                                                                                                                                                                                                                                                                                                      [inspection, submit, gleneagle, country, club, homeowner, association, storm, water, facility, sewer, andor, water, facility, andor, inspection, prepare, arlington, storm, drain, facility, water, sewer, facility, locate, within, gleneagle, country, club]  False                             []  \n",
       "14  [type_auto, auto_accident, accident_reportcase, reportcase_number, number_date, date_occurrence, occurrence_location, location_loss, insure_driver]                                                                                                                                                                                                                                                                                            [transactionreference, type, auto, accident, reportcase, number, occurrence, location, loss, smokey, point, cross, street, arlington, county, insure, driver, driver, type_auto, auto_accident, accident_reportcase, reportcase_number, number_date, date_occurrence, occurrence_location, location_loss, insure_driver]  False              [gareth, dethman]  \n",
       "15                                                                                                                                                   []                                                                                                                                                                                                                                                                                                                                                                                                                                                                                                                                                              [drainage, approve, plan, pearson, millwork, addition]  False                             []  \n",
       "16                                                                                                                                                   []                                                                                                                                                                                                                                                                                                                                                                                                                                                                                             [road, survey, road, deed, info, along, cemetery, road, county, pw, prior, annexation, info, parcel, no, assessor, map]  False                             []  \n",
       "17                                                                                                                                      [police_report]                                                                                                                                                                                                                                                                                                                                                                                                                                                                                                                                            [police, cad, contact, arlington, police, officer, shark, police_report]  False               [cads, philemon]  \n",
       "18                                                                                                                                                   []                                                                                                                                                                                                                                                                                                                                                                                                                                                    [arlington, arlington, municipal, airport, generator, project, proposal, due, award, square, energy, system, complete, proposal, submit, square, energy, system]  False                             []  \n",
       "19                                                                                                                                    [building_permit]                                                                                                                                                                                                                                                                                                                                                                                                                                        [individual, building, permit, permit, issue, minimum, valuation, min, reroofs, min, electrical, mechanical, plumbing, solar, panel, swimming, pool, value, building_permit]  False                             []  "
      ]
     },
     "execution_count": 76,
     "metadata": {},
     "output_type": "execute_result"
    }
   ],
   "source": [
    "data_pn[:20]"
   ]
  },
  {
   "cell_type": "markdown",
   "metadata": {},
   "source": [
    "### 5a) (count < 4)"
   ]
  },
  {
   "cell_type": "code",
   "execution_count": 77,
   "metadata": {},
   "outputs": [],
   "source": [
    "data_pn4 = data.copy()"
   ]
  },
  {
   "cell_type": "code",
   "execution_count": 119,
   "metadata": {
    "collapsed": true
   },
   "outputs": [],
   "source": [
    "data_pn4['pn4'] = data_pn4['pn'].apply(lambda x: [i for i in x if 0 < fm_counts[i] < 4])"
   ]
  },
  {
   "cell_type": "code",
   "execution_count": 81,
   "metadata": {},
   "outputs": [],
   "source": [
    "data_pn4['final_mash'] = data_pn4.apply(lambda row: [i for i in row['final_mash'] if i not in row['pn4']], axis =1)\n",
    "data_pn4['mash_len'] = data_pn4['final_mash'].apply(len)\n",
    "data_pn4 = data_pn4[data_pn4['mash_len'] > 0]"
   ]
  },
  {
   "cell_type": "code",
   "execution_count": 106,
   "metadata": {},
   "outputs": [
    {
     "data": {
      "text/plain": [
       "(93148, 16)"
      ]
     },
     "execution_count": 106,
     "metadata": {},
     "output_type": "execute_result"
    }
   ],
   "source": [
    "data_pn4.shape"
   ]
  },
  {
   "cell_type": "code",
   "execution_count": 117,
   "metadata": {
    "collapsed": true
   },
   "outputs": [],
   "source": [
    "data_pn4_3 = data_pn4[data_pn4['mash_len'] > 3]"
   ]
  },
  {
   "cell_type": "code",
   "execution_count": 118,
   "metadata": {},
   "outputs": [
    {
     "data": {
      "text/plain": [
       "(66070, 16)"
      ]
     },
     "execution_count": 118,
     "metadata": {},
     "output_type": "execute_result"
    }
   ],
   "source": [
    "data_pn4_3.shape"
   ]
  },
  {
   "cell_type": "code",
   "execution_count": 120,
   "metadata": {
    "collapsed": true
   },
   "outputs": [],
   "source": [
    "data_pn4['count_total'] = data_pn4['final_mash'].apply(lambda x: sum(fm_counts[i] for i in x))"
   ]
  },
  {
   "cell_type": "markdown",
   "metadata": {},
   "source": [
    "## 6) Either short length or high count"
   ]
  },
  {
   "cell_type": "code",
   "execution_count": 87,
   "metadata": {
    "collapsed": true
   },
   "outputs": [],
   "source": [
    "data_c = data.copy()"
   ]
  },
  {
   "cell_type": "code",
   "execution_count": 88,
   "metadata": {},
   "outputs": [
    {
     "data": {
      "text/plain": [
       "(93772, 16)"
      ]
     },
     "execution_count": 88,
     "metadata": {},
     "output_type": "execute_result"
    }
   ],
   "source": [
    "data_c.shape"
   ]
  },
  {
   "cell_type": "code",
   "execution_count": 89,
   "metadata": {
    "collapsed": true
   },
   "outputs": [],
   "source": [
    "data_c['count_total'] = data_c['final_mash'].apply(lambda x: sum(fm_counts[i] for i in x))"
   ]
  },
  {
   "cell_type": "code",
   "execution_count": 90,
   "metadata": {},
   "outputs": [
    {
     "data": {
      "text/plain": [
       "count    9.377200e+04\n",
       "mean     3.866510e+04\n",
       "std      5.727614e+04\n",
       "min      1.000000e+00\n",
       "25%      5.847000e+03\n",
       "50%      2.019350e+04\n",
       "75%      4.343200e+04\n",
       "max      2.299756e+06\n",
       "Name: count_total, dtype: float64"
      ]
     },
     "execution_count": 90,
     "metadata": {},
     "output_type": "execute_result"
    }
   ],
   "source": [
    "data_c.count_total.describe()"
   ]
  },
  {
   "cell_type": "code",
   "execution_count": 91,
   "metadata": {},
   "outputs": [
    {
     "data": {
      "text/plain": [
       "count    93772.000000\n",
       "mean        15.941880\n",
       "std         28.037314\n",
       "min          1.000000\n",
       "25%          3.000000\n",
       "50%          8.000000\n",
       "75%         18.000000\n",
       "max       2682.000000\n",
       "Name: mash_len, dtype: float64"
      ]
     },
     "execution_count": 91,
     "metadata": {},
     "output_type": "execute_result"
    }
   ],
   "source": [
    "data_c.mash_len.describe()"
   ]
  },
  {
   "cell_type": "code",
   "execution_count": 93,
   "metadata": {},
   "outputs": [],
   "source": [
    "data_c = data_c[(data_c['mash_len'] > 2) | (data_c['count_total'] > 10)]"
   ]
  },
  {
   "cell_type": "code",
   "execution_count": 96,
   "metadata": {},
   "outputs": [],
   "source": [
    "data_c20 = data_c[(data_c['mash_len'] > 2) | (data_c['count_total'] > 20)]"
   ]
  },
  {
   "cell_type": "code",
   "execution_count": 100,
   "metadata": {},
   "outputs": [],
   "source": [
    "data_c3 = data_c[(data_c['mash_len'] > 3) | (data_c['count_total'] > 10)]"
   ]
  },
  {
   "cell_type": "code",
   "execution_count": 102,
   "metadata": {},
   "outputs": [],
   "source": [
    "data_c20_3 = data_c[(data_c['mash_len'] > 3) | (data_c['count_total'] > 20)]"
   ]
  },
  {
   "cell_type": "code",
   "execution_count": 110,
   "metadata": {},
   "outputs": [],
   "source": [
    "data_c100_3 = data_c[(data_c['mash_len'] > 3) | (data_c['count_total'] > 100)]"
   ]
  },
  {
   "cell_type": "code",
   "execution_count": 112,
   "metadata": {
    "collapsed": true
   },
   "outputs": [],
   "source": [
    "data_c2000_3 = data_c[(data_c['mash_len'] > 3) | (data_c['count_total'] > 2000)]"
   ]
  },
  {
   "cell_type": "code",
   "execution_count": 121,
   "metadata": {
    "collapsed": true
   },
   "outputs": [],
   "source": [
    "data_c1000_3_count4 = data_pn4[(data_pn4['mash_len'] > 3) | (data_pn4['count_total'] > 1000)]"
   ]
  },
  {
   "cell_type": "code",
   "execution_count": 123,
   "metadata": {},
   "outputs": [
    {
     "data": {
      "text/plain": [
       "count    86381.000000\n",
       "mean        16.661523\n",
       "std         28.273993\n",
       "min          1.000000\n",
       "25%          4.000000\n",
       "50%          8.000000\n",
       "75%         19.000000\n",
       "max       2553.000000\n",
       "Name: mash_len, dtype: float64"
      ]
     },
     "execution_count": 123,
     "metadata": {},
     "output_type": "execute_result"
    }
   ],
   "source": [
    "data_c1000_3_count4.mash_len.describe()"
   ]
  },
  {
   "cell_type": "code",
   "execution_count": 108,
   "metadata": {},
   "outputs": [],
   "source": [
    "### Run Models\n",
    "\n",
    "## 5a\n",
    "\n",
    "texts = list(data_pn['final_mash'])\n",
    "dictionary = corpora.Dictionary(texts)\n",
    "corpus = [dictionary.doc2bow(text) for text in texts]\n",
    "\n",
    "lda_data_pn = gensim.models.ldamodel.LdaModel(corpus, num_topics=60, id2word = dictionary, \n",
    "                                         passes = 60, random_state=7)\n",
    "model_name = \"lda_data_pn\"\n",
    "lda_data_pn.save(model_name)\n",
    "corpus_lda = lda_data_pn[corpus]\n",
    "corpus_lda_list = list(corpus_lda)\n",
    "topics = data_pn.copy()\n",
    "topics = topics.assign(topic_comp = corpus_lda_list)\n",
    "file_name = \"topics/lda_data_pn.csv\"\n",
    "topics.to_csv(file_name)\n",
    "\n",
    "## 5b\n",
    "\n",
    "texts = list(data_pn4['final_mash'])\n",
    "dictionary = corpora.Dictionary(texts)\n",
    "corpus = [dictionary.doc2bow(text) for text in texts]\n",
    "\n",
    "lda_data_pn4 = gensim.models.ldamodel.LdaModel(corpus, num_topics=60, id2word = dictionary, \n",
    "                                         passes = 60, random_state=7)\n",
    "model_name = \"lda_data_pn4\"\n",
    "lda_data_pn4.save(model_name)\n",
    "corpus_lda = lda_data_pn4[corpus]\n",
    "corpus_lda_list = list(corpus_lda)\n",
    "topics = data_pn4.copy()\n",
    "topics = topics.assign(topic_comp = corpus_lda_list)\n",
    "file_name = \"topics/lda_data_pn4.csv\"\n",
    "topics.to_csv(file_name)\n",
    "\n",
    "\n",
    "## 6a\n",
    "texts = list(data_c['final_mash'])\n",
    "dictionary = corpora.Dictionary(texts)\n",
    "corpus = [dictionary.doc2bow(text) for text in texts]\n",
    "\n",
    "lda_data_c = gensim.models.ldamodel.LdaModel(corpus, num_topics=60, id2word = dictionary, \n",
    "                                         passes = 60, random_state=7)\n",
    "model_name = \"lda_data_c\"\n",
    "lda_data_c.save(model_name)\n",
    "corpus_lda = lda_data_c[corpus]\n",
    "corpus_lda_list = list(corpus_lda)\n",
    "topics = data_c.copy()\n",
    "topics = topics.assign(topic_comp = corpus_lda_list)\n",
    "file_name = \"topics/lda_data_c.csv\"\n",
    "topics.to_csv(file_name)\n",
    "\n",
    "\n",
    "## 6b\n",
    "\n",
    "texts = list(data_c20['final_mash'])\n",
    "dictionary = corpora.Dictionary(texts)\n",
    "corpus = [dictionary.doc2bow(text) for text in texts]\n",
    "\n",
    "lda_data_c20 = gensim.models.ldamodel.LdaModel(corpus, num_topics=60, id2word = dictionary, \n",
    "                                         passes = 60, random_state=7)\n",
    "model_name = \"lda_data_c20\"\n",
    "lda_data_c20.save(model_name)\n",
    "corpus_lda = lda_data_c20[corpus]\n",
    "corpus_lda_list = list(corpus_lda)\n",
    "topics = data_c20.copy()\n",
    "topics = topics.assign(topic_comp = corpus_lda_list)\n",
    "file_name = \"topics/lda_data_c20.csv\"\n",
    "topics.to_csv(file_name)\n",
    "\n",
    "\n",
    "## 6c\n",
    "\n",
    "texts = list(data_c3['final_mash'])\n",
    "dictionary = corpora.Dictionary(texts)\n",
    "corpus = [dictionary.doc2bow(text) for text in texts]\n",
    "\n",
    "lda_data_c3 = gensim.models.ldamodel.LdaModel(corpus, num_topics=60, id2word = dictionary, \n",
    "                                         passes = 60, random_state=7)\n",
    "model_name = \"lda_data_c3\"\n",
    "lda_data_c3.save(model_name)\n",
    "corpus_lda = lda_data_c3[corpus]\n",
    "corpus_lda_list = list(corpus_lda)\n",
    "topics = data_c3.copy()\n",
    "topics = topics.assign(topic_comp = corpus_lda_list)\n",
    "file_name = \"topics/lda_data_c3.csv\"\n",
    "topics.to_csv(file_name)\n",
    "\n",
    "\n",
    "## 6d\n",
    "\n",
    "texts = list(data_c20_3['final_mash'])\n",
    "dictionary = corpora.Dictionary(texts)\n",
    "corpus = [dictionary.doc2bow(text) for text in texts]\n",
    "\n",
    "lda_data_c20_3 = gensim.models.ldamodel.LdaModel(corpus, num_topics=60, id2word = dictionary, \n",
    "                                         passes = 60, random_state=7)\n",
    "model_name = \"lda_data_c20_3\"\n",
    "lda_data_c20_3.save(model_name)\n",
    "corpus_lda = lda_data_c20_3[corpus]\n",
    "corpus_lda_list = list(corpus_lda)\n",
    "topics = data_c20_3.copy()\n",
    "topics = topics.assign(topic_comp = corpus_lda_list)\n",
    "file_name = \"topics/lda_data_c20_3.csv\"\n",
    "topics.to_csv(file_name)\n"
   ]
  },
  {
   "cell_type": "code",
   "execution_count": 111,
   "metadata": {
    "collapsed": true
   },
   "outputs": [],
   "source": [
    "texts = list(data_c100_3['final_mash'])\n",
    "dictionary = corpora.Dictionary(texts)\n",
    "corpus = [dictionary.doc2bow(text) for text in texts]\n",
    "\n",
    "lda_data_c100_3 = gensim.models.ldamodel.LdaModel(corpus, num_topics=60, id2word = dictionary, \n",
    "                                         passes = 60, random_state=7)\n",
    "model_name = \"lda_data_c100_3\"\n",
    "lda_data_c100_3.save(model_name)\n",
    "corpus_lda = lda_data_c100_3[corpus]\n",
    "corpus_lda_list = list(corpus_lda)\n",
    "topics = data_c100_3.copy()\n",
    "topics = topics.assign(topic_comp = corpus_lda_list)\n",
    "file_name = \"topics/lda_data_c100_3.csv\"\n",
    "topics.to_csv(file_name)"
   ]
  },
  {
   "cell_type": "code",
   "execution_count": 113,
   "metadata": {
    "collapsed": true
   },
   "outputs": [],
   "source": [
    "texts = list(data_c2000_3['final_mash'])\n",
    "dictionary = corpora.Dictionary(texts)\n",
    "corpus = [dictionary.doc2bow(text) for text in texts]\n",
    "\n",
    "lda_data_c2000_3 = gensim.models.ldamodel.LdaModel(corpus, num_topics=60, id2word = dictionary, \n",
    "                                         passes = 60, random_state=7)\n",
    "model_name = \"lda_data_c2000_3\"\n",
    "lda_data_c2000_3.save(model_name)\n",
    "corpus_lda = lda_data_c2000_3[corpus]\n",
    "corpus_lda_list = list(corpus_lda)\n",
    "topics = data_c2000_3.copy()\n",
    "topics = topics.assign(topic_comp = corpus_lda_list)\n",
    "file_name = \"topics/lda_data_c2000_3.csv\"\n",
    "topics.to_csv(file_name)"
   ]
  },
  {
   "cell_type": "code",
   "execution_count": 115,
   "metadata": {},
   "outputs": [
    {
     "data": {
      "text/plain": [
       "[(0,\n",
       "  [('location', 0.09353494),\n",
       "   ('drive', 0.08829514),\n",
       "   ('home', 0.06857166),\n",
       "   ('place', 0.05400834),\n",
       "   ('view', 0.031239841),\n",
       "   ('try', 0.031040756),\n",
       "   ('insured', 0.029058915),\n",
       "   ('park', 0.02699882),\n",
       "   ('administration', 0.02157155),\n",
       "   ('avondale', 0.019310147)]),\n",
       " (1,\n",
       "  [('help', 0.08086872),\n",
       "   ('several', 0.044407763),\n",
       "   ('tenant', 0.040521346),\n",
       "   ('tell', 0.040185418),\n",
       "   ('housing', 0.03772598),\n",
       "   ('people', 0.033967048),\n",
       "   ('short', 0.030789105),\n",
       "   ('narrative', 0.024729665),\n",
       "   ('dont', 0.02233389),\n",
       "   ('daniel', 0.021673545)]),\n",
       " (2,\n",
       "  [('plan', 0.09680636),\n",
       "   ('locate', 0.058132455),\n",
       "   ('permit', 0.05701802),\n",
       "   ('property', 0.052246254),\n",
       "   ('parcel', 0.052014254),\n",
       "   ('building', 0.04471978),\n",
       "   ('site', 0.03542623),\n",
       "   ('property_locate', 0.0310093),\n",
       "   ('build', 0.028195241),\n",
       "   ('certificate', 0.026865209)]),\n",
       " (3,\n",
       "  [('center', 0.10677224),\n",
       "   ('entity', 0.07329042),\n",
       "   ('believe', 0.067549035),\n",
       "   ('dept', 0.04189583),\n",
       "   ('fill', 0.035377637),\n",
       "   ('training', 0.0331155),\n",
       "   ('rcw', 0.03216617),\n",
       "   ('hotel', 0.027070628),\n",
       "   ('quarter', 0.020118585),\n",
       "   ('monday', 0.01815998)]),\n",
       " (4,\n",
       "  [('property', 0.19234954),\n",
       "   ('lien', 0.073934756),\n",
       "   ('code', 0.06308861),\n",
       "   ('renton', 0.044573437),\n",
       "   ('enforcement', 0.04069006),\n",
       "   ('open', 0.03690087),\n",
       "   ('code_enforcement', 0.03441771),\n",
       "   ('documentation', 0.030376267),\n",
       "   ('bill', 0.026359987),\n",
       "   ('municipal', 0.025739325)]),\n",
       " (5,\n",
       "  [('court', 0.13003027),\n",
       "   ('county', 0.081245266),\n",
       "   ('king', 0.0734408),\n",
       "   ('footage', 0.055679977),\n",
       "   ('suspect', 0.03977707),\n",
       "   ('interest', 0.039048824),\n",
       "   ('bay', 0.034567434),\n",
       "   ('sidewalk', 0.029609496),\n",
       "   ('update', 0.02947316),\n",
       "   ('creek', 0.027171861)]),\n",
       " (6,\n",
       "  [('driver', 0.066440664),\n",
       "   ('insurance', 0.054380774),\n",
       "   ('company', 0.042044323),\n",
       "   ('state', 0.038195778),\n",
       "   ('insure', 0.034516852),\n",
       "   ('location', 0.034151044),\n",
       "   ('type', 0.03381454),\n",
       "   ('loss', 0.032327518),\n",
       "   ('number', 0.031017683),\n",
       "   ('insurance_company', 0.03001688)]),\n",
       " (7,\n",
       "  [('area', 0.097872645),\n",
       "   ('activity', 0.047011353),\n",
       "   ('regulation', 0.03970155),\n",
       "   ('close', 0.035725385),\n",
       "   ('chapter', 0.029284824),\n",
       "   ('previous', 0.027531639),\n",
       "   ('remove', 0.021268105),\n",
       "   ('propose', 0.020995859),\n",
       "   ('authorize', 0.018526498),\n",
       "   ('lee', 0.016979057)]),\n",
       " (8,\n",
       "  [('light', 0.059207723),\n",
       "   ('signal', 0.03439462),\n",
       "   ('early', 0.030790988),\n",
       "   ('pkwy', 0.029093973),\n",
       "   ('grand', 0.028790962),\n",
       "   ('morning', 0.0270008),\n",
       "   ('track', 0.024848884),\n",
       "   ('loss_cross', 0.020562945),\n",
       "   ('national', 0.019755157),\n",
       "   ('club', 0.018781308)]),\n",
       " (9,\n",
       "  [('history', 0.11208094),\n",
       "   ('info', 0.06587342),\n",
       "   ('applicant', 0.056092244),\n",
       "   ('bridge', 0.020183712),\n",
       "   ('pole', 0.013122176),\n",
       "   ('buy', 0.013099147),\n",
       "   ('coordinator', 0.0105619775),\n",
       "   ('anne', 0.010251945),\n",
       "   ('maple', 0.009545009),\n",
       "   ('decommission', 0.008767806)]),\n",
       " (10,\n",
       "  [('project', 0.12453633),\n",
       "   ('tax', 0.061614115),\n",
       "   ('contract', 0.057402935),\n",
       "   ('park', 0.055496488),\n",
       "   ('inc', 0.04053845),\n",
       "   ('construction', 0.03409849),\n",
       "   ('contractor', 0.029173631),\n",
       "   ('work', 0.022843711),\n",
       "   ('rfp', 0.021464828),\n",
       "   ('improvement', 0.021410828)]),\n",
       " (11,\n",
       "  [('street', 0.47746953),\n",
       "   ('vallejo', 0.08841343),\n",
       "   ('id', 0.08519573),\n",
       "   ('investigator', 0.015759526),\n",
       "   ('closure', 0.010916479),\n",
       "   ('ftp', 0.009486178),\n",
       "   ('michelle', 0.008856565),\n",
       "   ('kim', 0.008040902),\n",
       "   ('answer', 0.007780377),\n",
       "   ('dui', 0.006703517)]),\n",
       " (12,\n",
       "  [('san', 0.30360147),\n",
       "   ('recording', 0.055902835),\n",
       "   ('related', 0.027817903),\n",
       "   ('hereby', 0.027401129),\n",
       "   ('audio', 0.017590147),\n",
       "   ('transcript', 0.017566299),\n",
       "   ('campus', 0.014550747),\n",
       "   ('material', 0.01444758),\n",
       "   ('statistic', 0.01411996),\n",
       "   ('passport', 0.009614885)]),\n",
       " (13,\n",
       "  [('claim', 0.08745761),\n",
       "   ('structural', 0.03362165),\n",
       "   ('medical', 0.033335567),\n",
       "   ('resident', 0.032847732),\n",
       "   ('grant', 0.027553333),\n",
       "   ('farm', 0.024745429),\n",
       "   ('state_farm', 0.023420392),\n",
       "   ('support', 0.021758089),\n",
       "   ('every', 0.020278009),\n",
       "   ('consultant', 0.019826781)]),\n",
       " (14,\n",
       "  [('case', 0.4379718),\n",
       "   ('number', 0.15972693),\n",
       "   ('client', 0.046130534),\n",
       "   ('tpd', 0.03627511),\n",
       "   ('report_case', 0.029194241),\n",
       "   ('involve', 0.017031774),\n",
       "   ('smith', 0.011887279),\n",
       "   ('son', 0.011586618),\n",
       "   ('evidence', 0.009359731),\n",
       "   ('jose', 0.009034841)]),\n",
       " (15,\n",
       "  [('order', 0.05450126),\n",
       "   ('certified', 0.04202448),\n",
       "   ('number', 0.040719595),\n",
       "   ('person', 0.038429763),\n",
       "   ('item', 0.03812748),\n",
       "   ('line', 0.034274504),\n",
       "   ('invoice', 0.03362529),\n",
       "   ('house', 0.032817166),\n",
       "   ('purchase', 0.031485718),\n",
       "   ('program', 0.02639297)]),\n",
       " (16,\n",
       "  [('photo', 0.20992723),\n",
       "   ('key', 0.02356143),\n",
       "   ('master', 0.022582276),\n",
       "   ('packet', 0.021591904),\n",
       "   ('usage', 0.014651344),\n",
       "   ('army', 0.012471541),\n",
       "   ('checkpoint', 0.011851036),\n",
       "   ('kitchen', 0.011625803),\n",
       "   ('addendum', 0.011358209),\n",
       "   ('abandon', 0.010552238)]),\n",
       " (17,\n",
       "  [('field', 0.0453616),\n",
       "   ('next', 0.040034816),\n",
       "   ('payment', 0.037629347),\n",
       "   ('offense', 0.034769565),\n",
       "   ('chief', 0.031410586),\n",
       "   ('fiscal', 0.022617932),\n",
       "   ('amount', 0.02142724),\n",
       "   ('initial', 0.0200027),\n",
       "   ('rate', 0.019176763),\n",
       "   ('compensation', 0.018737497)]),\n",
       " (18,\n",
       "  [('lot', 0.13175946),\n",
       "   ('since', 0.06457057),\n",
       "   ('plat', 0.049427837),\n",
       "   ('parking', 0.048342742),\n",
       "   ('child', 0.041834515),\n",
       "   ('shall', 0.022462958),\n",
       "   ('relevant', 0.021576365),\n",
       "   ('renovation', 0.017962521),\n",
       "   ('possession', 0.017360356),\n",
       "   ('approved', 0.016806262)]),\n",
       " (19,\n",
       "  [('release', 0.091870375),\n",
       "   ('suite', 0.047548134),\n",
       "   ('notify', 0.04582223),\n",
       "   ('floor', 0.04292191),\n",
       "   ('assistance', 0.042138595),\n",
       "   ('legal', 0.031802323),\n",
       "   ('attachment', 0.03024408),\n",
       "   ('best', 0.029939335),\n",
       "   ('enterprise', 0.02642773),\n",
       "   ('greatly', 0.025374765)]),\n",
       " (20,\n",
       "  [('email', 0.10585551),\n",
       "   ('communication', 0.086197086),\n",
       "   ('phone', 0.08017274),\n",
       "   ('fax', 0.049256794),\n",
       "   ('reference', 0.04450084),\n",
       "   ('send', 0.041194048),\n",
       "   ('pullman', 0.038248025),\n",
       "   ('disclosure', 0.033102468),\n",
       "   ('esa', 0.030190974),\n",
       "   ('mail', 0.029988915)]),\n",
       " (21,\n",
       "  [('property', 0.053808454),\n",
       "   ('violation', 0.051376697),\n",
       "   ('hazardous', 0.032719545),\n",
       "   ('code', 0.032231364),\n",
       "   ('storage', 0.030415183),\n",
       "   ('tank', 0.029046237),\n",
       "   ('material', 0.028139802),\n",
       "   ('code_violation', 0.02620931),\n",
       "   ('hazardous_material', 0.023006061),\n",
       "   ('storage_tank', 0.022041447)]),\n",
       " (22,\n",
       "  [('address', 0.376043),\n",
       "   ('name', 0.101785794),\n",
       "   ('contact', 0.044073295),\n",
       "   ('response', 0.031610616),\n",
       "   ('owner', 0.026964594),\n",
       "   ('following', 0.026425721),\n",
       "   ('industry', 0.020589119),\n",
       "   ('requester', 0.017820397),\n",
       "   ('redact', 0.014367763),\n",
       "   ('clearwater', 0.0119392965)]),\n",
       " (23,\n",
       "  [('pertain', 0.09649441),\n",
       "   ('proposal', 0.03242409),\n",
       "   ('study', 0.022335771),\n",
       "   ('plan', 0.019510303),\n",
       "   ('group', 0.019152757),\n",
       "   ('might', 0.017779121),\n",
       "   ('work', 0.017661482),\n",
       "   ('meet', 0.016013077),\n",
       "   ('change', 0.015353462),\n",
       "   ('however', 0.014581155)]),\n",
       " (24,\n",
       "  [('check', 0.16172169),\n",
       "   ('sacramento', 0.15234931),\n",
       "   ('security', 0.06678351),\n",
       "   ('record_check', 0.0381865),\n",
       "   ('local', 0.037610024),\n",
       "   ('industrial', 0.03724933),\n",
       "   ('minor', 0.020013025),\n",
       "   ('disposition', 0.018766752),\n",
       "   ('brian', 0.0134929605),\n",
       "   ('allege', 0.013006093)]),\n",
       " (25,\n",
       "  [('police', 0.43611535),\n",
       "   ('police_report', 0.26498482),\n",
       "   ('copy_police', 0.076159045),\n",
       "   ('witness_statement', 0.021078508),\n",
       "   ('involve', 0.019279176),\n",
       "   ('occur', 0.012762101),\n",
       "   ('duo', 0.00964546),\n",
       "   ('around', 0.006552521),\n",
       "   ('husband', 0.006009081),\n",
       "   ('plant', 0.005861455)]),\n",
       " (26,\n",
       "  [('complaint', 0.10107609),\n",
       "   ('see', 0.07471522),\n",
       "   ('sale', 0.053386003),\n",
       "   ('say', 0.04709778),\n",
       "   ('intersection', 0.041379515),\n",
       "   ('formal', 0.039595712),\n",
       "   ('mayor', 0.036926918),\n",
       "   ('board', 0.0344235),\n",
       "   ('result', 0.030452233),\n",
       "   ('cannabis', 0.025728678)]),\n",
       " (27,\n",
       "  [('theft', 0.10217734),\n",
       "   ('map', 0.09194244),\n",
       "   ('auto_theft', 0.04015996),\n",
       "   ('hearing', 0.034179695),\n",
       "   ('survey', 0.03217452),\n",
       "   ('district', 0.031174151),\n",
       "   ('auto', 0.026188288),\n",
       "   ('cd', 0.025883341),\n",
       "   ('doc', 0.024261134),\n",
       "   ('subdivision', 0.015215866)]),\n",
       " (28,\n",
       "  [('near', 0.07136651),\n",
       "   ('commission', 0.049790885),\n",
       "   ('happen', 0.046190634),\n",
       "   ('mall', 0.041916285),\n",
       "   ('reportscalls', 0.03867002),\n",
       "   ('southcenter', 0.035171475),\n",
       "   ('surveillance', 0.03444368),\n",
       "   ('pedestrian', 0.029586459),\n",
       "   ('steinberg', 0.028264415),\n",
       "   ('friday', 0.026370903)]),\n",
       " (29,\n",
       "  [('incident', 0.20286815),\n",
       "   ('accident', 0.15826182),\n",
       "   ('incident_report', 0.061015625),\n",
       "   ('accident_report', 0.060446035),\n",
       "   ('involve', 0.05164613),\n",
       "   ('case_number', 0.034890424),\n",
       "   ('crime', 0.030953852),\n",
       "   ('victim', 0.030591024),\n",
       "   ('auto', 0.027483579),\n",
       "   ('auto_accident', 0.025729915)]),\n",
       " (30,\n",
       "  [('department', 0.20519824),\n",
       "   ('police', 0.15323763),\n",
       "   ('police_department', 0.12364685),\n",
       "   ('mark', 0.027928451),\n",
       "   ('criminal', 0.02215771),\n",
       "   ('room', 0.022061955),\n",
       "   ('verification', 0.01961772),\n",
       "   ('lane', 0.019349882),\n",
       "   ('employment', 0.014657447),\n",
       "   ('following', 0.012073205)]),\n",
       " (31,\n",
       "  [('officer', 0.22251222),\n",
       "   ('arrest', 0.119323395),\n",
       "   ('traffic', 0.08509656),\n",
       "   ('occur', 0.06514717),\n",
       "   ('citation', 0.04927876),\n",
       "   ('request_police', 0.045789476),\n",
       "   ('charge', 0.037396375),\n",
       "   ('pd', 0.027585289),\n",
       "   ('respond', 0.019618118),\n",
       "   ('full', 0.01916436)]),\n",
       " (32,\n",
       "  [('list', 0.22389935),\n",
       "   ('service', 0.22237943),\n",
       "   ('well', 0.07356258),\n",
       "   ('within', 0.044461153),\n",
       "   ('enforcement', 0.040022526),\n",
       "   ('law', 0.03701651),\n",
       "   ('agency', 0.023026735),\n",
       "   ('month', 0.0227265),\n",
       "   ('call', 0.022116136),\n",
       "   ('six', 0.010556526)]),\n",
       " (33,\n",
       "  [('tukwila', 0.1066127),\n",
       "   ('environmental', 0.06017464),\n",
       "   ('site', 0.0484231),\n",
       "   ('assessment', 0.04691668),\n",
       "   ('site_assessment', 0.04211976),\n",
       "   ('environmental_site', 0.04154333),\n",
       "   ('phase', 0.040855337),\n",
       "   ('health', 0.03174462),\n",
       "   ('review', 0.031141663),\n",
       "   ('conduct', 0.029855888)]),\n",
       " (34,\n",
       "  [('council', 0.041364305),\n",
       "   ('meeting', 0.039331473),\n",
       "   ('final', 0.0355542),\n",
       "   ('member', 0.03260032),\n",
       "   ('interested', 0.028432067),\n",
       "   ('show', 0.028018132),\n",
       "   ('day', 0.027958736),\n",
       "   ('access', 0.027014762),\n",
       "   ('applicable', 0.02696524),\n",
       "   ('staff', 0.024918431)]),\n",
       " (35,\n",
       "  [('alto', 0.096722975),\n",
       "   ('search', 0.08865797),\n",
       "   ('set', 0.074052826),\n",
       "   ('neighbor', 0.032503746),\n",
       "   ('ust', 0.03000383),\n",
       "   ('bond', 0.029049404),\n",
       "   ('burlington', 0.027891107),\n",
       "   ('taylor', 0.019422753),\n",
       "   ('franklin', 0.017909508),\n",
       "   ('clark', 0.017258024)]),\n",
       " (36,\n",
       "  [('year', 0.2504563),\n",
       "   ('palo', 0.07290671),\n",
       "   ('past', 0.063085765),\n",
       "   ('month', 0.04595479),\n",
       "   ('repair', 0.037225254),\n",
       "   ('community', 0.03247847),\n",
       "   ('drain', 0.023544345),\n",
       "   ('maintenance', 0.021138484),\n",
       "   ('listing', 0.015985446),\n",
       "   ('williams', 0.013643295)]),\n",
       " (37,\n",
       "  [('redmond', 0.23493029),\n",
       "   ('water', 0.11325832),\n",
       "   ('sewer', 0.056931555),\n",
       "   ('utility', 0.0485903),\n",
       "   ('waste', 0.04362915),\n",
       "   ('everett', 0.039565578),\n",
       "   ('account', 0.033977997),\n",
       "   ('storm', 0.03371888),\n",
       "   ('come', 0.024759792),\n",
       "   ('side', 0.023478953)]),\n",
       " (38,\n",
       "  [('section', 0.020021103),\n",
       "   ('code', 0.018962674),\n",
       "   ('fee', 0.017909583),\n",
       "   ('cost', 0.01658567),\n",
       "   ('pay', 0.015763944),\n",
       "   ('use', 0.015496472),\n",
       "   ('require', 0.015195711),\n",
       "   ('following', 0.012821917),\n",
       "   ('state', 0.0126463),\n",
       "   ('miami', 0.012208942)]),\n",
       " (39,\n",
       "  [('notice', 0.15450399),\n",
       "   ('new', 0.110862285),\n",
       "   ('ordinance', 0.042675357),\n",
       "   ('receipt', 0.038404312),\n",
       "   ('hour', 0.03593408),\n",
       "   ('action', 0.028843267),\n",
       "   ('administrative', 0.025174472),\n",
       "   ('violation', 0.023128858),\n",
       "   ('base', 0.021563824),\n",
       "   ('recent', 0.019240497)]),\n",
       " (40,\n",
       "  [('bid', 0.09310988),\n",
       "   ('submit', 0.08899215),\n",
       "   ('system', 0.04642009),\n",
       "   ('sign', 0.043592595),\n",
       "   ('complete', 0.03677571),\n",
       "   ('vendor', 0.034895964),\n",
       "   ('background', 0.03317739),\n",
       "   ('award', 0.026251907),\n",
       "   ('background_check', 0.024105215),\n",
       "   ('contract', 0.021024713)]),\n",
       " (41,\n",
       "  [('employee', 0.07150769),\n",
       "   ('individual', 0.051077288),\n",
       "   ('payroll', 0.04816878),\n",
       "   ('current', 0.041713875),\n",
       "   ('time', 0.0396649),\n",
       "   ('title', 0.028996054),\n",
       "   ('name', 0.026873358),\n",
       "   ('work', 0.026794484),\n",
       "   ('period', 0.026491405),\n",
       "   ('sheet', 0.020824341)]),\n",
       " (42,\n",
       "  [('fire', 0.21344173),\n",
       "   ('olympia', 0.18529038),\n",
       "   ('department', 0.03866517),\n",
       "   ('fire_department', 0.03597675),\n",
       "   ('burglary', 0.024520066),\n",
       "   ('emergency', 0.023305843),\n",
       "   ('various', 0.019838542),\n",
       "   ('james', 0.019563999),\n",
       "   ('occur', 0.01853959),\n",
       "   ('broadway', 0.015643757)]),\n",
       " (43,\n",
       "  [('block', 0.112917565),\n",
       "   ('assault', 0.08416646),\n",
       "   ('jurisdiction', 0.0572104),\n",
       "   ('social', 0.044272877),\n",
       "   ('main', 0.036881875),\n",
       "   ('residence', 0.028757323),\n",
       "   ('corner', 0.026052773),\n",
       "   ('medium', 0.023120385),\n",
       "   ('immediately', 0.018480783),\n",
       "   ('word', 0.01765075)]),\n",
       " (44,\n",
       "  [('business', 0.086969696),\n",
       "   ('inspection', 0.077485286),\n",
       "   ('application', 0.0620012),\n",
       "   ('issue', 0.057285108),\n",
       "   ('license', 0.054231156),\n",
       "   ('thurston', 0.041578464),\n",
       "   ('deny', 0.02842402),\n",
       "   ('commercial', 0.027798332),\n",
       "   ('denial', 0.026064854),\n",
       "   ('residential', 0.022896988)]),\n",
       " (45,\n",
       "  [('obtain', 0.069597036),\n",
       "   ('office', 0.05737496),\n",
       "   ('along', 0.03682408),\n",
       "   ('matter', 0.0316242),\n",
       "   ('appreciate', 0.030215982),\n",
       "   ('facility', 0.029829508),\n",
       "   ('represent', 0.023994934),\n",
       "   ('via', 0.021536415),\n",
       "   ('determination', 0.021521837),\n",
       "   ('telephone', 0.0196017)]),\n",
       " (46,\n",
       "  [('send', 0.13533002),\n",
       "   ('email', 0.123060055),\n",
       "   ('two', 0.06718646),\n",
       "   ('demand', 0.06031226),\n",
       "   ('review', 0.04763831),\n",
       "   ('card', 0.0385072),\n",
       "   ('prior', 0.03192028),\n",
       "   ('post', 0.02945573),\n",
       "   ('credit', 0.026107756),\n",
       "   ('standard', 0.023069914)]),\n",
       " (47,\n",
       "  [('letter', 0.1223824),\n",
       "   ('first', 0.06998931),\n",
       "   ('anything', 0.05760601),\n",
       "   ('tree', 0.053724617),\n",
       "   ('willow', 0.039916895),\n",
       "   ('many', 0.033925883),\n",
       "   ('sec', 0.028638812),\n",
       "   ('prevent', 0.026107302),\n",
       "   ('good', 0.022841306),\n",
       "   ('addition', 0.021448236)]),\n",
       " (48,\n",
       "  [('statement', 0.09735797),\n",
       "   ('investigation', 0.07096437),\n",
       "   ('andor', 0.06068738),\n",
       "   ('witness', 0.048081234),\n",
       "   ('associate', 0.04609588),\n",
       "   ('photograph', 0.043357823),\n",
       "   ('camera', 0.03869196),\n",
       "   ('note', 0.028875642),\n",
       "   ('limited', 0.023189994),\n",
       "   ('old', 0.021372117)]),\n",
       " (49,\n",
       "  [('car', 0.11609563),\n",
       "   ('llc', 0.04576389),\n",
       "   ('hit', 0.04402979),\n",
       "   ('school', 0.033388715),\n",
       "   ('station', 0.032881707),\n",
       "   ('point', 0.026898997),\n",
       "   ('one', 0.024512198),\n",
       "   ('leave', 0.023233296),\n",
       "   ('back', 0.022986788),\n",
       "   ('plate', 0.019723045)]),\n",
       " (50,\n",
       "  [('amount', 0.093040526),\n",
       "   ('owner', 0.0893995),\n",
       "   ('page', 0.08027098),\n",
       "   ('due', 0.045297876),\n",
       "   ('valley', 0.027451264),\n",
       "   ('authority', 0.02724533),\n",
       "   ('confirm', 0.022992767),\n",
       "   ('approximately', 0.017547373),\n",
       "   ('current', 0.017045597),\n",
       "   ('kindly', 0.016899655)]),\n",
       " (51,\n",
       "  [('birth', 0.03285985),\n",
       "   ('square', 0.032434687),\n",
       "   ('asbuilts', 0.03085444),\n",
       "   ('operate', 0.030637104),\n",
       "   ('investigative', 0.029866982),\n",
       "   ('undergroundaboveground', 0.027397733),\n",
       "   ('serve', 0.025928302),\n",
       "   ('firearm', 0.023967484),\n",
       "   ('tape', 0.020740632),\n",
       "   ('pistol', 0.019947948)]),\n",
       " (52,\n",
       "  [('avenue', 0.15319368),\n",
       "   ('permit', 0.14503513),\n",
       "   ('road', 0.09527526),\n",
       "   ('building', 0.08979458),\n",
       "   ('police_case', 0.07267712),\n",
       "   ('building_permit', 0.04788681),\n",
       "   ('unit', 0.043889735),\n",
       "   ('approval', 0.032989502),\n",
       "   ('without', 0.026371416),\n",
       "   ('hill', 0.025556995)]),\n",
       " (53,\n",
       "  [('call', 0.19972925),\n",
       "   ('present', 0.13622424),\n",
       "   ('apartment', 0.058649715),\n",
       "   ('nineoneone', 0.050142776),\n",
       "   ('cad', 0.04489069),\n",
       "   ('around', 0.0337406),\n",
       "   ('note', 0.03295957),\n",
       "   ('much', 0.020722952),\n",
       "   ('transfer', 0.014960437),\n",
       "   ('garage', 0.014277309)]),\n",
       " (54,\n",
       "  [('dob', 0.17510171),\n",
       "   ('party', 0.09743307),\n",
       "   ('apt', 0.046766207),\n",
       "   ('digital', 0.020054106),\n",
       "   ('performance', 0.018750217),\n",
       "   ('bond', 0.01777672),\n",
       "   ('cash', 0.017042924),\n",
       "   ('attempt', 0.015036715),\n",
       "   ('return', 0.014816578),\n",
       "   ('cr', 0.014339069)]),\n",
       " (55,\n",
       "  [('kirkland', 0.099287085),\n",
       "   ('usts', 0.044581007),\n",
       "   ('warrant', 0.030037658),\n",
       "   ('collect', 0.02968137),\n",
       "   ('picture', 0.025483904),\n",
       "   ('asts', 0.025201522),\n",
       "   ('power', 0.01940645),\n",
       "   ('university', 0.01814573),\n",
       "   ('particular', 0.017701138),\n",
       "   ('paul', 0.017122572)]),\n",
       " (56,\n",
       "  [('video', 0.26923078),\n",
       "   ('audio', 0.0780066),\n",
       "   ('data', 0.065715484),\n",
       "   ('body', 0.061652936),\n",
       "   ('agreement', 0.04448054),\n",
       "   ('cam', 0.040374104),\n",
       "   ('ticket', 0.02611732),\n",
       "   ('stop', 0.025684739),\n",
       "   ('dash', 0.01573319),\n",
       "   ('sell', 0.013724498)]),\n",
       " (57,\n",
       "  [('vehicle', 0.13909836),\n",
       "   ('collision', 0.13683653),\n",
       "   ('ref', 0.07686776),\n",
       "   ('collision_report', 0.07267044),\n",
       "   ('steal', 0.059585758),\n",
       "   ('log', 0.03244266),\n",
       "   ('motor', 0.026448859),\n",
       "   ('escrow', 0.019489411),\n",
       "   ('involve', 0.019106813),\n",
       "   ('truck', 0.017824037)]),\n",
       " (58,\n",
       "  [('possible', 0.043675337),\n",
       "   ('correspondence', 0.04238352),\n",
       "   ('email', 0.037887085),\n",
       "   ('original', 0.025688298),\n",
       "   ('electronic', 0.024596369),\n",
       "   ('format', 0.020524368),\n",
       "   ('staff', 0.01715088),\n",
       "   ('note', 0.017121516),\n",
       "   ('time', 0.01709363),\n",
       "   ('andor', 0.016403804)]),\n",
       " (59,\n",
       "  [('oakland', 0.24477178),\n",
       "   ('right', 0.06016615),\n",
       "   ('local', 0.027412094),\n",
       "   ('subject', 0.027257845),\n",
       "   ('annual', 0.02547789),\n",
       "   ('respectfully', 0.02217476),\n",
       "   ('live', 0.021481216),\n",
       "   ('cover', 0.02075466),\n",
       "   ('thomas', 0.015780503),\n",
       "   ('share', 0.01362249)])]"
      ]
     },
     "execution_count": 115,
     "metadata": {},
     "output_type": "execute_result"
    }
   ],
   "source": [
    "lda_data_c2000_3 = gensim.models.ldamodel.LdaModel.load('lda_data_c2000_3')\n",
    "lda_data_c2000_3.show_topics(num_topics=60, formatted=False)"
   ]
  },
  {
   "cell_type": "markdown",
   "metadata": {},
   "source": [
    "## 7) Calculate avg count per word"
   ]
  },
  {
   "cell_type": "code",
   "execution_count": 156,
   "metadata": {
    "collapsed": true
   },
   "outputs": [],
   "source": [
    "data_c1000_3 = data_c[(data_c['mash_len'] > 3) | (data_c['count_total'] > 1000)]"
   ]
  },
  {
   "cell_type": "code",
   "execution_count": 157,
   "metadata": {
    "collapsed": true
   },
   "outputs": [],
   "source": [
    "data_c1000_3['avg_count'] = data_c1000_3['count_total']/ data_c1000_3['mash_len']"
   ]
  },
  {
   "cell_type": "code",
   "execution_count": 158,
   "metadata": {},
   "outputs": [
    {
     "data": {
      "text/plain": [
       "count    86625.000000\n",
       "mean      2938.751519\n",
       "std       2119.951414\n",
       "min          1.250000\n",
       "25%       1500.942857\n",
       "50%       2440.000000\n",
       "75%       3780.000000\n",
       "max      16184.000000\n",
       "Name: avg_count, dtype: float64"
      ]
     },
     "execution_count": 158,
     "metadata": {},
     "output_type": "execute_result"
    }
   ],
   "source": [
    "data_c1000_3.avg_count.describe()"
   ]
  },
  {
   "cell_type": "code",
   "execution_count": 161,
   "metadata": {},
   "outputs": [
    {
     "data": {
      "image/png": "[encoded data removed]",
      "text/plain": [
       "<Figure size 720x432 with 1 Axes>"
      ]
     },
     "metadata": {},
     "output_type": "display_data"
    }
   ],
   "source": [
    "data_c1000_3.avg_count.hist(bins = 100)\n",
    "plt.show()"
   ]
  },
  {
   "cell_type": "markdown",
   "metadata": {},
   "source": [
    "## 8) Remove all words on surnames or first names list"
   ]
  },
  {
   "cell_type": "code",
   "execution_count": 155,
   "metadata": {
    "collapsed": true
   },
   "outputs": [],
   "source": [
    "def name_list(st, end):\n",
    "    names = set()\n",
    "    for yr in range(st, end+1):\n",
    "        fp = '../data/names/yob{}.txt'.format(yr)\n",
    "        df = pd.read_table(fp, sep = ',', names = ['name', 'sex', 'count'])\n",
    "        df['name'] = df['name'].str.lower()\n",
    "        names |= set(df['name'])\n",
    "    \n",
    "    return list(names)\n",
    "        "
   ]
  },
  {
   "cell_type": "code",
   "execution_count": 127,
   "metadata": {},
   "outputs": [],
   "source": [
    "df = pd.read_table('../data/names/yob2000.txt', sep = ',', names = ['name', 'sex', 'count'])"
   ]
  },
  {
   "cell_type": "code",
   "execution_count": 148,
   "metadata": {},
   "outputs": [],
   "source": [
    "names = name_list(1950,2017)"
   ]
  },
  {
   "cell_type": "code",
   "execution_count": 145,
   "metadata": {},
   "outputs": [],
   "source": [
    "last_names = pd.read_csv('../data/names/surnames.csv')\n",
    "last_names['name'] = last_names['name'].str.lower()\n",
    "ln = list(last_names['name'])"
   ]
  },
  {
   "cell_type": "code",
   "execution_count": 149,
   "metadata": {},
   "outputs": [],
   "source": [
    "all_names = names + ln"
   ]
  },
  {
   "cell_type": "code",
   "execution_count": 153,
   "metadata": {
    "collapsed": true
   },
   "outputs": [],
   "source": [
    "data8 = data.copy()"
   ]
  },
  {
   "cell_type": "code",
   "execution_count": 154,
   "metadata": {},
   "outputs": [
    {
     "ename": "KeyboardInterrupt",
     "evalue": "",
     "output_type": "error",
     "traceback": [
      "\u001b[0;31m---------------------------------------------------------------------------\u001b[0m",
      "\u001b[0;31mKeyboardInterrupt\u001b[0m                         Traceback (most recent call last)",
      "\u001b[0;32m<ipython-input-154-7e32894dd0b6>\u001b[0m in \u001b[0;36m<module>\u001b[0;34m()\u001b[0m\n\u001b[0;32m----> 1\u001b[0;31m \u001b[0mdata8\u001b[0m\u001b[0;34m[\u001b[0m\u001b[0;34m'final_mash'\u001b[0m\u001b[0;34m]\u001b[0m \u001b[0;34m=\u001b[0m \u001b[0mdata8\u001b[0m\u001b[0;34m[\u001b[0m\u001b[0;34m'final_mash'\u001b[0m\u001b[0;34m]\u001b[0m\u001b[0;34m.\u001b[0m\u001b[0mapply\u001b[0m\u001b[0;34m(\u001b[0m\u001b[0;32mlambda\u001b[0m \u001b[0mx\u001b[0m\u001b[0;34m:\u001b[0m \u001b[0;34m[\u001b[0m\u001b[0mi\u001b[0m \u001b[0;32mfor\u001b[0m \u001b[0mi\u001b[0m \u001b[0;32min\u001b[0m \u001b[0mx\u001b[0m \u001b[0;32mif\u001b[0m \u001b[0mi\u001b[0m \u001b[0;32mnot\u001b[0m \u001b[0;32min\u001b[0m \u001b[0mall_names\u001b[0m\u001b[0;34m]\u001b[0m\u001b[0;34m)\u001b[0m\u001b[0;34m\u001b[0m\u001b[0m\n\u001b[0m",
      "\u001b[0;32m~/anaconda3/lib/python3.6/site-packages/pandas/core/series.py\u001b[0m in \u001b[0;36mapply\u001b[0;34m(self, func, convert_dtype, args, **kwds)\u001b[0m\n\u001b[1;32m   2508\u001b[0m             \u001b[0;32melse\u001b[0m\u001b[0;34m:\u001b[0m\u001b[0;34m\u001b[0m\u001b[0m\n\u001b[1;32m   2509\u001b[0m                 \u001b[0mvalues\u001b[0m \u001b[0;34m=\u001b[0m \u001b[0mself\u001b[0m\u001b[0;34m.\u001b[0m\u001b[0masobject\u001b[0m\u001b[0;34m\u001b[0m\u001b[0m\n\u001b[0;32m-> 2510\u001b[0;31m                 \u001b[0mmapped\u001b[0m \u001b[0;34m=\u001b[0m \u001b[0mlib\u001b[0m\u001b[0;34m.\u001b[0m\u001b[0mmap_infer\u001b[0m\u001b[0;34m(\u001b[0m\u001b[0mvalues\u001b[0m\u001b[0;34m,\u001b[0m \u001b[0mf\u001b[0m\u001b[0;34m,\u001b[0m \u001b[0mconvert\u001b[0m\u001b[0;34m=\u001b[0m\u001b[0mconvert_dtype\u001b[0m\u001b[0;34m)\u001b[0m\u001b[0;34m\u001b[0m\u001b[0m\n\u001b[0m\u001b[1;32m   2511\u001b[0m \u001b[0;34m\u001b[0m\u001b[0m\n\u001b[1;32m   2512\u001b[0m         \u001b[0;32mif\u001b[0m \u001b[0mlen\u001b[0m\u001b[0;34m(\u001b[0m\u001b[0mmapped\u001b[0m\u001b[0;34m)\u001b[0m \u001b[0;32mand\u001b[0m \u001b[0misinstance\u001b[0m\u001b[0;34m(\u001b[0m\u001b[0mmapped\u001b[0m\u001b[0;34m[\u001b[0m\u001b[0;36m0\u001b[0m\u001b[0;34m]\u001b[0m\u001b[0;34m,\u001b[0m \u001b[0mSeries\u001b[0m\u001b[0;34m)\u001b[0m\u001b[0;34m:\u001b[0m\u001b[0;34m\u001b[0m\u001b[0m\n",
      "\u001b[0;32mpandas/_libs/src/inference.pyx\u001b[0m in \u001b[0;36mpandas._libs.lib.map_infer\u001b[0;34m()\u001b[0m\n",
      "\u001b[0;32m<ipython-input-154-7e32894dd0b6>\u001b[0m in \u001b[0;36m<lambda>\u001b[0;34m(x)\u001b[0m\n\u001b[0;32m----> 1\u001b[0;31m \u001b[0mdata8\u001b[0m\u001b[0;34m[\u001b[0m\u001b[0;34m'final_mash'\u001b[0m\u001b[0;34m]\u001b[0m \u001b[0;34m=\u001b[0m \u001b[0mdata8\u001b[0m\u001b[0;34m[\u001b[0m\u001b[0;34m'final_mash'\u001b[0m\u001b[0;34m]\u001b[0m\u001b[0;34m.\u001b[0m\u001b[0mapply\u001b[0m\u001b[0;34m(\u001b[0m\u001b[0;32mlambda\u001b[0m \u001b[0mx\u001b[0m\u001b[0;34m:\u001b[0m \u001b[0;34m[\u001b[0m\u001b[0mi\u001b[0m \u001b[0;32mfor\u001b[0m \u001b[0mi\u001b[0m \u001b[0;32min\u001b[0m \u001b[0mx\u001b[0m \u001b[0;32mif\u001b[0m \u001b[0mi\u001b[0m \u001b[0;32mnot\u001b[0m \u001b[0;32min\u001b[0m \u001b[0mall_names\u001b[0m\u001b[0;34m]\u001b[0m\u001b[0;34m)\u001b[0m\u001b[0;34m\u001b[0m\u001b[0m\n\u001b[0m",
      "\u001b[0;32m<ipython-input-154-7e32894dd0b6>\u001b[0m in \u001b[0;36m<listcomp>\u001b[0;34m(.0)\u001b[0m\n\u001b[0;32m----> 1\u001b[0;31m \u001b[0mdata8\u001b[0m\u001b[0;34m[\u001b[0m\u001b[0;34m'final_mash'\u001b[0m\u001b[0;34m]\u001b[0m \u001b[0;34m=\u001b[0m \u001b[0mdata8\u001b[0m\u001b[0;34m[\u001b[0m\u001b[0;34m'final_mash'\u001b[0m\u001b[0;34m]\u001b[0m\u001b[0;34m.\u001b[0m\u001b[0mapply\u001b[0m\u001b[0;34m(\u001b[0m\u001b[0;32mlambda\u001b[0m \u001b[0mx\u001b[0m\u001b[0;34m:\u001b[0m \u001b[0;34m[\u001b[0m\u001b[0mi\u001b[0m \u001b[0;32mfor\u001b[0m \u001b[0mi\u001b[0m \u001b[0;32min\u001b[0m \u001b[0mx\u001b[0m \u001b[0;32mif\u001b[0m \u001b[0mi\u001b[0m \u001b[0;32mnot\u001b[0m \u001b[0;32min\u001b[0m \u001b[0mall_names\u001b[0m\u001b[0;34m]\u001b[0m\u001b[0;34m)\u001b[0m\u001b[0;34m\u001b[0m\u001b[0m\n\u001b[0m",
      "\u001b[0;31mKeyboardInterrupt\u001b[0m: "
     ]
    }
   ],
   "source": [
    "data8['final_mash'] = data8['final_mash'].apply(lambda x: [i for i in x if i not in all_names])"
   ]
  },
  {
   "cell_type": "code",
   "execution_count": null,
   "metadata": {
    "collapsed": true
   },
   "outputs": [],
   "source": [
    "data8.to_csv('data8.csv')"
   ]
  }
 ],
 "metadata": {
  "kernelspec": {
   "display_name": "Python 3",
   "language": "python",
   "name": "python3"
  },
  "language_info": {
   "codemirror_mode": {
    "name": "ipython",
    "version": 3
   },
   "file_extension": ".py",
   "mimetype": "text/x-python",
   "name": "python",
   "nbconvert_exporter": "python",
   "pygments_lexer": "ipython3",
   "version": "3.6.3"
  }
 },
 "nbformat": 4,
 "nbformat_minor": 2
}
