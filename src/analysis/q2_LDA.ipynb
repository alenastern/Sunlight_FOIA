{
 "cells": [
  {
   "cell_type": "code",
   "execution_count": 1,
   "metadata": {
    "collapsed": true
   },
   "outputs": [],
   "source": [
    "# system tools\n",
    "import warnings\n",
    "import json\n",
    "import sys\n",
    "import string\n",
    "import ast\n",
    "\n",
    "# data cleaning + analysis tools\n",
    "import pandas as pd\n",
    "import datetime as dt\n",
    "import numpy as np\n",
    "import re\n",
    "import matplotlib.pyplot as plt\n",
    "import seaborn as sns\n",
    "\n",
    "#nltk tools\n",
    "import lda #Latent Dirichlet Allocation (create topics)\n",
    "import gensim\n",
    "from gensim import corpora, models #for constructing document term matrix\n",
    "#from stop_words import get_stop_words\n",
    "from gensim.models import Phrases\n",
    "from collections import Counter\n",
    "import nltk\n",
    "from nltk.corpus import stopwords\n",
    "from nltk.stem.wordnet import WordNetLemmatizer\n",
    "from nltk.corpus import wordnet\n",
    "from nltk.util import ngrams\n",
    "\n",
    "#set notebook preferences\n",
    "pd.set_option('display.height', 1000)\n",
    "pd.set_option('display.max_rows', 500)\n",
    "pd.set_option('display.max_columns', 500)\n",
    "pd.set_option('display.max_colwidth', 1000)\n",
    "pd.set_option('display.width', 1000)\n",
    "warnings.filterwarnings('ignore')"
   ]
  },
  {
   "cell_type": "markdown",
   "metadata": {},
   "source": [
    "### Import JSON file with city metadata - including which cities have sufficient Public Record Request (PRR) data for analysis"
   ]
  },
  {
   "cell_type": "code",
   "execution_count": 2,
   "metadata": {
    "collapsed": true
   },
   "outputs": [],
   "source": [
    "json_file = '../data/cities.json'\n",
    "\n",
    "with open(json_file, 'r') as f:\n",
    "    md = json.load(f)"
   ]
  },
  {
   "cell_type": "markdown",
   "metadata": {},
   "source": [
    "###  Create dataframe of PRR data for all relevant cities"
   ]
  },
  {
   "cell_type": "code",
   "execution_count": 3,
   "metadata": {},
   "outputs": [
    {
     "name": "stdout",
     "output_type": "stream",
     "text": [
      "Arlington city\n",
      "Asheville city\n",
      "Bainbridge Island city\n",
      "Boulder County\n",
      "Cathedral City city\n",
      "Dayton city\n",
      "Denton city\n",
      "Everett city\n",
      "Fort Collins city\n",
      "Greensboro city\n",
      "Hayward city\n",
      "Kirkland city\n",
      "Las Cruces city\n",
      "Lynnwood city\n",
      "Mercer Island city\n",
      "Miami city\n",
      "Middleborough town\n",
      "New Orleans city\n",
      "Oakland city\n",
      "Oklahoma City city\n",
      "Olympia city\n",
      "Palo Alto city\n",
      "Peoria city\n",
      "Pullman city\n",
      "Rancho Cucamonga city\n",
      "Redmond city\n",
      "Renton city\n",
      "Sacramento city\n",
      "San Francisco city\n",
      "Tukwila city\n",
      "Vallejo city\n",
      "West Sacramento city\n",
      "Winchester city\n"
     ]
    }
   ],
   "source": [
    "data_raw = pd.DataFrame(columns = ['city', 'month_year', 'Summary'])\n",
    "city_list = []\n",
    "for key, value in md.items():\n",
    "    city = value['name']\n",
    "    filepath = '/Users/alenastern/Google Drive File Stream/My Drive/Alena_Project/PR_Data/{}.csv'.format(city)\n",
    "    if value[\"desc\"] == \"Y\":\n",
    "        try:\n",
    "            df = pd.read_csv(filepath)\n",
    "        except:\n",
    "            try:\n",
    "                df = pd.read_csv(filepath, encoding='mac_roman')\n",
    "            except:\n",
    "                continue\n",
    "        print(key)\n",
    "        name = key.split(' ')\n",
    "        city_list.append(name[0].lower())\n",
    "    else:\n",
    "        continue\n",
    "    \n",
    "    try:\n",
    "        df['Create Date'] = pd.to_datetime(df['Create Date'])\n",
    "    except:\n",
    "        df['New'] = pd.to_datetime(df['Create Date'].apply(lambda x: re.findall('^\\S*', x)[0]))\n",
    "        df.drop(columns=['Create Date'], inplace = True)\n",
    "        df.rename(index=str, columns={\"New\": \"Create Date\"}, inplace = True)\n",
    "\n",
    "    df['month_year'] = df['Create Date'].dt.to_period('M')\n",
    "    \n",
    "    mc = df[['month_year', 'Summary']]\n",
    "    mc['city'] = city\n",
    "    \n",
    "    data_raw = pd.concat([data_raw, mc])"
   ]
  },
  {
   "cell_type": "markdown",
   "metadata": {},
   "source": [
    "#### We can see the raw data below. Our raw dataset includes 86,416 PRRs from 33 different cities"
   ]
  },
  {
   "cell_type": "code",
   "execution_count": 6,
   "metadata": {
    "collapsed": true
   },
   "outputs": [],
   "source": [
    "data_raw.to_csv('data_raw.csv')"
   ]
  },
  {
   "cell_type": "code",
   "execution_count": 3,
   "metadata": {
    "collapsed": true
   },
   "outputs": [],
   "source": [
    "data_raw = pd.read_csv('data_raw.csv')"
   ]
  },
  {
   "cell_type": "code",
   "execution_count": 6,
   "metadata": {},
   "outputs": [
    {
     "data": {
      "text/html": [
       "<div>\n",
       "<style scoped>\n",
       "    .dataframe tbody tr th:only-of-type {\n",
       "        vertical-align: middle;\n",
       "    }\n",
       "\n",
       "    .dataframe tbody tr th {\n",
       "        vertical-align: top;\n",
       "    }\n",
       "\n",
       "    .dataframe thead th {\n",
       "        text-align: right;\n",
       "    }\n",
       "</style>\n",
       "<table border=\"1\" class=\"dataframe\">\n",
       "  <thead>\n",
       "    <tr style=\"text-align: right;\">\n",
       "      <th></th>\n",
       "      <th>Summary</th>\n",
       "      <th>city</th>\n",
       "      <th>month_year</th>\n",
       "    </tr>\n",
       "  </thead>\n",
       "  <tbody>\n",
       "    <tr>\n",
       "      <th>0</th>\n",
       "      <td>We are working with an engineering firm on an upcoming project.  They have asked us to gather maps for this project.  Would you be able to assist me in gathering maps/records (as builds) for any underground water facilities you may have?  Something just showing the route of the water lines would do.\\n\\n207th ST NE to 92nd Ave NE, Arlington, Cascade Surveying &amp; Engineering \\n\\nI have attached the scope for your convenience.  Please let me know if you have questions.</td>\n",
       "      <td>Arlington</td>\n",
       "      <td>2018-06</td>\n",
       "    </tr>\n",
       "    <tr>\n",
       "      <th>1</th>\n",
       "      <td>Need copies of contracts and all related documents pertaining to Topcub Aircraft property located at 17922 59th DR NE Arlington WA 98223 between Arlington Airport, Topcub Aircraft, City of Arlington, HCI Steel Buildings and PUD.</td>\n",
       "      <td>Arlington</td>\n",
       "      <td>2018-06</td>\n",
       "    </tr>\n",
       "    <tr>\n",
       "      <th>2</th>\n",
       "      <td>Copies of Building Permits of $5,000 valuation and up ($20,000 min for Re-Roofs), ($50,000 min. for Cell Tower upgrades), (Electrical, Mechanical &amp; Plumbing at $100,000 min.) and (Solar Panels, Swimming Pools &amp; Foundations at any valuation)</td>\n",
       "      <td>Arlington</td>\n",
       "      <td>2018-06</td>\n",
       "    </tr>\n",
       "    <tr>\n",
       "      <th>3</th>\n",
       "      <td>police report filed to an officer against Wayne Parris (DOB 08-03-1957) from Brittany J. Parris. The paperwork I have has a case number D18-39 it is also stamped at the bottom with 18-1294, Iím not sure which number you will need. If there is any other information needed please let me know.</td>\n",
       "      <td>Arlington</td>\n",
       "      <td>2018-06</td>\n",
       "    </tr>\n",
       "    <tr>\n",
       "      <th>4</th>\n",
       "      <td>Email Communications between Stephanie Shook, Dave Kraski, Bruce Stedman and Chad Schmidt in regards to Fire Protection District 21 billing and passage of contract for ALS Services. \\n\\nAlso any copies of Agenda Bills, D21 Contract and materials presented for review in Nov/Dec time frame in regards to the contract.</td>\n",
       "      <td>Arlington</td>\n",
       "      <td>2018-06</td>\n",
       "    </tr>\n",
       "  </tbody>\n",
       "</table>\n",
       "</div>"
      ],
      "text/plain": [
       "                                                                                                                                                                                                                                                                                                                                                                                                                                                                                 Summary       city month_year\n",
       "0  We are working with an engineering firm on an upcoming project.  They have asked us to gather maps for this project.  Would you be able to assist me in gathering maps/records (as builds) for any underground water facilities you may have?  Something just showing the route of the water lines would do.\\n\\n207th ST NE to 92nd Ave NE, Arlington, Cascade Surveying & Engineering \\n\\nI have attached the scope for your convenience.  Please let me know if you have questions.  Arlington    2018-06\n",
       "1                                                                                                                                                                                                                                                   Need copies of contracts and all related documents pertaining to Topcub Aircraft property located at 17922 59th DR NE Arlington WA 98223 between Arlington Airport, Topcub Aircraft, City of Arlington, HCI Steel Buildings and PUD.  Arlington    2018-06\n",
       "2                                                                                                                                                                                                                                       Copies of Building Permits of $5,000 valuation and up ($20,000 min for Re-Roofs), ($50,000 min. for Cell Tower upgrades), (Electrical, Mechanical & Plumbing at $100,000 min.) and (Solar Panels, Swimming Pools & Foundations at any valuation)  Arlington    2018-06\n",
       "3                                                                                                                                                                                    police report filed to an officer against Wayne Parris (DOB 08-03-1957) from Brittany J. Parris. The paperwork I have has a case number D18-39 it is also stamped at the bottom with 18-1294, Iím not sure which number you will need. If there is any other information needed please let me know.  Arlington    2018-06\n",
       "4                                                                                                                                                           Email Communications between Stephanie Shook, Dave Kraski, Bruce Stedman and Chad Schmidt in regards to Fire Protection District 21 billing and passage of contract for ALS Services. \\n\\nAlso any copies of Agenda Bills, D21 Contract and materials presented for review in Nov/Dec time frame in regards to the contract.  Arlington    2018-06"
      ]
     },
     "execution_count": 6,
     "metadata": {},
     "output_type": "execute_result"
    }
   ],
   "source": [
    "data_raw.head()"
   ]
  },
  {
   "cell_type": "code",
   "execution_count": 4,
   "metadata": {},
   "outputs": [
    {
     "data": {
      "text/plain": [
       "(86416, 3)"
      ]
     },
     "execution_count": 4,
     "metadata": {},
     "output_type": "execute_result"
    }
   ],
   "source": [
    "data_raw.shape"
   ]
  },
  {
   "cell_type": "code",
   "execution_count": 5,
   "metadata": {},
   "outputs": [
    {
     "data": {
      "text/plain": [
       "33"
      ]
     },
     "execution_count": 5,
     "metadata": {},
     "output_type": "execute_result"
    }
   ],
   "source": [
    "len(data_raw.city.unique())"
   ]
  },
  {
   "cell_type": "code",
   "execution_count": 6,
   "metadata": {
    "collapsed": true
   },
   "outputs": [],
   "source": [
    "data_raw.index = pd.RangeIndex(len(data_raw.index))"
   ]
  },
  {
   "cell_type": "code",
   "execution_count": 7,
   "metadata": {
    "collapsed": true
   },
   "outputs": [],
   "source": [
    "data_raw.reset_index(inplace=True)"
   ]
  },
  {
   "cell_type": "markdown",
   "metadata": {},
   "source": [
    "### Create dataframe for cleaning by removing null summaries"
   ]
  },
  {
   "cell_type": "code",
   "execution_count": 8,
   "metadata": {
    "collapsed": true
   },
   "outputs": [],
   "source": [
    "data = data_raw.dropna(subset=['Summary'])"
   ]
  },
  {
   "cell_type": "code",
   "execution_count": 9,
   "metadata": {},
   "outputs": [
    {
     "data": {
      "text/html": [
       "<div>\n",
       "<style scoped>\n",
       "    .dataframe tbody tr th:only-of-type {\n",
       "        vertical-align: middle;\n",
       "    }\n",
       "\n",
       "    .dataframe tbody tr th {\n",
       "        vertical-align: top;\n",
       "    }\n",
       "\n",
       "    .dataframe thead th {\n",
       "        text-align: right;\n",
       "    }\n",
       "</style>\n",
       "<table border=\"1\" class=\"dataframe\">\n",
       "  <thead>\n",
       "    <tr style=\"text-align: right;\">\n",
       "      <th></th>\n",
       "      <th>index</th>\n",
       "      <th>Summary</th>\n",
       "      <th>city</th>\n",
       "      <th>month_year</th>\n",
       "    </tr>\n",
       "  </thead>\n",
       "  <tbody>\n",
       "    <tr>\n",
       "      <th>0</th>\n",
       "      <td>0</td>\n",
       "      <td>We are working with an engineering firm on an upcoming project.  They have asked us to gather maps for this project.  Would you be able to assist me in gathering maps/records (as builds) for any underground water facilities you may have?  Something just showing the route of the water lines would do.\\n\\n207th ST NE to 92nd Ave NE, Arlington, Cascade Surveying &amp; Engineering \\n\\nI have attached the scope for your convenience.  Please let me know if you have questions.</td>\n",
       "      <td>Arlington</td>\n",
       "      <td>2018-06</td>\n",
       "    </tr>\n",
       "    <tr>\n",
       "      <th>1</th>\n",
       "      <td>1</td>\n",
       "      <td>Need copies of contracts and all related documents pertaining to Topcub Aircraft property located at 17922 59th DR NE Arlington WA 98223 between Arlington Airport, Topcub Aircraft, City of Arlington, HCI Steel Buildings and PUD.</td>\n",
       "      <td>Arlington</td>\n",
       "      <td>2018-06</td>\n",
       "    </tr>\n",
       "    <tr>\n",
       "      <th>2</th>\n",
       "      <td>2</td>\n",
       "      <td>Copies of Building Permits of $5,000 valuation and up ($20,000 min for Re-Roofs), ($50,000 min. for Cell Tower upgrades), (Electrical, Mechanical &amp; Plumbing at $100,000 min.) and (Solar Panels, Swimming Pools &amp; Foundations at any valuation)</td>\n",
       "      <td>Arlington</td>\n",
       "      <td>2018-06</td>\n",
       "    </tr>\n",
       "    <tr>\n",
       "      <th>3</th>\n",
       "      <td>3</td>\n",
       "      <td>police report filed to an officer against Wayne Parris (DOB 08-03-1957) from Brittany J. Parris. The paperwork I have has a case number D18-39 it is also stamped at the bottom with 18-1294, Iím not sure which number you will need. If there is any other information needed please let me know.</td>\n",
       "      <td>Arlington</td>\n",
       "      <td>2018-06</td>\n",
       "    </tr>\n",
       "    <tr>\n",
       "      <th>4</th>\n",
       "      <td>4</td>\n",
       "      <td>Email Communications between Stephanie Shook, Dave Kraski, Bruce Stedman and Chad Schmidt in regards to Fire Protection District 21 billing and passage of contract for ALS Services. \\n\\nAlso any copies of Agenda Bills, D21 Contract and materials presented for review in Nov/Dec time frame in regards to the contract.</td>\n",
       "      <td>Arlington</td>\n",
       "      <td>2018-06</td>\n",
       "    </tr>\n",
       "  </tbody>\n",
       "</table>\n",
       "</div>"
      ],
      "text/plain": [
       "   index                                                                                                                                                                                                                                                                                                                                                                                                                                                                                Summary       city month_year\n",
       "0      0  We are working with an engineering firm on an upcoming project.  They have asked us to gather maps for this project.  Would you be able to assist me in gathering maps/records (as builds) for any underground water facilities you may have?  Something just showing the route of the water lines would do.\\n\\n207th ST NE to 92nd Ave NE, Arlington, Cascade Surveying & Engineering \\n\\nI have attached the scope for your convenience.  Please let me know if you have questions.  Arlington    2018-06\n",
       "1      1                                                                                                                                                                                                                                                   Need copies of contracts and all related documents pertaining to Topcub Aircraft property located at 17922 59th DR NE Arlington WA 98223 between Arlington Airport, Topcub Aircraft, City of Arlington, HCI Steel Buildings and PUD.  Arlington    2018-06\n",
       "2      2                                                                                                                                                                                                                                       Copies of Building Permits of $5,000 valuation and up ($20,000 min for Re-Roofs), ($50,000 min. for Cell Tower upgrades), (Electrical, Mechanical & Plumbing at $100,000 min.) and (Solar Panels, Swimming Pools & Foundations at any valuation)  Arlington    2018-06\n",
       "3      3                                                                                                                                                                                    police report filed to an officer against Wayne Parris (DOB 08-03-1957) from Brittany J. Parris. The paperwork I have has a case number D18-39 it is also stamped at the bottom with 18-1294, Iím not sure which number you will need. If there is any other information needed please let me know.  Arlington    2018-06\n",
       "4      4                                                                                                                                                           Email Communications between Stephanie Shook, Dave Kraski, Bruce Stedman and Chad Schmidt in regards to Fire Protection District 21 billing and passage of contract for ALS Services. \\n\\nAlso any copies of Agenda Bills, D21 Contract and materials presented for review in Nov/Dec time frame in regards to the contract.  Arlington    2018-06"
      ]
     },
     "execution_count": 9,
     "metadata": {},
     "output_type": "execute_result"
    }
   ],
   "source": [
    "data.head()"
   ]
  },
  {
   "cell_type": "markdown",
   "metadata": {},
   "source": [
    "#### Function to convert nltk part of speech tags to wordnet tags (we use this to stem the words in data cleaning below):"
   ]
  },
  {
   "cell_type": "code",
   "execution_count": 10,
   "metadata": {
    "collapsed": true
   },
   "outputs": [],
   "source": [
    "def get_wordnet_pos(tag):\n",
    "\n",
    "    if tag.startswith('J'):\n",
    "        return wordnet.ADJ\n",
    "    elif tag.startswith('V'):\n",
    "        return wordnet.VERB\n",
    "    elif tag.startswith('N'):\n",
    "        return wordnet.NOUN\n",
    "    elif tag.startswith('R'):\n",
    "        return wordnet.ADV\n",
    "    else:\n",
    "        return wordnet.NOUN"
   ]
  },
  {
   "cell_type": "markdown",
   "metadata": {},
   "source": [
    "## Clean PRR data to prepare for LDA analysis"
   ]
  },
  {
   "cell_type": "code",
   "execution_count": 11,
   "metadata": {
    "collapsed": true
   },
   "outputs": [],
   "source": [
    "# Turn to lowercase\n",
    "data['sum_ed'] = data.Summary.str.lower()\n",
    "\n",
    "# Remove all punctuation\n",
    "translator = str.maketrans('','', string.punctuation)\n",
    "data.sum_ed = data.sum_ed.str.translate(translator)\n",
    "\n",
    "# Remove all city names\n",
    "for city in city_list:\n",
    "    data.sum_ed = data.sum_ed.str.replace(city, '')\n",
    "\n",
    "# Remove all state names\n",
    "state_list = ['washington', 'north carolina', 'colorado', 'california',\n",
    "             'ohio', 'texas', 'new mexico', 'florida', 'massachusetts',\n",
    "             'lousiana', 'oklahoma', 'arizona', 'rhode island', 'virginia']\n",
    "\n",
    "for state in state_list:\n",
    "     data.sum_ed = data.sum_ed.str.replace(state, '')\n",
    "    \n",
    "# Remove digits\n",
    "dig_translator = str.maketrans('','', string.digits)\n",
    "data.sum_ed = data.sum_ed.str.translate(dig_translator)\n",
    "\n",
    "#remove empty strings, stopwords and stem\n",
    "stop_words = set(stopwords.words('english'))\n",
    "lmtzr = WordNetLemmatizer()\n",
    "data['token'] = data['sum_ed'].apply(lambda x: nltk.word_tokenize(x))\n",
    "data['lemma'] = data['token'].apply(lambda x: nltk.pos_tag(x))\n",
    "data['mash'] = data['lemma'].apply(lambda x: [lmtzr.lemmatize(i[0], get_wordnet_pos(i[1])) for i in x if len(i[0]) > 0 and i[0] not in stop_words])\n",
    "\n",
    "# Remove whitespace\n",
    "wsp_translator = str.maketrans('','', string.whitespace)\n",
    "data['mash'] = data['mash'].apply(lambda x: [i.translate(wsp_translator) for i in x])\n",
    "\n",
    "# Remove empty lists\n",
    "data['mash_len'] = data['mash'].apply(lambda x: len(x))\n",
    "data = data[data['mash_len'] > 0]\n",
    "\n",
    "# Create bigrams\n",
    "data['bigrams'] = data['mash'].apply(lambda x: [\"_\".join(w) for w in ngrams(x, 2)])\n",
    "    "
   ]
  },
  {
   "cell_type": "code",
   "execution_count": 12,
   "metadata": {},
   "outputs": [
    {
     "data": {
      "text/html": [
       "<div>\n",
       "<style scoped>\n",
       "    .dataframe tbody tr th:only-of-type {\n",
       "        vertical-align: middle;\n",
       "    }\n",
       "\n",
       "    .dataframe tbody tr th {\n",
       "        vertical-align: top;\n",
       "    }\n",
       "\n",
       "    .dataframe thead th {\n",
       "        text-align: right;\n",
       "    }\n",
       "</style>\n",
       "<table border=\"1\" class=\"dataframe\">\n",
       "  <thead>\n",
       "    <tr style=\"text-align: right;\">\n",
       "      <th></th>\n",
       "      <th>index</th>\n",
       "      <th>Summary</th>\n",
       "      <th>city</th>\n",
       "      <th>month_year</th>\n",
       "      <th>sum_ed</th>\n",
       "      <th>token</th>\n",
       "      <th>lemma</th>\n",
       "      <th>mash</th>\n",
       "      <th>mash_len</th>\n",
       "      <th>bigrams</th>\n",
       "    </tr>\n",
       "  </thead>\n",
       "  <tbody>\n",
       "    <tr>\n",
       "      <th>0</th>\n",
       "      <td>0</td>\n",
       "      <td>We are working with an engineering firm on an upcoming project.  They have asked us to gather maps for this project.  Would you be able to assist me in gathering maps/records (as builds) for any underground water facilities you may have?  Something just showing the route of the water lines would do.\\n\\n207th ST NE to 92nd Ave NE, Arlington, Cascade Surveying &amp; Engineering \\n\\nI have attached the scope for your convenience.  Please let me know if you have questions.</td>\n",
       "      <td>Arlington</td>\n",
       "      <td>2018-06</td>\n",
       "      <td>we are working with an engineering firm on an upcoming project  they have asked us to gather maps for this project  would you be able to assist me in gathering mapsrecords as builds for any underground water facilities you may have  something just showing the route of the water lines would do\\n\\nth st ne to nd ave ne  cascade surveying  engineering \\n\\ni have attached the scope for your convenience  please let me know if you have questions</td>\n",
       "      <td>[we, are, working, with, an, engineering, firm, on, an, upcoming, project, they, have, asked, us, to, gather, maps, for, this, project, would, you, be, able, to, assist, me, in, gathering, mapsrecords, as, builds, for, any, underground, water, facilities, you, may, have, something, just, showing, the, route, of, the, water, lines, would, do, th, st, ne, to, nd, ave, ne, cascade, surveying, engineering, i, have, attached, the, scope, for, your, convenience, please, let, me, know, if, you, have, questions]</td>\n",
       "      <td>[(we, PRP), (are, VBP), (working, VBG), (with, IN), (an, DT), (engineering, NN), (firm, NN), (on, IN), (an, DT), (upcoming, JJ), (project, NN), (they, PRP), (have, VBP), (asked, VBN), (us, PRP), (to, TO), (gather, VB), (maps, NNS), (for, IN), (this, DT), (project, NN), (would, MD), (you, PRP), (be, VB), (able, JJ), (to, TO), (assist, VB), (me, PRP), (in, IN), (gathering, VBG), (mapsrecords, NNS), (as, IN), (builds, NNS), (for, IN), (any, DT), (underground, JJ), (water, NN), (facilities, NNS), (you, PRP), (may, MD), (have, VB), (something, NN), (just, RB), (showing, VBG), (the, DT), (route, NN), (of, IN), (the, DT), (water, NN), (lines, NNS), (would, MD), (do, VB), (th, VB), (st, VB), (ne, JJ), (to, TO), (nd, VB), (ave, VB), (ne, JJ), (cascade, NN), (surveying, VBG), (engineering, NN), (i, NN), (have, VBP), (attached, VBN), (the, DT), (scope, NN), (for, IN), (your, PRP$), (convenience, NN), (please, NN), (let, VB), (me, PRP), (know, VB), (if, IN), (you, PRP), (have, VBP), (questions...</td>\n",
       "      <td>[work, engineering, firm, upcoming, project, ask, u, gather, map, project, would, able, assist, gather, mapsrecords, build, underground, water, facility, may, something, show, route, water, line, would, th, st, ne, nd, ave, ne, cascade, survey, engineering, attach, scope, convenience, please, let, know, question]</td>\n",
       "      <td>42</td>\n",
       "      <td>[work_engineering, engineering_firm, firm_upcoming, upcoming_project, project_ask, ask_u, u_gather, gather_map, map_project, project_would, would_able, able_assist, assist_gather, gather_mapsrecords, mapsrecords_build, build_underground, underground_water, water_facility, facility_may, may_something, something_show, show_route, route_water, water_line, line_would, would_th, th_st, st_ne, ne_nd, nd_ave, ave_ne, ne_cascade, cascade_survey, survey_engineering, engineering_attach, attach_scope, scope_convenience, convenience_please, please_let, let_know, know_question]</td>\n",
       "    </tr>\n",
       "    <tr>\n",
       "      <th>1</th>\n",
       "      <td>1</td>\n",
       "      <td>Need copies of contracts and all related documents pertaining to Topcub Aircraft property located at 17922 59th DR NE Arlington WA 98223 between Arlington Airport, Topcub Aircraft, City of Arlington, HCI Steel Buildings and PUD.</td>\n",
       "      <td>Arlington</td>\n",
       "      <td>2018-06</td>\n",
       "      <td>need copies of contracts and all related documents pertaining to topcub aircraft property located at  th dr ne  wa  between  airport topcub aircraft city of  hci steel buildings and pud</td>\n",
       "      <td>[need, copies, of, contracts, and, all, related, documents, pertaining, to, topcub, aircraft, property, located, at, th, dr, ne, wa, between, airport, topcub, aircraft, city, of, hci, steel, buildings, and, pud]</td>\n",
       "      <td>[(need, NN), (copies, NNS), (of, IN), (contracts, NNS), (and, CC), (all, DT), (related, JJ), (documents, NNS), (pertaining, VBG), (to, TO), (topcub, VB), (aircraft, NN), (property, NN), (located, VBN), (at, IN), (th, NN), (dr, NN), (ne, JJ), (wa, NN), (between, IN), (airport, NN), (topcub, NN), (aircraft, NN), (city, NN), (of, IN), (hci, JJ), (steel, NN), (buildings, NNS), (and, CC), (pud, NN)]</td>\n",
       "      <td>[need, copy, contract, related, document, pertain, topcub, aircraft, property, locate, th, dr, ne, wa, airport, topcub, aircraft, city, hci, steel, building, pud]</td>\n",
       "      <td>22</td>\n",
       "      <td>[need_copy, copy_contract, contract_related, related_document, document_pertain, pertain_topcub, topcub_aircraft, aircraft_property, property_locate, locate_th, th_dr, dr_ne, ne_wa, wa_airport, airport_topcub, topcub_aircraft, aircraft_city, city_hci, hci_steel, steel_building, building_pud]</td>\n",
       "    </tr>\n",
       "    <tr>\n",
       "      <th>2</th>\n",
       "      <td>2</td>\n",
       "      <td>Copies of Building Permits of $5,000 valuation and up ($20,000 min for Re-Roofs), ($50,000 min. for Cell Tower upgrades), (Electrical, Mechanical &amp; Plumbing at $100,000 min.) and (Solar Panels, Swimming Pools &amp; Foundations at any valuation)</td>\n",
       "      <td>Arlington</td>\n",
       "      <td>2018-06</td>\n",
       "      <td>copies of building permits of  valuation and up  min for reroofs  min for cell tower upgrades electrical mechanical  plumbing at  min and solar panels swimming pools  foundations at any valuation</td>\n",
       "      <td>[copies, of, building, permits, of, valuation, and, up, min, for, reroofs, min, for, cell, tower, upgrades, electrical, mechanical, plumbing, at, min, and, solar, panels, swimming, pools, foundations, at, any, valuation]</td>\n",
       "      <td>[(copies, NNS), (of, IN), (building, VBG), (permits, NNS), (of, IN), (valuation, NN), (and, CC), (up, RB), (min, NN), (for, IN), (reroofs, NN), (min, NN), (for, IN), (cell, NN), (tower, NN), (upgrades, JJ), (electrical, JJ), (mechanical, JJ), (plumbing, NN), (at, IN), (min, NN), (and, CC), (solar, JJ), (panels, NNS), (swimming, VBG), (pools, JJ), (foundations, NNS), (at, IN), (any, DT), (valuation, NN)]</td>\n",
       "      <td>[copy, build, permit, valuation, min, reroofs, min, cell, tower, upgrades, electrical, mechanical, plumbing, min, solar, panel, swim, pools, foundation, valuation]</td>\n",
       "      <td>20</td>\n",
       "      <td>[copy_build, build_permit, permit_valuation, valuation_min, min_reroofs, reroofs_min, min_cell, cell_tower, tower_upgrades, upgrades_electrical, electrical_mechanical, mechanical_plumbing, plumbing_min, min_solar, solar_panel, panel_swim, swim_pools, pools_foundation, foundation_valuation]</td>\n",
       "    </tr>\n",
       "    <tr>\n",
       "      <th>3</th>\n",
       "      <td>3</td>\n",
       "      <td>police report filed to an officer against Wayne Parris (DOB 08-03-1957) from Brittany J. Parris. The paperwork I have has a case number D18-39 it is also stamped at the bottom with 18-1294, Iím not sure which number you will need. If there is any other information needed please let me know.</td>\n",
       "      <td>Arlington</td>\n",
       "      <td>2018-06</td>\n",
       "      <td>police report filed to an officer against wayne parris dob  from brittany j parris the paperwork i have has a case number d it is also stamped at the bottom with  iím not sure which number you will need if there is any other information needed please let me know</td>\n",
       "      <td>[police, report, filed, to, an, officer, against, wayne, parris, dob, from, brittany, j, parris, the, paperwork, i, have, has, a, case, number, d, it, is, also, stamped, at, the, bottom, with, iím, not, sure, which, number, you, will, need, if, there, is, any, other, information, needed, please, let, me, know]</td>\n",
       "      <td>[(police, NNS), (report, NN), (filed, VBD), (to, TO), (an, DT), (officer, NN), (against, IN), (wayne, JJ), (parris, JJ), (dob, NN), (from, IN), (brittany, JJ), (j, NN), (parris, VBD), (the, DT), (paperwork, NN), (i, NN), (have, VBP), (has, VBZ), (a, DT), (case, NN), (number, NN), (d, NN), (it, PRP), (is, VBZ), (also, RB), (stamped, VBN), (at, IN), (the, DT), (bottom, NN), (with, IN), (iím, JJ), (not, RB), (sure, JJ), (which, WDT), (number, NN), (you, PRP), (will, MD), (need, VB), (if, IN), (there, EX), (is, VBZ), (any, DT), (other, JJ), (information, NN), (needed, VBN), (please, NN), (let, VB), (me, PRP), (know, VB)]</td>\n",
       "      <td>[police, report, file, officer, wayne, parris, dob, brittany, j, parris, paperwork, case, number, also, stamp, bottom, iím, sure, number, need, information, need, please, let, know]</td>\n",
       "      <td>25</td>\n",
       "      <td>[police_report, report_file, file_officer, officer_wayne, wayne_parris, parris_dob, dob_brittany, brittany_j, j_parris, parris_paperwork, paperwork_case, case_number, number_also, also_stamp, stamp_bottom, bottom_iím, iím_sure, sure_number, number_need, need_information, information_need, need_please, please_let, let_know]</td>\n",
       "    </tr>\n",
       "    <tr>\n",
       "      <th>4</th>\n",
       "      <td>4</td>\n",
       "      <td>Email Communications between Stephanie Shook, Dave Kraski, Bruce Stedman and Chad Schmidt in regards to Fire Protection District 21 billing and passage of contract for ALS Services. \\n\\nAlso any copies of Agenda Bills, D21 Contract and materials presented for review in Nov/Dec time frame in regards to the contract.</td>\n",
       "      <td>Arlington</td>\n",
       "      <td>2018-06</td>\n",
       "      <td>email communications between stephanie shook dave kraski bruce stedman and chad schmidt in regards to fire protection district  billing and passage of contract for als services \\n\\nalso any copies of agenda bills d contract and materials presented for review in novdec time frame in regards to the contract</td>\n",
       "      <td>[email, communications, between, stephanie, shook, dave, kraski, bruce, stedman, and, chad, schmidt, in, regards, to, fire, protection, district, billing, and, passage, of, contract, for, als, services, also, any, copies, of, agenda, bills, d, contract, and, materials, presented, for, review, in, novdec, time, frame, in, regards, to, the, contract]</td>\n",
       "      <td>[(email, NN), (communications, NNS), (between, IN), (stephanie, JJ), (shook, NN), (dave, VBP), (kraski, VBN), (bruce, NN), (stedman, NN), (and, CC), (chad, VBD), (schmidt, VBN), (in, IN), (regards, NNS), (to, TO), (fire, VB), (protection, NN), (district, NN), (billing, NN), (and, CC), (passage, NN), (of, IN), (contract, NN), (for, IN), (als, NNS), (services, NNS), (also, RB), (any, DT), (copies, NNS), (of, IN), (agenda, NN), (bills, NNS), (d, VBP), (contract, NN), (and, CC), (materials, NNS), (presented, VBN), (for, IN), (review, NN), (in, IN), (novdec, JJ), (time, NN), (frame, NN), (in, IN), (regards, NNS), (to, TO), (the, DT), (contract, NN)]</td>\n",
       "      <td>[email, communication, stephanie, shook, dave, kraski, bruce, stedman, chad, schmidt, regard, fire, protection, district, billing, passage, contract, al, service, also, copy, agenda, bill, contract, material, present, review, novdec, time, frame, regard, contract]</td>\n",
       "      <td>32</td>\n",
       "      <td>[email_communication, communication_stephanie, stephanie_shook, shook_dave, dave_kraski, kraski_bruce, bruce_stedman, stedman_chad, chad_schmidt, schmidt_regard, regard_fire, fire_protection, protection_district, district_billing, billing_passage, passage_contract, contract_al, al_service, service_also, also_copy, copy_agenda, agenda_bill, bill_contract, contract_material, material_present, present_review, review_novdec, novdec_time, time_frame, frame_regard, regard_contract]</td>\n",
       "    </tr>\n",
       "  </tbody>\n",
       "</table>\n",
       "</div>"
      ],
      "text/plain": [
       "   index                                                                                                                                                                                                                                                                                                                                                                                                                                                                                Summary       city month_year                                                                                                                                                                                                                                                                                                                                                                                                                                                       sum_ed  \\\n",
       "0      0  We are working with an engineering firm on an upcoming project.  They have asked us to gather maps for this project.  Would you be able to assist me in gathering maps/records (as builds) for any underground water facilities you may have?  Something just showing the route of the water lines would do.\\n\\n207th ST NE to 92nd Ave NE, Arlington, Cascade Surveying & Engineering \\n\\nI have attached the scope for your convenience.  Please let me know if you have questions.  Arlington    2018-06  we are working with an engineering firm on an upcoming project  they have asked us to gather maps for this project  would you be able to assist me in gathering mapsrecords as builds for any underground water facilities you may have  something just showing the route of the water lines would do\\n\\nth st ne to nd ave ne  cascade surveying  engineering \\n\\ni have attached the scope for your convenience  please let me know if you have questions   \n",
       "1      1                                                                                                                                                                                                                                                   Need copies of contracts and all related documents pertaining to Topcub Aircraft property located at 17922 59th DR NE Arlington WA 98223 between Arlington Airport, Topcub Aircraft, City of Arlington, HCI Steel Buildings and PUD.  Arlington    2018-06                                                                                                                                                                                                                                                                    need copies of contracts and all related documents pertaining to topcub aircraft property located at  th dr ne  wa  between  airport topcub aircraft city of  hci steel buildings and pud   \n",
       "2      2                                                                                                                                                                                                                                       Copies of Building Permits of $5,000 valuation and up ($20,000 min for Re-Roofs), ($50,000 min. for Cell Tower upgrades), (Electrical, Mechanical & Plumbing at $100,000 min.) and (Solar Panels, Swimming Pools & Foundations at any valuation)  Arlington    2018-06                                                                                                                                                                                                                                                          copies of building permits of  valuation and up  min for reroofs  min for cell tower upgrades electrical mechanical  plumbing at  min and solar panels swimming pools  foundations at any valuation   \n",
       "3      3                                                                                                                                                                                    police report filed to an officer against Wayne Parris (DOB 08-03-1957) from Brittany J. Parris. The paperwork I have has a case number D18-39 it is also stamped at the bottom with 18-1294, Iím not sure which number you will need. If there is any other information needed please let me know.  Arlington    2018-06                                                                                                                                                                                       police report filed to an officer against wayne parris dob  from brittany j parris the paperwork i have has a case number d it is also stamped at the bottom with  iím not sure which number you will need if there is any other information needed please let me know   \n",
       "4      4                                                                                                                                                           Email Communications between Stephanie Shook, Dave Kraski, Bruce Stedman and Chad Schmidt in regards to Fire Protection District 21 billing and passage of contract for ALS Services. \\n\\nAlso any copies of Agenda Bills, D21 Contract and materials presented for review in Nov/Dec time frame in regards to the contract.  Arlington    2018-06                                                                                                                                           email communications between stephanie shook dave kraski bruce stedman and chad schmidt in regards to fire protection district  billing and passage of contract for als services \\n\\nalso any copies of agenda bills d contract and materials presented for review in novdec time frame in regards to the contract   \n",
       "\n",
       "                                                                                                                                                                                                                                                                                                                                                                                                                                                                                                                           token  \\\n",
       "0  [we, are, working, with, an, engineering, firm, on, an, upcoming, project, they, have, asked, us, to, gather, maps, for, this, project, would, you, be, able, to, assist, me, in, gathering, mapsrecords, as, builds, for, any, underground, water, facilities, you, may, have, something, just, showing, the, route, of, the, water, lines, would, do, th, st, ne, to, nd, ave, ne, cascade, surveying, engineering, i, have, attached, the, scope, for, your, convenience, please, let, me, know, if, you, have, questions]   \n",
       "1                                                                                                                                                                                                                                                                                                            [need, copies, of, contracts, and, all, related, documents, pertaining, to, topcub, aircraft, property, located, at, th, dr, ne, wa, between, airport, topcub, aircraft, city, of, hci, steel, buildings, and, pud]   \n",
       "2                                                                                                                                                                                                                                                                                                   [copies, of, building, permits, of, valuation, and, up, min, for, reroofs, min, for, cell, tower, upgrades, electrical, mechanical, plumbing, at, min, and, solar, panels, swimming, pools, foundations, at, any, valuation]   \n",
       "3                                                                                                                                                                                                        [police, report, filed, to, an, officer, against, wayne, parris, dob, from, brittany, j, parris, the, paperwork, i, have, has, a, case, number, d, it, is, also, stamped, at, the, bottom, with, iím, not, sure, which, number, you, will, need, if, there, is, any, other, information, needed, please, let, me, know]   \n",
       "4                                                                                                                                                                 [email, communications, between, stephanie, shook, dave, kraski, bruce, stedman, and, chad, schmidt, in, regards, to, fire, protection, district, billing, and, passage, of, contract, for, als, services, also, any, copies, of, agenda, bills, d, contract, and, materials, presented, for, review, in, novdec, time, frame, in, regards, to, the, contract]   \n",
       "\n",
       "                                                                                                                                                                                                                                                                                                                                                                                                                                                                                                                                                                                                                                                                                                                                                                                                                                                                                                                                                                                                                                     lemma  \\\n",
       "0  [(we, PRP), (are, VBP), (working, VBG), (with, IN), (an, DT), (engineering, NN), (firm, NN), (on, IN), (an, DT), (upcoming, JJ), (project, NN), (they, PRP), (have, VBP), (asked, VBN), (us, PRP), (to, TO), (gather, VB), (maps, NNS), (for, IN), (this, DT), (project, NN), (would, MD), (you, PRP), (be, VB), (able, JJ), (to, TO), (assist, VB), (me, PRP), (in, IN), (gathering, VBG), (mapsrecords, NNS), (as, IN), (builds, NNS), (for, IN), (any, DT), (underground, JJ), (water, NN), (facilities, NNS), (you, PRP), (may, MD), (have, VB), (something, NN), (just, RB), (showing, VBG), (the, DT), (route, NN), (of, IN), (the, DT), (water, NN), (lines, NNS), (would, MD), (do, VB), (th, VB), (st, VB), (ne, JJ), (to, TO), (nd, VB), (ave, VB), (ne, JJ), (cascade, NN), (surveying, VBG), (engineering, NN), (i, NN), (have, VBP), (attached, VBN), (the, DT), (scope, NN), (for, IN), (your, PRP$), (convenience, NN), (please, NN), (let, VB), (me, PRP), (know, VB), (if, IN), (you, PRP), (have, VBP), (questions...   \n",
       "1                                                                                                                                                                                                                                                                                                                                                                                                                                                                                                                                                                                                                            [(need, NN), (copies, NNS), (of, IN), (contracts, NNS), (and, CC), (all, DT), (related, JJ), (documents, NNS), (pertaining, VBG), (to, TO), (topcub, VB), (aircraft, NN), (property, NN), (located, VBN), (at, IN), (th, NN), (dr, NN), (ne, JJ), (wa, NN), (between, IN), (airport, NN), (topcub, NN), (aircraft, NN), (city, NN), (of, IN), (hci, JJ), (steel, NN), (buildings, NNS), (and, CC), (pud, NN)]   \n",
       "2                                                                                                                                                                                                                                                                                                                                                                                                                                                                                                                                                                                                                   [(copies, NNS), (of, IN), (building, VBG), (permits, NNS), (of, IN), (valuation, NN), (and, CC), (up, RB), (min, NN), (for, IN), (reroofs, NN), (min, NN), (for, IN), (cell, NN), (tower, NN), (upgrades, JJ), (electrical, JJ), (mechanical, JJ), (plumbing, NN), (at, IN), (min, NN), (and, CC), (solar, JJ), (panels, NNS), (swimming, VBG), (pools, JJ), (foundations, NNS), (at, IN), (any, DT), (valuation, NN)]   \n",
       "3                                                                                                                                                                                                                                                                                                                                                                                         [(police, NNS), (report, NN), (filed, VBD), (to, TO), (an, DT), (officer, NN), (against, IN), (wayne, JJ), (parris, JJ), (dob, NN), (from, IN), (brittany, JJ), (j, NN), (parris, VBD), (the, DT), (paperwork, NN), (i, NN), (have, VBP), (has, VBZ), (a, DT), (case, NN), (number, NN), (d, NN), (it, PRP), (is, VBZ), (also, RB), (stamped, VBN), (at, IN), (the, DT), (bottom, NN), (with, IN), (iím, JJ), (not, RB), (sure, JJ), (which, WDT), (number, NN), (you, PRP), (will, MD), (need, VB), (if, IN), (there, EX), (is, VBZ), (any, DT), (other, JJ), (information, NN), (needed, VBN), (please, NN), (let, VB), (me, PRP), (know, VB)]   \n",
       "4                                                                                                                                                                                                                                                                                                                                                             [(email, NN), (communications, NNS), (between, IN), (stephanie, JJ), (shook, NN), (dave, VBP), (kraski, VBN), (bruce, NN), (stedman, NN), (and, CC), (chad, VBD), (schmidt, VBN), (in, IN), (regards, NNS), (to, TO), (fire, VB), (protection, NN), (district, NN), (billing, NN), (and, CC), (passage, NN), (of, IN), (contract, NN), (for, IN), (als, NNS), (services, NNS), (also, RB), (any, DT), (copies, NNS), (of, IN), (agenda, NN), (bills, NNS), (d, VBP), (contract, NN), (and, CC), (materials, NNS), (presented, VBN), (for, IN), (review, NN), (in, IN), (novdec, JJ), (time, NN), (frame, NN), (in, IN), (regards, NNS), (to, TO), (the, DT), (contract, NN)]   \n",
       "\n",
       "                                                                                                                                                                                                                                                                                                                         mash  mash_len                                                                                                                                                                                                                                                                                                                                                                                                                                                                                                                                                                                      bigrams  \n",
       "0  [work, engineering, firm, upcoming, project, ask, u, gather, map, project, would, able, assist, gather, mapsrecords, build, underground, water, facility, may, something, show, route, water, line, would, th, st, ne, nd, ave, ne, cascade, survey, engineering, attach, scope, convenience, please, let, know, question]        42  [work_engineering, engineering_firm, firm_upcoming, upcoming_project, project_ask, ask_u, u_gather, gather_map, map_project, project_would, would_able, able_assist, assist_gather, gather_mapsrecords, mapsrecords_build, build_underground, underground_water, water_facility, facility_may, may_something, something_show, show_route, route_water, water_line, line_would, would_th, th_st, st_ne, ne_nd, nd_ave, ave_ne, ne_cascade, cascade_survey, survey_engineering, engineering_attach, attach_scope, scope_convenience, convenience_please, please_let, let_know, know_question]  \n",
       "1                                                                                                                                                          [need, copy, contract, related, document, pertain, topcub, aircraft, property, locate, th, dr, ne, wa, airport, topcub, aircraft, city, hci, steel, building, pud]        22                                                                                                                                                                                                                                                                                         [need_copy, copy_contract, contract_related, related_document, document_pertain, pertain_topcub, topcub_aircraft, aircraft_property, property_locate, locate_th, th_dr, dr_ne, ne_wa, wa_airport, airport_topcub, topcub_aircraft, aircraft_city, city_hci, hci_steel, steel_building, building_pud]  \n",
       "2                                                                                                                                                         [copy, build, permit, valuation, min, reroofs, min, cell, tower, upgrades, electrical, mechanical, plumbing, min, solar, panel, swim, pools, foundation, valuation]        20                                                                                                                                                                                                                                                                                           [copy_build, build_permit, permit_valuation, valuation_min, min_reroofs, reroofs_min, min_cell, cell_tower, tower_upgrades, upgrades_electrical, electrical_mechanical, mechanical_plumbing, plumbing_min, min_solar, solar_panel, panel_swim, swim_pools, pools_foundation, foundation_valuation]  \n",
       "3                                                                                                                                       [police, report, file, officer, wayne, parris, dob, brittany, j, parris, paperwork, case, number, also, stamp, bottom, iím, sure, number, need, information, need, please, let, know]        25                                                                                                                                                                                                                                                         [police_report, report_file, file_officer, officer_wayne, wayne_parris, parris_dob, dob_brittany, brittany_j, j_parris, parris_paperwork, paperwork_case, case_number, number_also, also_stamp, stamp_bottom, bottom_iím, iím_sure, sure_number, number_need, need_information, information_need, need_please, please_let, let_know]  \n",
       "4                                                    [email, communication, stephanie, shook, dave, kraski, bruce, stedman, chad, schmidt, regard, fire, protection, district, billing, passage, contract, al, service, also, copy, agenda, bill, contract, material, present, review, novdec, time, frame, regard, contract]        32                                                                                             [email_communication, communication_stephanie, stephanie_shook, shook_dave, dave_kraski, kraski_bruce, bruce_stedman, stedman_chad, chad_schmidt, schmidt_regard, regard_fire, fire_protection, protection_district, district_billing, billing_passage, passage_contract, contract_al, al_service, service_also, also_copy, copy_agenda, agenda_bill, bill_contract, contract_material, material_present, present_review, review_novdec, novdec_time, time_frame, frame_regard, regard_contract]  "
      ]
     },
     "execution_count": 12,
     "metadata": {},
     "output_type": "execute_result"
    }
   ],
   "source": [
    "data.head()"
   ]
  },
  {
   "cell_type": "markdown",
   "metadata": {},
   "source": [
    "### Identify and remove commonly used words in PRRs"
   ]
  },
  {
   "cell_type": "code",
   "execution_count": 34,
   "metadata": {},
   "outputs": [
    {
     "data": {
      "text/plain": [
       "[('report', 30544),\n",
       " ('request', 29113),\n",
       " ('record', 26821),\n",
       " ('city', 18382),\n",
       " ('please', 18067),\n",
       " ('copy', 17480),\n",
       " ('police', 13216),\n",
       " ('date', 13110),\n",
       " ('property', 11584),\n",
       " ('street', 11495),\n",
       " ('information', 10945),\n",
       " ('th', 10631),\n",
       " ('number', 10611),\n",
       " ('driver', 10537),\n",
       " ('would', 9966),\n",
       " ('include', 9398),\n",
       " ('document', 9380),\n",
       " ('provide', 9242),\n",
       " ('wa', 8842),\n",
       " ('public', 8796),\n",
       " ('permit', 8660),\n",
       " ('case', 8620),\n",
       " ('accident', 7879),\n",
       " ('st', 7845),\n",
       " ('location', 7798),\n",
       " ('like', 7595),\n",
       " ('state', 7446),\n",
       " ('email', 7236),\n",
       " ('thank', 7219),\n",
       " ('incident', 7213),\n",
       " ('address', 6804),\n",
       " ('regard', 6730),\n",
       " ('insurance', 6498),\n",
       " ('ne', 6383),\n",
       " ('building', 6376),\n",
       " ('relate', 6349),\n",
       " ('ave', 6224),\n",
       " ('department', 6089),\n",
       " ('plan', 5736),\n",
       " ('type', 5709),\n",
       " ('county', 5615),\n",
       " ('company', 5538),\n",
       " ('following', 5506),\n",
       " ('file', 5458),\n",
       " ('fire', 5334),\n",
       " ('code', 5296),\n",
       " ('auto', 5273),\n",
       " ('loss', 5202),\n",
       " ('need', 5041),\n",
       " ('insure', 4963)]"
      ]
     },
     "execution_count": 34,
     "metadata": {},
     "output_type": "execute_result"
    }
   ],
   "source": [
    "word_list = [y for x in list(data['mash']) for y in x]\n",
    "counts = Counter(word_list)\n",
    "Counter(word_list).most_common(50)"
   ]
  },
  {
   "cell_type": "code",
   "execution_count": null,
   "metadata": {
    "collapsed": true
   },
   "outputs": [],
   "source": [
    "Counter(word_list).most_common()[-50:-1]"
   ]
  },
  {
   "cell_type": "code",
   "execution_count": 18,
   "metadata": {
    "collapsed": true
   },
   "outputs": [],
   "source": [
    "common_list = ['report', 'request', 'record', 'city', 'please', 'copy', 'date', 'information', 'would',\n",
    "              'include', 'document', 'provide', 'like', 'thank', 'need', 'know', 'thanks']"
   ]
  },
  {
   "cell_type": "code",
   "execution_count": 3,
   "metadata": {},
   "outputs": [
    {
     "data": {
      "text/plain": [
       "True"
      ]
     },
     "execution_count": 3,
     "metadata": {},
     "output_type": "execute_result"
    }
   ],
   "source": [
    "\"request\" in common_list"
   ]
  },
  {
   "cell_type": "code",
   "execution_count": 19,
   "metadata": {
    "collapsed": true
   },
   "outputs": [],
   "source": [
    "# remove general words that are common to public record requests\n",
    "\n",
    "#for word in common_list:\n",
    "data['mash'] = data['mash'].apply(lambda x: [i for i in x if i not in common_list])"
   ]
  },
  {
   "cell_type": "code",
   "execution_count": 20,
   "metadata": {
    "collapsed": true
   },
   "outputs": [],
   "source": [
    "# remove number suffixes\n",
    "suffix_list = ['th', 'nd', 'st', 'rd']\n",
    "#for word in suffix_list:\n",
    "data['mash'] = data['mash'].apply(lambda x: [i for i in x if i not in suffix_list])"
   ]
  },
  {
   "cell_type": "code",
   "execution_count": 21,
   "metadata": {
    "collapsed": true
   },
   "outputs": [],
   "source": [
    "# remove city and state abbreviations\n",
    "abbv_list = ['wa', 'nc', 'co', 'ca', 'oh', 'tx', 'nm', 'fl', 'ma', 'la', 'ok', 'az', 'ri', 'va', \n",
    "             'francisco', 'sf', 'okc', 'lv', 'nola', 'slc']\n",
    "#for word in suffix_list:\n",
    "data['mash'] = data['mash'].apply(lambda x: [i for i in x if i not in abbv_list])"
   ]
  },
  {
   "cell_type": "code",
   "execution_count": 22,
   "metadata": {},
   "outputs": [
    {
     "data": {
      "text/html": [
       "<div>\n",
       "<style scoped>\n",
       "    .dataframe tbody tr th:only-of-type {\n",
       "        vertical-align: middle;\n",
       "    }\n",
       "\n",
       "    .dataframe tbody tr th {\n",
       "        vertical-align: top;\n",
       "    }\n",
       "\n",
       "    .dataframe thead th {\n",
       "        text-align: right;\n",
       "    }\n",
       "</style>\n",
       "<table border=\"1\" class=\"dataframe\">\n",
       "  <thead>\n",
       "    <tr style=\"text-align: right;\">\n",
       "      <th></th>\n",
       "      <th>index</th>\n",
       "      <th>Summary</th>\n",
       "      <th>city</th>\n",
       "      <th>month_year</th>\n",
       "      <th>sum_ed</th>\n",
       "      <th>token</th>\n",
       "      <th>lemma</th>\n",
       "      <th>mash</th>\n",
       "      <th>mash_len</th>\n",
       "      <th>bigrams</th>\n",
       "      <th>common_bigrams</th>\n",
       "    </tr>\n",
       "  </thead>\n",
       "  <tbody>\n",
       "    <tr>\n",
       "      <th>0</th>\n",
       "      <td>0</td>\n",
       "      <td>We are working with an engineering firm on an upcoming project.  They have asked us to gather maps for this project.  Would you be able to assist me in gathering maps/records (as builds) for any underground water facilities you may have?  Something just showing the route of the water lines would do.\\n\\n207th ST NE to 92nd Ave NE, Arlington, Cascade Surveying &amp; Engineering \\n\\nI have attached the scope for your convenience.  Please let me know if you have questions.</td>\n",
       "      <td>Arlington</td>\n",
       "      <td>2018-06</td>\n",
       "      <td>we are working with an engineering firm on an upcoming project  they have asked us to gather maps for this project  would you be able to assist me in gathering mapsrecords as builds for any underground water facilities you may have  something just showing the route of the water lines would do\\n\\nth st ne to nd ave ne  cascade surveying  engineering \\n\\ni have attached the scope for your convenience  please let me know if you have questions</td>\n",
       "      <td>[we, are, working, with, an, engineering, firm, on, an, upcoming, project, they, have, asked, us, to, gather, maps, for, this, project, would, you, be, able, to, assist, me, in, gathering, mapsrecords, as, builds, for, any, underground, water, facilities, you, may, have, something, just, showing, the, route, of, the, water, lines, would, do, th, st, ne, to, nd, ave, ne, cascade, surveying, engineering, i, have, attached, the, scope, for, your, convenience, please, let, me, know, if, you, have, questions]</td>\n",
       "      <td>[(we, PRP), (are, VBP), (working, VBG), (with, IN), (an, DT), (engineering, NN), (firm, NN), (on, IN), (an, DT), (upcoming, JJ), (project, NN), (they, PRP), (have, VBP), (asked, VBN), (us, PRP), (to, TO), (gather, VB), (maps, NNS), (for, IN), (this, DT), (project, NN), (would, MD), (you, PRP), (be, VB), (able, JJ), (to, TO), (assist, VB), (me, PRP), (in, IN), (gathering, VBG), (mapsrecords, NNS), (as, IN), (builds, NNS), (for, IN), (any, DT), (underground, JJ), (water, NN), (facilities, NNS), (you, PRP), (may, MD), (have, VB), (something, NN), (just, RB), (showing, VBG), (the, DT), (route, NN), (of, IN), (the, DT), (water, NN), (lines, NNS), (would, MD), (do, VB), (th, VB), (st, VB), (ne, JJ), (to, TO), (nd, VB), (ave, VB), (ne, JJ), (cascade, NN), (surveying, VBG), (engineering, NN), (i, NN), (have, VBP), (attached, VBN), (the, DT), (scope, NN), (for, IN), (your, PRP$), (convenience, NN), (please, NN), (let, VB), (me, PRP), (know, VB), (if, IN), (you, PRP), (have, VBP), (questions...</td>\n",
       "      <td>[work, engineering, firm, upcoming, project, ask, u, gather, map, project, able, assist, gather, mapsrecords, build, underground, water, facility, may, something, show, route, water, line, ne, ave, ne, cascade, survey, engineering, attach, scope, convenience, let, question]</td>\n",
       "      <td>42</td>\n",
       "      <td>[work_engineering, engineering_firm, firm_upcoming, upcoming_project, project_ask, ask_u, u_gather, gather_map, map_project, project_would, would_able, able_assist, assist_gather, gather_mapsrecords, mapsrecords_build, build_underground, underground_water, water_facility, facility_may, may_something, something_show, show_route, route_water, water_line, line_would, would_th, th_st, st_ne, ne_nd, nd_ave, ave_ne, ne_cascade, cascade_survey, survey_engineering, engineering_attach, attach_scope, scope_convenience, convenience_please, please_let, let_know, know_question]</td>\n",
       "      <td>[]</td>\n",
       "    </tr>\n",
       "    <tr>\n",
       "      <th>1</th>\n",
       "      <td>1</td>\n",
       "      <td>Need copies of contracts and all related documents pertaining to Topcub Aircraft property located at 17922 59th DR NE Arlington WA 98223 between Arlington Airport, Topcub Aircraft, City of Arlington, HCI Steel Buildings and PUD.</td>\n",
       "      <td>Arlington</td>\n",
       "      <td>2018-06</td>\n",
       "      <td>need copies of contracts and all related documents pertaining to topcub aircraft property located at  th dr ne  wa  between  airport topcub aircraft city of  hci steel buildings and pud</td>\n",
       "      <td>[need, copies, of, contracts, and, all, related, documents, pertaining, to, topcub, aircraft, property, located, at, th, dr, ne, wa, between, airport, topcub, aircraft, city, of, hci, steel, buildings, and, pud]</td>\n",
       "      <td>[(need, NN), (copies, NNS), (of, IN), (contracts, NNS), (and, CC), (all, DT), (related, JJ), (documents, NNS), (pertaining, VBG), (to, TO), (topcub, VB), (aircraft, NN), (property, NN), (located, VBN), (at, IN), (th, NN), (dr, NN), (ne, JJ), (wa, NN), (between, IN), (airport, NN), (topcub, NN), (aircraft, NN), (city, NN), (of, IN), (hci, JJ), (steel, NN), (buildings, NNS), (and, CC), (pud, NN)]</td>\n",
       "      <td>[contract, related, pertain, topcub, aircraft, property, locate, dr, ne, airport, topcub, aircraft, hci, steel, building, pud]</td>\n",
       "      <td>22</td>\n",
       "      <td>[need_copy, copy_contract, contract_related, related_document, document_pertain, pertain_topcub, topcub_aircraft, aircraft_property, property_locate, locate_th, th_dr, dr_ne, ne_wa, wa_airport, airport_topcub, topcub_aircraft, aircraft_city, city_hci, hci_steel, steel_building, building_pud]</td>\n",
       "      <td>[property_locate]</td>\n",
       "    </tr>\n",
       "    <tr>\n",
       "      <th>2</th>\n",
       "      <td>2</td>\n",
       "      <td>Copies of Building Permits of $5,000 valuation and up ($20,000 min for Re-Roofs), ($50,000 min. for Cell Tower upgrades), (Electrical, Mechanical &amp; Plumbing at $100,000 min.) and (Solar Panels, Swimming Pools &amp; Foundations at any valuation)</td>\n",
       "      <td>Arlington</td>\n",
       "      <td>2018-06</td>\n",
       "      <td>copies of building permits of  valuation and up  min for reroofs  min for cell tower upgrades electrical mechanical  plumbing at  min and solar panels swimming pools  foundations at any valuation</td>\n",
       "      <td>[copies, of, building, permits, of, valuation, and, up, min, for, reroofs, min, for, cell, tower, upgrades, electrical, mechanical, plumbing, at, min, and, solar, panels, swimming, pools, foundations, at, any, valuation]</td>\n",
       "      <td>[(copies, NNS), (of, IN), (building, VBG), (permits, NNS), (of, IN), (valuation, NN), (and, CC), (up, RB), (min, NN), (for, IN), (reroofs, NN), (min, NN), (for, IN), (cell, NN), (tower, NN), (upgrades, JJ), (electrical, JJ), (mechanical, JJ), (plumbing, NN), (at, IN), (min, NN), (and, CC), (solar, JJ), (panels, NNS), (swimming, VBG), (pools, JJ), (foundations, NNS), (at, IN), (any, DT), (valuation, NN)]</td>\n",
       "      <td>[build, permit, valuation, min, reroofs, min, cell, tower, upgrades, electrical, mechanical, plumbing, min, solar, panel, swim, pools, foundation, valuation]</td>\n",
       "      <td>20</td>\n",
       "      <td>[copy_build, build_permit, permit_valuation, valuation_min, min_reroofs, reroofs_min, min_cell, cell_tower, tower_upgrades, upgrades_electrical, electrical_mechanical, mechanical_plumbing, plumbing_min, min_solar, solar_panel, panel_swim, swim_pools, pools_foundation, foundation_valuation]</td>\n",
       "      <td>[]</td>\n",
       "    </tr>\n",
       "    <tr>\n",
       "      <th>3</th>\n",
       "      <td>3</td>\n",
       "      <td>police report filed to an officer against Wayne Parris (DOB 08-03-1957) from Brittany J. Parris. The paperwork I have has a case number D18-39 it is also stamped at the bottom with 18-1294, Iím not sure which number you will need. If there is any other information needed please let me know.</td>\n",
       "      <td>Arlington</td>\n",
       "      <td>2018-06</td>\n",
       "      <td>police report filed to an officer against wayne parris dob  from brittany j parris the paperwork i have has a case number d it is also stamped at the bottom with  iím not sure which number you will need if there is any other information needed please let me know</td>\n",
       "      <td>[police, report, filed, to, an, officer, against, wayne, parris, dob, from, brittany, j, parris, the, paperwork, i, have, has, a, case, number, d, it, is, also, stamped, at, the, bottom, with, iím, not, sure, which, number, you, will, need, if, there, is, any, other, information, needed, please, let, me, know]</td>\n",
       "      <td>[(police, NNS), (report, NN), (filed, VBD), (to, TO), (an, DT), (officer, NN), (against, IN), (wayne, JJ), (parris, JJ), (dob, NN), (from, IN), (brittany, JJ), (j, NN), (parris, VBD), (the, DT), (paperwork, NN), (i, NN), (have, VBP), (has, VBZ), (a, DT), (case, NN), (number, NN), (d, NN), (it, PRP), (is, VBZ), (also, RB), (stamped, VBN), (at, IN), (the, DT), (bottom, NN), (with, IN), (iím, JJ), (not, RB), (sure, JJ), (which, WDT), (number, NN), (you, PRP), (will, MD), (need, VB), (if, IN), (there, EX), (is, VBZ), (any, DT), (other, JJ), (information, NN), (needed, VBN), (please, NN), (let, VB), (me, PRP), (know, VB)]</td>\n",
       "      <td>[police, file, officer, wayne, parris, dob, brittany, j, parris, paperwork, case, number, also, stamp, bottom, iím, sure, number, let]</td>\n",
       "      <td>25</td>\n",
       "      <td>[police_report, report_file, file_officer, officer_wayne, wayne_parris, parris_dob, dob_brittany, brittany_j, j_parris, parris_paperwork, paperwork_case, case_number, number_also, also_stamp, stamp_bottom, bottom_iím, iím_sure, sure_number, number_need, need_information, information_need, need_please, please_let, let_know]</td>\n",
       "      <td>[police_report, case_number]</td>\n",
       "    </tr>\n",
       "    <tr>\n",
       "      <th>4</th>\n",
       "      <td>4</td>\n",
       "      <td>Email Communications between Stephanie Shook, Dave Kraski, Bruce Stedman and Chad Schmidt in regards to Fire Protection District 21 billing and passage of contract for ALS Services. \\n\\nAlso any copies of Agenda Bills, D21 Contract and materials presented for review in Nov/Dec time frame in regards to the contract.</td>\n",
       "      <td>Arlington</td>\n",
       "      <td>2018-06</td>\n",
       "      <td>email communications between stephanie shook dave kraski bruce stedman and chad schmidt in regards to fire protection district  billing and passage of contract for als services \\n\\nalso any copies of agenda bills d contract and materials presented for review in novdec time frame in regards to the contract</td>\n",
       "      <td>[email, communications, between, stephanie, shook, dave, kraski, bruce, stedman, and, chad, schmidt, in, regards, to, fire, protection, district, billing, and, passage, of, contract, for, als, services, also, any, copies, of, agenda, bills, d, contract, and, materials, presented, for, review, in, novdec, time, frame, in, regards, to, the, contract]</td>\n",
       "      <td>[(email, NN), (communications, NNS), (between, IN), (stephanie, JJ), (shook, NN), (dave, VBP), (kraski, VBN), (bruce, NN), (stedman, NN), (and, CC), (chad, VBD), (schmidt, VBN), (in, IN), (regards, NNS), (to, TO), (fire, VB), (protection, NN), (district, NN), (billing, NN), (and, CC), (passage, NN), (of, IN), (contract, NN), (for, IN), (als, NNS), (services, NNS), (also, RB), (any, DT), (copies, NNS), (of, IN), (agenda, NN), (bills, NNS), (d, VBP), (contract, NN), (and, CC), (materials, NNS), (presented, VBN), (for, IN), (review, NN), (in, IN), (novdec, JJ), (time, NN), (frame, NN), (in, IN), (regards, NNS), (to, TO), (the, DT), (contract, NN)]</td>\n",
       "      <td>[email, communication, stephanie, shook, dave, kraski, bruce, stedman, chad, schmidt, regard, fire, protection, district, billing, passage, contract, al, service, also, agenda, bill, contract, material, present, review, novdec, time, frame, regard, contract]</td>\n",
       "      <td>32</td>\n",
       "      <td>[email_communication, communication_stephanie, stephanie_shook, shook_dave, dave_kraski, kraski_bruce, bruce_stedman, stedman_chad, chad_schmidt, schmidt_regard, regard_fire, fire_protection, protection_district, district_billing, billing_passage, passage_contract, contract_al, al_service, service_also, also_copy, copy_agenda, agenda_bill, bill_contract, contract_material, material_present, present_review, review_novdec, novdec_time, time_frame, frame_regard, regard_contract]</td>\n",
       "      <td>[]</td>\n",
       "    </tr>\n",
       "  </tbody>\n",
       "</table>\n",
       "</div>"
      ],
      "text/plain": [
       "   index                                                                                                                                                                                                                                                                                                                                                                                                                                                                                Summary       city month_year                                                                                                                                                                                                                                                                                                                                                                                                                                                       sum_ed  \\\n",
       "0      0  We are working with an engineering firm on an upcoming project.  They have asked us to gather maps for this project.  Would you be able to assist me in gathering maps/records (as builds) for any underground water facilities you may have?  Something just showing the route of the water lines would do.\\n\\n207th ST NE to 92nd Ave NE, Arlington, Cascade Surveying & Engineering \\n\\nI have attached the scope for your convenience.  Please let me know if you have questions.  Arlington    2018-06  we are working with an engineering firm on an upcoming project  they have asked us to gather maps for this project  would you be able to assist me in gathering mapsrecords as builds for any underground water facilities you may have  something just showing the route of the water lines would do\\n\\nth st ne to nd ave ne  cascade surveying  engineering \\n\\ni have attached the scope for your convenience  please let me know if you have questions   \n",
       "1      1                                                                                                                                                                                                                                                   Need copies of contracts and all related documents pertaining to Topcub Aircraft property located at 17922 59th DR NE Arlington WA 98223 between Arlington Airport, Topcub Aircraft, City of Arlington, HCI Steel Buildings and PUD.  Arlington    2018-06                                                                                                                                                                                                                                                                    need copies of contracts and all related documents pertaining to topcub aircraft property located at  th dr ne  wa  between  airport topcub aircraft city of  hci steel buildings and pud   \n",
       "2      2                                                                                                                                                                                                                                       Copies of Building Permits of $5,000 valuation and up ($20,000 min for Re-Roofs), ($50,000 min. for Cell Tower upgrades), (Electrical, Mechanical & Plumbing at $100,000 min.) and (Solar Panels, Swimming Pools & Foundations at any valuation)  Arlington    2018-06                                                                                                                                                                                                                                                          copies of building permits of  valuation and up  min for reroofs  min for cell tower upgrades electrical mechanical  plumbing at  min and solar panels swimming pools  foundations at any valuation   \n",
       "3      3                                                                                                                                                                                    police report filed to an officer against Wayne Parris (DOB 08-03-1957) from Brittany J. Parris. The paperwork I have has a case number D18-39 it is also stamped at the bottom with 18-1294, Iím not sure which number you will need. If there is any other information needed please let me know.  Arlington    2018-06                                                                                                                                                                                       police report filed to an officer against wayne parris dob  from brittany j parris the paperwork i have has a case number d it is also stamped at the bottom with  iím not sure which number you will need if there is any other information needed please let me know   \n",
       "4      4                                                                                                                                                           Email Communications between Stephanie Shook, Dave Kraski, Bruce Stedman and Chad Schmidt in regards to Fire Protection District 21 billing and passage of contract for ALS Services. \\n\\nAlso any copies of Agenda Bills, D21 Contract and materials presented for review in Nov/Dec time frame in regards to the contract.  Arlington    2018-06                                                                                                                                           email communications between stephanie shook dave kraski bruce stedman and chad schmidt in regards to fire protection district  billing and passage of contract for als services \\n\\nalso any copies of agenda bills d contract and materials presented for review in novdec time frame in regards to the contract   \n",
       "\n",
       "                                                                                                                                                                                                                                                                                                                                                                                                                                                                                                                           token  \\\n",
       "0  [we, are, working, with, an, engineering, firm, on, an, upcoming, project, they, have, asked, us, to, gather, maps, for, this, project, would, you, be, able, to, assist, me, in, gathering, mapsrecords, as, builds, for, any, underground, water, facilities, you, may, have, something, just, showing, the, route, of, the, water, lines, would, do, th, st, ne, to, nd, ave, ne, cascade, surveying, engineering, i, have, attached, the, scope, for, your, convenience, please, let, me, know, if, you, have, questions]   \n",
       "1                                                                                                                                                                                                                                                                                                            [need, copies, of, contracts, and, all, related, documents, pertaining, to, topcub, aircraft, property, located, at, th, dr, ne, wa, between, airport, topcub, aircraft, city, of, hci, steel, buildings, and, pud]   \n",
       "2                                                                                                                                                                                                                                                                                                   [copies, of, building, permits, of, valuation, and, up, min, for, reroofs, min, for, cell, tower, upgrades, electrical, mechanical, plumbing, at, min, and, solar, panels, swimming, pools, foundations, at, any, valuation]   \n",
       "3                                                                                                                                                                                                        [police, report, filed, to, an, officer, against, wayne, parris, dob, from, brittany, j, parris, the, paperwork, i, have, has, a, case, number, d, it, is, also, stamped, at, the, bottom, with, iím, not, sure, which, number, you, will, need, if, there, is, any, other, information, needed, please, let, me, know]   \n",
       "4                                                                                                                                                                 [email, communications, between, stephanie, shook, dave, kraski, bruce, stedman, and, chad, schmidt, in, regards, to, fire, protection, district, billing, and, passage, of, contract, for, als, services, also, any, copies, of, agenda, bills, d, contract, and, materials, presented, for, review, in, novdec, time, frame, in, regards, to, the, contract]   \n",
       "\n",
       "                                                                                                                                                                                                                                                                                                                                                                                                                                                                                                                                                                                                                                                                                                                                                                                                                                                                                                                                                                                                                                     lemma  \\\n",
       "0  [(we, PRP), (are, VBP), (working, VBG), (with, IN), (an, DT), (engineering, NN), (firm, NN), (on, IN), (an, DT), (upcoming, JJ), (project, NN), (they, PRP), (have, VBP), (asked, VBN), (us, PRP), (to, TO), (gather, VB), (maps, NNS), (for, IN), (this, DT), (project, NN), (would, MD), (you, PRP), (be, VB), (able, JJ), (to, TO), (assist, VB), (me, PRP), (in, IN), (gathering, VBG), (mapsrecords, NNS), (as, IN), (builds, NNS), (for, IN), (any, DT), (underground, JJ), (water, NN), (facilities, NNS), (you, PRP), (may, MD), (have, VB), (something, NN), (just, RB), (showing, VBG), (the, DT), (route, NN), (of, IN), (the, DT), (water, NN), (lines, NNS), (would, MD), (do, VB), (th, VB), (st, VB), (ne, JJ), (to, TO), (nd, VB), (ave, VB), (ne, JJ), (cascade, NN), (surveying, VBG), (engineering, NN), (i, NN), (have, VBP), (attached, VBN), (the, DT), (scope, NN), (for, IN), (your, PRP$), (convenience, NN), (please, NN), (let, VB), (me, PRP), (know, VB), (if, IN), (you, PRP), (have, VBP), (questions...   \n",
       "1                                                                                                                                                                                                                                                                                                                                                                                                                                                                                                                                                                                                                            [(need, NN), (copies, NNS), (of, IN), (contracts, NNS), (and, CC), (all, DT), (related, JJ), (documents, NNS), (pertaining, VBG), (to, TO), (topcub, VB), (aircraft, NN), (property, NN), (located, VBN), (at, IN), (th, NN), (dr, NN), (ne, JJ), (wa, NN), (between, IN), (airport, NN), (topcub, NN), (aircraft, NN), (city, NN), (of, IN), (hci, JJ), (steel, NN), (buildings, NNS), (and, CC), (pud, NN)]   \n",
       "2                                                                                                                                                                                                                                                                                                                                                                                                                                                                                                                                                                                                                   [(copies, NNS), (of, IN), (building, VBG), (permits, NNS), (of, IN), (valuation, NN), (and, CC), (up, RB), (min, NN), (for, IN), (reroofs, NN), (min, NN), (for, IN), (cell, NN), (tower, NN), (upgrades, JJ), (electrical, JJ), (mechanical, JJ), (plumbing, NN), (at, IN), (min, NN), (and, CC), (solar, JJ), (panels, NNS), (swimming, VBG), (pools, JJ), (foundations, NNS), (at, IN), (any, DT), (valuation, NN)]   \n",
       "3                                                                                                                                                                                                                                                                                                                                                                                         [(police, NNS), (report, NN), (filed, VBD), (to, TO), (an, DT), (officer, NN), (against, IN), (wayne, JJ), (parris, JJ), (dob, NN), (from, IN), (brittany, JJ), (j, NN), (parris, VBD), (the, DT), (paperwork, NN), (i, NN), (have, VBP), (has, VBZ), (a, DT), (case, NN), (number, NN), (d, NN), (it, PRP), (is, VBZ), (also, RB), (stamped, VBN), (at, IN), (the, DT), (bottom, NN), (with, IN), (iím, JJ), (not, RB), (sure, JJ), (which, WDT), (number, NN), (you, PRP), (will, MD), (need, VB), (if, IN), (there, EX), (is, VBZ), (any, DT), (other, JJ), (information, NN), (needed, VBN), (please, NN), (let, VB), (me, PRP), (know, VB)]   \n",
       "4                                                                                                                                                                                                                                                                                                                                                             [(email, NN), (communications, NNS), (between, IN), (stephanie, JJ), (shook, NN), (dave, VBP), (kraski, VBN), (bruce, NN), (stedman, NN), (and, CC), (chad, VBD), (schmidt, VBN), (in, IN), (regards, NNS), (to, TO), (fire, VB), (protection, NN), (district, NN), (billing, NN), (and, CC), (passage, NN), (of, IN), (contract, NN), (for, IN), (als, NNS), (services, NNS), (also, RB), (any, DT), (copies, NNS), (of, IN), (agenda, NN), (bills, NNS), (d, VBP), (contract, NN), (and, CC), (materials, NNS), (presented, VBN), (for, IN), (review, NN), (in, IN), (novdec, JJ), (time, NN), (frame, NN), (in, IN), (regards, NNS), (to, TO), (the, DT), (contract, NN)]   \n",
       "\n",
       "                                                                                                                                                                                                                                                                                 mash  mash_len                                                                                                                                                                                                                                                                                                                                                                                                                                                                                                                                                                                      bigrams                common_bigrams  \n",
       "0  [work, engineering, firm, upcoming, project, ask, u, gather, map, project, able, assist, gather, mapsrecords, build, underground, water, facility, may, something, show, route, water, line, ne, ave, ne, cascade, survey, engineering, attach, scope, convenience, let, question]        42  [work_engineering, engineering_firm, firm_upcoming, upcoming_project, project_ask, ask_u, u_gather, gather_map, map_project, project_would, would_able, able_assist, assist_gather, gather_mapsrecords, mapsrecords_build, build_underground, underground_water, water_facility, facility_may, may_something, something_show, show_route, route_water, water_line, line_would, would_th, th_st, st_ne, ne_nd, nd_ave, ave_ne, ne_cascade, cascade_survey, survey_engineering, engineering_attach, attach_scope, scope_convenience, convenience_please, please_let, let_know, know_question]                            []  \n",
       "1                                                                                                                                                      [contract, related, pertain, topcub, aircraft, property, locate, dr, ne, airport, topcub, aircraft, hci, steel, building, pud]        22                                                                                                                                                                                                                                                                                         [need_copy, copy_contract, contract_related, related_document, document_pertain, pertain_topcub, topcub_aircraft, aircraft_property, property_locate, locate_th, th_dr, dr_ne, ne_wa, wa_airport, airport_topcub, topcub_aircraft, aircraft_city, city_hci, hci_steel, steel_building, building_pud]             [property_locate]  \n",
       "2                                                                                                                       [build, permit, valuation, min, reroofs, min, cell, tower, upgrades, electrical, mechanical, plumbing, min, solar, panel, swim, pools, foundation, valuation]        20                                                                                                                                                                                                                                                                                           [copy_build, build_permit, permit_valuation, valuation_min, min_reroofs, reroofs_min, min_cell, cell_tower, tower_upgrades, upgrades_electrical, electrical_mechanical, mechanical_plumbing, plumbing_min, min_solar, solar_panel, panel_swim, swim_pools, pools_foundation, foundation_valuation]                            []  \n",
       "3                                                                                                                                              [police, file, officer, wayne, parris, dob, brittany, j, parris, paperwork, case, number, also, stamp, bottom, iím, sure, number, let]        25                                                                                                                                                                                                                                                         [police_report, report_file, file_officer, officer_wayne, wayne_parris, parris_dob, dob_brittany, brittany_j, j_parris, parris_paperwork, paperwork_case, case_number, number_also, also_stamp, stamp_bottom, bottom_iím, iím_sure, sure_number, number_need, need_information, information_need, need_please, please_let, let_know]  [police_report, case_number]  \n",
       "4                  [email, communication, stephanie, shook, dave, kraski, bruce, stedman, chad, schmidt, regard, fire, protection, district, billing, passage, contract, al, service, also, agenda, bill, contract, material, present, review, novdec, time, frame, regard, contract]        32                                                                                             [email_communication, communication_stephanie, stephanie_shook, shook_dave, dave_kraski, kraski_bruce, bruce_stedman, stedman_chad, chad_schmidt, schmidt_regard, regard_fire, fire_protection, protection_district, district_billing, billing_passage, passage_contract, contract_al, al_service, service_also, also_copy, copy_agenda, agenda_bill, bill_contract, contract_material, material_present, present_review, review_novdec, novdec_time, time_frame, frame_regard, regard_contract]                            []  "
      ]
     },
     "execution_count": 22,
     "metadata": {},
     "output_type": "execute_result"
    }
   ],
   "source": [
    "data.head()"
   ]
  },
  {
   "cell_type": "code",
   "execution_count": 49,
   "metadata": {
    "collapsed": true
   },
   "outputs": [],
   "source": [
    "# convert str to list\n",
    "data['mash'] =  data['mash'].apply(lambda x:  ast.literal_eval(x))\n",
    "\n",
    "data['mash2'] =  data['mash2'].apply(lambda x:  ast.literal_eval(x))"
   ]
  },
  {
   "cell_type": "code",
   "execution_count": null,
   "metadata": {},
   "outputs": [],
   "source": [
    "common_bigrams = ['police_report', 'public_record', 'insurance_company', 'location_loss', 'date_occurrence', 'reportcase_number',\n",
    "'insure_driver', 'auto_accident', 'occurrence_location', 'transactionreference_insurance', 'number_date', 'type_auto',\n",
    "'accident_reportcase', 'code_violation', 'copy_police', 'incident_report', 'police_department', 'certificate_occupancy',\n",
    "'accident_report', 'property_locate', 'storage_tank','driver_note', 'building_permit', 'driver_driver','case_number', \n",
    " 'hazardous_material', 'collision_report', 'state_farm', 'site_plan', 'fire_department', 'ftp_report', 'auto_theft',\n",
    " 'fire_code', 'request_police', 'farm_claim', 'claim_compass', 'site_assessment', 'compass_report', 'environmental_site', \n",
    " 'tax_sale', 'loss_cross','city_council', 'code_enforcement', 'subject_property', 'report_case', 'phase_environmental', \n",
    " 'report_incident', 'date_loss', 'police_case', 'witness_statement']\n",
    " "
   ]
  },
  {
   "cell_type": "code",
   "execution_count": 14,
   "metadata": {
    "scrolled": true
   },
   "outputs": [
    {
     "data": {
      "text/plain": [
       "[('police_report', 6824),\n",
       " ('would_like', 6480),\n",
       " ('please_provide', 5679),\n",
       " ('public_record', 4987),\n",
       " ('insurance_company', 4454),\n",
       " ('location_loss', 4331),\n",
       " ('report_type', 4327),\n",
       " ('date_occurrence', 4317),\n",
       " ('cross_street', 4287),\n",
       " ('reportcase_number', 4267),\n",
       " ('insure_driver', 4239),\n",
       " ('auto_accident', 4235),\n",
       " ('occurrence_location', 4221),\n",
       " ('transactionreference_insurance', 4204),\n",
       " ('state_wa', 4189),\n",
       " ('wa_insure', 4144),\n",
       " ('number_date', 4040),\n",
       " ('street_city', 3816),\n",
       " ('city_county', 3761),\n",
       " ('type_auto', 3545),\n",
       " ('accident_reportcase', 3020),\n",
       " ('request_copy', 2771),\n",
       " ('county_snohomish', 2729),\n",
       " ('snohomish_state', 2712),\n",
       " ('record_request', 2603),\n",
       " ('th_ave', 2529),\n",
       " ('code_violation', 2059),\n",
       " ('like_request', 2048),\n",
       " ('copy_police', 1990),\n",
       " ('incident_report', 1965),\n",
       " ('th_st', 1904),\n",
       " ('ne_th', 1818),\n",
       " ('th_street', 1750),\n",
       " ('police_department', 1724),\n",
       " ('certificate_occupancy', 1637),\n",
       " ('accident_report', 1625),\n",
       " ('record_act', 1625),\n",
       " ('provide_copy', 1595),\n",
       " ('property_locate', 1585),\n",
       " ('ave_ne', 1552),\n",
       " ('request_record', 1550),\n",
       " ('include_limited', 1547),\n",
       " ('storage_tank', 1524),\n",
       " ('driver_note', 1439),\n",
       " ('building_permit', 1423),\n",
       " ('driver_driver', 1339),\n",
       " ('case_number', 1328),\n",
       " ('hazardous_material', 1327),\n",
       " ('let_know', 1263),\n",
       " ('please_let', 1212),\n",
       " ('document_relate', 1150),\n",
       " ('th_avenue', 1090),\n",
       " ('collision_report', 1064),\n",
       " ('record_relate', 1058),\n",
       " ('francisco_ca', 1032),\n",
       " ('please_send', 1010),\n",
       " ('state_farm', 968),\n",
       " ('request_information', 962),\n",
       " ('site_plan', 956),\n",
       " ('fire_department', 953),\n",
       " ('company_state', 944),\n",
       " ('request_please', 932),\n",
       " ('ftp_report', 889),\n",
       " ('auto_theft', 884),\n",
       " ('fire_code', 882),\n",
       " ('request_police', 875),\n",
       " ('please_contact', 849),\n",
       " ('county_king', 830),\n",
       " ('king_state', 826),\n",
       " ('please_include', 822),\n",
       " ('farm_claim', 820),\n",
       " ('claim_compass', 820),\n",
       " ('ne_wa', 816),\n",
       " ('site_assessment', 812),\n",
       " ('compass_report', 808),\n",
       " ('environmental_site', 805),\n",
       " ('tax_sale', 801),\n",
       " ('loss_cross', 792),\n",
       " ('record_regard', 788),\n",
       " ('may_concern', 780),\n",
       " ('city_council', 753),\n",
       " ('like_copy', 752),\n",
       " ('record_pertain', 742),\n",
       " ('request_following', 735),\n",
       " ('via_email', 734),\n",
       " ('city_orleans', 734),\n",
       " ('loss_th', 713),\n",
       " ('report_date', 699),\n",
       " ('property_address', 685),\n",
       " ('code_enforcement', 670),\n",
       " ('subject_property', 654),\n",
       " ('report_case', 647),\n",
       " ('phase_environmental', 646),\n",
       " ('report_incident', 640),\n",
       " ('date_loss', 623),\n",
       " ('police_case', 621),\n",
       " ('information_request', 613),\n",
       " ('witness_statement', 612),\n",
       " ('county_thurston', 608),\n",
       " ('thurston_state', 608)]"
      ]
     },
     "execution_count": 14,
     "metadata": {},
     "output_type": "execute_result"
    }
   ],
   "source": [
    "bigram_list = [y for x in list(data['bigrams']) for y in x]\n",
    "counts = Counter(bigram_list)\n",
    "Counter(bigram_list).most_common(100)"
   ]
  },
  {
   "cell_type": "code",
   "execution_count": 16,
   "metadata": {
    "collapsed": true
   },
   "outputs": [],
   "source": [
    "common_bigrams = ['police_report', 'public_record', 'insurance_company', 'location_loss', 'date_occurrence', 'reportcase_number',\n",
    "'insure_driver', 'auto_accident', 'occurrence_location', 'transactionreference_insurance', 'number_date', 'type_auto',\n",
    "'accident_reportcase', 'code_violation', 'copy_police', 'incident_report', 'police_department', 'certificate_occupancy',\n",
    "'accident_report', 'property_locate', 'storage_tank','driver_note', 'building_permit', 'driver_driver','case_number', \n",
    " 'hazardous_material', 'collision_report', 'state_farm', 'site_plan', 'fire_department', 'ftp_report', 'auto_theft',\n",
    " 'fire_code', 'request_police', 'farm_claim', 'claim_compass', 'site_assessment', 'compass_report', 'environmental_site', \n",
    " 'tax_sale', 'loss_cross','city_council', 'code_enforcement', 'subject_property', 'report_case', 'phase_environmental', \n",
    " 'report_incident', 'date_loss', 'police_case', 'witness_statement']"
   ]
  },
  {
   "cell_type": "code",
   "execution_count": 17,
   "metadata": {},
   "outputs": [],
   "source": [
    "data['common_bigrams'] = data['bigrams'].apply(lambda x: [i for i in x if i in common_bigrams])"
   ]
  },
  {
   "cell_type": "code",
   "execution_count": 40,
   "metadata": {
    "collapsed": true
   },
   "outputs": [],
   "source": [
    "noise = ['dr', 'jan', 'feb', 'mar', 'apr', 'may', 'jun', 'jul', 'aug', 'sept', 'sep', 'oct', 'nov', 'dec', \n",
    "        'january', 'february', 'march', 'april', 'may', 'june', 'july', 'august', 'september', 'october', 'november', \n",
    "        'december', 'ne', 'nw', 'se', 'sw', 'ct', 'dr', 'way', 'dv', 'ave', 'aka', 'get', 'look', 'im', 'want', \n",
    "        'find', 'could', 'go', 'take', 'e', 'n', 's', 'w', '“', '’', '”', '•', 'northeast', 'northwest', 'southeast', \n",
    "        'southwest', 'north', 'south', 'east', 'west', 'orleans', '–', 'a', 'b', 'c', 'd', 'f', 'g', 'h', 'i', 'j', 'k',\n",
    "        'l', 'm', 'o', 'p', 'q', 'r', 't', 'u', 'v', 'x', 'y', 'z', 'am', 'pm', 'hr', 'mr', 'ms', 'mrs', 'johnson', \n",
    "        'jr', 'kent', 'christopher', 'miller', 'joe', 'willows', 'david', 'michael', 'john', 'red', 'robert']"
   ]
  },
  {
   "cell_type": "code",
   "execution_count": 41,
   "metadata": {
    "collapsed": true
   },
   "outputs": [],
   "source": [
    "data['mash'] = data['mash'].apply(lambda x: [i for i in x if i not in noise])"
   ]
  },
  {
   "cell_type": "code",
   "execution_count": 42,
   "metadata": {
    "collapsed": true
   },
   "outputs": [],
   "source": [
    "data['final_mash'] = data['mash'] + data['common_bigrams']"
   ]
  },
  {
   "cell_type": "code",
   "execution_count": 43,
   "metadata": {
    "collapsed": true
   },
   "outputs": [],
   "source": [
    "# create column with the length of mash for each PRR\n",
    "\n",
    "data['mash_len'] = data['final_mash'].apply(lambda x: len(x))"
   ]
  },
  {
   "cell_type": "code",
   "execution_count": 44,
   "metadata": {
    "collapsed": true
   },
   "outputs": [],
   "source": [
    "# remove entries of length 0\n",
    "\n",
    "data = data[data['mash_len'] > 0]"
   ]
  },
  {
   "cell_type": "code",
   "execution_count": 45,
   "metadata": {},
   "outputs": [
    {
     "data": {
      "text/plain": [
       "count    73205.000000\n",
       "mean        18.593388\n",
       "std         31.604828\n",
       "min          1.000000\n",
       "25%          4.000000\n",
       "50%          9.000000\n",
       "75%         22.000000\n",
       "max       2708.000000\n",
       "Name: mash_len, dtype: float64"
      ]
     },
     "execution_count": 45,
     "metadata": {},
     "output_type": "execute_result"
    }
   ],
   "source": [
    "data['mash_len'].describe()"
   ]
  },
  {
   "cell_type": "markdown",
   "metadata": {},
   "source": [
    "#### We can see a couple of examples of the cleaned mash and the original request:"
   ]
  },
  {
   "cell_type": "code",
   "execution_count": 46,
   "metadata": {},
   "outputs": [
    {
     "data": {
      "text/plain": [
       "164    Police Traffic Collision Report and any other police reports, records or documents relating to \\nCase # 2017- 00022138 \\n\\nUnit 1 - Carla Jaramillo\\nUnit 2 - Jordan Boss\\n\\nTime of incident - 1616\n",
       "Name: Summary, dtype: object"
      ]
     },
     "execution_count": 46,
     "metadata": {},
     "output_type": "execute_result"
    }
   ],
   "source": [
    "data['Summary'][data.index == 164]"
   ]
  },
  {
   "cell_type": "code",
   "execution_count": 47,
   "metadata": {},
   "outputs": [
    {
     "data": {
      "text/plain": [
       "164    [police, traffic, collision, police, relate, case, unit, carla, jaramillo, unit, jordan, bos, time, incident, collision_report, police_report]\n",
       "Name: final_mash, dtype: object"
      ]
     },
     "execution_count": 47,
     "metadata": {},
     "output_type": "execute_result"
    }
   ],
   "source": [
    "data['final_mash'][data.index == 164]"
   ]
  },
  {
   "cell_type": "code",
   "execution_count": 30,
   "metadata": {},
   "outputs": [
    {
     "data": {
      "text/plain": [
       "['police',\n",
       " 'body',\n",
       " 'camera',\n",
       " 'footage',\n",
       " 'assault',\n",
       " 'investigation',\n",
       " 'august',\n",
       " 'copy_police',\n",
       " 'police_report']"
      ]
     },
     "execution_count": 30,
     "metadata": {},
     "output_type": "execute_result"
    }
   ],
   "source": [
    "data['final_mash'][70000]"
   ]
  },
  {
   "cell_type": "code",
   "execution_count": 48,
   "metadata": {},
   "outputs": [
    {
     "data": {
      "text/plain": [
       "'requesting a copy of police reports and body camera footage from an assault investigation August 24th at 1:30 am'"
      ]
     },
     "execution_count": 48,
     "metadata": {},
     "output_type": "execute_result"
    }
   ],
   "source": [
    "data[\"Summary\"][70000]"
   ]
  },
  {
   "cell_type": "code",
   "execution_count": 49,
   "metadata": {
    "collapsed": true
   },
   "outputs": [],
   "source": [
    "data['nd'] = data['final_mash'].apply(lambda x: \"nd\" in x)"
   ]
  },
  {
   "cell_type": "code",
   "execution_count": 50,
   "metadata": {
    "collapsed": true
   },
   "outputs": [],
   "source": [
    "data_rep = data[data['nd'] == True]"
   ]
  },
  {
   "cell_type": "code",
   "execution_count": 51,
   "metadata": {},
   "outputs": [
    {
     "data": {
      "text/html": [
       "<div>\n",
       "<style scoped>\n",
       "    .dataframe tbody tr th:only-of-type {\n",
       "        vertical-align: middle;\n",
       "    }\n",
       "\n",
       "    .dataframe tbody tr th {\n",
       "        vertical-align: top;\n",
       "    }\n",
       "\n",
       "    .dataframe thead th {\n",
       "        text-align: right;\n",
       "    }\n",
       "</style>\n",
       "<table border=\"1\" class=\"dataframe\">\n",
       "  <thead>\n",
       "    <tr style=\"text-align: right;\">\n",
       "      <th></th>\n",
       "      <th>index</th>\n",
       "      <th>Summary</th>\n",
       "      <th>city</th>\n",
       "      <th>month_year</th>\n",
       "      <th>sum_ed</th>\n",
       "      <th>token</th>\n",
       "      <th>lemma</th>\n",
       "      <th>mash</th>\n",
       "      <th>mash_len</th>\n",
       "      <th>bigrams</th>\n",
       "      <th>common_bigrams</th>\n",
       "      <th>final_mash</th>\n",
       "      <th>nd</th>\n",
       "    </tr>\n",
       "  </thead>\n",
       "  <tbody>\n",
       "  </tbody>\n",
       "</table>\n",
       "</div>"
      ],
      "text/plain": [
       "Empty DataFrame\n",
       "Columns: [index, Summary, city, month_year, sum_ed, token, lemma, mash, mash_len, bigrams, common_bigrams, final_mash, nd]\n",
       "Index: []"
      ]
     },
     "execution_count": 51,
     "metadata": {},
     "output_type": "execute_result"
    }
   ],
   "source": [
    "data_rep.head()"
   ]
  },
  {
   "cell_type": "code",
   "execution_count": 52,
   "metadata": {
    "collapsed": true
   },
   "outputs": [],
   "source": [
    "data.to_csv('data.csv', index=False)"
   ]
  },
  {
   "cell_type": "code",
   "execution_count": 4,
   "metadata": {
    "collapsed": true
   },
   "outputs": [],
   "source": [
    "data = pd.read_csv('data.csv')"
   ]
  },
  {
   "cell_type": "code",
   "execution_count": 39,
   "metadata": {},
   "outputs": [
    {
     "data": {
      "text/html": [
       "<div>\n",
       "<style scoped>\n",
       "    .dataframe tbody tr th:only-of-type {\n",
       "        vertical-align: middle;\n",
       "    }\n",
       "\n",
       "    .dataframe tbody tr th {\n",
       "        vertical-align: top;\n",
       "    }\n",
       "\n",
       "    .dataframe thead th {\n",
       "        text-align: right;\n",
       "    }\n",
       "</style>\n",
       "<table border=\"1\" class=\"dataframe\">\n",
       "  <thead>\n",
       "    <tr style=\"text-align: right;\">\n",
       "      <th></th>\n",
       "      <th>index</th>\n",
       "      <th>Summary</th>\n",
       "      <th>city</th>\n",
       "      <th>month_year</th>\n",
       "      <th>sum_ed</th>\n",
       "      <th>token</th>\n",
       "      <th>lemma</th>\n",
       "      <th>mash</th>\n",
       "      <th>mash_len</th>\n",
       "      <th>bigrams</th>\n",
       "      <th>common_bigrams</th>\n",
       "      <th>final_mash</th>\n",
       "      <th>nd</th>\n",
       "    </tr>\n",
       "  </thead>\n",
       "  <tbody>\n",
       "    <tr>\n",
       "      <th>0</th>\n",
       "      <td>0</td>\n",
       "      <td>We are working with an engineering firm on an upcoming project.  They have asked us to gather maps for this project.  Would you be able to assist me in gathering maps/records (as builds) for any underground water facilities you may have?  Something just showing the route of the water lines would do.\\n\\n207th ST NE to 92nd Ave NE, Arlington, Cascade Surveying &amp; Engineering \\n\\nI have attached the scope for your convenience.  Please let me know if you have questions.</td>\n",
       "      <td>Arlington</td>\n",
       "      <td>2018-06</td>\n",
       "      <td>we are working with an engineering firm on an upcoming project  they have asked us to gather maps for this project  would you be able to assist me in gathering mapsrecords as builds for any underground water facilities you may have  something just showing the route of the water lines would do\\n\\nth st ne to nd ave ne  cascade surveying  engineering \\n\\ni have attached the scope for your convenience  please let me know if you have questions</td>\n",
       "      <td>[we, are, working, with, an, engineering, firm, on, an, upcoming, project, they, have, asked, us, to, gather, maps, for, this, project, would, you, be, able, to, assist, me, in, gathering, mapsrecords, as, builds, for, any, underground, water, facilities, you, may, have, something, just, showing, the, route, of, the, water, lines, would, do, th, st, ne, to, nd, ave, ne, cascade, surveying, engineering, i, have, attached, the, scope, for, your, convenience, please, let, me, know, if, you, have, questions]</td>\n",
       "      <td>[(we, PRP), (are, VBP), (working, VBG), (with, IN), (an, DT), (engineering, NN), (firm, NN), (on, IN), (an, DT), (upcoming, JJ), (project, NN), (they, PRP), (have, VBP), (asked, VBN), (us, PRP), (to, TO), (gather, VB), (maps, NNS), (for, IN), (this, DT), (project, NN), (would, MD), (you, PRP), (be, VB), (able, JJ), (to, TO), (assist, VB), (me, PRP), (in, IN), (gathering, VBG), (mapsrecords, NNS), (as, IN), (builds, NNS), (for, IN), (any, DT), (underground, JJ), (water, NN), (facilities, NNS), (you, PRP), (may, MD), (have, VB), (something, NN), (just, RB), (showing, VBG), (the, DT), (route, NN), (of, IN), (the, DT), (water, NN), (lines, NNS), (would, MD), (do, VB), (th, VB), (st, VB), (ne, JJ), (to, TO), (nd, VB), (ave, VB), (ne, JJ), (cascade, NN), (surveying, VBG), (engineering, NN), (i, NN), (have, VBP), (attached, VBN), (the, DT), (scope, NN), (for, IN), (your, PRP$), (convenience, NN), (please, NN), (let, VB), (me, PRP), (know, VB), (if, IN), (you, PRP), (have, VBP), (questions...</td>\n",
       "      <td>[work, engineering, firm, upcoming, project, ask, u, gather, map, project, able, assist, gather, mapsrecords, build, underground, water, facility, may, something, show, route, water, line, ne, ave, ne, cascade, survey, engineering, attach, scope, convenience, let, question]</td>\n",
       "      <td>35</td>\n",
       "      <td>[work_engineering, engineering_firm, firm_upcoming, upcoming_project, project_ask, ask_u, u_gather, gather_map, map_project, project_would, would_able, able_assist, assist_gather, gather_mapsrecords, mapsrecords_build, build_underground, underground_water, water_facility, facility_may, may_something, something_show, show_route, route_water, water_line, line_would, would_th, th_st, st_ne, ne_nd, nd_ave, ave_ne, ne_cascade, cascade_survey, survey_engineering, engineering_attach, attach_scope, scope_convenience, convenience_please, please_let, let_know, know_question]</td>\n",
       "      <td>[]</td>\n",
       "      <td>[work, engineering, firm, upcoming, project, ask, u, gather, map, project, able, assist, gather, mapsrecords, build, underground, water, facility, may, something, show, route, water, line, ne, ave, ne, cascade, survey, engineering, attach, scope, convenience, let, question]</td>\n",
       "      <td>False</td>\n",
       "    </tr>\n",
       "    <tr>\n",
       "      <th>1</th>\n",
       "      <td>1</td>\n",
       "      <td>Need copies of contracts and all related documents pertaining to Topcub Aircraft property located at 17922 59th DR NE Arlington WA 98223 between Arlington Airport, Topcub Aircraft, City of Arlington, HCI Steel Buildings and PUD.</td>\n",
       "      <td>Arlington</td>\n",
       "      <td>2018-06</td>\n",
       "      <td>need copies of contracts and all related documents pertaining to topcub aircraft property located at  th dr ne  wa  between  airport topcub aircraft city of  hci steel buildings and pud</td>\n",
       "      <td>[need, copies, of, contracts, and, all, related, documents, pertaining, to, topcub, aircraft, property, located, at, th, dr, ne, wa, between, airport, topcub, aircraft, city, of, hci, steel, buildings, and, pud]</td>\n",
       "      <td>[(need, NN), (copies, NNS), (of, IN), (contracts, NNS), (and, CC), (all, DT), (related, JJ), (documents, NNS), (pertaining, VBG), (to, TO), (topcub, VB), (aircraft, NN), (property, NN), (located, VBN), (at, IN), (th, NN), (dr, NN), (ne, JJ), (wa, NN), (between, IN), (airport, NN), (topcub, NN), (aircraft, NN), (city, NN), (of, IN), (hci, JJ), (steel, NN), (buildings, NNS), (and, CC), (pud, NN)]</td>\n",
       "      <td>[contract, related, pertain, topcub, aircraft, property, locate, dr, ne, airport, topcub, aircraft, hci, steel, building, pud]</td>\n",
       "      <td>17</td>\n",
       "      <td>[need_copy, copy_contract, contract_related, related_document, document_pertain, pertain_topcub, topcub_aircraft, aircraft_property, property_locate, locate_th, th_dr, dr_ne, ne_wa, wa_airport, airport_topcub, topcub_aircraft, aircraft_city, city_hci, hci_steel, steel_building, building_pud]</td>\n",
       "      <td>[property_locate]</td>\n",
       "      <td>[contract, related, pertain, topcub, aircraft, property, locate, dr, ne, airport, topcub, aircraft, hci, steel, building, pud, property_locate]</td>\n",
       "      <td>False</td>\n",
       "    </tr>\n",
       "    <tr>\n",
       "      <th>2</th>\n",
       "      <td>2</td>\n",
       "      <td>Copies of Building Permits of $5,000 valuation and up ($20,000 min for Re-Roofs), ($50,000 min. for Cell Tower upgrades), (Electrical, Mechanical &amp; Plumbing at $100,000 min.) and (Solar Panels, Swimming Pools &amp; Foundations at any valuation)</td>\n",
       "      <td>Arlington</td>\n",
       "      <td>2018-06</td>\n",
       "      <td>copies of building permits of  valuation and up  min for reroofs  min for cell tower upgrades electrical mechanical  plumbing at  min and solar panels swimming pools  foundations at any valuation</td>\n",
       "      <td>[copies, of, building, permits, of, valuation, and, up, min, for, reroofs, min, for, cell, tower, upgrades, electrical, mechanical, plumbing, at, min, and, solar, panels, swimming, pools, foundations, at, any, valuation]</td>\n",
       "      <td>[(copies, NNS), (of, IN), (building, VBG), (permits, NNS), (of, IN), (valuation, NN), (and, CC), (up, RB), (min, NN), (for, IN), (reroofs, NN), (min, NN), (for, IN), (cell, NN), (tower, NN), (upgrades, JJ), (electrical, JJ), (mechanical, JJ), (plumbing, NN), (at, IN), (min, NN), (and, CC), (solar, JJ), (panels, NNS), (swimming, VBG), (pools, JJ), (foundations, NNS), (at, IN), (any, DT), (valuation, NN)]</td>\n",
       "      <td>[build, permit, valuation, min, reroofs, min, cell, tower, upgrades, electrical, mechanical, plumbing, min, solar, panel, swim, pools, foundation, valuation]</td>\n",
       "      <td>19</td>\n",
       "      <td>[copy_build, build_permit, permit_valuation, valuation_min, min_reroofs, reroofs_min, min_cell, cell_tower, tower_upgrades, upgrades_electrical, electrical_mechanical, mechanical_plumbing, plumbing_min, min_solar, solar_panel, panel_swim, swim_pools, pools_foundation, foundation_valuation]</td>\n",
       "      <td>[]</td>\n",
       "      <td>[build, permit, valuation, min, reroofs, min, cell, tower, upgrades, electrical, mechanical, plumbing, min, solar, panel, swim, pools, foundation, valuation]</td>\n",
       "      <td>False</td>\n",
       "    </tr>\n",
       "    <tr>\n",
       "      <th>3</th>\n",
       "      <td>3</td>\n",
       "      <td>police report filed to an officer against Wayne Parris (DOB 08-03-1957) from Brittany J. Parris. The paperwork I have has a case number D18-39 it is also stamped at the bottom with 18-1294, Iím not sure which number you will need. If there is any other information needed please let me know.</td>\n",
       "      <td>Arlington</td>\n",
       "      <td>2018-06</td>\n",
       "      <td>police report filed to an officer against wayne parris dob  from brittany j parris the paperwork i have has a case number d it is also stamped at the bottom with  iím not sure which number you will need if there is any other information needed please let me know</td>\n",
       "      <td>[police, report, filed, to, an, officer, against, wayne, parris, dob, from, brittany, j, parris, the, paperwork, i, have, has, a, case, number, d, it, is, also, stamped, at, the, bottom, with, iím, not, sure, which, number, you, will, need, if, there, is, any, other, information, needed, please, let, me, know]</td>\n",
       "      <td>[(police, NNS), (report, NN), (filed, VBD), (to, TO), (an, DT), (officer, NN), (against, IN), (wayne, JJ), (parris, JJ), (dob, NN), (from, IN), (brittany, JJ), (j, NN), (parris, VBD), (the, DT), (paperwork, NN), (i, NN), (have, VBP), (has, VBZ), (a, DT), (case, NN), (number, NN), (d, NN), (it, PRP), (is, VBZ), (also, RB), (stamped, VBN), (at, IN), (the, DT), (bottom, NN), (with, IN), (iím, JJ), (not, RB), (sure, JJ), (which, WDT), (number, NN), (you, PRP), (will, MD), (need, VB), (if, IN), (there, EX), (is, VBZ), (any, DT), (other, JJ), (information, NN), (needed, VBN), (please, NN), (let, VB), (me, PRP), (know, VB)]</td>\n",
       "      <td>[police, file, officer, wayne, parris, dob, brittany, j, parris, paperwork, case, number, also, stamp, bottom, iím, sure, number, let]</td>\n",
       "      <td>21</td>\n",
       "      <td>[police_report, report_file, file_officer, officer_wayne, wayne_parris, parris_dob, dob_brittany, brittany_j, j_parris, parris_paperwork, paperwork_case, case_number, number_also, also_stamp, stamp_bottom, bottom_iím, iím_sure, sure_number, number_need, need_information, information_need, need_please, please_let, let_know]</td>\n",
       "      <td>[police_report, case_number]</td>\n",
       "      <td>[police, file, officer, wayne, parris, dob, brittany, j, parris, paperwork, case, number, also, stamp, bottom, iím, sure, number, let, police_report, case_number]</td>\n",
       "      <td>False</td>\n",
       "    </tr>\n",
       "    <tr>\n",
       "      <th>4</th>\n",
       "      <td>4</td>\n",
       "      <td>Email Communications between Stephanie Shook, Dave Kraski, Bruce Stedman and Chad Schmidt in regards to Fire Protection District 21 billing and passage of contract for ALS Services. \\n\\nAlso any copies of Agenda Bills, D21 Contract and materials presented for review in Nov/Dec time frame in regards to the contract.</td>\n",
       "      <td>Arlington</td>\n",
       "      <td>2018-06</td>\n",
       "      <td>email communications between stephanie shook dave kraski bruce stedman and chad schmidt in regards to fire protection district  billing and passage of contract for als services \\n\\nalso any copies of agenda bills d contract and materials presented for review in novdec time frame in regards to the contract</td>\n",
       "      <td>[email, communications, between, stephanie, shook, dave, kraski, bruce, stedman, and, chad, schmidt, in, regards, to, fire, protection, district, billing, and, passage, of, contract, for, als, services, also, any, copies, of, agenda, bills, d, contract, and, materials, presented, for, review, in, novdec, time, frame, in, regards, to, the, contract]</td>\n",
       "      <td>[(email, NN), (communications, NNS), (between, IN), (stephanie, JJ), (shook, NN), (dave, VBP), (kraski, VBN), (bruce, NN), (stedman, NN), (and, CC), (chad, VBD), (schmidt, VBN), (in, IN), (regards, NNS), (to, TO), (fire, VB), (protection, NN), (district, NN), (billing, NN), (and, CC), (passage, NN), (of, IN), (contract, NN), (for, IN), (als, NNS), (services, NNS), (also, RB), (any, DT), (copies, NNS), (of, IN), (agenda, NN), (bills, NNS), (d, VBP), (contract, NN), (and, CC), (materials, NNS), (presented, VBN), (for, IN), (review, NN), (in, IN), (novdec, JJ), (time, NN), (frame, NN), (in, IN), (regards, NNS), (to, TO), (the, DT), (contract, NN)]</td>\n",
       "      <td>[email, communication, stephanie, shook, dave, kraski, bruce, stedman, chad, schmidt, regard, fire, protection, district, billing, passage, contract, al, service, also, agenda, bill, contract, material, present, review, novdec, time, frame, regard, contract]</td>\n",
       "      <td>31</td>\n",
       "      <td>[email_communication, communication_stephanie, stephanie_shook, shook_dave, dave_kraski, kraski_bruce, bruce_stedman, stedman_chad, chad_schmidt, schmidt_regard, regard_fire, fire_protection, protection_district, district_billing, billing_passage, passage_contract, contract_al, al_service, service_also, also_copy, copy_agenda, agenda_bill, bill_contract, contract_material, material_present, present_review, review_novdec, novdec_time, time_frame, frame_regard, regard_contract]</td>\n",
       "      <td>[]</td>\n",
       "      <td>[email, communication, stephanie, shook, dave, kraski, bruce, stedman, chad, schmidt, regard, fire, protection, district, billing, passage, contract, al, service, also, agenda, bill, contract, material, present, review, novdec, time, frame, regard, contract]</td>\n",
       "      <td>False</td>\n",
       "    </tr>\n",
       "  </tbody>\n",
       "</table>\n",
       "</div>"
      ],
      "text/plain": [
       "   index                                                                                                                                                                                                                                                                                                                                                                                                                                                                                Summary       city month_year                                                                                                                                                                                                                                                                                                                                                                                                                                                       sum_ed  \\\n",
       "0      0  We are working with an engineering firm on an upcoming project.  They have asked us to gather maps for this project.  Would you be able to assist me in gathering maps/records (as builds) for any underground water facilities you may have?  Something just showing the route of the water lines would do.\\n\\n207th ST NE to 92nd Ave NE, Arlington, Cascade Surveying & Engineering \\n\\nI have attached the scope for your convenience.  Please let me know if you have questions.  Arlington    2018-06  we are working with an engineering firm on an upcoming project  they have asked us to gather maps for this project  would you be able to assist me in gathering mapsrecords as builds for any underground water facilities you may have  something just showing the route of the water lines would do\\n\\nth st ne to nd ave ne  cascade surveying  engineering \\n\\ni have attached the scope for your convenience  please let me know if you have questions   \n",
       "1      1                                                                                                                                                                                                                                                   Need copies of contracts and all related documents pertaining to Topcub Aircraft property located at 17922 59th DR NE Arlington WA 98223 between Arlington Airport, Topcub Aircraft, City of Arlington, HCI Steel Buildings and PUD.  Arlington    2018-06                                                                                                                                                                                                                                                                    need copies of contracts and all related documents pertaining to topcub aircraft property located at  th dr ne  wa  between  airport topcub aircraft city of  hci steel buildings and pud   \n",
       "2      2                                                                                                                                                                                                                                       Copies of Building Permits of $5,000 valuation and up ($20,000 min for Re-Roofs), ($50,000 min. for Cell Tower upgrades), (Electrical, Mechanical & Plumbing at $100,000 min.) and (Solar Panels, Swimming Pools & Foundations at any valuation)  Arlington    2018-06                                                                                                                                                                                                                                                          copies of building permits of  valuation and up  min for reroofs  min for cell tower upgrades electrical mechanical  plumbing at  min and solar panels swimming pools  foundations at any valuation   \n",
       "3      3                                                                                                                                                                                    police report filed to an officer against Wayne Parris (DOB 08-03-1957) from Brittany J. Parris. The paperwork I have has a case number D18-39 it is also stamped at the bottom with 18-1294, Iím not sure which number you will need. If there is any other information needed please let me know.  Arlington    2018-06                                                                                                                                                                                       police report filed to an officer against wayne parris dob  from brittany j parris the paperwork i have has a case number d it is also stamped at the bottom with  iím not sure which number you will need if there is any other information needed please let me know   \n",
       "4      4                                                                                                                                                           Email Communications between Stephanie Shook, Dave Kraski, Bruce Stedman and Chad Schmidt in regards to Fire Protection District 21 billing and passage of contract for ALS Services. \\n\\nAlso any copies of Agenda Bills, D21 Contract and materials presented for review in Nov/Dec time frame in regards to the contract.  Arlington    2018-06                                                                                                                                           email communications between stephanie shook dave kraski bruce stedman and chad schmidt in regards to fire protection district  billing and passage of contract for als services \\n\\nalso any copies of agenda bills d contract and materials presented for review in novdec time frame in regards to the contract   \n",
       "\n",
       "                                                                                                                                                                                                                                                                                                                                                                                                                                                                                                                           token  \\\n",
       "0  [we, are, working, with, an, engineering, firm, on, an, upcoming, project, they, have, asked, us, to, gather, maps, for, this, project, would, you, be, able, to, assist, me, in, gathering, mapsrecords, as, builds, for, any, underground, water, facilities, you, may, have, something, just, showing, the, route, of, the, water, lines, would, do, th, st, ne, to, nd, ave, ne, cascade, surveying, engineering, i, have, attached, the, scope, for, your, convenience, please, let, me, know, if, you, have, questions]   \n",
       "1                                                                                                                                                                                                                                                                                                            [need, copies, of, contracts, and, all, related, documents, pertaining, to, topcub, aircraft, property, located, at, th, dr, ne, wa, between, airport, topcub, aircraft, city, of, hci, steel, buildings, and, pud]   \n",
       "2                                                                                                                                                                                                                                                                                                   [copies, of, building, permits, of, valuation, and, up, min, for, reroofs, min, for, cell, tower, upgrades, electrical, mechanical, plumbing, at, min, and, solar, panels, swimming, pools, foundations, at, any, valuation]   \n",
       "3                                                                                                                                                                                                        [police, report, filed, to, an, officer, against, wayne, parris, dob, from, brittany, j, parris, the, paperwork, i, have, has, a, case, number, d, it, is, also, stamped, at, the, bottom, with, iím, not, sure, which, number, you, will, need, if, there, is, any, other, information, needed, please, let, me, know]   \n",
       "4                                                                                                                                                                 [email, communications, between, stephanie, shook, dave, kraski, bruce, stedman, and, chad, schmidt, in, regards, to, fire, protection, district, billing, and, passage, of, contract, for, als, services, also, any, copies, of, agenda, bills, d, contract, and, materials, presented, for, review, in, novdec, time, frame, in, regards, to, the, contract]   \n",
       "\n",
       "                                                                                                                                                                                                                                                                                                                                                                                                                                                                                                                                                                                                                                                                                                                                                                                                                                                                                                                                                                                                                                     lemma  \\\n",
       "0  [(we, PRP), (are, VBP), (working, VBG), (with, IN), (an, DT), (engineering, NN), (firm, NN), (on, IN), (an, DT), (upcoming, JJ), (project, NN), (they, PRP), (have, VBP), (asked, VBN), (us, PRP), (to, TO), (gather, VB), (maps, NNS), (for, IN), (this, DT), (project, NN), (would, MD), (you, PRP), (be, VB), (able, JJ), (to, TO), (assist, VB), (me, PRP), (in, IN), (gathering, VBG), (mapsrecords, NNS), (as, IN), (builds, NNS), (for, IN), (any, DT), (underground, JJ), (water, NN), (facilities, NNS), (you, PRP), (may, MD), (have, VB), (something, NN), (just, RB), (showing, VBG), (the, DT), (route, NN), (of, IN), (the, DT), (water, NN), (lines, NNS), (would, MD), (do, VB), (th, VB), (st, VB), (ne, JJ), (to, TO), (nd, VB), (ave, VB), (ne, JJ), (cascade, NN), (surveying, VBG), (engineering, NN), (i, NN), (have, VBP), (attached, VBN), (the, DT), (scope, NN), (for, IN), (your, PRP$), (convenience, NN), (please, NN), (let, VB), (me, PRP), (know, VB), (if, IN), (you, PRP), (have, VBP), (questions...   \n",
       "1                                                                                                                                                                                                                                                                                                                                                                                                                                                                                                                                                                                                                            [(need, NN), (copies, NNS), (of, IN), (contracts, NNS), (and, CC), (all, DT), (related, JJ), (documents, NNS), (pertaining, VBG), (to, TO), (topcub, VB), (aircraft, NN), (property, NN), (located, VBN), (at, IN), (th, NN), (dr, NN), (ne, JJ), (wa, NN), (between, IN), (airport, NN), (topcub, NN), (aircraft, NN), (city, NN), (of, IN), (hci, JJ), (steel, NN), (buildings, NNS), (and, CC), (pud, NN)]   \n",
       "2                                                                                                                                                                                                                                                                                                                                                                                                                                                                                                                                                                                                                   [(copies, NNS), (of, IN), (building, VBG), (permits, NNS), (of, IN), (valuation, NN), (and, CC), (up, RB), (min, NN), (for, IN), (reroofs, NN), (min, NN), (for, IN), (cell, NN), (tower, NN), (upgrades, JJ), (electrical, JJ), (mechanical, JJ), (plumbing, NN), (at, IN), (min, NN), (and, CC), (solar, JJ), (panels, NNS), (swimming, VBG), (pools, JJ), (foundations, NNS), (at, IN), (any, DT), (valuation, NN)]   \n",
       "3                                                                                                                                                                                                                                                                                                                                                                                         [(police, NNS), (report, NN), (filed, VBD), (to, TO), (an, DT), (officer, NN), (against, IN), (wayne, JJ), (parris, JJ), (dob, NN), (from, IN), (brittany, JJ), (j, NN), (parris, VBD), (the, DT), (paperwork, NN), (i, NN), (have, VBP), (has, VBZ), (a, DT), (case, NN), (number, NN), (d, NN), (it, PRP), (is, VBZ), (also, RB), (stamped, VBN), (at, IN), (the, DT), (bottom, NN), (with, IN), (iím, JJ), (not, RB), (sure, JJ), (which, WDT), (number, NN), (you, PRP), (will, MD), (need, VB), (if, IN), (there, EX), (is, VBZ), (any, DT), (other, JJ), (information, NN), (needed, VBN), (please, NN), (let, VB), (me, PRP), (know, VB)]   \n",
       "4                                                                                                                                                                                                                                                                                                                                                             [(email, NN), (communications, NNS), (between, IN), (stephanie, JJ), (shook, NN), (dave, VBP), (kraski, VBN), (bruce, NN), (stedman, NN), (and, CC), (chad, VBD), (schmidt, VBN), (in, IN), (regards, NNS), (to, TO), (fire, VB), (protection, NN), (district, NN), (billing, NN), (and, CC), (passage, NN), (of, IN), (contract, NN), (for, IN), (als, NNS), (services, NNS), (also, RB), (any, DT), (copies, NNS), (of, IN), (agenda, NN), (bills, NNS), (d, VBP), (contract, NN), (and, CC), (materials, NNS), (presented, VBN), (for, IN), (review, NN), (in, IN), (novdec, JJ), (time, NN), (frame, NN), (in, IN), (regards, NNS), (to, TO), (the, DT), (contract, NN)]   \n",
       "\n",
       "                                                                                                                                                                                                                                                                                 mash  mash_len                                                                                                                                                                                                                                                                                                                                                                                                                                                                                                                                                                                      bigrams                common_bigrams  \\\n",
       "0  [work, engineering, firm, upcoming, project, ask, u, gather, map, project, able, assist, gather, mapsrecords, build, underground, water, facility, may, something, show, route, water, line, ne, ave, ne, cascade, survey, engineering, attach, scope, convenience, let, question]        35  [work_engineering, engineering_firm, firm_upcoming, upcoming_project, project_ask, ask_u, u_gather, gather_map, map_project, project_would, would_able, able_assist, assist_gather, gather_mapsrecords, mapsrecords_build, build_underground, underground_water, water_facility, facility_may, may_something, something_show, show_route, route_water, water_line, line_would, would_th, th_st, st_ne, ne_nd, nd_ave, ave_ne, ne_cascade, cascade_survey, survey_engineering, engineering_attach, attach_scope, scope_convenience, convenience_please, please_let, let_know, know_question]                            []   \n",
       "1                                                                                                                                                      [contract, related, pertain, topcub, aircraft, property, locate, dr, ne, airport, topcub, aircraft, hci, steel, building, pud]        17                                                                                                                                                                                                                                                                                         [need_copy, copy_contract, contract_related, related_document, document_pertain, pertain_topcub, topcub_aircraft, aircraft_property, property_locate, locate_th, th_dr, dr_ne, ne_wa, wa_airport, airport_topcub, topcub_aircraft, aircraft_city, city_hci, hci_steel, steel_building, building_pud]             [property_locate]   \n",
       "2                                                                                                                       [build, permit, valuation, min, reroofs, min, cell, tower, upgrades, electrical, mechanical, plumbing, min, solar, panel, swim, pools, foundation, valuation]        19                                                                                                                                                                                                                                                                                           [copy_build, build_permit, permit_valuation, valuation_min, min_reroofs, reroofs_min, min_cell, cell_tower, tower_upgrades, upgrades_electrical, electrical_mechanical, mechanical_plumbing, plumbing_min, min_solar, solar_panel, panel_swim, swim_pools, pools_foundation, foundation_valuation]                            []   \n",
       "3                                                                                                                                              [police, file, officer, wayne, parris, dob, brittany, j, parris, paperwork, case, number, also, stamp, bottom, iím, sure, number, let]        21                                                                                                                                                                                                                                                         [police_report, report_file, file_officer, officer_wayne, wayne_parris, parris_dob, dob_brittany, brittany_j, j_parris, parris_paperwork, paperwork_case, case_number, number_also, also_stamp, stamp_bottom, bottom_iím, iím_sure, sure_number, number_need, need_information, information_need, need_please, please_let, let_know]  [police_report, case_number]   \n",
       "4                  [email, communication, stephanie, shook, dave, kraski, bruce, stedman, chad, schmidt, regard, fire, protection, district, billing, passage, contract, al, service, also, agenda, bill, contract, material, present, review, novdec, time, frame, regard, contract]        31                                                                                             [email_communication, communication_stephanie, stephanie_shook, shook_dave, dave_kraski, kraski_bruce, bruce_stedman, stedman_chad, chad_schmidt, schmidt_regard, regard_fire, fire_protection, protection_district, district_billing, billing_passage, passage_contract, contract_al, al_service, service_also, also_copy, copy_agenda, agenda_bill, bill_contract, contract_material, material_present, present_review, review_novdec, novdec_time, time_frame, frame_regard, regard_contract]                            []   \n",
       "\n",
       "                                                                                                                                                                                                                                                                           final_mash     nd  \n",
       "0  [work, engineering, firm, upcoming, project, ask, u, gather, map, project, able, assist, gather, mapsrecords, build, underground, water, facility, may, something, show, route, water, line, ne, ave, ne, cascade, survey, engineering, attach, scope, convenience, let, question]  False  \n",
       "1                                                                                                                                     [contract, related, pertain, topcub, aircraft, property, locate, dr, ne, airport, topcub, aircraft, hci, steel, building, pud, property_locate]  False  \n",
       "2                                                                                                                       [build, permit, valuation, min, reroofs, min, cell, tower, upgrades, electrical, mechanical, plumbing, min, solar, panel, swim, pools, foundation, valuation]  False  \n",
       "3                                                                                                                  [police, file, officer, wayne, parris, dob, brittany, j, parris, paperwork, case, number, also, stamp, bottom, iím, sure, number, let, police_report, case_number]  False  \n",
       "4                  [email, communication, stephanie, shook, dave, kraski, bruce, stedman, chad, schmidt, regard, fire, protection, district, billing, passage, contract, al, service, also, agenda, bill, contract, material, present, review, novdec, time, frame, regard, contract]  False  "
      ]
     },
     "execution_count": 39,
     "metadata": {},
     "output_type": "execute_result"
    }
   ],
   "source": [
    "data.head()"
   ]
  },
  {
   "cell_type": "markdown",
   "metadata": {},
   "source": [
    "# LDA Analysis"
   ]
  },
  {
   "cell_type": "code",
   "execution_count": 53,
   "metadata": {
    "collapsed": true
   },
   "outputs": [],
   "source": [
    "# create dictionary and corpus\n",
    "texts = list(data['final_mash'])\n",
    "dictionary = corpora.Dictionary(texts)\n",
    "corpus = [dictionary.doc2bow(text) for text in texts]"
   ]
  },
  {
   "cell_type": "code",
   "execution_count": 54,
   "metadata": {
    "collapsed": true
   },
   "outputs": [],
   "source": [
    "# 30 topics and 30 passes\n",
    "lda_30_45 = gensim.models.ldamodel.LdaModel(corpus, num_topics=30, id2word = dictionary, \n",
    "                                         passes = 30, random_state=7)"
   ]
  },
  {
   "cell_type": "code",
   "execution_count": 55,
   "metadata": {},
   "outputs": [
    {
     "data": {
      "text/plain": [
       "[(0,\n",
       "  [('traffic', 0.047516458),\n",
       "   ('pm', 0.036409333),\n",
       "   ('intersection', 0.02764813),\n",
       "   ('street', 0.02663841),\n",
       "   ('time', 0.02136294),\n",
       "   ('medical', 0.017785877),\n",
       "   ('light', 0.017626934),\n",
       "   ('mayor', 0.016940808),\n",
       "   ('approximately', 0.015295885),\n",
       "   ('car', 0.014740071)]),\n",
       " (1,\n",
       "  [('certified', 0.06465895),\n",
       "   ('crime', 0.04564447),\n",
       "   ('id', 0.04352621),\n",
       "   ('name', 0.043217424),\n",
       "   ('tree', 0.034108967),\n",
       "   ('thurston', 0.033086978),\n",
       "   ('victim', 0.03299558),\n",
       "   ('industrial', 0.028403582),\n",
       "   ('capitol', 0.026457751),\n",
       "   ('claim', 0.02484842)]),\n",
       " (2,\n",
       "  [('project', 0.075710446),\n",
       "   ('plan', 0.030894741),\n",
       "   ('map', 0.02637978),\n",
       "   ('payroll', 0.022376537),\n",
       "   ('work', 0.02155133),\n",
       "   ('development', 0.019586826),\n",
       "   ('construction', 0.019029126),\n",
       "   ('area', 0.017003333),\n",
       "   ('unit', 0.014195616),\n",
       "   ('plat', 0.012134077)]),\n",
       " (3,\n",
       "  [('incident', 0.13490623),\n",
       "   ('call', 0.04984201),\n",
       "   ('incident_report', 0.041623645),\n",
       "   ('officer', 0.026501002),\n",
       "   ('ref', 0.024595002),\n",
       "   ('involve', 0.023690972),\n",
       "   ('investigation', 0.02313315),\n",
       "   ('service', 0.0199189),\n",
       "   ('log', 0.019140854),\n",
       "   ('photograph', 0.019084606)]),\n",
       " (4,\n",
       "  [('order', 0.053841714),\n",
       "   ('item', 0.034375906),\n",
       "   ('purchase', 0.029179925),\n",
       "   ('number', 0.021300681),\n",
       "   ('line', 0.01966528),\n",
       "   ('invoice', 0.013405577),\n",
       "   ('use', 0.013270147),\n",
       "   ('contact', 0.012771305),\n",
       "   ('administration', 0.012166884),\n",
       "   ('address', 0.01214518)]),\n",
       " (5,\n",
       "  [('service', 0.043602057),\n",
       "   ('contract', 0.042215873),\n",
       "   ('bid', 0.026971115),\n",
       "   ('employee', 0.022457385),\n",
       "   ('pay', 0.01849217),\n",
       "   ('management', 0.015020672),\n",
       "   ('current', 0.013790718),\n",
       "   ('proposal', 0.0136482455),\n",
       "   ('policy', 0.013318764),\n",
       "   ('amount', 0.013264102)]),\n",
       " (6,\n",
       "  [('permit', 0.11614425),\n",
       "   ('building', 0.07803176),\n",
       "   ('plan', 0.07271945),\n",
       "   ('parcel', 0.038558606),\n",
       "   ('address', 0.038369153),\n",
       "   ('build', 0.02849923),\n",
       "   ('road', 0.028257212),\n",
       "   ('avenue', 0.027903507),\n",
       "   ('street', 0.024219608),\n",
       "   ('drawing', 0.021227652)]),\n",
       " (7,\n",
       "  [('park', 0.10129399),\n",
       "   ('lot', 0.08367355),\n",
       "   ('block', 0.05737513),\n",
       "   ('center', 0.030587375),\n",
       "   ('parking', 0.028145738),\n",
       "   ('street', 0.0228134),\n",
       "   ('run', 0.016986705),\n",
       "   ('hr', 0.015340743),\n",
       "   ('gang', 0.014317369),\n",
       "   ('hit', 0.0137711195)]),\n",
       " (8,\n",
       "  [('case', 0.13114554),\n",
       "   ('video', 0.10144209),\n",
       "   ('audio', 0.037607264),\n",
       "   ('tpd', 0.032381617),\n",
       "   ('officer', 0.023324167),\n",
       "   ('recording', 0.020571956),\n",
       "   ('footage', 0.020566091),\n",
       "   ('stop', 0.019518936),\n",
       "   ('suspect', 0.019354898),\n",
       "   ('photo', 0.014925843)]),\n",
       " (9,\n",
       "  [('public', 0.04877235),\n",
       "   ('public_record', 0.02828192),\n",
       "   ('act', 0.019667437),\n",
       "   ('code', 0.019175246),\n",
       "   ('department', 0.01665022),\n",
       "   ('pursuant', 0.01549966),\n",
       "   ('section', 0.0124902185),\n",
       "   ('make', 0.012318119),\n",
       "   ('disclosure', 0.011900193),\n",
       "   ('lien', 0.010382943)]),\n",
       " (10,\n",
       "  [('dob', 0.07974463),\n",
       "   ('involve', 0.057439826),\n",
       "   ('blvd', 0.041804455),\n",
       "   ('request_police', 0.024037516),\n",
       "   ('mr', 0.01806346),\n",
       "   ('johnson', 0.012397626),\n",
       "   ('jr', 0.011580875),\n",
       "   ('kent', 0.011506726),\n",
       "   ('christopher', 0.011420858),\n",
       "   ('person', 0.0111880265)]),\n",
       " (11,\n",
       "  [('lake', 0.05172044),\n",
       "   ('view', 0.034445636),\n",
       "   ('drive', 0.029669361),\n",
       "   ('miller', 0.027523194),\n",
       "   ('willows', 0.025678026),\n",
       "   ('joe', 0.023581542),\n",
       "   ('drain', 0.017829161),\n",
       "   ('pin', 0.017362012),\n",
       "   ('range', 0.015406131),\n",
       "   ('certify', 0.011810508)]),\n",
       " (12,\n",
       "  [('number', 0.07828042),\n",
       "   ('case', 0.0642633),\n",
       "   ('court', 0.052056476),\n",
       "   ('arrest', 0.04785249),\n",
       "   ('case_number', 0.03147675),\n",
       "   ('file', 0.031262558),\n",
       "   ('complaint', 0.02875133),\n",
       "   ('demand', 0.02673748),\n",
       "   ('charge', 0.023978045),\n",
       "   ('good', 0.020688446)]),\n",
       " (13,\n",
       "  [('accident', 0.24529949),\n",
       "   ('accident_report', 0.08802903),\n",
       "   ('auto', 0.04502811),\n",
       "   ('auto_accident', 0.040566288),\n",
       "   ('lop', 0.034982964),\n",
       "   ('see', 0.03166551),\n",
       "   ('info', 0.025604255),\n",
       "   ('attached', 0.02105246),\n",
       "   ('david', 0.018072305),\n",
       "   ('hmupa', 0.013848815)]),\n",
       " (14,\n",
       "  [('fire', 0.05347635),\n",
       "   ('environmental', 0.04839296),\n",
       "   ('site', 0.041575428),\n",
       "   ('storage', 0.04090335),\n",
       "   ('hazardous', 0.039412808),\n",
       "   ('tank', 0.03787935),\n",
       "   ('material', 0.033832114),\n",
       "   ('storage_tank', 0.029336741),\n",
       "   ('hazardous_material', 0.026843337),\n",
       "   ('department', 0.023146968)]),\n",
       " (15,\n",
       "  [('property', 0.09696635),\n",
       "   ('violation', 0.057008587),\n",
       "   ('code', 0.042415395),\n",
       "   ('permit', 0.03290352),\n",
       "   ('street', 0.031013178),\n",
       "   ('building', 0.029518109),\n",
       "   ('code_violation', 0.02846041),\n",
       "   ('locate', 0.02699064),\n",
       "   ('certificate', 0.026562326),\n",
       "   ('occupancy', 0.024586286)]),\n",
       " (16,\n",
       "  [('relate', 0.04255958),\n",
       "   ('communication', 0.024511326),\n",
       "   ('correspondence', 0.02376298),\n",
       "   ('email', 0.023092438),\n",
       "   ('regard', 0.022144618),\n",
       "   ('andor', 0.020092396),\n",
       "   ('staff', 0.0170166),\n",
       "   ('letter', 0.015649315),\n",
       "   ('council', 0.015560513),\n",
       "   ('ordinance', 0.013906337)]),\n",
       " (17,\n",
       "  [('vehicle', 0.08075135),\n",
       "   ('location', 0.07323317),\n",
       "   ('theft', 0.070505194),\n",
       "   ('auto_theft', 0.025561905),\n",
       "   ('insured', 0.024197629),\n",
       "   ('burglary', 0.020628592),\n",
       "   ('apt', 0.020565117),\n",
       "   ('auto', 0.020333478),\n",
       "   ('party', 0.020121453),\n",
       "   ('plate', 0.013096655)]),\n",
       " (18,\n",
       "  [('check', 0.06590866),\n",
       "   ('tax', 0.056027967),\n",
       "   ('notice', 0.051150665),\n",
       "   ('property', 0.023193337),\n",
       "   ('esa', 0.023069268),\n",
       "   ('amount', 0.02272107),\n",
       "   ('several', 0.019062279),\n",
       "   ('local', 0.017371438),\n",
       "   ('control', 0.017304007),\n",
       "   ('resolution', 0.017246684)]),\n",
       " (19,\n",
       "  [('apartment', 0.035510775),\n",
       "   ('license', 0.032447208),\n",
       "   ('school', 0.024759926),\n",
       "   ('dept', 0.019113861),\n",
       "   ('tell', 0.017941527),\n",
       "   ('front', 0.015365031),\n",
       "   ('training', 0.015199595),\n",
       "   ('one', 0.013915112),\n",
       "   ('live', 0.013410582),\n",
       "   ('high', 0.013161271)]),\n",
       " (20,\n",
       "  [('year', 0.0729271),\n",
       "   ('past', 0.024734318),\n",
       "   ('home', 0.022111733),\n",
       "   ('cannabis', 0.019278513),\n",
       "   ('room', 0.0186572),\n",
       "   ('two', 0.016233942),\n",
       "   ('leave', 0.011651569),\n",
       "   ('old', 0.0112902755),\n",
       "   ('usc', 0.010878692),\n",
       "   ('approved', 0.010387009)]),\n",
       " (21,\n",
       "  [('email', 0.050222844),\n",
       "   ('list', 0.040031098),\n",
       "   ('send', 0.03307612),\n",
       "   ('address', 0.028109724),\n",
       "   ('name', 0.024410928),\n",
       "   ('possible', 0.021352014),\n",
       "   ('business', 0.02109457),\n",
       "   ('number', 0.019422315),\n",
       "   ('let', 0.018572595),\n",
       "   ('phone', 0.018468414)]),\n",
       " (22,\n",
       "  [('police_case', 0.07323642),\n",
       "   ('house', 0.033912294),\n",
       "   ('come', 0.020593489),\n",
       "   ('station', 0.020255212),\n",
       "   ('background', 0.01845052),\n",
       "   ('back', 0.01739074),\n",
       "   ('give', 0.015912391),\n",
       "   ('frame', 0.015881486),\n",
       "   ('call', 0.014198994),\n",
       "   ('say', 0.013631593)]),\n",
       " (23,\n",
       "  [('street', 0.07504335),\n",
       "   ('water', 0.048833076),\n",
       "   ('history', 0.037276223),\n",
       "   ('sewer', 0.0355365),\n",
       "   ('utility', 0.032225143),\n",
       "   ('property', 0.02627989),\n",
       "   ('security', 0.026150608),\n",
       "   ('sale', 0.020816263),\n",
       "   ('llc', 0.019662576),\n",
       "   ('bill', 0.015878296)]),\n",
       " (24,\n",
       "  [('property', 0.027415741),\n",
       "   ('current', 0.02389273),\n",
       "   ('regard', 0.021831788),\n",
       "   ('owner', 0.021159142),\n",
       "   ('ebi', 0.020511536),\n",
       "   ('available', 0.01897192),\n",
       "   ('subject', 0.01885958),\n",
       "   ('assault', 0.017538384),\n",
       "   ('via', 0.015618117),\n",
       "   ('contact', 0.015584252)]),\n",
       " (25,\n",
       "  [('camera', 0.04217606),\n",
       "   ('body', 0.037259296),\n",
       "   ('michael', 0.025316272),\n",
       "   ('officer', 0.019591589),\n",
       "   ('interview', 0.019095015),\n",
       "   ('john', 0.016195053),\n",
       "   ('chief', 0.01578517),\n",
       "   ('red', 0.014509215),\n",
       "   ('transcript', 0.013637389),\n",
       "   ('summary', 0.0132512385)]),\n",
       " (26,\n",
       "  [('driver', 0.06555675),\n",
       "   ('insurance', 0.04638501),\n",
       "   ('company', 0.04063539),\n",
       "   ('state', 0.037435483),\n",
       "   ('type', 0.030293716),\n",
       "   ('street', 0.030058376),\n",
       "   ('county', 0.030021032),\n",
       "   ('location', 0.029298892),\n",
       "   ('number', 0.02833472),\n",
       "   ('insurance_company', 0.027148848)]),\n",
       " (27,\n",
       "  [('inc', 0.05990947),\n",
       "   ('data', 0.040662892),\n",
       "   ('structural', 0.024348555),\n",
       "   ('bay', 0.02389537),\n",
       "   ('search', 0.023369081),\n",
       "   ('industry', 0.022023251),\n",
       "   ('maintenance', 0.018555904),\n",
       "   ('inspection', 0.01727663),\n",
       "   ('pdf', 0.016641896),\n",
       "   ('robert', 0.014869983)]),\n",
       " (28,\n",
       "  [('police', 0.25800255),\n",
       "   ('police_report', 0.13034531),\n",
       "   ('copy_police', 0.07547168),\n",
       "   ('case', 0.05098651),\n",
       "   ('police_department', 0.027006412),\n",
       "   ('officer', 0.025519056),\n",
       "   ('car', 0.020115538),\n",
       "   ('department', 0.018677296),\n",
       "   ('steal', 0.016762158),\n",
       "   ('involve', 0.013743364)]),\n",
       " (29,\n",
       "  [('collision', 0.08125414),\n",
       "   ('collision_report', 0.042570107),\n",
       "   ('statement', 0.040933803),\n",
       "   ('king', 0.033652402),\n",
       "   ('witness', 0.030138569),\n",
       "   ('page', 0.026681138),\n",
       "   ('photo', 0.024219424),\n",
       "   ('witness_statement', 0.024066),\n",
       "   ('usts', 0.021891797),\n",
       "   ('cam', 0.017776284)])]"
      ]
     },
     "execution_count": 55,
     "metadata": {},
     "output_type": "execute_result"
    }
   ],
   "source": [
    "# show topics for model\n",
    "lda_30_45.show_topics(num_topics=30, formatted=False)"
   ]
  },
  {
   "cell_type": "code",
   "execution_count": 198,
   "metadata": {},
   "outputs": [
    {
     "data": {
      "text/plain": [
       "[(0,\n",
       "  [('check', 0.10369195),\n",
       "   ('see', 0.096796714),\n",
       "   ('month', 0.03366025),\n",
       "   ('account', 0.029787252),\n",
       "   ('payee', 0.022412835),\n",
       "   ('amount', 0.022256557),\n",
       "   ('attachment', 0.022072963),\n",
       "   ('escrow', 0.020911321),\n",
       "   ('issue', 0.018710237),\n",
       "   ('still', 0.018030368)]),\n",
       " (1,\n",
       "  [('•', 0.12580512),\n",
       "   ('east', 0.039862804),\n",
       "   ('local', 0.038408782),\n",
       "   ('emergency', 0.028766017),\n",
       "   ('prevent', 0.024785917),\n",
       "   ('hereby', 0.024181787),\n",
       "   ('group', 0.021493912),\n",
       "   ('impact', 0.019941604),\n",
       "   ('nature', 0.01577148),\n",
       "   ('replacement', 0.014921277)]),\n",
       " (2,\n",
       "  [('fine', 0.04978936),\n",
       "   ('february', 0.04836553),\n",
       "   ('cam', 0.037812322),\n",
       "   ('body', 0.036818836),\n",
       "   ('injunction', 0.03467748),\n",
       "   ('training', 0.024110764),\n",
       "   ('stolen', 0.01653608),\n",
       "   ('andrew', 0.015775861),\n",
       "   ('lee', 0.015763437),\n",
       "   ('harrison', 0.01561658)]),\n",
       " (3,\n",
       "  [('lot', 0.105513096),\n",
       "   ('collision', 0.08798288),\n",
       "   ('blvd', 0.08653386),\n",
       "   ('block', 0.072315335),\n",
       "   ('south', 0.0612986),\n",
       "   ('northeast', 0.052130606),\n",
       "   ('parking', 0.04071815),\n",
       "   ('street', 0.03276923),\n",
       "   ('capitol', 0.031509712),\n",
       "   ('old', 0.019260535)]),\n",
       " (4,\n",
       "  [('k', 0.07189438),\n",
       "   ('–', 0.05744602),\n",
       "   ('april', 0.05575443),\n",
       "   ('tree', 0.048052583),\n",
       "   ('sale', 0.045384012),\n",
       "   ('march', 0.044778097),\n",
       "   ('river', 0.04367554),\n",
       "   ('enterprise', 0.029325008),\n",
       "   ('cfd', 0.022207227),\n",
       "   ('civil', 0.021170298)]),\n",
       " (5,\n",
       "  [('item', 0.046200678),\n",
       "   ('order', 0.043595135),\n",
       "   ('data', 0.03964873),\n",
       "   ('purchase', 0.03564857),\n",
       "   ('apn', 0.032274026),\n",
       "   ('system', 0.031769082),\n",
       "   ('number', 0.03058999),\n",
       "   ('record', 0.024619665),\n",
       "   ('free', 0.022463959),\n",
       "   ('line', 0.021937165)]),\n",
       " (6,\n",
       "  [('list', 0.12062508),\n",
       "   ('address', 0.103938565),\n",
       "   ('name', 0.07377468),\n",
       "   ('owner', 0.06879428),\n",
       "   ('business', 0.047815718),\n",
       "   ('number', 0.03592821),\n",
       "   ('virginia', 0.028962482),\n",
       "   ('property', 0.026465569),\n",
       "   ('chief', 0.020503506),\n",
       "   ('jan', 0.0200012)]),\n",
       " (7,\n",
       "  [('francisco', 0.24217151),\n",
       "   ('payroll', 0.06746317),\n",
       "   ('program', 0.044047974),\n",
       "   ('design', 0.028912643),\n",
       "   ('criminal', 0.028208366),\n",
       "   ('sf', 0.02325105),\n",
       "   ('housing', 0.021963894),\n",
       "   ('martin', 0.013963231),\n",
       "   ('james', 0.013598258),\n",
       "   ('lose', 0.011580467)]),\n",
       " (8,\n",
       "  [('sign', 0.043238994),\n",
       "   ('info', 0.04247556),\n",
       "   ('school', 0.041365676),\n",
       "   ('final', 0.036448497),\n",
       "   ('sheet', 0.03281809),\n",
       "   ('bay', 0.031010365),\n",
       "   ('fringe', 0.022907058),\n",
       "   ('study', 0.020834418),\n",
       "   ('square', 0.019366901),\n",
       "   ('height', 0.01847267)]),\n",
       " (9,\n",
       "  [('th', 0.15155393),\n",
       "   ('ne', 0.14902915),\n",
       "   ('st', 0.12089872),\n",
       "   ('street', 0.07805739),\n",
       "   ('wa', 0.063437544),\n",
       "   ('fire', 0.053607613),\n",
       "   ('avenue', 0.03961571),\n",
       "   ('address', 0.03732401),\n",
       "   ('nd', 0.020207772),\n",
       "   ('orleans', 0.019721018)]),\n",
       " (10,\n",
       "  [('way', 0.15697953),\n",
       "   ('notice', 0.099844046),\n",
       "   ('attach', 0.060478803),\n",
       "   ('doc', 0.028175134),\n",
       "   ('mall', 0.022884464),\n",
       "   ('subject', 0.019953202),\n",
       "   ('due', 0.019693164),\n",
       "   ('evergreen', 0.019655487),\n",
       "   ('wa', 0.015782828),\n",
       "   ('installation', 0.013602392)]),\n",
       " (11,\n",
       "  [('please', 0.06052919),\n",
       "   ('request', 0.04604338),\n",
       "   ('email', 0.025031727),\n",
       "   ('information', 0.024526408),\n",
       "   ('provide', 0.020990256),\n",
       "   ('fee', 0.018248502),\n",
       "   ('thank', 0.018043118),\n",
       "   ('cost', 0.017732656),\n",
       "   ('contact', 0.01688703),\n",
       "   ('via', 0.015184254)]),\n",
       " (12,\n",
       "  [('nw', 0.069616094),\n",
       "   ('personnel', 0.05481637),\n",
       "   ('social', 0.035037667),\n",
       "   ('main', 0.03378817),\n",
       "   ('family', 0.029872932),\n",
       "   ('co', 0.029370468),\n",
       "   ('llc', 0.028192341),\n",
       "   ('division', 0.027301662),\n",
       "   ('health', 0.024072945),\n",
       "   ('drain', 0.02175173)]),\n",
       " (13,\n",
       "  [('assault', 0.089297466),\n",
       "   ('z', 0.046118878),\n",
       "   ('valley', 0.041427698),\n",
       "   ('dv', 0.029646117),\n",
       "   ('municipal', 0.027416894),\n",
       "   ('dob', 0.02388734),\n",
       "   ('arrest', 0.022764182),\n",
       "   ('cause', 0.021667473),\n",
       "   ('husband', 0.020537317),\n",
       "   ('book', 0.018998696)]),\n",
       " (14,\n",
       "  [('ave', 0.22806431),\n",
       "   ('e', 0.066897444),\n",
       "   ('th', 0.06323005),\n",
       "   ('certified', 0.059046127),\n",
       "   ('theft', 0.048288044),\n",
       "   ('w', 0.04670149),\n",
       "   ('st', 0.040421803),\n",
       "   ('rd', 0.030994572),\n",
       "   ('wa', 0.026208282),\n",
       "   ('miller', 0.019672003)]),\n",
       " (15,\n",
       "  [('want', 0.07700013),\n",
       "   ('close', 0.034510642),\n",
       "   ('agreement', 0.034239665),\n",
       "   ('sidewalk', 0.0328971),\n",
       "   ('drainage', 0.02761793),\n",
       "   ('mention', 0.024135988),\n",
       "   ('second', 0.022156257),\n",
       "   ('international', 0.021304926),\n",
       "   ('green', 0.02075104),\n",
       "   ('mission', 0.02038438)]),\n",
       " (16,\n",
       "  [('report', 0.131277),\n",
       "   ('incident', 0.041775033),\n",
       "   ('statement', 0.038279455),\n",
       "   ('police', 0.037610818),\n",
       "   ('investigation', 0.03748145),\n",
       "   ('audio', 0.029967185),\n",
       "   ('video', 0.029553795),\n",
       "   ('officer', 0.028734487),\n",
       "   ('call', 0.028301729),\n",
       "   ('log', 0.027617846)]),\n",
       " (17,\n",
       "  [('file', 0.23008147),\n",
       "   ('complete', 0.038291067),\n",
       "   ('district', 0.029084565),\n",
       "   ('control', 0.026361875),\n",
       "   ('maintenance', 0.023622181),\n",
       "   ('pdf', 0.020170005),\n",
       "   ('result', 0.017949983),\n",
       "   ('sammamish', 0.017245451),\n",
       "   ('test', 0.017121356),\n",
       "   ('short', 0.016943635)]),\n",
       " (18,\n",
       "  [('project', 0.16949034),\n",
       "   ('road', 0.09015457),\n",
       "   ('construction', 0.049495783),\n",
       "   ('improvement', 0.03319002),\n",
       "   ('work', 0.031973895),\n",
       "   ('august', 0.027938096),\n",
       "   ('proposal', 0.02781875),\n",
       "   ('willow', 0.022031598),\n",
       "   ('tenant', 0.017087577),\n",
       "   ('lease', 0.017071549)]),\n",
       " (19,\n",
       "  [('record', 0.08023048),\n",
       "   ('public', 0.053412605),\n",
       "   ('request', 0.047149453),\n",
       "   ('act', 0.022591373),\n",
       "   ('section', 0.019949151),\n",
       "   ('pursuant', 0.01925),\n",
       "   ('code', 0.01402012),\n",
       "   ('department', 0.012749289),\n",
       "   ('make', 0.012701275),\n",
       "   ('“', 0.011408052)]),\n",
       " (20,\n",
       "  [('complaint', 0.07728778),\n",
       "   ('may', 0.04688213),\n",
       "   ('anything', 0.03912611),\n",
       "   ('concern', 0.03669084),\n",
       "   ('page', 0.03600206),\n",
       "   ('citation', 0.0352441),\n",
       "   ('send', 0.03414901),\n",
       "   ('make', 0.032600816),\n",
       "   ('activity', 0.029381948),\n",
       "   ('jurisdiction', 0.027578432)]),\n",
       " (21,\n",
       "  [('environmental', 0.042194266),\n",
       "   ('storage', 0.03612098),\n",
       "   ('property', 0.035979733),\n",
       "   ('hazardous', 0.035209954),\n",
       "   ('tank', 0.033679686),\n",
       "   ('record', 0.03367465),\n",
       "   ('material', 0.029464668),\n",
       "   ('site', 0.02737171),\n",
       "   ('assessment', 0.025945527),\n",
       "   ('street', 0.024985515)]),\n",
       " (22,\n",
       "  [('plan', 0.20993495),\n",
       "   ('site', 0.07457245),\n",
       "   ('drawing', 0.037861213),\n",
       "   ('development', 0.033553313),\n",
       "   ('unit', 0.032022167),\n",
       "   ('approve', 0.023828682),\n",
       "   ('parcel', 0.023218581),\n",
       "   ('build', 0.019811818),\n",
       "   ('construction', 0.01560129),\n",
       "   ('look', 0.015252638)]),\n",
       " (23,\n",
       "  [('vehicle', 0.08814205),\n",
       "   ('video', 0.07368954),\n",
       "   ('officer', 0.06459289),\n",
       "   ('party', 0.0533936),\n",
       "   ('pm', 0.05297517),\n",
       "   ('time', 0.03647995),\n",
       "   ('involve', 0.032866336),\n",
       "   ('footage', 0.029928008),\n",
       "   ('mark', 0.023357527),\n",
       "   ('approximately', 0.018706469)]),\n",
       " (24,\n",
       "  [('crime', 0.06345317),\n",
       "   ('victim', 0.061730634),\n",
       "   ('claim', 0.055382162),\n",
       "   ('lop', 0.051599152),\n",
       "   ('name', 0.03214631),\n",
       "   ('apt', 0.03201718),\n",
       "   ('location', 0.028391005),\n",
       "   ('dob', 0.027078845),\n",
       "   ('michael', 0.026693119),\n",
       "   ('abatement', 0.024770057)]),\n",
       " (25,\n",
       "  [('driver', 0.0680749),\n",
       "   ('insurance', 0.05496117),\n",
       "   ('location', 0.05328978),\n",
       "   ('auto', 0.048138283),\n",
       "   ('county', 0.046393625),\n",
       "   ('accident', 0.044633232),\n",
       "   ('state', 0.042120844),\n",
       "   ('company', 0.04045345),\n",
       "   ('type', 0.033768855),\n",
       "   ('loss', 0.03371246)]),\n",
       " (26,\n",
       "  [('p', 0.107619055),\n",
       "   ('lake', 0.055252798),\n",
       "   ('north', 0.053837884),\n",
       "   ('community', 0.041004006),\n",
       "   ('washington', 0.033143062),\n",
       "   ('room', 0.026340915),\n",
       "   ('measure', 0.018407604),\n",
       "   ('collect', 0.01686697),\n",
       "   ('garden', 0.015848015),\n",
       "   ('resource', 0.014752307)]),\n",
       " (27,\n",
       "  [('park', 0.11649555),\n",
       "   ('year', 0.081773534),\n",
       "   ('alto', 0.039082147),\n",
       "   ('past', 0.03862032),\n",
       "   ('camera', 0.03842039),\n",
       "   ('two', 0.031336267),\n",
       "   ('within', 0.026282545),\n",
       "   ('ct', 0.024895936),\n",
       "   ('resident', 0.022011777),\n",
       "   ('afternoon', 0.018842226)]),\n",
       " (28,\n",
       "  [('bid', 0.08760211),\n",
       "   ('rfp', 0.039450407),\n",
       "   ('award', 0.03407154),\n",
       "   ('background', 0.03322278),\n",
       "   ('issue', 0.031896282),\n",
       "   ('three', 0.025945345),\n",
       "   ('live', 0.023485875),\n",
       "   ('year', 0.019063033),\n",
       "   ('however', 0.018075729),\n",
       "   ('submit', 0.017402753)]),\n",
       " (29,\n",
       "  [('show', 0.053205077),\n",
       "   ('invoice', 0.05057706),\n",
       "   ('’', 0.049205914),\n",
       "   ('demand', 0.047201246),\n",
       "   ('along', 0.036201816),\n",
       "   ('payment', 0.028395506),\n",
       "   ('amount', 0.026071208),\n",
       "   ('do', 0.025880102),\n",
       "   ('repair', 0.02569445),\n",
       "   ('recent', 0.024706833)]),\n",
       " (30,\n",
       "  [('police', 0.2025837),\n",
       "   ('department', 0.056089517),\n",
       "   ('officer', 0.036411062),\n",
       "   ('call', 0.022356495),\n",
       "   ('go', 0.01909822),\n",
       "   ('need', 0.015437776),\n",
       "   ('time', 0.015212258),\n",
       "   ('back', 0.014066433),\n",
       "   ('dispatch', 0.012729745),\n",
       "   ('make', 0.01252169)]),\n",
       " (31,\n",
       "  [('incident', 0.18890677),\n",
       "   ('police', 0.09514556),\n",
       "   ('involve', 0.0797387),\n",
       "   ('call', 0.07045691),\n",
       "   ('house', 0.036563043),\n",
       "   ('occur', 0.035300087),\n",
       "   ('november', 0.022769552),\n",
       "   ('domestic', 0.020904647),\n",
       "   ('person', 0.017937098),\n",
       "   ('violence', 0.016210016)]),\n",
       " (32,\n",
       "  [('apartment', 0.082486644),\n",
       "   ('steal', 0.08021365),\n",
       "   ('lane', 0.04699667),\n",
       "   ('industrial', 0.044991795),\n",
       "   ('david', 0.038105432),\n",
       "   ('hour', 0.031369716),\n",
       "   ('plat', 0.026470758),\n",
       "   ('mobile', 0.02227587),\n",
       "   ('certify', 0.017997464),\n",
       "   ('complex', 0.016946474)]),\n",
       " (33,\n",
       "  [('california', 0.18317905),\n",
       "   ('security', 0.054592423),\n",
       "   ('total', 0.047176957),\n",
       "   ('benefit', 0.03688574),\n",
       "   ('general', 0.0343039),\n",
       "   ('federal', 0.023299744),\n",
       "   ('robert', 0.021303976),\n",
       "   ('database', 0.0143941175),\n",
       "   ('problem', 0.011955298),\n",
       "   ('administrator', 0.011362152)]),\n",
       " (34,\n",
       "  [('employee', 0.036559813),\n",
       "   ('license', 0.033306915),\n",
       "   ('ca', 0.032662306),\n",
       "   ('year', 0.031720906),\n",
       "   ('pay', 0.030682508),\n",
       "   ('title', 0.02734239),\n",
       "   ('name', 0.025708638),\n",
       "   ('subcontractor', 0.02369086),\n",
       "   ('h', 0.02270046),\n",
       "   ('contractor', 0.019928463)]),\n",
       " (35,\n",
       "  [('like', 0.11776388),\n",
       "   ('thank', 0.05809257),\n",
       "   ('know', 0.048353102),\n",
       "   ('need', 0.046833985),\n",
       "   ('look', 0.028154971),\n",
       "   ('get', 0.02606291),\n",
       "   ('thanks', 0.024382832),\n",
       "   ('would', 0.024338925),\n",
       "   ('let', 0.023108378),\n",
       "   ('hello', 0.018681142)]),\n",
       " (36,\n",
       "  [('service', 0.15552299),\n",
       "   ('contract', 0.101241596),\n",
       "   ('inc', 0.074433826),\n",
       "   ('utility', 0.04958777),\n",
       "   ('management', 0.043792654),\n",
       "   ('perform', 0.037201095),\n",
       "   ('facility', 0.036288578),\n",
       "   ('current', 0.026298465),\n",
       "   ('someone', 0.017546229),\n",
       "   ('electric', 0.016483085)]),\n",
       " (37,\n",
       "  [('date', 0.09769224),\n",
       "   ('id', 0.08164018),\n",
       "   ('j', 0.061535973),\n",
       "   ('thurston', 0.05719818),\n",
       "   ('hill', 0.050588064),\n",
       "   ('la', 0.03068937),\n",
       "   ('pin', 0.020334143),\n",
       "   ('renovation', 0.019767879),\n",
       "   ('pacific', 0.019537931),\n",
       "   ('rd', 0.015639758)]),\n",
       " (38,\n",
       "  [('car', 0.09662706),\n",
       "   ('se', 0.06590977),\n",
       "   ('place', 0.06039815),\n",
       "   ('hit', 0.037491173),\n",
       "   ('take', 0.036778327),\n",
       "   ('around', 0.03161381),\n",
       "   ('damage', 0.027694663),\n",
       "   ('run', 0.02741082),\n",
       "   ('happen', 0.021661457),\n",
       "   ('willows', 0.02009064)]),\n",
       " (39,\n",
       "  [('permit', 0.1007283),\n",
       "   ('building', 0.08098393),\n",
       "   ('property', 0.05773864),\n",
       "   ('violation', 0.048272625),\n",
       "   ('code', 0.045068637),\n",
       "   ('certificate', 0.026256079),\n",
       "   ('occupancy', 0.023872187),\n",
       "   ('fire', 0.023801053),\n",
       "   ('ca', 0.022771738),\n",
       "   ('street', 0.022516303)]),\n",
       " (40,\n",
       "  [('dob', 0.098687045),\n",
       "   ('june', 0.07050424),\n",
       "   ('january', 0.06669102),\n",
       "   ('present', 0.06472582),\n",
       "   ('july', 0.059194446),\n",
       "   ('pertain', 0.030829834),\n",
       "   ('l', 0.024830125),\n",
       "   ('involve', 0.02244484),\n",
       "   ('individual', 0.021427898),\n",
       "   ('v', 0.020476807)]),\n",
       " (41,\n",
       "  [('drive', 0.14908747),\n",
       "   ('n', 0.060818646),\n",
       "   ('search', 0.059572257),\n",
       "   ('warrant', 0.02803391),\n",
       "   ('ann', 0.025050774),\n",
       "   ('define', 0.021200163),\n",
       "   ('bryte', 0.018094188),\n",
       "   ('inspection', 0.017902484),\n",
       "   ('loudoun', 0.01716223),\n",
       "   ('drug', 0.016013276)]),\n",
       " (42,\n",
       "  [('case', 0.28649735),\n",
       "   ('police', 0.1106942),\n",
       "   ('number', 0.080262475),\n",
       "   ('arrest', 0.066702046),\n",
       "   ('court', 0.059839852),\n",
       "   ('tpd', 0.029185902),\n",
       "   ('labor', 0.025096025),\n",
       "   ('hearing', 0.015370999),\n",
       "   ('regard', 0.014793703),\n",
       "   ('need', 0.012605769)]),\n",
       " (43,\n",
       "  [('center', 0.08452752),\n",
       "   ('charge', 0.054674823),\n",
       "   ('field', 0.04663627),\n",
       "   ('side', 0.041662022),\n",
       "   ('john', 0.033249363),\n",
       "   ('ground', 0.030727562),\n",
       "   ('jefferson', 0.02465091),\n",
       "   ('animal', 0.021215336),\n",
       "   ('black', 0.020497557),\n",
       "   ('christopher', 0.01694775)]),\n",
       " (44,\n",
       "  [('accident', 0.20781979),\n",
       "   ('traffic', 0.08424894),\n",
       "   ('client', 0.049845457),\n",
       "   ('intersection', 0.045875486),\n",
       "   ('light', 0.02808533),\n",
       "   ('medical', 0.026162045),\n",
       "   ('office', 0.024126543),\n",
       "   ('cd', 0.021263342),\n",
       "   ('occur', 0.01803911),\n",
       "   ('creek', 0.016885648)]),\n",
       " (45,\n",
       "  [('property', 0.09416882),\n",
       "   ('tax', 0.06317826),\n",
       "   ('water', 0.06256652),\n",
       "   ('map', 0.053431455),\n",
       "   ('sewer', 0.04339265),\n",
       "   ('parcel', 0.031859376),\n",
       "   ('street', 0.024333412),\n",
       "   ('storm', 0.024189407),\n",
       "   ('area', 0.021078406),\n",
       "   ('line', 0.019161103)]),\n",
       " (46,\n",
       "  [('relate', 0.19164924),\n",
       "   ('ref', 0.062926576),\n",
       "   ('without', 0.03349142),\n",
       "   ('present', 0.026733896),\n",
       "   ('boulevard', 0.02584737),\n",
       "   ('gang', 0.02517135),\n",
       "   ('related', 0.02251542),\n",
       "   ('aka', 0.02232876),\n",
       "   ('refer', 0.021634245),\n",
       "   ('island', 0.018518008)]),\n",
       " (47,\n",
       "  [('city', 0.06985559),\n",
       "   ('email', 0.035558518),\n",
       "   ('document', 0.029205054),\n",
       "   ('relate', 0.026502261),\n",
       "   ('communication', 0.025818124),\n",
       "   ('include', 0.022586696),\n",
       "   ('correspondence', 0.020916872),\n",
       "   ('regard', 0.020371318),\n",
       "   ('letter', 0.019936446),\n",
       "   ('andor', 0.018491559)]),\n",
       " (48,\n",
       "  [('application', 0.08398047),\n",
       "   ('sw', 0.077905476),\n",
       "   ('submit', 0.06252688),\n",
       "   ('view', 0.041229147),\n",
       "   ('card', 0.0361769),\n",
       "   ('update', 0.028182339),\n",
       "   ('credit', 0.023593001),\n",
       "   ('applicant', 0.022161461),\n",
       "   ('grand', 0.015538625),\n",
       "   ('identity', 0.01478539)]),\n",
       " (49,\n",
       "  [('enforcement', 0.09381319),\n",
       "   ('since', 0.073680125),\n",
       "   ('child', 0.04237331),\n",
       "   ('possession', 0.03797753),\n",
       "   ('law', 0.032330237),\n",
       "   ('agency', 0.026295664),\n",
       "   ('active', 0.024598023),\n",
       "   ('relevant', 0.02443748),\n",
       "   ('investigate', 0.01913025),\n",
       "   ('lead', 0.018829824)])]"
      ]
     },
     "execution_count": 198,
     "metadata": {},
     "output_type": "execute_result"
    }
   ],
   "source": [
    "# show topics for model\n",
    "lda_50_45_2.show_topics(num_topics=50, formatted=False)"
   ]
  },
  {
   "cell_type": "code",
   "execution_count": 48,
   "metadata": {
    "collapsed": true
   },
   "outputs": [],
   "source": [
    "# save good model\n",
    "lda_40_45.save('lda_40_45_model')"
   ]
  },
  {
   "cell_type": "code",
   "execution_count": 19,
   "metadata": {
    "collapsed": true
   },
   "outputs": [],
   "source": [
    "lda_40_45 = gensim.models.ldamodel.LdaModel.load('lda_40_45_model')"
   ]
  },
  {
   "cell_type": "code",
   "execution_count": 20,
   "metadata": {
    "collapsed": true
   },
   "outputs": [],
   "source": [
    "corpus_lda = lda_40_45[corpus] #this is just a wrapper; calculates on the fly when you call it\n",
    "\n"
   ]
  },
  {
   "cell_type": "code",
   "execution_count": 21,
   "metadata": {
    "collapsed": true
   },
   "outputs": [],
   "source": [
    "corpus_lda_list = list(corpus_lda)"
   ]
  },
  {
   "cell_type": "code",
   "execution_count": 76,
   "metadata": {},
   "outputs": [
    {
     "name": "stdout",
     "output_type": "stream",
     "text": [
      "Score: 0.39515647292137146\t Topic: 0.106*\"incident\" + 0.090*\"police\" + 0.050*\"involve\" + 0.045*\"officer\" + 0.038*\"accident\" + 0.035*\"vehicle\" + 0.031*\"occur\" + 0.030*\"car\" + 0.022*\"pm\" + 0.015*\"assault\" + 0.014*\"steal\" + 0.013*\"cad\" + 0.013*\"take\" + 0.012*\"footage\" + 0.011*\"collision\" \n",
      "\n",
      "Score: 0.18334083259105682\t Topic: 0.028*\"relate\" + 0.021*\"tax\" + 0.019*\"communication\" + 0.018*\"regard\" + 0.016*\"correspondence\" + 0.014*\"council\" + 0.014*\"project\" + 0.014*\"andor\" + 0.013*\"staff\" + 0.012*\"public\" + 0.011*\"meeting\" + 0.011*\"program\" + 0.011*\"’\" + 0.010*\"alto\" + 0.010*\"june\" \n",
      "\n",
      "Score: 0.14973963797092438\t Topic: 0.052*\"public\" + 0.023*\"may\" + 0.021*\"act\" + 0.017*\"concern\" + 0.016*\"office\" + 0.015*\"make\" + 0.015*\"send\" + 0.013*\"time\" + 0.013*\"day\" + 0.013*\"disclosure\" + 0.013*\"fax\" + 0.012*\"via\" + 0.011*\"available\" + 0.011*\"matter\" + 0.011*\"’\" \n",
      "\n",
      "Score: 0.12363619357347488\t Topic: 0.057*\"call\" + 0.035*\"get\" + 0.019*\"make\" + 0.019*\"want\" + 0.016*\"go\" + 0.015*\"one\" + 0.015*\"find\" + 0.013*\"could\" + 0.013*\"give\" + 0.012*\"suspect\" + 0.012*\"back\" + 0.012*\"time\" + 0.012*\"try\" + 0.012*\"domestic\" + 0.011*\"come\" \n",
      "\n",
      "Score: 0.09257131814956665\t Topic: 0.056*\"project\" + 0.055*\"contract\" + 0.041*\"bid\" + 0.040*\"inc\" + 0.024*\"nw\" + 0.023*\"–\" + 0.023*\"service\" + 0.021*\"contractor\" + 0.020*\"electrical\" + 0.020*\"construction\" + 0.019*\"proposal\" + 0.018*\"rfp\" + 0.017*\"info\" + 0.016*\"management\" + 0.016*\"award\" \n",
      "\n"
     ]
    }
   ],
   "source": [
    "for index, score in sorted(lda_30_45[corpus[600]], key=lambda tup: -1*tup[1]): #600th document\n",
    "    print(\"Score: {}\\t Topic: {} \\n\".format(score, lda_30_45.print_topic(index, 15))) #15 word topics"
   ]
  },
  {
   "cell_type": "code",
   "execution_count": 80,
   "metadata": {},
   "outputs": [
    {
     "data": {
      "text/plain": [
       "['release',\n",
       " 'pertain',\n",
       " 'police',\n",
       " 'call',\n",
       " 'fight',\n",
       " 'timber',\n",
       " 'vintage',\n",
       " 'premise',\n",
       " 'occur',\n",
       " 'approximately',\n",
       " 'pm',\n",
       " 'name',\n",
       " 'people',\n",
       " 'involve']"
      ]
     },
     "execution_count": 80,
     "metadata": {},
     "output_type": "execute_result"
    }
   ],
   "source": [
    "data.mash2[600]"
   ]
  },
  {
   "cell_type": "code",
   "execution_count": 22,
   "metadata": {},
   "outputs": [
    {
     "data": {
      "text/html": [
       "<div>\n",
       "<style scoped>\n",
       "    .dataframe tbody tr th:only-of-type {\n",
       "        vertical-align: middle;\n",
       "    }\n",
       "\n",
       "    .dataframe tbody tr th {\n",
       "        vertical-align: top;\n",
       "    }\n",
       "\n",
       "    .dataframe thead th {\n",
       "        text-align: right;\n",
       "    }\n",
       "</style>\n",
       "<table border=\"1\" class=\"dataframe\">\n",
       "  <thead>\n",
       "    <tr style=\"text-align: right;\">\n",
       "      <th></th>\n",
       "      <th>index</th>\n",
       "      <th>Summary</th>\n",
       "      <th>city</th>\n",
       "      <th>month_year</th>\n",
       "      <th>sum_ed</th>\n",
       "      <th>token</th>\n",
       "      <th>lemma</th>\n",
       "      <th>mash</th>\n",
       "      <th>mash_len</th>\n",
       "      <th>mash2</th>\n",
       "      <th>topic_comp</th>\n",
       "    </tr>\n",
       "  </thead>\n",
       "  <tbody>\n",
       "    <tr>\n",
       "      <th>0</th>\n",
       "      <td>0</td>\n",
       "      <td>We are working with an engineering firm on an upcoming project.  They have asked us to gather maps for this project.  Would you be able to assist me in gathering maps/records (as builds) for any underground water facilities you may have?  Something just showing the route of the water lines would do.\\n\\n207th ST NE to 92nd Ave NE, Arlington, Cascade Surveying &amp; Engineering \\n\\nI have attached the scope for your convenience.  Please let me know if you have questions.</td>\n",
       "      <td>Arlington</td>\n",
       "      <td>2018-06</td>\n",
       "      <td>we are working with an engineering firm on an upcoming project  they have asked us to gather maps for this project  would you be able to assist me in gathering mapsrecords as builds for any underground water facilities you may have  something just showing the route of the water lines would do\\n\\nth st ne to nd ave ne  cascade surveying  engineering \\n\\ni have attached the scope for your convenience  please let me know if you have questions</td>\n",
       "      <td>[we, are, working, with, an, engineering, firm, on, an, upcoming, project, they, have, asked, us, to, gather, maps, for, this, project, would, you, be, able, to, assist, me, in, gathering, mapsrecords, as, builds, for, any, underground, water, facilities, you, may, have, something, just, showing, the, route, of, the, water, lines, would, do, th, st, ne, to, nd, ave, ne, cascade, surveying, engineering, i, have, attached, the, scope, for, your, convenience, please, let, me, know, if, you, have, questions]</td>\n",
       "      <td>[(we, PRP), (are, VBP), (working, VBG), (with, IN), (an, DT), (engineering, NN), (firm, NN), (on, IN), (an, DT), (upcoming, JJ), (project, NN), (they, PRP), (have, VBP), (asked, VBN), (us, PRP), (to, TO), (gather, VB), (maps, NNS), (for, IN), (this, DT), (project, NN), (would, MD), (you, PRP), (be, VB), (able, JJ), (to, TO), (assist, VB), (me, PRP), (in, IN), (gathering, VBG), (mapsrecords, NNS), (as, IN), (builds, NNS), (for, IN), (any, DT), (underground, JJ), (water, NN), (facilities, NNS), (you, PRP), (may, MD), (have, VB), (something, NN), (just, RB), (showing, VBG), (the, DT), (route, NN), (of, IN), (the, DT), (water, NN), (lines, NNS), (would, MD), (do, VB), (th, VB), (st, VB), (ne, JJ), (to, TO), (nd, VB), (ave, VB), (ne, JJ), (cascade, NN), (surveying, VBG), (engineering, NN), (i, NN), (have, VBP), (attached, VBN), (the, DT), (scope, NN), (for, IN), (your, PRP$), (convenience, NN), (please, NN), (let, VB), (me, PRP), (know, VB), (if, IN), (you, PRP), (have, VBP), (questions...</td>\n",
       "      <td>[work, engineering, firm, upcoming, project, ask, u, gather, map, project, would, able, assist, gather, mapsrecords, build, underground, water, facility, may, something, show, route, water, line, would, th, st, ne, nd, ave, ne, cascade, survey, engineering, attach, scope, convenience, please, let, know, question]</td>\n",
       "      <td>35</td>\n",
       "      <td>[work, engineering, firm, upcoming, project, ask, u, gather, map, project, able, assist, gather, mapsrecords, build, underground, water, facility, may, something, show, route, water, line, ne, ave, ne, cascade, survey, engineering, attach, scope, convenience, let, question]</td>\n",
       "      <td>[(4, 0.058519535), (7, 0.15559511), (13, 0.26867396), (15, 0.11090568), (18, 0.25908148), (26, 0.08402779), (36, 0.040279742)]</td>\n",
       "    </tr>\n",
       "    <tr>\n",
       "      <th>1</th>\n",
       "      <td>1</td>\n",
       "      <td>Need copies of contracts and all related documents pertaining to Topcub Aircraft property located at 17922 59th DR NE Arlington WA 98223 between Arlington Airport, Topcub Aircraft, City of Arlington, HCI Steel Buildings and PUD.</td>\n",
       "      <td>Arlington</td>\n",
       "      <td>2018-06</td>\n",
       "      <td>need copies of contracts and all related documents pertaining to topcub aircraft property located at  th dr ne  wa  between  airport topcub aircraft city of  hci steel buildings and pud</td>\n",
       "      <td>[need, copies, of, contracts, and, all, related, documents, pertaining, to, topcub, aircraft, property, located, at, th, dr, ne, wa, between, airport, topcub, aircraft, city, of, hci, steel, buildings, and, pud]</td>\n",
       "      <td>[(need, NN), (copies, NNS), (of, IN), (contracts, NNS), (and, CC), (all, DT), (related, JJ), (documents, NNS), (pertaining, VBG), (to, TO), (topcub, VB), (aircraft, NN), (property, NN), (located, VBN), (at, IN), (th, NN), (dr, NN), (ne, JJ), (wa, NN), (between, IN), (airport, NN), (topcub, NN), (aircraft, NN), (city, NN), (of, IN), (hci, JJ), (steel, NN), (buildings, NNS), (and, CC), (pud, NN)]</td>\n",
       "      <td>[need, copy, contract, related, document, pertain, topcub, aircraft, property, locate, th, dr, ne, wa, airport, topcub, aircraft, city, hci, steel, building, pud]</td>\n",
       "      <td>16</td>\n",
       "      <td>[contract, related, pertain, topcub, aircraft, property, locate, dr, ne, airport, topcub, aircraft, hci, steel, building, pud]</td>\n",
       "      <td>[(7, 0.24477227), (9, 0.0770352), (12, 0.060294118), (22, 0.21201606), (26, 0.1779412), (28, 0.060294118), (32, 0.119117655)]</td>\n",
       "    </tr>\n",
       "    <tr>\n",
       "      <th>2</th>\n",
       "      <td>2</td>\n",
       "      <td>Copies of Building Permits of $5,000 valuation and up ($20,000 min for Re-Roofs), ($50,000 min. for Cell Tower upgrades), (Electrical, Mechanical &amp; Plumbing at $100,000 min.) and (Solar Panels, Swimming Pools &amp; Foundations at any valuation)</td>\n",
       "      <td>Arlington</td>\n",
       "      <td>2018-06</td>\n",
       "      <td>copies of building permits of  valuation and up  min for reroofs  min for cell tower upgrades electrical mechanical  plumbing at  min and solar panels swimming pools  foundations at any valuation</td>\n",
       "      <td>[copies, of, building, permits, of, valuation, and, up, min, for, reroofs, min, for, cell, tower, upgrades, electrical, mechanical, plumbing, at, min, and, solar, panels, swimming, pools, foundations, at, any, valuation]</td>\n",
       "      <td>[(copies, NNS), (of, IN), (building, VBG), (permits, NNS), (of, IN), (valuation, NN), (and, CC), (up, RB), (min, NN), (for, IN), (reroofs, NN), (min, NN), (for, IN), (cell, NN), (tower, NN), (upgrades, JJ), (electrical, JJ), (mechanical, JJ), (plumbing, NN), (at, IN), (min, NN), (and, CC), (solar, JJ), (panels, NNS), (swimming, VBG), (pools, JJ), (foundations, NNS), (at, IN), (any, DT), (valuation, NN)]</td>\n",
       "      <td>[copy, build, permit, valuation, min, reroofs, min, cell, tower, upgrades, electrical, mechanical, plumbing, min, solar, panel, swim, pools, foundation, valuation]</td>\n",
       "      <td>19</td>\n",
       "      <td>[build, permit, valuation, min, reroofs, min, cell, tower, upgrades, electrical, mechanical, plumbing, min, solar, panel, swim, pools, foundation, valuation]</td>\n",
       "      <td>[(16, 0.40124997), (18, 0.11533149), (30, 0.116628885), (34, 0.25125003), (38, 0.07178962)]</td>\n",
       "    </tr>\n",
       "    <tr>\n",
       "      <th>3</th>\n",
       "      <td>3</td>\n",
       "      <td>police report filed to an officer against Wayne Parris (DOB 08-03-1957) from Brittany J. Parris. The paperwork I have has a case number D18-39 it is also stamped at the bottom with 18-1294, Iím not sure which number you will need. If there is any other information needed please let me know.</td>\n",
       "      <td>Arlington</td>\n",
       "      <td>2018-06</td>\n",
       "      <td>police report filed to an officer against wayne parris dob  from brittany j parris the paperwork i have has a case number d it is also stamped at the bottom with  iím not sure which number you will need if there is any other information needed please let me know</td>\n",
       "      <td>[police, report, filed, to, an, officer, against, wayne, parris, dob, from, brittany, j, parris, the, paperwork, i, have, has, a, case, number, d, it, is, also, stamped, at, the, bottom, with, iím, not, sure, which, number, you, will, need, if, there, is, any, other, information, needed, please, let, me, know]</td>\n",
       "      <td>[(police, NNS), (report, NN), (filed, VBD), (to, TO), (an, DT), (officer, NN), (against, IN), (wayne, JJ), (parris, JJ), (dob, NN), (from, IN), (brittany, JJ), (j, NN), (parris, VBD), (the, DT), (paperwork, NN), (i, NN), (have, VBP), (has, VBZ), (a, DT), (case, NN), (number, NN), (d, NN), (it, PRP), (is, VBZ), (also, RB), (stamped, VBN), (at, IN), (the, DT), (bottom, NN), (with, IN), (iím, JJ), (not, RB), (sure, JJ), (which, WDT), (number, NN), (you, PRP), (will, MD), (need, VB), (if, IN), (there, EX), (is, VBZ), (any, DT), (other, JJ), (information, NN), (needed, VBN), (please, NN), (let, VB), (me, PRP), (know, VB)]</td>\n",
       "      <td>[police, report, file, officer, wayne, parris, dob, brittany, j, parris, paperwork, case, number, also, stamp, bottom, iím, sure, number, need, information, need, please, let, know]</td>\n",
       "      <td>19</td>\n",
       "      <td>[police, file, officer, wayne, parris, dob, brittany, j, parris, paperwork, case, number, also, stamp, bottom, iím, sure, number, let]</td>\n",
       "      <td>[(2, 0.120102145), (6, 0.17494985), (7, 0.06089121), (10, 0.20124999), (16, 0.05125), (27, 0.10326719), (29, 0.18017665), (31, 0.068112925)]</td>\n",
       "    </tr>\n",
       "    <tr>\n",
       "      <th>4</th>\n",
       "      <td>4</td>\n",
       "      <td>Email Communications between Stephanie Shook, Dave Kraski, Bruce Stedman and Chad Schmidt in regards to Fire Protection District 21 billing and passage of contract for ALS Services. \\n\\nAlso any copies of Agenda Bills, D21 Contract and materials presented for review in Nov/Dec time frame in regards to the contract.</td>\n",
       "      <td>Arlington</td>\n",
       "      <td>2018-06</td>\n",
       "      <td>email communications between stephanie shook dave kraski bruce stedman and chad schmidt in regards to fire protection district  billing and passage of contract for als services \\n\\nalso any copies of agenda bills d contract and materials presented for review in novdec time frame in regards to the contract</td>\n",
       "      <td>[email, communications, between, stephanie, shook, dave, kraski, bruce, stedman, and, chad, schmidt, in, regards, to, fire, protection, district, billing, and, passage, of, contract, for, als, services, also, any, copies, of, agenda, bills, d, contract, and, materials, presented, for, review, in, novdec, time, frame, in, regards, to, the, contract]</td>\n",
       "      <td>[(email, NN), (communications, NNS), (between, IN), (stephanie, JJ), (shook, NN), (dave, VBP), (kraski, VBN), (bruce, NN), (stedman, NN), (and, CC), (chad, VBD), (schmidt, VBN), (in, IN), (regards, NNS), (to, TO), (fire, VB), (protection, NN), (district, NN), (billing, NN), (and, CC), (passage, NN), (of, IN), (contract, NN), (for, IN), (als, NNS), (services, NNS), (also, RB), (any, DT), (copies, NNS), (of, IN), (agenda, NN), (bills, NNS), (d, VBP), (contract, NN), (and, CC), (materials, NNS), (presented, VBN), (for, IN), (review, NN), (in, IN), (novdec, JJ), (time, NN), (frame, NN), (in, IN), (regards, NNS), (to, TO), (the, DT), (contract, NN)]</td>\n",
       "      <td>[email, communication, stephanie, shook, dave, kraski, bruce, stedman, chad, schmidt, regard, fire, protection, district, billing, passage, contract, al, service, also, copy, agenda, bill, contract, material, present, review, novdec, time, frame, regard, contract]</td>\n",
       "      <td>31</td>\n",
       "      <td>[email, communication, stephanie, shook, dave, kraski, bruce, stedman, chad, schmidt, regard, fire, protection, district, billing, passage, contract, al, service, also, agenda, bill, contract, material, present, review, novdec, time, frame, regard, contract]</td>\n",
       "      <td>[(0, 0.03522567), (9, 0.07126652), (12, 0.2645051), (13, 0.09453125), (16, 0.07190259), (19, 0.07196879), (20, 0.04291559), (23, 0.21208249), (31, 0.047195558), (33, 0.033445735), (37, 0.032304455)]</td>\n",
       "    </tr>\n",
       "  </tbody>\n",
       "</table>\n",
       "</div>"
      ],
      "text/plain": [
       "   index                                                                                                                                                                                                                                                                                                                                                                                                                                                                                Summary       city month_year                                                                                                                                                                                                                                                                                                                                                                                                                                                       sum_ed  \\\n",
       "0      0  We are working with an engineering firm on an upcoming project.  They have asked us to gather maps for this project.  Would you be able to assist me in gathering maps/records (as builds) for any underground water facilities you may have?  Something just showing the route of the water lines would do.\\n\\n207th ST NE to 92nd Ave NE, Arlington, Cascade Surveying & Engineering \\n\\nI have attached the scope for your convenience.  Please let me know if you have questions.  Arlington    2018-06  we are working with an engineering firm on an upcoming project  they have asked us to gather maps for this project  would you be able to assist me in gathering mapsrecords as builds for any underground water facilities you may have  something just showing the route of the water lines would do\\n\\nth st ne to nd ave ne  cascade surveying  engineering \\n\\ni have attached the scope for your convenience  please let me know if you have questions   \n",
       "1      1                                                                                                                                                                                                                                                   Need copies of contracts and all related documents pertaining to Topcub Aircraft property located at 17922 59th DR NE Arlington WA 98223 between Arlington Airport, Topcub Aircraft, City of Arlington, HCI Steel Buildings and PUD.  Arlington    2018-06                                                                                                                                                                                                                                                                    need copies of contracts and all related documents pertaining to topcub aircraft property located at  th dr ne  wa  between  airport topcub aircraft city of  hci steel buildings and pud   \n",
       "2      2                                                                                                                                                                                                                                       Copies of Building Permits of $5,000 valuation and up ($20,000 min for Re-Roofs), ($50,000 min. for Cell Tower upgrades), (Electrical, Mechanical & Plumbing at $100,000 min.) and (Solar Panels, Swimming Pools & Foundations at any valuation)  Arlington    2018-06                                                                                                                                                                                                                                                          copies of building permits of  valuation and up  min for reroofs  min for cell tower upgrades electrical mechanical  plumbing at  min and solar panels swimming pools  foundations at any valuation   \n",
       "3      3                                                                                                                                                                                    police report filed to an officer against Wayne Parris (DOB 08-03-1957) from Brittany J. Parris. The paperwork I have has a case number D18-39 it is also stamped at the bottom with 18-1294, Iím not sure which number you will need. If there is any other information needed please let me know.  Arlington    2018-06                                                                                                                                                                                       police report filed to an officer against wayne parris dob  from brittany j parris the paperwork i have has a case number d it is also stamped at the bottom with  iím not sure which number you will need if there is any other information needed please let me know   \n",
       "4      4                                                                                                                                                           Email Communications between Stephanie Shook, Dave Kraski, Bruce Stedman and Chad Schmidt in regards to Fire Protection District 21 billing and passage of contract for ALS Services. \\n\\nAlso any copies of Agenda Bills, D21 Contract and materials presented for review in Nov/Dec time frame in regards to the contract.  Arlington    2018-06                                                                                                                                           email communications between stephanie shook dave kraski bruce stedman and chad schmidt in regards to fire protection district  billing and passage of contract for als services \\n\\nalso any copies of agenda bills d contract and materials presented for review in novdec time frame in regards to the contract   \n",
       "\n",
       "                                                                                                                                                                                                                                                                                                                                                                                                                                                                                                                           token  \\\n",
       "0  [we, are, working, with, an, engineering, firm, on, an, upcoming, project, they, have, asked, us, to, gather, maps, for, this, project, would, you, be, able, to, assist, me, in, gathering, mapsrecords, as, builds, for, any, underground, water, facilities, you, may, have, something, just, showing, the, route, of, the, water, lines, would, do, th, st, ne, to, nd, ave, ne, cascade, surveying, engineering, i, have, attached, the, scope, for, your, convenience, please, let, me, know, if, you, have, questions]   \n",
       "1                                                                                                                                                                                                                                                                                                            [need, copies, of, contracts, and, all, related, documents, pertaining, to, topcub, aircraft, property, located, at, th, dr, ne, wa, between, airport, topcub, aircraft, city, of, hci, steel, buildings, and, pud]   \n",
       "2                                                                                                                                                                                                                                                                                                   [copies, of, building, permits, of, valuation, and, up, min, for, reroofs, min, for, cell, tower, upgrades, electrical, mechanical, plumbing, at, min, and, solar, panels, swimming, pools, foundations, at, any, valuation]   \n",
       "3                                                                                                                                                                                                        [police, report, filed, to, an, officer, against, wayne, parris, dob, from, brittany, j, parris, the, paperwork, i, have, has, a, case, number, d, it, is, also, stamped, at, the, bottom, with, iím, not, sure, which, number, you, will, need, if, there, is, any, other, information, needed, please, let, me, know]   \n",
       "4                                                                                                                                                                 [email, communications, between, stephanie, shook, dave, kraski, bruce, stedman, and, chad, schmidt, in, regards, to, fire, protection, district, billing, and, passage, of, contract, for, als, services, also, any, copies, of, agenda, bills, d, contract, and, materials, presented, for, review, in, novdec, time, frame, in, regards, to, the, contract]   \n",
       "\n",
       "                                                                                                                                                                                                                                                                                                                                                                                                                                                                                                                                                                                                                                                                                                                                                                                                                                                                                                                                                                                                                                     lemma  \\\n",
       "0  [(we, PRP), (are, VBP), (working, VBG), (with, IN), (an, DT), (engineering, NN), (firm, NN), (on, IN), (an, DT), (upcoming, JJ), (project, NN), (they, PRP), (have, VBP), (asked, VBN), (us, PRP), (to, TO), (gather, VB), (maps, NNS), (for, IN), (this, DT), (project, NN), (would, MD), (you, PRP), (be, VB), (able, JJ), (to, TO), (assist, VB), (me, PRP), (in, IN), (gathering, VBG), (mapsrecords, NNS), (as, IN), (builds, NNS), (for, IN), (any, DT), (underground, JJ), (water, NN), (facilities, NNS), (you, PRP), (may, MD), (have, VB), (something, NN), (just, RB), (showing, VBG), (the, DT), (route, NN), (of, IN), (the, DT), (water, NN), (lines, NNS), (would, MD), (do, VB), (th, VB), (st, VB), (ne, JJ), (to, TO), (nd, VB), (ave, VB), (ne, JJ), (cascade, NN), (surveying, VBG), (engineering, NN), (i, NN), (have, VBP), (attached, VBN), (the, DT), (scope, NN), (for, IN), (your, PRP$), (convenience, NN), (please, NN), (let, VB), (me, PRP), (know, VB), (if, IN), (you, PRP), (have, VBP), (questions...   \n",
       "1                                                                                                                                                                                                                                                                                                                                                                                                                                                                                                                                                                                                                            [(need, NN), (copies, NNS), (of, IN), (contracts, NNS), (and, CC), (all, DT), (related, JJ), (documents, NNS), (pertaining, VBG), (to, TO), (topcub, VB), (aircraft, NN), (property, NN), (located, VBN), (at, IN), (th, NN), (dr, NN), (ne, JJ), (wa, NN), (between, IN), (airport, NN), (topcub, NN), (aircraft, NN), (city, NN), (of, IN), (hci, JJ), (steel, NN), (buildings, NNS), (and, CC), (pud, NN)]   \n",
       "2                                                                                                                                                                                                                                                                                                                                                                                                                                                                                                                                                                                                                   [(copies, NNS), (of, IN), (building, VBG), (permits, NNS), (of, IN), (valuation, NN), (and, CC), (up, RB), (min, NN), (for, IN), (reroofs, NN), (min, NN), (for, IN), (cell, NN), (tower, NN), (upgrades, JJ), (electrical, JJ), (mechanical, JJ), (plumbing, NN), (at, IN), (min, NN), (and, CC), (solar, JJ), (panels, NNS), (swimming, VBG), (pools, JJ), (foundations, NNS), (at, IN), (any, DT), (valuation, NN)]   \n",
       "3                                                                                                                                                                                                                                                                                                                                                                                         [(police, NNS), (report, NN), (filed, VBD), (to, TO), (an, DT), (officer, NN), (against, IN), (wayne, JJ), (parris, JJ), (dob, NN), (from, IN), (brittany, JJ), (j, NN), (parris, VBD), (the, DT), (paperwork, NN), (i, NN), (have, VBP), (has, VBZ), (a, DT), (case, NN), (number, NN), (d, NN), (it, PRP), (is, VBZ), (also, RB), (stamped, VBN), (at, IN), (the, DT), (bottom, NN), (with, IN), (iím, JJ), (not, RB), (sure, JJ), (which, WDT), (number, NN), (you, PRP), (will, MD), (need, VB), (if, IN), (there, EX), (is, VBZ), (any, DT), (other, JJ), (information, NN), (needed, VBN), (please, NN), (let, VB), (me, PRP), (know, VB)]   \n",
       "4                                                                                                                                                                                                                                                                                                                                                             [(email, NN), (communications, NNS), (between, IN), (stephanie, JJ), (shook, NN), (dave, VBP), (kraski, VBN), (bruce, NN), (stedman, NN), (and, CC), (chad, VBD), (schmidt, VBN), (in, IN), (regards, NNS), (to, TO), (fire, VB), (protection, NN), (district, NN), (billing, NN), (and, CC), (passage, NN), (of, IN), (contract, NN), (for, IN), (als, NNS), (services, NNS), (also, RB), (any, DT), (copies, NNS), (of, IN), (agenda, NN), (bills, NNS), (d, VBP), (contract, NN), (and, CC), (materials, NNS), (presented, VBN), (for, IN), (review, NN), (in, IN), (novdec, JJ), (time, NN), (frame, NN), (in, IN), (regards, NNS), (to, TO), (the, DT), (contract, NN)]   \n",
       "\n",
       "                                                                                                                                                                                                                                                                                                                         mash  mash_len                                                                                                                                                                                                                                                                               mash2                                                                                                                                                                                              topic_comp  \n",
       "0  [work, engineering, firm, upcoming, project, ask, u, gather, map, project, would, able, assist, gather, mapsrecords, build, underground, water, facility, may, something, show, route, water, line, would, th, st, ne, nd, ave, ne, cascade, survey, engineering, attach, scope, convenience, please, let, know, question]        35  [work, engineering, firm, upcoming, project, ask, u, gather, map, project, able, assist, gather, mapsrecords, build, underground, water, facility, may, something, show, route, water, line, ne, ave, ne, cascade, survey, engineering, attach, scope, convenience, let, question]                                                                          [(4, 0.058519535), (7, 0.15559511), (13, 0.26867396), (15, 0.11090568), (18, 0.25908148), (26, 0.08402779), (36, 0.040279742)]  \n",
       "1                                                                                                                                                          [need, copy, contract, related, document, pertain, topcub, aircraft, property, locate, th, dr, ne, wa, airport, topcub, aircraft, city, hci, steel, building, pud]        16                                                                                                                                                      [contract, related, pertain, topcub, aircraft, property, locate, dr, ne, airport, topcub, aircraft, hci, steel, building, pud]                                                                           [(7, 0.24477227), (9, 0.0770352), (12, 0.060294118), (22, 0.21201606), (26, 0.1779412), (28, 0.060294118), (32, 0.119117655)]  \n",
       "2                                                                                                                                                         [copy, build, permit, valuation, min, reroofs, min, cell, tower, upgrades, electrical, mechanical, plumbing, min, solar, panel, swim, pools, foundation, valuation]        19                                                                                                                       [build, permit, valuation, min, reroofs, min, cell, tower, upgrades, electrical, mechanical, plumbing, min, solar, panel, swim, pools, foundation, valuation]                                                                                                             [(16, 0.40124997), (18, 0.11533149), (30, 0.116628885), (34, 0.25125003), (38, 0.07178962)]  \n",
       "3                                                                                                                                       [police, report, file, officer, wayne, parris, dob, brittany, j, parris, paperwork, case, number, also, stamp, bottom, iím, sure, number, need, information, need, please, let, know]        19                                                                                                                                              [police, file, officer, wayne, parris, dob, brittany, j, parris, paperwork, case, number, also, stamp, bottom, iím, sure, number, let]                                                            [(2, 0.120102145), (6, 0.17494985), (7, 0.06089121), (10, 0.20124999), (16, 0.05125), (27, 0.10326719), (29, 0.18017665), (31, 0.068112925)]  \n",
       "4                                                    [email, communication, stephanie, shook, dave, kraski, bruce, stedman, chad, schmidt, regard, fire, protection, district, billing, passage, contract, al, service, also, copy, agenda, bill, contract, material, present, review, novdec, time, frame, regard, contract]        31                  [email, communication, stephanie, shook, dave, kraski, bruce, stedman, chad, schmidt, regard, fire, protection, district, billing, passage, contract, al, service, also, agenda, bill, contract, material, present, review, novdec, time, frame, regard, contract]  [(0, 0.03522567), (9, 0.07126652), (12, 0.2645051), (13, 0.09453125), (16, 0.07190259), (19, 0.07196879), (20, 0.04291559), (23, 0.21208249), (31, 0.047195558), (33, 0.033445735), (37, 0.032304455)]  "
      ]
     },
     "execution_count": 22,
     "metadata": {},
     "output_type": "execute_result"
    }
   ],
   "source": [
    "topics = data.copy()\n",
    "topics = topics.assign(topic_comp = corpus_lda_list)\n",
    "topics.head() #the topic_comp column are actual Python lists"
   ]
  },
  {
   "cell_type": "code",
   "execution_count": 2,
   "metadata": {
    "collapsed": true
   },
   "outputs": [],
   "source": [
    "def highest_topic(df):\n",
    "    df['topic_comp'] =  df['topic_comp'].apply(lambda x:  ast.literal_eval(x))\n",
    "    df['top_topic'] = df['topic_comp'].apply(lambda x: max(x, key=lambda item:item[1])[0])\n",
    "    "
   ]
  },
  {
   "cell_type": "code",
   "execution_count": 50,
   "metadata": {
    "collapsed": true
   },
   "outputs": [],
   "source": [
    "def highest_topic2(df):\n",
    "    for row_num in df.index:\n",
    "        tup_list = ast.literal_eval(df['topic_comp'][row_num])\n",
    "        win_tuple = max(tup_list, key=lambda item:item[1])\n",
    "        df['top_topic'][row_num] = win_tuple[0]"
   ]
  },
  {
   "cell_type": "code",
   "execution_count": 20,
   "metadata": {
    "collapsed": true
   },
   "outputs": [],
   "source": [
    "def topics_to_csv(df, num_topics):\n",
    "    for topic in range(0, num_topics):\n",
    "        subset = df[df['top_topic'] == topic]\n",
    "        file_name = 'topics/PRR_topic_{}.csv'.format(topic)\n",
    "        subset.to_csv(file_name)"
   ]
  },
  {
   "cell_type": "code",
   "execution_count": 18,
   "metadata": {},
   "outputs": [
    {
     "ename": "NameError",
     "evalue": "name 'lda_40_45' is not defined",
     "output_type": "error",
     "traceback": [
      "\u001b[0;31m---------------------------------------------------------------------------\u001b[0m",
      "\u001b[0;31mNameError\u001b[0m                                 Traceback (most recent call last)",
      "\u001b[0;32m<ipython-input-18-f3e02a973f12>\u001b[0m in \u001b[0;36m<module>\u001b[0;34m()\u001b[0m\n\u001b[0;32m----> 1\u001b[0;31m \u001b[0mtopic_list\u001b[0m \u001b[0;34m=\u001b[0m \u001b[0mlda_40_45\u001b[0m\u001b[0;34m.\u001b[0m\u001b[0mshow_topics\u001b[0m\u001b[0;34m(\u001b[0m\u001b[0mnum_topics\u001b[0m\u001b[0;34m=\u001b[0m\u001b[0;36m40\u001b[0m\u001b[0;34m,\u001b[0m \u001b[0mformatted\u001b[0m\u001b[0;34m=\u001b[0m\u001b[0;32mFalse\u001b[0m\u001b[0;34m)\u001b[0m\u001b[0;34m\u001b[0m\u001b[0m\n\u001b[0m",
      "\u001b[0;31mNameError\u001b[0m: name 'lda_40_45' is not defined"
     ]
    }
   ],
   "source": [
    "topic_list = lda_40_45.show_topics(num_topics=40, formatted=False)"
   ]
  },
  {
   "cell_type": "code",
   "execution_count": 52,
   "metadata": {},
   "outputs": [
    {
     "data": {
      "text/plain": [
       "40"
      ]
     },
     "execution_count": 52,
     "metadata": {},
     "output_type": "execute_result"
    }
   ],
   "source": [
    "len(topic_list)"
   ]
  },
  {
   "cell_type": "code",
   "execution_count": null,
   "metadata": {
    "collapsed": true
   },
   "outputs": [],
   "source": [
    "highest_topic(topics)"
   ]
  },
  {
   "cell_type": "markdown",
   "metadata": {},
   "source": [
    "#### We test a variety of different numbers of topics to identify the number of topics that yields the best results:"
   ]
  },
  {
   "cell_type": "code",
   "execution_count": 25,
   "metadata": {
    "collapsed": true
   },
   "outputs": [],
   "source": [
    "num_topics_list = [20, 25, 30, 35, 40, 45, 50]\n",
    "for n in num_topics_list:\n",
    "    lda = gensim.models.ldamodel.LdaModel(corpus, num_topics=n, id2word = dictionary, \n",
    "                                         passes = 45, random_state=7)\n",
    "    \n",
    "    model_name = \"lda_{}_45_model\".format(n)\n",
    "    lda.save(model_name)\n",
    "    corpus_lda = lda[corpus]\n",
    "    corpus_lda_list = list(corpus_lda)\n",
    "    topics = data.copy()\n",
    "    topics = topics.assign(topic_comp = corpus_lda_list)\n",
    "    file_name = \"topics/lda_{}_45_topics.csv\".format(n)\n",
    "    topics.to_csv(file_name)\n",
    "    "
   ]
  },
  {
   "cell_type": "code",
   "execution_count": 48,
   "metadata": {
    "collapsed": true
   },
   "outputs": [],
   "source": [
    "data = pd.read_csv('topics/lda_50_45_topics.csv')"
   ]
  },
  {
   "cell_type": "code",
   "execution_count": 28,
   "metadata": {
    "collapsed": true
   },
   "outputs": [],
   "source": [
    "data['top_topic'] = -1"
   ]
  },
  {
   "cell_type": "code",
   "execution_count": 29,
   "metadata": {},
   "outputs": [
    {
     "data": {
      "text/plain": [
       "'[(1, 0.352627), (9, 0.14571428), (41, 0.367373)]'"
      ]
     },
     "execution_count": 29,
     "metadata": {},
     "output_type": "execute_result"
    }
   ],
   "source": [
    "data['topic_comp'][500]"
   ]
  },
  {
   "cell_type": "code",
   "execution_count": null,
   "metadata": {
    "collapsed": true
   },
   "outputs": [],
   "source": [
    "# create small dataset for testing functions"
   ]
  },
  {
   "cell_type": "code",
   "execution_count": 33,
   "metadata": {
    "collapsed": true
   },
   "outputs": [],
   "source": [
    "data_sm = data[:50]"
   ]
  },
  {
   "cell_type": "code",
   "execution_count": 4,
   "metadata": {
    "collapsed": true
   },
   "outputs": [],
   "source": [
    "highest_topic(data)"
   ]
  },
  {
   "cell_type": "code",
   "execution_count": 5,
   "metadata": {},
   "outputs": [
    {
     "data": {
      "text/html": [
       "<div>\n",
       "<style scoped>\n",
       "    .dataframe tbody tr th:only-of-type {\n",
       "        vertical-align: middle;\n",
       "    }\n",
       "\n",
       "    .dataframe tbody tr th {\n",
       "        vertical-align: top;\n",
       "    }\n",
       "\n",
       "    .dataframe thead th {\n",
       "        text-align: right;\n",
       "    }\n",
       "</style>\n",
       "<table border=\"1\" class=\"dataframe\">\n",
       "  <thead>\n",
       "    <tr style=\"text-align: right;\">\n",
       "      <th></th>\n",
       "      <th>Unnamed: 0</th>\n",
       "      <th>index</th>\n",
       "      <th>Summary</th>\n",
       "      <th>city</th>\n",
       "      <th>month_year</th>\n",
       "      <th>sum_ed</th>\n",
       "      <th>token</th>\n",
       "      <th>lemma</th>\n",
       "      <th>mash</th>\n",
       "      <th>mash_len</th>\n",
       "      <th>mash2</th>\n",
       "      <th>topic_comp</th>\n",
       "      <th>top_topic</th>\n",
       "    </tr>\n",
       "  </thead>\n",
       "  <tbody>\n",
       "    <tr>\n",
       "      <th>0</th>\n",
       "      <td>0</td>\n",
       "      <td>0</td>\n",
       "      <td>We are working with an engineering firm on an upcoming project.  They have asked us to gather maps for this project.  Would you be able to assist me in gathering maps/records (as builds) for any underground water facilities you may have?  Something just showing the route of the water lines would do.\\n\\n207th ST NE to 92nd Ave NE, Arlington, Cascade Surveying &amp; Engineering \\n\\nI have attached the scope for your convenience.  Please let me know if you have questions.</td>\n",
       "      <td>Arlington</td>\n",
       "      <td>2018-06</td>\n",
       "      <td>we are working with an engineering firm on an upcoming project  they have asked us to gather maps for this project  would you be able to assist me in gathering mapsrecords as builds for any underground water facilities you may have  something just showing the route of the water lines would do\\n\\nth st ne to nd ave ne  cascade surveying  engineering \\n\\ni have attached the scope for your convenience  please let me know if you have questions</td>\n",
       "      <td>['we', 'are', 'working', 'with', 'an', 'engineering', 'firm', 'on', 'an', 'upcoming', 'project', 'they', 'have', 'asked', 'us', 'to', 'gather', 'maps', 'for', 'this', 'project', 'would', 'you', 'be', 'able', 'to', 'assist', 'me', 'in', 'gathering', 'mapsrecords', 'as', 'builds', 'for', 'any', 'underground', 'water', 'facilities', 'you', 'may', 'have', 'something', 'just', 'showing', 'the', 'route', 'of', 'the', 'water', 'lines', 'would', 'do', 'th', 'st', 'ne', 'to', 'nd', 'ave', 'ne', 'cascade', 'surveying', 'engineering', 'i', 'have', 'attached', 'the', 'scope', 'for', 'your', 'convenience', 'please', 'let', 'me', 'know', 'if', 'you', 'have', 'questions']</td>\n",
       "      <td>[('we', 'PRP'), ('are', 'VBP'), ('working', 'VBG'), ('with', 'IN'), ('an', 'DT'), ('engineering', 'NN'), ('firm', 'NN'), ('on', 'IN'), ('an', 'DT'), ('upcoming', 'JJ'), ('project', 'NN'), ('they', 'PRP'), ('have', 'VBP'), ('asked', 'VBN'), ('us', 'PRP'), ('to', 'TO'), ('gather', 'VB'), ('maps', 'NNS'), ('for', 'IN'), ('this', 'DT'), ('project', 'NN'), ('would', 'MD'), ('you', 'PRP'), ('be', 'VB'), ('able', 'JJ'), ('to', 'TO'), ('assist', 'VB'), ('me', 'PRP'), ('in', 'IN'), ('gathering', 'VBG'), ('mapsrecords', 'NNS'), ('as', 'IN'), ('builds', 'NNS'), ('for', 'IN'), ('any', 'DT'), ('underground', 'JJ'), ('water', 'NN'), ('facilities', 'NNS'), ('you', 'PRP'), ('may', 'MD'), ('have', 'VB'), ('something', 'NN'), ('just', 'RB'), ('showing', 'VBG'), ('the', 'DT'), ('route', 'NN'), ('of', 'IN'), ('the', 'DT'), ('water', 'NN'), ('lines', 'NNS'), ('would', 'MD'), ('do', 'VB'), ('th', 'VB'), ('st', 'VB'), ('ne', 'JJ'), ('to', 'TO'), ('nd', 'VB'), ('ave', 'VB'), ('ne', 'JJ'), ('cascade', 'NN'...</td>\n",
       "      <td>['work', 'engineering', 'firm', 'upcoming', 'project', 'ask', 'u', 'gather', 'map', 'project', 'would', 'able', 'assist', 'gather', 'mapsrecords', 'build', 'underground', 'water', 'facility', 'may', 'something', 'show', 'route', 'water', 'line', 'would', 'th', 'st', 'ne', 'nd', 'ave', 'ne', 'cascade', 'survey', 'engineering', 'attach', 'scope', 'convenience', 'please', 'let', 'know', 'question']</td>\n",
       "      <td>35</td>\n",
       "      <td>['work', 'engineering', 'firm', 'upcoming', 'project', 'ask', 'u', 'gather', 'map', 'project', 'able', 'assist', 'gather', 'mapsrecords', 'build', 'underground', 'water', 'facility', 'may', 'something', 'show', 'route', 'water', 'line', 'ne', 'ave', 'ne', 'cascade', 'survey', 'engineering', 'attach', 'scope', 'convenience', 'let', 'question']</td>\n",
       "      <td>[(7, 0.09604314), (13, 0.48129252), (23, 0.08388889), (26, 0.028333332), (36, 0.046881348), (40, 0.20528331), (45, 0.034388628)]</td>\n",
       "      <td>13</td>\n",
       "    </tr>\n",
       "    <tr>\n",
       "      <th>1</th>\n",
       "      <td>1</td>\n",
       "      <td>1</td>\n",
       "      <td>Need copies of contracts and all related documents pertaining to Topcub Aircraft property located at 17922 59th DR NE Arlington WA 98223 between Arlington Airport, Topcub Aircraft, City of Arlington, HCI Steel Buildings and PUD.</td>\n",
       "      <td>Arlington</td>\n",
       "      <td>2018-06</td>\n",
       "      <td>need copies of contracts and all related documents pertaining to topcub aircraft property located at  th dr ne  wa  between  airport topcub aircraft city of  hci steel buildings and pud</td>\n",
       "      <td>['need', 'copies', 'of', 'contracts', 'and', 'all', 'related', 'documents', 'pertaining', 'to', 'topcub', 'aircraft', 'property', 'located', 'at', 'th', 'dr', 'ne', 'wa', 'between', 'airport', 'topcub', 'aircraft', 'city', 'of', 'hci', 'steel', 'buildings', 'and', 'pud']</td>\n",
       "      <td>[('need', 'NN'), ('copies', 'NNS'), ('of', 'IN'), ('contracts', 'NNS'), ('and', 'CC'), ('all', 'DT'), ('related', 'JJ'), ('documents', 'NNS'), ('pertaining', 'VBG'), ('to', 'TO'), ('topcub', 'VB'), ('aircraft', 'NN'), ('property', 'NN'), ('located', 'VBN'), ('at', 'IN'), ('th', 'NN'), ('dr', 'NN'), ('ne', 'JJ'), ('wa', 'NN'), ('between', 'IN'), ('airport', 'NN'), ('topcub', 'NN'), ('aircraft', 'NN'), ('city', 'NN'), ('of', 'IN'), ('hci', 'JJ'), ('steel', 'NN'), ('buildings', 'NNS'), ('and', 'CC'), ('pud', 'NN')]</td>\n",
       "      <td>['need', 'copy', 'contract', 'related', 'document', 'pertain', 'topcub', 'aircraft', 'property', 'locate', 'th', 'dr', 'ne', 'wa', 'airport', 'topcub', 'aircraft', 'city', 'hci', 'steel', 'building', 'pud']</td>\n",
       "      <td>16</td>\n",
       "      <td>['contract', 'related', 'pertain', 'topcub', 'aircraft', 'property', 'locate', 'dr', 'ne', 'airport', 'topcub', 'aircraft', 'hci', 'steel', 'building', 'pud']</td>\n",
       "      <td>[(0, 0.06119562), (4, 0.06), (7, 0.0636481), (10, 0.06), (21, 0.06), (23, 0.35411763), (30, 0.17280331), (31, 0.06), (40, 0.06)]</td>\n",
       "      <td>23</td>\n",
       "    </tr>\n",
       "    <tr>\n",
       "      <th>2</th>\n",
       "      <td>2</td>\n",
       "      <td>2</td>\n",
       "      <td>Copies of Building Permits of $5,000 valuation and up ($20,000 min for Re-Roofs), ($50,000 min. for Cell Tower upgrades), (Electrical, Mechanical &amp; Plumbing at $100,000 min.) and (Solar Panels, Swimming Pools &amp; Foundations at any valuation)</td>\n",
       "      <td>Arlington</td>\n",
       "      <td>2018-06</td>\n",
       "      <td>copies of building permits of  valuation and up  min for reroofs  min for cell tower upgrades electrical mechanical  plumbing at  min and solar panels swimming pools  foundations at any valuation</td>\n",
       "      <td>['copies', 'of', 'building', 'permits', 'of', 'valuation', 'and', 'up', 'min', 'for', 'reroofs', 'min', 'for', 'cell', 'tower', 'upgrades', 'electrical', 'mechanical', 'plumbing', 'at', 'min', 'and', 'solar', 'panels', 'swimming', 'pools', 'foundations', 'at', 'any', 'valuation']</td>\n",
       "      <td>[('copies', 'NNS'), ('of', 'IN'), ('building', 'VBG'), ('permits', 'NNS'), ('of', 'IN'), ('valuation', 'NN'), ('and', 'CC'), ('up', 'RB'), ('min', 'NN'), ('for', 'IN'), ('reroofs', 'NN'), ('min', 'NN'), ('for', 'IN'), ('cell', 'NN'), ('tower', 'NN'), ('upgrades', 'JJ'), ('electrical', 'JJ'), ('mechanical', 'JJ'), ('plumbing', 'NN'), ('at', 'IN'), ('min', 'NN'), ('and', 'CC'), ('solar', 'JJ'), ('panels', 'NNS'), ('swimming', 'VBG'), ('pools', 'JJ'), ('foundations', 'NNS'), ('at', 'IN'), ('any', 'DT'), ('valuation', 'NN')]</td>\n",
       "      <td>['copy', 'build', 'permit', 'valuation', 'min', 'reroofs', 'min', 'cell', 'tower', 'upgrades', 'electrical', 'mechanical', 'plumbing', 'min', 'solar', 'panel', 'swim', 'pools', 'foundation', 'valuation']</td>\n",
       "      <td>19</td>\n",
       "      <td>['build', 'permit', 'valuation', 'min', 'reroofs', 'min', 'cell', 'tower', 'upgrades', 'electrical', 'mechanical', 'plumbing', 'min', 'solar', 'panel', 'swim', 'pools', 'foundation', 'valuation']</td>\n",
       "      <td>[(6, 0.051), (9, 0.301), (14, 0.0964918), (16, 0.151), (24, 0.151), (30, 0.1555082), (43, 0.051)]</td>\n",
       "      <td>9</td>\n",
       "    </tr>\n",
       "    <tr>\n",
       "      <th>3</th>\n",
       "      <td>3</td>\n",
       "      <td>3</td>\n",
       "      <td>police report filed to an officer against Wayne Parris (DOB 08-03-1957) from Brittany J. Parris. The paperwork I have has a case number D18-39 it is also stamped at the bottom with 18-1294, Iím not sure which number you will need. If there is any other information needed please let me know.</td>\n",
       "      <td>Arlington</td>\n",
       "      <td>2018-06</td>\n",
       "      <td>police report filed to an officer against wayne parris dob  from brittany j parris the paperwork i have has a case number d it is also stamped at the bottom with  iím not sure which number you will need if there is any other information needed please let me know</td>\n",
       "      <td>['police', 'report', 'filed', 'to', 'an', 'officer', 'against', 'wayne', 'parris', 'dob', 'from', 'brittany', 'j', 'parris', 'the', 'paperwork', 'i', 'have', 'has', 'a', 'case', 'number', 'd', 'it', 'is', 'also', 'stamped', 'at', 'the', 'bottom', 'with', 'iím', 'not', 'sure', 'which', 'number', 'you', 'will', 'need', 'if', 'there', 'is', 'any', 'other', 'information', 'needed', 'please', 'let', 'me', 'know']</td>\n",
       "      <td>[('police', 'NNS'), ('report', 'NN'), ('filed', 'VBD'), ('to', 'TO'), ('an', 'DT'), ('officer', 'NN'), ('against', 'IN'), ('wayne', 'JJ'), ('parris', 'JJ'), ('dob', 'NN'), ('from', 'IN'), ('brittany', 'JJ'), ('j', 'NN'), ('parris', 'VBD'), ('the', 'DT'), ('paperwork', 'NN'), ('i', 'NN'), ('have', 'VBP'), ('has', 'VBZ'), ('a', 'DT'), ('case', 'NN'), ('number', 'NN'), ('d', 'NN'), ('it', 'PRP'), ('is', 'VBZ'), ('also', 'RB'), ('stamped', 'VBN'), ('at', 'IN'), ('the', 'DT'), ('bottom', 'NN'), ('with', 'IN'), ('iím', 'JJ'), ('not', 'RB'), ('sure', 'JJ'), ('which', 'WDT'), ('number', 'NN'), ('you', 'PRP'), ('will', 'MD'), ('need', 'VB'), ('if', 'IN'), ('there', 'EX'), ('is', 'VBZ'), ('any', 'DT'), ('other', 'JJ'), ('information', 'NN'), ('needed', 'VBN'), ('please', 'NN'), ('let', 'VB'), ('me', 'PRP'), ('know', 'VB')]</td>\n",
       "      <td>['police', 'report', 'file', 'officer', 'wayne', 'parris', 'dob', 'brittany', 'j', 'parris', 'paperwork', 'case', 'number', 'also', 'stamp', 'bottom', 'iím', 'sure', 'number', 'need', 'information', 'need', 'please', 'let', 'know']</td>\n",
       "      <td>19</td>\n",
       "      <td>['police', 'file', 'officer', 'wayne', 'parris', 'dob', 'brittany', 'j', 'parris', 'paperwork', 'case', 'number', 'also', 'stamp', 'bottom', 'iím', 'sure', 'number', 'let']</td>\n",
       "      <td>[(6, 0.051), (10, 0.051), (19, 0.40245643), (26, 0.051), (32, 0.100999996), (40, 0.06733556), (41, 0.122129455), (46, 0.060958017), (47, 0.052120566)]</td>\n",
       "      <td>19</td>\n",
       "    </tr>\n",
       "    <tr>\n",
       "      <th>4</th>\n",
       "      <td>4</td>\n",
       "      <td>4</td>\n",
       "      <td>Email Communications between Stephanie Shook, Dave Kraski, Bruce Stedman and Chad Schmidt in regards to Fire Protection District 21 billing and passage of contract for ALS Services. \\n\\nAlso any copies of Agenda Bills, D21 Contract and materials presented for review in Nov/Dec time frame in regards to the contract.</td>\n",
       "      <td>Arlington</td>\n",
       "      <td>2018-06</td>\n",
       "      <td>email communications between stephanie shook dave kraski bruce stedman and chad schmidt in regards to fire protection district  billing and passage of contract for als services \\n\\nalso any copies of agenda bills d contract and materials presented for review in novdec time frame in regards to the contract</td>\n",
       "      <td>['email', 'communications', 'between', 'stephanie', 'shook', 'dave', 'kraski', 'bruce', 'stedman', 'and', 'chad', 'schmidt', 'in', 'regards', 'to', 'fire', 'protection', 'district', 'billing', 'and', 'passage', 'of', 'contract', 'for', 'als', 'services', 'also', 'any', 'copies', 'of', 'agenda', 'bills', 'd', 'contract', 'and', 'materials', 'presented', 'for', 'review', 'in', 'novdec', 'time', 'frame', 'in', 'regards', 'to', 'the', 'contract']</td>\n",
       "      <td>[('email', 'NN'), ('communications', 'NNS'), ('between', 'IN'), ('stephanie', 'JJ'), ('shook', 'NN'), ('dave', 'VBP'), ('kraski', 'VBN'), ('bruce', 'NN'), ('stedman', 'NN'), ('and', 'CC'), ('chad', 'VBD'), ('schmidt', 'VBN'), ('in', 'IN'), ('regards', 'NNS'), ('to', 'TO'), ('fire', 'VB'), ('protection', 'NN'), ('district', 'NN'), ('billing', 'NN'), ('and', 'CC'), ('passage', 'NN'), ('of', 'IN'), ('contract', 'NN'), ('for', 'IN'), ('als', 'NNS'), ('services', 'NNS'), ('also', 'RB'), ('any', 'DT'), ('copies', 'NNS'), ('of', 'IN'), ('agenda', 'NN'), ('bills', 'NNS'), ('d', 'VBP'), ('contract', 'NN'), ('and', 'CC'), ('materials', 'NNS'), ('presented', 'VBN'), ('for', 'IN'), ('review', 'NN'), ('in', 'IN'), ('novdec', 'JJ'), ('time', 'NN'), ('frame', 'NN'), ('in', 'IN'), ('regards', 'NNS'), ('to', 'TO'), ('the', 'DT'), ('contract', 'NN')]</td>\n",
       "      <td>['email', 'communication', 'stephanie', 'shook', 'dave', 'kraski', 'bruce', 'stedman', 'chad', 'schmidt', 'regard', 'fire', 'protection', 'district', 'billing', 'passage', 'contract', 'al', 'service', 'also', 'copy', 'agenda', 'bill', 'contract', 'material', 'present', 'review', 'novdec', 'time', 'frame', 'regard', 'contract']</td>\n",
       "      <td>31</td>\n",
       "      <td>['email', 'communication', 'stephanie', 'shook', 'dave', 'kraski', 'bruce', 'stedman', 'chad', 'schmidt', 'regard', 'fire', 'protection', 'district', 'billing', 'passage', 'contract', 'al', 'service', 'also', 'agenda', 'bill', 'contract', 'material', 'present', 'review', 'novdec', 'time', 'frame', 'regard', 'contract']</td>\n",
       "      <td>[(0, 0.056624137), (4, 0.05052807), (9, 0.031875), (10, 0.1276441), (12, 0.032091897), (13, 0.0371861), (19, 0.037854712), (22, 0.031875), (31, 0.032796264), (39, 0.039937887), (44, 0.095466696), (47, 0.1405718), (48, 0.028277082), (49, 0.23477125)]</td>\n",
       "      <td>49</td>\n",
       "    </tr>\n",
       "  </tbody>\n",
       "</table>\n",
       "</div>"
      ],
      "text/plain": [
       "   Unnamed: 0  index                                                                                                                                                                                                                                                                                                                                                                                                                                                                                Summary       city month_year                                                                                                                                                                                                                                                                                                                                                                                                                                                       sum_ed  \\\n",
       "0           0      0  We are working with an engineering firm on an upcoming project.  They have asked us to gather maps for this project.  Would you be able to assist me in gathering maps/records (as builds) for any underground water facilities you may have?  Something just showing the route of the water lines would do.\\n\\n207th ST NE to 92nd Ave NE, Arlington, Cascade Surveying & Engineering \\n\\nI have attached the scope for your convenience.  Please let me know if you have questions.  Arlington    2018-06  we are working with an engineering firm on an upcoming project  they have asked us to gather maps for this project  would you be able to assist me in gathering mapsrecords as builds for any underground water facilities you may have  something just showing the route of the water lines would do\\n\\nth st ne to nd ave ne  cascade surveying  engineering \\n\\ni have attached the scope for your convenience  please let me know if you have questions   \n",
       "1           1      1                                                                                                                                                                                                                                                   Need copies of contracts and all related documents pertaining to Topcub Aircraft property located at 17922 59th DR NE Arlington WA 98223 between Arlington Airport, Topcub Aircraft, City of Arlington, HCI Steel Buildings and PUD.  Arlington    2018-06                                                                                                                                                                                                                                                                    need copies of contracts and all related documents pertaining to topcub aircraft property located at  th dr ne  wa  between  airport topcub aircraft city of  hci steel buildings and pud   \n",
       "2           2      2                                                                                                                                                                                                                                       Copies of Building Permits of $5,000 valuation and up ($20,000 min for Re-Roofs), ($50,000 min. for Cell Tower upgrades), (Electrical, Mechanical & Plumbing at $100,000 min.) and (Solar Panels, Swimming Pools & Foundations at any valuation)  Arlington    2018-06                                                                                                                                                                                                                                                          copies of building permits of  valuation and up  min for reroofs  min for cell tower upgrades electrical mechanical  plumbing at  min and solar panels swimming pools  foundations at any valuation   \n",
       "3           3      3                                                                                                                                                                                    police report filed to an officer against Wayne Parris (DOB 08-03-1957) from Brittany J. Parris. The paperwork I have has a case number D18-39 it is also stamped at the bottom with 18-1294, Iím not sure which number you will need. If there is any other information needed please let me know.  Arlington    2018-06                                                                                                                                                                                       police report filed to an officer against wayne parris dob  from brittany j parris the paperwork i have has a case number d it is also stamped at the bottom with  iím not sure which number you will need if there is any other information needed please let me know   \n",
       "4           4      4                                                                                                                                                           Email Communications between Stephanie Shook, Dave Kraski, Bruce Stedman and Chad Schmidt in regards to Fire Protection District 21 billing and passage of contract for ALS Services. \\n\\nAlso any copies of Agenda Bills, D21 Contract and materials presented for review in Nov/Dec time frame in regards to the contract.  Arlington    2018-06                                                                                                                                           email communications between stephanie shook dave kraski bruce stedman and chad schmidt in regards to fire protection district  billing and passage of contract for als services \\n\\nalso any copies of agenda bills d contract and materials presented for review in novdec time frame in regards to the contract   \n",
       "\n",
       "                                                                                                                                                                                                                                                                                                                                                                                                                                                                                                                                                                                                                                                                                       token  \\\n",
       "0  ['we', 'are', 'working', 'with', 'an', 'engineering', 'firm', 'on', 'an', 'upcoming', 'project', 'they', 'have', 'asked', 'us', 'to', 'gather', 'maps', 'for', 'this', 'project', 'would', 'you', 'be', 'able', 'to', 'assist', 'me', 'in', 'gathering', 'mapsrecords', 'as', 'builds', 'for', 'any', 'underground', 'water', 'facilities', 'you', 'may', 'have', 'something', 'just', 'showing', 'the', 'route', 'of', 'the', 'water', 'lines', 'would', 'do', 'th', 'st', 'ne', 'to', 'nd', 'ave', 'ne', 'cascade', 'surveying', 'engineering', 'i', 'have', 'attached', 'the', 'scope', 'for', 'your', 'convenience', 'please', 'let', 'me', 'know', 'if', 'you', 'have', 'questions']   \n",
       "1                                                                                                                                                                                                                                                                                                                                                                                                            ['need', 'copies', 'of', 'contracts', 'and', 'all', 'related', 'documents', 'pertaining', 'to', 'topcub', 'aircraft', 'property', 'located', 'at', 'th', 'dr', 'ne', 'wa', 'between', 'airport', 'topcub', 'aircraft', 'city', 'of', 'hci', 'steel', 'buildings', 'and', 'pud']   \n",
       "2                                                                                                                                                                                                                                                                                                                                                                                                   ['copies', 'of', 'building', 'permits', 'of', 'valuation', 'and', 'up', 'min', 'for', 'reroofs', 'min', 'for', 'cell', 'tower', 'upgrades', 'electrical', 'mechanical', 'plumbing', 'at', 'min', 'and', 'solar', 'panels', 'swimming', 'pools', 'foundations', 'at', 'any', 'valuation']   \n",
       "3                                                                                                                                                                                                                                                                ['police', 'report', 'filed', 'to', 'an', 'officer', 'against', 'wayne', 'parris', 'dob', 'from', 'brittany', 'j', 'parris', 'the', 'paperwork', 'i', 'have', 'has', 'a', 'case', 'number', 'd', 'it', 'is', 'also', 'stamped', 'at', 'the', 'bottom', 'with', 'iím', 'not', 'sure', 'which', 'number', 'you', 'will', 'need', 'if', 'there', 'is', 'any', 'other', 'information', 'needed', 'please', 'let', 'me', 'know']   \n",
       "4                                                                                                                                                                                                                             ['email', 'communications', 'between', 'stephanie', 'shook', 'dave', 'kraski', 'bruce', 'stedman', 'and', 'chad', 'schmidt', 'in', 'regards', 'to', 'fire', 'protection', 'district', 'billing', 'and', 'passage', 'of', 'contract', 'for', 'als', 'services', 'also', 'any', 'copies', 'of', 'agenda', 'bills', 'd', 'contract', 'and', 'materials', 'presented', 'for', 'review', 'in', 'novdec', 'time', 'frame', 'in', 'regards', 'to', 'the', 'contract']   \n",
       "\n",
       "                                                                                                                                                                                                                                                                                                                                                                                                                                                                                                                                                                                                                                                                                                                                                                                                                                                                                                                                                                                                                                     lemma  \\\n",
       "0  [('we', 'PRP'), ('are', 'VBP'), ('working', 'VBG'), ('with', 'IN'), ('an', 'DT'), ('engineering', 'NN'), ('firm', 'NN'), ('on', 'IN'), ('an', 'DT'), ('upcoming', 'JJ'), ('project', 'NN'), ('they', 'PRP'), ('have', 'VBP'), ('asked', 'VBN'), ('us', 'PRP'), ('to', 'TO'), ('gather', 'VB'), ('maps', 'NNS'), ('for', 'IN'), ('this', 'DT'), ('project', 'NN'), ('would', 'MD'), ('you', 'PRP'), ('be', 'VB'), ('able', 'JJ'), ('to', 'TO'), ('assist', 'VB'), ('me', 'PRP'), ('in', 'IN'), ('gathering', 'VBG'), ('mapsrecords', 'NNS'), ('as', 'IN'), ('builds', 'NNS'), ('for', 'IN'), ('any', 'DT'), ('underground', 'JJ'), ('water', 'NN'), ('facilities', 'NNS'), ('you', 'PRP'), ('may', 'MD'), ('have', 'VB'), ('something', 'NN'), ('just', 'RB'), ('showing', 'VBG'), ('the', 'DT'), ('route', 'NN'), ('of', 'IN'), ('the', 'DT'), ('water', 'NN'), ('lines', 'NNS'), ('would', 'MD'), ('do', 'VB'), ('th', 'VB'), ('st', 'VB'), ('ne', 'JJ'), ('to', 'TO'), ('nd', 'VB'), ('ave', 'VB'), ('ne', 'JJ'), ('cascade', 'NN'...   \n",
       "1                                                                                                                                                                                                                                                                                                                                                                                                                                                                                                    [('need', 'NN'), ('copies', 'NNS'), ('of', 'IN'), ('contracts', 'NNS'), ('and', 'CC'), ('all', 'DT'), ('related', 'JJ'), ('documents', 'NNS'), ('pertaining', 'VBG'), ('to', 'TO'), ('topcub', 'VB'), ('aircraft', 'NN'), ('property', 'NN'), ('located', 'VBN'), ('at', 'IN'), ('th', 'NN'), ('dr', 'NN'), ('ne', 'JJ'), ('wa', 'NN'), ('between', 'IN'), ('airport', 'NN'), ('topcub', 'NN'), ('aircraft', 'NN'), ('city', 'NN'), ('of', 'IN'), ('hci', 'JJ'), ('steel', 'NN'), ('buildings', 'NNS'), ('and', 'CC'), ('pud', 'NN')]   \n",
       "2                                                                                                                                                                                                                                                                                                                                                                                                                                                                                           [('copies', 'NNS'), ('of', 'IN'), ('building', 'VBG'), ('permits', 'NNS'), ('of', 'IN'), ('valuation', 'NN'), ('and', 'CC'), ('up', 'RB'), ('min', 'NN'), ('for', 'IN'), ('reroofs', 'NN'), ('min', 'NN'), ('for', 'IN'), ('cell', 'NN'), ('tower', 'NN'), ('upgrades', 'JJ'), ('electrical', 'JJ'), ('mechanical', 'JJ'), ('plumbing', 'NN'), ('at', 'IN'), ('min', 'NN'), ('and', 'CC'), ('solar', 'JJ'), ('panels', 'NNS'), ('swimming', 'VBG'), ('pools', 'JJ'), ('foundations', 'NNS'), ('at', 'IN'), ('any', 'DT'), ('valuation', 'NN')]   \n",
       "3                                                                                                                                                                                 [('police', 'NNS'), ('report', 'NN'), ('filed', 'VBD'), ('to', 'TO'), ('an', 'DT'), ('officer', 'NN'), ('against', 'IN'), ('wayne', 'JJ'), ('parris', 'JJ'), ('dob', 'NN'), ('from', 'IN'), ('brittany', 'JJ'), ('j', 'NN'), ('parris', 'VBD'), ('the', 'DT'), ('paperwork', 'NN'), ('i', 'NN'), ('have', 'VBP'), ('has', 'VBZ'), ('a', 'DT'), ('case', 'NN'), ('number', 'NN'), ('d', 'NN'), ('it', 'PRP'), ('is', 'VBZ'), ('also', 'RB'), ('stamped', 'VBN'), ('at', 'IN'), ('the', 'DT'), ('bottom', 'NN'), ('with', 'IN'), ('iím', 'JJ'), ('not', 'RB'), ('sure', 'JJ'), ('which', 'WDT'), ('number', 'NN'), ('you', 'PRP'), ('will', 'MD'), ('need', 'VB'), ('if', 'IN'), ('there', 'EX'), ('is', 'VBZ'), ('any', 'DT'), ('other', 'JJ'), ('information', 'NN'), ('needed', 'VBN'), ('please', 'NN'), ('let', 'VB'), ('me', 'PRP'), ('know', 'VB')]   \n",
       "4                                                                                                                                                             [('email', 'NN'), ('communications', 'NNS'), ('between', 'IN'), ('stephanie', 'JJ'), ('shook', 'NN'), ('dave', 'VBP'), ('kraski', 'VBN'), ('bruce', 'NN'), ('stedman', 'NN'), ('and', 'CC'), ('chad', 'VBD'), ('schmidt', 'VBN'), ('in', 'IN'), ('regards', 'NNS'), ('to', 'TO'), ('fire', 'VB'), ('protection', 'NN'), ('district', 'NN'), ('billing', 'NN'), ('and', 'CC'), ('passage', 'NN'), ('of', 'IN'), ('contract', 'NN'), ('for', 'IN'), ('als', 'NNS'), ('services', 'NNS'), ('also', 'RB'), ('any', 'DT'), ('copies', 'NNS'), ('of', 'IN'), ('agenda', 'NN'), ('bills', 'NNS'), ('d', 'VBP'), ('contract', 'NN'), ('and', 'CC'), ('materials', 'NNS'), ('presented', 'VBN'), ('for', 'IN'), ('review', 'NN'), ('in', 'IN'), ('novdec', 'JJ'), ('time', 'NN'), ('frame', 'NN'), ('in', 'IN'), ('regards', 'NNS'), ('to', 'TO'), ('the', 'DT'), ('contract', 'NN')]   \n",
       "\n",
       "                                                                                                                                                                                                                                                                                                                                                                                                             mash  mash_len                                                                                                                                                                                                                                                                                                                                                     mash2  \\\n",
       "0  ['work', 'engineering', 'firm', 'upcoming', 'project', 'ask', 'u', 'gather', 'map', 'project', 'would', 'able', 'assist', 'gather', 'mapsrecords', 'build', 'underground', 'water', 'facility', 'may', 'something', 'show', 'route', 'water', 'line', 'would', 'th', 'st', 'ne', 'nd', 'ave', 'ne', 'cascade', 'survey', 'engineering', 'attach', 'scope', 'convenience', 'please', 'let', 'know', 'question']        35  ['work', 'engineering', 'firm', 'upcoming', 'project', 'ask', 'u', 'gather', 'map', 'project', 'able', 'assist', 'gather', 'mapsrecords', 'build', 'underground', 'water', 'facility', 'may', 'something', 'show', 'route', 'water', 'line', 'ne', 'ave', 'ne', 'cascade', 'survey', 'engineering', 'attach', 'scope', 'convenience', 'let', 'question']   \n",
       "1                                                                                                                                                                                                  ['need', 'copy', 'contract', 'related', 'document', 'pertain', 'topcub', 'aircraft', 'property', 'locate', 'th', 'dr', 'ne', 'wa', 'airport', 'topcub', 'aircraft', 'city', 'hci', 'steel', 'building', 'pud']        16                                                                                                                                                                                            ['contract', 'related', 'pertain', 'topcub', 'aircraft', 'property', 'locate', 'dr', 'ne', 'airport', 'topcub', 'aircraft', 'hci', 'steel', 'building', 'pud']   \n",
       "2                                                                                                                                                                                                     ['copy', 'build', 'permit', 'valuation', 'min', 'reroofs', 'min', 'cell', 'tower', 'upgrades', 'electrical', 'mechanical', 'plumbing', 'min', 'solar', 'panel', 'swim', 'pools', 'foundation', 'valuation']        19                                                                                                                                                       ['build', 'permit', 'valuation', 'min', 'reroofs', 'min', 'cell', 'tower', 'upgrades', 'electrical', 'mechanical', 'plumbing', 'min', 'solar', 'panel', 'swim', 'pools', 'foundation', 'valuation']   \n",
       "3                                                                                                                                                                         ['police', 'report', 'file', 'officer', 'wayne', 'parris', 'dob', 'brittany', 'j', 'parris', 'paperwork', 'case', 'number', 'also', 'stamp', 'bottom', 'iím', 'sure', 'number', 'need', 'information', 'need', 'please', 'let', 'know']        19                                                                                                                                                                              ['police', 'file', 'officer', 'wayne', 'parris', 'dob', 'brittany', 'j', 'parris', 'paperwork', 'case', 'number', 'also', 'stamp', 'bottom', 'iím', 'sure', 'number', 'let']   \n",
       "4                                                                        ['email', 'communication', 'stephanie', 'shook', 'dave', 'kraski', 'bruce', 'stedman', 'chad', 'schmidt', 'regard', 'fire', 'protection', 'district', 'billing', 'passage', 'contract', 'al', 'service', 'also', 'copy', 'agenda', 'bill', 'contract', 'material', 'present', 'review', 'novdec', 'time', 'frame', 'regard', 'contract']        31                          ['email', 'communication', 'stephanie', 'shook', 'dave', 'kraski', 'bruce', 'stedman', 'chad', 'schmidt', 'regard', 'fire', 'protection', 'district', 'billing', 'passage', 'contract', 'al', 'service', 'also', 'agenda', 'bill', 'contract', 'material', 'present', 'review', 'novdec', 'time', 'frame', 'regard', 'contract']   \n",
       "\n",
       "                                                                                                                                                                                                                                                  topic_comp  top_topic  \n",
       "0                                                                                                                           [(7, 0.09604314), (13, 0.48129252), (23, 0.08388889), (26, 0.028333332), (36, 0.046881348), (40, 0.20528331), (45, 0.034388628)]         13  \n",
       "1                                                                                                                           [(0, 0.06119562), (4, 0.06), (7, 0.0636481), (10, 0.06), (21, 0.06), (23, 0.35411763), (30, 0.17280331), (31, 0.06), (40, 0.06)]         23  \n",
       "2                                                                                                                                                          [(6, 0.051), (9, 0.301), (14, 0.0964918), (16, 0.151), (24, 0.151), (30, 0.1555082), (43, 0.051)]          9  \n",
       "3                                                                                                     [(6, 0.051), (10, 0.051), (19, 0.40245643), (26, 0.051), (32, 0.100999996), (40, 0.06733556), (41, 0.122129455), (46, 0.060958017), (47, 0.052120566)]         19  \n",
       "4  [(0, 0.056624137), (4, 0.05052807), (9, 0.031875), (10, 0.1276441), (12, 0.032091897), (13, 0.0371861), (19, 0.037854712), (22, 0.031875), (31, 0.032796264), (39, 0.039937887), (44, 0.095466696), (47, 0.1405718), (48, 0.028277082), (49, 0.23477125)]         49  "
      ]
     },
     "execution_count": 5,
     "metadata": {},
     "output_type": "execute_result"
    }
   ],
   "source": [
    "data.head()"
   ]
  },
  {
   "cell_type": "code",
   "execution_count": 6,
   "metadata": {},
   "outputs": [
    {
     "data": {
      "text/plain": [
       "(73898, 13)"
      ]
     },
     "execution_count": 6,
     "metadata": {},
     "output_type": "execute_result"
    }
   ],
   "source": [
    "data.shape"
   ]
  },
  {
   "cell_type": "code",
   "execution_count": 7,
   "metadata": {
    "collapsed": true
   },
   "outputs": [],
   "source": [
    "data2 = data[~data['top_topic'].isna()]"
   ]
  },
  {
   "cell_type": "code",
   "execution_count": 8,
   "metadata": {},
   "outputs": [
    {
     "data": {
      "text/plain": [
       "(73898, 13)"
      ]
     },
     "execution_count": 8,
     "metadata": {},
     "output_type": "execute_result"
    }
   ],
   "source": [
    "data2.shape"
   ]
  },
  {
   "cell_type": "code",
   "execution_count": 15,
   "metadata": {},
   "outputs": [
    {
     "data": {
      "image/png": "[encoded data removed]",
      "text/plain": [
       "<Figure size 432x288 with 1 Axes>"
      ]
     },
     "metadata": {},
     "output_type": "display_data"
    }
   ],
   "source": [
    "data['top_topic'].hist(bins=50)\n",
    "plt.title('Count by Topic')\n",
    "plt.show()"
   ]
  },
  {
   "cell_type": "code",
   "execution_count": 19,
   "metadata": {
    "collapsed": true
   },
   "outputs": [],
   "source": [
    "lda_50_45 = gensim.models.ldamodel.LdaModel.load('lda_50_45_model')"
   ]
  },
  {
   "cell_type": "code",
   "execution_count": 21,
   "metadata": {
    "collapsed": true
   },
   "outputs": [],
   "source": [
    "topics_to_csv(data, 50)"
   ]
  },
  {
   "cell_type": "code",
   "execution_count": null,
   "metadata": {
    "collapsed": true
   },
   "outputs": [],
   "source": []
  }
 ],
 "metadata": {
  "kernelspec": {
   "display_name": "Python 3",
   "language": "python",
   "name": "python3"
  },
  "language_info": {
   "codemirror_mode": {
    "name": "ipython",
    "version": 3
   },
   "file_extension": ".py",
   "mimetype": "text/x-python",
   "name": "python",
   "nbconvert_exporter": "python",
   "pygments_lexer": "ipython3",
   "version": "3.6.3"
  }
 },
 "nbformat": 4,
 "nbformat_minor": 2
}
