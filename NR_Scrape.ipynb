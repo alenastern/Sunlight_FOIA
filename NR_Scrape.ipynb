{
 "cells": [
  {
   "cell_type": "code",
   "execution_count": 1,
   "metadata": {
    "collapsed": true
   },
   "outputs": [],
   "source": [
    "# Import packages\n",
    "\n",
    "import  pandas  as  pd\n",
    "import numpy as np\n",
    "import os\n",
    "import json\n",
    "import sys\n",
    "import re\n",
    "import bs4\n",
    "import queue\n",
    "import csv\n",
    "import requests"
   ]
  },
  {
   "cell_type": "code",
   "execution_count": null,
   "metadata": {
    "collapsed": true
   },
   "outputs": [],
   "source": []
  },
  {
   "cell_type": "code",
   "execution_count": 139,
   "metadata": {
    "collapsed": true
   },
   "outputs": [],
   "source": [
    "cities = ['Albuquerque']\n",
    "\n",
    "for city in cities:\n",
    "    fn = '{}.csv'.format(city)\n",
    "    with open(fn, 'w') as csvfile:\n",
    "        fieldnames = ['id', 'status', 'requester', 'request', 'departments', 'cost', 'PoC']\n",
    "        writer = csv.DictWriter(csvfile, fieldnames = fieldnames, delimiter = ',')\n",
    "\n",
    "        writer.writeheader()\n",
    "        \n",
    "        req = requests.get('https://nextrequest.cabq.gov/requests')\n",
    "\n",
    "        for i in range(2, 479):\n",
    "            html = req.text.encode('utf8')\n",
    "            soup = bs4.BeautifulSoup(html, \"html5lib\")\n",
    "            rl = soup.tbody.find_all('tr', class_ = \" demo-data-false\") \n",
    "            for prr in rl:\n",
    "                cl = list(prr.children)\n",
    "                writer.writerow({'id': cl[1].a.strong.contents[0],\n",
    "                                'status': cl[3]['class'][1],\n",
    "                                'requester': cl[5].get_text().lstrip().rstrip(),\n",
    "                                'request': cl[7].a.contents[0].lstrip().rstrip(),\n",
    "                                'departments': cl[9].get_text().lstrip().rstrip(),\n",
    "                                'cost': cl[11].get_text().lstrip().rstrip().strip('$'),\n",
    "                                'PoC': cl[13].get_text().lstrip().rstrip()})\n",
    "            url = 'https://nextrequest.cabq.gov/requests?requests_smart_listing[page]={}'.format(i)\n",
    "            req = requests.get(url)"
   ]
  },
  {
   "cell_type": "code",
   "execution_count": 2,
   "metadata": {
    "collapsed": true
   },
   "outputs": [],
   "source": [
    "req = requests.get('https://nextrequest.cabq.gov/requests')"
   ]
  },
  {
   "cell_type": "code",
   "execution_count": 77,
   "metadata": {},
   "outputs": [],
   "source": [
    "html = req.text.encode('iso-8859-1')\n",
    "soup = bs4.BeautifulSoup(html, \"html5lib\")\n",
    "rl = soup.tbody.find(\"tr\", class_ =\" demo-data-false\") "
   ]
  },
  {
   "cell_type": "code",
   "execution_count": 78,
   "metadata": {},
   "outputs": [],
   "source": [
    "cl = list(rl.children)\n"
   ]
  },
  {
   "cell_type": "code",
   "execution_count": 70,
   "metadata": {},
   "outputs": [
    {
     "data": {
      "text/plain": [
       "'18-3387'"
      ]
     },
     "execution_count": 70,
     "metadata": {},
     "output_type": "execute_result"
    }
   ],
   "source": [
    "cl[1].a.strong.contents[0]"
   ]
  },
  {
   "cell_type": "code",
   "execution_count": 71,
   "metadata": {},
   "outputs": [
    {
     "data": {
      "text/plain": [
       "'open'"
      ]
     },
     "execution_count": 71,
     "metadata": {},
     "output_type": "execute_result"
    }
   ],
   "source": [
    "cl[3]['class'][1]"
   ]
  },
  {
   "cell_type": "code",
   "execution_count": 86,
   "metadata": {},
   "outputs": [
    {
     "data": {
      "text/plain": [
       "'EstherAbeyta'"
      ]
     },
     "execution_count": 86,
     "metadata": {},
     "output_type": "execute_result"
    }
   ],
   "source": [
    "\"\".join(cl[5].get_text().split())"
   ]
  },
  {
   "cell_type": "code",
   "execution_count": 88,
   "metadata": {},
   "outputs": [
    {
     "data": {
      "text/plain": [
       "'Esther Abeyta'"
      ]
     },
     "execution_count": 88,
     "metadata": {},
     "output_type": "execute_result"
    }
   ],
   "source": [
    "cl[5].get_text().lstrip().rstrip()"
   ]
  },
  {
   "cell_type": "code",
   "execution_count": 93,
   "metadata": {},
   "outputs": [
    {
     "data": {
      "text/plain": [
       "'Meeting presentation'"
      ]
     },
     "execution_count": 93,
     "metadata": {},
     "output_type": "execute_result"
    }
   ],
   "source": [
    "cl[7].a.contents[0]"
   ]
  },
  {
   "cell_type": "code",
   "execution_count": 96,
   "metadata": {},
   "outputs": [
    {
     "data": {
      "text/plain": [
       "'Environmental Health'"
      ]
     },
     "execution_count": 96,
     "metadata": {},
     "output_type": "execute_result"
    }
   ],
   "source": [
    "cl[9].get_text().lstrip().rstrip()"
   ]
  },
  {
   "cell_type": "code",
   "execution_count": 100,
   "metadata": {},
   "outputs": [
    {
     "data": {
      "text/plain": [
       "'1.08'"
      ]
     },
     "execution_count": 100,
     "metadata": {},
     "output_type": "execute_result"
    }
   ],
   "source": [
    "cl[11].get_text().lstrip().rstrip().strip('$')"
   ]
  },
  {
   "cell_type": "code",
   "execution_count": 104,
   "metadata": {},
   "outputs": [
    {
     "data": {
      "text/plain": [
       "'Kendra Lawson'"
      ]
     },
     "execution_count": 104,
     "metadata": {},
     "output_type": "execute_result"
    }
   ],
   "source": [
    "cl[13].get_text().lstrip().rstrip()"
   ]
  },
  {
   "cell_type": "code",
   "execution_count": 110,
   "metadata": {
    "collapsed": true
   },
   "outputs": [],
   "source": [
    "rl = soup.tbody.find_all('tr', class_ = \" demo-data-false\") "
   ]
  },
  {
   "cell_type": "code",
   "execution_count": 136,
   "metadata": {
    "collapsed": true
   },
   "outputs": [],
   "source": [
    "prr = rl[21]"
   ]
  },
  {
   "cell_type": "code",
   "execution_count": 137,
   "metadata": {},
   "outputs": [
    {
     "data": {
      "text/plain": [
       "<tr class=\" demo-data-false\">\n",
       "          <td>\n",
       "            <a href=\"/requests/18-3315\">\n",
       "              <strong>18-3315</strong>\n",
       "</a>          </td>\n",
       "\n",
       "              <td class=\"request-status open\">\n",
       "                <div><i class=\"fas fa-folder-open large\"></i></div>\n",
       "              </td>\n",
       "\n",
       "            <td>\n",
       "              Sally Dyer\n",
       "            </td>\n",
       "\n",
       "\n",
       "          <td><a href=\"/requests/18-3315\">�\n",
       "HR Records�</a></td>\n",
       "\n",
       "\n",
       "            <td>Albuquerque Police Department; Human Resources</td>\n",
       "\n",
       "            <td>$4.63</td>\n",
       "\n",
       "          <td>Kathleen Oney </td>\n",
       "        </tr>"
      ]
     },
     "execution_count": 137,
     "metadata": {},
     "output_type": "execute_result"
    }
   ],
   "source": [
    "prr"
   ]
  },
  {
   "cell_type": "code",
   "execution_count": 121,
   "metadata": {
    "collapsed": true
   },
   "outputs": [],
   "source": [
    "cl = list(prr.children)"
   ]
  },
  {
   "cell_type": "code",
   "execution_count": 124,
   "metadata": {},
   "outputs": [],
   "source": [
    "d = {'id': cl[1].a.strong.contents[0],\n",
    "                                'status': cl[3]['class'][1],\n",
    "                                'requester': cl[5].get_text().lstrip().rstrip(),\n",
    "                                'request': cl[7].a.contents[0],\n",
    "                                'departments': cl[9].get_text().lstrip().rstrip(),\n",
    "                                'cost': cl[11].get_text().lstrip().rstrip().strip('$'),\n",
    "                                'PoC': cl[13].get_text().lstrip().rstrip()}"
   ]
  },
  {
   "cell_type": "code",
   "execution_count": 123,
   "metadata": {},
   "outputs": [
    {
     "data": {
      "text/plain": [
       "['18-3395']"
      ]
     },
     "execution_count": 123,
     "metadata": {},
     "output_type": "execute_result"
    }
   ],
   "source": []
  },
  {
   "cell_type": "code",
   "execution_count": null,
   "metadata": {
    "collapsed": true
   },
   "outputs": [],
   "source": []
  }
 ],
 "metadata": {
  "kernelspec": {
   "display_name": "Python 3",
   "language": "python",
   "name": "python3"
  },
  "language_info": {
   "codemirror_mode": {
    "name": "ipython",
    "version": 3
   },
   "file_extension": ".py",
   "mimetype": "text/x-python",
   "name": "python",
   "nbconvert_exporter": "python",
   "pygments_lexer": "ipython3",
   "version": "3.6.3"
  }
 },
 "nbformat": 4,
 "nbformat_minor": 2
}
