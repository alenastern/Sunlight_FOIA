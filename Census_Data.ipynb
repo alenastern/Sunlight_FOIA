{
 "cells": [
  {
   "cell_type": "code",
   "execution_count": 1,
   "metadata": {
    "collapsed": true
   },
   "outputs": [],
   "source": [
    "import pandas as pd\n",
    "import numpy as np\n",
    "from sodapy import Socrata\n",
    "import os\n",
    "import requests\n",
    "import matplotlib.pyplot as plt\n",
    "import pyproj\n",
    "import datetime\n",
    "import json\n",
    "%matplotlib inline"
   ]
  },
  {
   "cell_type": "code",
   "execution_count": 9,
   "metadata": {
    "collapsed": true
   },
   "outputs": [],
   "source": [
    "#62156\n",
    "acs_results_2016 = requests.get('https://api.census.gov/data/2016/acs/acs1/profile?get=NAME,DP05_0009PE,DP05_0066PE,DP05_0032PE,DP05_0033PE,DP05_0017E,DP04_0134E,DP03_0062E,DP02_0064PE&for=place:*&key=91aa6a44edb890abeea862f2d9befb5d520a5cc4')\n",
    "\n"
   ]
  },
  {
   "cell_type": "code",
   "execution_count": 10,
   "metadata": {},
   "outputs": [
    {
     "data": {
      "text/plain": [
       "200"
      ]
     },
     "execution_count": 10,
     "metadata": {},
     "output_type": "execute_result"
    }
   ],
   "source": [
    "acs_results_2016.status_code"
   ]
  },
  {
   "cell_type": "code",
   "execution_count": 11,
   "metadata": {
    "collapsed": true
   },
   "outputs": [],
   "source": [
    "data = acs_results_2016.text\n",
    "total_df = pd.read_json(data)"
   ]
  },
  {
   "cell_type": "code",
   "execution_count": 12,
   "metadata": {},
   "outputs": [
    {
     "data": {
      "text/html": [
       "<div>\n",
       "<style scoped>\n",
       "    .dataframe tbody tr th:only-of-type {\n",
       "        vertical-align: middle;\n",
       "    }\n",
       "\n",
       "    .dataframe tbody tr th {\n",
       "        vertical-align: top;\n",
       "    }\n",
       "\n",
       "    .dataframe thead th {\n",
       "        text-align: right;\n",
       "    }\n",
       "</style>\n",
       "<table border=\"1\" class=\"dataframe\">\n",
       "  <thead>\n",
       "    <tr style=\"text-align: right;\">\n",
       "      <th></th>\n",
       "      <th>0</th>\n",
       "      <th>1</th>\n",
       "      <th>2</th>\n",
       "      <th>3</th>\n",
       "      <th>4</th>\n",
       "      <th>5</th>\n",
       "      <th>6</th>\n",
       "      <th>7</th>\n",
       "      <th>8</th>\n",
       "      <th>9</th>\n",
       "      <th>10</th>\n",
       "    </tr>\n",
       "  </thead>\n",
       "  <tbody>\n",
       "    <tr>\n",
       "      <th>0</th>\n",
       "      <td>NAME</td>\n",
       "      <td>DP05_0009PE</td>\n",
       "      <td>DP05_0066PE</td>\n",
       "      <td>DP05_0032PE</td>\n",
       "      <td>DP05_0033PE</td>\n",
       "      <td>DP05_0017E</td>\n",
       "      <td>DP04_0134E</td>\n",
       "      <td>DP03_0062E</td>\n",
       "      <td>DP02_0064PE</td>\n",
       "      <td>state</td>\n",
       "      <td>place</td>\n",
       "    </tr>\n",
       "    <tr>\n",
       "      <th>1</th>\n",
       "      <td>Birmingham city, Alabama</td>\n",
       "      <td>17.2</td>\n",
       "      <td>3.6</td>\n",
       "      <td>24.6</td>\n",
       "      <td>71.3</td>\n",
       "      <td>36.0</td>\n",
       "      <td>777</td>\n",
       "      <td>36241</td>\n",
       "      <td>16.9</td>\n",
       "      <td>01</td>\n",
       "      <td>07000</td>\n",
       "    </tr>\n",
       "    <tr>\n",
       "      <th>2</th>\n",
       "      <td>Dothan city, Alabama</td>\n",
       "      <td>13.6</td>\n",
       "      <td>2.9</td>\n",
       "      <td>60.9</td>\n",
       "      <td>35.0</td>\n",
       "      <td>38.9</td>\n",
       "      <td>720</td>\n",
       "      <td>42336</td>\n",
       "      <td>14.7</td>\n",
       "      <td>01</td>\n",
       "      <td>21184</td>\n",
       "    </tr>\n",
       "    <tr>\n",
       "      <th>3</th>\n",
       "      <td>Hoover city, Alabama</td>\n",
       "      <td>15.3</td>\n",
       "      <td>7.6</td>\n",
       "      <td>70.9</td>\n",
       "      <td>16.7</td>\n",
       "      <td>36.6</td>\n",
       "      <td>1021</td>\n",
       "      <td>79004</td>\n",
       "      <td>34.1</td>\n",
       "      <td>01</td>\n",
       "      <td>35896</td>\n",
       "    </tr>\n",
       "    <tr>\n",
       "      <th>4</th>\n",
       "      <td>Huntsville city, Alabama</td>\n",
       "      <td>14.3</td>\n",
       "      <td>6.3</td>\n",
       "      <td>60.6</td>\n",
       "      <td>31.5</td>\n",
       "      <td>35.6</td>\n",
       "      <td>766</td>\n",
       "      <td>51895</td>\n",
       "      <td>25.7</td>\n",
       "      <td>01</td>\n",
       "      <td>37000</td>\n",
       "    </tr>\n",
       "  </tbody>\n",
       "</table>\n",
       "</div>"
      ],
      "text/plain": [
       "                         0            1            2            3   \\\n",
       "0                      NAME  DP05_0009PE  DP05_0066PE  DP05_0032PE   \n",
       "1  Birmingham city, Alabama         17.2          3.6         24.6   \n",
       "2      Dothan city, Alabama         13.6          2.9         60.9   \n",
       "3      Hoover city, Alabama         15.3          7.6         70.9   \n",
       "4  Huntsville city, Alabama         14.3          6.3         60.6   \n",
       "\n",
       "            4           5           6           7            8      9      10  \n",
       "0  DP05_0033PE  DP05_0017E  DP04_0134E  DP03_0062E  DP02_0064PE  state  place  \n",
       "1         71.3        36.0         777       36241         16.9     01  07000  \n",
       "2         35.0        38.9         720       42336         14.7     01  21184  \n",
       "3         16.7        36.6        1021       79004         34.1     01  35896  \n",
       "4         31.5        35.6         766       51895         25.7     01  37000  "
      ]
     },
     "execution_count": 12,
     "metadata": {},
     "output_type": "execute_result"
    }
   ],
   "source": [
    "total_df.head()"
   ]
  },
  {
   "cell_type": "code",
   "execution_count": 16,
   "metadata": {},
   "outputs": [],
   "source": [
    "total_df.columns = total_df.iloc[0]\n",
    "total_df.drop([0], inplace = True) \n",
    "variables = {'DP05_0009PE':\"pct_25_34\",'DP05_0003PE':\"pct_women\",'DP05_0066PE': \"pct_hispanic\",\n",
    "             'DP05_0032PE': \"pct_white\",'DP05_0033PE':\"pct_black\",'DP05_0017E':\"median_age\",'DP04_0134E':\"gross_rent\",\n",
    "             'DP03_0062E': \"median_hh_income\",'DP02_0064PE':\"pct_bachelor\"}\n",
    "total_df.rename(columns = variables, inplace=True)"
   ]
  },
  {
   "cell_type": "code",
   "execution_count": 17,
   "metadata": {},
   "outputs": [
    {
     "data": {
      "text/html": [
       "<div>\n",
       "<style scoped>\n",
       "    .dataframe tbody tr th:only-of-type {\n",
       "        vertical-align: middle;\n",
       "    }\n",
       "\n",
       "    .dataframe tbody tr th {\n",
       "        vertical-align: top;\n",
       "    }\n",
       "\n",
       "    .dataframe thead th {\n",
       "        text-align: right;\n",
       "    }\n",
       "</style>\n",
       "<table border=\"1\" class=\"dataframe\">\n",
       "  <thead>\n",
       "    <tr style=\"text-align: right;\">\n",
       "      <th></th>\n",
       "      <th>NAME</th>\n",
       "      <th>pct_25_34</th>\n",
       "      <th>pct_hispanic</th>\n",
       "      <th>pct_white</th>\n",
       "      <th>pct_black</th>\n",
       "      <th>median_age</th>\n",
       "      <th>gross_rent</th>\n",
       "      <th>median_hh_income</th>\n",
       "      <th>pct_bachelor</th>\n",
       "      <th>state</th>\n",
       "      <th>place</th>\n",
       "    </tr>\n",
       "  </thead>\n",
       "  <tbody>\n",
       "    <tr>\n",
       "      <th>1</th>\n",
       "      <td>Birmingham city, Alabama</td>\n",
       "      <td>17.2</td>\n",
       "      <td>3.6</td>\n",
       "      <td>24.6</td>\n",
       "      <td>71.3</td>\n",
       "      <td>36.0</td>\n",
       "      <td>777</td>\n",
       "      <td>36241</td>\n",
       "      <td>16.9</td>\n",
       "      <td>01</td>\n",
       "      <td>07000</td>\n",
       "    </tr>\n",
       "    <tr>\n",
       "      <th>2</th>\n",
       "      <td>Dothan city, Alabama</td>\n",
       "      <td>13.6</td>\n",
       "      <td>2.9</td>\n",
       "      <td>60.9</td>\n",
       "      <td>35.0</td>\n",
       "      <td>38.9</td>\n",
       "      <td>720</td>\n",
       "      <td>42336</td>\n",
       "      <td>14.7</td>\n",
       "      <td>01</td>\n",
       "      <td>21184</td>\n",
       "    </tr>\n",
       "    <tr>\n",
       "      <th>3</th>\n",
       "      <td>Hoover city, Alabama</td>\n",
       "      <td>15.3</td>\n",
       "      <td>7.6</td>\n",
       "      <td>70.9</td>\n",
       "      <td>16.7</td>\n",
       "      <td>36.6</td>\n",
       "      <td>1021</td>\n",
       "      <td>79004</td>\n",
       "      <td>34.1</td>\n",
       "      <td>01</td>\n",
       "      <td>35896</td>\n",
       "    </tr>\n",
       "    <tr>\n",
       "      <th>4</th>\n",
       "      <td>Huntsville city, Alabama</td>\n",
       "      <td>14.3</td>\n",
       "      <td>6.3</td>\n",
       "      <td>60.6</td>\n",
       "      <td>31.5</td>\n",
       "      <td>35.6</td>\n",
       "      <td>766</td>\n",
       "      <td>51895</td>\n",
       "      <td>25.7</td>\n",
       "      <td>01</td>\n",
       "      <td>37000</td>\n",
       "    </tr>\n",
       "    <tr>\n",
       "      <th>5</th>\n",
       "      <td>Mobile city, Alabama</td>\n",
       "      <td>15.8</td>\n",
       "      <td>2.5</td>\n",
       "      <td>46.4</td>\n",
       "      <td>49.8</td>\n",
       "      <td>36.9</td>\n",
       "      <td>804</td>\n",
       "      <td>39463</td>\n",
       "      <td>18.9</td>\n",
       "      <td>01</td>\n",
       "      <td>50000</td>\n",
       "    </tr>\n",
       "  </tbody>\n",
       "</table>\n",
       "</div>"
      ],
      "text/plain": [
       "0                      NAME pct_25_34 pct_hispanic pct_white pct_black  \\\n",
       "1  Birmingham city, Alabama      17.2          3.6      24.6      71.3   \n",
       "2      Dothan city, Alabama      13.6          2.9      60.9      35.0   \n",
       "3      Hoover city, Alabama      15.3          7.6      70.9      16.7   \n",
       "4  Huntsville city, Alabama      14.3          6.3      60.6      31.5   \n",
       "5      Mobile city, Alabama      15.8          2.5      46.4      49.8   \n",
       "\n",
       "0 median_age gross_rent median_hh_income pct_bachelor state  place  \n",
       "1       36.0        777            36241         16.9    01  07000  \n",
       "2       38.9        720            42336         14.7    01  21184  \n",
       "3       36.6       1021            79004         34.1    01  35896  \n",
       "4       35.6        766            51895         25.7    01  37000  \n",
       "5       36.9        804            39463         18.9    01  50000  "
      ]
     },
     "execution_count": 17,
     "metadata": {},
     "output_type": "execute_result"
    }
   ],
   "source": [
    "total_df.head()"
   ]
  },
  {
   "cell_type": "code",
   "execution_count": null,
   "metadata": {
    "collapsed": true
   },
   "outputs": [],
   "source": []
  }
 ],
 "metadata": {
  "kernelspec": {
   "display_name": "Python 3",
   "language": "python",
   "name": "python3"
  },
  "language_info": {
   "codemirror_mode": {
    "name": "ipython",
    "version": 3
   },
   "file_extension": ".py",
   "mimetype": "text/x-python",
   "name": "python",
   "nbconvert_exporter": "python",
   "pygments_lexer": "ipython3",
   "version": "3.6.3"
  }
 },
 "nbformat": 4,
 "nbformat_minor": 2
}
